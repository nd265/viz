{
 "cells": [
  {
   "cell_type": "markdown",
   "id": "4f5006f9",
   "metadata": {},
   "source": [
    "# Effective data visualization\n",
    "\n",
    "\n",
    "\n",
    "## Overview \n",
    "This chapter will introduce concepts and tools relating to data visualization\n",
    "beyond what we have seen and practiced so far.  We will focus on guiding\n",
    "principles for effective data visualization and explaining visualizations\n",
    "independent of any particular tool or programming language.  In the process, we\n",
    "will cover some specifics of creating visualizations (scatter plots, bar\n",
    "plots, line plots, and histograms) for data using Python. \n",
    "\n",
    "## Chapter learning objectives\n",
    "\n",
    "By the end of the chapter, readers will be able to do the following:\n",
    "\n",
    "\n",
    "- Given a data set and a question, select from the above plot types and use Python to create a visualization that best answers the question.\n",
    "- Given a visualization and a question, evaluate the effectiveness of the visualization and suggest improvements to better answer the question.\n",
    "- Referring to the visualization, communicate the conclusions in non-technical terms.\n",
    "- Identify rules of thumb for creating effective visualizations. \n",
    "- Define the two key aspects of altair objects:\n",
    "    - mark objects\n",
    "    - encodings\n",
    "- Use the altair library in Python to create and refine the above visualizations using:\n",
    "    - mark objects: mark_point, mark_line, mark_bar\n",
    "    - encodings : x, y, fill, color, shape\n",
    "    - subplots: facet\n",
    "- Describe the difference in raster and vector output formats.\n",
    "- Use `chart.save()` to save visualizations in `.png` and `.svg` format.\n",
    "\n",
    "## Choosing the visualization\n",
    "#### *Ask a question, and answer it* {-}\n",
    "\n",
    "The purpose of a visualization is to answer a question\n",
    "\\index{question!visualization} about a data set of interest. So naturally, the\n",
    "first thing to do **before** creating a visualization is to formulate the\n",
    "question about the data you are trying to answer.  A good visualization will\n",
    "clearly answer your question without distraction; a *great* visualization will\n",
    "suggest even what the question was itself without additional explanation.\n",
    "Imagine your visualization as part of a poster presentation for a project; even\n",
    "if you aren't standing at the poster explaining things, an effective\n",
    "visualization will convey your message to the audience.\n",
    "\n",
    "Recall the different data analysis questions \n",
    "from Chapter \\@ref(intro). \n",
    "With the visualizations we will cover in this chapter, \n",
    "we will be able to answer *only descriptive and exploratory* questions. \n",
    "Be careful to not answer any *predictive, inferential, causal* \n",
    "*or mechanistic* questions with the visualizations presented here, \n",
    "as we have not learned the tools necessary to do that properly just yet.  \n",
    "\n",
    "As with most coding tasks, it is totally fine (and quite common) to make\n",
    "mistakes and iterate a few times before you find the right visualization for\n",
    "your data and question. There are many different kinds of plotting\n",
    "graphics available to use (see Chapter 5 of *Fundamentals of Data Visualization* [@wilkeviz] for a directory). \n",
    "The types of plot that we introduce in this book are shown in Figure \\@ref(fig:plot-sketches);\n",
    "which one you should select depends on your data \n",
    "and the question you want to answer. \n",
    "In general, the guiding principles of when to use each type of plot \n",
    "are as follows:\n",
    "\n",
    "\\index{visualization!line}\n",
    "\\index{visualization!histogram}\n",
    "\\index{visualization!scatter}\n",
    "\\index{visualization!bar}\n",
    "\n",
    "- **scatter plots** visualize the relationship between two quantitative variables\n",
    "- **line plots** visualize trends with respect to an independent, ordered quantity (e.g., time)\n",
    "- **bar plots** visualize comparisons of amounts\n",
    "- **histograms** visualize the distribution of one quantitative variable (i.e., all its possible values and how often they occur) \\index{distribution}\n",
    "\n",
    "```{r plot-sketches, echo = FALSE, fig.width = 4.5, fig.height = 4.65, fig.align = 'center', fig.cap = \"Examples of scatter, line and bar plots, as well as histograms.\"}\n",
    "set.seed(1)\n",
    "\n",
    "scatter_plot <- tibble(x = seq(0.25, 10, by = 0.5) + rnorm(20, 1, 1.5),\n",
    "                       y = seq(0.25, 10, by = 0.5) + rnorm(20, 1, 0.5)) |>\n",
    "  ggplot(aes(x = x, y = y)) +\n",
    "  geom_point() +\n",
    "  scale_x_continuous(limits = c(0, 12), breaks = seq(0, 12, by = 3)) +\n",
    "  scale_y_continuous(limits = c(0, 12), breaks = seq(0, 12, by = 3)) +\n",
    "  ggtitle(\"Scatter plot\") +\n",
    "  theme_classic()\n",
    "\n",
    "line_plot <- tibble(x = seq(0.5, 10, by = 1) + rnorm(10, 1, 0.5),\n",
    "                       y = seq(0.5, 10, by = 1) + rnorm(10, 1, 0.1)) |>\n",
    "  ggplot(aes(x = x, y = y)) +\n",
    "  geom_line() +\n",
    "  scale_x_continuous(limits = c(0, 12), breaks = seq(0, 12, by = 3)) +\n",
    "  scale_y_continuous(limits = c(0, 12), breaks = seq(0, 12, by = 3)) +\n",
    "  ggtitle(\"Line plot\") +\n",
    "  theme_classic()\n",
    "\n",
    "bar_plot <- tibble(count = c(35, 27, 21),\n",
    "                   category = as_factor(c(\"Group 1\", \"Group 2\", \"Group 3\"))) |>\n",
    "  ggplot(aes(y = count, x = category)) +\n",
    "  geom_bar(stat = \"identity\") +\n",
    "  ggtitle(\"Bar plot\") +\n",
    "  theme_classic()\n",
    "\n",
    "histogram_plot <- tibble(measurements = rnorm(200, 25, 5)) |>\n",
    "  ggplot(aes(x = measurements)) +\n",
    "  geom_histogram(binwidth = 3) +\n",
    "  ggtitle(\"Histogram\") +\n",
    "  theme_classic()\n",
    "\n",
    "plot_grid(scatter_plot,\n",
    "          line_plot,\n",
    "          bar_plot,\n",
    "          histogram_plot,\n",
    "          ncol = 2, \n",
    "          greedy = FALSE)\n",
    "```\n",
    "\n",
    "All types of visualization have their (mis)uses, but three kinds are usually\n",
    "hard to understand or are easily replaced with an oft-better alternative.  In\n",
    "particular, you should avoid **pie charts**; it is generally better to use\n",
    "bars, as it is easier to compare bar heights than pie slice sizes.  You should\n",
    "also not use **3-D visualizations**, as they are typically hard to understand\n",
    "when converted to a static 2-D image format. Finally, do not use tables to make\n",
    "numerical comparisons; humans are much better at quickly processing visual\n",
    "information than text and math. Bar plots are again typically a better\n",
    "alternative."
   ]
  },
  {
   "cell_type": "markdown",
   "id": "5de18905",
   "metadata": {},
   "source": [
    "## Refining the visualization\n",
    "#### *Convey the message, minimize noise* {-}\n",
    "\n",
    "Just being able to make a visualization in Python with `altair` (or any other tool\n",
    "for that matter) doesn't mean that it effectively communicates your message to\n",
    "others. Once you have selected a broad type of visualization to use, you will\n",
    "have to refine it to suit your particular need.  Some rules of thumb for doing\n",
    "this are listed below. They generally fall into two classes: you want to \n",
    "*make your visualization convey your message*, and you want to *reduce visual noise*\n",
    "as much as possible. Humans have limited cognitive ability to process\n",
    "information; both of these types of refinement aim to reduce the mental load on\n",
    "your audience when viewing your visualization, making it easier for them to\n",
    "understand and remember your message quickly.\n",
    "\n",
    "**Convey the message**\n",
    "\n",
    "- Make sure the visualization answers the question you have asked most simply and plainly as possible.\n",
    "- Use legends and labels so that your visualization is understandable without reading the surrounding text.\n",
    "- Ensure the text, symbols, lines, etc., on your visualization are big enough to be easily read.\n",
    "- Ensure the data are clearly visible; don't hide the shape/distribution of the data behind other objects (e.g.,  a bar).\n",
    "- Make sure to use color schemes that are understandable by those with\n",
    "  colorblindness (a surprisingly large fraction of the overall \n",
    "  population&mdash;from about 1% to 10%, depending on sex and ancestry [@deebblind]).\n",
    "  For example, [Color Schemes](https://vega.github.io/vega/docs/schemes/) \n",
    "  provides the ability to pick such color schemes, and you can check\n",
    "  your visualizations after you have created them by uploading to online tools\n",
    "  such as a [color blindness simulator](https://www.color-blindness.com/coblis-color-blindness-simulator/).\n",
    "- Redundancy can be helpful; sometimes conveying the same message in multiple ways reinforces it for the audience.\n",
    "\n",
    "**Minimize noise**\n",
    "\n",
    "- Use colors sparingly. Too many different colors can be distracting, create false patterns, and detract from the message. \n",
    "- Be wary of overplotting. Overplotting is when marks that represent the data\n",
    "  overlap, and is problematic as it prevents you from seeing how many data\n",
    "  points are represented in areas of the visualization where this occurs. If your\n",
    "  plot has too many dots or lines and starts to look like a mess, you need to do\n",
    "  something different.\n",
    "- Only make the plot area (where the dots, lines, bars are) as big as needed. Simple plots can be made small.\n",
    "- Don't adjust the axes to zoom in on small differences. If the difference is small, show that it's small!"
   ]
  },
  {
   "cell_type": "markdown",
   "id": "e7ea7a96",
   "metadata": {},
   "source": [
    "## Creating visualizations with `altair` \n",
    "#### *Build the visualization iteratively* {-}\n",
    "\n",
    "This section will cover examples of how to choose and refine a visualization given a data set and a question that you want to answer, \n",
    "and then how to create the visualization in Python \\index{ggplot} using `altair`.  To use the `altair` package, we need to import the `altair` package. We will also import `pandas` in order to support reading and other data related operations."
   ]
  },
  {
   "cell_type": "code",
   "execution_count": 1,
   "id": "4b95228c",
   "metadata": {},
   "outputs": [],
   "source": [
    "import pandas as pd\n",
    "import altair as alt"
   ]
  },
  {
   "cell_type": "code",
   "execution_count": 2,
   "id": "052bdca8",
   "metadata": {
    "tags": [
     "remove-cell"
    ]
   },
   "outputs": [],
   "source": [
    "from myst_nb import glue"
   ]
  },
  {
   "cell_type": "markdown",
   "id": "7b89c86c",
   "metadata": {},
   "source": [
    "### Scatter plots and line plots: the Mauna Loa CO$_{\\text{2}}$ data set\n",
    "\n",
    "The [Mauna Loa CO$_{\\text{2}}$ data set](https://www.esrl.noaa.gov/gmd/ccgg/trends/data.html), \n",
    "curated by Dr. Pieter Tans, NOAA/GML \n",
    "and Dr. Ralph Keeling, Scripps Institution of Oceanography,\n",
    "records the atmospheric concentration of carbon dioxide \n",
    "(CO$_{\\text{2}}$, in parts per million) \n",
    "at the Mauna Loa research station in \\index{Mauna Loa} Hawaii \n",
    "from 1959 onward [@maunadata].\n",
    "For this book, we are going to focus on the last 40 years of the data set,\n",
    "1980-2020.\n",
    "\n",
    "**Question:** \\index{question!visualization} \n",
    "Does the concentration of atmospheric CO$_{\\text{2}}$ change over time, \n",
    "and are there any interesting patterns to note?"
   ]
  },
  {
   "cell_type": "code",
   "execution_count": 3,
   "id": "b29ef34d",
   "metadata": {
    "tags": [
     "remove-cell"
    ]
   },
   "outputs": [],
   "source": [
    "mauna_loa = pd.read_csv(\"data/mauna_loa.csv\")\n",
    "mauna_loa['day']=1\n",
    "mauna_loa['date_measured']=pd.to_datetime(mauna_loa[[\"year\", \"month\", \"day\"]])\n",
    "mauna_loa = mauna_loa[['date_measured', 'ppm']].query('ppm>0 and date_measured>\"1980-1-1\"')\n",
    "mauna_loa.to_csv(\"data/mauna_loa_data.csv\", index=False)"
   ]
  },
  {
   "cell_type": "markdown",
   "id": "b8fd18f0",
   "metadata": {},
   "source": [
    "To get started, we will read and inspect the data:"
   ]
  },
  {
   "cell_type": "code",
   "execution_count": 4,
   "id": "d909a55e",
   "metadata": {},
   "outputs": [
    {
     "data": {
      "text/html": [
       "<div>\n",
       "<style scoped>\n",
       "    .dataframe tbody tr th:only-of-type {\n",
       "        vertical-align: middle;\n",
       "    }\n",
       "\n",
       "    .dataframe tbody tr th {\n",
       "        vertical-align: top;\n",
       "    }\n",
       "\n",
       "    .dataframe thead th {\n",
       "        text-align: right;\n",
       "    }\n",
       "</style>\n",
       "<table border=\"1\" class=\"dataframe\">\n",
       "  <thead>\n",
       "    <tr style=\"text-align: right;\">\n",
       "      <th></th>\n",
       "      <th>date_measured</th>\n",
       "      <th>ppm</th>\n",
       "    </tr>\n",
       "  </thead>\n",
       "  <tbody>\n",
       "    <tr>\n",
       "      <th>0</th>\n",
       "      <td>1980-02-01</td>\n",
       "      <td>338.34</td>\n",
       "    </tr>\n",
       "    <tr>\n",
       "      <th>1</th>\n",
       "      <td>1980-03-01</td>\n",
       "      <td>340.01</td>\n",
       "    </tr>\n",
       "    <tr>\n",
       "      <th>2</th>\n",
       "      <td>1980-04-01</td>\n",
       "      <td>340.93</td>\n",
       "    </tr>\n",
       "    <tr>\n",
       "      <th>3</th>\n",
       "      <td>1980-05-01</td>\n",
       "      <td>341.48</td>\n",
       "    </tr>\n",
       "    <tr>\n",
       "      <th>4</th>\n",
       "      <td>1980-06-01</td>\n",
       "      <td>341.33</td>\n",
       "    </tr>\n",
       "    <tr>\n",
       "      <th>...</th>\n",
       "      <td>...</td>\n",
       "      <td>...</td>\n",
       "    </tr>\n",
       "    <tr>\n",
       "      <th>479</th>\n",
       "      <td>2020-02-01</td>\n",
       "      <td>414.11</td>\n",
       "    </tr>\n",
       "    <tr>\n",
       "      <th>480</th>\n",
       "      <td>2020-03-01</td>\n",
       "      <td>414.51</td>\n",
       "    </tr>\n",
       "    <tr>\n",
       "      <th>481</th>\n",
       "      <td>2020-04-01</td>\n",
       "      <td>416.21</td>\n",
       "    </tr>\n",
       "    <tr>\n",
       "      <th>482</th>\n",
       "      <td>2020-05-01</td>\n",
       "      <td>417.07</td>\n",
       "    </tr>\n",
       "    <tr>\n",
       "      <th>483</th>\n",
       "      <td>2020-06-01</td>\n",
       "      <td>416.39</td>\n",
       "    </tr>\n",
       "  </tbody>\n",
       "</table>\n",
       "<p>484 rows × 2 columns</p>\n",
       "</div>"
      ],
      "text/plain": [
       "    date_measured     ppm\n",
       "0      1980-02-01  338.34\n",
       "1      1980-03-01  340.01\n",
       "2      1980-04-01  340.93\n",
       "3      1980-05-01  341.48\n",
       "4      1980-06-01  341.33\n",
       "..            ...     ...\n",
       "479    2020-02-01  414.11\n",
       "480    2020-03-01  414.51\n",
       "481    2020-04-01  416.21\n",
       "482    2020-05-01  417.07\n",
       "483    2020-06-01  416.39\n",
       "\n",
       "[484 rows x 2 columns]"
      ]
     },
     "execution_count": 4,
     "metadata": {},
     "output_type": "execute_result"
    }
   ],
   "source": [
    "# mauna loa carbon dioxide data\n",
    "co2_df = pd.read_csv(\"data/mauna_loa_data.csv\", parse_dates=['date_measured'])\n",
    "co2_df"
   ]
  },
  {
   "cell_type": "code",
   "execution_count": 5,
   "id": "b370e212",
   "metadata": {},
   "outputs": [
    {
     "data": {
      "text/plain": [
       "date_measured    datetime64[ns]\n",
       "ppm                     float64\n",
       "dtype: object"
      ]
     },
     "execution_count": 5,
     "metadata": {},
     "output_type": "execute_result"
    }
   ],
   "source": [
    "co2_df.dtypes"
   ]
  },
  {
   "cell_type": "markdown",
   "id": "e968a888",
   "metadata": {},
   "source": [
    "We see that there are two columns in the `co2_df` data frame; `date_measured` and `ppm`. \n",
    "The `date_measured` column holds the date the measurement was taken, \n",
    "and is of type `datetime64`.\n",
    "The `ppm` column holds the value of CO$_{\\text{2}}$ in parts per million \n",
    "that was measured on each date, and is type `float64`.\n",
    "\n",
    "> **Note:** `read_csv` was able to parse the `date_measured` column into the\n",
    "> `datetime` vector type because it was entered \n",
    "> in the international standard date format, \n",
    "> called ISO 8601, which lists dates as `year-month-day` and we used `parse_dates=True`\n",
    "> `datetime` vectors are `double` vectors with special properties that allow \n",
    "> them to handle dates correctly.\n",
    "> For example, `datetime` type vectors allow functions like `altair` \n",
    "> to treat them as numeric dates and not as character vectors, \n",
    "> even though they contain non-numeric characters \n",
    "> (e.g., in the `date_measured` column in the `co2_df` data frame).\n",
    "> This means Python will not accidentally plot the dates in the wrong order \n",
    "> (i.e., not alphanumerically as would happen if it was a character vector). \n",
    "> An in-depth study of dates and times is beyond the scope of the book, \n",
    "> but interested readers \n",
    "> may consult the Dates and Times chapter of *R for Data Science* [@wickham2016r];\n",
    "> see the additional resources at the end of this chapter.\n",
    "\n",
    "Since we are investigating a relationship between two variables \n",
    "(CO$_{\\text{2}}$ concentration and date), \n",
    "a scatter plot is a good place to start. \n",
    "Scatter plots show the data as individual points with `x` (horizontal axis) \n",
    "and `y` (vertical axis) coordinates.\n",
    "Here, we will use the measurement date as the `x` coordinate \n",
    "and the CO$_{\\text{2}}$ concentration as the `y` coordinate.  \n",
    "while using the `altair` package, We create a plot object with the `alt.chart()` function. \n",
    "There are a few basic aspects of a plot that we need to specify:\n",
    "\\index{ggplot!aesthetic mapping}\n",
    "\\index{ggplot!geometric object}\n",
    "\n",
    "The fundamental object in Altair is the `Chart`, which takes a data frame as a single argument `alt.Chart(co2_df)`\n",
    "\n",
    "With a chart object in hand, we can now specify how we would like the data to be visualized. We first indicate what kind of geometric `mark` we want to use to represent the data. We can set the `mark` attribute of the chart object using the the `Chart.mark_*` methods.\n",
    "\n",
    "- The name of the data frame object to visualize.\n",
    "    - Here, we specify the `co2_df` data frame.\n",
    "- The **aesthetic mapping**, which tells \\index{aesthetic mapping} `ggplot` how the columns in the data frame map to properties of the visualization.\n",
    "    - To create an aesthetic mapping, we use the `aes` function.\n",
    "    - Here, we set the plot `x` axis to the `date_measured` variable, and the plot `y` axis to the `ppm` variable.\n",
    "\n",
    "- The **geometric object**, which specifies \\index{aesthetic mapping} how the mapped data should be displayed.\n",
    "    - To create a geometric object, we use a `geom_*` function (see the [ggplot reference](https://ggplot2.tidyverse.org/reference/) for a list of geometric objects).\n",
    "    - Here, we use the `geom_point` function to visualize our data as a scatter plot.\n",
    "\n",
    "Figure \\@ref(fig:03-ggplot-function-scatter) \n",
    "shows how each of these aspects map to code\n",
    "for creating a basic scatter plot of the `co2_df` data.\n",
    "Note that we could pass many other possible arguments to the aesthetic mapping\n",
    "and geometric object to change how the plot looks. For the purposes of quickly\n",
    "testing things out to see what they look like, though, we can just start with the\n",
    "default settings.\n",
    "\\index{ggplot!aes}\n",
    "\\index{ggplot!geom\\_point}\n",
    " \n",
    "\n",
    "\n",
    "\n",
    "\n",
    "```{figure} img/ggplot_function_scatter.jpeg\n",
    "---\n",
    "height: 400px\n",
    "name: function_scatter\n",
    "---\n",
    "Creating a scatter plot with the `ggplot` function.\n",
    "```\n",
    "\n",
    "\n",
    "\\newpage"
   ]
  },
  {
   "cell_type": "code",
   "execution_count": 6,
   "id": "a49bae09",
   "metadata": {
    "tags": [
     "remove-cell"
    ]
   },
   "outputs": [],
   "source": [
    "from myst_nb import glue"
   ]
  },
  {
   "cell_type": "code",
   "execution_count": 7,
   "id": "3968c2d7",
   "metadata": {},
   "outputs": [],
   "source": [
    "co2_scatter = alt.Chart(co2_df).mark_point(size=10, color='black').encode(\n",
    "    x = \"date_measured\", \n",
    "    y = alt.Y(\"ppm\", scale=alt.Scale(zero=False)))\n"
   ]
  },
  {
   "cell_type": "code",
   "execution_count": 8,
   "id": "a7b0e85f",
   "metadata": {
    "tags": [
     "remove-cell"
    ]
   },
   "outputs": [
    {
     "data": {
      "text/html": [
       "\n",
       "<div id=\"altair-viz-0a5bd18be6ae4209a8b8db83d3164a89\"></div>\n",
       "<script type=\"text/javascript\">\n",
       "  var VEGA_DEBUG = (typeof VEGA_DEBUG == \"undefined\") ? {} : VEGA_DEBUG;\n",
       "  (function(spec, embedOpt){\n",
       "    let outputDiv = document.currentScript.previousElementSibling;\n",
       "    if (outputDiv.id !== \"altair-viz-0a5bd18be6ae4209a8b8db83d3164a89\") {\n",
       "      outputDiv = document.getElementById(\"altair-viz-0a5bd18be6ae4209a8b8db83d3164a89\");\n",
       "    }\n",
       "    const paths = {\n",
       "      \"vega\": \"https://cdn.jsdelivr.net/npm//vega@5?noext\",\n",
       "      \"vega-lib\": \"https://cdn.jsdelivr.net/npm//vega-lib?noext\",\n",
       "      \"vega-lite\": \"https://cdn.jsdelivr.net/npm//vega-lite@4.17.0?noext\",\n",
       "      \"vega-embed\": \"https://cdn.jsdelivr.net/npm//vega-embed@6?noext\",\n",
       "    };\n",
       "\n",
       "    function maybeLoadScript(lib, version) {\n",
       "      var key = `${lib.replace(\"-\", \"\")}_version`;\n",
       "      return (VEGA_DEBUG[key] == version) ?\n",
       "        Promise.resolve(paths[lib]) :\n",
       "        new Promise(function(resolve, reject) {\n",
       "          var s = document.createElement('script');\n",
       "          document.getElementsByTagName(\"head\")[0].appendChild(s);\n",
       "          s.async = true;\n",
       "          s.onload = () => {\n",
       "            VEGA_DEBUG[key] = version;\n",
       "            return resolve(paths[lib]);\n",
       "          };\n",
       "          s.onerror = () => reject(`Error loading script: ${paths[lib]}`);\n",
       "          s.src = paths[lib];\n",
       "        });\n",
       "    }\n",
       "\n",
       "    function showError(err) {\n",
       "      outputDiv.innerHTML = `<div class=\"error\" style=\"color:red;\">${err}</div>`;\n",
       "      throw err;\n",
       "    }\n",
       "\n",
       "    function displayChart(vegaEmbed) {\n",
       "      vegaEmbed(outputDiv, spec, embedOpt)\n",
       "        .catch(err => showError(`Javascript Error: ${err.message}<br>This usually means there's a typo in your chart specification. See the javascript console for the full traceback.`));\n",
       "    }\n",
       "\n",
       "    if(typeof define === \"function\" && define.amd) {\n",
       "      requirejs.config({paths});\n",
       "      require([\"vega-embed\"], displayChart, err => showError(`Error loading script: ${err.message}`));\n",
       "    } else {\n",
       "      maybeLoadScript(\"vega\", \"5\")\n",
       "        .then(() => maybeLoadScript(\"vega-lite\", \"4.17.0\"))\n",
       "        .then(() => maybeLoadScript(\"vega-embed\", \"6\"))\n",
       "        .catch(showError)\n",
       "        .then(() => displayChart(vegaEmbed));\n",
       "    }\n",
       "  })({\"config\": {\"view\": {\"continuousWidth\": 400, \"continuousHeight\": 300}}, \"data\": {\"name\": \"data-ecfc281786dd23148efa483af3159f83\"}, \"mark\": {\"type\": \"point\", \"color\": \"black\", \"size\": 10}, \"encoding\": {\"x\": {\"field\": \"date_measured\", \"type\": \"temporal\"}, \"y\": {\"field\": \"ppm\", \"scale\": {\"zero\": false}, \"type\": \"quantitative\"}}, \"$schema\": \"https://vega.github.io/schema/vega-lite/v4.17.0.json\", \"datasets\": {\"data-ecfc281786dd23148efa483af3159f83\": [{\"date_measured\": \"1980-02-01T00:00:00\", \"ppm\": 338.34}, {\"date_measured\": \"1980-03-01T00:00:00\", \"ppm\": 340.01}, {\"date_measured\": \"1980-04-01T00:00:00\", \"ppm\": 340.93}, {\"date_measured\": \"1980-05-01T00:00:00\", \"ppm\": 341.48}, {\"date_measured\": \"1980-06-01T00:00:00\", \"ppm\": 341.33}, {\"date_measured\": \"1980-07-01T00:00:00\", \"ppm\": 339.4}, {\"date_measured\": \"1980-08-01T00:00:00\", \"ppm\": 337.7}, {\"date_measured\": \"1980-09-01T00:00:00\", \"ppm\": 336.19}, {\"date_measured\": \"1980-10-01T00:00:00\", \"ppm\": 336.15}, {\"date_measured\": \"1980-11-01T00:00:00\", \"ppm\": 337.27}, {\"date_measured\": \"1980-12-01T00:00:00\", \"ppm\": 338.32}, {\"date_measured\": \"1981-01-01T00:00:00\", \"ppm\": 339.29}, {\"date_measured\": \"1981-02-01T00:00:00\", \"ppm\": 340.55}, {\"date_measured\": \"1981-03-01T00:00:00\", \"ppm\": 341.61}, {\"date_measured\": \"1981-04-01T00:00:00\", \"ppm\": 342.53}, {\"date_measured\": \"1981-05-01T00:00:00\", \"ppm\": 343.03}, {\"date_measured\": \"1981-06-01T00:00:00\", \"ppm\": 342.54}, {\"date_measured\": \"1981-07-01T00:00:00\", \"ppm\": 340.78}, {\"date_measured\": \"1981-08-01T00:00:00\", \"ppm\": 338.44}, {\"date_measured\": \"1981-09-01T00:00:00\", \"ppm\": 336.95}, {\"date_measured\": \"1981-10-01T00:00:00\", \"ppm\": 337.08}, {\"date_measured\": \"1981-11-01T00:00:00\", \"ppm\": 338.58}, {\"date_measured\": \"1981-12-01T00:00:00\", \"ppm\": 339.88}, {\"date_measured\": \"1982-01-01T00:00:00\", \"ppm\": 340.96}, {\"date_measured\": \"1982-02-01T00:00:00\", \"ppm\": 341.73}, {\"date_measured\": \"1982-03-01T00:00:00\", \"ppm\": 342.81}, {\"date_measured\": \"1982-04-01T00:00:00\", \"ppm\": 343.97}, {\"date_measured\": \"1982-05-01T00:00:00\", \"ppm\": 344.63}, {\"date_measured\": \"1982-06-01T00:00:00\", \"ppm\": 343.79}, {\"date_measured\": \"1982-07-01T00:00:00\", \"ppm\": 342.32}, {\"date_measured\": \"1982-08-01T00:00:00\", \"ppm\": 340.09}, {\"date_measured\": \"1982-09-01T00:00:00\", \"ppm\": 338.28}, {\"date_measured\": \"1982-10-01T00:00:00\", \"ppm\": 338.29}, {\"date_measured\": \"1982-11-01T00:00:00\", \"ppm\": 339.6}, {\"date_measured\": \"1982-12-01T00:00:00\", \"ppm\": 340.9}, {\"date_measured\": \"1983-01-01T00:00:00\", \"ppm\": 341.68}, {\"date_measured\": \"1983-02-01T00:00:00\", \"ppm\": 342.9}, {\"date_measured\": \"1983-03-01T00:00:00\", \"ppm\": 343.33}, {\"date_measured\": \"1983-04-01T00:00:00\", \"ppm\": 345.25}, {\"date_measured\": \"1983-05-01T00:00:00\", \"ppm\": 346.03}, {\"date_measured\": \"1983-06-01T00:00:00\", \"ppm\": 345.63}, {\"date_measured\": \"1983-07-01T00:00:00\", \"ppm\": 344.19}, {\"date_measured\": \"1983-08-01T00:00:00\", \"ppm\": 342.27}, {\"date_measured\": \"1983-09-01T00:00:00\", \"ppm\": 340.35}, {\"date_measured\": \"1983-10-01T00:00:00\", \"ppm\": 340.38}, {\"date_measured\": \"1983-11-01T00:00:00\", \"ppm\": 341.59}, {\"date_measured\": \"1983-12-01T00:00:00\", \"ppm\": 343.05}, {\"date_measured\": \"1984-01-01T00:00:00\", \"ppm\": 344.1}, {\"date_measured\": \"1984-02-01T00:00:00\", \"ppm\": 344.79}, {\"date_measured\": \"1984-03-01T00:00:00\", \"ppm\": 345.52}, {\"date_measured\": \"1984-05-01T00:00:00\", \"ppm\": 347.63}, {\"date_measured\": \"1984-06-01T00:00:00\", \"ppm\": 346.98}, {\"date_measured\": \"1984-07-01T00:00:00\", \"ppm\": 345.53}, {\"date_measured\": \"1984-08-01T00:00:00\", \"ppm\": 343.55}, {\"date_measured\": \"1984-09-01T00:00:00\", \"ppm\": 341.4}, {\"date_measured\": \"1984-10-01T00:00:00\", \"ppm\": 341.67}, {\"date_measured\": \"1984-11-01T00:00:00\", \"ppm\": 343.1}, {\"date_measured\": \"1984-12-01T00:00:00\", \"ppm\": 344.7}, {\"date_measured\": \"1985-01-01T00:00:00\", \"ppm\": 345.21}, {\"date_measured\": \"1985-02-01T00:00:00\", \"ppm\": 346.16}, {\"date_measured\": \"1985-03-01T00:00:00\", \"ppm\": 347.74}, {\"date_measured\": \"1985-04-01T00:00:00\", \"ppm\": 348.34}, {\"date_measured\": \"1985-05-01T00:00:00\", \"ppm\": 349.06}, {\"date_measured\": \"1985-06-01T00:00:00\", \"ppm\": 348.38}, {\"date_measured\": \"1985-07-01T00:00:00\", \"ppm\": 346.71}, {\"date_measured\": \"1985-08-01T00:00:00\", \"ppm\": 345.02}, {\"date_measured\": \"1985-09-01T00:00:00\", \"ppm\": 343.27}, {\"date_measured\": \"1985-10-01T00:00:00\", \"ppm\": 343.13}, {\"date_measured\": \"1985-11-01T00:00:00\", \"ppm\": 344.49}, {\"date_measured\": \"1985-12-01T00:00:00\", \"ppm\": 345.88}, {\"date_measured\": \"1986-01-01T00:00:00\", \"ppm\": 346.56}, {\"date_measured\": \"1986-02-01T00:00:00\", \"ppm\": 347.28}, {\"date_measured\": \"1986-03-01T00:00:00\", \"ppm\": 348.01}, {\"date_measured\": \"1986-04-01T00:00:00\", \"ppm\": 349.77}, {\"date_measured\": \"1986-05-01T00:00:00\", \"ppm\": 350.38}, {\"date_measured\": \"1986-06-01T00:00:00\", \"ppm\": 349.93}, {\"date_measured\": \"1986-07-01T00:00:00\", \"ppm\": 348.16}, {\"date_measured\": \"1986-08-01T00:00:00\", \"ppm\": 346.08}, {\"date_measured\": \"1986-09-01T00:00:00\", \"ppm\": 345.22}, {\"date_measured\": \"1986-10-01T00:00:00\", \"ppm\": 344.51}, {\"date_measured\": \"1986-11-01T00:00:00\", \"ppm\": 345.93}, {\"date_measured\": \"1986-12-01T00:00:00\", \"ppm\": 347.22}, {\"date_measured\": \"1987-01-01T00:00:00\", \"ppm\": 348.52}, {\"date_measured\": \"1987-02-01T00:00:00\", \"ppm\": 348.73}, {\"date_measured\": \"1987-03-01T00:00:00\", \"ppm\": 349.73}, {\"date_measured\": \"1987-04-01T00:00:00\", \"ppm\": 351.31}, {\"date_measured\": \"1987-05-01T00:00:00\", \"ppm\": 352.09}, {\"date_measured\": \"1987-06-01T00:00:00\", \"ppm\": 351.53}, {\"date_measured\": \"1987-07-01T00:00:00\", \"ppm\": 350.11}, {\"date_measured\": \"1987-08-01T00:00:00\", \"ppm\": 348.08}, {\"date_measured\": \"1987-09-01T00:00:00\", \"ppm\": 346.52}, {\"date_measured\": \"1987-10-01T00:00:00\", \"ppm\": 346.59}, {\"date_measured\": \"1987-11-01T00:00:00\", \"ppm\": 347.96}, {\"date_measured\": \"1987-12-01T00:00:00\", \"ppm\": 349.16}, {\"date_measured\": \"1988-01-01T00:00:00\", \"ppm\": 350.39}, {\"date_measured\": \"1988-02-01T00:00:00\", \"ppm\": 351.64}, {\"date_measured\": \"1988-03-01T00:00:00\", \"ppm\": 352.4}, {\"date_measured\": \"1988-04-01T00:00:00\", \"ppm\": 353.69}, {\"date_measured\": \"1988-05-01T00:00:00\", \"ppm\": 354.21}, {\"date_measured\": \"1988-06-01T00:00:00\", \"ppm\": 353.72}, {\"date_measured\": \"1988-07-01T00:00:00\", \"ppm\": 352.69}, {\"date_measured\": \"1988-08-01T00:00:00\", \"ppm\": 350.4}, {\"date_measured\": \"1988-09-01T00:00:00\", \"ppm\": 348.92}, {\"date_measured\": \"1988-10-01T00:00:00\", \"ppm\": 349.13}, {\"date_measured\": \"1988-11-01T00:00:00\", \"ppm\": 350.2}, {\"date_measured\": \"1988-12-01T00:00:00\", \"ppm\": 351.41}, {\"date_measured\": \"1989-01-01T00:00:00\", \"ppm\": 352.91}, {\"date_measured\": \"1989-02-01T00:00:00\", \"ppm\": 353.27}, {\"date_measured\": \"1989-03-01T00:00:00\", \"ppm\": 353.96}, {\"date_measured\": \"1989-04-01T00:00:00\", \"ppm\": 355.64}, {\"date_measured\": \"1989-05-01T00:00:00\", \"ppm\": 355.86}, {\"date_measured\": \"1989-06-01T00:00:00\", \"ppm\": 355.37}, {\"date_measured\": \"1989-07-01T00:00:00\", \"ppm\": 353.99}, {\"date_measured\": \"1989-08-01T00:00:00\", \"ppm\": 351.81}, {\"date_measured\": \"1989-09-01T00:00:00\", \"ppm\": 350.05}, {\"date_measured\": \"1989-10-01T00:00:00\", \"ppm\": 350.25}, {\"date_measured\": \"1989-11-01T00:00:00\", \"ppm\": 351.49}, {\"date_measured\": \"1989-12-01T00:00:00\", \"ppm\": 352.85}, {\"date_measured\": \"1990-01-01T00:00:00\", \"ppm\": 353.8}, {\"date_measured\": \"1990-02-01T00:00:00\", \"ppm\": 355.04}, {\"date_measured\": \"1990-03-01T00:00:00\", \"ppm\": 355.73}, {\"date_measured\": \"1990-04-01T00:00:00\", \"ppm\": 356.32}, {\"date_measured\": \"1990-05-01T00:00:00\", \"ppm\": 357.32}, {\"date_measured\": \"1990-06-01T00:00:00\", \"ppm\": 356.34}, {\"date_measured\": \"1990-07-01T00:00:00\", \"ppm\": 354.84}, {\"date_measured\": \"1990-08-01T00:00:00\", \"ppm\": 353.01}, {\"date_measured\": \"1990-09-01T00:00:00\", \"ppm\": 351.31}, {\"date_measured\": \"1990-10-01T00:00:00\", \"ppm\": 351.62}, {\"date_measured\": \"1990-11-01T00:00:00\", \"ppm\": 353.07}, {\"date_measured\": \"1990-12-01T00:00:00\", \"ppm\": 354.33}, {\"date_measured\": \"1991-01-01T00:00:00\", \"ppm\": 354.84}, {\"date_measured\": \"1991-02-01T00:00:00\", \"ppm\": 355.73}, {\"date_measured\": \"1991-03-01T00:00:00\", \"ppm\": 357.23}, {\"date_measured\": \"1991-04-01T00:00:00\", \"ppm\": 358.66}, {\"date_measured\": \"1991-05-01T00:00:00\", \"ppm\": 359.13}, {\"date_measured\": \"1991-06-01T00:00:00\", \"ppm\": 358.13}, {\"date_measured\": \"1991-07-01T00:00:00\", \"ppm\": 356.19}, {\"date_measured\": \"1991-08-01T00:00:00\", \"ppm\": 353.85}, {\"date_measured\": \"1991-09-01T00:00:00\", \"ppm\": 352.25}, {\"date_measured\": \"1991-10-01T00:00:00\", \"ppm\": 352.35}, {\"date_measured\": \"1991-11-01T00:00:00\", \"ppm\": 353.81}, {\"date_measured\": \"1991-12-01T00:00:00\", \"ppm\": 355.12}, {\"date_measured\": \"1992-01-01T00:00:00\", \"ppm\": 356.25}, {\"date_measured\": \"1992-02-01T00:00:00\", \"ppm\": 357.11}, {\"date_measured\": \"1992-03-01T00:00:00\", \"ppm\": 357.86}, {\"date_measured\": \"1992-04-01T00:00:00\", \"ppm\": 359.09}, {\"date_measured\": \"1992-05-01T00:00:00\", \"ppm\": 359.59}, {\"date_measured\": \"1992-06-01T00:00:00\", \"ppm\": 359.33}, {\"date_measured\": \"1992-07-01T00:00:00\", \"ppm\": 357.01}, {\"date_measured\": \"1992-08-01T00:00:00\", \"ppm\": 354.94}, {\"date_measured\": \"1992-09-01T00:00:00\", \"ppm\": 352.95}, {\"date_measured\": \"1992-10-01T00:00:00\", \"ppm\": 353.32}, {\"date_measured\": \"1992-11-01T00:00:00\", \"ppm\": 354.32}, {\"date_measured\": \"1992-12-01T00:00:00\", \"ppm\": 355.57}, {\"date_measured\": \"1993-01-01T00:00:00\", \"ppm\": 357.0}, {\"date_measured\": \"1993-02-01T00:00:00\", \"ppm\": 357.31}, {\"date_measured\": \"1993-03-01T00:00:00\", \"ppm\": 358.47}, {\"date_measured\": \"1993-04-01T00:00:00\", \"ppm\": 359.27}, {\"date_measured\": \"1993-05-01T00:00:00\", \"ppm\": 360.19}, {\"date_measured\": \"1993-06-01T00:00:00\", \"ppm\": 359.52}, {\"date_measured\": \"1993-07-01T00:00:00\", \"ppm\": 357.33}, {\"date_measured\": \"1993-08-01T00:00:00\", \"ppm\": 355.64}, {\"date_measured\": \"1993-09-01T00:00:00\", \"ppm\": 354.03}, {\"date_measured\": \"1993-10-01T00:00:00\", \"ppm\": 354.12}, {\"date_measured\": \"1993-11-01T00:00:00\", \"ppm\": 355.41}, {\"date_measured\": \"1993-12-01T00:00:00\", \"ppm\": 356.91}, {\"date_measured\": \"1994-01-01T00:00:00\", \"ppm\": 358.24}, {\"date_measured\": \"1994-02-01T00:00:00\", \"ppm\": 358.92}, {\"date_measured\": \"1994-03-01T00:00:00\", \"ppm\": 359.99}, {\"date_measured\": \"1994-04-01T00:00:00\", \"ppm\": 361.23}, {\"date_measured\": \"1994-05-01T00:00:00\", \"ppm\": 361.65}, {\"date_measured\": \"1994-06-01T00:00:00\", \"ppm\": 360.81}, {\"date_measured\": \"1994-07-01T00:00:00\", \"ppm\": 359.38}, {\"date_measured\": \"1994-08-01T00:00:00\", \"ppm\": 357.46}, {\"date_measured\": \"1994-09-01T00:00:00\", \"ppm\": 355.73}, {\"date_measured\": \"1994-10-01T00:00:00\", \"ppm\": 356.08}, {\"date_measured\": \"1994-11-01T00:00:00\", \"ppm\": 357.53}, {\"date_measured\": \"1994-12-01T00:00:00\", \"ppm\": 358.98}, {\"date_measured\": \"1995-01-01T00:00:00\", \"ppm\": 359.92}, {\"date_measured\": \"1995-02-01T00:00:00\", \"ppm\": 360.86}, {\"date_measured\": \"1995-03-01T00:00:00\", \"ppm\": 361.83}, {\"date_measured\": \"1995-04-01T00:00:00\", \"ppm\": 363.3}, {\"date_measured\": \"1995-05-01T00:00:00\", \"ppm\": 363.69}, {\"date_measured\": \"1995-06-01T00:00:00\", \"ppm\": 363.19}, {\"date_measured\": \"1995-07-01T00:00:00\", \"ppm\": 361.64}, {\"date_measured\": \"1995-08-01T00:00:00\", \"ppm\": 359.12}, {\"date_measured\": \"1995-09-01T00:00:00\", \"ppm\": 358.17}, {\"date_measured\": \"1995-10-01T00:00:00\", \"ppm\": 357.99}, {\"date_measured\": \"1995-11-01T00:00:00\", \"ppm\": 359.45}, {\"date_measured\": \"1995-12-01T00:00:00\", \"ppm\": 360.68}, {\"date_measured\": \"1996-01-01T00:00:00\", \"ppm\": 362.07}, {\"date_measured\": \"1996-02-01T00:00:00\", \"ppm\": 363.24}, {\"date_measured\": \"1996-03-01T00:00:00\", \"ppm\": 364.17}, {\"date_measured\": \"1996-04-01T00:00:00\", \"ppm\": 364.57}, {\"date_measured\": \"1996-05-01T00:00:00\", \"ppm\": 365.13}, {\"date_measured\": \"1996-06-01T00:00:00\", \"ppm\": 364.92}, {\"date_measured\": \"1996-07-01T00:00:00\", \"ppm\": 363.55}, {\"date_measured\": \"1996-08-01T00:00:00\", \"ppm\": 361.38}, {\"date_measured\": \"1996-09-01T00:00:00\", \"ppm\": 359.54}, {\"date_measured\": \"1996-10-01T00:00:00\", \"ppm\": 359.58}, {\"date_measured\": \"1996-11-01T00:00:00\", \"ppm\": 360.89}, {\"date_measured\": \"1996-12-01T00:00:00\", \"ppm\": 362.24}, {\"date_measured\": \"1997-01-01T00:00:00\", \"ppm\": 363.09}, {\"date_measured\": \"1997-02-01T00:00:00\", \"ppm\": 364.03}, {\"date_measured\": \"1997-03-01T00:00:00\", \"ppm\": 364.51}, {\"date_measured\": \"1997-04-01T00:00:00\", \"ppm\": 366.35}, {\"date_measured\": \"1997-05-01T00:00:00\", \"ppm\": 366.64}, {\"date_measured\": \"1997-06-01T00:00:00\", \"ppm\": 365.59}, {\"date_measured\": \"1997-07-01T00:00:00\", \"ppm\": 364.31}, {\"date_measured\": \"1997-08-01T00:00:00\", \"ppm\": 362.25}, {\"date_measured\": \"1997-09-01T00:00:00\", \"ppm\": 360.29}, {\"date_measured\": \"1997-10-01T00:00:00\", \"ppm\": 360.82}, {\"date_measured\": \"1997-11-01T00:00:00\", \"ppm\": 362.49}, {\"date_measured\": \"1997-12-01T00:00:00\", \"ppm\": 364.38}, {\"date_measured\": \"1998-01-01T00:00:00\", \"ppm\": 365.27}, {\"date_measured\": \"1998-02-01T00:00:00\", \"ppm\": 365.98}, {\"date_measured\": \"1998-03-01T00:00:00\", \"ppm\": 367.24}, {\"date_measured\": \"1998-04-01T00:00:00\", \"ppm\": 368.66}, {\"date_measured\": \"1998-05-01T00:00:00\", \"ppm\": 369.42}, {\"date_measured\": \"1998-06-01T00:00:00\", \"ppm\": 368.99}, {\"date_measured\": \"1998-07-01T00:00:00\", \"ppm\": 367.82}, {\"date_measured\": \"1998-08-01T00:00:00\", \"ppm\": 365.95}, {\"date_measured\": \"1998-09-01T00:00:00\", \"ppm\": 364.02}, {\"date_measured\": \"1998-10-01T00:00:00\", \"ppm\": 364.4}, {\"date_measured\": \"1998-11-01T00:00:00\", \"ppm\": 365.52}, {\"date_measured\": \"1998-12-01T00:00:00\", \"ppm\": 367.13}, {\"date_measured\": \"1999-01-01T00:00:00\", \"ppm\": 368.18}, {\"date_measured\": \"1999-02-01T00:00:00\", \"ppm\": 369.07}, {\"date_measured\": \"1999-03-01T00:00:00\", \"ppm\": 369.68}, {\"date_measured\": \"1999-04-01T00:00:00\", \"ppm\": 370.99}, {\"date_measured\": \"1999-05-01T00:00:00\", \"ppm\": 370.96}, {\"date_measured\": \"1999-06-01T00:00:00\", \"ppm\": 370.3}, {\"date_measured\": \"1999-07-01T00:00:00\", \"ppm\": 369.45}, {\"date_measured\": \"1999-08-01T00:00:00\", \"ppm\": 366.9}, {\"date_measured\": \"1999-09-01T00:00:00\", \"ppm\": 364.81}, {\"date_measured\": \"1999-10-01T00:00:00\", \"ppm\": 365.37}, {\"date_measured\": \"1999-11-01T00:00:00\", \"ppm\": 366.72}, {\"date_measured\": \"1999-12-01T00:00:00\", \"ppm\": 368.1}, {\"date_measured\": \"2000-01-01T00:00:00\", \"ppm\": 369.29}, {\"date_measured\": \"2000-02-01T00:00:00\", \"ppm\": 369.55}, {\"date_measured\": \"2000-03-01T00:00:00\", \"ppm\": 370.6}, {\"date_measured\": \"2000-04-01T00:00:00\", \"ppm\": 371.82}, {\"date_measured\": \"2000-05-01T00:00:00\", \"ppm\": 371.58}, {\"date_measured\": \"2000-06-01T00:00:00\", \"ppm\": 371.7}, {\"date_measured\": \"2000-07-01T00:00:00\", \"ppm\": 369.86}, {\"date_measured\": \"2000-08-01T00:00:00\", \"ppm\": 368.13}, {\"date_measured\": \"2000-09-01T00:00:00\", \"ppm\": 367.0}, {\"date_measured\": \"2000-10-01T00:00:00\", \"ppm\": 367.03}, {\"date_measured\": \"2000-11-01T00:00:00\", \"ppm\": 368.37}, {\"date_measured\": \"2000-12-01T00:00:00\", \"ppm\": 369.67}, {\"date_measured\": \"2001-01-01T00:00:00\", \"ppm\": 370.59}, {\"date_measured\": \"2001-02-01T00:00:00\", \"ppm\": 371.51}, {\"date_measured\": \"2001-03-01T00:00:00\", \"ppm\": 372.43}, {\"date_measured\": \"2001-04-01T00:00:00\", \"ppm\": 373.37}, {\"date_measured\": \"2001-05-01T00:00:00\", \"ppm\": 373.85}, {\"date_measured\": \"2001-06-01T00:00:00\", \"ppm\": 373.22}, {\"date_measured\": \"2001-07-01T00:00:00\", \"ppm\": 371.5}, {\"date_measured\": \"2001-08-01T00:00:00\", \"ppm\": 369.61}, {\"date_measured\": \"2001-09-01T00:00:00\", \"ppm\": 368.18}, {\"date_measured\": \"2001-10-01T00:00:00\", \"ppm\": 368.45}, {\"date_measured\": \"2001-11-01T00:00:00\", \"ppm\": 369.76}, {\"date_measured\": \"2001-12-01T00:00:00\", \"ppm\": 371.24}, {\"date_measured\": \"2002-01-01T00:00:00\", \"ppm\": 372.53}, {\"date_measured\": \"2002-02-01T00:00:00\", \"ppm\": 373.2}, {\"date_measured\": \"2002-03-01T00:00:00\", \"ppm\": 374.12}, {\"date_measured\": \"2002-04-01T00:00:00\", \"ppm\": 375.02}, {\"date_measured\": \"2002-05-01T00:00:00\", \"ppm\": 375.76}, {\"date_measured\": \"2002-06-01T00:00:00\", \"ppm\": 375.52}, {\"date_measured\": \"2002-07-01T00:00:00\", \"ppm\": 374.01}, {\"date_measured\": \"2002-08-01T00:00:00\", \"ppm\": 371.85}, {\"date_measured\": \"2002-09-01T00:00:00\", \"ppm\": 370.75}, {\"date_measured\": \"2002-10-01T00:00:00\", \"ppm\": 370.55}, {\"date_measured\": \"2002-11-01T00:00:00\", \"ppm\": 372.25}, {\"date_measured\": \"2002-12-01T00:00:00\", \"ppm\": 373.79}, {\"date_measured\": \"2003-01-01T00:00:00\", \"ppm\": 374.88}, {\"date_measured\": \"2003-02-01T00:00:00\", \"ppm\": 375.64}, {\"date_measured\": \"2003-03-01T00:00:00\", \"ppm\": 376.45}, {\"date_measured\": \"2003-04-01T00:00:00\", \"ppm\": 377.73}, {\"date_measured\": \"2003-05-01T00:00:00\", \"ppm\": 378.6}, {\"date_measured\": \"2003-06-01T00:00:00\", \"ppm\": 378.28}, {\"date_measured\": \"2003-07-01T00:00:00\", \"ppm\": 376.7}, {\"date_measured\": \"2003-08-01T00:00:00\", \"ppm\": 374.38}, {\"date_measured\": \"2003-09-01T00:00:00\", \"ppm\": 373.17}, {\"date_measured\": \"2003-10-01T00:00:00\", \"ppm\": 373.15}, {\"date_measured\": \"2003-11-01T00:00:00\", \"ppm\": 374.66}, {\"date_measured\": \"2003-12-01T00:00:00\", \"ppm\": 375.99}, {\"date_measured\": \"2004-01-01T00:00:00\", \"ppm\": 377.0}, {\"date_measured\": \"2004-02-01T00:00:00\", \"ppm\": 377.87}, {\"date_measured\": \"2004-03-01T00:00:00\", \"ppm\": 378.88}, {\"date_measured\": \"2004-04-01T00:00:00\", \"ppm\": 380.35}, {\"date_measured\": \"2004-05-01T00:00:00\", \"ppm\": 380.62}, {\"date_measured\": \"2004-06-01T00:00:00\", \"ppm\": 379.69}, {\"date_measured\": \"2004-07-01T00:00:00\", \"ppm\": 377.47}, {\"date_measured\": \"2004-08-01T00:00:00\", \"ppm\": 376.01}, {\"date_measured\": \"2004-09-01T00:00:00\", \"ppm\": 374.25}, {\"date_measured\": \"2004-10-01T00:00:00\", \"ppm\": 374.46}, {\"date_measured\": \"2004-11-01T00:00:00\", \"ppm\": 376.16}, {\"date_measured\": \"2004-12-01T00:00:00\", \"ppm\": 377.51}, {\"date_measured\": \"2005-01-01T00:00:00\", \"ppm\": 378.46}, {\"date_measured\": \"2005-02-01T00:00:00\", \"ppm\": 379.73}, {\"date_measured\": \"2005-03-01T00:00:00\", \"ppm\": 380.77}, {\"date_measured\": \"2005-04-01T00:00:00\", \"ppm\": 382.29}, {\"date_measured\": \"2005-05-01T00:00:00\", \"ppm\": 382.45}, {\"date_measured\": \"2005-06-01T00:00:00\", \"ppm\": 382.21}, {\"date_measured\": \"2005-07-01T00:00:00\", \"ppm\": 380.74}, {\"date_measured\": \"2005-08-01T00:00:00\", \"ppm\": 378.74}, {\"date_measured\": \"2005-09-01T00:00:00\", \"ppm\": 376.7}, {\"date_measured\": \"2005-10-01T00:00:00\", \"ppm\": 377.0}, {\"date_measured\": \"2005-11-01T00:00:00\", \"ppm\": 378.35}, {\"date_measured\": \"2005-12-01T00:00:00\", \"ppm\": 380.11}, {\"date_measured\": \"2006-01-01T00:00:00\", \"ppm\": 381.38}, {\"date_measured\": \"2006-02-01T00:00:00\", \"ppm\": 382.2}, {\"date_measured\": \"2006-03-01T00:00:00\", \"ppm\": 382.67}, {\"date_measured\": \"2006-04-01T00:00:00\", \"ppm\": 384.61}, {\"date_measured\": \"2006-05-01T00:00:00\", \"ppm\": 385.03}, {\"date_measured\": \"2006-06-01T00:00:00\", \"ppm\": 384.05}, {\"date_measured\": \"2006-07-01T00:00:00\", \"ppm\": 382.46}, {\"date_measured\": \"2006-08-01T00:00:00\", \"ppm\": 380.41}, {\"date_measured\": \"2006-09-01T00:00:00\", \"ppm\": 378.85}, {\"date_measured\": \"2006-10-01T00:00:00\", \"ppm\": 379.13}, {\"date_measured\": \"2006-11-01T00:00:00\", \"ppm\": 380.15}, {\"date_measured\": \"2006-12-01T00:00:00\", \"ppm\": 381.82}, {\"date_measured\": \"2007-01-01T00:00:00\", \"ppm\": 382.89}, {\"date_measured\": \"2007-02-01T00:00:00\", \"ppm\": 383.9}, {\"date_measured\": \"2007-03-01T00:00:00\", \"ppm\": 384.58}, {\"date_measured\": \"2007-04-01T00:00:00\", \"ppm\": 386.5}, {\"date_measured\": \"2007-05-01T00:00:00\", \"ppm\": 386.56}, {\"date_measured\": \"2007-06-01T00:00:00\", \"ppm\": 386.1}, {\"date_measured\": \"2007-07-01T00:00:00\", \"ppm\": 384.5}, {\"date_measured\": \"2007-08-01T00:00:00\", \"ppm\": 381.99}, {\"date_measured\": \"2007-09-01T00:00:00\", \"ppm\": 380.96}, {\"date_measured\": \"2007-10-01T00:00:00\", \"ppm\": 381.12}, {\"date_measured\": \"2007-11-01T00:00:00\", \"ppm\": 382.45}, {\"date_measured\": \"2007-12-01T00:00:00\", \"ppm\": 383.94}, {\"date_measured\": \"2008-01-01T00:00:00\", \"ppm\": 385.52}, {\"date_measured\": \"2008-02-01T00:00:00\", \"ppm\": 385.82}, {\"date_measured\": \"2008-03-01T00:00:00\", \"ppm\": 386.03}, {\"date_measured\": \"2008-04-01T00:00:00\", \"ppm\": 387.21}, {\"date_measured\": \"2008-05-01T00:00:00\", \"ppm\": 388.54}, {\"date_measured\": \"2008-06-01T00:00:00\", \"ppm\": 387.76}, {\"date_measured\": \"2008-07-01T00:00:00\", \"ppm\": 386.37}, {\"date_measured\": \"2008-08-01T00:00:00\", \"ppm\": 384.09}, {\"date_measured\": \"2008-09-01T00:00:00\", \"ppm\": 383.18}, {\"date_measured\": \"2008-10-01T00:00:00\", \"ppm\": 382.99}, {\"date_measured\": \"2008-11-01T00:00:00\", \"ppm\": 384.19}, {\"date_measured\": \"2008-12-01T00:00:00\", \"ppm\": 385.56}, {\"date_measured\": \"2009-01-01T00:00:00\", \"ppm\": 386.94}, {\"date_measured\": \"2009-02-01T00:00:00\", \"ppm\": 387.48}, {\"date_measured\": \"2009-03-01T00:00:00\", \"ppm\": 388.82}, {\"date_measured\": \"2009-04-01T00:00:00\", \"ppm\": 389.55}, {\"date_measured\": \"2009-05-01T00:00:00\", \"ppm\": 390.14}, {\"date_measured\": \"2009-06-01T00:00:00\", \"ppm\": 389.48}, {\"date_measured\": \"2009-07-01T00:00:00\", \"ppm\": 388.03}, {\"date_measured\": \"2009-08-01T00:00:00\", \"ppm\": 386.11}, {\"date_measured\": \"2009-09-01T00:00:00\", \"ppm\": 384.74}, {\"date_measured\": \"2009-10-01T00:00:00\", \"ppm\": 384.43}, {\"date_measured\": \"2009-11-01T00:00:00\", \"ppm\": 386.02}, {\"date_measured\": \"2009-12-01T00:00:00\", \"ppm\": 387.42}, {\"date_measured\": \"2010-01-01T00:00:00\", \"ppm\": 388.71}, {\"date_measured\": \"2010-02-01T00:00:00\", \"ppm\": 390.2}, {\"date_measured\": \"2010-03-01T00:00:00\", \"ppm\": 391.17}, {\"date_measured\": \"2010-04-01T00:00:00\", \"ppm\": 392.46}, {\"date_measured\": \"2010-05-01T00:00:00\", \"ppm\": 393.0}, {\"date_measured\": \"2010-06-01T00:00:00\", \"ppm\": 392.15}, {\"date_measured\": \"2010-07-01T00:00:00\", \"ppm\": 390.2}, {\"date_measured\": \"2010-08-01T00:00:00\", \"ppm\": 388.35}, {\"date_measured\": \"2010-09-01T00:00:00\", \"ppm\": 386.85}, {\"date_measured\": \"2010-10-01T00:00:00\", \"ppm\": 387.24}, {\"date_measured\": \"2010-11-01T00:00:00\", \"ppm\": 388.67}, {\"date_measured\": \"2010-12-01T00:00:00\", \"ppm\": 389.79}, {\"date_measured\": \"2011-01-01T00:00:00\", \"ppm\": 391.33}, {\"date_measured\": \"2011-02-01T00:00:00\", \"ppm\": 391.86}, {\"date_measured\": \"2011-03-01T00:00:00\", \"ppm\": 392.6}, {\"date_measured\": \"2011-04-01T00:00:00\", \"ppm\": 393.25}, {\"date_measured\": \"2011-05-01T00:00:00\", \"ppm\": 394.19}, {\"date_measured\": \"2011-06-01T00:00:00\", \"ppm\": 393.74}, {\"date_measured\": \"2011-07-01T00:00:00\", \"ppm\": 392.51}, {\"date_measured\": \"2011-08-01T00:00:00\", \"ppm\": 390.13}, {\"date_measured\": \"2011-09-01T00:00:00\", \"ppm\": 389.08}, {\"date_measured\": \"2011-10-01T00:00:00\", \"ppm\": 389.0}, {\"date_measured\": \"2011-11-01T00:00:00\", \"ppm\": 390.28}, {\"date_measured\": \"2011-12-01T00:00:00\", \"ppm\": 391.86}, {\"date_measured\": \"2012-01-01T00:00:00\", \"ppm\": 393.12}, {\"date_measured\": \"2012-02-01T00:00:00\", \"ppm\": 393.86}, {\"date_measured\": \"2012-03-01T00:00:00\", \"ppm\": 394.4}, {\"date_measured\": \"2012-04-01T00:00:00\", \"ppm\": 396.18}, {\"date_measured\": \"2012-05-01T00:00:00\", \"ppm\": 396.74}, {\"date_measured\": \"2012-06-01T00:00:00\", \"ppm\": 395.71}, {\"date_measured\": \"2012-07-01T00:00:00\", \"ppm\": 394.36}, {\"date_measured\": \"2012-08-01T00:00:00\", \"ppm\": 392.39}, {\"date_measured\": \"2012-09-01T00:00:00\", \"ppm\": 391.11}, {\"date_measured\": \"2012-10-01T00:00:00\", \"ppm\": 391.05}, {\"date_measured\": \"2012-11-01T00:00:00\", \"ppm\": 392.98}, {\"date_measured\": \"2012-12-01T00:00:00\", \"ppm\": 394.34}, {\"date_measured\": \"2013-01-01T00:00:00\", \"ppm\": 395.55}, {\"date_measured\": \"2013-02-01T00:00:00\", \"ppm\": 396.8}, {\"date_measured\": \"2013-03-01T00:00:00\", \"ppm\": 397.43}, {\"date_measured\": \"2013-04-01T00:00:00\", \"ppm\": 398.41}, {\"date_measured\": \"2013-05-01T00:00:00\", \"ppm\": 399.78}, {\"date_measured\": \"2013-06-01T00:00:00\", \"ppm\": 398.6}, {\"date_measured\": \"2013-07-01T00:00:00\", \"ppm\": 397.32}, {\"date_measured\": \"2013-08-01T00:00:00\", \"ppm\": 395.2}, {\"date_measured\": \"2013-09-01T00:00:00\", \"ppm\": 393.45}, {\"date_measured\": \"2013-10-01T00:00:00\", \"ppm\": 393.7}, {\"date_measured\": \"2013-11-01T00:00:00\", \"ppm\": 395.16}, {\"date_measured\": \"2013-12-01T00:00:00\", \"ppm\": 396.84}, {\"date_measured\": \"2014-01-01T00:00:00\", \"ppm\": 397.85}, {\"date_measured\": \"2014-02-01T00:00:00\", \"ppm\": 398.01}, {\"date_measured\": \"2014-03-01T00:00:00\", \"ppm\": 399.77}, {\"date_measured\": \"2014-04-01T00:00:00\", \"ppm\": 401.38}, {\"date_measured\": \"2014-05-01T00:00:00\", \"ppm\": 401.78}, {\"date_measured\": \"2014-06-01T00:00:00\", \"ppm\": 401.25}, {\"date_measured\": \"2014-07-01T00:00:00\", \"ppm\": 399.1}, {\"date_measured\": \"2014-08-01T00:00:00\", \"ppm\": 397.03}, {\"date_measured\": \"2014-09-01T00:00:00\", \"ppm\": 395.38}, {\"date_measured\": \"2014-10-01T00:00:00\", \"ppm\": 396.03}, {\"date_measured\": \"2014-11-01T00:00:00\", \"ppm\": 397.28}, {\"date_measured\": \"2014-12-01T00:00:00\", \"ppm\": 398.91}, {\"date_measured\": \"2015-01-01T00:00:00\", \"ppm\": 399.98}, {\"date_measured\": \"2015-02-01T00:00:00\", \"ppm\": 400.28}, {\"date_measured\": \"2015-03-01T00:00:00\", \"ppm\": 401.54}, {\"date_measured\": \"2015-04-01T00:00:00\", \"ppm\": 403.28}, {\"date_measured\": \"2015-05-01T00:00:00\", \"ppm\": 403.96}, {\"date_measured\": \"2015-06-01T00:00:00\", \"ppm\": 402.8}, {\"date_measured\": \"2015-07-01T00:00:00\", \"ppm\": 401.31}, {\"date_measured\": \"2015-08-01T00:00:00\", \"ppm\": 398.93}, {\"date_measured\": \"2015-09-01T00:00:00\", \"ppm\": 397.63}, {\"date_measured\": \"2015-10-01T00:00:00\", \"ppm\": 398.29}, {\"date_measured\": \"2015-11-01T00:00:00\", \"ppm\": 400.16}, {\"date_measured\": \"2015-12-01T00:00:00\", \"ppm\": 401.85}, {\"date_measured\": \"2016-01-01T00:00:00\", \"ppm\": 402.56}, {\"date_measured\": \"2016-02-01T00:00:00\", \"ppm\": 404.12}, {\"date_measured\": \"2016-03-01T00:00:00\", \"ppm\": 404.87}, {\"date_measured\": \"2016-04-01T00:00:00\", \"ppm\": 407.45}, {\"date_measured\": \"2016-05-01T00:00:00\", \"ppm\": 407.72}, {\"date_measured\": \"2016-06-01T00:00:00\", \"ppm\": 406.83}, {\"date_measured\": \"2016-07-01T00:00:00\", \"ppm\": 404.41}, {\"date_measured\": \"2016-08-01T00:00:00\", \"ppm\": 402.27}, {\"date_measured\": \"2016-09-01T00:00:00\", \"ppm\": 401.05}, {\"date_measured\": \"2016-10-01T00:00:00\", \"ppm\": 401.59}, {\"date_measured\": \"2016-11-01T00:00:00\", \"ppm\": 403.55}, {\"date_measured\": \"2016-12-01T00:00:00\", \"ppm\": 404.45}, {\"date_measured\": \"2017-01-01T00:00:00\", \"ppm\": 406.17}, {\"date_measured\": \"2017-02-01T00:00:00\", \"ppm\": 406.46}, {\"date_measured\": \"2017-03-01T00:00:00\", \"ppm\": 407.22}, {\"date_measured\": \"2017-04-01T00:00:00\", \"ppm\": 409.04}, {\"date_measured\": \"2017-05-01T00:00:00\", \"ppm\": 409.69}, {\"date_measured\": \"2017-06-01T00:00:00\", \"ppm\": 408.88}, {\"date_measured\": \"2017-07-01T00:00:00\", \"ppm\": 407.12}, {\"date_measured\": \"2017-08-01T00:00:00\", \"ppm\": 405.13}, {\"date_measured\": \"2017-09-01T00:00:00\", \"ppm\": 403.37}, {\"date_measured\": \"2017-10-01T00:00:00\", \"ppm\": 403.63}, {\"date_measured\": \"2017-11-01T00:00:00\", \"ppm\": 405.12}, {\"date_measured\": \"2017-12-01T00:00:00\", \"ppm\": 406.81}, {\"date_measured\": \"2018-01-01T00:00:00\", \"ppm\": 407.96}, {\"date_measured\": \"2018-02-01T00:00:00\", \"ppm\": 408.32}, {\"date_measured\": \"2018-03-01T00:00:00\", \"ppm\": 409.41}, {\"date_measured\": \"2018-04-01T00:00:00\", \"ppm\": 410.24}, {\"date_measured\": \"2018-05-01T00:00:00\", \"ppm\": 411.24}, {\"date_measured\": \"2018-06-01T00:00:00\", \"ppm\": 410.79}, {\"date_measured\": \"2018-07-01T00:00:00\", \"ppm\": 408.71}, {\"date_measured\": \"2018-08-01T00:00:00\", \"ppm\": 406.99}, {\"date_measured\": \"2018-09-01T00:00:00\", \"ppm\": 405.51}, {\"date_measured\": \"2018-10-01T00:00:00\", \"ppm\": 406.0}, {\"date_measured\": \"2018-11-01T00:00:00\", \"ppm\": 408.02}, {\"date_measured\": \"2018-12-01T00:00:00\", \"ppm\": 409.07}, {\"date_measured\": \"2019-01-01T00:00:00\", \"ppm\": 410.83}, {\"date_measured\": \"2019-02-01T00:00:00\", \"ppm\": 411.75}, {\"date_measured\": \"2019-03-01T00:00:00\", \"ppm\": 411.97}, {\"date_measured\": \"2019-04-01T00:00:00\", \"ppm\": 413.33}, {\"date_measured\": \"2019-05-01T00:00:00\", \"ppm\": 414.64}, {\"date_measured\": \"2019-06-01T00:00:00\", \"ppm\": 413.93}, {\"date_measured\": \"2019-07-01T00:00:00\", \"ppm\": 411.74}, {\"date_measured\": \"2019-08-01T00:00:00\", \"ppm\": 409.95}, {\"date_measured\": \"2019-09-01T00:00:00\", \"ppm\": 408.54}, {\"date_measured\": \"2019-10-01T00:00:00\", \"ppm\": 408.52}, {\"date_measured\": \"2019-11-01T00:00:00\", \"ppm\": 410.25}, {\"date_measured\": \"2019-12-01T00:00:00\", \"ppm\": 411.76}, {\"date_measured\": \"2020-01-01T00:00:00\", \"ppm\": 413.39}, {\"date_measured\": \"2020-02-01T00:00:00\", \"ppm\": 414.11}, {\"date_measured\": \"2020-03-01T00:00:00\", \"ppm\": 414.51}, {\"date_measured\": \"2020-04-01T00:00:00\", \"ppm\": 416.21}, {\"date_measured\": \"2020-05-01T00:00:00\", \"ppm\": 417.07}, {\"date_measured\": \"2020-06-01T00:00:00\", \"ppm\": 416.39}]}}, {\"mode\": \"vega-lite\"});\n",
       "</script>"
      ],
      "text/plain": [
       "alt.Chart(...)"
      ]
     },
     "metadata": {
      "scrapbook": {
       "mime_prefix": "",
       "name": "co2_scatter"
      }
     },
     "output_type": "display_data"
    }
   ],
   "source": [
    "glue('co2_scatter', co2_scatter, display=True)"
   ]
  },
  {
   "cell_type": "markdown",
   "id": "38b06a64",
   "metadata": {},
   "source": [
    ":::{glue:figure} co2_scatter \n",
    ":figwidth: 700px \n",
    ":name: co2_scatter\n",
    "\n",
    "Scatter plot of atmospheric concentration of CO$_{2}$ over time.\n",
    ":::\n",
    "\n",
    "Certainly, the visualization in Figure \\@ref(fig:03-data-co2-scatter) \n",
    "shows a clear upward trend \n",
    "in the atmospheric concentration of CO$_{\\text{2}}$ over time.\n",
    "This plot answers the first part of our question in the affirmative, \n",
    "but that appears to be the only conclusion one can make \n",
    "from the scatter visualization. \n",
    "\n",
    "One important thing to note about this data is that one of the variables\n",
    "we are exploring is time.\n",
    "Time is a special kind of quantitative variable \n",
    "because it forces additional structure on the data&mdash;the \n",
    "data points have a natural order. \n",
    "Specifically, each observation in the data set has a predecessor \n",
    "and a successor, and the order of the observations matters; changing their order \n",
    "alters their meaning.\n",
    "In situations like this, we typically use a line plot to visualize\n",
    "the data. Line plots connect the sequence of `x` and `y` coordinates\n",
    "of the observations with line segments, thereby emphasizing their order.\n",
    "\n",
    "We can create a line plot in `altair` using the `mark_line` function. \n",
    "Let's now try to visualize the `co2_df` as a line plot \n",
    "with just the default arguments: \n",
    "\\index{ggplot!geom\\_line}"
   ]
  },
  {
   "cell_type": "code",
   "execution_count": 9,
   "id": "23e69afe",
   "metadata": {},
   "outputs": [],
   "source": [
    "co2_line = alt.Chart(co2_df).mark_line(color='black').encode(\n",
    "    x = \"date_measured\", \n",
    "    y = alt.Y(\"ppm\", scale=alt.Scale(zero=False)))\n",
    "\n"
   ]
  },
  {
   "cell_type": "code",
   "execution_count": 10,
   "id": "88918a65",
   "metadata": {
    "tags": [
     "remove-cell"
    ]
   },
   "outputs": [
    {
     "data": {
      "text/html": [
       "\n",
       "<div id=\"altair-viz-c537886f35704f2798bc98d4d5251c2f\"></div>\n",
       "<script type=\"text/javascript\">\n",
       "  var VEGA_DEBUG = (typeof VEGA_DEBUG == \"undefined\") ? {} : VEGA_DEBUG;\n",
       "  (function(spec, embedOpt){\n",
       "    let outputDiv = document.currentScript.previousElementSibling;\n",
       "    if (outputDiv.id !== \"altair-viz-c537886f35704f2798bc98d4d5251c2f\") {\n",
       "      outputDiv = document.getElementById(\"altair-viz-c537886f35704f2798bc98d4d5251c2f\");\n",
       "    }\n",
       "    const paths = {\n",
       "      \"vega\": \"https://cdn.jsdelivr.net/npm//vega@5?noext\",\n",
       "      \"vega-lib\": \"https://cdn.jsdelivr.net/npm//vega-lib?noext\",\n",
       "      \"vega-lite\": \"https://cdn.jsdelivr.net/npm//vega-lite@4.17.0?noext\",\n",
       "      \"vega-embed\": \"https://cdn.jsdelivr.net/npm//vega-embed@6?noext\",\n",
       "    };\n",
       "\n",
       "    function maybeLoadScript(lib, version) {\n",
       "      var key = `${lib.replace(\"-\", \"\")}_version`;\n",
       "      return (VEGA_DEBUG[key] == version) ?\n",
       "        Promise.resolve(paths[lib]) :\n",
       "        new Promise(function(resolve, reject) {\n",
       "          var s = document.createElement('script');\n",
       "          document.getElementsByTagName(\"head\")[0].appendChild(s);\n",
       "          s.async = true;\n",
       "          s.onload = () => {\n",
       "            VEGA_DEBUG[key] = version;\n",
       "            return resolve(paths[lib]);\n",
       "          };\n",
       "          s.onerror = () => reject(`Error loading script: ${paths[lib]}`);\n",
       "          s.src = paths[lib];\n",
       "        });\n",
       "    }\n",
       "\n",
       "    function showError(err) {\n",
       "      outputDiv.innerHTML = `<div class=\"error\" style=\"color:red;\">${err}</div>`;\n",
       "      throw err;\n",
       "    }\n",
       "\n",
       "    function displayChart(vegaEmbed) {\n",
       "      vegaEmbed(outputDiv, spec, embedOpt)\n",
       "        .catch(err => showError(`Javascript Error: ${err.message}<br>This usually means there's a typo in your chart specification. See the javascript console for the full traceback.`));\n",
       "    }\n",
       "\n",
       "    if(typeof define === \"function\" && define.amd) {\n",
       "      requirejs.config({paths});\n",
       "      require([\"vega-embed\"], displayChart, err => showError(`Error loading script: ${err.message}`));\n",
       "    } else {\n",
       "      maybeLoadScript(\"vega\", \"5\")\n",
       "        .then(() => maybeLoadScript(\"vega-lite\", \"4.17.0\"))\n",
       "        .then(() => maybeLoadScript(\"vega-embed\", \"6\"))\n",
       "        .catch(showError)\n",
       "        .then(() => displayChart(vegaEmbed));\n",
       "    }\n",
       "  })({\"config\": {\"view\": {\"continuousWidth\": 400, \"continuousHeight\": 300}}, \"data\": {\"name\": \"data-ecfc281786dd23148efa483af3159f83\"}, \"mark\": {\"type\": \"line\", \"color\": \"black\"}, \"encoding\": {\"x\": {\"field\": \"date_measured\", \"type\": \"temporal\"}, \"y\": {\"field\": \"ppm\", \"scale\": {\"zero\": false}, \"type\": \"quantitative\"}}, \"$schema\": \"https://vega.github.io/schema/vega-lite/v4.17.0.json\", \"datasets\": {\"data-ecfc281786dd23148efa483af3159f83\": [{\"date_measured\": \"1980-02-01T00:00:00\", \"ppm\": 338.34}, {\"date_measured\": \"1980-03-01T00:00:00\", \"ppm\": 340.01}, {\"date_measured\": \"1980-04-01T00:00:00\", \"ppm\": 340.93}, {\"date_measured\": \"1980-05-01T00:00:00\", \"ppm\": 341.48}, {\"date_measured\": \"1980-06-01T00:00:00\", \"ppm\": 341.33}, {\"date_measured\": \"1980-07-01T00:00:00\", \"ppm\": 339.4}, {\"date_measured\": \"1980-08-01T00:00:00\", \"ppm\": 337.7}, {\"date_measured\": \"1980-09-01T00:00:00\", \"ppm\": 336.19}, {\"date_measured\": \"1980-10-01T00:00:00\", \"ppm\": 336.15}, {\"date_measured\": \"1980-11-01T00:00:00\", \"ppm\": 337.27}, {\"date_measured\": \"1980-12-01T00:00:00\", \"ppm\": 338.32}, {\"date_measured\": \"1981-01-01T00:00:00\", \"ppm\": 339.29}, {\"date_measured\": \"1981-02-01T00:00:00\", \"ppm\": 340.55}, {\"date_measured\": \"1981-03-01T00:00:00\", \"ppm\": 341.61}, {\"date_measured\": \"1981-04-01T00:00:00\", \"ppm\": 342.53}, {\"date_measured\": \"1981-05-01T00:00:00\", \"ppm\": 343.03}, {\"date_measured\": \"1981-06-01T00:00:00\", \"ppm\": 342.54}, {\"date_measured\": \"1981-07-01T00:00:00\", \"ppm\": 340.78}, {\"date_measured\": \"1981-08-01T00:00:00\", \"ppm\": 338.44}, {\"date_measured\": \"1981-09-01T00:00:00\", \"ppm\": 336.95}, {\"date_measured\": \"1981-10-01T00:00:00\", \"ppm\": 337.08}, {\"date_measured\": \"1981-11-01T00:00:00\", \"ppm\": 338.58}, {\"date_measured\": \"1981-12-01T00:00:00\", \"ppm\": 339.88}, {\"date_measured\": \"1982-01-01T00:00:00\", \"ppm\": 340.96}, {\"date_measured\": \"1982-02-01T00:00:00\", \"ppm\": 341.73}, {\"date_measured\": \"1982-03-01T00:00:00\", \"ppm\": 342.81}, {\"date_measured\": \"1982-04-01T00:00:00\", \"ppm\": 343.97}, {\"date_measured\": \"1982-05-01T00:00:00\", \"ppm\": 344.63}, {\"date_measured\": \"1982-06-01T00:00:00\", \"ppm\": 343.79}, {\"date_measured\": \"1982-07-01T00:00:00\", \"ppm\": 342.32}, {\"date_measured\": \"1982-08-01T00:00:00\", \"ppm\": 340.09}, {\"date_measured\": \"1982-09-01T00:00:00\", \"ppm\": 338.28}, {\"date_measured\": \"1982-10-01T00:00:00\", \"ppm\": 338.29}, {\"date_measured\": \"1982-11-01T00:00:00\", \"ppm\": 339.6}, {\"date_measured\": \"1982-12-01T00:00:00\", \"ppm\": 340.9}, {\"date_measured\": \"1983-01-01T00:00:00\", \"ppm\": 341.68}, {\"date_measured\": \"1983-02-01T00:00:00\", \"ppm\": 342.9}, {\"date_measured\": \"1983-03-01T00:00:00\", \"ppm\": 343.33}, {\"date_measured\": \"1983-04-01T00:00:00\", \"ppm\": 345.25}, {\"date_measured\": \"1983-05-01T00:00:00\", \"ppm\": 346.03}, {\"date_measured\": \"1983-06-01T00:00:00\", \"ppm\": 345.63}, {\"date_measured\": \"1983-07-01T00:00:00\", \"ppm\": 344.19}, {\"date_measured\": \"1983-08-01T00:00:00\", \"ppm\": 342.27}, {\"date_measured\": \"1983-09-01T00:00:00\", \"ppm\": 340.35}, {\"date_measured\": \"1983-10-01T00:00:00\", \"ppm\": 340.38}, {\"date_measured\": \"1983-11-01T00:00:00\", \"ppm\": 341.59}, {\"date_measured\": \"1983-12-01T00:00:00\", \"ppm\": 343.05}, {\"date_measured\": \"1984-01-01T00:00:00\", \"ppm\": 344.1}, {\"date_measured\": \"1984-02-01T00:00:00\", \"ppm\": 344.79}, {\"date_measured\": \"1984-03-01T00:00:00\", \"ppm\": 345.52}, {\"date_measured\": \"1984-05-01T00:00:00\", \"ppm\": 347.63}, {\"date_measured\": \"1984-06-01T00:00:00\", \"ppm\": 346.98}, {\"date_measured\": \"1984-07-01T00:00:00\", \"ppm\": 345.53}, {\"date_measured\": \"1984-08-01T00:00:00\", \"ppm\": 343.55}, {\"date_measured\": \"1984-09-01T00:00:00\", \"ppm\": 341.4}, {\"date_measured\": \"1984-10-01T00:00:00\", \"ppm\": 341.67}, {\"date_measured\": \"1984-11-01T00:00:00\", \"ppm\": 343.1}, {\"date_measured\": \"1984-12-01T00:00:00\", \"ppm\": 344.7}, {\"date_measured\": \"1985-01-01T00:00:00\", \"ppm\": 345.21}, {\"date_measured\": \"1985-02-01T00:00:00\", \"ppm\": 346.16}, {\"date_measured\": \"1985-03-01T00:00:00\", \"ppm\": 347.74}, {\"date_measured\": \"1985-04-01T00:00:00\", \"ppm\": 348.34}, {\"date_measured\": \"1985-05-01T00:00:00\", \"ppm\": 349.06}, {\"date_measured\": \"1985-06-01T00:00:00\", \"ppm\": 348.38}, {\"date_measured\": \"1985-07-01T00:00:00\", \"ppm\": 346.71}, {\"date_measured\": \"1985-08-01T00:00:00\", \"ppm\": 345.02}, {\"date_measured\": \"1985-09-01T00:00:00\", \"ppm\": 343.27}, {\"date_measured\": \"1985-10-01T00:00:00\", \"ppm\": 343.13}, {\"date_measured\": \"1985-11-01T00:00:00\", \"ppm\": 344.49}, {\"date_measured\": \"1985-12-01T00:00:00\", \"ppm\": 345.88}, {\"date_measured\": \"1986-01-01T00:00:00\", \"ppm\": 346.56}, {\"date_measured\": \"1986-02-01T00:00:00\", \"ppm\": 347.28}, {\"date_measured\": \"1986-03-01T00:00:00\", \"ppm\": 348.01}, {\"date_measured\": \"1986-04-01T00:00:00\", \"ppm\": 349.77}, {\"date_measured\": \"1986-05-01T00:00:00\", \"ppm\": 350.38}, {\"date_measured\": \"1986-06-01T00:00:00\", \"ppm\": 349.93}, {\"date_measured\": \"1986-07-01T00:00:00\", \"ppm\": 348.16}, {\"date_measured\": \"1986-08-01T00:00:00\", \"ppm\": 346.08}, {\"date_measured\": \"1986-09-01T00:00:00\", \"ppm\": 345.22}, {\"date_measured\": \"1986-10-01T00:00:00\", \"ppm\": 344.51}, {\"date_measured\": \"1986-11-01T00:00:00\", \"ppm\": 345.93}, {\"date_measured\": \"1986-12-01T00:00:00\", \"ppm\": 347.22}, {\"date_measured\": \"1987-01-01T00:00:00\", \"ppm\": 348.52}, {\"date_measured\": \"1987-02-01T00:00:00\", \"ppm\": 348.73}, {\"date_measured\": \"1987-03-01T00:00:00\", \"ppm\": 349.73}, {\"date_measured\": \"1987-04-01T00:00:00\", \"ppm\": 351.31}, {\"date_measured\": \"1987-05-01T00:00:00\", \"ppm\": 352.09}, {\"date_measured\": \"1987-06-01T00:00:00\", \"ppm\": 351.53}, {\"date_measured\": \"1987-07-01T00:00:00\", \"ppm\": 350.11}, {\"date_measured\": \"1987-08-01T00:00:00\", \"ppm\": 348.08}, {\"date_measured\": \"1987-09-01T00:00:00\", \"ppm\": 346.52}, {\"date_measured\": \"1987-10-01T00:00:00\", \"ppm\": 346.59}, {\"date_measured\": \"1987-11-01T00:00:00\", \"ppm\": 347.96}, {\"date_measured\": \"1987-12-01T00:00:00\", \"ppm\": 349.16}, {\"date_measured\": \"1988-01-01T00:00:00\", \"ppm\": 350.39}, {\"date_measured\": \"1988-02-01T00:00:00\", \"ppm\": 351.64}, {\"date_measured\": \"1988-03-01T00:00:00\", \"ppm\": 352.4}, {\"date_measured\": \"1988-04-01T00:00:00\", \"ppm\": 353.69}, {\"date_measured\": \"1988-05-01T00:00:00\", \"ppm\": 354.21}, {\"date_measured\": \"1988-06-01T00:00:00\", \"ppm\": 353.72}, {\"date_measured\": \"1988-07-01T00:00:00\", \"ppm\": 352.69}, {\"date_measured\": \"1988-08-01T00:00:00\", \"ppm\": 350.4}, {\"date_measured\": \"1988-09-01T00:00:00\", \"ppm\": 348.92}, {\"date_measured\": \"1988-10-01T00:00:00\", \"ppm\": 349.13}, {\"date_measured\": \"1988-11-01T00:00:00\", \"ppm\": 350.2}, {\"date_measured\": \"1988-12-01T00:00:00\", \"ppm\": 351.41}, {\"date_measured\": \"1989-01-01T00:00:00\", \"ppm\": 352.91}, {\"date_measured\": \"1989-02-01T00:00:00\", \"ppm\": 353.27}, {\"date_measured\": \"1989-03-01T00:00:00\", \"ppm\": 353.96}, {\"date_measured\": \"1989-04-01T00:00:00\", \"ppm\": 355.64}, {\"date_measured\": \"1989-05-01T00:00:00\", \"ppm\": 355.86}, {\"date_measured\": \"1989-06-01T00:00:00\", \"ppm\": 355.37}, {\"date_measured\": \"1989-07-01T00:00:00\", \"ppm\": 353.99}, {\"date_measured\": \"1989-08-01T00:00:00\", \"ppm\": 351.81}, {\"date_measured\": \"1989-09-01T00:00:00\", \"ppm\": 350.05}, {\"date_measured\": \"1989-10-01T00:00:00\", \"ppm\": 350.25}, {\"date_measured\": \"1989-11-01T00:00:00\", \"ppm\": 351.49}, {\"date_measured\": \"1989-12-01T00:00:00\", \"ppm\": 352.85}, {\"date_measured\": \"1990-01-01T00:00:00\", \"ppm\": 353.8}, {\"date_measured\": \"1990-02-01T00:00:00\", \"ppm\": 355.04}, {\"date_measured\": \"1990-03-01T00:00:00\", \"ppm\": 355.73}, {\"date_measured\": \"1990-04-01T00:00:00\", \"ppm\": 356.32}, {\"date_measured\": \"1990-05-01T00:00:00\", \"ppm\": 357.32}, {\"date_measured\": \"1990-06-01T00:00:00\", \"ppm\": 356.34}, {\"date_measured\": \"1990-07-01T00:00:00\", \"ppm\": 354.84}, {\"date_measured\": \"1990-08-01T00:00:00\", \"ppm\": 353.01}, {\"date_measured\": \"1990-09-01T00:00:00\", \"ppm\": 351.31}, {\"date_measured\": \"1990-10-01T00:00:00\", \"ppm\": 351.62}, {\"date_measured\": \"1990-11-01T00:00:00\", \"ppm\": 353.07}, {\"date_measured\": \"1990-12-01T00:00:00\", \"ppm\": 354.33}, {\"date_measured\": \"1991-01-01T00:00:00\", \"ppm\": 354.84}, {\"date_measured\": \"1991-02-01T00:00:00\", \"ppm\": 355.73}, {\"date_measured\": \"1991-03-01T00:00:00\", \"ppm\": 357.23}, {\"date_measured\": \"1991-04-01T00:00:00\", \"ppm\": 358.66}, {\"date_measured\": \"1991-05-01T00:00:00\", \"ppm\": 359.13}, {\"date_measured\": \"1991-06-01T00:00:00\", \"ppm\": 358.13}, {\"date_measured\": \"1991-07-01T00:00:00\", \"ppm\": 356.19}, {\"date_measured\": \"1991-08-01T00:00:00\", \"ppm\": 353.85}, {\"date_measured\": \"1991-09-01T00:00:00\", \"ppm\": 352.25}, {\"date_measured\": \"1991-10-01T00:00:00\", \"ppm\": 352.35}, {\"date_measured\": \"1991-11-01T00:00:00\", \"ppm\": 353.81}, {\"date_measured\": \"1991-12-01T00:00:00\", \"ppm\": 355.12}, {\"date_measured\": \"1992-01-01T00:00:00\", \"ppm\": 356.25}, {\"date_measured\": \"1992-02-01T00:00:00\", \"ppm\": 357.11}, {\"date_measured\": \"1992-03-01T00:00:00\", \"ppm\": 357.86}, {\"date_measured\": \"1992-04-01T00:00:00\", \"ppm\": 359.09}, {\"date_measured\": \"1992-05-01T00:00:00\", \"ppm\": 359.59}, {\"date_measured\": \"1992-06-01T00:00:00\", \"ppm\": 359.33}, {\"date_measured\": \"1992-07-01T00:00:00\", \"ppm\": 357.01}, {\"date_measured\": \"1992-08-01T00:00:00\", \"ppm\": 354.94}, {\"date_measured\": \"1992-09-01T00:00:00\", \"ppm\": 352.95}, {\"date_measured\": \"1992-10-01T00:00:00\", \"ppm\": 353.32}, {\"date_measured\": \"1992-11-01T00:00:00\", \"ppm\": 354.32}, {\"date_measured\": \"1992-12-01T00:00:00\", \"ppm\": 355.57}, {\"date_measured\": \"1993-01-01T00:00:00\", \"ppm\": 357.0}, {\"date_measured\": \"1993-02-01T00:00:00\", \"ppm\": 357.31}, {\"date_measured\": \"1993-03-01T00:00:00\", \"ppm\": 358.47}, {\"date_measured\": \"1993-04-01T00:00:00\", \"ppm\": 359.27}, {\"date_measured\": \"1993-05-01T00:00:00\", \"ppm\": 360.19}, {\"date_measured\": \"1993-06-01T00:00:00\", \"ppm\": 359.52}, {\"date_measured\": \"1993-07-01T00:00:00\", \"ppm\": 357.33}, {\"date_measured\": \"1993-08-01T00:00:00\", \"ppm\": 355.64}, {\"date_measured\": \"1993-09-01T00:00:00\", \"ppm\": 354.03}, {\"date_measured\": \"1993-10-01T00:00:00\", \"ppm\": 354.12}, {\"date_measured\": \"1993-11-01T00:00:00\", \"ppm\": 355.41}, {\"date_measured\": \"1993-12-01T00:00:00\", \"ppm\": 356.91}, {\"date_measured\": \"1994-01-01T00:00:00\", \"ppm\": 358.24}, {\"date_measured\": \"1994-02-01T00:00:00\", \"ppm\": 358.92}, {\"date_measured\": \"1994-03-01T00:00:00\", \"ppm\": 359.99}, {\"date_measured\": \"1994-04-01T00:00:00\", \"ppm\": 361.23}, {\"date_measured\": \"1994-05-01T00:00:00\", \"ppm\": 361.65}, {\"date_measured\": \"1994-06-01T00:00:00\", \"ppm\": 360.81}, {\"date_measured\": \"1994-07-01T00:00:00\", \"ppm\": 359.38}, {\"date_measured\": \"1994-08-01T00:00:00\", \"ppm\": 357.46}, {\"date_measured\": \"1994-09-01T00:00:00\", \"ppm\": 355.73}, {\"date_measured\": \"1994-10-01T00:00:00\", \"ppm\": 356.08}, {\"date_measured\": \"1994-11-01T00:00:00\", \"ppm\": 357.53}, {\"date_measured\": \"1994-12-01T00:00:00\", \"ppm\": 358.98}, {\"date_measured\": \"1995-01-01T00:00:00\", \"ppm\": 359.92}, {\"date_measured\": \"1995-02-01T00:00:00\", \"ppm\": 360.86}, {\"date_measured\": \"1995-03-01T00:00:00\", \"ppm\": 361.83}, {\"date_measured\": \"1995-04-01T00:00:00\", \"ppm\": 363.3}, {\"date_measured\": \"1995-05-01T00:00:00\", \"ppm\": 363.69}, {\"date_measured\": \"1995-06-01T00:00:00\", \"ppm\": 363.19}, {\"date_measured\": \"1995-07-01T00:00:00\", \"ppm\": 361.64}, {\"date_measured\": \"1995-08-01T00:00:00\", \"ppm\": 359.12}, {\"date_measured\": \"1995-09-01T00:00:00\", \"ppm\": 358.17}, {\"date_measured\": \"1995-10-01T00:00:00\", \"ppm\": 357.99}, {\"date_measured\": \"1995-11-01T00:00:00\", \"ppm\": 359.45}, {\"date_measured\": \"1995-12-01T00:00:00\", \"ppm\": 360.68}, {\"date_measured\": \"1996-01-01T00:00:00\", \"ppm\": 362.07}, {\"date_measured\": \"1996-02-01T00:00:00\", \"ppm\": 363.24}, {\"date_measured\": \"1996-03-01T00:00:00\", \"ppm\": 364.17}, {\"date_measured\": \"1996-04-01T00:00:00\", \"ppm\": 364.57}, {\"date_measured\": \"1996-05-01T00:00:00\", \"ppm\": 365.13}, {\"date_measured\": \"1996-06-01T00:00:00\", \"ppm\": 364.92}, {\"date_measured\": \"1996-07-01T00:00:00\", \"ppm\": 363.55}, {\"date_measured\": \"1996-08-01T00:00:00\", \"ppm\": 361.38}, {\"date_measured\": \"1996-09-01T00:00:00\", \"ppm\": 359.54}, {\"date_measured\": \"1996-10-01T00:00:00\", \"ppm\": 359.58}, {\"date_measured\": \"1996-11-01T00:00:00\", \"ppm\": 360.89}, {\"date_measured\": \"1996-12-01T00:00:00\", \"ppm\": 362.24}, {\"date_measured\": \"1997-01-01T00:00:00\", \"ppm\": 363.09}, {\"date_measured\": \"1997-02-01T00:00:00\", \"ppm\": 364.03}, {\"date_measured\": \"1997-03-01T00:00:00\", \"ppm\": 364.51}, {\"date_measured\": \"1997-04-01T00:00:00\", \"ppm\": 366.35}, {\"date_measured\": \"1997-05-01T00:00:00\", \"ppm\": 366.64}, {\"date_measured\": \"1997-06-01T00:00:00\", \"ppm\": 365.59}, {\"date_measured\": \"1997-07-01T00:00:00\", \"ppm\": 364.31}, {\"date_measured\": \"1997-08-01T00:00:00\", \"ppm\": 362.25}, {\"date_measured\": \"1997-09-01T00:00:00\", \"ppm\": 360.29}, {\"date_measured\": \"1997-10-01T00:00:00\", \"ppm\": 360.82}, {\"date_measured\": \"1997-11-01T00:00:00\", \"ppm\": 362.49}, {\"date_measured\": \"1997-12-01T00:00:00\", \"ppm\": 364.38}, {\"date_measured\": \"1998-01-01T00:00:00\", \"ppm\": 365.27}, {\"date_measured\": \"1998-02-01T00:00:00\", \"ppm\": 365.98}, {\"date_measured\": \"1998-03-01T00:00:00\", \"ppm\": 367.24}, {\"date_measured\": \"1998-04-01T00:00:00\", \"ppm\": 368.66}, {\"date_measured\": \"1998-05-01T00:00:00\", \"ppm\": 369.42}, {\"date_measured\": \"1998-06-01T00:00:00\", \"ppm\": 368.99}, {\"date_measured\": \"1998-07-01T00:00:00\", \"ppm\": 367.82}, {\"date_measured\": \"1998-08-01T00:00:00\", \"ppm\": 365.95}, {\"date_measured\": \"1998-09-01T00:00:00\", \"ppm\": 364.02}, {\"date_measured\": \"1998-10-01T00:00:00\", \"ppm\": 364.4}, {\"date_measured\": \"1998-11-01T00:00:00\", \"ppm\": 365.52}, {\"date_measured\": \"1998-12-01T00:00:00\", \"ppm\": 367.13}, {\"date_measured\": \"1999-01-01T00:00:00\", \"ppm\": 368.18}, {\"date_measured\": \"1999-02-01T00:00:00\", \"ppm\": 369.07}, {\"date_measured\": \"1999-03-01T00:00:00\", \"ppm\": 369.68}, {\"date_measured\": \"1999-04-01T00:00:00\", \"ppm\": 370.99}, {\"date_measured\": \"1999-05-01T00:00:00\", \"ppm\": 370.96}, {\"date_measured\": \"1999-06-01T00:00:00\", \"ppm\": 370.3}, {\"date_measured\": \"1999-07-01T00:00:00\", \"ppm\": 369.45}, {\"date_measured\": \"1999-08-01T00:00:00\", \"ppm\": 366.9}, {\"date_measured\": \"1999-09-01T00:00:00\", \"ppm\": 364.81}, {\"date_measured\": \"1999-10-01T00:00:00\", \"ppm\": 365.37}, {\"date_measured\": \"1999-11-01T00:00:00\", \"ppm\": 366.72}, {\"date_measured\": \"1999-12-01T00:00:00\", \"ppm\": 368.1}, {\"date_measured\": \"2000-01-01T00:00:00\", \"ppm\": 369.29}, {\"date_measured\": \"2000-02-01T00:00:00\", \"ppm\": 369.55}, {\"date_measured\": \"2000-03-01T00:00:00\", \"ppm\": 370.6}, {\"date_measured\": \"2000-04-01T00:00:00\", \"ppm\": 371.82}, {\"date_measured\": \"2000-05-01T00:00:00\", \"ppm\": 371.58}, {\"date_measured\": \"2000-06-01T00:00:00\", \"ppm\": 371.7}, {\"date_measured\": \"2000-07-01T00:00:00\", \"ppm\": 369.86}, {\"date_measured\": \"2000-08-01T00:00:00\", \"ppm\": 368.13}, {\"date_measured\": \"2000-09-01T00:00:00\", \"ppm\": 367.0}, {\"date_measured\": \"2000-10-01T00:00:00\", \"ppm\": 367.03}, {\"date_measured\": \"2000-11-01T00:00:00\", \"ppm\": 368.37}, {\"date_measured\": \"2000-12-01T00:00:00\", \"ppm\": 369.67}, {\"date_measured\": \"2001-01-01T00:00:00\", \"ppm\": 370.59}, {\"date_measured\": \"2001-02-01T00:00:00\", \"ppm\": 371.51}, {\"date_measured\": \"2001-03-01T00:00:00\", \"ppm\": 372.43}, {\"date_measured\": \"2001-04-01T00:00:00\", \"ppm\": 373.37}, {\"date_measured\": \"2001-05-01T00:00:00\", \"ppm\": 373.85}, {\"date_measured\": \"2001-06-01T00:00:00\", \"ppm\": 373.22}, {\"date_measured\": \"2001-07-01T00:00:00\", \"ppm\": 371.5}, {\"date_measured\": \"2001-08-01T00:00:00\", \"ppm\": 369.61}, {\"date_measured\": \"2001-09-01T00:00:00\", \"ppm\": 368.18}, {\"date_measured\": \"2001-10-01T00:00:00\", \"ppm\": 368.45}, {\"date_measured\": \"2001-11-01T00:00:00\", \"ppm\": 369.76}, {\"date_measured\": \"2001-12-01T00:00:00\", \"ppm\": 371.24}, {\"date_measured\": \"2002-01-01T00:00:00\", \"ppm\": 372.53}, {\"date_measured\": \"2002-02-01T00:00:00\", \"ppm\": 373.2}, {\"date_measured\": \"2002-03-01T00:00:00\", \"ppm\": 374.12}, {\"date_measured\": \"2002-04-01T00:00:00\", \"ppm\": 375.02}, {\"date_measured\": \"2002-05-01T00:00:00\", \"ppm\": 375.76}, {\"date_measured\": \"2002-06-01T00:00:00\", \"ppm\": 375.52}, {\"date_measured\": \"2002-07-01T00:00:00\", \"ppm\": 374.01}, {\"date_measured\": \"2002-08-01T00:00:00\", \"ppm\": 371.85}, {\"date_measured\": \"2002-09-01T00:00:00\", \"ppm\": 370.75}, {\"date_measured\": \"2002-10-01T00:00:00\", \"ppm\": 370.55}, {\"date_measured\": \"2002-11-01T00:00:00\", \"ppm\": 372.25}, {\"date_measured\": \"2002-12-01T00:00:00\", \"ppm\": 373.79}, {\"date_measured\": \"2003-01-01T00:00:00\", \"ppm\": 374.88}, {\"date_measured\": \"2003-02-01T00:00:00\", \"ppm\": 375.64}, {\"date_measured\": \"2003-03-01T00:00:00\", \"ppm\": 376.45}, {\"date_measured\": \"2003-04-01T00:00:00\", \"ppm\": 377.73}, {\"date_measured\": \"2003-05-01T00:00:00\", \"ppm\": 378.6}, {\"date_measured\": \"2003-06-01T00:00:00\", \"ppm\": 378.28}, {\"date_measured\": \"2003-07-01T00:00:00\", \"ppm\": 376.7}, {\"date_measured\": \"2003-08-01T00:00:00\", \"ppm\": 374.38}, {\"date_measured\": \"2003-09-01T00:00:00\", \"ppm\": 373.17}, {\"date_measured\": \"2003-10-01T00:00:00\", \"ppm\": 373.15}, {\"date_measured\": \"2003-11-01T00:00:00\", \"ppm\": 374.66}, {\"date_measured\": \"2003-12-01T00:00:00\", \"ppm\": 375.99}, {\"date_measured\": \"2004-01-01T00:00:00\", \"ppm\": 377.0}, {\"date_measured\": \"2004-02-01T00:00:00\", \"ppm\": 377.87}, {\"date_measured\": \"2004-03-01T00:00:00\", \"ppm\": 378.88}, {\"date_measured\": \"2004-04-01T00:00:00\", \"ppm\": 380.35}, {\"date_measured\": \"2004-05-01T00:00:00\", \"ppm\": 380.62}, {\"date_measured\": \"2004-06-01T00:00:00\", \"ppm\": 379.69}, {\"date_measured\": \"2004-07-01T00:00:00\", \"ppm\": 377.47}, {\"date_measured\": \"2004-08-01T00:00:00\", \"ppm\": 376.01}, {\"date_measured\": \"2004-09-01T00:00:00\", \"ppm\": 374.25}, {\"date_measured\": \"2004-10-01T00:00:00\", \"ppm\": 374.46}, {\"date_measured\": \"2004-11-01T00:00:00\", \"ppm\": 376.16}, {\"date_measured\": \"2004-12-01T00:00:00\", \"ppm\": 377.51}, {\"date_measured\": \"2005-01-01T00:00:00\", \"ppm\": 378.46}, {\"date_measured\": \"2005-02-01T00:00:00\", \"ppm\": 379.73}, {\"date_measured\": \"2005-03-01T00:00:00\", \"ppm\": 380.77}, {\"date_measured\": \"2005-04-01T00:00:00\", \"ppm\": 382.29}, {\"date_measured\": \"2005-05-01T00:00:00\", \"ppm\": 382.45}, {\"date_measured\": \"2005-06-01T00:00:00\", \"ppm\": 382.21}, {\"date_measured\": \"2005-07-01T00:00:00\", \"ppm\": 380.74}, {\"date_measured\": \"2005-08-01T00:00:00\", \"ppm\": 378.74}, {\"date_measured\": \"2005-09-01T00:00:00\", \"ppm\": 376.7}, {\"date_measured\": \"2005-10-01T00:00:00\", \"ppm\": 377.0}, {\"date_measured\": \"2005-11-01T00:00:00\", \"ppm\": 378.35}, {\"date_measured\": \"2005-12-01T00:00:00\", \"ppm\": 380.11}, {\"date_measured\": \"2006-01-01T00:00:00\", \"ppm\": 381.38}, {\"date_measured\": \"2006-02-01T00:00:00\", \"ppm\": 382.2}, {\"date_measured\": \"2006-03-01T00:00:00\", \"ppm\": 382.67}, {\"date_measured\": \"2006-04-01T00:00:00\", \"ppm\": 384.61}, {\"date_measured\": \"2006-05-01T00:00:00\", \"ppm\": 385.03}, {\"date_measured\": \"2006-06-01T00:00:00\", \"ppm\": 384.05}, {\"date_measured\": \"2006-07-01T00:00:00\", \"ppm\": 382.46}, {\"date_measured\": \"2006-08-01T00:00:00\", \"ppm\": 380.41}, {\"date_measured\": \"2006-09-01T00:00:00\", \"ppm\": 378.85}, {\"date_measured\": \"2006-10-01T00:00:00\", \"ppm\": 379.13}, {\"date_measured\": \"2006-11-01T00:00:00\", \"ppm\": 380.15}, {\"date_measured\": \"2006-12-01T00:00:00\", \"ppm\": 381.82}, {\"date_measured\": \"2007-01-01T00:00:00\", \"ppm\": 382.89}, {\"date_measured\": \"2007-02-01T00:00:00\", \"ppm\": 383.9}, {\"date_measured\": \"2007-03-01T00:00:00\", \"ppm\": 384.58}, {\"date_measured\": \"2007-04-01T00:00:00\", \"ppm\": 386.5}, {\"date_measured\": \"2007-05-01T00:00:00\", \"ppm\": 386.56}, {\"date_measured\": \"2007-06-01T00:00:00\", \"ppm\": 386.1}, {\"date_measured\": \"2007-07-01T00:00:00\", \"ppm\": 384.5}, {\"date_measured\": \"2007-08-01T00:00:00\", \"ppm\": 381.99}, {\"date_measured\": \"2007-09-01T00:00:00\", \"ppm\": 380.96}, {\"date_measured\": \"2007-10-01T00:00:00\", \"ppm\": 381.12}, {\"date_measured\": \"2007-11-01T00:00:00\", \"ppm\": 382.45}, {\"date_measured\": \"2007-12-01T00:00:00\", \"ppm\": 383.94}, {\"date_measured\": \"2008-01-01T00:00:00\", \"ppm\": 385.52}, {\"date_measured\": \"2008-02-01T00:00:00\", \"ppm\": 385.82}, {\"date_measured\": \"2008-03-01T00:00:00\", \"ppm\": 386.03}, {\"date_measured\": \"2008-04-01T00:00:00\", \"ppm\": 387.21}, {\"date_measured\": \"2008-05-01T00:00:00\", \"ppm\": 388.54}, {\"date_measured\": \"2008-06-01T00:00:00\", \"ppm\": 387.76}, {\"date_measured\": \"2008-07-01T00:00:00\", \"ppm\": 386.37}, {\"date_measured\": \"2008-08-01T00:00:00\", \"ppm\": 384.09}, {\"date_measured\": \"2008-09-01T00:00:00\", \"ppm\": 383.18}, {\"date_measured\": \"2008-10-01T00:00:00\", \"ppm\": 382.99}, {\"date_measured\": \"2008-11-01T00:00:00\", \"ppm\": 384.19}, {\"date_measured\": \"2008-12-01T00:00:00\", \"ppm\": 385.56}, {\"date_measured\": \"2009-01-01T00:00:00\", \"ppm\": 386.94}, {\"date_measured\": \"2009-02-01T00:00:00\", \"ppm\": 387.48}, {\"date_measured\": \"2009-03-01T00:00:00\", \"ppm\": 388.82}, {\"date_measured\": \"2009-04-01T00:00:00\", \"ppm\": 389.55}, {\"date_measured\": \"2009-05-01T00:00:00\", \"ppm\": 390.14}, {\"date_measured\": \"2009-06-01T00:00:00\", \"ppm\": 389.48}, {\"date_measured\": \"2009-07-01T00:00:00\", \"ppm\": 388.03}, {\"date_measured\": \"2009-08-01T00:00:00\", \"ppm\": 386.11}, {\"date_measured\": \"2009-09-01T00:00:00\", \"ppm\": 384.74}, {\"date_measured\": \"2009-10-01T00:00:00\", \"ppm\": 384.43}, {\"date_measured\": \"2009-11-01T00:00:00\", \"ppm\": 386.02}, {\"date_measured\": \"2009-12-01T00:00:00\", \"ppm\": 387.42}, {\"date_measured\": \"2010-01-01T00:00:00\", \"ppm\": 388.71}, {\"date_measured\": \"2010-02-01T00:00:00\", \"ppm\": 390.2}, {\"date_measured\": \"2010-03-01T00:00:00\", \"ppm\": 391.17}, {\"date_measured\": \"2010-04-01T00:00:00\", \"ppm\": 392.46}, {\"date_measured\": \"2010-05-01T00:00:00\", \"ppm\": 393.0}, {\"date_measured\": \"2010-06-01T00:00:00\", \"ppm\": 392.15}, {\"date_measured\": \"2010-07-01T00:00:00\", \"ppm\": 390.2}, {\"date_measured\": \"2010-08-01T00:00:00\", \"ppm\": 388.35}, {\"date_measured\": \"2010-09-01T00:00:00\", \"ppm\": 386.85}, {\"date_measured\": \"2010-10-01T00:00:00\", \"ppm\": 387.24}, {\"date_measured\": \"2010-11-01T00:00:00\", \"ppm\": 388.67}, {\"date_measured\": \"2010-12-01T00:00:00\", \"ppm\": 389.79}, {\"date_measured\": \"2011-01-01T00:00:00\", \"ppm\": 391.33}, {\"date_measured\": \"2011-02-01T00:00:00\", \"ppm\": 391.86}, {\"date_measured\": \"2011-03-01T00:00:00\", \"ppm\": 392.6}, {\"date_measured\": \"2011-04-01T00:00:00\", \"ppm\": 393.25}, {\"date_measured\": \"2011-05-01T00:00:00\", \"ppm\": 394.19}, {\"date_measured\": \"2011-06-01T00:00:00\", \"ppm\": 393.74}, {\"date_measured\": \"2011-07-01T00:00:00\", \"ppm\": 392.51}, {\"date_measured\": \"2011-08-01T00:00:00\", \"ppm\": 390.13}, {\"date_measured\": \"2011-09-01T00:00:00\", \"ppm\": 389.08}, {\"date_measured\": \"2011-10-01T00:00:00\", \"ppm\": 389.0}, {\"date_measured\": \"2011-11-01T00:00:00\", \"ppm\": 390.28}, {\"date_measured\": \"2011-12-01T00:00:00\", \"ppm\": 391.86}, {\"date_measured\": \"2012-01-01T00:00:00\", \"ppm\": 393.12}, {\"date_measured\": \"2012-02-01T00:00:00\", \"ppm\": 393.86}, {\"date_measured\": \"2012-03-01T00:00:00\", \"ppm\": 394.4}, {\"date_measured\": \"2012-04-01T00:00:00\", \"ppm\": 396.18}, {\"date_measured\": \"2012-05-01T00:00:00\", \"ppm\": 396.74}, {\"date_measured\": \"2012-06-01T00:00:00\", \"ppm\": 395.71}, {\"date_measured\": \"2012-07-01T00:00:00\", \"ppm\": 394.36}, {\"date_measured\": \"2012-08-01T00:00:00\", \"ppm\": 392.39}, {\"date_measured\": \"2012-09-01T00:00:00\", \"ppm\": 391.11}, {\"date_measured\": \"2012-10-01T00:00:00\", \"ppm\": 391.05}, {\"date_measured\": \"2012-11-01T00:00:00\", \"ppm\": 392.98}, {\"date_measured\": \"2012-12-01T00:00:00\", \"ppm\": 394.34}, {\"date_measured\": \"2013-01-01T00:00:00\", \"ppm\": 395.55}, {\"date_measured\": \"2013-02-01T00:00:00\", \"ppm\": 396.8}, {\"date_measured\": \"2013-03-01T00:00:00\", \"ppm\": 397.43}, {\"date_measured\": \"2013-04-01T00:00:00\", \"ppm\": 398.41}, {\"date_measured\": \"2013-05-01T00:00:00\", \"ppm\": 399.78}, {\"date_measured\": \"2013-06-01T00:00:00\", \"ppm\": 398.6}, {\"date_measured\": \"2013-07-01T00:00:00\", \"ppm\": 397.32}, {\"date_measured\": \"2013-08-01T00:00:00\", \"ppm\": 395.2}, {\"date_measured\": \"2013-09-01T00:00:00\", \"ppm\": 393.45}, {\"date_measured\": \"2013-10-01T00:00:00\", \"ppm\": 393.7}, {\"date_measured\": \"2013-11-01T00:00:00\", \"ppm\": 395.16}, {\"date_measured\": \"2013-12-01T00:00:00\", \"ppm\": 396.84}, {\"date_measured\": \"2014-01-01T00:00:00\", \"ppm\": 397.85}, {\"date_measured\": \"2014-02-01T00:00:00\", \"ppm\": 398.01}, {\"date_measured\": \"2014-03-01T00:00:00\", \"ppm\": 399.77}, {\"date_measured\": \"2014-04-01T00:00:00\", \"ppm\": 401.38}, {\"date_measured\": \"2014-05-01T00:00:00\", \"ppm\": 401.78}, {\"date_measured\": \"2014-06-01T00:00:00\", \"ppm\": 401.25}, {\"date_measured\": \"2014-07-01T00:00:00\", \"ppm\": 399.1}, {\"date_measured\": \"2014-08-01T00:00:00\", \"ppm\": 397.03}, {\"date_measured\": \"2014-09-01T00:00:00\", \"ppm\": 395.38}, {\"date_measured\": \"2014-10-01T00:00:00\", \"ppm\": 396.03}, {\"date_measured\": \"2014-11-01T00:00:00\", \"ppm\": 397.28}, {\"date_measured\": \"2014-12-01T00:00:00\", \"ppm\": 398.91}, {\"date_measured\": \"2015-01-01T00:00:00\", \"ppm\": 399.98}, {\"date_measured\": \"2015-02-01T00:00:00\", \"ppm\": 400.28}, {\"date_measured\": \"2015-03-01T00:00:00\", \"ppm\": 401.54}, {\"date_measured\": \"2015-04-01T00:00:00\", \"ppm\": 403.28}, {\"date_measured\": \"2015-05-01T00:00:00\", \"ppm\": 403.96}, {\"date_measured\": \"2015-06-01T00:00:00\", \"ppm\": 402.8}, {\"date_measured\": \"2015-07-01T00:00:00\", \"ppm\": 401.31}, {\"date_measured\": \"2015-08-01T00:00:00\", \"ppm\": 398.93}, {\"date_measured\": \"2015-09-01T00:00:00\", \"ppm\": 397.63}, {\"date_measured\": \"2015-10-01T00:00:00\", \"ppm\": 398.29}, {\"date_measured\": \"2015-11-01T00:00:00\", \"ppm\": 400.16}, {\"date_measured\": \"2015-12-01T00:00:00\", \"ppm\": 401.85}, {\"date_measured\": \"2016-01-01T00:00:00\", \"ppm\": 402.56}, {\"date_measured\": \"2016-02-01T00:00:00\", \"ppm\": 404.12}, {\"date_measured\": \"2016-03-01T00:00:00\", \"ppm\": 404.87}, {\"date_measured\": \"2016-04-01T00:00:00\", \"ppm\": 407.45}, {\"date_measured\": \"2016-05-01T00:00:00\", \"ppm\": 407.72}, {\"date_measured\": \"2016-06-01T00:00:00\", \"ppm\": 406.83}, {\"date_measured\": \"2016-07-01T00:00:00\", \"ppm\": 404.41}, {\"date_measured\": \"2016-08-01T00:00:00\", \"ppm\": 402.27}, {\"date_measured\": \"2016-09-01T00:00:00\", \"ppm\": 401.05}, {\"date_measured\": \"2016-10-01T00:00:00\", \"ppm\": 401.59}, {\"date_measured\": \"2016-11-01T00:00:00\", \"ppm\": 403.55}, {\"date_measured\": \"2016-12-01T00:00:00\", \"ppm\": 404.45}, {\"date_measured\": \"2017-01-01T00:00:00\", \"ppm\": 406.17}, {\"date_measured\": \"2017-02-01T00:00:00\", \"ppm\": 406.46}, {\"date_measured\": \"2017-03-01T00:00:00\", \"ppm\": 407.22}, {\"date_measured\": \"2017-04-01T00:00:00\", \"ppm\": 409.04}, {\"date_measured\": \"2017-05-01T00:00:00\", \"ppm\": 409.69}, {\"date_measured\": \"2017-06-01T00:00:00\", \"ppm\": 408.88}, {\"date_measured\": \"2017-07-01T00:00:00\", \"ppm\": 407.12}, {\"date_measured\": \"2017-08-01T00:00:00\", \"ppm\": 405.13}, {\"date_measured\": \"2017-09-01T00:00:00\", \"ppm\": 403.37}, {\"date_measured\": \"2017-10-01T00:00:00\", \"ppm\": 403.63}, {\"date_measured\": \"2017-11-01T00:00:00\", \"ppm\": 405.12}, {\"date_measured\": \"2017-12-01T00:00:00\", \"ppm\": 406.81}, {\"date_measured\": \"2018-01-01T00:00:00\", \"ppm\": 407.96}, {\"date_measured\": \"2018-02-01T00:00:00\", \"ppm\": 408.32}, {\"date_measured\": \"2018-03-01T00:00:00\", \"ppm\": 409.41}, {\"date_measured\": \"2018-04-01T00:00:00\", \"ppm\": 410.24}, {\"date_measured\": \"2018-05-01T00:00:00\", \"ppm\": 411.24}, {\"date_measured\": \"2018-06-01T00:00:00\", \"ppm\": 410.79}, {\"date_measured\": \"2018-07-01T00:00:00\", \"ppm\": 408.71}, {\"date_measured\": \"2018-08-01T00:00:00\", \"ppm\": 406.99}, {\"date_measured\": \"2018-09-01T00:00:00\", \"ppm\": 405.51}, {\"date_measured\": \"2018-10-01T00:00:00\", \"ppm\": 406.0}, {\"date_measured\": \"2018-11-01T00:00:00\", \"ppm\": 408.02}, {\"date_measured\": \"2018-12-01T00:00:00\", \"ppm\": 409.07}, {\"date_measured\": \"2019-01-01T00:00:00\", \"ppm\": 410.83}, {\"date_measured\": \"2019-02-01T00:00:00\", \"ppm\": 411.75}, {\"date_measured\": \"2019-03-01T00:00:00\", \"ppm\": 411.97}, {\"date_measured\": \"2019-04-01T00:00:00\", \"ppm\": 413.33}, {\"date_measured\": \"2019-05-01T00:00:00\", \"ppm\": 414.64}, {\"date_measured\": \"2019-06-01T00:00:00\", \"ppm\": 413.93}, {\"date_measured\": \"2019-07-01T00:00:00\", \"ppm\": 411.74}, {\"date_measured\": \"2019-08-01T00:00:00\", \"ppm\": 409.95}, {\"date_measured\": \"2019-09-01T00:00:00\", \"ppm\": 408.54}, {\"date_measured\": \"2019-10-01T00:00:00\", \"ppm\": 408.52}, {\"date_measured\": \"2019-11-01T00:00:00\", \"ppm\": 410.25}, {\"date_measured\": \"2019-12-01T00:00:00\", \"ppm\": 411.76}, {\"date_measured\": \"2020-01-01T00:00:00\", \"ppm\": 413.39}, {\"date_measured\": \"2020-02-01T00:00:00\", \"ppm\": 414.11}, {\"date_measured\": \"2020-03-01T00:00:00\", \"ppm\": 414.51}, {\"date_measured\": \"2020-04-01T00:00:00\", \"ppm\": 416.21}, {\"date_measured\": \"2020-05-01T00:00:00\", \"ppm\": 417.07}, {\"date_measured\": \"2020-06-01T00:00:00\", \"ppm\": 416.39}]}}, {\"mode\": \"vega-lite\"});\n",
       "</script>"
      ],
      "text/plain": [
       "alt.Chart(...)"
      ]
     },
     "metadata": {
      "scrapbook": {
       "mime_prefix": "",
       "name": "co2_line"
      }
     },
     "output_type": "display_data"
    }
   ],
   "source": [
    "glue('co2_line', co2_line, display=True)"
   ]
  },
  {
   "cell_type": "markdown",
   "id": "88fd6864",
   "metadata": {},
   "source": [
    ":::{glue:figure} co2_line \n",
    ":figwidth: 700px \n",
    ":name: co2_line\n",
    "\n",
    "Line plot of atmospheric concentration of CO$_{2}$ over time.\n",
    ":::\n",
    "\n",
    "\n",
    "Aha! Figure \\@ref(fig:03-data-co2-line) shows us there *is* another interesting\n",
    "phenomenon in the data: in addition to increasing over time, the concentration\n",
    "seems to oscillate as well.  Given the visualization as it is now, it is still\n",
    "hard to tell how fast the oscillation is, but nevertheless, the line seems to\n",
    "be a better choice for answering the question than the scatter plot was. The\n",
    "comparison between these two visualizations also illustrates a common issue with\n",
    "scatter plots: often, the points are shown too close together or even on top of\n",
    "one another, muddling information that would otherwise be clear\n",
    "(*overplotting*). \\index{overplotting}\n",
    "\n",
    "Now that we have settled on the rough details of the visualization, it is time\n",
    "to refine things. This plot is fairly straightforward, and there is not much\n",
    "visual noise to remove. But there are a few things we must do to improve\n",
    "clarity, such as adding informative axis labels and making the font a more\n",
    "readable size.  To add axis labels, we use the `xlab` and `ylab` functions. To\n",
    "change the font size, we use the `theme` function with the `text` argument:\n",
    "\\index{ggplot!xlab,ylab}\n",
    "\\index{ggplot!theme}\n",
    "\n",
    "```{r 03-data-co2-line-2, warning=FALSE, message=FALSE, fig.height = 3.1, fig.width = 4.5, fig.align = \"center\",  fig.cap = \"Line plot of atmospheric concentration of CO$_{2}$ over time with clearer axes and labels.\"}\n",
    "co2_line <- ggplot(co2_df, aes(x = date_measured, y = ppm)) +\n",
    "  geom_line() +\n",
    "  xlab(\"Year\") +\n",
    "  ylab(\"Atmospheric CO2 (ppm)\") +\n",
    "  theme(text = element_text(size = 12))\n",
    "\n",
    "co2_line\n",
    "```"
   ]
  },
  {
   "cell_type": "code",
   "execution_count": 11,
   "id": "f0a323cd",
   "metadata": {},
   "outputs": [
    {
     "data": {
      "text/html": [
       "\n",
       "<div id=\"altair-viz-66716c2624c64de0998f3686b8208769\"></div>\n",
       "<script type=\"text/javascript\">\n",
       "  var VEGA_DEBUG = (typeof VEGA_DEBUG == \"undefined\") ? {} : VEGA_DEBUG;\n",
       "  (function(spec, embedOpt){\n",
       "    let outputDiv = document.currentScript.previousElementSibling;\n",
       "    if (outputDiv.id !== \"altair-viz-66716c2624c64de0998f3686b8208769\") {\n",
       "      outputDiv = document.getElementById(\"altair-viz-66716c2624c64de0998f3686b8208769\");\n",
       "    }\n",
       "    const paths = {\n",
       "      \"vega\": \"https://cdn.jsdelivr.net/npm//vega@5?noext\",\n",
       "      \"vega-lib\": \"https://cdn.jsdelivr.net/npm//vega-lib?noext\",\n",
       "      \"vega-lite\": \"https://cdn.jsdelivr.net/npm//vega-lite@4.17.0?noext\",\n",
       "      \"vega-embed\": \"https://cdn.jsdelivr.net/npm//vega-embed@6?noext\",\n",
       "    };\n",
       "\n",
       "    function maybeLoadScript(lib, version) {\n",
       "      var key = `${lib.replace(\"-\", \"\")}_version`;\n",
       "      return (VEGA_DEBUG[key] == version) ?\n",
       "        Promise.resolve(paths[lib]) :\n",
       "        new Promise(function(resolve, reject) {\n",
       "          var s = document.createElement('script');\n",
       "          document.getElementsByTagName(\"head\")[0].appendChild(s);\n",
       "          s.async = true;\n",
       "          s.onload = () => {\n",
       "            VEGA_DEBUG[key] = version;\n",
       "            return resolve(paths[lib]);\n",
       "          };\n",
       "          s.onerror = () => reject(`Error loading script: ${paths[lib]}`);\n",
       "          s.src = paths[lib];\n",
       "        });\n",
       "    }\n",
       "\n",
       "    function showError(err) {\n",
       "      outputDiv.innerHTML = `<div class=\"error\" style=\"color:red;\">${err}</div>`;\n",
       "      throw err;\n",
       "    }\n",
       "\n",
       "    function displayChart(vegaEmbed) {\n",
       "      vegaEmbed(outputDiv, spec, embedOpt)\n",
       "        .catch(err => showError(`Javascript Error: ${err.message}<br>This usually means there's a typo in your chart specification. See the javascript console for the full traceback.`));\n",
       "    }\n",
       "\n",
       "    if(typeof define === \"function\" && define.amd) {\n",
       "      requirejs.config({paths});\n",
       "      require([\"vega-embed\"], displayChart, err => showError(`Error loading script: ${err.message}`));\n",
       "    } else {\n",
       "      maybeLoadScript(\"vega\", \"5\")\n",
       "        .then(() => maybeLoadScript(\"vega-lite\", \"4.17.0\"))\n",
       "        .then(() => maybeLoadScript(\"vega-embed\", \"6\"))\n",
       "        .catch(showError)\n",
       "        .then(() => displayChart(vegaEmbed));\n",
       "    }\n",
       "  })({\"config\": {\"view\": {\"continuousWidth\": 400, \"continuousHeight\": 300}, \"axis\": {\"titleFontSize\": 12}}, \"data\": {\"name\": \"data-ecfc281786dd23148efa483af3159f83\"}, \"mark\": {\"type\": \"line\", \"color\": \"black\"}, \"encoding\": {\"x\": {\"field\": \"date_measured\", \"title\": \"Year\", \"type\": \"temporal\"}, \"y\": {\"field\": \"ppm\", \"scale\": {\"zero\": false}, \"title\": \"Atmospheric CO2 (ppm)\", \"type\": \"quantitative\"}}, \"$schema\": \"https://vega.github.io/schema/vega-lite/v4.17.0.json\", \"datasets\": {\"data-ecfc281786dd23148efa483af3159f83\": [{\"date_measured\": \"1980-02-01T00:00:00\", \"ppm\": 338.34}, {\"date_measured\": \"1980-03-01T00:00:00\", \"ppm\": 340.01}, {\"date_measured\": \"1980-04-01T00:00:00\", \"ppm\": 340.93}, {\"date_measured\": \"1980-05-01T00:00:00\", \"ppm\": 341.48}, {\"date_measured\": \"1980-06-01T00:00:00\", \"ppm\": 341.33}, {\"date_measured\": \"1980-07-01T00:00:00\", \"ppm\": 339.4}, {\"date_measured\": \"1980-08-01T00:00:00\", \"ppm\": 337.7}, {\"date_measured\": \"1980-09-01T00:00:00\", \"ppm\": 336.19}, {\"date_measured\": \"1980-10-01T00:00:00\", \"ppm\": 336.15}, {\"date_measured\": \"1980-11-01T00:00:00\", \"ppm\": 337.27}, {\"date_measured\": \"1980-12-01T00:00:00\", \"ppm\": 338.32}, {\"date_measured\": \"1981-01-01T00:00:00\", \"ppm\": 339.29}, {\"date_measured\": \"1981-02-01T00:00:00\", \"ppm\": 340.55}, {\"date_measured\": \"1981-03-01T00:00:00\", \"ppm\": 341.61}, {\"date_measured\": \"1981-04-01T00:00:00\", \"ppm\": 342.53}, {\"date_measured\": \"1981-05-01T00:00:00\", \"ppm\": 343.03}, {\"date_measured\": \"1981-06-01T00:00:00\", \"ppm\": 342.54}, {\"date_measured\": \"1981-07-01T00:00:00\", \"ppm\": 340.78}, {\"date_measured\": \"1981-08-01T00:00:00\", \"ppm\": 338.44}, {\"date_measured\": \"1981-09-01T00:00:00\", \"ppm\": 336.95}, {\"date_measured\": \"1981-10-01T00:00:00\", \"ppm\": 337.08}, {\"date_measured\": \"1981-11-01T00:00:00\", \"ppm\": 338.58}, {\"date_measured\": \"1981-12-01T00:00:00\", \"ppm\": 339.88}, {\"date_measured\": \"1982-01-01T00:00:00\", \"ppm\": 340.96}, {\"date_measured\": \"1982-02-01T00:00:00\", \"ppm\": 341.73}, {\"date_measured\": \"1982-03-01T00:00:00\", \"ppm\": 342.81}, {\"date_measured\": \"1982-04-01T00:00:00\", \"ppm\": 343.97}, {\"date_measured\": \"1982-05-01T00:00:00\", \"ppm\": 344.63}, {\"date_measured\": \"1982-06-01T00:00:00\", \"ppm\": 343.79}, {\"date_measured\": \"1982-07-01T00:00:00\", \"ppm\": 342.32}, {\"date_measured\": \"1982-08-01T00:00:00\", \"ppm\": 340.09}, {\"date_measured\": \"1982-09-01T00:00:00\", \"ppm\": 338.28}, {\"date_measured\": \"1982-10-01T00:00:00\", \"ppm\": 338.29}, {\"date_measured\": \"1982-11-01T00:00:00\", \"ppm\": 339.6}, {\"date_measured\": \"1982-12-01T00:00:00\", \"ppm\": 340.9}, {\"date_measured\": \"1983-01-01T00:00:00\", \"ppm\": 341.68}, {\"date_measured\": \"1983-02-01T00:00:00\", \"ppm\": 342.9}, {\"date_measured\": \"1983-03-01T00:00:00\", \"ppm\": 343.33}, {\"date_measured\": \"1983-04-01T00:00:00\", \"ppm\": 345.25}, {\"date_measured\": \"1983-05-01T00:00:00\", \"ppm\": 346.03}, {\"date_measured\": \"1983-06-01T00:00:00\", \"ppm\": 345.63}, {\"date_measured\": \"1983-07-01T00:00:00\", \"ppm\": 344.19}, {\"date_measured\": \"1983-08-01T00:00:00\", \"ppm\": 342.27}, {\"date_measured\": \"1983-09-01T00:00:00\", \"ppm\": 340.35}, {\"date_measured\": \"1983-10-01T00:00:00\", \"ppm\": 340.38}, {\"date_measured\": \"1983-11-01T00:00:00\", \"ppm\": 341.59}, {\"date_measured\": \"1983-12-01T00:00:00\", \"ppm\": 343.05}, {\"date_measured\": \"1984-01-01T00:00:00\", \"ppm\": 344.1}, {\"date_measured\": \"1984-02-01T00:00:00\", \"ppm\": 344.79}, {\"date_measured\": \"1984-03-01T00:00:00\", \"ppm\": 345.52}, {\"date_measured\": \"1984-05-01T00:00:00\", \"ppm\": 347.63}, {\"date_measured\": \"1984-06-01T00:00:00\", \"ppm\": 346.98}, {\"date_measured\": \"1984-07-01T00:00:00\", \"ppm\": 345.53}, {\"date_measured\": \"1984-08-01T00:00:00\", \"ppm\": 343.55}, {\"date_measured\": \"1984-09-01T00:00:00\", \"ppm\": 341.4}, {\"date_measured\": \"1984-10-01T00:00:00\", \"ppm\": 341.67}, {\"date_measured\": \"1984-11-01T00:00:00\", \"ppm\": 343.1}, {\"date_measured\": \"1984-12-01T00:00:00\", \"ppm\": 344.7}, {\"date_measured\": \"1985-01-01T00:00:00\", \"ppm\": 345.21}, {\"date_measured\": \"1985-02-01T00:00:00\", \"ppm\": 346.16}, {\"date_measured\": \"1985-03-01T00:00:00\", \"ppm\": 347.74}, {\"date_measured\": \"1985-04-01T00:00:00\", \"ppm\": 348.34}, {\"date_measured\": \"1985-05-01T00:00:00\", \"ppm\": 349.06}, {\"date_measured\": \"1985-06-01T00:00:00\", \"ppm\": 348.38}, {\"date_measured\": \"1985-07-01T00:00:00\", \"ppm\": 346.71}, {\"date_measured\": \"1985-08-01T00:00:00\", \"ppm\": 345.02}, {\"date_measured\": \"1985-09-01T00:00:00\", \"ppm\": 343.27}, {\"date_measured\": \"1985-10-01T00:00:00\", \"ppm\": 343.13}, {\"date_measured\": \"1985-11-01T00:00:00\", \"ppm\": 344.49}, {\"date_measured\": \"1985-12-01T00:00:00\", \"ppm\": 345.88}, {\"date_measured\": \"1986-01-01T00:00:00\", \"ppm\": 346.56}, {\"date_measured\": \"1986-02-01T00:00:00\", \"ppm\": 347.28}, {\"date_measured\": \"1986-03-01T00:00:00\", \"ppm\": 348.01}, {\"date_measured\": \"1986-04-01T00:00:00\", \"ppm\": 349.77}, {\"date_measured\": \"1986-05-01T00:00:00\", \"ppm\": 350.38}, {\"date_measured\": \"1986-06-01T00:00:00\", \"ppm\": 349.93}, {\"date_measured\": \"1986-07-01T00:00:00\", \"ppm\": 348.16}, {\"date_measured\": \"1986-08-01T00:00:00\", \"ppm\": 346.08}, {\"date_measured\": \"1986-09-01T00:00:00\", \"ppm\": 345.22}, {\"date_measured\": \"1986-10-01T00:00:00\", \"ppm\": 344.51}, {\"date_measured\": \"1986-11-01T00:00:00\", \"ppm\": 345.93}, {\"date_measured\": \"1986-12-01T00:00:00\", \"ppm\": 347.22}, {\"date_measured\": \"1987-01-01T00:00:00\", \"ppm\": 348.52}, {\"date_measured\": \"1987-02-01T00:00:00\", \"ppm\": 348.73}, {\"date_measured\": \"1987-03-01T00:00:00\", \"ppm\": 349.73}, {\"date_measured\": \"1987-04-01T00:00:00\", \"ppm\": 351.31}, {\"date_measured\": \"1987-05-01T00:00:00\", \"ppm\": 352.09}, {\"date_measured\": \"1987-06-01T00:00:00\", \"ppm\": 351.53}, {\"date_measured\": \"1987-07-01T00:00:00\", \"ppm\": 350.11}, {\"date_measured\": \"1987-08-01T00:00:00\", \"ppm\": 348.08}, {\"date_measured\": \"1987-09-01T00:00:00\", \"ppm\": 346.52}, {\"date_measured\": \"1987-10-01T00:00:00\", \"ppm\": 346.59}, {\"date_measured\": \"1987-11-01T00:00:00\", \"ppm\": 347.96}, {\"date_measured\": \"1987-12-01T00:00:00\", \"ppm\": 349.16}, {\"date_measured\": \"1988-01-01T00:00:00\", \"ppm\": 350.39}, {\"date_measured\": \"1988-02-01T00:00:00\", \"ppm\": 351.64}, {\"date_measured\": \"1988-03-01T00:00:00\", \"ppm\": 352.4}, {\"date_measured\": \"1988-04-01T00:00:00\", \"ppm\": 353.69}, {\"date_measured\": \"1988-05-01T00:00:00\", \"ppm\": 354.21}, {\"date_measured\": \"1988-06-01T00:00:00\", \"ppm\": 353.72}, {\"date_measured\": \"1988-07-01T00:00:00\", \"ppm\": 352.69}, {\"date_measured\": \"1988-08-01T00:00:00\", \"ppm\": 350.4}, {\"date_measured\": \"1988-09-01T00:00:00\", \"ppm\": 348.92}, {\"date_measured\": \"1988-10-01T00:00:00\", \"ppm\": 349.13}, {\"date_measured\": \"1988-11-01T00:00:00\", \"ppm\": 350.2}, {\"date_measured\": \"1988-12-01T00:00:00\", \"ppm\": 351.41}, {\"date_measured\": \"1989-01-01T00:00:00\", \"ppm\": 352.91}, {\"date_measured\": \"1989-02-01T00:00:00\", \"ppm\": 353.27}, {\"date_measured\": \"1989-03-01T00:00:00\", \"ppm\": 353.96}, {\"date_measured\": \"1989-04-01T00:00:00\", \"ppm\": 355.64}, {\"date_measured\": \"1989-05-01T00:00:00\", \"ppm\": 355.86}, {\"date_measured\": \"1989-06-01T00:00:00\", \"ppm\": 355.37}, {\"date_measured\": \"1989-07-01T00:00:00\", \"ppm\": 353.99}, {\"date_measured\": \"1989-08-01T00:00:00\", \"ppm\": 351.81}, {\"date_measured\": \"1989-09-01T00:00:00\", \"ppm\": 350.05}, {\"date_measured\": \"1989-10-01T00:00:00\", \"ppm\": 350.25}, {\"date_measured\": \"1989-11-01T00:00:00\", \"ppm\": 351.49}, {\"date_measured\": \"1989-12-01T00:00:00\", \"ppm\": 352.85}, {\"date_measured\": \"1990-01-01T00:00:00\", \"ppm\": 353.8}, {\"date_measured\": \"1990-02-01T00:00:00\", \"ppm\": 355.04}, {\"date_measured\": \"1990-03-01T00:00:00\", \"ppm\": 355.73}, {\"date_measured\": \"1990-04-01T00:00:00\", \"ppm\": 356.32}, {\"date_measured\": \"1990-05-01T00:00:00\", \"ppm\": 357.32}, {\"date_measured\": \"1990-06-01T00:00:00\", \"ppm\": 356.34}, {\"date_measured\": \"1990-07-01T00:00:00\", \"ppm\": 354.84}, {\"date_measured\": \"1990-08-01T00:00:00\", \"ppm\": 353.01}, {\"date_measured\": \"1990-09-01T00:00:00\", \"ppm\": 351.31}, {\"date_measured\": \"1990-10-01T00:00:00\", \"ppm\": 351.62}, {\"date_measured\": \"1990-11-01T00:00:00\", \"ppm\": 353.07}, {\"date_measured\": \"1990-12-01T00:00:00\", \"ppm\": 354.33}, {\"date_measured\": \"1991-01-01T00:00:00\", \"ppm\": 354.84}, {\"date_measured\": \"1991-02-01T00:00:00\", \"ppm\": 355.73}, {\"date_measured\": \"1991-03-01T00:00:00\", \"ppm\": 357.23}, {\"date_measured\": \"1991-04-01T00:00:00\", \"ppm\": 358.66}, {\"date_measured\": \"1991-05-01T00:00:00\", \"ppm\": 359.13}, {\"date_measured\": \"1991-06-01T00:00:00\", \"ppm\": 358.13}, {\"date_measured\": \"1991-07-01T00:00:00\", \"ppm\": 356.19}, {\"date_measured\": \"1991-08-01T00:00:00\", \"ppm\": 353.85}, {\"date_measured\": \"1991-09-01T00:00:00\", \"ppm\": 352.25}, {\"date_measured\": \"1991-10-01T00:00:00\", \"ppm\": 352.35}, {\"date_measured\": \"1991-11-01T00:00:00\", \"ppm\": 353.81}, {\"date_measured\": \"1991-12-01T00:00:00\", \"ppm\": 355.12}, {\"date_measured\": \"1992-01-01T00:00:00\", \"ppm\": 356.25}, {\"date_measured\": \"1992-02-01T00:00:00\", \"ppm\": 357.11}, {\"date_measured\": \"1992-03-01T00:00:00\", \"ppm\": 357.86}, {\"date_measured\": \"1992-04-01T00:00:00\", \"ppm\": 359.09}, {\"date_measured\": \"1992-05-01T00:00:00\", \"ppm\": 359.59}, {\"date_measured\": \"1992-06-01T00:00:00\", \"ppm\": 359.33}, {\"date_measured\": \"1992-07-01T00:00:00\", \"ppm\": 357.01}, {\"date_measured\": \"1992-08-01T00:00:00\", \"ppm\": 354.94}, {\"date_measured\": \"1992-09-01T00:00:00\", \"ppm\": 352.95}, {\"date_measured\": \"1992-10-01T00:00:00\", \"ppm\": 353.32}, {\"date_measured\": \"1992-11-01T00:00:00\", \"ppm\": 354.32}, {\"date_measured\": \"1992-12-01T00:00:00\", \"ppm\": 355.57}, {\"date_measured\": \"1993-01-01T00:00:00\", \"ppm\": 357.0}, {\"date_measured\": \"1993-02-01T00:00:00\", \"ppm\": 357.31}, {\"date_measured\": \"1993-03-01T00:00:00\", \"ppm\": 358.47}, {\"date_measured\": \"1993-04-01T00:00:00\", \"ppm\": 359.27}, {\"date_measured\": \"1993-05-01T00:00:00\", \"ppm\": 360.19}, {\"date_measured\": \"1993-06-01T00:00:00\", \"ppm\": 359.52}, {\"date_measured\": \"1993-07-01T00:00:00\", \"ppm\": 357.33}, {\"date_measured\": \"1993-08-01T00:00:00\", \"ppm\": 355.64}, {\"date_measured\": \"1993-09-01T00:00:00\", \"ppm\": 354.03}, {\"date_measured\": \"1993-10-01T00:00:00\", \"ppm\": 354.12}, {\"date_measured\": \"1993-11-01T00:00:00\", \"ppm\": 355.41}, {\"date_measured\": \"1993-12-01T00:00:00\", \"ppm\": 356.91}, {\"date_measured\": \"1994-01-01T00:00:00\", \"ppm\": 358.24}, {\"date_measured\": \"1994-02-01T00:00:00\", \"ppm\": 358.92}, {\"date_measured\": \"1994-03-01T00:00:00\", \"ppm\": 359.99}, {\"date_measured\": \"1994-04-01T00:00:00\", \"ppm\": 361.23}, {\"date_measured\": \"1994-05-01T00:00:00\", \"ppm\": 361.65}, {\"date_measured\": \"1994-06-01T00:00:00\", \"ppm\": 360.81}, {\"date_measured\": \"1994-07-01T00:00:00\", \"ppm\": 359.38}, {\"date_measured\": \"1994-08-01T00:00:00\", \"ppm\": 357.46}, {\"date_measured\": \"1994-09-01T00:00:00\", \"ppm\": 355.73}, {\"date_measured\": \"1994-10-01T00:00:00\", \"ppm\": 356.08}, {\"date_measured\": \"1994-11-01T00:00:00\", \"ppm\": 357.53}, {\"date_measured\": \"1994-12-01T00:00:00\", \"ppm\": 358.98}, {\"date_measured\": \"1995-01-01T00:00:00\", \"ppm\": 359.92}, {\"date_measured\": \"1995-02-01T00:00:00\", \"ppm\": 360.86}, {\"date_measured\": \"1995-03-01T00:00:00\", \"ppm\": 361.83}, {\"date_measured\": \"1995-04-01T00:00:00\", \"ppm\": 363.3}, {\"date_measured\": \"1995-05-01T00:00:00\", \"ppm\": 363.69}, {\"date_measured\": \"1995-06-01T00:00:00\", \"ppm\": 363.19}, {\"date_measured\": \"1995-07-01T00:00:00\", \"ppm\": 361.64}, {\"date_measured\": \"1995-08-01T00:00:00\", \"ppm\": 359.12}, {\"date_measured\": \"1995-09-01T00:00:00\", \"ppm\": 358.17}, {\"date_measured\": \"1995-10-01T00:00:00\", \"ppm\": 357.99}, {\"date_measured\": \"1995-11-01T00:00:00\", \"ppm\": 359.45}, {\"date_measured\": \"1995-12-01T00:00:00\", \"ppm\": 360.68}, {\"date_measured\": \"1996-01-01T00:00:00\", \"ppm\": 362.07}, {\"date_measured\": \"1996-02-01T00:00:00\", \"ppm\": 363.24}, {\"date_measured\": \"1996-03-01T00:00:00\", \"ppm\": 364.17}, {\"date_measured\": \"1996-04-01T00:00:00\", \"ppm\": 364.57}, {\"date_measured\": \"1996-05-01T00:00:00\", \"ppm\": 365.13}, {\"date_measured\": \"1996-06-01T00:00:00\", \"ppm\": 364.92}, {\"date_measured\": \"1996-07-01T00:00:00\", \"ppm\": 363.55}, {\"date_measured\": \"1996-08-01T00:00:00\", \"ppm\": 361.38}, {\"date_measured\": \"1996-09-01T00:00:00\", \"ppm\": 359.54}, {\"date_measured\": \"1996-10-01T00:00:00\", \"ppm\": 359.58}, {\"date_measured\": \"1996-11-01T00:00:00\", \"ppm\": 360.89}, {\"date_measured\": \"1996-12-01T00:00:00\", \"ppm\": 362.24}, {\"date_measured\": \"1997-01-01T00:00:00\", \"ppm\": 363.09}, {\"date_measured\": \"1997-02-01T00:00:00\", \"ppm\": 364.03}, {\"date_measured\": \"1997-03-01T00:00:00\", \"ppm\": 364.51}, {\"date_measured\": \"1997-04-01T00:00:00\", \"ppm\": 366.35}, {\"date_measured\": \"1997-05-01T00:00:00\", \"ppm\": 366.64}, {\"date_measured\": \"1997-06-01T00:00:00\", \"ppm\": 365.59}, {\"date_measured\": \"1997-07-01T00:00:00\", \"ppm\": 364.31}, {\"date_measured\": \"1997-08-01T00:00:00\", \"ppm\": 362.25}, {\"date_measured\": \"1997-09-01T00:00:00\", \"ppm\": 360.29}, {\"date_measured\": \"1997-10-01T00:00:00\", \"ppm\": 360.82}, {\"date_measured\": \"1997-11-01T00:00:00\", \"ppm\": 362.49}, {\"date_measured\": \"1997-12-01T00:00:00\", \"ppm\": 364.38}, {\"date_measured\": \"1998-01-01T00:00:00\", \"ppm\": 365.27}, {\"date_measured\": \"1998-02-01T00:00:00\", \"ppm\": 365.98}, {\"date_measured\": \"1998-03-01T00:00:00\", \"ppm\": 367.24}, {\"date_measured\": \"1998-04-01T00:00:00\", \"ppm\": 368.66}, {\"date_measured\": \"1998-05-01T00:00:00\", \"ppm\": 369.42}, {\"date_measured\": \"1998-06-01T00:00:00\", \"ppm\": 368.99}, {\"date_measured\": \"1998-07-01T00:00:00\", \"ppm\": 367.82}, {\"date_measured\": \"1998-08-01T00:00:00\", \"ppm\": 365.95}, {\"date_measured\": \"1998-09-01T00:00:00\", \"ppm\": 364.02}, {\"date_measured\": \"1998-10-01T00:00:00\", \"ppm\": 364.4}, {\"date_measured\": \"1998-11-01T00:00:00\", \"ppm\": 365.52}, {\"date_measured\": \"1998-12-01T00:00:00\", \"ppm\": 367.13}, {\"date_measured\": \"1999-01-01T00:00:00\", \"ppm\": 368.18}, {\"date_measured\": \"1999-02-01T00:00:00\", \"ppm\": 369.07}, {\"date_measured\": \"1999-03-01T00:00:00\", \"ppm\": 369.68}, {\"date_measured\": \"1999-04-01T00:00:00\", \"ppm\": 370.99}, {\"date_measured\": \"1999-05-01T00:00:00\", \"ppm\": 370.96}, {\"date_measured\": \"1999-06-01T00:00:00\", \"ppm\": 370.3}, {\"date_measured\": \"1999-07-01T00:00:00\", \"ppm\": 369.45}, {\"date_measured\": \"1999-08-01T00:00:00\", \"ppm\": 366.9}, {\"date_measured\": \"1999-09-01T00:00:00\", \"ppm\": 364.81}, {\"date_measured\": \"1999-10-01T00:00:00\", \"ppm\": 365.37}, {\"date_measured\": \"1999-11-01T00:00:00\", \"ppm\": 366.72}, {\"date_measured\": \"1999-12-01T00:00:00\", \"ppm\": 368.1}, {\"date_measured\": \"2000-01-01T00:00:00\", \"ppm\": 369.29}, {\"date_measured\": \"2000-02-01T00:00:00\", \"ppm\": 369.55}, {\"date_measured\": \"2000-03-01T00:00:00\", \"ppm\": 370.6}, {\"date_measured\": \"2000-04-01T00:00:00\", \"ppm\": 371.82}, {\"date_measured\": \"2000-05-01T00:00:00\", \"ppm\": 371.58}, {\"date_measured\": \"2000-06-01T00:00:00\", \"ppm\": 371.7}, {\"date_measured\": \"2000-07-01T00:00:00\", \"ppm\": 369.86}, {\"date_measured\": \"2000-08-01T00:00:00\", \"ppm\": 368.13}, {\"date_measured\": \"2000-09-01T00:00:00\", \"ppm\": 367.0}, {\"date_measured\": \"2000-10-01T00:00:00\", \"ppm\": 367.03}, {\"date_measured\": \"2000-11-01T00:00:00\", \"ppm\": 368.37}, {\"date_measured\": \"2000-12-01T00:00:00\", \"ppm\": 369.67}, {\"date_measured\": \"2001-01-01T00:00:00\", \"ppm\": 370.59}, {\"date_measured\": \"2001-02-01T00:00:00\", \"ppm\": 371.51}, {\"date_measured\": \"2001-03-01T00:00:00\", \"ppm\": 372.43}, {\"date_measured\": \"2001-04-01T00:00:00\", \"ppm\": 373.37}, {\"date_measured\": \"2001-05-01T00:00:00\", \"ppm\": 373.85}, {\"date_measured\": \"2001-06-01T00:00:00\", \"ppm\": 373.22}, {\"date_measured\": \"2001-07-01T00:00:00\", \"ppm\": 371.5}, {\"date_measured\": \"2001-08-01T00:00:00\", \"ppm\": 369.61}, {\"date_measured\": \"2001-09-01T00:00:00\", \"ppm\": 368.18}, {\"date_measured\": \"2001-10-01T00:00:00\", \"ppm\": 368.45}, {\"date_measured\": \"2001-11-01T00:00:00\", \"ppm\": 369.76}, {\"date_measured\": \"2001-12-01T00:00:00\", \"ppm\": 371.24}, {\"date_measured\": \"2002-01-01T00:00:00\", \"ppm\": 372.53}, {\"date_measured\": \"2002-02-01T00:00:00\", \"ppm\": 373.2}, {\"date_measured\": \"2002-03-01T00:00:00\", \"ppm\": 374.12}, {\"date_measured\": \"2002-04-01T00:00:00\", \"ppm\": 375.02}, {\"date_measured\": \"2002-05-01T00:00:00\", \"ppm\": 375.76}, {\"date_measured\": \"2002-06-01T00:00:00\", \"ppm\": 375.52}, {\"date_measured\": \"2002-07-01T00:00:00\", \"ppm\": 374.01}, {\"date_measured\": \"2002-08-01T00:00:00\", \"ppm\": 371.85}, {\"date_measured\": \"2002-09-01T00:00:00\", \"ppm\": 370.75}, {\"date_measured\": \"2002-10-01T00:00:00\", \"ppm\": 370.55}, {\"date_measured\": \"2002-11-01T00:00:00\", \"ppm\": 372.25}, {\"date_measured\": \"2002-12-01T00:00:00\", \"ppm\": 373.79}, {\"date_measured\": \"2003-01-01T00:00:00\", \"ppm\": 374.88}, {\"date_measured\": \"2003-02-01T00:00:00\", \"ppm\": 375.64}, {\"date_measured\": \"2003-03-01T00:00:00\", \"ppm\": 376.45}, {\"date_measured\": \"2003-04-01T00:00:00\", \"ppm\": 377.73}, {\"date_measured\": \"2003-05-01T00:00:00\", \"ppm\": 378.6}, {\"date_measured\": \"2003-06-01T00:00:00\", \"ppm\": 378.28}, {\"date_measured\": \"2003-07-01T00:00:00\", \"ppm\": 376.7}, {\"date_measured\": \"2003-08-01T00:00:00\", \"ppm\": 374.38}, {\"date_measured\": \"2003-09-01T00:00:00\", \"ppm\": 373.17}, {\"date_measured\": \"2003-10-01T00:00:00\", \"ppm\": 373.15}, {\"date_measured\": \"2003-11-01T00:00:00\", \"ppm\": 374.66}, {\"date_measured\": \"2003-12-01T00:00:00\", \"ppm\": 375.99}, {\"date_measured\": \"2004-01-01T00:00:00\", \"ppm\": 377.0}, {\"date_measured\": \"2004-02-01T00:00:00\", \"ppm\": 377.87}, {\"date_measured\": \"2004-03-01T00:00:00\", \"ppm\": 378.88}, {\"date_measured\": \"2004-04-01T00:00:00\", \"ppm\": 380.35}, {\"date_measured\": \"2004-05-01T00:00:00\", \"ppm\": 380.62}, {\"date_measured\": \"2004-06-01T00:00:00\", \"ppm\": 379.69}, {\"date_measured\": \"2004-07-01T00:00:00\", \"ppm\": 377.47}, {\"date_measured\": \"2004-08-01T00:00:00\", \"ppm\": 376.01}, {\"date_measured\": \"2004-09-01T00:00:00\", \"ppm\": 374.25}, {\"date_measured\": \"2004-10-01T00:00:00\", \"ppm\": 374.46}, {\"date_measured\": \"2004-11-01T00:00:00\", \"ppm\": 376.16}, {\"date_measured\": \"2004-12-01T00:00:00\", \"ppm\": 377.51}, {\"date_measured\": \"2005-01-01T00:00:00\", \"ppm\": 378.46}, {\"date_measured\": \"2005-02-01T00:00:00\", \"ppm\": 379.73}, {\"date_measured\": \"2005-03-01T00:00:00\", \"ppm\": 380.77}, {\"date_measured\": \"2005-04-01T00:00:00\", \"ppm\": 382.29}, {\"date_measured\": \"2005-05-01T00:00:00\", \"ppm\": 382.45}, {\"date_measured\": \"2005-06-01T00:00:00\", \"ppm\": 382.21}, {\"date_measured\": \"2005-07-01T00:00:00\", \"ppm\": 380.74}, {\"date_measured\": \"2005-08-01T00:00:00\", \"ppm\": 378.74}, {\"date_measured\": \"2005-09-01T00:00:00\", \"ppm\": 376.7}, {\"date_measured\": \"2005-10-01T00:00:00\", \"ppm\": 377.0}, {\"date_measured\": \"2005-11-01T00:00:00\", \"ppm\": 378.35}, {\"date_measured\": \"2005-12-01T00:00:00\", \"ppm\": 380.11}, {\"date_measured\": \"2006-01-01T00:00:00\", \"ppm\": 381.38}, {\"date_measured\": \"2006-02-01T00:00:00\", \"ppm\": 382.2}, {\"date_measured\": \"2006-03-01T00:00:00\", \"ppm\": 382.67}, {\"date_measured\": \"2006-04-01T00:00:00\", \"ppm\": 384.61}, {\"date_measured\": \"2006-05-01T00:00:00\", \"ppm\": 385.03}, {\"date_measured\": \"2006-06-01T00:00:00\", \"ppm\": 384.05}, {\"date_measured\": \"2006-07-01T00:00:00\", \"ppm\": 382.46}, {\"date_measured\": \"2006-08-01T00:00:00\", \"ppm\": 380.41}, {\"date_measured\": \"2006-09-01T00:00:00\", \"ppm\": 378.85}, {\"date_measured\": \"2006-10-01T00:00:00\", \"ppm\": 379.13}, {\"date_measured\": \"2006-11-01T00:00:00\", \"ppm\": 380.15}, {\"date_measured\": \"2006-12-01T00:00:00\", \"ppm\": 381.82}, {\"date_measured\": \"2007-01-01T00:00:00\", \"ppm\": 382.89}, {\"date_measured\": \"2007-02-01T00:00:00\", \"ppm\": 383.9}, {\"date_measured\": \"2007-03-01T00:00:00\", \"ppm\": 384.58}, {\"date_measured\": \"2007-04-01T00:00:00\", \"ppm\": 386.5}, {\"date_measured\": \"2007-05-01T00:00:00\", \"ppm\": 386.56}, {\"date_measured\": \"2007-06-01T00:00:00\", \"ppm\": 386.1}, {\"date_measured\": \"2007-07-01T00:00:00\", \"ppm\": 384.5}, {\"date_measured\": \"2007-08-01T00:00:00\", \"ppm\": 381.99}, {\"date_measured\": \"2007-09-01T00:00:00\", \"ppm\": 380.96}, {\"date_measured\": \"2007-10-01T00:00:00\", \"ppm\": 381.12}, {\"date_measured\": \"2007-11-01T00:00:00\", \"ppm\": 382.45}, {\"date_measured\": \"2007-12-01T00:00:00\", \"ppm\": 383.94}, {\"date_measured\": \"2008-01-01T00:00:00\", \"ppm\": 385.52}, {\"date_measured\": \"2008-02-01T00:00:00\", \"ppm\": 385.82}, {\"date_measured\": \"2008-03-01T00:00:00\", \"ppm\": 386.03}, {\"date_measured\": \"2008-04-01T00:00:00\", \"ppm\": 387.21}, {\"date_measured\": \"2008-05-01T00:00:00\", \"ppm\": 388.54}, {\"date_measured\": \"2008-06-01T00:00:00\", \"ppm\": 387.76}, {\"date_measured\": \"2008-07-01T00:00:00\", \"ppm\": 386.37}, {\"date_measured\": \"2008-08-01T00:00:00\", \"ppm\": 384.09}, {\"date_measured\": \"2008-09-01T00:00:00\", \"ppm\": 383.18}, {\"date_measured\": \"2008-10-01T00:00:00\", \"ppm\": 382.99}, {\"date_measured\": \"2008-11-01T00:00:00\", \"ppm\": 384.19}, {\"date_measured\": \"2008-12-01T00:00:00\", \"ppm\": 385.56}, {\"date_measured\": \"2009-01-01T00:00:00\", \"ppm\": 386.94}, {\"date_measured\": \"2009-02-01T00:00:00\", \"ppm\": 387.48}, {\"date_measured\": \"2009-03-01T00:00:00\", \"ppm\": 388.82}, {\"date_measured\": \"2009-04-01T00:00:00\", \"ppm\": 389.55}, {\"date_measured\": \"2009-05-01T00:00:00\", \"ppm\": 390.14}, {\"date_measured\": \"2009-06-01T00:00:00\", \"ppm\": 389.48}, {\"date_measured\": \"2009-07-01T00:00:00\", \"ppm\": 388.03}, {\"date_measured\": \"2009-08-01T00:00:00\", \"ppm\": 386.11}, {\"date_measured\": \"2009-09-01T00:00:00\", \"ppm\": 384.74}, {\"date_measured\": \"2009-10-01T00:00:00\", \"ppm\": 384.43}, {\"date_measured\": \"2009-11-01T00:00:00\", \"ppm\": 386.02}, {\"date_measured\": \"2009-12-01T00:00:00\", \"ppm\": 387.42}, {\"date_measured\": \"2010-01-01T00:00:00\", \"ppm\": 388.71}, {\"date_measured\": \"2010-02-01T00:00:00\", \"ppm\": 390.2}, {\"date_measured\": \"2010-03-01T00:00:00\", \"ppm\": 391.17}, {\"date_measured\": \"2010-04-01T00:00:00\", \"ppm\": 392.46}, {\"date_measured\": \"2010-05-01T00:00:00\", \"ppm\": 393.0}, {\"date_measured\": \"2010-06-01T00:00:00\", \"ppm\": 392.15}, {\"date_measured\": \"2010-07-01T00:00:00\", \"ppm\": 390.2}, {\"date_measured\": \"2010-08-01T00:00:00\", \"ppm\": 388.35}, {\"date_measured\": \"2010-09-01T00:00:00\", \"ppm\": 386.85}, {\"date_measured\": \"2010-10-01T00:00:00\", \"ppm\": 387.24}, {\"date_measured\": \"2010-11-01T00:00:00\", \"ppm\": 388.67}, {\"date_measured\": \"2010-12-01T00:00:00\", \"ppm\": 389.79}, {\"date_measured\": \"2011-01-01T00:00:00\", \"ppm\": 391.33}, {\"date_measured\": \"2011-02-01T00:00:00\", \"ppm\": 391.86}, {\"date_measured\": \"2011-03-01T00:00:00\", \"ppm\": 392.6}, {\"date_measured\": \"2011-04-01T00:00:00\", \"ppm\": 393.25}, {\"date_measured\": \"2011-05-01T00:00:00\", \"ppm\": 394.19}, {\"date_measured\": \"2011-06-01T00:00:00\", \"ppm\": 393.74}, {\"date_measured\": \"2011-07-01T00:00:00\", \"ppm\": 392.51}, {\"date_measured\": \"2011-08-01T00:00:00\", \"ppm\": 390.13}, {\"date_measured\": \"2011-09-01T00:00:00\", \"ppm\": 389.08}, {\"date_measured\": \"2011-10-01T00:00:00\", \"ppm\": 389.0}, {\"date_measured\": \"2011-11-01T00:00:00\", \"ppm\": 390.28}, {\"date_measured\": \"2011-12-01T00:00:00\", \"ppm\": 391.86}, {\"date_measured\": \"2012-01-01T00:00:00\", \"ppm\": 393.12}, {\"date_measured\": \"2012-02-01T00:00:00\", \"ppm\": 393.86}, {\"date_measured\": \"2012-03-01T00:00:00\", \"ppm\": 394.4}, {\"date_measured\": \"2012-04-01T00:00:00\", \"ppm\": 396.18}, {\"date_measured\": \"2012-05-01T00:00:00\", \"ppm\": 396.74}, {\"date_measured\": \"2012-06-01T00:00:00\", \"ppm\": 395.71}, {\"date_measured\": \"2012-07-01T00:00:00\", \"ppm\": 394.36}, {\"date_measured\": \"2012-08-01T00:00:00\", \"ppm\": 392.39}, {\"date_measured\": \"2012-09-01T00:00:00\", \"ppm\": 391.11}, {\"date_measured\": \"2012-10-01T00:00:00\", \"ppm\": 391.05}, {\"date_measured\": \"2012-11-01T00:00:00\", \"ppm\": 392.98}, {\"date_measured\": \"2012-12-01T00:00:00\", \"ppm\": 394.34}, {\"date_measured\": \"2013-01-01T00:00:00\", \"ppm\": 395.55}, {\"date_measured\": \"2013-02-01T00:00:00\", \"ppm\": 396.8}, {\"date_measured\": \"2013-03-01T00:00:00\", \"ppm\": 397.43}, {\"date_measured\": \"2013-04-01T00:00:00\", \"ppm\": 398.41}, {\"date_measured\": \"2013-05-01T00:00:00\", \"ppm\": 399.78}, {\"date_measured\": \"2013-06-01T00:00:00\", \"ppm\": 398.6}, {\"date_measured\": \"2013-07-01T00:00:00\", \"ppm\": 397.32}, {\"date_measured\": \"2013-08-01T00:00:00\", \"ppm\": 395.2}, {\"date_measured\": \"2013-09-01T00:00:00\", \"ppm\": 393.45}, {\"date_measured\": \"2013-10-01T00:00:00\", \"ppm\": 393.7}, {\"date_measured\": \"2013-11-01T00:00:00\", \"ppm\": 395.16}, {\"date_measured\": \"2013-12-01T00:00:00\", \"ppm\": 396.84}, {\"date_measured\": \"2014-01-01T00:00:00\", \"ppm\": 397.85}, {\"date_measured\": \"2014-02-01T00:00:00\", \"ppm\": 398.01}, {\"date_measured\": \"2014-03-01T00:00:00\", \"ppm\": 399.77}, {\"date_measured\": \"2014-04-01T00:00:00\", \"ppm\": 401.38}, {\"date_measured\": \"2014-05-01T00:00:00\", \"ppm\": 401.78}, {\"date_measured\": \"2014-06-01T00:00:00\", \"ppm\": 401.25}, {\"date_measured\": \"2014-07-01T00:00:00\", \"ppm\": 399.1}, {\"date_measured\": \"2014-08-01T00:00:00\", \"ppm\": 397.03}, {\"date_measured\": \"2014-09-01T00:00:00\", \"ppm\": 395.38}, {\"date_measured\": \"2014-10-01T00:00:00\", \"ppm\": 396.03}, {\"date_measured\": \"2014-11-01T00:00:00\", \"ppm\": 397.28}, {\"date_measured\": \"2014-12-01T00:00:00\", \"ppm\": 398.91}, {\"date_measured\": \"2015-01-01T00:00:00\", \"ppm\": 399.98}, {\"date_measured\": \"2015-02-01T00:00:00\", \"ppm\": 400.28}, {\"date_measured\": \"2015-03-01T00:00:00\", \"ppm\": 401.54}, {\"date_measured\": \"2015-04-01T00:00:00\", \"ppm\": 403.28}, {\"date_measured\": \"2015-05-01T00:00:00\", \"ppm\": 403.96}, {\"date_measured\": \"2015-06-01T00:00:00\", \"ppm\": 402.8}, {\"date_measured\": \"2015-07-01T00:00:00\", \"ppm\": 401.31}, {\"date_measured\": \"2015-08-01T00:00:00\", \"ppm\": 398.93}, {\"date_measured\": \"2015-09-01T00:00:00\", \"ppm\": 397.63}, {\"date_measured\": \"2015-10-01T00:00:00\", \"ppm\": 398.29}, {\"date_measured\": \"2015-11-01T00:00:00\", \"ppm\": 400.16}, {\"date_measured\": \"2015-12-01T00:00:00\", \"ppm\": 401.85}, {\"date_measured\": \"2016-01-01T00:00:00\", \"ppm\": 402.56}, {\"date_measured\": \"2016-02-01T00:00:00\", \"ppm\": 404.12}, {\"date_measured\": \"2016-03-01T00:00:00\", \"ppm\": 404.87}, {\"date_measured\": \"2016-04-01T00:00:00\", \"ppm\": 407.45}, {\"date_measured\": \"2016-05-01T00:00:00\", \"ppm\": 407.72}, {\"date_measured\": \"2016-06-01T00:00:00\", \"ppm\": 406.83}, {\"date_measured\": \"2016-07-01T00:00:00\", \"ppm\": 404.41}, {\"date_measured\": \"2016-08-01T00:00:00\", \"ppm\": 402.27}, {\"date_measured\": \"2016-09-01T00:00:00\", \"ppm\": 401.05}, {\"date_measured\": \"2016-10-01T00:00:00\", \"ppm\": 401.59}, {\"date_measured\": \"2016-11-01T00:00:00\", \"ppm\": 403.55}, {\"date_measured\": \"2016-12-01T00:00:00\", \"ppm\": 404.45}, {\"date_measured\": \"2017-01-01T00:00:00\", \"ppm\": 406.17}, {\"date_measured\": \"2017-02-01T00:00:00\", \"ppm\": 406.46}, {\"date_measured\": \"2017-03-01T00:00:00\", \"ppm\": 407.22}, {\"date_measured\": \"2017-04-01T00:00:00\", \"ppm\": 409.04}, {\"date_measured\": \"2017-05-01T00:00:00\", \"ppm\": 409.69}, {\"date_measured\": \"2017-06-01T00:00:00\", \"ppm\": 408.88}, {\"date_measured\": \"2017-07-01T00:00:00\", \"ppm\": 407.12}, {\"date_measured\": \"2017-08-01T00:00:00\", \"ppm\": 405.13}, {\"date_measured\": \"2017-09-01T00:00:00\", \"ppm\": 403.37}, {\"date_measured\": \"2017-10-01T00:00:00\", \"ppm\": 403.63}, {\"date_measured\": \"2017-11-01T00:00:00\", \"ppm\": 405.12}, {\"date_measured\": \"2017-12-01T00:00:00\", \"ppm\": 406.81}, {\"date_measured\": \"2018-01-01T00:00:00\", \"ppm\": 407.96}, {\"date_measured\": \"2018-02-01T00:00:00\", \"ppm\": 408.32}, {\"date_measured\": \"2018-03-01T00:00:00\", \"ppm\": 409.41}, {\"date_measured\": \"2018-04-01T00:00:00\", \"ppm\": 410.24}, {\"date_measured\": \"2018-05-01T00:00:00\", \"ppm\": 411.24}, {\"date_measured\": \"2018-06-01T00:00:00\", \"ppm\": 410.79}, {\"date_measured\": \"2018-07-01T00:00:00\", \"ppm\": 408.71}, {\"date_measured\": \"2018-08-01T00:00:00\", \"ppm\": 406.99}, {\"date_measured\": \"2018-09-01T00:00:00\", \"ppm\": 405.51}, {\"date_measured\": \"2018-10-01T00:00:00\", \"ppm\": 406.0}, {\"date_measured\": \"2018-11-01T00:00:00\", \"ppm\": 408.02}, {\"date_measured\": \"2018-12-01T00:00:00\", \"ppm\": 409.07}, {\"date_measured\": \"2019-01-01T00:00:00\", \"ppm\": 410.83}, {\"date_measured\": \"2019-02-01T00:00:00\", \"ppm\": 411.75}, {\"date_measured\": \"2019-03-01T00:00:00\", \"ppm\": 411.97}, {\"date_measured\": \"2019-04-01T00:00:00\", \"ppm\": 413.33}, {\"date_measured\": \"2019-05-01T00:00:00\", \"ppm\": 414.64}, {\"date_measured\": \"2019-06-01T00:00:00\", \"ppm\": 413.93}, {\"date_measured\": \"2019-07-01T00:00:00\", \"ppm\": 411.74}, {\"date_measured\": \"2019-08-01T00:00:00\", \"ppm\": 409.95}, {\"date_measured\": \"2019-09-01T00:00:00\", \"ppm\": 408.54}, {\"date_measured\": \"2019-10-01T00:00:00\", \"ppm\": 408.52}, {\"date_measured\": \"2019-11-01T00:00:00\", \"ppm\": 410.25}, {\"date_measured\": \"2019-12-01T00:00:00\", \"ppm\": 411.76}, {\"date_measured\": \"2020-01-01T00:00:00\", \"ppm\": 413.39}, {\"date_measured\": \"2020-02-01T00:00:00\", \"ppm\": 414.11}, {\"date_measured\": \"2020-03-01T00:00:00\", \"ppm\": 414.51}, {\"date_measured\": \"2020-04-01T00:00:00\", \"ppm\": 416.21}, {\"date_measured\": \"2020-05-01T00:00:00\", \"ppm\": 417.07}, {\"date_measured\": \"2020-06-01T00:00:00\", \"ppm\": 416.39}]}}, {\"mode\": \"vega-lite\"});\n",
       "</script>"
      ],
      "text/plain": [
       "alt.Chart(...)"
      ]
     },
     "execution_count": 11,
     "metadata": {},
     "output_type": "execute_result"
    }
   ],
   "source": [
    "co2_line = alt.Chart(co2_df).mark_line(color='black').encode(\n",
    "    x = alt.X(\"date_measured\", title = \"Year\"),\n",
    "    y = alt.Y(\"ppm\", scale=alt.Scale(zero=False), title = \"Atmospheric CO2 (ppm)\")).configure_axis(\n",
    "    titleFontSize=12)\n",
    "\n",
    "\n",
    "\n",
    "co2_line"
   ]
  },
  {
   "cell_type": "code",
   "execution_count": 12,
   "id": "e33d14a4",
   "metadata": {
    "tags": [
     "remove-cell"
    ]
   },
   "outputs": [
    {
     "data": {
      "text/html": [
       "\n",
       "<div id=\"altair-viz-c8899f772c104ebaa44865ae212fdd98\"></div>\n",
       "<script type=\"text/javascript\">\n",
       "  var VEGA_DEBUG = (typeof VEGA_DEBUG == \"undefined\") ? {} : VEGA_DEBUG;\n",
       "  (function(spec, embedOpt){\n",
       "    let outputDiv = document.currentScript.previousElementSibling;\n",
       "    if (outputDiv.id !== \"altair-viz-c8899f772c104ebaa44865ae212fdd98\") {\n",
       "      outputDiv = document.getElementById(\"altair-viz-c8899f772c104ebaa44865ae212fdd98\");\n",
       "    }\n",
       "    const paths = {\n",
       "      \"vega\": \"https://cdn.jsdelivr.net/npm//vega@5?noext\",\n",
       "      \"vega-lib\": \"https://cdn.jsdelivr.net/npm//vega-lib?noext\",\n",
       "      \"vega-lite\": \"https://cdn.jsdelivr.net/npm//vega-lite@4.17.0?noext\",\n",
       "      \"vega-embed\": \"https://cdn.jsdelivr.net/npm//vega-embed@6?noext\",\n",
       "    };\n",
       "\n",
       "    function maybeLoadScript(lib, version) {\n",
       "      var key = `${lib.replace(\"-\", \"\")}_version`;\n",
       "      return (VEGA_DEBUG[key] == version) ?\n",
       "        Promise.resolve(paths[lib]) :\n",
       "        new Promise(function(resolve, reject) {\n",
       "          var s = document.createElement('script');\n",
       "          document.getElementsByTagName(\"head\")[0].appendChild(s);\n",
       "          s.async = true;\n",
       "          s.onload = () => {\n",
       "            VEGA_DEBUG[key] = version;\n",
       "            return resolve(paths[lib]);\n",
       "          };\n",
       "          s.onerror = () => reject(`Error loading script: ${paths[lib]}`);\n",
       "          s.src = paths[lib];\n",
       "        });\n",
       "    }\n",
       "\n",
       "    function showError(err) {\n",
       "      outputDiv.innerHTML = `<div class=\"error\" style=\"color:red;\">${err}</div>`;\n",
       "      throw err;\n",
       "    }\n",
       "\n",
       "    function displayChart(vegaEmbed) {\n",
       "      vegaEmbed(outputDiv, spec, embedOpt)\n",
       "        .catch(err => showError(`Javascript Error: ${err.message}<br>This usually means there's a typo in your chart specification. See the javascript console for the full traceback.`));\n",
       "    }\n",
       "\n",
       "    if(typeof define === \"function\" && define.amd) {\n",
       "      requirejs.config({paths});\n",
       "      require([\"vega-embed\"], displayChart, err => showError(`Error loading script: ${err.message}`));\n",
       "    } else {\n",
       "      maybeLoadScript(\"vega\", \"5\")\n",
       "        .then(() => maybeLoadScript(\"vega-lite\", \"4.17.0\"))\n",
       "        .then(() => maybeLoadScript(\"vega-embed\", \"6\"))\n",
       "        .catch(showError)\n",
       "        .then(() => displayChart(vegaEmbed));\n",
       "    }\n",
       "  })({\"config\": {\"view\": {\"continuousWidth\": 400, \"continuousHeight\": 300}, \"axis\": {\"titleFontSize\": 12}}, \"data\": {\"name\": \"data-ecfc281786dd23148efa483af3159f83\"}, \"mark\": {\"type\": \"line\", \"color\": \"black\"}, \"encoding\": {\"x\": {\"field\": \"date_measured\", \"title\": \"Year\", \"type\": \"temporal\"}, \"y\": {\"field\": \"ppm\", \"scale\": {\"zero\": false}, \"title\": \"Atmospheric CO2 (ppm)\", \"type\": \"quantitative\"}}, \"$schema\": \"https://vega.github.io/schema/vega-lite/v4.17.0.json\", \"datasets\": {\"data-ecfc281786dd23148efa483af3159f83\": [{\"date_measured\": \"1980-02-01T00:00:00\", \"ppm\": 338.34}, {\"date_measured\": \"1980-03-01T00:00:00\", \"ppm\": 340.01}, {\"date_measured\": \"1980-04-01T00:00:00\", \"ppm\": 340.93}, {\"date_measured\": \"1980-05-01T00:00:00\", \"ppm\": 341.48}, {\"date_measured\": \"1980-06-01T00:00:00\", \"ppm\": 341.33}, {\"date_measured\": \"1980-07-01T00:00:00\", \"ppm\": 339.4}, {\"date_measured\": \"1980-08-01T00:00:00\", \"ppm\": 337.7}, {\"date_measured\": \"1980-09-01T00:00:00\", \"ppm\": 336.19}, {\"date_measured\": \"1980-10-01T00:00:00\", \"ppm\": 336.15}, {\"date_measured\": \"1980-11-01T00:00:00\", \"ppm\": 337.27}, {\"date_measured\": \"1980-12-01T00:00:00\", \"ppm\": 338.32}, {\"date_measured\": \"1981-01-01T00:00:00\", \"ppm\": 339.29}, {\"date_measured\": \"1981-02-01T00:00:00\", \"ppm\": 340.55}, {\"date_measured\": \"1981-03-01T00:00:00\", \"ppm\": 341.61}, {\"date_measured\": \"1981-04-01T00:00:00\", \"ppm\": 342.53}, {\"date_measured\": \"1981-05-01T00:00:00\", \"ppm\": 343.03}, {\"date_measured\": \"1981-06-01T00:00:00\", \"ppm\": 342.54}, {\"date_measured\": \"1981-07-01T00:00:00\", \"ppm\": 340.78}, {\"date_measured\": \"1981-08-01T00:00:00\", \"ppm\": 338.44}, {\"date_measured\": \"1981-09-01T00:00:00\", \"ppm\": 336.95}, {\"date_measured\": \"1981-10-01T00:00:00\", \"ppm\": 337.08}, {\"date_measured\": \"1981-11-01T00:00:00\", \"ppm\": 338.58}, {\"date_measured\": \"1981-12-01T00:00:00\", \"ppm\": 339.88}, {\"date_measured\": \"1982-01-01T00:00:00\", \"ppm\": 340.96}, {\"date_measured\": \"1982-02-01T00:00:00\", \"ppm\": 341.73}, {\"date_measured\": \"1982-03-01T00:00:00\", \"ppm\": 342.81}, {\"date_measured\": \"1982-04-01T00:00:00\", \"ppm\": 343.97}, {\"date_measured\": \"1982-05-01T00:00:00\", \"ppm\": 344.63}, {\"date_measured\": \"1982-06-01T00:00:00\", \"ppm\": 343.79}, {\"date_measured\": \"1982-07-01T00:00:00\", \"ppm\": 342.32}, {\"date_measured\": \"1982-08-01T00:00:00\", \"ppm\": 340.09}, {\"date_measured\": \"1982-09-01T00:00:00\", \"ppm\": 338.28}, {\"date_measured\": \"1982-10-01T00:00:00\", \"ppm\": 338.29}, {\"date_measured\": \"1982-11-01T00:00:00\", \"ppm\": 339.6}, {\"date_measured\": \"1982-12-01T00:00:00\", \"ppm\": 340.9}, {\"date_measured\": \"1983-01-01T00:00:00\", \"ppm\": 341.68}, {\"date_measured\": \"1983-02-01T00:00:00\", \"ppm\": 342.9}, {\"date_measured\": \"1983-03-01T00:00:00\", \"ppm\": 343.33}, {\"date_measured\": \"1983-04-01T00:00:00\", \"ppm\": 345.25}, {\"date_measured\": \"1983-05-01T00:00:00\", \"ppm\": 346.03}, {\"date_measured\": \"1983-06-01T00:00:00\", \"ppm\": 345.63}, {\"date_measured\": \"1983-07-01T00:00:00\", \"ppm\": 344.19}, {\"date_measured\": \"1983-08-01T00:00:00\", \"ppm\": 342.27}, {\"date_measured\": \"1983-09-01T00:00:00\", \"ppm\": 340.35}, {\"date_measured\": \"1983-10-01T00:00:00\", \"ppm\": 340.38}, {\"date_measured\": \"1983-11-01T00:00:00\", \"ppm\": 341.59}, {\"date_measured\": \"1983-12-01T00:00:00\", \"ppm\": 343.05}, {\"date_measured\": \"1984-01-01T00:00:00\", \"ppm\": 344.1}, {\"date_measured\": \"1984-02-01T00:00:00\", \"ppm\": 344.79}, {\"date_measured\": \"1984-03-01T00:00:00\", \"ppm\": 345.52}, {\"date_measured\": \"1984-05-01T00:00:00\", \"ppm\": 347.63}, {\"date_measured\": \"1984-06-01T00:00:00\", \"ppm\": 346.98}, {\"date_measured\": \"1984-07-01T00:00:00\", \"ppm\": 345.53}, {\"date_measured\": \"1984-08-01T00:00:00\", \"ppm\": 343.55}, {\"date_measured\": \"1984-09-01T00:00:00\", \"ppm\": 341.4}, {\"date_measured\": \"1984-10-01T00:00:00\", \"ppm\": 341.67}, {\"date_measured\": \"1984-11-01T00:00:00\", \"ppm\": 343.1}, {\"date_measured\": \"1984-12-01T00:00:00\", \"ppm\": 344.7}, {\"date_measured\": \"1985-01-01T00:00:00\", \"ppm\": 345.21}, {\"date_measured\": \"1985-02-01T00:00:00\", \"ppm\": 346.16}, {\"date_measured\": \"1985-03-01T00:00:00\", \"ppm\": 347.74}, {\"date_measured\": \"1985-04-01T00:00:00\", \"ppm\": 348.34}, {\"date_measured\": \"1985-05-01T00:00:00\", \"ppm\": 349.06}, {\"date_measured\": \"1985-06-01T00:00:00\", \"ppm\": 348.38}, {\"date_measured\": \"1985-07-01T00:00:00\", \"ppm\": 346.71}, {\"date_measured\": \"1985-08-01T00:00:00\", \"ppm\": 345.02}, {\"date_measured\": \"1985-09-01T00:00:00\", \"ppm\": 343.27}, {\"date_measured\": \"1985-10-01T00:00:00\", \"ppm\": 343.13}, {\"date_measured\": \"1985-11-01T00:00:00\", \"ppm\": 344.49}, {\"date_measured\": \"1985-12-01T00:00:00\", \"ppm\": 345.88}, {\"date_measured\": \"1986-01-01T00:00:00\", \"ppm\": 346.56}, {\"date_measured\": \"1986-02-01T00:00:00\", \"ppm\": 347.28}, {\"date_measured\": \"1986-03-01T00:00:00\", \"ppm\": 348.01}, {\"date_measured\": \"1986-04-01T00:00:00\", \"ppm\": 349.77}, {\"date_measured\": \"1986-05-01T00:00:00\", \"ppm\": 350.38}, {\"date_measured\": \"1986-06-01T00:00:00\", \"ppm\": 349.93}, {\"date_measured\": \"1986-07-01T00:00:00\", \"ppm\": 348.16}, {\"date_measured\": \"1986-08-01T00:00:00\", \"ppm\": 346.08}, {\"date_measured\": \"1986-09-01T00:00:00\", \"ppm\": 345.22}, {\"date_measured\": \"1986-10-01T00:00:00\", \"ppm\": 344.51}, {\"date_measured\": \"1986-11-01T00:00:00\", \"ppm\": 345.93}, {\"date_measured\": \"1986-12-01T00:00:00\", \"ppm\": 347.22}, {\"date_measured\": \"1987-01-01T00:00:00\", \"ppm\": 348.52}, {\"date_measured\": \"1987-02-01T00:00:00\", \"ppm\": 348.73}, {\"date_measured\": \"1987-03-01T00:00:00\", \"ppm\": 349.73}, {\"date_measured\": \"1987-04-01T00:00:00\", \"ppm\": 351.31}, {\"date_measured\": \"1987-05-01T00:00:00\", \"ppm\": 352.09}, {\"date_measured\": \"1987-06-01T00:00:00\", \"ppm\": 351.53}, {\"date_measured\": \"1987-07-01T00:00:00\", \"ppm\": 350.11}, {\"date_measured\": \"1987-08-01T00:00:00\", \"ppm\": 348.08}, {\"date_measured\": \"1987-09-01T00:00:00\", \"ppm\": 346.52}, {\"date_measured\": \"1987-10-01T00:00:00\", \"ppm\": 346.59}, {\"date_measured\": \"1987-11-01T00:00:00\", \"ppm\": 347.96}, {\"date_measured\": \"1987-12-01T00:00:00\", \"ppm\": 349.16}, {\"date_measured\": \"1988-01-01T00:00:00\", \"ppm\": 350.39}, {\"date_measured\": \"1988-02-01T00:00:00\", \"ppm\": 351.64}, {\"date_measured\": \"1988-03-01T00:00:00\", \"ppm\": 352.4}, {\"date_measured\": \"1988-04-01T00:00:00\", \"ppm\": 353.69}, {\"date_measured\": \"1988-05-01T00:00:00\", \"ppm\": 354.21}, {\"date_measured\": \"1988-06-01T00:00:00\", \"ppm\": 353.72}, {\"date_measured\": \"1988-07-01T00:00:00\", \"ppm\": 352.69}, {\"date_measured\": \"1988-08-01T00:00:00\", \"ppm\": 350.4}, {\"date_measured\": \"1988-09-01T00:00:00\", \"ppm\": 348.92}, {\"date_measured\": \"1988-10-01T00:00:00\", \"ppm\": 349.13}, {\"date_measured\": \"1988-11-01T00:00:00\", \"ppm\": 350.2}, {\"date_measured\": \"1988-12-01T00:00:00\", \"ppm\": 351.41}, {\"date_measured\": \"1989-01-01T00:00:00\", \"ppm\": 352.91}, {\"date_measured\": \"1989-02-01T00:00:00\", \"ppm\": 353.27}, {\"date_measured\": \"1989-03-01T00:00:00\", \"ppm\": 353.96}, {\"date_measured\": \"1989-04-01T00:00:00\", \"ppm\": 355.64}, {\"date_measured\": \"1989-05-01T00:00:00\", \"ppm\": 355.86}, {\"date_measured\": \"1989-06-01T00:00:00\", \"ppm\": 355.37}, {\"date_measured\": \"1989-07-01T00:00:00\", \"ppm\": 353.99}, {\"date_measured\": \"1989-08-01T00:00:00\", \"ppm\": 351.81}, {\"date_measured\": \"1989-09-01T00:00:00\", \"ppm\": 350.05}, {\"date_measured\": \"1989-10-01T00:00:00\", \"ppm\": 350.25}, {\"date_measured\": \"1989-11-01T00:00:00\", \"ppm\": 351.49}, {\"date_measured\": \"1989-12-01T00:00:00\", \"ppm\": 352.85}, {\"date_measured\": \"1990-01-01T00:00:00\", \"ppm\": 353.8}, {\"date_measured\": \"1990-02-01T00:00:00\", \"ppm\": 355.04}, {\"date_measured\": \"1990-03-01T00:00:00\", \"ppm\": 355.73}, {\"date_measured\": \"1990-04-01T00:00:00\", \"ppm\": 356.32}, {\"date_measured\": \"1990-05-01T00:00:00\", \"ppm\": 357.32}, {\"date_measured\": \"1990-06-01T00:00:00\", \"ppm\": 356.34}, {\"date_measured\": \"1990-07-01T00:00:00\", \"ppm\": 354.84}, {\"date_measured\": \"1990-08-01T00:00:00\", \"ppm\": 353.01}, {\"date_measured\": \"1990-09-01T00:00:00\", \"ppm\": 351.31}, {\"date_measured\": \"1990-10-01T00:00:00\", \"ppm\": 351.62}, {\"date_measured\": \"1990-11-01T00:00:00\", \"ppm\": 353.07}, {\"date_measured\": \"1990-12-01T00:00:00\", \"ppm\": 354.33}, {\"date_measured\": \"1991-01-01T00:00:00\", \"ppm\": 354.84}, {\"date_measured\": \"1991-02-01T00:00:00\", \"ppm\": 355.73}, {\"date_measured\": \"1991-03-01T00:00:00\", \"ppm\": 357.23}, {\"date_measured\": \"1991-04-01T00:00:00\", \"ppm\": 358.66}, {\"date_measured\": \"1991-05-01T00:00:00\", \"ppm\": 359.13}, {\"date_measured\": \"1991-06-01T00:00:00\", \"ppm\": 358.13}, {\"date_measured\": \"1991-07-01T00:00:00\", \"ppm\": 356.19}, {\"date_measured\": \"1991-08-01T00:00:00\", \"ppm\": 353.85}, {\"date_measured\": \"1991-09-01T00:00:00\", \"ppm\": 352.25}, {\"date_measured\": \"1991-10-01T00:00:00\", \"ppm\": 352.35}, {\"date_measured\": \"1991-11-01T00:00:00\", \"ppm\": 353.81}, {\"date_measured\": \"1991-12-01T00:00:00\", \"ppm\": 355.12}, {\"date_measured\": \"1992-01-01T00:00:00\", \"ppm\": 356.25}, {\"date_measured\": \"1992-02-01T00:00:00\", \"ppm\": 357.11}, {\"date_measured\": \"1992-03-01T00:00:00\", \"ppm\": 357.86}, {\"date_measured\": \"1992-04-01T00:00:00\", \"ppm\": 359.09}, {\"date_measured\": \"1992-05-01T00:00:00\", \"ppm\": 359.59}, {\"date_measured\": \"1992-06-01T00:00:00\", \"ppm\": 359.33}, {\"date_measured\": \"1992-07-01T00:00:00\", \"ppm\": 357.01}, {\"date_measured\": \"1992-08-01T00:00:00\", \"ppm\": 354.94}, {\"date_measured\": \"1992-09-01T00:00:00\", \"ppm\": 352.95}, {\"date_measured\": \"1992-10-01T00:00:00\", \"ppm\": 353.32}, {\"date_measured\": \"1992-11-01T00:00:00\", \"ppm\": 354.32}, {\"date_measured\": \"1992-12-01T00:00:00\", \"ppm\": 355.57}, {\"date_measured\": \"1993-01-01T00:00:00\", \"ppm\": 357.0}, {\"date_measured\": \"1993-02-01T00:00:00\", \"ppm\": 357.31}, {\"date_measured\": \"1993-03-01T00:00:00\", \"ppm\": 358.47}, {\"date_measured\": \"1993-04-01T00:00:00\", \"ppm\": 359.27}, {\"date_measured\": \"1993-05-01T00:00:00\", \"ppm\": 360.19}, {\"date_measured\": \"1993-06-01T00:00:00\", \"ppm\": 359.52}, {\"date_measured\": \"1993-07-01T00:00:00\", \"ppm\": 357.33}, {\"date_measured\": \"1993-08-01T00:00:00\", \"ppm\": 355.64}, {\"date_measured\": \"1993-09-01T00:00:00\", \"ppm\": 354.03}, {\"date_measured\": \"1993-10-01T00:00:00\", \"ppm\": 354.12}, {\"date_measured\": \"1993-11-01T00:00:00\", \"ppm\": 355.41}, {\"date_measured\": \"1993-12-01T00:00:00\", \"ppm\": 356.91}, {\"date_measured\": \"1994-01-01T00:00:00\", \"ppm\": 358.24}, {\"date_measured\": \"1994-02-01T00:00:00\", \"ppm\": 358.92}, {\"date_measured\": \"1994-03-01T00:00:00\", \"ppm\": 359.99}, {\"date_measured\": \"1994-04-01T00:00:00\", \"ppm\": 361.23}, {\"date_measured\": \"1994-05-01T00:00:00\", \"ppm\": 361.65}, {\"date_measured\": \"1994-06-01T00:00:00\", \"ppm\": 360.81}, {\"date_measured\": \"1994-07-01T00:00:00\", \"ppm\": 359.38}, {\"date_measured\": \"1994-08-01T00:00:00\", \"ppm\": 357.46}, {\"date_measured\": \"1994-09-01T00:00:00\", \"ppm\": 355.73}, {\"date_measured\": \"1994-10-01T00:00:00\", \"ppm\": 356.08}, {\"date_measured\": \"1994-11-01T00:00:00\", \"ppm\": 357.53}, {\"date_measured\": \"1994-12-01T00:00:00\", \"ppm\": 358.98}, {\"date_measured\": \"1995-01-01T00:00:00\", \"ppm\": 359.92}, {\"date_measured\": \"1995-02-01T00:00:00\", \"ppm\": 360.86}, {\"date_measured\": \"1995-03-01T00:00:00\", \"ppm\": 361.83}, {\"date_measured\": \"1995-04-01T00:00:00\", \"ppm\": 363.3}, {\"date_measured\": \"1995-05-01T00:00:00\", \"ppm\": 363.69}, {\"date_measured\": \"1995-06-01T00:00:00\", \"ppm\": 363.19}, {\"date_measured\": \"1995-07-01T00:00:00\", \"ppm\": 361.64}, {\"date_measured\": \"1995-08-01T00:00:00\", \"ppm\": 359.12}, {\"date_measured\": \"1995-09-01T00:00:00\", \"ppm\": 358.17}, {\"date_measured\": \"1995-10-01T00:00:00\", \"ppm\": 357.99}, {\"date_measured\": \"1995-11-01T00:00:00\", \"ppm\": 359.45}, {\"date_measured\": \"1995-12-01T00:00:00\", \"ppm\": 360.68}, {\"date_measured\": \"1996-01-01T00:00:00\", \"ppm\": 362.07}, {\"date_measured\": \"1996-02-01T00:00:00\", \"ppm\": 363.24}, {\"date_measured\": \"1996-03-01T00:00:00\", \"ppm\": 364.17}, {\"date_measured\": \"1996-04-01T00:00:00\", \"ppm\": 364.57}, {\"date_measured\": \"1996-05-01T00:00:00\", \"ppm\": 365.13}, {\"date_measured\": \"1996-06-01T00:00:00\", \"ppm\": 364.92}, {\"date_measured\": \"1996-07-01T00:00:00\", \"ppm\": 363.55}, {\"date_measured\": \"1996-08-01T00:00:00\", \"ppm\": 361.38}, {\"date_measured\": \"1996-09-01T00:00:00\", \"ppm\": 359.54}, {\"date_measured\": \"1996-10-01T00:00:00\", \"ppm\": 359.58}, {\"date_measured\": \"1996-11-01T00:00:00\", \"ppm\": 360.89}, {\"date_measured\": \"1996-12-01T00:00:00\", \"ppm\": 362.24}, {\"date_measured\": \"1997-01-01T00:00:00\", \"ppm\": 363.09}, {\"date_measured\": \"1997-02-01T00:00:00\", \"ppm\": 364.03}, {\"date_measured\": \"1997-03-01T00:00:00\", \"ppm\": 364.51}, {\"date_measured\": \"1997-04-01T00:00:00\", \"ppm\": 366.35}, {\"date_measured\": \"1997-05-01T00:00:00\", \"ppm\": 366.64}, {\"date_measured\": \"1997-06-01T00:00:00\", \"ppm\": 365.59}, {\"date_measured\": \"1997-07-01T00:00:00\", \"ppm\": 364.31}, {\"date_measured\": \"1997-08-01T00:00:00\", \"ppm\": 362.25}, {\"date_measured\": \"1997-09-01T00:00:00\", \"ppm\": 360.29}, {\"date_measured\": \"1997-10-01T00:00:00\", \"ppm\": 360.82}, {\"date_measured\": \"1997-11-01T00:00:00\", \"ppm\": 362.49}, {\"date_measured\": \"1997-12-01T00:00:00\", \"ppm\": 364.38}, {\"date_measured\": \"1998-01-01T00:00:00\", \"ppm\": 365.27}, {\"date_measured\": \"1998-02-01T00:00:00\", \"ppm\": 365.98}, {\"date_measured\": \"1998-03-01T00:00:00\", \"ppm\": 367.24}, {\"date_measured\": \"1998-04-01T00:00:00\", \"ppm\": 368.66}, {\"date_measured\": \"1998-05-01T00:00:00\", \"ppm\": 369.42}, {\"date_measured\": \"1998-06-01T00:00:00\", \"ppm\": 368.99}, {\"date_measured\": \"1998-07-01T00:00:00\", \"ppm\": 367.82}, {\"date_measured\": \"1998-08-01T00:00:00\", \"ppm\": 365.95}, {\"date_measured\": \"1998-09-01T00:00:00\", \"ppm\": 364.02}, {\"date_measured\": \"1998-10-01T00:00:00\", \"ppm\": 364.4}, {\"date_measured\": \"1998-11-01T00:00:00\", \"ppm\": 365.52}, {\"date_measured\": \"1998-12-01T00:00:00\", \"ppm\": 367.13}, {\"date_measured\": \"1999-01-01T00:00:00\", \"ppm\": 368.18}, {\"date_measured\": \"1999-02-01T00:00:00\", \"ppm\": 369.07}, {\"date_measured\": \"1999-03-01T00:00:00\", \"ppm\": 369.68}, {\"date_measured\": \"1999-04-01T00:00:00\", \"ppm\": 370.99}, {\"date_measured\": \"1999-05-01T00:00:00\", \"ppm\": 370.96}, {\"date_measured\": \"1999-06-01T00:00:00\", \"ppm\": 370.3}, {\"date_measured\": \"1999-07-01T00:00:00\", \"ppm\": 369.45}, {\"date_measured\": \"1999-08-01T00:00:00\", \"ppm\": 366.9}, {\"date_measured\": \"1999-09-01T00:00:00\", \"ppm\": 364.81}, {\"date_measured\": \"1999-10-01T00:00:00\", \"ppm\": 365.37}, {\"date_measured\": \"1999-11-01T00:00:00\", \"ppm\": 366.72}, {\"date_measured\": \"1999-12-01T00:00:00\", \"ppm\": 368.1}, {\"date_measured\": \"2000-01-01T00:00:00\", \"ppm\": 369.29}, {\"date_measured\": \"2000-02-01T00:00:00\", \"ppm\": 369.55}, {\"date_measured\": \"2000-03-01T00:00:00\", \"ppm\": 370.6}, {\"date_measured\": \"2000-04-01T00:00:00\", \"ppm\": 371.82}, {\"date_measured\": \"2000-05-01T00:00:00\", \"ppm\": 371.58}, {\"date_measured\": \"2000-06-01T00:00:00\", \"ppm\": 371.7}, {\"date_measured\": \"2000-07-01T00:00:00\", \"ppm\": 369.86}, {\"date_measured\": \"2000-08-01T00:00:00\", \"ppm\": 368.13}, {\"date_measured\": \"2000-09-01T00:00:00\", \"ppm\": 367.0}, {\"date_measured\": \"2000-10-01T00:00:00\", \"ppm\": 367.03}, {\"date_measured\": \"2000-11-01T00:00:00\", \"ppm\": 368.37}, {\"date_measured\": \"2000-12-01T00:00:00\", \"ppm\": 369.67}, {\"date_measured\": \"2001-01-01T00:00:00\", \"ppm\": 370.59}, {\"date_measured\": \"2001-02-01T00:00:00\", \"ppm\": 371.51}, {\"date_measured\": \"2001-03-01T00:00:00\", \"ppm\": 372.43}, {\"date_measured\": \"2001-04-01T00:00:00\", \"ppm\": 373.37}, {\"date_measured\": \"2001-05-01T00:00:00\", \"ppm\": 373.85}, {\"date_measured\": \"2001-06-01T00:00:00\", \"ppm\": 373.22}, {\"date_measured\": \"2001-07-01T00:00:00\", \"ppm\": 371.5}, {\"date_measured\": \"2001-08-01T00:00:00\", \"ppm\": 369.61}, {\"date_measured\": \"2001-09-01T00:00:00\", \"ppm\": 368.18}, {\"date_measured\": \"2001-10-01T00:00:00\", \"ppm\": 368.45}, {\"date_measured\": \"2001-11-01T00:00:00\", \"ppm\": 369.76}, {\"date_measured\": \"2001-12-01T00:00:00\", \"ppm\": 371.24}, {\"date_measured\": \"2002-01-01T00:00:00\", \"ppm\": 372.53}, {\"date_measured\": \"2002-02-01T00:00:00\", \"ppm\": 373.2}, {\"date_measured\": \"2002-03-01T00:00:00\", \"ppm\": 374.12}, {\"date_measured\": \"2002-04-01T00:00:00\", \"ppm\": 375.02}, {\"date_measured\": \"2002-05-01T00:00:00\", \"ppm\": 375.76}, {\"date_measured\": \"2002-06-01T00:00:00\", \"ppm\": 375.52}, {\"date_measured\": \"2002-07-01T00:00:00\", \"ppm\": 374.01}, {\"date_measured\": \"2002-08-01T00:00:00\", \"ppm\": 371.85}, {\"date_measured\": \"2002-09-01T00:00:00\", \"ppm\": 370.75}, {\"date_measured\": \"2002-10-01T00:00:00\", \"ppm\": 370.55}, {\"date_measured\": \"2002-11-01T00:00:00\", \"ppm\": 372.25}, {\"date_measured\": \"2002-12-01T00:00:00\", \"ppm\": 373.79}, {\"date_measured\": \"2003-01-01T00:00:00\", \"ppm\": 374.88}, {\"date_measured\": \"2003-02-01T00:00:00\", \"ppm\": 375.64}, {\"date_measured\": \"2003-03-01T00:00:00\", \"ppm\": 376.45}, {\"date_measured\": \"2003-04-01T00:00:00\", \"ppm\": 377.73}, {\"date_measured\": \"2003-05-01T00:00:00\", \"ppm\": 378.6}, {\"date_measured\": \"2003-06-01T00:00:00\", \"ppm\": 378.28}, {\"date_measured\": \"2003-07-01T00:00:00\", \"ppm\": 376.7}, {\"date_measured\": \"2003-08-01T00:00:00\", \"ppm\": 374.38}, {\"date_measured\": \"2003-09-01T00:00:00\", \"ppm\": 373.17}, {\"date_measured\": \"2003-10-01T00:00:00\", \"ppm\": 373.15}, {\"date_measured\": \"2003-11-01T00:00:00\", \"ppm\": 374.66}, {\"date_measured\": \"2003-12-01T00:00:00\", \"ppm\": 375.99}, {\"date_measured\": \"2004-01-01T00:00:00\", \"ppm\": 377.0}, {\"date_measured\": \"2004-02-01T00:00:00\", \"ppm\": 377.87}, {\"date_measured\": \"2004-03-01T00:00:00\", \"ppm\": 378.88}, {\"date_measured\": \"2004-04-01T00:00:00\", \"ppm\": 380.35}, {\"date_measured\": \"2004-05-01T00:00:00\", \"ppm\": 380.62}, {\"date_measured\": \"2004-06-01T00:00:00\", \"ppm\": 379.69}, {\"date_measured\": \"2004-07-01T00:00:00\", \"ppm\": 377.47}, {\"date_measured\": \"2004-08-01T00:00:00\", \"ppm\": 376.01}, {\"date_measured\": \"2004-09-01T00:00:00\", \"ppm\": 374.25}, {\"date_measured\": \"2004-10-01T00:00:00\", \"ppm\": 374.46}, {\"date_measured\": \"2004-11-01T00:00:00\", \"ppm\": 376.16}, {\"date_measured\": \"2004-12-01T00:00:00\", \"ppm\": 377.51}, {\"date_measured\": \"2005-01-01T00:00:00\", \"ppm\": 378.46}, {\"date_measured\": \"2005-02-01T00:00:00\", \"ppm\": 379.73}, {\"date_measured\": \"2005-03-01T00:00:00\", \"ppm\": 380.77}, {\"date_measured\": \"2005-04-01T00:00:00\", \"ppm\": 382.29}, {\"date_measured\": \"2005-05-01T00:00:00\", \"ppm\": 382.45}, {\"date_measured\": \"2005-06-01T00:00:00\", \"ppm\": 382.21}, {\"date_measured\": \"2005-07-01T00:00:00\", \"ppm\": 380.74}, {\"date_measured\": \"2005-08-01T00:00:00\", \"ppm\": 378.74}, {\"date_measured\": \"2005-09-01T00:00:00\", \"ppm\": 376.7}, {\"date_measured\": \"2005-10-01T00:00:00\", \"ppm\": 377.0}, {\"date_measured\": \"2005-11-01T00:00:00\", \"ppm\": 378.35}, {\"date_measured\": \"2005-12-01T00:00:00\", \"ppm\": 380.11}, {\"date_measured\": \"2006-01-01T00:00:00\", \"ppm\": 381.38}, {\"date_measured\": \"2006-02-01T00:00:00\", \"ppm\": 382.2}, {\"date_measured\": \"2006-03-01T00:00:00\", \"ppm\": 382.67}, {\"date_measured\": \"2006-04-01T00:00:00\", \"ppm\": 384.61}, {\"date_measured\": \"2006-05-01T00:00:00\", \"ppm\": 385.03}, {\"date_measured\": \"2006-06-01T00:00:00\", \"ppm\": 384.05}, {\"date_measured\": \"2006-07-01T00:00:00\", \"ppm\": 382.46}, {\"date_measured\": \"2006-08-01T00:00:00\", \"ppm\": 380.41}, {\"date_measured\": \"2006-09-01T00:00:00\", \"ppm\": 378.85}, {\"date_measured\": \"2006-10-01T00:00:00\", \"ppm\": 379.13}, {\"date_measured\": \"2006-11-01T00:00:00\", \"ppm\": 380.15}, {\"date_measured\": \"2006-12-01T00:00:00\", \"ppm\": 381.82}, {\"date_measured\": \"2007-01-01T00:00:00\", \"ppm\": 382.89}, {\"date_measured\": \"2007-02-01T00:00:00\", \"ppm\": 383.9}, {\"date_measured\": \"2007-03-01T00:00:00\", \"ppm\": 384.58}, {\"date_measured\": \"2007-04-01T00:00:00\", \"ppm\": 386.5}, {\"date_measured\": \"2007-05-01T00:00:00\", \"ppm\": 386.56}, {\"date_measured\": \"2007-06-01T00:00:00\", \"ppm\": 386.1}, {\"date_measured\": \"2007-07-01T00:00:00\", \"ppm\": 384.5}, {\"date_measured\": \"2007-08-01T00:00:00\", \"ppm\": 381.99}, {\"date_measured\": \"2007-09-01T00:00:00\", \"ppm\": 380.96}, {\"date_measured\": \"2007-10-01T00:00:00\", \"ppm\": 381.12}, {\"date_measured\": \"2007-11-01T00:00:00\", \"ppm\": 382.45}, {\"date_measured\": \"2007-12-01T00:00:00\", \"ppm\": 383.94}, {\"date_measured\": \"2008-01-01T00:00:00\", \"ppm\": 385.52}, {\"date_measured\": \"2008-02-01T00:00:00\", \"ppm\": 385.82}, {\"date_measured\": \"2008-03-01T00:00:00\", \"ppm\": 386.03}, {\"date_measured\": \"2008-04-01T00:00:00\", \"ppm\": 387.21}, {\"date_measured\": \"2008-05-01T00:00:00\", \"ppm\": 388.54}, {\"date_measured\": \"2008-06-01T00:00:00\", \"ppm\": 387.76}, {\"date_measured\": \"2008-07-01T00:00:00\", \"ppm\": 386.37}, {\"date_measured\": \"2008-08-01T00:00:00\", \"ppm\": 384.09}, {\"date_measured\": \"2008-09-01T00:00:00\", \"ppm\": 383.18}, {\"date_measured\": \"2008-10-01T00:00:00\", \"ppm\": 382.99}, {\"date_measured\": \"2008-11-01T00:00:00\", \"ppm\": 384.19}, {\"date_measured\": \"2008-12-01T00:00:00\", \"ppm\": 385.56}, {\"date_measured\": \"2009-01-01T00:00:00\", \"ppm\": 386.94}, {\"date_measured\": \"2009-02-01T00:00:00\", \"ppm\": 387.48}, {\"date_measured\": \"2009-03-01T00:00:00\", \"ppm\": 388.82}, {\"date_measured\": \"2009-04-01T00:00:00\", \"ppm\": 389.55}, {\"date_measured\": \"2009-05-01T00:00:00\", \"ppm\": 390.14}, {\"date_measured\": \"2009-06-01T00:00:00\", \"ppm\": 389.48}, {\"date_measured\": \"2009-07-01T00:00:00\", \"ppm\": 388.03}, {\"date_measured\": \"2009-08-01T00:00:00\", \"ppm\": 386.11}, {\"date_measured\": \"2009-09-01T00:00:00\", \"ppm\": 384.74}, {\"date_measured\": \"2009-10-01T00:00:00\", \"ppm\": 384.43}, {\"date_measured\": \"2009-11-01T00:00:00\", \"ppm\": 386.02}, {\"date_measured\": \"2009-12-01T00:00:00\", \"ppm\": 387.42}, {\"date_measured\": \"2010-01-01T00:00:00\", \"ppm\": 388.71}, {\"date_measured\": \"2010-02-01T00:00:00\", \"ppm\": 390.2}, {\"date_measured\": \"2010-03-01T00:00:00\", \"ppm\": 391.17}, {\"date_measured\": \"2010-04-01T00:00:00\", \"ppm\": 392.46}, {\"date_measured\": \"2010-05-01T00:00:00\", \"ppm\": 393.0}, {\"date_measured\": \"2010-06-01T00:00:00\", \"ppm\": 392.15}, {\"date_measured\": \"2010-07-01T00:00:00\", \"ppm\": 390.2}, {\"date_measured\": \"2010-08-01T00:00:00\", \"ppm\": 388.35}, {\"date_measured\": \"2010-09-01T00:00:00\", \"ppm\": 386.85}, {\"date_measured\": \"2010-10-01T00:00:00\", \"ppm\": 387.24}, {\"date_measured\": \"2010-11-01T00:00:00\", \"ppm\": 388.67}, {\"date_measured\": \"2010-12-01T00:00:00\", \"ppm\": 389.79}, {\"date_measured\": \"2011-01-01T00:00:00\", \"ppm\": 391.33}, {\"date_measured\": \"2011-02-01T00:00:00\", \"ppm\": 391.86}, {\"date_measured\": \"2011-03-01T00:00:00\", \"ppm\": 392.6}, {\"date_measured\": \"2011-04-01T00:00:00\", \"ppm\": 393.25}, {\"date_measured\": \"2011-05-01T00:00:00\", \"ppm\": 394.19}, {\"date_measured\": \"2011-06-01T00:00:00\", \"ppm\": 393.74}, {\"date_measured\": \"2011-07-01T00:00:00\", \"ppm\": 392.51}, {\"date_measured\": \"2011-08-01T00:00:00\", \"ppm\": 390.13}, {\"date_measured\": \"2011-09-01T00:00:00\", \"ppm\": 389.08}, {\"date_measured\": \"2011-10-01T00:00:00\", \"ppm\": 389.0}, {\"date_measured\": \"2011-11-01T00:00:00\", \"ppm\": 390.28}, {\"date_measured\": \"2011-12-01T00:00:00\", \"ppm\": 391.86}, {\"date_measured\": \"2012-01-01T00:00:00\", \"ppm\": 393.12}, {\"date_measured\": \"2012-02-01T00:00:00\", \"ppm\": 393.86}, {\"date_measured\": \"2012-03-01T00:00:00\", \"ppm\": 394.4}, {\"date_measured\": \"2012-04-01T00:00:00\", \"ppm\": 396.18}, {\"date_measured\": \"2012-05-01T00:00:00\", \"ppm\": 396.74}, {\"date_measured\": \"2012-06-01T00:00:00\", \"ppm\": 395.71}, {\"date_measured\": \"2012-07-01T00:00:00\", \"ppm\": 394.36}, {\"date_measured\": \"2012-08-01T00:00:00\", \"ppm\": 392.39}, {\"date_measured\": \"2012-09-01T00:00:00\", \"ppm\": 391.11}, {\"date_measured\": \"2012-10-01T00:00:00\", \"ppm\": 391.05}, {\"date_measured\": \"2012-11-01T00:00:00\", \"ppm\": 392.98}, {\"date_measured\": \"2012-12-01T00:00:00\", \"ppm\": 394.34}, {\"date_measured\": \"2013-01-01T00:00:00\", \"ppm\": 395.55}, {\"date_measured\": \"2013-02-01T00:00:00\", \"ppm\": 396.8}, {\"date_measured\": \"2013-03-01T00:00:00\", \"ppm\": 397.43}, {\"date_measured\": \"2013-04-01T00:00:00\", \"ppm\": 398.41}, {\"date_measured\": \"2013-05-01T00:00:00\", \"ppm\": 399.78}, {\"date_measured\": \"2013-06-01T00:00:00\", \"ppm\": 398.6}, {\"date_measured\": \"2013-07-01T00:00:00\", \"ppm\": 397.32}, {\"date_measured\": \"2013-08-01T00:00:00\", \"ppm\": 395.2}, {\"date_measured\": \"2013-09-01T00:00:00\", \"ppm\": 393.45}, {\"date_measured\": \"2013-10-01T00:00:00\", \"ppm\": 393.7}, {\"date_measured\": \"2013-11-01T00:00:00\", \"ppm\": 395.16}, {\"date_measured\": \"2013-12-01T00:00:00\", \"ppm\": 396.84}, {\"date_measured\": \"2014-01-01T00:00:00\", \"ppm\": 397.85}, {\"date_measured\": \"2014-02-01T00:00:00\", \"ppm\": 398.01}, {\"date_measured\": \"2014-03-01T00:00:00\", \"ppm\": 399.77}, {\"date_measured\": \"2014-04-01T00:00:00\", \"ppm\": 401.38}, {\"date_measured\": \"2014-05-01T00:00:00\", \"ppm\": 401.78}, {\"date_measured\": \"2014-06-01T00:00:00\", \"ppm\": 401.25}, {\"date_measured\": \"2014-07-01T00:00:00\", \"ppm\": 399.1}, {\"date_measured\": \"2014-08-01T00:00:00\", \"ppm\": 397.03}, {\"date_measured\": \"2014-09-01T00:00:00\", \"ppm\": 395.38}, {\"date_measured\": \"2014-10-01T00:00:00\", \"ppm\": 396.03}, {\"date_measured\": \"2014-11-01T00:00:00\", \"ppm\": 397.28}, {\"date_measured\": \"2014-12-01T00:00:00\", \"ppm\": 398.91}, {\"date_measured\": \"2015-01-01T00:00:00\", \"ppm\": 399.98}, {\"date_measured\": \"2015-02-01T00:00:00\", \"ppm\": 400.28}, {\"date_measured\": \"2015-03-01T00:00:00\", \"ppm\": 401.54}, {\"date_measured\": \"2015-04-01T00:00:00\", \"ppm\": 403.28}, {\"date_measured\": \"2015-05-01T00:00:00\", \"ppm\": 403.96}, {\"date_measured\": \"2015-06-01T00:00:00\", \"ppm\": 402.8}, {\"date_measured\": \"2015-07-01T00:00:00\", \"ppm\": 401.31}, {\"date_measured\": \"2015-08-01T00:00:00\", \"ppm\": 398.93}, {\"date_measured\": \"2015-09-01T00:00:00\", \"ppm\": 397.63}, {\"date_measured\": \"2015-10-01T00:00:00\", \"ppm\": 398.29}, {\"date_measured\": \"2015-11-01T00:00:00\", \"ppm\": 400.16}, {\"date_measured\": \"2015-12-01T00:00:00\", \"ppm\": 401.85}, {\"date_measured\": \"2016-01-01T00:00:00\", \"ppm\": 402.56}, {\"date_measured\": \"2016-02-01T00:00:00\", \"ppm\": 404.12}, {\"date_measured\": \"2016-03-01T00:00:00\", \"ppm\": 404.87}, {\"date_measured\": \"2016-04-01T00:00:00\", \"ppm\": 407.45}, {\"date_measured\": \"2016-05-01T00:00:00\", \"ppm\": 407.72}, {\"date_measured\": \"2016-06-01T00:00:00\", \"ppm\": 406.83}, {\"date_measured\": \"2016-07-01T00:00:00\", \"ppm\": 404.41}, {\"date_measured\": \"2016-08-01T00:00:00\", \"ppm\": 402.27}, {\"date_measured\": \"2016-09-01T00:00:00\", \"ppm\": 401.05}, {\"date_measured\": \"2016-10-01T00:00:00\", \"ppm\": 401.59}, {\"date_measured\": \"2016-11-01T00:00:00\", \"ppm\": 403.55}, {\"date_measured\": \"2016-12-01T00:00:00\", \"ppm\": 404.45}, {\"date_measured\": \"2017-01-01T00:00:00\", \"ppm\": 406.17}, {\"date_measured\": \"2017-02-01T00:00:00\", \"ppm\": 406.46}, {\"date_measured\": \"2017-03-01T00:00:00\", \"ppm\": 407.22}, {\"date_measured\": \"2017-04-01T00:00:00\", \"ppm\": 409.04}, {\"date_measured\": \"2017-05-01T00:00:00\", \"ppm\": 409.69}, {\"date_measured\": \"2017-06-01T00:00:00\", \"ppm\": 408.88}, {\"date_measured\": \"2017-07-01T00:00:00\", \"ppm\": 407.12}, {\"date_measured\": \"2017-08-01T00:00:00\", \"ppm\": 405.13}, {\"date_measured\": \"2017-09-01T00:00:00\", \"ppm\": 403.37}, {\"date_measured\": \"2017-10-01T00:00:00\", \"ppm\": 403.63}, {\"date_measured\": \"2017-11-01T00:00:00\", \"ppm\": 405.12}, {\"date_measured\": \"2017-12-01T00:00:00\", \"ppm\": 406.81}, {\"date_measured\": \"2018-01-01T00:00:00\", \"ppm\": 407.96}, {\"date_measured\": \"2018-02-01T00:00:00\", \"ppm\": 408.32}, {\"date_measured\": \"2018-03-01T00:00:00\", \"ppm\": 409.41}, {\"date_measured\": \"2018-04-01T00:00:00\", \"ppm\": 410.24}, {\"date_measured\": \"2018-05-01T00:00:00\", \"ppm\": 411.24}, {\"date_measured\": \"2018-06-01T00:00:00\", \"ppm\": 410.79}, {\"date_measured\": \"2018-07-01T00:00:00\", \"ppm\": 408.71}, {\"date_measured\": \"2018-08-01T00:00:00\", \"ppm\": 406.99}, {\"date_measured\": \"2018-09-01T00:00:00\", \"ppm\": 405.51}, {\"date_measured\": \"2018-10-01T00:00:00\", \"ppm\": 406.0}, {\"date_measured\": \"2018-11-01T00:00:00\", \"ppm\": 408.02}, {\"date_measured\": \"2018-12-01T00:00:00\", \"ppm\": 409.07}, {\"date_measured\": \"2019-01-01T00:00:00\", \"ppm\": 410.83}, {\"date_measured\": \"2019-02-01T00:00:00\", \"ppm\": 411.75}, {\"date_measured\": \"2019-03-01T00:00:00\", \"ppm\": 411.97}, {\"date_measured\": \"2019-04-01T00:00:00\", \"ppm\": 413.33}, {\"date_measured\": \"2019-05-01T00:00:00\", \"ppm\": 414.64}, {\"date_measured\": \"2019-06-01T00:00:00\", \"ppm\": 413.93}, {\"date_measured\": \"2019-07-01T00:00:00\", \"ppm\": 411.74}, {\"date_measured\": \"2019-08-01T00:00:00\", \"ppm\": 409.95}, {\"date_measured\": \"2019-09-01T00:00:00\", \"ppm\": 408.54}, {\"date_measured\": \"2019-10-01T00:00:00\", \"ppm\": 408.52}, {\"date_measured\": \"2019-11-01T00:00:00\", \"ppm\": 410.25}, {\"date_measured\": \"2019-12-01T00:00:00\", \"ppm\": 411.76}, {\"date_measured\": \"2020-01-01T00:00:00\", \"ppm\": 413.39}, {\"date_measured\": \"2020-02-01T00:00:00\", \"ppm\": 414.11}, {\"date_measured\": \"2020-03-01T00:00:00\", \"ppm\": 414.51}, {\"date_measured\": \"2020-04-01T00:00:00\", \"ppm\": 416.21}, {\"date_measured\": \"2020-05-01T00:00:00\", \"ppm\": 417.07}, {\"date_measured\": \"2020-06-01T00:00:00\", \"ppm\": 416.39}]}}, {\"mode\": \"vega-lite\"});\n",
       "</script>"
      ],
      "text/plain": [
       "alt.Chart(...)"
      ]
     },
     "metadata": {
      "scrapbook": {
       "mime_prefix": "",
       "name": "co2_line"
      }
     },
     "output_type": "display_data"
    }
   ],
   "source": [
    "glue('co2_line', co2_line, display=True)"
   ]
  },
  {
   "cell_type": "markdown",
   "id": "70d4f66f",
   "metadata": {},
   "source": [
    ":::{glue:figure} co2_line \n",
    ":figwidth: 700px \n",
    ":name: co2_line\n",
    "\n",
    "Line plot of atmospheric concentration of CO$_{2}$ over time with clearer axes and labels.\n",
    ":::\n",
    "\n",
    "> **Note:** The `theme` function is quite complex and has many arguments \n",
    "> that can be specified to control many non-data aspects of a visualization.\n",
    "> An in-depth discussion of the `theme` function is beyond the scope of this book.\n",
    "> Interested readers may consult the `theme` function documentation;\n",
    "> see the additional resources section at the end of this chapter.\n",
    "\n",
    "Finally, let's see if we can better understand the oscillation by changing the\n",
    "visualization slightly. Note that it is totally fine to use a small number of\n",
    "visualizations to answer different aspects of the question you are trying to\n",
    "answer. We will accomplish this by using *scales*, \\index{ggplot!scales}\n",
    "another important feature of `ggplot2` that easily transforms the different\n",
    "variables and set limits.  We scale the horizontal axis using the `xlim` function,\n",
    "and the vertical axis with the `ylim` function.\n",
    "In particular, here, we will use the `xlim` function to zoom in \n",
    "on just five years of data (say, 1990-1994).\n",
    "`xlim` takes a vector of length two \n",
    "to specify the upper and lower bounds to limit the axis. \n",
    "We can create that using the `c` function.\n",
    "Note that it is important that the vector given to `xlim` must be of the same\n",
    "type as the data that is mapped to that axis. \n",
    "Here, we have mapped a date to the x-axis, \n",
    "and so we need to use the `date` function \n",
    "(from the `tidyverse` [`lubridate` R package](https://lubridate.tidyverse.org/) [@lubridate; @lubridatepaper]) \n",
    "to convert the character strings we provide to `c` to `date` vectors.\n",
    "\n",
    "> **Note:** `lubridate` is a package that is installed by the `tidyverse` metapackage,\n",
    "> but is not loaded by it. \n",
    "> Hence we need to load it separately in the code below.\n",
    "\n",
    "```{r 03-data-co2-line-3, warning = FALSE, message = FALSE, fig.height = 3.1, fig.width = 4.5, fig.align = \"center\", fig.pos = \"H\", out.extra=\"\", fig.cap = \"Line plot of atmospheric concentration of CO$_{2}$ from 1990 to 1994.\"}\n",
    "library(lubridate)\n",
    "\n",
    "co2_line <- ggplot(co2_df, aes(x = date_measured, y = ppm)) +\n",
    "  geom_line() +\n",
    "  xlab(\"Year\") +\n",
    "  ylab(\"Atmospheric CO2 (ppm)\") +\n",
    "  xlim(c(date(\"1990-01-01\"), date(\"1993-12-01\"))) +\n",
    "  theme(text = element_text(size = 12))\n",
    "\n",
    "co2_line\n",
    "```"
   ]
  },
  {
   "cell_type": "code",
   "execution_count": 13,
   "id": "dae6ec46",
   "metadata": {},
   "outputs": [
    {
     "data": {
      "text/html": [
       "\n",
       "<div id=\"altair-viz-fdc0acb7b86e4c7888d1fed0ecc4e483\"></div>\n",
       "<script type=\"text/javascript\">\n",
       "  var VEGA_DEBUG = (typeof VEGA_DEBUG == \"undefined\") ? {} : VEGA_DEBUG;\n",
       "  (function(spec, embedOpt){\n",
       "    let outputDiv = document.currentScript.previousElementSibling;\n",
       "    if (outputDiv.id !== \"altair-viz-fdc0acb7b86e4c7888d1fed0ecc4e483\") {\n",
       "      outputDiv = document.getElementById(\"altair-viz-fdc0acb7b86e4c7888d1fed0ecc4e483\");\n",
       "    }\n",
       "    const paths = {\n",
       "      \"vega\": \"https://cdn.jsdelivr.net/npm//vega@5?noext\",\n",
       "      \"vega-lib\": \"https://cdn.jsdelivr.net/npm//vega-lib?noext\",\n",
       "      \"vega-lite\": \"https://cdn.jsdelivr.net/npm//vega-lite@4.17.0?noext\",\n",
       "      \"vega-embed\": \"https://cdn.jsdelivr.net/npm//vega-embed@6?noext\",\n",
       "    };\n",
       "\n",
       "    function maybeLoadScript(lib, version) {\n",
       "      var key = `${lib.replace(\"-\", \"\")}_version`;\n",
       "      return (VEGA_DEBUG[key] == version) ?\n",
       "        Promise.resolve(paths[lib]) :\n",
       "        new Promise(function(resolve, reject) {\n",
       "          var s = document.createElement('script');\n",
       "          document.getElementsByTagName(\"head\")[0].appendChild(s);\n",
       "          s.async = true;\n",
       "          s.onload = () => {\n",
       "            VEGA_DEBUG[key] = version;\n",
       "            return resolve(paths[lib]);\n",
       "          };\n",
       "          s.onerror = () => reject(`Error loading script: ${paths[lib]}`);\n",
       "          s.src = paths[lib];\n",
       "        });\n",
       "    }\n",
       "\n",
       "    function showError(err) {\n",
       "      outputDiv.innerHTML = `<div class=\"error\" style=\"color:red;\">${err}</div>`;\n",
       "      throw err;\n",
       "    }\n",
       "\n",
       "    function displayChart(vegaEmbed) {\n",
       "      vegaEmbed(outputDiv, spec, embedOpt)\n",
       "        .catch(err => showError(`Javascript Error: ${err.message}<br>This usually means there's a typo in your chart specification. See the javascript console for the full traceback.`));\n",
       "    }\n",
       "\n",
       "    if(typeof define === \"function\" && define.amd) {\n",
       "      requirejs.config({paths});\n",
       "      require([\"vega-embed\"], displayChart, err => showError(`Error loading script: ${err.message}`));\n",
       "    } else {\n",
       "      maybeLoadScript(\"vega\", \"5\")\n",
       "        .then(() => maybeLoadScript(\"vega-lite\", \"4.17.0\"))\n",
       "        .then(() => maybeLoadScript(\"vega-embed\", \"6\"))\n",
       "        .catch(showError)\n",
       "        .then(() => displayChart(vegaEmbed));\n",
       "    }\n",
       "  })({\"config\": {\"view\": {\"continuousWidth\": 400, \"continuousHeight\": 300}, \"axis\": {\"titleFontSize\": 12}}, \"data\": {\"name\": \"data-f45e55a1afbf2ebd33628debecc2788a\"}, \"mark\": {\"type\": \"line\", \"color\": \"black\"}, \"encoding\": {\"x\": {\"field\": \"date_measured\", \"title\": \"Year\", \"type\": \"temporal\"}, \"y\": {\"field\": \"ppm\", \"scale\": {\"zero\": false}, \"title\": \"Atmospheric CO2 (ppm)\", \"type\": \"quantitative\"}}, \"$schema\": \"https://vega.github.io/schema/vega-lite/v4.17.0.json\", \"datasets\": {\"data-f45e55a1afbf2ebd33628debecc2788a\": [{\"date_measured\": \"1990-01-01T00:00:00\", \"ppm\": 353.8}, {\"date_measured\": \"1990-02-01T00:00:00\", \"ppm\": 355.04}, {\"date_measured\": \"1990-03-01T00:00:00\", \"ppm\": 355.73}, {\"date_measured\": \"1990-04-01T00:00:00\", \"ppm\": 356.32}, {\"date_measured\": \"1990-05-01T00:00:00\", \"ppm\": 357.32}, {\"date_measured\": \"1990-06-01T00:00:00\", \"ppm\": 356.34}, {\"date_measured\": \"1990-07-01T00:00:00\", \"ppm\": 354.84}, {\"date_measured\": \"1990-08-01T00:00:00\", \"ppm\": 353.01}, {\"date_measured\": \"1990-09-01T00:00:00\", \"ppm\": 351.31}, {\"date_measured\": \"1990-10-01T00:00:00\", \"ppm\": 351.62}, {\"date_measured\": \"1990-11-01T00:00:00\", \"ppm\": 353.07}, {\"date_measured\": \"1990-12-01T00:00:00\", \"ppm\": 354.33}, {\"date_measured\": \"1991-01-01T00:00:00\", \"ppm\": 354.84}, {\"date_measured\": \"1991-02-01T00:00:00\", \"ppm\": 355.73}, {\"date_measured\": \"1991-03-01T00:00:00\", \"ppm\": 357.23}, {\"date_measured\": \"1991-04-01T00:00:00\", \"ppm\": 358.66}, {\"date_measured\": \"1991-05-01T00:00:00\", \"ppm\": 359.13}, {\"date_measured\": \"1991-06-01T00:00:00\", \"ppm\": 358.13}, {\"date_measured\": \"1991-07-01T00:00:00\", \"ppm\": 356.19}, {\"date_measured\": \"1991-08-01T00:00:00\", \"ppm\": 353.85}, {\"date_measured\": \"1991-09-01T00:00:00\", \"ppm\": 352.25}, {\"date_measured\": \"1991-10-01T00:00:00\", \"ppm\": 352.35}, {\"date_measured\": \"1991-11-01T00:00:00\", \"ppm\": 353.81}, {\"date_measured\": \"1991-12-01T00:00:00\", \"ppm\": 355.12}, {\"date_measured\": \"1992-01-01T00:00:00\", \"ppm\": 356.25}, {\"date_measured\": \"1992-02-01T00:00:00\", \"ppm\": 357.11}, {\"date_measured\": \"1992-03-01T00:00:00\", \"ppm\": 357.86}, {\"date_measured\": \"1992-04-01T00:00:00\", \"ppm\": 359.09}, {\"date_measured\": \"1992-05-01T00:00:00\", \"ppm\": 359.59}, {\"date_measured\": \"1992-06-01T00:00:00\", \"ppm\": 359.33}, {\"date_measured\": \"1992-07-01T00:00:00\", \"ppm\": 357.01}, {\"date_measured\": \"1992-08-01T00:00:00\", \"ppm\": 354.94}, {\"date_measured\": \"1992-09-01T00:00:00\", \"ppm\": 352.95}, {\"date_measured\": \"1992-10-01T00:00:00\", \"ppm\": 353.32}, {\"date_measured\": \"1992-11-01T00:00:00\", \"ppm\": 354.32}, {\"date_measured\": \"1992-12-01T00:00:00\", \"ppm\": 355.57}, {\"date_measured\": \"1993-01-01T00:00:00\", \"ppm\": 357.0}]}}, {\"mode\": \"vega-lite\"});\n",
       "</script>"
      ],
      "text/plain": [
       "alt.Chart(...)"
      ]
     },
     "execution_count": 13,
     "metadata": {},
     "output_type": "execute_result"
    }
   ],
   "source": [
    "co2_dates = co2_df.loc[(co2_df.date_measured >= '1990-01-01') &  (co2_df.date_measured <= '1993-01-01')]\n",
    "\n",
    "co2_line = alt.Chart(co2_dates).mark_line(color='black').encode(\n",
    "    x = alt.X(\"date_measured:T\",title = \"Year\"),\n",
    "    y = alt.Y(\"ppm\", scale=alt.Scale(zero=False), title = \"Atmospheric CO2 (ppm)\")).configure_axis(\n",
    "    titleFontSize=12)\n",
    "\n",
    "\n",
    "\n",
    "co2_line"
   ]
  },
  {
   "cell_type": "code",
   "execution_count": 14,
   "id": "c6c74aea",
   "metadata": {
    "tags": [
     "remove-cell"
    ]
   },
   "outputs": [
    {
     "data": {
      "text/html": [
       "\n",
       "<div id=\"altair-viz-b9facc8c72d04cd68ec5fda5b53ec72f\"></div>\n",
       "<script type=\"text/javascript\">\n",
       "  var VEGA_DEBUG = (typeof VEGA_DEBUG == \"undefined\") ? {} : VEGA_DEBUG;\n",
       "  (function(spec, embedOpt){\n",
       "    let outputDiv = document.currentScript.previousElementSibling;\n",
       "    if (outputDiv.id !== \"altair-viz-b9facc8c72d04cd68ec5fda5b53ec72f\") {\n",
       "      outputDiv = document.getElementById(\"altair-viz-b9facc8c72d04cd68ec5fda5b53ec72f\");\n",
       "    }\n",
       "    const paths = {\n",
       "      \"vega\": \"https://cdn.jsdelivr.net/npm//vega@5?noext\",\n",
       "      \"vega-lib\": \"https://cdn.jsdelivr.net/npm//vega-lib?noext\",\n",
       "      \"vega-lite\": \"https://cdn.jsdelivr.net/npm//vega-lite@4.17.0?noext\",\n",
       "      \"vega-embed\": \"https://cdn.jsdelivr.net/npm//vega-embed@6?noext\",\n",
       "    };\n",
       "\n",
       "    function maybeLoadScript(lib, version) {\n",
       "      var key = `${lib.replace(\"-\", \"\")}_version`;\n",
       "      return (VEGA_DEBUG[key] == version) ?\n",
       "        Promise.resolve(paths[lib]) :\n",
       "        new Promise(function(resolve, reject) {\n",
       "          var s = document.createElement('script');\n",
       "          document.getElementsByTagName(\"head\")[0].appendChild(s);\n",
       "          s.async = true;\n",
       "          s.onload = () => {\n",
       "            VEGA_DEBUG[key] = version;\n",
       "            return resolve(paths[lib]);\n",
       "          };\n",
       "          s.onerror = () => reject(`Error loading script: ${paths[lib]}`);\n",
       "          s.src = paths[lib];\n",
       "        });\n",
       "    }\n",
       "\n",
       "    function showError(err) {\n",
       "      outputDiv.innerHTML = `<div class=\"error\" style=\"color:red;\">${err}</div>`;\n",
       "      throw err;\n",
       "    }\n",
       "\n",
       "    function displayChart(vegaEmbed) {\n",
       "      vegaEmbed(outputDiv, spec, embedOpt)\n",
       "        .catch(err => showError(`Javascript Error: ${err.message}<br>This usually means there's a typo in your chart specification. See the javascript console for the full traceback.`));\n",
       "    }\n",
       "\n",
       "    if(typeof define === \"function\" && define.amd) {\n",
       "      requirejs.config({paths});\n",
       "      require([\"vega-embed\"], displayChart, err => showError(`Error loading script: ${err.message}`));\n",
       "    } else {\n",
       "      maybeLoadScript(\"vega\", \"5\")\n",
       "        .then(() => maybeLoadScript(\"vega-lite\", \"4.17.0\"))\n",
       "        .then(() => maybeLoadScript(\"vega-embed\", \"6\"))\n",
       "        .catch(showError)\n",
       "        .then(() => displayChart(vegaEmbed));\n",
       "    }\n",
       "  })({\"config\": {\"view\": {\"continuousWidth\": 400, \"continuousHeight\": 300}, \"axis\": {\"titleFontSize\": 12}}, \"data\": {\"name\": \"data-f45e55a1afbf2ebd33628debecc2788a\"}, \"mark\": {\"type\": \"line\", \"color\": \"black\"}, \"encoding\": {\"x\": {\"field\": \"date_measured\", \"title\": \"Year\", \"type\": \"temporal\"}, \"y\": {\"field\": \"ppm\", \"scale\": {\"zero\": false}, \"title\": \"Atmospheric CO2 (ppm)\", \"type\": \"quantitative\"}}, \"$schema\": \"https://vega.github.io/schema/vega-lite/v4.17.0.json\", \"datasets\": {\"data-f45e55a1afbf2ebd33628debecc2788a\": [{\"date_measured\": \"1990-01-01T00:00:00\", \"ppm\": 353.8}, {\"date_measured\": \"1990-02-01T00:00:00\", \"ppm\": 355.04}, {\"date_measured\": \"1990-03-01T00:00:00\", \"ppm\": 355.73}, {\"date_measured\": \"1990-04-01T00:00:00\", \"ppm\": 356.32}, {\"date_measured\": \"1990-05-01T00:00:00\", \"ppm\": 357.32}, {\"date_measured\": \"1990-06-01T00:00:00\", \"ppm\": 356.34}, {\"date_measured\": \"1990-07-01T00:00:00\", \"ppm\": 354.84}, {\"date_measured\": \"1990-08-01T00:00:00\", \"ppm\": 353.01}, {\"date_measured\": \"1990-09-01T00:00:00\", \"ppm\": 351.31}, {\"date_measured\": \"1990-10-01T00:00:00\", \"ppm\": 351.62}, {\"date_measured\": \"1990-11-01T00:00:00\", \"ppm\": 353.07}, {\"date_measured\": \"1990-12-01T00:00:00\", \"ppm\": 354.33}, {\"date_measured\": \"1991-01-01T00:00:00\", \"ppm\": 354.84}, {\"date_measured\": \"1991-02-01T00:00:00\", \"ppm\": 355.73}, {\"date_measured\": \"1991-03-01T00:00:00\", \"ppm\": 357.23}, {\"date_measured\": \"1991-04-01T00:00:00\", \"ppm\": 358.66}, {\"date_measured\": \"1991-05-01T00:00:00\", \"ppm\": 359.13}, {\"date_measured\": \"1991-06-01T00:00:00\", \"ppm\": 358.13}, {\"date_measured\": \"1991-07-01T00:00:00\", \"ppm\": 356.19}, {\"date_measured\": \"1991-08-01T00:00:00\", \"ppm\": 353.85}, {\"date_measured\": \"1991-09-01T00:00:00\", \"ppm\": 352.25}, {\"date_measured\": \"1991-10-01T00:00:00\", \"ppm\": 352.35}, {\"date_measured\": \"1991-11-01T00:00:00\", \"ppm\": 353.81}, {\"date_measured\": \"1991-12-01T00:00:00\", \"ppm\": 355.12}, {\"date_measured\": \"1992-01-01T00:00:00\", \"ppm\": 356.25}, {\"date_measured\": \"1992-02-01T00:00:00\", \"ppm\": 357.11}, {\"date_measured\": \"1992-03-01T00:00:00\", \"ppm\": 357.86}, {\"date_measured\": \"1992-04-01T00:00:00\", \"ppm\": 359.09}, {\"date_measured\": \"1992-05-01T00:00:00\", \"ppm\": 359.59}, {\"date_measured\": \"1992-06-01T00:00:00\", \"ppm\": 359.33}, {\"date_measured\": \"1992-07-01T00:00:00\", \"ppm\": 357.01}, {\"date_measured\": \"1992-08-01T00:00:00\", \"ppm\": 354.94}, {\"date_measured\": \"1992-09-01T00:00:00\", \"ppm\": 352.95}, {\"date_measured\": \"1992-10-01T00:00:00\", \"ppm\": 353.32}, {\"date_measured\": \"1992-11-01T00:00:00\", \"ppm\": 354.32}, {\"date_measured\": \"1992-12-01T00:00:00\", \"ppm\": 355.57}, {\"date_measured\": \"1993-01-01T00:00:00\", \"ppm\": 357.0}]}}, {\"mode\": \"vega-lite\"});\n",
       "</script>"
      ],
      "text/plain": [
       "alt.Chart(...)"
      ]
     },
     "metadata": {
      "scrapbook": {
       "mime_prefix": "",
       "name": "co2_line"
      }
     },
     "output_type": "display_data"
    }
   ],
   "source": [
    "glue('co2_line', co2_line, display=True)"
   ]
  },
  {
   "cell_type": "markdown",
   "id": "3b77db97",
   "metadata": {},
   "source": [
    ":::{glue:figure} co2_line \n",
    ":figwidth: 700px \n",
    ":name: co2_line\n",
    "\n",
    "Line plot of atmospheric concentration of CO$_{2}$ from 1990 to 1994.\n",
    ":::\n",
    "\n",
    "Interesting! It seems that each year, the atmospheric CO$_{\\text{2}}$ increases until it reaches its peak somewhere around April, decreases until around late September, \n",
    "and finally increases again until the end of the year. In Hawaii, there are two seasons: summer from May through October, and winter from November through April.\n",
    "Therefore, the oscillating pattern in CO$_{\\text{2}}$ matches up fairly closely with the two seasons.\n",
    "\n",
    "As you might have noticed from the code used to create the final visualization\n",
    "of the `co2_df` data frame, \n",
    "we construct the visualizations in `ggplot` with layers.\n",
    "New layers are added with the `+` operator, \n",
    "and we can really add as many as we would like!\n",
    "A useful analogy to constructing a data visualization is painting a picture.\n",
    "We start with a blank canvas, \n",
    "and the first thing we do is prepare the surface \n",
    "for our painting by adding primer. \n",
    "In our data visualization this is akin to calling `ggplot` \n",
    "and specifying the data set we will be using.\n",
    "Next, we sketch out the background of the painting. \n",
    "In our data visualization, \n",
    "this would be when we map data to the axes in the `aes` function.\n",
    "Then we add our key visual subjects to the painting.\n",
    "In our data visualization, \n",
    "this would be the geometric objects (e.g., `geom_point`, `geom_line`, etc.).\n",
    "And finally, we work on adding details and refinements to the painting.\n",
    "In our data visualization this would be when we fine tune axis labels,\n",
    "change the font, adjust the point size, and do other related things.\n",
    "\n",
    "### Scatter plots: the Old Faithful eruption time data set\n",
    "The `faithful` data set \\index{Old Faithful} contains measurements \n",
    "of the waiting time between eruptions \n",
    "and the subsequent eruption duration (in minutes) of the Old Faithful\n",
    "geyser in Yellowstone National Park, Wyoming, United States. \n",
    "The `faithful` data set is available in base R as a data frame,\n",
    "so it does not need to be loaded.\n",
    "We convert it to a tibble to take advantage of the nicer print output \n",
    "these specialized data frames provide.\n",
    "\n",
    "**Question:** \\index{question!visualization} \n",
    "Is there a relationship between the waiting time before an eruption \n",
    "and the duration of the eruption? \n",
    "\n",
    "```{r 03-data-faithful, warning=FALSE, message=FALSE}\n",
    "# old faithful eruption time / wait time data\n",
    "faithful <- as_tibble(faithful)\n",
    "faithful\n",
    "```"
   ]
  },
  {
   "cell_type": "code",
   "execution_count": 15,
   "id": "b8869e80",
   "metadata": {},
   "outputs": [
    {
     "data": {
      "text/html": [
       "<div>\n",
       "<style scoped>\n",
       "    .dataframe tbody tr th:only-of-type {\n",
       "        vertical-align: middle;\n",
       "    }\n",
       "\n",
       "    .dataframe tbody tr th {\n",
       "        vertical-align: top;\n",
       "    }\n",
       "\n",
       "    .dataframe thead th {\n",
       "        text-align: right;\n",
       "    }\n",
       "</style>\n",
       "<table border=\"1\" class=\"dataframe\">\n",
       "  <thead>\n",
       "    <tr style=\"text-align: right;\">\n",
       "      <th></th>\n",
       "      <th>eruptions</th>\n",
       "      <th>waiting</th>\n",
       "    </tr>\n",
       "  </thead>\n",
       "  <tbody>\n",
       "    <tr>\n",
       "      <th>0</th>\n",
       "      <td>3.600</td>\n",
       "      <td>79</td>\n",
       "    </tr>\n",
       "    <tr>\n",
       "      <th>1</th>\n",
       "      <td>1.800</td>\n",
       "      <td>54</td>\n",
       "    </tr>\n",
       "    <tr>\n",
       "      <th>2</th>\n",
       "      <td>3.333</td>\n",
       "      <td>74</td>\n",
       "    </tr>\n",
       "    <tr>\n",
       "      <th>3</th>\n",
       "      <td>2.283</td>\n",
       "      <td>62</td>\n",
       "    </tr>\n",
       "    <tr>\n",
       "      <th>4</th>\n",
       "      <td>4.533</td>\n",
       "      <td>85</td>\n",
       "    </tr>\n",
       "    <tr>\n",
       "      <th>...</th>\n",
       "      <td>...</td>\n",
       "      <td>...</td>\n",
       "    </tr>\n",
       "    <tr>\n",
       "      <th>267</th>\n",
       "      <td>4.117</td>\n",
       "      <td>81</td>\n",
       "    </tr>\n",
       "    <tr>\n",
       "      <th>268</th>\n",
       "      <td>2.150</td>\n",
       "      <td>46</td>\n",
       "    </tr>\n",
       "    <tr>\n",
       "      <th>269</th>\n",
       "      <td>4.417</td>\n",
       "      <td>90</td>\n",
       "    </tr>\n",
       "    <tr>\n",
       "      <th>270</th>\n",
       "      <td>1.817</td>\n",
       "      <td>46</td>\n",
       "    </tr>\n",
       "    <tr>\n",
       "      <th>271</th>\n",
       "      <td>4.467</td>\n",
       "      <td>74</td>\n",
       "    </tr>\n",
       "  </tbody>\n",
       "</table>\n",
       "<p>272 rows × 2 columns</p>\n",
       "</div>"
      ],
      "text/plain": [
       "     eruptions  waiting\n",
       "0        3.600       79\n",
       "1        1.800       54\n",
       "2        3.333       74\n",
       "3        2.283       62\n",
       "4        4.533       85\n",
       "..         ...      ...\n",
       "267      4.117       81\n",
       "268      2.150       46\n",
       "269      4.417       90\n",
       "270      1.817       46\n",
       "271      4.467       74\n",
       "\n",
       "[272 rows x 2 columns]"
      ]
     },
     "execution_count": 15,
     "metadata": {},
     "output_type": "execute_result"
    }
   ],
   "source": [
    "faithful = pd.read_csv(\"data/faithful.csv\")\n",
    "faithful\n"
   ]
  },
  {
   "cell_type": "markdown",
   "id": "5a82f39b",
   "metadata": {},
   "source": [
    "Here again, we investigate the relationship between two quantitative variables \n",
    "(waiting time and eruption time). \n",
    "But if you look at the output of the data frame, \n",
    "you'll notice that unlike time in the Mauna Loa CO$_{\\text{2}}$ data set,\n",
    "neither of the variables here have a natural order to them.\n",
    "So a scatter plot is likely to be the most appropriate\n",
    "visualization. Let's create a scatter plot using the `ggplot`\n",
    "function with the `waiting` variable on the horizontal axis, the `eruptions` \n",
    "variable on the vertical axis, and the `geom_point` geometric object.\n",
    "The result is shown in Figure \\@ref(fig:03-data-faithful-scatter).\n",
    "\n",
    "```{r 03-data-faithful-scatter, warning=FALSE, message=FALSE, fig.height = 3.5, fig.width = 3.75, fig.align = \"center\", fig.pos = \"H\", out.extra=\"\", fig.cap = \"Scatter plot of waiting time and eruption time.\"}\n",
    "faithful_scatter <- ggplot(faithful, aes(x = waiting, y = eruptions)) +\n",
    "  geom_point()\n",
    "\n",
    "faithful_scatter\n",
    "```"
   ]
  },
  {
   "cell_type": "code",
   "execution_count": 16,
   "id": "15e44366",
   "metadata": {},
   "outputs": [],
   "source": [
    "faithful_scatter = alt.Chart(faithful).mark_circle(color='black').encode(\n",
    "    x = \"waiting\",\n",
    "    y = \"eruptions\"\n",
    ")\n"
   ]
  },
  {
   "cell_type": "code",
   "execution_count": 17,
   "id": "52868835",
   "metadata": {
    "tags": [
     "remove-cell"
    ]
   },
   "outputs": [
    {
     "data": {
      "text/html": [
       "\n",
       "<div id=\"altair-viz-1fdb50712ddd418e96408b13b058b807\"></div>\n",
       "<script type=\"text/javascript\">\n",
       "  var VEGA_DEBUG = (typeof VEGA_DEBUG == \"undefined\") ? {} : VEGA_DEBUG;\n",
       "  (function(spec, embedOpt){\n",
       "    let outputDiv = document.currentScript.previousElementSibling;\n",
       "    if (outputDiv.id !== \"altair-viz-1fdb50712ddd418e96408b13b058b807\") {\n",
       "      outputDiv = document.getElementById(\"altair-viz-1fdb50712ddd418e96408b13b058b807\");\n",
       "    }\n",
       "    const paths = {\n",
       "      \"vega\": \"https://cdn.jsdelivr.net/npm//vega@5?noext\",\n",
       "      \"vega-lib\": \"https://cdn.jsdelivr.net/npm//vega-lib?noext\",\n",
       "      \"vega-lite\": \"https://cdn.jsdelivr.net/npm//vega-lite@4.17.0?noext\",\n",
       "      \"vega-embed\": \"https://cdn.jsdelivr.net/npm//vega-embed@6?noext\",\n",
       "    };\n",
       "\n",
       "    function maybeLoadScript(lib, version) {\n",
       "      var key = `${lib.replace(\"-\", \"\")}_version`;\n",
       "      return (VEGA_DEBUG[key] == version) ?\n",
       "        Promise.resolve(paths[lib]) :\n",
       "        new Promise(function(resolve, reject) {\n",
       "          var s = document.createElement('script');\n",
       "          document.getElementsByTagName(\"head\")[0].appendChild(s);\n",
       "          s.async = true;\n",
       "          s.onload = () => {\n",
       "            VEGA_DEBUG[key] = version;\n",
       "            return resolve(paths[lib]);\n",
       "          };\n",
       "          s.onerror = () => reject(`Error loading script: ${paths[lib]}`);\n",
       "          s.src = paths[lib];\n",
       "        });\n",
       "    }\n",
       "\n",
       "    function showError(err) {\n",
       "      outputDiv.innerHTML = `<div class=\"error\" style=\"color:red;\">${err}</div>`;\n",
       "      throw err;\n",
       "    }\n",
       "\n",
       "    function displayChart(vegaEmbed) {\n",
       "      vegaEmbed(outputDiv, spec, embedOpt)\n",
       "        .catch(err => showError(`Javascript Error: ${err.message}<br>This usually means there's a typo in your chart specification. See the javascript console for the full traceback.`));\n",
       "    }\n",
       "\n",
       "    if(typeof define === \"function\" && define.amd) {\n",
       "      requirejs.config({paths});\n",
       "      require([\"vega-embed\"], displayChart, err => showError(`Error loading script: ${err.message}`));\n",
       "    } else {\n",
       "      maybeLoadScript(\"vega\", \"5\")\n",
       "        .then(() => maybeLoadScript(\"vega-lite\", \"4.17.0\"))\n",
       "        .then(() => maybeLoadScript(\"vega-embed\", \"6\"))\n",
       "        .catch(showError)\n",
       "        .then(() => displayChart(vegaEmbed));\n",
       "    }\n",
       "  })({\"config\": {\"view\": {\"continuousWidth\": 400, \"continuousHeight\": 300}}, \"data\": {\"name\": \"data-5e01a96a81f10c72d948a86132ecb6d1\"}, \"mark\": {\"type\": \"circle\", \"color\": \"black\"}, \"encoding\": {\"x\": {\"field\": \"waiting\", \"type\": \"quantitative\"}, \"y\": {\"field\": \"eruptions\", \"type\": \"quantitative\"}}, \"$schema\": \"https://vega.github.io/schema/vega-lite/v4.17.0.json\", \"datasets\": {\"data-5e01a96a81f10c72d948a86132ecb6d1\": [{\"eruptions\": 3.6, \"waiting\": 79}, {\"eruptions\": 1.8, \"waiting\": 54}, {\"eruptions\": 3.333, \"waiting\": 74}, {\"eruptions\": 2.283, \"waiting\": 62}, {\"eruptions\": 4.533, \"waiting\": 85}, {\"eruptions\": 2.883, \"waiting\": 55}, {\"eruptions\": 4.7, \"waiting\": 88}, {\"eruptions\": 3.6, \"waiting\": 85}, {\"eruptions\": 1.95, \"waiting\": 51}, {\"eruptions\": 4.35, \"waiting\": 85}, {\"eruptions\": 1.833, \"waiting\": 54}, {\"eruptions\": 3.917, \"waiting\": 84}, {\"eruptions\": 4.2, \"waiting\": 78}, {\"eruptions\": 1.75, \"waiting\": 47}, {\"eruptions\": 4.7, \"waiting\": 83}, {\"eruptions\": 2.167, \"waiting\": 52}, {\"eruptions\": 1.75, \"waiting\": 62}, {\"eruptions\": 4.8, \"waiting\": 84}, {\"eruptions\": 1.6, \"waiting\": 52}, {\"eruptions\": 4.25, \"waiting\": 79}, {\"eruptions\": 1.8, \"waiting\": 51}, {\"eruptions\": 1.75, \"waiting\": 47}, {\"eruptions\": 3.45, \"waiting\": 78}, {\"eruptions\": 3.067, \"waiting\": 69}, {\"eruptions\": 4.533, \"waiting\": 74}, {\"eruptions\": 3.6, \"waiting\": 83}, {\"eruptions\": 1.967, \"waiting\": 55}, {\"eruptions\": 4.083, \"waiting\": 76}, {\"eruptions\": 3.85, \"waiting\": 78}, {\"eruptions\": 4.433, \"waiting\": 79}, {\"eruptions\": 4.3, \"waiting\": 73}, {\"eruptions\": 4.467, \"waiting\": 77}, {\"eruptions\": 3.367, \"waiting\": 66}, {\"eruptions\": 4.033, \"waiting\": 80}, {\"eruptions\": 3.833, \"waiting\": 74}, {\"eruptions\": 2.017, \"waiting\": 52}, {\"eruptions\": 1.867, \"waiting\": 48}, {\"eruptions\": 4.833, \"waiting\": 80}, {\"eruptions\": 1.833, \"waiting\": 59}, {\"eruptions\": 4.783, \"waiting\": 90}, {\"eruptions\": 4.35, \"waiting\": 80}, {\"eruptions\": 1.883, \"waiting\": 58}, {\"eruptions\": 4.567, \"waiting\": 84}, {\"eruptions\": 1.75, \"waiting\": 58}, {\"eruptions\": 4.533, \"waiting\": 73}, {\"eruptions\": 3.317, \"waiting\": 83}, {\"eruptions\": 3.833, \"waiting\": 64}, {\"eruptions\": 2.1, \"waiting\": 53}, {\"eruptions\": 4.633, \"waiting\": 82}, {\"eruptions\": 2.0, \"waiting\": 59}, {\"eruptions\": 4.8, \"waiting\": 75}, {\"eruptions\": 4.716, \"waiting\": 90}, {\"eruptions\": 1.833, \"waiting\": 54}, {\"eruptions\": 4.833, \"waiting\": 80}, {\"eruptions\": 1.733, \"waiting\": 54}, {\"eruptions\": 4.883, \"waiting\": 83}, {\"eruptions\": 3.717, \"waiting\": 71}, {\"eruptions\": 1.667, \"waiting\": 64}, {\"eruptions\": 4.567, \"waiting\": 77}, {\"eruptions\": 4.317, \"waiting\": 81}, {\"eruptions\": 2.233, \"waiting\": 59}, {\"eruptions\": 4.5, \"waiting\": 84}, {\"eruptions\": 1.75, \"waiting\": 48}, {\"eruptions\": 4.8, \"waiting\": 82}, {\"eruptions\": 1.817, \"waiting\": 60}, {\"eruptions\": 4.4, \"waiting\": 92}, {\"eruptions\": 4.167, \"waiting\": 78}, {\"eruptions\": 4.7, \"waiting\": 78}, {\"eruptions\": 2.067, \"waiting\": 65}, {\"eruptions\": 4.7, \"waiting\": 73}, {\"eruptions\": 4.033, \"waiting\": 82}, {\"eruptions\": 1.967, \"waiting\": 56}, {\"eruptions\": 4.5, \"waiting\": 79}, {\"eruptions\": 4.0, \"waiting\": 71}, {\"eruptions\": 1.983, \"waiting\": 62}, {\"eruptions\": 5.067, \"waiting\": 76}, {\"eruptions\": 2.017, \"waiting\": 60}, {\"eruptions\": 4.567, \"waiting\": 78}, {\"eruptions\": 3.883, \"waiting\": 76}, {\"eruptions\": 3.6, \"waiting\": 83}, {\"eruptions\": 4.133, \"waiting\": 75}, {\"eruptions\": 4.333, \"waiting\": 82}, {\"eruptions\": 4.1, \"waiting\": 70}, {\"eruptions\": 2.633, \"waiting\": 65}, {\"eruptions\": 4.067, \"waiting\": 73}, {\"eruptions\": 4.933, \"waiting\": 88}, {\"eruptions\": 3.95, \"waiting\": 76}, {\"eruptions\": 4.517, \"waiting\": 80}, {\"eruptions\": 2.167, \"waiting\": 48}, {\"eruptions\": 4.0, \"waiting\": 86}, {\"eruptions\": 2.2, \"waiting\": 60}, {\"eruptions\": 4.333, \"waiting\": 90}, {\"eruptions\": 1.867, \"waiting\": 50}, {\"eruptions\": 4.817, \"waiting\": 78}, {\"eruptions\": 1.833, \"waiting\": 63}, {\"eruptions\": 4.3, \"waiting\": 72}, {\"eruptions\": 4.667, \"waiting\": 84}, {\"eruptions\": 3.75, \"waiting\": 75}, {\"eruptions\": 1.867, \"waiting\": 51}, {\"eruptions\": 4.9, \"waiting\": 82}, {\"eruptions\": 2.483, \"waiting\": 62}, {\"eruptions\": 4.367, \"waiting\": 88}, {\"eruptions\": 2.1, \"waiting\": 49}, {\"eruptions\": 4.5, \"waiting\": 83}, {\"eruptions\": 4.05, \"waiting\": 81}, {\"eruptions\": 1.867, \"waiting\": 47}, {\"eruptions\": 4.7, \"waiting\": 84}, {\"eruptions\": 1.783, \"waiting\": 52}, {\"eruptions\": 4.85, \"waiting\": 86}, {\"eruptions\": 3.683, \"waiting\": 81}, {\"eruptions\": 4.733, \"waiting\": 75}, {\"eruptions\": 2.3, \"waiting\": 59}, {\"eruptions\": 4.9, \"waiting\": 89}, {\"eruptions\": 4.417, \"waiting\": 79}, {\"eruptions\": 1.7, \"waiting\": 59}, {\"eruptions\": 4.633, \"waiting\": 81}, {\"eruptions\": 2.317, \"waiting\": 50}, {\"eruptions\": 4.6, \"waiting\": 85}, {\"eruptions\": 1.817, \"waiting\": 59}, {\"eruptions\": 4.417, \"waiting\": 87}, {\"eruptions\": 2.617, \"waiting\": 53}, {\"eruptions\": 4.067, \"waiting\": 69}, {\"eruptions\": 4.25, \"waiting\": 77}, {\"eruptions\": 1.967, \"waiting\": 56}, {\"eruptions\": 4.6, \"waiting\": 88}, {\"eruptions\": 3.767, \"waiting\": 81}, {\"eruptions\": 1.917, \"waiting\": 45}, {\"eruptions\": 4.5, \"waiting\": 82}, {\"eruptions\": 2.267, \"waiting\": 55}, {\"eruptions\": 4.65, \"waiting\": 90}, {\"eruptions\": 1.867, \"waiting\": 45}, {\"eruptions\": 4.167, \"waiting\": 83}, {\"eruptions\": 2.8, \"waiting\": 56}, {\"eruptions\": 4.333, \"waiting\": 89}, {\"eruptions\": 1.833, \"waiting\": 46}, {\"eruptions\": 4.383, \"waiting\": 82}, {\"eruptions\": 1.883, \"waiting\": 51}, {\"eruptions\": 4.933, \"waiting\": 86}, {\"eruptions\": 2.033, \"waiting\": 53}, {\"eruptions\": 3.733, \"waiting\": 79}, {\"eruptions\": 4.233, \"waiting\": 81}, {\"eruptions\": 2.233, \"waiting\": 60}, {\"eruptions\": 4.533, \"waiting\": 82}, {\"eruptions\": 4.817, \"waiting\": 77}, {\"eruptions\": 4.333, \"waiting\": 76}, {\"eruptions\": 1.983, \"waiting\": 59}, {\"eruptions\": 4.633, \"waiting\": 80}, {\"eruptions\": 2.017, \"waiting\": 49}, {\"eruptions\": 5.1, \"waiting\": 96}, {\"eruptions\": 1.8, \"waiting\": 53}, {\"eruptions\": 5.033, \"waiting\": 77}, {\"eruptions\": 4.0, \"waiting\": 77}, {\"eruptions\": 2.4, \"waiting\": 65}, {\"eruptions\": 4.6, \"waiting\": 81}, {\"eruptions\": 3.567, \"waiting\": 71}, {\"eruptions\": 4.0, \"waiting\": 70}, {\"eruptions\": 4.5, \"waiting\": 81}, {\"eruptions\": 4.083, \"waiting\": 93}, {\"eruptions\": 1.8, \"waiting\": 53}, {\"eruptions\": 3.967, \"waiting\": 89}, {\"eruptions\": 2.2, \"waiting\": 45}, {\"eruptions\": 4.15, \"waiting\": 86}, {\"eruptions\": 2.0, \"waiting\": 58}, {\"eruptions\": 3.833, \"waiting\": 78}, {\"eruptions\": 3.5, \"waiting\": 66}, {\"eruptions\": 4.583, \"waiting\": 76}, {\"eruptions\": 2.367, \"waiting\": 63}, {\"eruptions\": 5.0, \"waiting\": 88}, {\"eruptions\": 1.933, \"waiting\": 52}, {\"eruptions\": 4.617, \"waiting\": 93}, {\"eruptions\": 1.917, \"waiting\": 49}, {\"eruptions\": 2.083, \"waiting\": 57}, {\"eruptions\": 4.583, \"waiting\": 77}, {\"eruptions\": 3.333, \"waiting\": 68}, {\"eruptions\": 4.167, \"waiting\": 81}, {\"eruptions\": 4.333, \"waiting\": 81}, {\"eruptions\": 4.5, \"waiting\": 73}, {\"eruptions\": 2.417, \"waiting\": 50}, {\"eruptions\": 4.0, \"waiting\": 85}, {\"eruptions\": 4.167, \"waiting\": 74}, {\"eruptions\": 1.883, \"waiting\": 55}, {\"eruptions\": 4.583, \"waiting\": 77}, {\"eruptions\": 4.25, \"waiting\": 83}, {\"eruptions\": 3.767, \"waiting\": 83}, {\"eruptions\": 2.033, \"waiting\": 51}, {\"eruptions\": 4.433, \"waiting\": 78}, {\"eruptions\": 4.083, \"waiting\": 84}, {\"eruptions\": 1.833, \"waiting\": 46}, {\"eruptions\": 4.417, \"waiting\": 83}, {\"eruptions\": 2.183, \"waiting\": 55}, {\"eruptions\": 4.8, \"waiting\": 81}, {\"eruptions\": 1.833, \"waiting\": 57}, {\"eruptions\": 4.8, \"waiting\": 76}, {\"eruptions\": 4.1, \"waiting\": 84}, {\"eruptions\": 3.966, \"waiting\": 77}, {\"eruptions\": 4.233, \"waiting\": 81}, {\"eruptions\": 3.5, \"waiting\": 87}, {\"eruptions\": 4.366, \"waiting\": 77}, {\"eruptions\": 2.25, \"waiting\": 51}, {\"eruptions\": 4.667, \"waiting\": 78}, {\"eruptions\": 2.1, \"waiting\": 60}, {\"eruptions\": 4.35, \"waiting\": 82}, {\"eruptions\": 4.133, \"waiting\": 91}, {\"eruptions\": 1.867, \"waiting\": 53}, {\"eruptions\": 4.6, \"waiting\": 78}, {\"eruptions\": 1.783, \"waiting\": 46}, {\"eruptions\": 4.367, \"waiting\": 77}, {\"eruptions\": 3.85, \"waiting\": 84}, {\"eruptions\": 1.933, \"waiting\": 49}, {\"eruptions\": 4.5, \"waiting\": 83}, {\"eruptions\": 2.383, \"waiting\": 71}, {\"eruptions\": 4.7, \"waiting\": 80}, {\"eruptions\": 1.867, \"waiting\": 49}, {\"eruptions\": 3.833, \"waiting\": 75}, {\"eruptions\": 3.417, \"waiting\": 64}, {\"eruptions\": 4.233, \"waiting\": 76}, {\"eruptions\": 2.4, \"waiting\": 53}, {\"eruptions\": 4.8, \"waiting\": 94}, {\"eruptions\": 2.0, \"waiting\": 55}, {\"eruptions\": 4.15, \"waiting\": 76}, {\"eruptions\": 1.867, \"waiting\": 50}, {\"eruptions\": 4.267, \"waiting\": 82}, {\"eruptions\": 1.75, \"waiting\": 54}, {\"eruptions\": 4.483, \"waiting\": 75}, {\"eruptions\": 4.0, \"waiting\": 78}, {\"eruptions\": 4.117, \"waiting\": 79}, {\"eruptions\": 4.083, \"waiting\": 78}, {\"eruptions\": 4.267, \"waiting\": 78}, {\"eruptions\": 3.917, \"waiting\": 70}, {\"eruptions\": 4.55, \"waiting\": 79}, {\"eruptions\": 4.083, \"waiting\": 70}, {\"eruptions\": 2.417, \"waiting\": 54}, {\"eruptions\": 4.183, \"waiting\": 86}, {\"eruptions\": 2.217, \"waiting\": 50}, {\"eruptions\": 4.45, \"waiting\": 90}, {\"eruptions\": 1.883, \"waiting\": 54}, {\"eruptions\": 1.85, \"waiting\": 54}, {\"eruptions\": 4.283, \"waiting\": 77}, {\"eruptions\": 3.95, \"waiting\": 79}, {\"eruptions\": 2.333, \"waiting\": 64}, {\"eruptions\": 4.15, \"waiting\": 75}, {\"eruptions\": 2.35, \"waiting\": 47}, {\"eruptions\": 4.933, \"waiting\": 86}, {\"eruptions\": 2.9, \"waiting\": 63}, {\"eruptions\": 4.583, \"waiting\": 85}, {\"eruptions\": 3.833, \"waiting\": 82}, {\"eruptions\": 2.083, \"waiting\": 57}, {\"eruptions\": 4.367, \"waiting\": 82}, {\"eruptions\": 2.133, \"waiting\": 67}, {\"eruptions\": 4.35, \"waiting\": 74}, {\"eruptions\": 2.2, \"waiting\": 54}, {\"eruptions\": 4.45, \"waiting\": 83}, {\"eruptions\": 3.567, \"waiting\": 73}, {\"eruptions\": 4.5, \"waiting\": 73}, {\"eruptions\": 4.15, \"waiting\": 88}, {\"eruptions\": 3.817, \"waiting\": 80}, {\"eruptions\": 3.917, \"waiting\": 71}, {\"eruptions\": 4.45, \"waiting\": 83}, {\"eruptions\": 2.0, \"waiting\": 56}, {\"eruptions\": 4.283, \"waiting\": 79}, {\"eruptions\": 4.767, \"waiting\": 78}, {\"eruptions\": 4.533, \"waiting\": 84}, {\"eruptions\": 1.85, \"waiting\": 58}, {\"eruptions\": 4.25, \"waiting\": 83}, {\"eruptions\": 1.983, \"waiting\": 43}, {\"eruptions\": 2.25, \"waiting\": 60}, {\"eruptions\": 4.75, \"waiting\": 75}, {\"eruptions\": 4.117, \"waiting\": 81}, {\"eruptions\": 2.15, \"waiting\": 46}, {\"eruptions\": 4.417, \"waiting\": 90}, {\"eruptions\": 1.817, \"waiting\": 46}, {\"eruptions\": 4.467, \"waiting\": 74}]}}, {\"mode\": \"vega-lite\"});\n",
       "</script>"
      ],
      "text/plain": [
       "alt.Chart(...)"
      ]
     },
     "metadata": {
      "scrapbook": {
       "mime_prefix": "",
       "name": "faithful_scatter"
      }
     },
     "output_type": "display_data"
    }
   ],
   "source": [
    "glue('faithful_scatter', faithful_scatter, display=True)"
   ]
  },
  {
   "cell_type": "markdown",
   "id": "709ff3fb",
   "metadata": {},
   "source": [
    ":::{glue:figure} faithful_scatter \n",
    ":figwidth: 700px \n",
    ":name: faithful_scatter\n",
    "\n",
    "Scatter plot of waiting time and eruption time.\n",
    ":::\n",
    "\n",
    "We can see in Figure \\@ref(fig:03-data-faithful-scatter) that the data tend to fall\n",
    "into two groups: one with short waiting and eruption times, and one with long\n",
    "waiting and eruption times. Note that in this case, there is no overplotting:\n",
    "the points are generally nicely visually separated, and the pattern they form\n",
    "is clear.  In order to refine the visualization, we need only to add axis\n",
    "labels and make the font more readable:\n",
    "\n",
    "```{r 03-data-faithful-scatter-2, warning=FALSE, message=FALSE, fig.height = 3.5, fig.width = 3.75, fig.align = \"center\",  fig.pos = \"H\", out.extra=\"\", fig.cap = \"Scatter plot of waiting time and eruption time with clearer axes and labels.\"}\n",
    "faithful_scatter <- ggplot(faithful, aes(x = waiting, y = eruptions)) +\n",
    "  geom_point() +\n",
    "  labs(x = \"Waiting Time (mins)\", y = \"Eruption Duration (mins)\") +\n",
    "  theme(text = element_text(size = 12))\n",
    "\n",
    "faithful_scatter\n",
    "```"
   ]
  },
  {
   "cell_type": "code",
   "execution_count": 18,
   "id": "efd2fbd4",
   "metadata": {},
   "outputs": [
    {
     "data": {
      "text/html": [
       "\n",
       "<div id=\"altair-viz-c9e80b9601f64732945c8f8733b9cb4c\"></div>\n",
       "<script type=\"text/javascript\">\n",
       "  var VEGA_DEBUG = (typeof VEGA_DEBUG == \"undefined\") ? {} : VEGA_DEBUG;\n",
       "  (function(spec, embedOpt){\n",
       "    let outputDiv = document.currentScript.previousElementSibling;\n",
       "    if (outputDiv.id !== \"altair-viz-c9e80b9601f64732945c8f8733b9cb4c\") {\n",
       "      outputDiv = document.getElementById(\"altair-viz-c9e80b9601f64732945c8f8733b9cb4c\");\n",
       "    }\n",
       "    const paths = {\n",
       "      \"vega\": \"https://cdn.jsdelivr.net/npm//vega@5?noext\",\n",
       "      \"vega-lib\": \"https://cdn.jsdelivr.net/npm//vega-lib?noext\",\n",
       "      \"vega-lite\": \"https://cdn.jsdelivr.net/npm//vega-lite@4.17.0?noext\",\n",
       "      \"vega-embed\": \"https://cdn.jsdelivr.net/npm//vega-embed@6?noext\",\n",
       "    };\n",
       "\n",
       "    function maybeLoadScript(lib, version) {\n",
       "      var key = `${lib.replace(\"-\", \"\")}_version`;\n",
       "      return (VEGA_DEBUG[key] == version) ?\n",
       "        Promise.resolve(paths[lib]) :\n",
       "        new Promise(function(resolve, reject) {\n",
       "          var s = document.createElement('script');\n",
       "          document.getElementsByTagName(\"head\")[0].appendChild(s);\n",
       "          s.async = true;\n",
       "          s.onload = () => {\n",
       "            VEGA_DEBUG[key] = version;\n",
       "            return resolve(paths[lib]);\n",
       "          };\n",
       "          s.onerror = () => reject(`Error loading script: ${paths[lib]}`);\n",
       "          s.src = paths[lib];\n",
       "        });\n",
       "    }\n",
       "\n",
       "    function showError(err) {\n",
       "      outputDiv.innerHTML = `<div class=\"error\" style=\"color:red;\">${err}</div>`;\n",
       "      throw err;\n",
       "    }\n",
       "\n",
       "    function displayChart(vegaEmbed) {\n",
       "      vegaEmbed(outputDiv, spec, embedOpt)\n",
       "        .catch(err => showError(`Javascript Error: ${err.message}<br>This usually means there's a typo in your chart specification. See the javascript console for the full traceback.`));\n",
       "    }\n",
       "\n",
       "    if(typeof define === \"function\" && define.amd) {\n",
       "      requirejs.config({paths});\n",
       "      require([\"vega-embed\"], displayChart, err => showError(`Error loading script: ${err.message}`));\n",
       "    } else {\n",
       "      maybeLoadScript(\"vega\", \"5\")\n",
       "        .then(() => maybeLoadScript(\"vega-lite\", \"4.17.0\"))\n",
       "        .then(() => maybeLoadScript(\"vega-embed\", \"6\"))\n",
       "        .catch(showError)\n",
       "        .then(() => displayChart(vegaEmbed));\n",
       "    }\n",
       "  })({\"config\": {\"view\": {\"continuousWidth\": 400, \"continuousHeight\": 300}}, \"data\": {\"name\": \"data-5e01a96a81f10c72d948a86132ecb6d1\"}, \"mark\": {\"type\": \"circle\", \"color\": \"black\"}, \"encoding\": {\"x\": {\"field\": \"waiting\", \"title\": \"Waiting Time (mins)\", \"type\": \"quantitative\"}, \"y\": {\"field\": \"eruptions\", \"title\": \"Eruption Duration (mins)\", \"type\": \"quantitative\"}}, \"$schema\": \"https://vega.github.io/schema/vega-lite/v4.17.0.json\", \"datasets\": {\"data-5e01a96a81f10c72d948a86132ecb6d1\": [{\"eruptions\": 3.6, \"waiting\": 79}, {\"eruptions\": 1.8, \"waiting\": 54}, {\"eruptions\": 3.333, \"waiting\": 74}, {\"eruptions\": 2.283, \"waiting\": 62}, {\"eruptions\": 4.533, \"waiting\": 85}, {\"eruptions\": 2.883, \"waiting\": 55}, {\"eruptions\": 4.7, \"waiting\": 88}, {\"eruptions\": 3.6, \"waiting\": 85}, {\"eruptions\": 1.95, \"waiting\": 51}, {\"eruptions\": 4.35, \"waiting\": 85}, {\"eruptions\": 1.833, \"waiting\": 54}, {\"eruptions\": 3.917, \"waiting\": 84}, {\"eruptions\": 4.2, \"waiting\": 78}, {\"eruptions\": 1.75, \"waiting\": 47}, {\"eruptions\": 4.7, \"waiting\": 83}, {\"eruptions\": 2.167, \"waiting\": 52}, {\"eruptions\": 1.75, \"waiting\": 62}, {\"eruptions\": 4.8, \"waiting\": 84}, {\"eruptions\": 1.6, \"waiting\": 52}, {\"eruptions\": 4.25, \"waiting\": 79}, {\"eruptions\": 1.8, \"waiting\": 51}, {\"eruptions\": 1.75, \"waiting\": 47}, {\"eruptions\": 3.45, \"waiting\": 78}, {\"eruptions\": 3.067, \"waiting\": 69}, {\"eruptions\": 4.533, \"waiting\": 74}, {\"eruptions\": 3.6, \"waiting\": 83}, {\"eruptions\": 1.967, \"waiting\": 55}, {\"eruptions\": 4.083, \"waiting\": 76}, {\"eruptions\": 3.85, \"waiting\": 78}, {\"eruptions\": 4.433, \"waiting\": 79}, {\"eruptions\": 4.3, \"waiting\": 73}, {\"eruptions\": 4.467, \"waiting\": 77}, {\"eruptions\": 3.367, \"waiting\": 66}, {\"eruptions\": 4.033, \"waiting\": 80}, {\"eruptions\": 3.833, \"waiting\": 74}, {\"eruptions\": 2.017, \"waiting\": 52}, {\"eruptions\": 1.867, \"waiting\": 48}, {\"eruptions\": 4.833, \"waiting\": 80}, {\"eruptions\": 1.833, \"waiting\": 59}, {\"eruptions\": 4.783, \"waiting\": 90}, {\"eruptions\": 4.35, \"waiting\": 80}, {\"eruptions\": 1.883, \"waiting\": 58}, {\"eruptions\": 4.567, \"waiting\": 84}, {\"eruptions\": 1.75, \"waiting\": 58}, {\"eruptions\": 4.533, \"waiting\": 73}, {\"eruptions\": 3.317, \"waiting\": 83}, {\"eruptions\": 3.833, \"waiting\": 64}, {\"eruptions\": 2.1, \"waiting\": 53}, {\"eruptions\": 4.633, \"waiting\": 82}, {\"eruptions\": 2.0, \"waiting\": 59}, {\"eruptions\": 4.8, \"waiting\": 75}, {\"eruptions\": 4.716, \"waiting\": 90}, {\"eruptions\": 1.833, \"waiting\": 54}, {\"eruptions\": 4.833, \"waiting\": 80}, {\"eruptions\": 1.733, \"waiting\": 54}, {\"eruptions\": 4.883, \"waiting\": 83}, {\"eruptions\": 3.717, \"waiting\": 71}, {\"eruptions\": 1.667, \"waiting\": 64}, {\"eruptions\": 4.567, \"waiting\": 77}, {\"eruptions\": 4.317, \"waiting\": 81}, {\"eruptions\": 2.233, \"waiting\": 59}, {\"eruptions\": 4.5, \"waiting\": 84}, {\"eruptions\": 1.75, \"waiting\": 48}, {\"eruptions\": 4.8, \"waiting\": 82}, {\"eruptions\": 1.817, \"waiting\": 60}, {\"eruptions\": 4.4, \"waiting\": 92}, {\"eruptions\": 4.167, \"waiting\": 78}, {\"eruptions\": 4.7, \"waiting\": 78}, {\"eruptions\": 2.067, \"waiting\": 65}, {\"eruptions\": 4.7, \"waiting\": 73}, {\"eruptions\": 4.033, \"waiting\": 82}, {\"eruptions\": 1.967, \"waiting\": 56}, {\"eruptions\": 4.5, \"waiting\": 79}, {\"eruptions\": 4.0, \"waiting\": 71}, {\"eruptions\": 1.983, \"waiting\": 62}, {\"eruptions\": 5.067, \"waiting\": 76}, {\"eruptions\": 2.017, \"waiting\": 60}, {\"eruptions\": 4.567, \"waiting\": 78}, {\"eruptions\": 3.883, \"waiting\": 76}, {\"eruptions\": 3.6, \"waiting\": 83}, {\"eruptions\": 4.133, \"waiting\": 75}, {\"eruptions\": 4.333, \"waiting\": 82}, {\"eruptions\": 4.1, \"waiting\": 70}, {\"eruptions\": 2.633, \"waiting\": 65}, {\"eruptions\": 4.067, \"waiting\": 73}, {\"eruptions\": 4.933, \"waiting\": 88}, {\"eruptions\": 3.95, \"waiting\": 76}, {\"eruptions\": 4.517, \"waiting\": 80}, {\"eruptions\": 2.167, \"waiting\": 48}, {\"eruptions\": 4.0, \"waiting\": 86}, {\"eruptions\": 2.2, \"waiting\": 60}, {\"eruptions\": 4.333, \"waiting\": 90}, {\"eruptions\": 1.867, \"waiting\": 50}, {\"eruptions\": 4.817, \"waiting\": 78}, {\"eruptions\": 1.833, \"waiting\": 63}, {\"eruptions\": 4.3, \"waiting\": 72}, {\"eruptions\": 4.667, \"waiting\": 84}, {\"eruptions\": 3.75, \"waiting\": 75}, {\"eruptions\": 1.867, \"waiting\": 51}, {\"eruptions\": 4.9, \"waiting\": 82}, {\"eruptions\": 2.483, \"waiting\": 62}, {\"eruptions\": 4.367, \"waiting\": 88}, {\"eruptions\": 2.1, \"waiting\": 49}, {\"eruptions\": 4.5, \"waiting\": 83}, {\"eruptions\": 4.05, \"waiting\": 81}, {\"eruptions\": 1.867, \"waiting\": 47}, {\"eruptions\": 4.7, \"waiting\": 84}, {\"eruptions\": 1.783, \"waiting\": 52}, {\"eruptions\": 4.85, \"waiting\": 86}, {\"eruptions\": 3.683, \"waiting\": 81}, {\"eruptions\": 4.733, \"waiting\": 75}, {\"eruptions\": 2.3, \"waiting\": 59}, {\"eruptions\": 4.9, \"waiting\": 89}, {\"eruptions\": 4.417, \"waiting\": 79}, {\"eruptions\": 1.7, \"waiting\": 59}, {\"eruptions\": 4.633, \"waiting\": 81}, {\"eruptions\": 2.317, \"waiting\": 50}, {\"eruptions\": 4.6, \"waiting\": 85}, {\"eruptions\": 1.817, \"waiting\": 59}, {\"eruptions\": 4.417, \"waiting\": 87}, {\"eruptions\": 2.617, \"waiting\": 53}, {\"eruptions\": 4.067, \"waiting\": 69}, {\"eruptions\": 4.25, \"waiting\": 77}, {\"eruptions\": 1.967, \"waiting\": 56}, {\"eruptions\": 4.6, \"waiting\": 88}, {\"eruptions\": 3.767, \"waiting\": 81}, {\"eruptions\": 1.917, \"waiting\": 45}, {\"eruptions\": 4.5, \"waiting\": 82}, {\"eruptions\": 2.267, \"waiting\": 55}, {\"eruptions\": 4.65, \"waiting\": 90}, {\"eruptions\": 1.867, \"waiting\": 45}, {\"eruptions\": 4.167, \"waiting\": 83}, {\"eruptions\": 2.8, \"waiting\": 56}, {\"eruptions\": 4.333, \"waiting\": 89}, {\"eruptions\": 1.833, \"waiting\": 46}, {\"eruptions\": 4.383, \"waiting\": 82}, {\"eruptions\": 1.883, \"waiting\": 51}, {\"eruptions\": 4.933, \"waiting\": 86}, {\"eruptions\": 2.033, \"waiting\": 53}, {\"eruptions\": 3.733, \"waiting\": 79}, {\"eruptions\": 4.233, \"waiting\": 81}, {\"eruptions\": 2.233, \"waiting\": 60}, {\"eruptions\": 4.533, \"waiting\": 82}, {\"eruptions\": 4.817, \"waiting\": 77}, {\"eruptions\": 4.333, \"waiting\": 76}, {\"eruptions\": 1.983, \"waiting\": 59}, {\"eruptions\": 4.633, \"waiting\": 80}, {\"eruptions\": 2.017, \"waiting\": 49}, {\"eruptions\": 5.1, \"waiting\": 96}, {\"eruptions\": 1.8, \"waiting\": 53}, {\"eruptions\": 5.033, \"waiting\": 77}, {\"eruptions\": 4.0, \"waiting\": 77}, {\"eruptions\": 2.4, \"waiting\": 65}, {\"eruptions\": 4.6, \"waiting\": 81}, {\"eruptions\": 3.567, \"waiting\": 71}, {\"eruptions\": 4.0, \"waiting\": 70}, {\"eruptions\": 4.5, \"waiting\": 81}, {\"eruptions\": 4.083, \"waiting\": 93}, {\"eruptions\": 1.8, \"waiting\": 53}, {\"eruptions\": 3.967, \"waiting\": 89}, {\"eruptions\": 2.2, \"waiting\": 45}, {\"eruptions\": 4.15, \"waiting\": 86}, {\"eruptions\": 2.0, \"waiting\": 58}, {\"eruptions\": 3.833, \"waiting\": 78}, {\"eruptions\": 3.5, \"waiting\": 66}, {\"eruptions\": 4.583, \"waiting\": 76}, {\"eruptions\": 2.367, \"waiting\": 63}, {\"eruptions\": 5.0, \"waiting\": 88}, {\"eruptions\": 1.933, \"waiting\": 52}, {\"eruptions\": 4.617, \"waiting\": 93}, {\"eruptions\": 1.917, \"waiting\": 49}, {\"eruptions\": 2.083, \"waiting\": 57}, {\"eruptions\": 4.583, \"waiting\": 77}, {\"eruptions\": 3.333, \"waiting\": 68}, {\"eruptions\": 4.167, \"waiting\": 81}, {\"eruptions\": 4.333, \"waiting\": 81}, {\"eruptions\": 4.5, \"waiting\": 73}, {\"eruptions\": 2.417, \"waiting\": 50}, {\"eruptions\": 4.0, \"waiting\": 85}, {\"eruptions\": 4.167, \"waiting\": 74}, {\"eruptions\": 1.883, \"waiting\": 55}, {\"eruptions\": 4.583, \"waiting\": 77}, {\"eruptions\": 4.25, \"waiting\": 83}, {\"eruptions\": 3.767, \"waiting\": 83}, {\"eruptions\": 2.033, \"waiting\": 51}, {\"eruptions\": 4.433, \"waiting\": 78}, {\"eruptions\": 4.083, \"waiting\": 84}, {\"eruptions\": 1.833, \"waiting\": 46}, {\"eruptions\": 4.417, \"waiting\": 83}, {\"eruptions\": 2.183, \"waiting\": 55}, {\"eruptions\": 4.8, \"waiting\": 81}, {\"eruptions\": 1.833, \"waiting\": 57}, {\"eruptions\": 4.8, \"waiting\": 76}, {\"eruptions\": 4.1, \"waiting\": 84}, {\"eruptions\": 3.966, \"waiting\": 77}, {\"eruptions\": 4.233, \"waiting\": 81}, {\"eruptions\": 3.5, \"waiting\": 87}, {\"eruptions\": 4.366, \"waiting\": 77}, {\"eruptions\": 2.25, \"waiting\": 51}, {\"eruptions\": 4.667, \"waiting\": 78}, {\"eruptions\": 2.1, \"waiting\": 60}, {\"eruptions\": 4.35, \"waiting\": 82}, {\"eruptions\": 4.133, \"waiting\": 91}, {\"eruptions\": 1.867, \"waiting\": 53}, {\"eruptions\": 4.6, \"waiting\": 78}, {\"eruptions\": 1.783, \"waiting\": 46}, {\"eruptions\": 4.367, \"waiting\": 77}, {\"eruptions\": 3.85, \"waiting\": 84}, {\"eruptions\": 1.933, \"waiting\": 49}, {\"eruptions\": 4.5, \"waiting\": 83}, {\"eruptions\": 2.383, \"waiting\": 71}, {\"eruptions\": 4.7, \"waiting\": 80}, {\"eruptions\": 1.867, \"waiting\": 49}, {\"eruptions\": 3.833, \"waiting\": 75}, {\"eruptions\": 3.417, \"waiting\": 64}, {\"eruptions\": 4.233, \"waiting\": 76}, {\"eruptions\": 2.4, \"waiting\": 53}, {\"eruptions\": 4.8, \"waiting\": 94}, {\"eruptions\": 2.0, \"waiting\": 55}, {\"eruptions\": 4.15, \"waiting\": 76}, {\"eruptions\": 1.867, \"waiting\": 50}, {\"eruptions\": 4.267, \"waiting\": 82}, {\"eruptions\": 1.75, \"waiting\": 54}, {\"eruptions\": 4.483, \"waiting\": 75}, {\"eruptions\": 4.0, \"waiting\": 78}, {\"eruptions\": 4.117, \"waiting\": 79}, {\"eruptions\": 4.083, \"waiting\": 78}, {\"eruptions\": 4.267, \"waiting\": 78}, {\"eruptions\": 3.917, \"waiting\": 70}, {\"eruptions\": 4.55, \"waiting\": 79}, {\"eruptions\": 4.083, \"waiting\": 70}, {\"eruptions\": 2.417, \"waiting\": 54}, {\"eruptions\": 4.183, \"waiting\": 86}, {\"eruptions\": 2.217, \"waiting\": 50}, {\"eruptions\": 4.45, \"waiting\": 90}, {\"eruptions\": 1.883, \"waiting\": 54}, {\"eruptions\": 1.85, \"waiting\": 54}, {\"eruptions\": 4.283, \"waiting\": 77}, {\"eruptions\": 3.95, \"waiting\": 79}, {\"eruptions\": 2.333, \"waiting\": 64}, {\"eruptions\": 4.15, \"waiting\": 75}, {\"eruptions\": 2.35, \"waiting\": 47}, {\"eruptions\": 4.933, \"waiting\": 86}, {\"eruptions\": 2.9, \"waiting\": 63}, {\"eruptions\": 4.583, \"waiting\": 85}, {\"eruptions\": 3.833, \"waiting\": 82}, {\"eruptions\": 2.083, \"waiting\": 57}, {\"eruptions\": 4.367, \"waiting\": 82}, {\"eruptions\": 2.133, \"waiting\": 67}, {\"eruptions\": 4.35, \"waiting\": 74}, {\"eruptions\": 2.2, \"waiting\": 54}, {\"eruptions\": 4.45, \"waiting\": 83}, {\"eruptions\": 3.567, \"waiting\": 73}, {\"eruptions\": 4.5, \"waiting\": 73}, {\"eruptions\": 4.15, \"waiting\": 88}, {\"eruptions\": 3.817, \"waiting\": 80}, {\"eruptions\": 3.917, \"waiting\": 71}, {\"eruptions\": 4.45, \"waiting\": 83}, {\"eruptions\": 2.0, \"waiting\": 56}, {\"eruptions\": 4.283, \"waiting\": 79}, {\"eruptions\": 4.767, \"waiting\": 78}, {\"eruptions\": 4.533, \"waiting\": 84}, {\"eruptions\": 1.85, \"waiting\": 58}, {\"eruptions\": 4.25, \"waiting\": 83}, {\"eruptions\": 1.983, \"waiting\": 43}, {\"eruptions\": 2.25, \"waiting\": 60}, {\"eruptions\": 4.75, \"waiting\": 75}, {\"eruptions\": 4.117, \"waiting\": 81}, {\"eruptions\": 2.15, \"waiting\": 46}, {\"eruptions\": 4.417, \"waiting\": 90}, {\"eruptions\": 1.817, \"waiting\": 46}, {\"eruptions\": 4.467, \"waiting\": 74}]}}, {\"mode\": \"vega-lite\"});\n",
       "</script>"
      ],
      "text/plain": [
       "alt.Chart(...)"
      ]
     },
     "execution_count": 18,
     "metadata": {},
     "output_type": "execute_result"
    }
   ],
   "source": [
    "faithful_scatter = alt.Chart(faithful).mark_circle(color='black').encode(\n",
    "    x = alt.X(\"waiting\", title = \"Waiting Time (mins)\"),\n",
    "    y = alt.Y(\"eruptions\", title = \"Eruption Duration (mins)\")\n",
    ")\n",
    "faithful_scatter\n",
    "\n"
   ]
  },
  {
   "cell_type": "code",
   "execution_count": 19,
   "id": "3c9bd8a8",
   "metadata": {
    "tags": [
     "remove-cell"
    ]
   },
   "outputs": [
    {
     "data": {
      "text/html": [
       "\n",
       "<div id=\"altair-viz-15ecc3cb01764acdb90beb7f3dbf0ca5\"></div>\n",
       "<script type=\"text/javascript\">\n",
       "  var VEGA_DEBUG = (typeof VEGA_DEBUG == \"undefined\") ? {} : VEGA_DEBUG;\n",
       "  (function(spec, embedOpt){\n",
       "    let outputDiv = document.currentScript.previousElementSibling;\n",
       "    if (outputDiv.id !== \"altair-viz-15ecc3cb01764acdb90beb7f3dbf0ca5\") {\n",
       "      outputDiv = document.getElementById(\"altair-viz-15ecc3cb01764acdb90beb7f3dbf0ca5\");\n",
       "    }\n",
       "    const paths = {\n",
       "      \"vega\": \"https://cdn.jsdelivr.net/npm//vega@5?noext\",\n",
       "      \"vega-lib\": \"https://cdn.jsdelivr.net/npm//vega-lib?noext\",\n",
       "      \"vega-lite\": \"https://cdn.jsdelivr.net/npm//vega-lite@4.17.0?noext\",\n",
       "      \"vega-embed\": \"https://cdn.jsdelivr.net/npm//vega-embed@6?noext\",\n",
       "    };\n",
       "\n",
       "    function maybeLoadScript(lib, version) {\n",
       "      var key = `${lib.replace(\"-\", \"\")}_version`;\n",
       "      return (VEGA_DEBUG[key] == version) ?\n",
       "        Promise.resolve(paths[lib]) :\n",
       "        new Promise(function(resolve, reject) {\n",
       "          var s = document.createElement('script');\n",
       "          document.getElementsByTagName(\"head\")[0].appendChild(s);\n",
       "          s.async = true;\n",
       "          s.onload = () => {\n",
       "            VEGA_DEBUG[key] = version;\n",
       "            return resolve(paths[lib]);\n",
       "          };\n",
       "          s.onerror = () => reject(`Error loading script: ${paths[lib]}`);\n",
       "          s.src = paths[lib];\n",
       "        });\n",
       "    }\n",
       "\n",
       "    function showError(err) {\n",
       "      outputDiv.innerHTML = `<div class=\"error\" style=\"color:red;\">${err}</div>`;\n",
       "      throw err;\n",
       "    }\n",
       "\n",
       "    function displayChart(vegaEmbed) {\n",
       "      vegaEmbed(outputDiv, spec, embedOpt)\n",
       "        .catch(err => showError(`Javascript Error: ${err.message}<br>This usually means there's a typo in your chart specification. See the javascript console for the full traceback.`));\n",
       "    }\n",
       "\n",
       "    if(typeof define === \"function\" && define.amd) {\n",
       "      requirejs.config({paths});\n",
       "      require([\"vega-embed\"], displayChart, err => showError(`Error loading script: ${err.message}`));\n",
       "    } else {\n",
       "      maybeLoadScript(\"vega\", \"5\")\n",
       "        .then(() => maybeLoadScript(\"vega-lite\", \"4.17.0\"))\n",
       "        .then(() => maybeLoadScript(\"vega-embed\", \"6\"))\n",
       "        .catch(showError)\n",
       "        .then(() => displayChart(vegaEmbed));\n",
       "    }\n",
       "  })({\"config\": {\"view\": {\"continuousWidth\": 400, \"continuousHeight\": 300}}, \"data\": {\"name\": \"data-5e01a96a81f10c72d948a86132ecb6d1\"}, \"mark\": {\"type\": \"circle\", \"color\": \"black\"}, \"encoding\": {\"x\": {\"field\": \"waiting\", \"title\": \"Waiting Time (mins)\", \"type\": \"quantitative\"}, \"y\": {\"field\": \"eruptions\", \"title\": \"Eruption Duration (mins)\", \"type\": \"quantitative\"}}, \"$schema\": \"https://vega.github.io/schema/vega-lite/v4.17.0.json\", \"datasets\": {\"data-5e01a96a81f10c72d948a86132ecb6d1\": [{\"eruptions\": 3.6, \"waiting\": 79}, {\"eruptions\": 1.8, \"waiting\": 54}, {\"eruptions\": 3.333, \"waiting\": 74}, {\"eruptions\": 2.283, \"waiting\": 62}, {\"eruptions\": 4.533, \"waiting\": 85}, {\"eruptions\": 2.883, \"waiting\": 55}, {\"eruptions\": 4.7, \"waiting\": 88}, {\"eruptions\": 3.6, \"waiting\": 85}, {\"eruptions\": 1.95, \"waiting\": 51}, {\"eruptions\": 4.35, \"waiting\": 85}, {\"eruptions\": 1.833, \"waiting\": 54}, {\"eruptions\": 3.917, \"waiting\": 84}, {\"eruptions\": 4.2, \"waiting\": 78}, {\"eruptions\": 1.75, \"waiting\": 47}, {\"eruptions\": 4.7, \"waiting\": 83}, {\"eruptions\": 2.167, \"waiting\": 52}, {\"eruptions\": 1.75, \"waiting\": 62}, {\"eruptions\": 4.8, \"waiting\": 84}, {\"eruptions\": 1.6, \"waiting\": 52}, {\"eruptions\": 4.25, \"waiting\": 79}, {\"eruptions\": 1.8, \"waiting\": 51}, {\"eruptions\": 1.75, \"waiting\": 47}, {\"eruptions\": 3.45, \"waiting\": 78}, {\"eruptions\": 3.067, \"waiting\": 69}, {\"eruptions\": 4.533, \"waiting\": 74}, {\"eruptions\": 3.6, \"waiting\": 83}, {\"eruptions\": 1.967, \"waiting\": 55}, {\"eruptions\": 4.083, \"waiting\": 76}, {\"eruptions\": 3.85, \"waiting\": 78}, {\"eruptions\": 4.433, \"waiting\": 79}, {\"eruptions\": 4.3, \"waiting\": 73}, {\"eruptions\": 4.467, \"waiting\": 77}, {\"eruptions\": 3.367, \"waiting\": 66}, {\"eruptions\": 4.033, \"waiting\": 80}, {\"eruptions\": 3.833, \"waiting\": 74}, {\"eruptions\": 2.017, \"waiting\": 52}, {\"eruptions\": 1.867, \"waiting\": 48}, {\"eruptions\": 4.833, \"waiting\": 80}, {\"eruptions\": 1.833, \"waiting\": 59}, {\"eruptions\": 4.783, \"waiting\": 90}, {\"eruptions\": 4.35, \"waiting\": 80}, {\"eruptions\": 1.883, \"waiting\": 58}, {\"eruptions\": 4.567, \"waiting\": 84}, {\"eruptions\": 1.75, \"waiting\": 58}, {\"eruptions\": 4.533, \"waiting\": 73}, {\"eruptions\": 3.317, \"waiting\": 83}, {\"eruptions\": 3.833, \"waiting\": 64}, {\"eruptions\": 2.1, \"waiting\": 53}, {\"eruptions\": 4.633, \"waiting\": 82}, {\"eruptions\": 2.0, \"waiting\": 59}, {\"eruptions\": 4.8, \"waiting\": 75}, {\"eruptions\": 4.716, \"waiting\": 90}, {\"eruptions\": 1.833, \"waiting\": 54}, {\"eruptions\": 4.833, \"waiting\": 80}, {\"eruptions\": 1.733, \"waiting\": 54}, {\"eruptions\": 4.883, \"waiting\": 83}, {\"eruptions\": 3.717, \"waiting\": 71}, {\"eruptions\": 1.667, \"waiting\": 64}, {\"eruptions\": 4.567, \"waiting\": 77}, {\"eruptions\": 4.317, \"waiting\": 81}, {\"eruptions\": 2.233, \"waiting\": 59}, {\"eruptions\": 4.5, \"waiting\": 84}, {\"eruptions\": 1.75, \"waiting\": 48}, {\"eruptions\": 4.8, \"waiting\": 82}, {\"eruptions\": 1.817, \"waiting\": 60}, {\"eruptions\": 4.4, \"waiting\": 92}, {\"eruptions\": 4.167, \"waiting\": 78}, {\"eruptions\": 4.7, \"waiting\": 78}, {\"eruptions\": 2.067, \"waiting\": 65}, {\"eruptions\": 4.7, \"waiting\": 73}, {\"eruptions\": 4.033, \"waiting\": 82}, {\"eruptions\": 1.967, \"waiting\": 56}, {\"eruptions\": 4.5, \"waiting\": 79}, {\"eruptions\": 4.0, \"waiting\": 71}, {\"eruptions\": 1.983, \"waiting\": 62}, {\"eruptions\": 5.067, \"waiting\": 76}, {\"eruptions\": 2.017, \"waiting\": 60}, {\"eruptions\": 4.567, \"waiting\": 78}, {\"eruptions\": 3.883, \"waiting\": 76}, {\"eruptions\": 3.6, \"waiting\": 83}, {\"eruptions\": 4.133, \"waiting\": 75}, {\"eruptions\": 4.333, \"waiting\": 82}, {\"eruptions\": 4.1, \"waiting\": 70}, {\"eruptions\": 2.633, \"waiting\": 65}, {\"eruptions\": 4.067, \"waiting\": 73}, {\"eruptions\": 4.933, \"waiting\": 88}, {\"eruptions\": 3.95, \"waiting\": 76}, {\"eruptions\": 4.517, \"waiting\": 80}, {\"eruptions\": 2.167, \"waiting\": 48}, {\"eruptions\": 4.0, \"waiting\": 86}, {\"eruptions\": 2.2, \"waiting\": 60}, {\"eruptions\": 4.333, \"waiting\": 90}, {\"eruptions\": 1.867, \"waiting\": 50}, {\"eruptions\": 4.817, \"waiting\": 78}, {\"eruptions\": 1.833, \"waiting\": 63}, {\"eruptions\": 4.3, \"waiting\": 72}, {\"eruptions\": 4.667, \"waiting\": 84}, {\"eruptions\": 3.75, \"waiting\": 75}, {\"eruptions\": 1.867, \"waiting\": 51}, {\"eruptions\": 4.9, \"waiting\": 82}, {\"eruptions\": 2.483, \"waiting\": 62}, {\"eruptions\": 4.367, \"waiting\": 88}, {\"eruptions\": 2.1, \"waiting\": 49}, {\"eruptions\": 4.5, \"waiting\": 83}, {\"eruptions\": 4.05, \"waiting\": 81}, {\"eruptions\": 1.867, \"waiting\": 47}, {\"eruptions\": 4.7, \"waiting\": 84}, {\"eruptions\": 1.783, \"waiting\": 52}, {\"eruptions\": 4.85, \"waiting\": 86}, {\"eruptions\": 3.683, \"waiting\": 81}, {\"eruptions\": 4.733, \"waiting\": 75}, {\"eruptions\": 2.3, \"waiting\": 59}, {\"eruptions\": 4.9, \"waiting\": 89}, {\"eruptions\": 4.417, \"waiting\": 79}, {\"eruptions\": 1.7, \"waiting\": 59}, {\"eruptions\": 4.633, \"waiting\": 81}, {\"eruptions\": 2.317, \"waiting\": 50}, {\"eruptions\": 4.6, \"waiting\": 85}, {\"eruptions\": 1.817, \"waiting\": 59}, {\"eruptions\": 4.417, \"waiting\": 87}, {\"eruptions\": 2.617, \"waiting\": 53}, {\"eruptions\": 4.067, \"waiting\": 69}, {\"eruptions\": 4.25, \"waiting\": 77}, {\"eruptions\": 1.967, \"waiting\": 56}, {\"eruptions\": 4.6, \"waiting\": 88}, {\"eruptions\": 3.767, \"waiting\": 81}, {\"eruptions\": 1.917, \"waiting\": 45}, {\"eruptions\": 4.5, \"waiting\": 82}, {\"eruptions\": 2.267, \"waiting\": 55}, {\"eruptions\": 4.65, \"waiting\": 90}, {\"eruptions\": 1.867, \"waiting\": 45}, {\"eruptions\": 4.167, \"waiting\": 83}, {\"eruptions\": 2.8, \"waiting\": 56}, {\"eruptions\": 4.333, \"waiting\": 89}, {\"eruptions\": 1.833, \"waiting\": 46}, {\"eruptions\": 4.383, \"waiting\": 82}, {\"eruptions\": 1.883, \"waiting\": 51}, {\"eruptions\": 4.933, \"waiting\": 86}, {\"eruptions\": 2.033, \"waiting\": 53}, {\"eruptions\": 3.733, \"waiting\": 79}, {\"eruptions\": 4.233, \"waiting\": 81}, {\"eruptions\": 2.233, \"waiting\": 60}, {\"eruptions\": 4.533, \"waiting\": 82}, {\"eruptions\": 4.817, \"waiting\": 77}, {\"eruptions\": 4.333, \"waiting\": 76}, {\"eruptions\": 1.983, \"waiting\": 59}, {\"eruptions\": 4.633, \"waiting\": 80}, {\"eruptions\": 2.017, \"waiting\": 49}, {\"eruptions\": 5.1, \"waiting\": 96}, {\"eruptions\": 1.8, \"waiting\": 53}, {\"eruptions\": 5.033, \"waiting\": 77}, {\"eruptions\": 4.0, \"waiting\": 77}, {\"eruptions\": 2.4, \"waiting\": 65}, {\"eruptions\": 4.6, \"waiting\": 81}, {\"eruptions\": 3.567, \"waiting\": 71}, {\"eruptions\": 4.0, \"waiting\": 70}, {\"eruptions\": 4.5, \"waiting\": 81}, {\"eruptions\": 4.083, \"waiting\": 93}, {\"eruptions\": 1.8, \"waiting\": 53}, {\"eruptions\": 3.967, \"waiting\": 89}, {\"eruptions\": 2.2, \"waiting\": 45}, {\"eruptions\": 4.15, \"waiting\": 86}, {\"eruptions\": 2.0, \"waiting\": 58}, {\"eruptions\": 3.833, \"waiting\": 78}, {\"eruptions\": 3.5, \"waiting\": 66}, {\"eruptions\": 4.583, \"waiting\": 76}, {\"eruptions\": 2.367, \"waiting\": 63}, {\"eruptions\": 5.0, \"waiting\": 88}, {\"eruptions\": 1.933, \"waiting\": 52}, {\"eruptions\": 4.617, \"waiting\": 93}, {\"eruptions\": 1.917, \"waiting\": 49}, {\"eruptions\": 2.083, \"waiting\": 57}, {\"eruptions\": 4.583, \"waiting\": 77}, {\"eruptions\": 3.333, \"waiting\": 68}, {\"eruptions\": 4.167, \"waiting\": 81}, {\"eruptions\": 4.333, \"waiting\": 81}, {\"eruptions\": 4.5, \"waiting\": 73}, {\"eruptions\": 2.417, \"waiting\": 50}, {\"eruptions\": 4.0, \"waiting\": 85}, {\"eruptions\": 4.167, \"waiting\": 74}, {\"eruptions\": 1.883, \"waiting\": 55}, {\"eruptions\": 4.583, \"waiting\": 77}, {\"eruptions\": 4.25, \"waiting\": 83}, {\"eruptions\": 3.767, \"waiting\": 83}, {\"eruptions\": 2.033, \"waiting\": 51}, {\"eruptions\": 4.433, \"waiting\": 78}, {\"eruptions\": 4.083, \"waiting\": 84}, {\"eruptions\": 1.833, \"waiting\": 46}, {\"eruptions\": 4.417, \"waiting\": 83}, {\"eruptions\": 2.183, \"waiting\": 55}, {\"eruptions\": 4.8, \"waiting\": 81}, {\"eruptions\": 1.833, \"waiting\": 57}, {\"eruptions\": 4.8, \"waiting\": 76}, {\"eruptions\": 4.1, \"waiting\": 84}, {\"eruptions\": 3.966, \"waiting\": 77}, {\"eruptions\": 4.233, \"waiting\": 81}, {\"eruptions\": 3.5, \"waiting\": 87}, {\"eruptions\": 4.366, \"waiting\": 77}, {\"eruptions\": 2.25, \"waiting\": 51}, {\"eruptions\": 4.667, \"waiting\": 78}, {\"eruptions\": 2.1, \"waiting\": 60}, {\"eruptions\": 4.35, \"waiting\": 82}, {\"eruptions\": 4.133, \"waiting\": 91}, {\"eruptions\": 1.867, \"waiting\": 53}, {\"eruptions\": 4.6, \"waiting\": 78}, {\"eruptions\": 1.783, \"waiting\": 46}, {\"eruptions\": 4.367, \"waiting\": 77}, {\"eruptions\": 3.85, \"waiting\": 84}, {\"eruptions\": 1.933, \"waiting\": 49}, {\"eruptions\": 4.5, \"waiting\": 83}, {\"eruptions\": 2.383, \"waiting\": 71}, {\"eruptions\": 4.7, \"waiting\": 80}, {\"eruptions\": 1.867, \"waiting\": 49}, {\"eruptions\": 3.833, \"waiting\": 75}, {\"eruptions\": 3.417, \"waiting\": 64}, {\"eruptions\": 4.233, \"waiting\": 76}, {\"eruptions\": 2.4, \"waiting\": 53}, {\"eruptions\": 4.8, \"waiting\": 94}, {\"eruptions\": 2.0, \"waiting\": 55}, {\"eruptions\": 4.15, \"waiting\": 76}, {\"eruptions\": 1.867, \"waiting\": 50}, {\"eruptions\": 4.267, \"waiting\": 82}, {\"eruptions\": 1.75, \"waiting\": 54}, {\"eruptions\": 4.483, \"waiting\": 75}, {\"eruptions\": 4.0, \"waiting\": 78}, {\"eruptions\": 4.117, \"waiting\": 79}, {\"eruptions\": 4.083, \"waiting\": 78}, {\"eruptions\": 4.267, \"waiting\": 78}, {\"eruptions\": 3.917, \"waiting\": 70}, {\"eruptions\": 4.55, \"waiting\": 79}, {\"eruptions\": 4.083, \"waiting\": 70}, {\"eruptions\": 2.417, \"waiting\": 54}, {\"eruptions\": 4.183, \"waiting\": 86}, {\"eruptions\": 2.217, \"waiting\": 50}, {\"eruptions\": 4.45, \"waiting\": 90}, {\"eruptions\": 1.883, \"waiting\": 54}, {\"eruptions\": 1.85, \"waiting\": 54}, {\"eruptions\": 4.283, \"waiting\": 77}, {\"eruptions\": 3.95, \"waiting\": 79}, {\"eruptions\": 2.333, \"waiting\": 64}, {\"eruptions\": 4.15, \"waiting\": 75}, {\"eruptions\": 2.35, \"waiting\": 47}, {\"eruptions\": 4.933, \"waiting\": 86}, {\"eruptions\": 2.9, \"waiting\": 63}, {\"eruptions\": 4.583, \"waiting\": 85}, {\"eruptions\": 3.833, \"waiting\": 82}, {\"eruptions\": 2.083, \"waiting\": 57}, {\"eruptions\": 4.367, \"waiting\": 82}, {\"eruptions\": 2.133, \"waiting\": 67}, {\"eruptions\": 4.35, \"waiting\": 74}, {\"eruptions\": 2.2, \"waiting\": 54}, {\"eruptions\": 4.45, \"waiting\": 83}, {\"eruptions\": 3.567, \"waiting\": 73}, {\"eruptions\": 4.5, \"waiting\": 73}, {\"eruptions\": 4.15, \"waiting\": 88}, {\"eruptions\": 3.817, \"waiting\": 80}, {\"eruptions\": 3.917, \"waiting\": 71}, {\"eruptions\": 4.45, \"waiting\": 83}, {\"eruptions\": 2.0, \"waiting\": 56}, {\"eruptions\": 4.283, \"waiting\": 79}, {\"eruptions\": 4.767, \"waiting\": 78}, {\"eruptions\": 4.533, \"waiting\": 84}, {\"eruptions\": 1.85, \"waiting\": 58}, {\"eruptions\": 4.25, \"waiting\": 83}, {\"eruptions\": 1.983, \"waiting\": 43}, {\"eruptions\": 2.25, \"waiting\": 60}, {\"eruptions\": 4.75, \"waiting\": 75}, {\"eruptions\": 4.117, \"waiting\": 81}, {\"eruptions\": 2.15, \"waiting\": 46}, {\"eruptions\": 4.417, \"waiting\": 90}, {\"eruptions\": 1.817, \"waiting\": 46}, {\"eruptions\": 4.467, \"waiting\": 74}]}}, {\"mode\": \"vega-lite\"});\n",
       "</script>"
      ],
      "text/plain": [
       "alt.Chart(...)"
      ]
     },
     "metadata": {
      "scrapbook": {
       "mime_prefix": "",
       "name": "faithful_scatter"
      }
     },
     "output_type": "display_data"
    }
   ],
   "source": [
    "glue('faithful_scatter', faithful_scatter, display=True)"
   ]
  },
  {
   "cell_type": "markdown",
   "id": "3fa1b8bc",
   "metadata": {},
   "source": [
    ":::{glue:figure} faithful_scatter \n",
    ":figwidth: 700px \n",
    ":name: faithful_scatter\n",
    "\n",
    "Scatter plot of waiting time and eruption time with clearer axes and labels.\n",
    ":::"
   ]
  },
  {
   "cell_type": "markdown",
   "id": "334b7cd4",
   "metadata": {},
   "source": [
    "\\newpage\n",
    "\n",
    "### Axis transformation and colored scatter plots: the Canadian languages data set\n",
    "\n",
    "Recall the `can_lang` data set [@timbers2020canlang] from Chapters \\@ref(intro), \\@ref(reading), and \\@ref(wrangling),\n",
    "\\index{Canadian languages} which contains counts of languages from the 2016\n",
    "Canadian census.\n",
    "\n",
    "**Question:** \\index{question!visualization} Is there a relationship between\n",
    "the percentage of people who speak a language as their mother tongue and \n",
    "the percentage for whom that is the primary language spoken at home?\n",
    "And is there a pattern in the strength of this relationship in the\n",
    "higher-level language categories (Official languages, Aboriginal languages, or\n",
    "non-official and non-Aboriginal languages)?\n",
    "\n",
    "To get started, we will read and inspect the data:\n",
    "\n",
    "```{r 03-canlang-example, message = F, warning = F}\n",
    "can_lang <- read_csv(\"data/can_lang.csv\")\n",
    "can_lang\n",
    "```"
   ]
  },
  {
   "cell_type": "code",
   "execution_count": 20,
   "id": "55ae5737",
   "metadata": {},
   "outputs": [
    {
     "ename": "FileNotFoundError",
     "evalue": "[Errno 2] No such file or directory: 'data/can_lang.csv'",
     "output_type": "error",
     "traceback": [
      "\u001b[0;31m---------------------------------------------------------------------------\u001b[0m",
      "\u001b[0;31mFileNotFoundError\u001b[0m                         Traceback (most recent call last)",
      "Input \u001b[0;32mIn [20]\u001b[0m, in \u001b[0;36m<cell line: 1>\u001b[0;34m()\u001b[0m\n\u001b[0;32m----> 1\u001b[0m can_lang \u001b[38;5;241m=\u001b[39m  \u001b[43mpd\u001b[49m\u001b[38;5;241;43m.\u001b[39;49m\u001b[43mread_csv\u001b[49m\u001b[43m(\u001b[49m\u001b[38;5;124;43m\"\u001b[39;49m\u001b[38;5;124;43mdata/can_lang.csv\u001b[39;49m\u001b[38;5;124;43m\"\u001b[39;49m\u001b[43m)\u001b[49m\n",
      "File \u001b[0;32m~/opt/miniconda3/envs/dsci/lib/python3.9/site-packages/pandas/util/_decorators.py:311\u001b[0m, in \u001b[0;36mdeprecate_nonkeyword_arguments.<locals>.decorate.<locals>.wrapper\u001b[0;34m(*args, **kwargs)\u001b[0m\n\u001b[1;32m    305\u001b[0m \u001b[38;5;28;01mif\u001b[39;00m \u001b[38;5;28mlen\u001b[39m(args) \u001b[38;5;241m>\u001b[39m num_allow_args:\n\u001b[1;32m    306\u001b[0m     warnings\u001b[38;5;241m.\u001b[39mwarn(\n\u001b[1;32m    307\u001b[0m         msg\u001b[38;5;241m.\u001b[39mformat(arguments\u001b[38;5;241m=\u001b[39marguments),\n\u001b[1;32m    308\u001b[0m         \u001b[38;5;167;01mFutureWarning\u001b[39;00m,\n\u001b[1;32m    309\u001b[0m         stacklevel\u001b[38;5;241m=\u001b[39mstacklevel,\n\u001b[1;32m    310\u001b[0m     )\n\u001b[0;32m--> 311\u001b[0m \u001b[38;5;28;01mreturn\u001b[39;00m \u001b[43mfunc\u001b[49m\u001b[43m(\u001b[49m\u001b[38;5;241;43m*\u001b[39;49m\u001b[43margs\u001b[49m\u001b[43m,\u001b[49m\u001b[43m \u001b[49m\u001b[38;5;241;43m*\u001b[39;49m\u001b[38;5;241;43m*\u001b[39;49m\u001b[43mkwargs\u001b[49m\u001b[43m)\u001b[49m\n",
      "File \u001b[0;32m~/opt/miniconda3/envs/dsci/lib/python3.9/site-packages/pandas/io/parsers/readers.py:680\u001b[0m, in \u001b[0;36mread_csv\u001b[0;34m(filepath_or_buffer, sep, delimiter, header, names, index_col, usecols, squeeze, prefix, mangle_dupe_cols, dtype, engine, converters, true_values, false_values, skipinitialspace, skiprows, skipfooter, nrows, na_values, keep_default_na, na_filter, verbose, skip_blank_lines, parse_dates, infer_datetime_format, keep_date_col, date_parser, dayfirst, cache_dates, iterator, chunksize, compression, thousands, decimal, lineterminator, quotechar, quoting, doublequote, escapechar, comment, encoding, encoding_errors, dialect, error_bad_lines, warn_bad_lines, on_bad_lines, delim_whitespace, low_memory, memory_map, float_precision, storage_options)\u001b[0m\n\u001b[1;32m    665\u001b[0m kwds_defaults \u001b[38;5;241m=\u001b[39m _refine_defaults_read(\n\u001b[1;32m    666\u001b[0m     dialect,\n\u001b[1;32m    667\u001b[0m     delimiter,\n\u001b[0;32m   (...)\u001b[0m\n\u001b[1;32m    676\u001b[0m     defaults\u001b[38;5;241m=\u001b[39m{\u001b[38;5;124m\"\u001b[39m\u001b[38;5;124mdelimiter\u001b[39m\u001b[38;5;124m\"\u001b[39m: \u001b[38;5;124m\"\u001b[39m\u001b[38;5;124m,\u001b[39m\u001b[38;5;124m\"\u001b[39m},\n\u001b[1;32m    677\u001b[0m )\n\u001b[1;32m    678\u001b[0m kwds\u001b[38;5;241m.\u001b[39mupdate(kwds_defaults)\n\u001b[0;32m--> 680\u001b[0m \u001b[38;5;28;01mreturn\u001b[39;00m \u001b[43m_read\u001b[49m\u001b[43m(\u001b[49m\u001b[43mfilepath_or_buffer\u001b[49m\u001b[43m,\u001b[49m\u001b[43m \u001b[49m\u001b[43mkwds\u001b[49m\u001b[43m)\u001b[49m\n",
      "File \u001b[0;32m~/opt/miniconda3/envs/dsci/lib/python3.9/site-packages/pandas/io/parsers/readers.py:575\u001b[0m, in \u001b[0;36m_read\u001b[0;34m(filepath_or_buffer, kwds)\u001b[0m\n\u001b[1;32m    572\u001b[0m _validate_names(kwds\u001b[38;5;241m.\u001b[39mget(\u001b[38;5;124m\"\u001b[39m\u001b[38;5;124mnames\u001b[39m\u001b[38;5;124m\"\u001b[39m, \u001b[38;5;28;01mNone\u001b[39;00m))\n\u001b[1;32m    574\u001b[0m \u001b[38;5;66;03m# Create the parser.\u001b[39;00m\n\u001b[0;32m--> 575\u001b[0m parser \u001b[38;5;241m=\u001b[39m \u001b[43mTextFileReader\u001b[49m\u001b[43m(\u001b[49m\u001b[43mfilepath_or_buffer\u001b[49m\u001b[43m,\u001b[49m\u001b[43m \u001b[49m\u001b[38;5;241;43m*\u001b[39;49m\u001b[38;5;241;43m*\u001b[39;49m\u001b[43mkwds\u001b[49m\u001b[43m)\u001b[49m\n\u001b[1;32m    577\u001b[0m \u001b[38;5;28;01mif\u001b[39;00m chunksize \u001b[38;5;129;01mor\u001b[39;00m iterator:\n\u001b[1;32m    578\u001b[0m     \u001b[38;5;28;01mreturn\u001b[39;00m parser\n",
      "File \u001b[0;32m~/opt/miniconda3/envs/dsci/lib/python3.9/site-packages/pandas/io/parsers/readers.py:933\u001b[0m, in \u001b[0;36mTextFileReader.__init__\u001b[0;34m(self, f, engine, **kwds)\u001b[0m\n\u001b[1;32m    930\u001b[0m     \u001b[38;5;28mself\u001b[39m\u001b[38;5;241m.\u001b[39moptions[\u001b[38;5;124m\"\u001b[39m\u001b[38;5;124mhas_index_names\u001b[39m\u001b[38;5;124m\"\u001b[39m] \u001b[38;5;241m=\u001b[39m kwds[\u001b[38;5;124m\"\u001b[39m\u001b[38;5;124mhas_index_names\u001b[39m\u001b[38;5;124m\"\u001b[39m]\n\u001b[1;32m    932\u001b[0m \u001b[38;5;28mself\u001b[39m\u001b[38;5;241m.\u001b[39mhandles: IOHandles \u001b[38;5;241m|\u001b[39m \u001b[38;5;28;01mNone\u001b[39;00m \u001b[38;5;241m=\u001b[39m \u001b[38;5;28;01mNone\u001b[39;00m\n\u001b[0;32m--> 933\u001b[0m \u001b[38;5;28mself\u001b[39m\u001b[38;5;241m.\u001b[39m_engine \u001b[38;5;241m=\u001b[39m \u001b[38;5;28;43mself\u001b[39;49m\u001b[38;5;241;43m.\u001b[39;49m\u001b[43m_make_engine\u001b[49m\u001b[43m(\u001b[49m\u001b[43mf\u001b[49m\u001b[43m,\u001b[49m\u001b[43m \u001b[49m\u001b[38;5;28;43mself\u001b[39;49m\u001b[38;5;241;43m.\u001b[39;49m\u001b[43mengine\u001b[49m\u001b[43m)\u001b[49m\n",
      "File \u001b[0;32m~/opt/miniconda3/envs/dsci/lib/python3.9/site-packages/pandas/io/parsers/readers.py:1217\u001b[0m, in \u001b[0;36mTextFileReader._make_engine\u001b[0;34m(self, f, engine)\u001b[0m\n\u001b[1;32m   1213\u001b[0m     mode \u001b[38;5;241m=\u001b[39m \u001b[38;5;124m\"\u001b[39m\u001b[38;5;124mrb\u001b[39m\u001b[38;5;124m\"\u001b[39m\n\u001b[1;32m   1214\u001b[0m \u001b[38;5;66;03m# error: No overload variant of \"get_handle\" matches argument types\u001b[39;00m\n\u001b[1;32m   1215\u001b[0m \u001b[38;5;66;03m# \"Union[str, PathLike[str], ReadCsvBuffer[bytes], ReadCsvBuffer[str]]\"\u001b[39;00m\n\u001b[1;32m   1216\u001b[0m \u001b[38;5;66;03m# , \"str\", \"bool\", \"Any\", \"Any\", \"Any\", \"Any\", \"Any\"\u001b[39;00m\n\u001b[0;32m-> 1217\u001b[0m \u001b[38;5;28mself\u001b[39m\u001b[38;5;241m.\u001b[39mhandles \u001b[38;5;241m=\u001b[39m \u001b[43mget_handle\u001b[49m\u001b[43m(\u001b[49m\u001b[43m  \u001b[49m\u001b[38;5;66;43;03m# type: ignore[call-overload]\u001b[39;49;00m\n\u001b[1;32m   1218\u001b[0m \u001b[43m    \u001b[49m\u001b[43mf\u001b[49m\u001b[43m,\u001b[49m\n\u001b[1;32m   1219\u001b[0m \u001b[43m    \u001b[49m\u001b[43mmode\u001b[49m\u001b[43m,\u001b[49m\n\u001b[1;32m   1220\u001b[0m \u001b[43m    \u001b[49m\u001b[43mencoding\u001b[49m\u001b[38;5;241;43m=\u001b[39;49m\u001b[38;5;28;43mself\u001b[39;49m\u001b[38;5;241;43m.\u001b[39;49m\u001b[43moptions\u001b[49m\u001b[38;5;241;43m.\u001b[39;49m\u001b[43mget\u001b[49m\u001b[43m(\u001b[49m\u001b[38;5;124;43m\"\u001b[39;49m\u001b[38;5;124;43mencoding\u001b[39;49m\u001b[38;5;124;43m\"\u001b[39;49m\u001b[43m,\u001b[49m\u001b[43m \u001b[49m\u001b[38;5;28;43;01mNone\u001b[39;49;00m\u001b[43m)\u001b[49m\u001b[43m,\u001b[49m\n\u001b[1;32m   1221\u001b[0m \u001b[43m    \u001b[49m\u001b[43mcompression\u001b[49m\u001b[38;5;241;43m=\u001b[39;49m\u001b[38;5;28;43mself\u001b[39;49m\u001b[38;5;241;43m.\u001b[39;49m\u001b[43moptions\u001b[49m\u001b[38;5;241;43m.\u001b[39;49m\u001b[43mget\u001b[49m\u001b[43m(\u001b[49m\u001b[38;5;124;43m\"\u001b[39;49m\u001b[38;5;124;43mcompression\u001b[39;49m\u001b[38;5;124;43m\"\u001b[39;49m\u001b[43m,\u001b[49m\u001b[43m \u001b[49m\u001b[38;5;28;43;01mNone\u001b[39;49;00m\u001b[43m)\u001b[49m\u001b[43m,\u001b[49m\n\u001b[1;32m   1222\u001b[0m \u001b[43m    \u001b[49m\u001b[43mmemory_map\u001b[49m\u001b[38;5;241;43m=\u001b[39;49m\u001b[38;5;28;43mself\u001b[39;49m\u001b[38;5;241;43m.\u001b[39;49m\u001b[43moptions\u001b[49m\u001b[38;5;241;43m.\u001b[39;49m\u001b[43mget\u001b[49m\u001b[43m(\u001b[49m\u001b[38;5;124;43m\"\u001b[39;49m\u001b[38;5;124;43mmemory_map\u001b[39;49m\u001b[38;5;124;43m\"\u001b[39;49m\u001b[43m,\u001b[49m\u001b[43m \u001b[49m\u001b[38;5;28;43;01mFalse\u001b[39;49;00m\u001b[43m)\u001b[49m\u001b[43m,\u001b[49m\n\u001b[1;32m   1223\u001b[0m \u001b[43m    \u001b[49m\u001b[43mis_text\u001b[49m\u001b[38;5;241;43m=\u001b[39;49m\u001b[43mis_text\u001b[49m\u001b[43m,\u001b[49m\n\u001b[1;32m   1224\u001b[0m \u001b[43m    \u001b[49m\u001b[43merrors\u001b[49m\u001b[38;5;241;43m=\u001b[39;49m\u001b[38;5;28;43mself\u001b[39;49m\u001b[38;5;241;43m.\u001b[39;49m\u001b[43moptions\u001b[49m\u001b[38;5;241;43m.\u001b[39;49m\u001b[43mget\u001b[49m\u001b[43m(\u001b[49m\u001b[38;5;124;43m\"\u001b[39;49m\u001b[38;5;124;43mencoding_errors\u001b[39;49m\u001b[38;5;124;43m\"\u001b[39;49m\u001b[43m,\u001b[49m\u001b[43m \u001b[49m\u001b[38;5;124;43m\"\u001b[39;49m\u001b[38;5;124;43mstrict\u001b[39;49m\u001b[38;5;124;43m\"\u001b[39;49m\u001b[43m)\u001b[49m\u001b[43m,\u001b[49m\n\u001b[1;32m   1225\u001b[0m \u001b[43m    \u001b[49m\u001b[43mstorage_options\u001b[49m\u001b[38;5;241;43m=\u001b[39;49m\u001b[38;5;28;43mself\u001b[39;49m\u001b[38;5;241;43m.\u001b[39;49m\u001b[43moptions\u001b[49m\u001b[38;5;241;43m.\u001b[39;49m\u001b[43mget\u001b[49m\u001b[43m(\u001b[49m\u001b[38;5;124;43m\"\u001b[39;49m\u001b[38;5;124;43mstorage_options\u001b[39;49m\u001b[38;5;124;43m\"\u001b[39;49m\u001b[43m,\u001b[49m\u001b[43m \u001b[49m\u001b[38;5;28;43;01mNone\u001b[39;49;00m\u001b[43m)\u001b[49m\u001b[43m,\u001b[49m\n\u001b[1;32m   1226\u001b[0m \u001b[43m\u001b[49m\u001b[43m)\u001b[49m\n\u001b[1;32m   1227\u001b[0m \u001b[38;5;28;01massert\u001b[39;00m \u001b[38;5;28mself\u001b[39m\u001b[38;5;241m.\u001b[39mhandles \u001b[38;5;129;01mis\u001b[39;00m \u001b[38;5;129;01mnot\u001b[39;00m \u001b[38;5;28;01mNone\u001b[39;00m\n\u001b[1;32m   1228\u001b[0m f \u001b[38;5;241m=\u001b[39m \u001b[38;5;28mself\u001b[39m\u001b[38;5;241m.\u001b[39mhandles\u001b[38;5;241m.\u001b[39mhandle\n",
      "File \u001b[0;32m~/opt/miniconda3/envs/dsci/lib/python3.9/site-packages/pandas/io/common.py:789\u001b[0m, in \u001b[0;36mget_handle\u001b[0;34m(path_or_buf, mode, encoding, compression, memory_map, is_text, errors, storage_options)\u001b[0m\n\u001b[1;32m    784\u001b[0m \u001b[38;5;28;01melif\u001b[39;00m \u001b[38;5;28misinstance\u001b[39m(handle, \u001b[38;5;28mstr\u001b[39m):\n\u001b[1;32m    785\u001b[0m     \u001b[38;5;66;03m# Check whether the filename is to be opened in binary mode.\u001b[39;00m\n\u001b[1;32m    786\u001b[0m     \u001b[38;5;66;03m# Binary mode does not support 'encoding' and 'newline'.\u001b[39;00m\n\u001b[1;32m    787\u001b[0m     \u001b[38;5;28;01mif\u001b[39;00m ioargs\u001b[38;5;241m.\u001b[39mencoding \u001b[38;5;129;01mand\u001b[39;00m \u001b[38;5;124m\"\u001b[39m\u001b[38;5;124mb\u001b[39m\u001b[38;5;124m\"\u001b[39m \u001b[38;5;129;01mnot\u001b[39;00m \u001b[38;5;129;01min\u001b[39;00m ioargs\u001b[38;5;241m.\u001b[39mmode:\n\u001b[1;32m    788\u001b[0m         \u001b[38;5;66;03m# Encoding\u001b[39;00m\n\u001b[0;32m--> 789\u001b[0m         handle \u001b[38;5;241m=\u001b[39m \u001b[38;5;28;43mopen\u001b[39;49m\u001b[43m(\u001b[49m\n\u001b[1;32m    790\u001b[0m \u001b[43m            \u001b[49m\u001b[43mhandle\u001b[49m\u001b[43m,\u001b[49m\n\u001b[1;32m    791\u001b[0m \u001b[43m            \u001b[49m\u001b[43mioargs\u001b[49m\u001b[38;5;241;43m.\u001b[39;49m\u001b[43mmode\u001b[49m\u001b[43m,\u001b[49m\n\u001b[1;32m    792\u001b[0m \u001b[43m            \u001b[49m\u001b[43mencoding\u001b[49m\u001b[38;5;241;43m=\u001b[39;49m\u001b[43mioargs\u001b[49m\u001b[38;5;241;43m.\u001b[39;49m\u001b[43mencoding\u001b[49m\u001b[43m,\u001b[49m\n\u001b[1;32m    793\u001b[0m \u001b[43m            \u001b[49m\u001b[43merrors\u001b[49m\u001b[38;5;241;43m=\u001b[39;49m\u001b[43merrors\u001b[49m\u001b[43m,\u001b[49m\n\u001b[1;32m    794\u001b[0m \u001b[43m            \u001b[49m\u001b[43mnewline\u001b[49m\u001b[38;5;241;43m=\u001b[39;49m\u001b[38;5;124;43m\"\u001b[39;49m\u001b[38;5;124;43m\"\u001b[39;49m\u001b[43m,\u001b[49m\n\u001b[1;32m    795\u001b[0m \u001b[43m        \u001b[49m\u001b[43m)\u001b[49m\n\u001b[1;32m    796\u001b[0m     \u001b[38;5;28;01melse\u001b[39;00m:\n\u001b[1;32m    797\u001b[0m         \u001b[38;5;66;03m# Binary mode\u001b[39;00m\n\u001b[1;32m    798\u001b[0m         handle \u001b[38;5;241m=\u001b[39m \u001b[38;5;28mopen\u001b[39m(handle, ioargs\u001b[38;5;241m.\u001b[39mmode)\n",
      "\u001b[0;31mFileNotFoundError\u001b[0m: [Errno 2] No such file or directory: 'data/can_lang.csv'"
     ]
    }
   ],
   "source": [
    "can_lang =  pd.read_csv(\"data/can_lang.csv\")"
   ]
  },
  {
   "cell_type": "code",
   "execution_count": 21,
   "id": "9f026efb",
   "metadata": {
    "tags": [
     "hide-cell"
    ]
   },
   "outputs": [
    {
     "ename": "NameError",
     "evalue": "name 'can_lang' is not defined",
     "output_type": "error",
     "traceback": [
      "\u001b[0;31m---------------------------------------------------------------------------\u001b[0m",
      "\u001b[0;31mNameError\u001b[0m                                 Traceback (most recent call last)",
      "Input \u001b[0;32mIn [21]\u001b[0m, in \u001b[0;36m<cell line: 1>\u001b[0;34m()\u001b[0m\n\u001b[0;32m----> 1\u001b[0m can_lang \u001b[38;5;241m=\u001b[39m \u001b[43mcan_lang\u001b[49m[(can_lang[\u001b[38;5;124m'\u001b[39m\u001b[38;5;124mmost_at_home\u001b[39m\u001b[38;5;124m'\u001b[39m]\u001b[38;5;241m>\u001b[39m\u001b[38;5;241m0\u001b[39m) \u001b[38;5;241m&\u001b[39m (can_lang[\u001b[38;5;124m'\u001b[39m\u001b[38;5;124mmother_tongue\u001b[39m\u001b[38;5;124m'\u001b[39m]\u001b[38;5;241m>\u001b[39m\u001b[38;5;241m0\u001b[39m)]\n",
      "\u001b[0;31mNameError\u001b[0m: name 'can_lang' is not defined"
     ]
    }
   ],
   "source": [
    "can_lang = can_lang[(can_lang['most_at_home']>0) & (can_lang['mother_tongue']>0)]"
   ]
  },
  {
   "cell_type": "markdown",
   "id": "aa6d97a9",
   "metadata": {},
   "source": [
    "We will begin with a scatter plot of the `mother_tongue` and `most_at_home` columns from our data frame.\n",
    "The resulting plot is shown in Figure \\@ref(fig:03-mother-tongue-vs-most-at-home).\n",
    "\\index{ggplot!geom\\_point}\n",
    "\n",
    "```{r 03-mother-tongue-vs-most-at-home, fig.height=3.5, fig.width=3.75, fig.align = \"center\", warning=FALSE, fig.pos = \"H\", out.extra=\"\", fig.cap = \"Scatter plot of number of Canadians reporting a language as their mother tongue vs the primary language at home.\"}\n",
    "ggplot(can_lang, aes(x = most_at_home, y = mother_tongue)) +\n",
    "  geom_point()\n",
    "```"
   ]
  },
  {
   "cell_type": "code",
   "execution_count": 22,
   "id": "91a47710",
   "metadata": {},
   "outputs": [
    {
     "ename": "NameError",
     "evalue": "name 'can_lang' is not defined",
     "output_type": "error",
     "traceback": [
      "\u001b[0;31m---------------------------------------------------------------------------\u001b[0m",
      "\u001b[0;31mNameError\u001b[0m                                 Traceback (most recent call last)",
      "Input \u001b[0;32mIn [22]\u001b[0m, in \u001b[0;36m<cell line: 1>\u001b[0;34m()\u001b[0m\n\u001b[0;32m----> 1\u001b[0m can_lang_plot \u001b[38;5;241m=\u001b[39m alt\u001b[38;5;241m.\u001b[39mChart(\u001b[43mcan_lang\u001b[49m)\u001b[38;5;241m.\u001b[39mmark_circle(color\u001b[38;5;241m=\u001b[39m\u001b[38;5;124m'\u001b[39m\u001b[38;5;124mblack\u001b[39m\u001b[38;5;124m'\u001b[39m)\u001b[38;5;241m.\u001b[39mencode(\n\u001b[1;32m      2\u001b[0m     x \u001b[38;5;241m=\u001b[39m \u001b[38;5;124m\"\u001b[39m\u001b[38;5;124mmost_at_home\u001b[39m\u001b[38;5;124m\"\u001b[39m,\n\u001b[1;32m      3\u001b[0m     y \u001b[38;5;241m=\u001b[39m \u001b[38;5;124m\"\u001b[39m\u001b[38;5;124mmother_tongue\u001b[39m\u001b[38;5;124m\"\u001b[39m)\n",
      "\u001b[0;31mNameError\u001b[0m: name 'can_lang' is not defined"
     ]
    }
   ],
   "source": [
    "can_lang_plot = alt.Chart(can_lang).mark_circle(color='black').encode(\n",
    "    x = \"most_at_home\",\n",
    "    y = \"mother_tongue\")\n"
   ]
  },
  {
   "cell_type": "code",
   "execution_count": 23,
   "id": "13fcb805",
   "metadata": {
    "tags": [
     "remove-cell"
    ]
   },
   "outputs": [
    {
     "ename": "NameError",
     "evalue": "name 'can_lang_plot' is not defined",
     "output_type": "error",
     "traceback": [
      "\u001b[0;31m---------------------------------------------------------------------------\u001b[0m",
      "\u001b[0;31mNameError\u001b[0m                                 Traceback (most recent call last)",
      "Input \u001b[0;32mIn [23]\u001b[0m, in \u001b[0;36m<cell line: 1>\u001b[0;34m()\u001b[0m\n\u001b[0;32m----> 1\u001b[0m glue(\u001b[38;5;124m'\u001b[39m\u001b[38;5;124mcan_lang_plot\u001b[39m\u001b[38;5;124m'\u001b[39m, \u001b[43mcan_lang_plot\u001b[49m, display\u001b[38;5;241m=\u001b[39m\u001b[38;5;28;01mTrue\u001b[39;00m)\n",
      "\u001b[0;31mNameError\u001b[0m: name 'can_lang_plot' is not defined"
     ]
    }
   ],
   "source": [
    "glue('can_lang_plot', can_lang_plot, display=True)"
   ]
  },
  {
   "cell_type": "markdown",
   "id": "f80ed085",
   "metadata": {},
   "source": [
    ":::{glue:figure} can_lang_plot\n",
    ":figwidth: 700px \n",
    ":name: can_lang_plot\n",
    "\n",
    "Scatter plot of number of Canadians reporting a language as their mother tongue vs the primary language at home\n",
    ":::\n",
    "\n",
    "\n",
    "To make an initial improvement in the interpretability \n",
    "of Figure \\@ref(fig:03-mother-tongue-vs-most-at-home), we should \n",
    "replace the default axis\n",
    "names with more informative labels. We can use `\\n` to create a line break in\n",
    "the axis names so that the words after `\\n` are printed on a new line. This will\n",
    "make the axes labels on the plots more readable.\n",
    "\\index{escape character} We should also increase the font size to further \n",
    "improve readability.\n",
    "\n",
    "```{r 03-mother-tongue-vs-most-at-home-labs, fig.height=3.5, fig.width=3.75, fig.align = \"center\", warning=FALSE, fig.pos = \"H\", out.extra=\"\", fig.cap = \"Scatter plot of number of Canadians reporting a language as their mother tongue vs the primary language at home with x and y labels.\"}\n",
    "ggplot(can_lang, aes(x = most_at_home, y = mother_tongue)) +\n",
    "  geom_point() +\n",
    "  labs(x = \"Language spoken most at home \\n (number of Canadian residents)\",\n",
    "       y = \"Mother tongue \\n (number of Canadian residents)\") +\n",
    "  theme(text = element_text(size = 12))\n",
    "```"
   ]
  },
  {
   "cell_type": "code",
   "execution_count": 24,
   "id": "0423fadc",
   "metadata": {},
   "outputs": [
    {
     "ename": "NameError",
     "evalue": "name 'can_lang' is not defined",
     "output_type": "error",
     "traceback": [
      "\u001b[0;31m---------------------------------------------------------------------------\u001b[0m",
      "\u001b[0;31mNameError\u001b[0m                                 Traceback (most recent call last)",
      "Input \u001b[0;32mIn [24]\u001b[0m, in \u001b[0;36m<cell line: 1>\u001b[0;34m()\u001b[0m\n\u001b[0;32m----> 1\u001b[0m can_lang_plot \u001b[38;5;241m=\u001b[39m alt\u001b[38;5;241m.\u001b[39mChart(\u001b[43mcan_lang\u001b[49m)\u001b[38;5;241m.\u001b[39mmark_circle(color\u001b[38;5;241m=\u001b[39m\u001b[38;5;124m'\u001b[39m\u001b[38;5;124mblack\u001b[39m\u001b[38;5;124m'\u001b[39m)\u001b[38;5;241m.\u001b[39mencode(\n\u001b[1;32m      2\u001b[0m     x \u001b[38;5;241m=\u001b[39m alt\u001b[38;5;241m.\u001b[39mX(\u001b[38;5;124m\"\u001b[39m\u001b[38;5;124mmost_at_home\u001b[39m\u001b[38;5;124m\"\u001b[39m,title \u001b[38;5;241m=\u001b[39m \u001b[38;5;124m\"\u001b[39m\u001b[38;5;124mLanguage spoken most at home(number of Canadian residents)\u001b[39m\u001b[38;5;124m\"\u001b[39m),\n\u001b[1;32m      3\u001b[0m     y \u001b[38;5;241m=\u001b[39m alt\u001b[38;5;241m.\u001b[39mY(\u001b[38;5;124m\"\u001b[39m\u001b[38;5;124mmother_tongue\u001b[39m\u001b[38;5;124m\"\u001b[39m, scale\u001b[38;5;241m=\u001b[39malt\u001b[38;5;241m.\u001b[39mScale(zero\u001b[38;5;241m=\u001b[39m\u001b[38;5;28;01mFalse\u001b[39;00m), title \u001b[38;5;241m=\u001b[39m \u001b[38;5;124m\"\u001b[39m\u001b[38;5;124mMother tongue(number of Canadian residents)\u001b[39m\u001b[38;5;124m\"\u001b[39m))\u001b[38;5;241m.\u001b[39mconfigure_axis(\n\u001b[1;32m      4\u001b[0m     titleFontSize\u001b[38;5;241m=\u001b[39m\u001b[38;5;241m12\u001b[39m)\n",
      "\u001b[0;31mNameError\u001b[0m: name 'can_lang' is not defined"
     ]
    }
   ],
   "source": [
    "can_lang_plot = alt.Chart(can_lang).mark_circle(color='black').encode(\n",
    "    x = alt.X(\"most_at_home\",title = \"Language spoken most at home(number of Canadian residents)\"),\n",
    "    y = alt.Y(\"mother_tongue\", scale=alt.Scale(zero=False), title = \"Mother tongue(number of Canadian residents)\")).configure_axis(\n",
    "    titleFontSize=12)\n"
   ]
  },
  {
   "cell_type": "code",
   "execution_count": 25,
   "id": "6912796d",
   "metadata": {
    "tags": [
     "remove-cell"
    ]
   },
   "outputs": [
    {
     "ename": "NameError",
     "evalue": "name 'can_lang_plot' is not defined",
     "output_type": "error",
     "traceback": [
      "\u001b[0;31m---------------------------------------------------------------------------\u001b[0m",
      "\u001b[0;31mNameError\u001b[0m                                 Traceback (most recent call last)",
      "Input \u001b[0;32mIn [25]\u001b[0m, in \u001b[0;36m<cell line: 1>\u001b[0;34m()\u001b[0m\n\u001b[0;32m----> 1\u001b[0m glue(\u001b[38;5;124m'\u001b[39m\u001b[38;5;124mcan_lang_plot\u001b[39m\u001b[38;5;124m'\u001b[39m, \u001b[43mcan_lang_plot\u001b[49m, display\u001b[38;5;241m=\u001b[39m\u001b[38;5;28;01mTrue\u001b[39;00m)\n",
      "\u001b[0;31mNameError\u001b[0m: name 'can_lang_plot' is not defined"
     ]
    }
   ],
   "source": [
    "glue('can_lang_plot', can_lang_plot, display=True)"
   ]
  },
  {
   "cell_type": "markdown",
   "id": "d6a8d65d",
   "metadata": {},
   "source": [
    ":::{glue:figure} can_lang_plot\n",
    ":figwidth: 700px \n",
    ":name: can_lang_plot\n",
    "\n",
    "Scatter plot of number of Canadians reporting a language as their mother tongue vs the primary language at home with x and y labels.\n",
    ":::\n",
    "\n",
    "\n",
    "```{r mother-tongue-hidden-summaries, echo = FALSE, warning = FALSE, message = FALSE}\n",
    "numlang_speakers <- can_lang |> \n",
    "              select(mother_tongue) |> \n",
    "              summarize(maxsp = max(mother_tongue), \n",
    "                        minsp = min(mother_tongue))\n",
    "\n",
    "maxlang_speakers <- numlang_speakers |> \n",
    "  pull(maxsp)\n",
    "\n",
    "minlang_speakers <- numlang_speakers |> \n",
    "  pull(minsp)\n",
    "```"
   ]
  },
  {
   "cell_type": "code",
   "execution_count": 26,
   "id": "eab71e34",
   "metadata": {
    "tags": [
     "hide-cell"
    ]
   },
   "outputs": [
    {
     "ename": "NameError",
     "evalue": "name 'can_lang' is not defined",
     "output_type": "error",
     "traceback": [
      "\u001b[0;31m---------------------------------------------------------------------------\u001b[0m",
      "\u001b[0;31mNameError\u001b[0m                                 Traceback (most recent call last)",
      "Input \u001b[0;32mIn [26]\u001b[0m, in \u001b[0;36m<cell line: 1>\u001b[0;34m()\u001b[0m\n\u001b[0;32m----> 1\u001b[0m numlang_speakers_max \u001b[38;5;241m=\u001b[39m \u001b[38;5;28mmax\u001b[39m(\u001b[43mcan_lang\u001b[49m[\u001b[38;5;124m'\u001b[39m\u001b[38;5;124mmother_tongue\u001b[39m\u001b[38;5;124m'\u001b[39m])\n\u001b[1;32m      3\u001b[0m numlang_speakers_min \u001b[38;5;241m=\u001b[39m \u001b[38;5;28mmin\u001b[39m(can_lang[\u001b[38;5;124m'\u001b[39m\u001b[38;5;124mmother_tongue\u001b[39m\u001b[38;5;124m'\u001b[39m])\n",
      "\u001b[0;31mNameError\u001b[0m: name 'can_lang' is not defined"
     ]
    }
   ],
   "source": [
    "numlang_speakers_max = max(can_lang['mother_tongue'])\n",
    "\n",
    "numlang_speakers_min = min(can_lang['mother_tongue'])"
   ]
  },
  {
   "cell_type": "markdown",
   "id": "5711ad33",
   "metadata": {},
   "source": [
    "Okay! The axes and labels in Figure \\@ref(fig:03-mother-tongue-vs-most-at-home-labs) are\n",
    "much more readable and interpretable now. However, the scatter points themselves could use\n",
    "some work; most of the 214 data points are bunched\n",
    "up in the lower left-hand side of the visualization. The data is clumped because\n",
    "many more people in Canada speak English or French (the two points in\n",
    "the upper right corner) than other languages. \n",
    "In particular, the most common mother tongue language \n",
    "has `r  format(maxlang_speakers, scientific = FALSE, big.mark = \",\")` speakers,\n",
    "while the least common has only `r  format(minlang_speakers, scientific = FALSE, big.mark = \",\")`.\n",
    "That's a `r as.integer(floor(log10(maxlang_speakers/minlang_speakers)))`-decimal-place difference\n",
    "in the magnitude of these two numbers!\n",
    "We can confirm that the two points in the upper right-hand corner correspond\n",
    "to Canada's two official languages by filtering the data:\n",
    "\\index{filter}\n",
    "\n",
    "```{r english-mother-tongue}\n",
    "can_lang |>\n",
    "  filter(language == \"English\" | language == \"French\")\n",
    "```"
   ]
  },
  {
   "cell_type": "code",
   "execution_count": 27,
   "id": "fb5bcf20",
   "metadata": {},
   "outputs": [
    {
     "ename": "NameError",
     "evalue": "name 'can_lang' is not defined",
     "output_type": "error",
     "traceback": [
      "\u001b[0;31m---------------------------------------------------------------------------\u001b[0m",
      "\u001b[0;31mNameError\u001b[0m                                 Traceback (most recent call last)",
      "Input \u001b[0;32mIn [27]\u001b[0m, in \u001b[0;36m<cell line: 1>\u001b[0;34m()\u001b[0m\n\u001b[0;32m----> 1\u001b[0m \u001b[43mcan_lang\u001b[49m\u001b[38;5;241m.\u001b[39mloc[(can_lang[\u001b[38;5;124m'\u001b[39m\u001b[38;5;124mlanguage\u001b[39m\u001b[38;5;124m'\u001b[39m]\u001b[38;5;241m==\u001b[39m\u001b[38;5;124m'\u001b[39m\u001b[38;5;124mEnglish\u001b[39m\u001b[38;5;124m'\u001b[39m) \u001b[38;5;241m|\u001b[39m (can_lang[\u001b[38;5;124m'\u001b[39m\u001b[38;5;124mlanguage\u001b[39m\u001b[38;5;124m'\u001b[39m]\u001b[38;5;241m==\u001b[39m\u001b[38;5;124m'\u001b[39m\u001b[38;5;124mFrench\u001b[39m\u001b[38;5;124m'\u001b[39m)]\n",
      "\u001b[0;31mNameError\u001b[0m: name 'can_lang' is not defined"
     ]
    }
   ],
   "source": [
    "can_lang.loc[(can_lang['language']=='English') | (can_lang['language']=='French')]\n"
   ]
  },
  {
   "cell_type": "markdown",
   "id": "664b4adb",
   "metadata": {},
   "source": [
    "Recall that our question about this data pertains to *all* languages;\n",
    "so to properly answer our question, \n",
    "we will need to adjust the scale of the axes so that we can clearly\n",
    "see all of the scatter points.\n",
    "In particular, we will improve the plot by adjusting the horizontal\n",
    "and vertical axes so that they are on a **logarithmic** (or **log**) scale. \\index{logarithmic scale}\n",
    "Log scaling is useful when your data take both *very large* and *very small* values,\n",
    "because it helps space out small values and squishes larger values together.\n",
    "For example, $\\log_{10}(1) = 0$, $\\log_{10}(10) = 1$, $\\log_{10}(100) = 2$, and $\\log_{10}(1000) = 3$;\n",
    "on the logarithmic scale, \\index{ggplot!logarithmic scaling} \n",
    "the values 1, 10, 100, and 1000 are all the same distance apart!\n",
    "So we see that applying this function is moving big values closer together \n",
    "and moving small values farther apart.\n",
    "Note that if your data can take the value 0, logarithmic scaling may not \n",
    "be appropriate (since `log10(0) = -Inf` in R). There are other ways to transform\n",
    "the data in such a case, but these are beyond the scope of the book. \n",
    "\n",
    "We can accomplish logarithmic scaling in a `ggplot` visualization\n",
    "using the `scale_x_log10` and `scale_y_log10` functions.\n",
    "Given that the x and y axes have large numbers, we should also format the axis labels\n",
    "to put commas in these numbers to increase their readability.\n",
    "We can do this in R by passing the `label_comma` function (from the `scales` package)\n",
    "to the `labels` argument of the `scale_x_log10` and `scale_x_log10` functions.\n",
    "\n",
    "```{r 03-mother-tongue-vs-most-at-home-scale, message = FALSE, warning =  FALSE, fig.height=3.5,  fig.width=3.75, fig.align = \"center\",  fig.pos = \"H\", out.extra=\"\", fig.cap = \"Scatter plot of number of Canadians reporting a language as their mother tongue vs the primary language at home with log adjusted x and y axes.\"}\n",
    "library(scales)\n",
    "\n",
    "ggplot(can_lang, aes(x = most_at_home, y = mother_tongue)) +\n",
    "  geom_point() +\n",
    "  labs(x = \"Language spoken most at home \\n (number of Canadian residents)\",\n",
    "       y = \"Mother tongue \\n (number of Canadian residents)\") +\n",
    "  theme(text = element_text(size = 12)) +\n",
    "  scale_x_log10(labels = label_comma()) +\n",
    "  scale_y_log10(labels = label_comma())\n",
    "```"
   ]
  },
  {
   "cell_type": "code",
   "execution_count": 28,
   "id": "d03bdb04",
   "metadata": {},
   "outputs": [
    {
     "ename": "NameError",
     "evalue": "name 'can_lang' is not defined",
     "output_type": "error",
     "traceback": [
      "\u001b[0;31m---------------------------------------------------------------------------\u001b[0m",
      "\u001b[0;31mNameError\u001b[0m                                 Traceback (most recent call last)",
      "Input \u001b[0;32mIn [28]\u001b[0m, in \u001b[0;36m<cell line: 1>\u001b[0;34m()\u001b[0m\n\u001b[0;32m----> 1\u001b[0m can_lang_plot \u001b[38;5;241m=\u001b[39m alt\u001b[38;5;241m.\u001b[39mChart(\u001b[43mcan_lang\u001b[49m)\u001b[38;5;241m.\u001b[39mmark_circle(color\u001b[38;5;241m=\u001b[39m\u001b[38;5;124m'\u001b[39m\u001b[38;5;124mblack\u001b[39m\u001b[38;5;124m'\u001b[39m)\u001b[38;5;241m.\u001b[39mencode(\n\u001b[1;32m      2\u001b[0m     x \u001b[38;5;241m=\u001b[39m alt\u001b[38;5;241m.\u001b[39mX(\u001b[38;5;124m\"\u001b[39m\u001b[38;5;124mmost_at_home\u001b[39m\u001b[38;5;124m\"\u001b[39m,title \u001b[38;5;241m=\u001b[39m \u001b[38;5;124m\"\u001b[39m\u001b[38;5;124mLanguage spoken most at home(number of Canadian residents)\u001b[39m\u001b[38;5;124m\"\u001b[39m, scale\u001b[38;5;241m=\u001b[39malt\u001b[38;5;241m.\u001b[39mScale( \u001b[38;5;28mtype\u001b[39m\u001b[38;5;241m=\u001b[39m\u001b[38;5;124m\"\u001b[39m\u001b[38;5;124mlog\u001b[39m\u001b[38;5;124m\"\u001b[39m), axis\u001b[38;5;241m=\u001b[39malt\u001b[38;5;241m.\u001b[39mAxis(tickCount\u001b[38;5;241m=\u001b[39m\u001b[38;5;241m7\u001b[39m)),\n\u001b[1;32m      3\u001b[0m     y \u001b[38;5;241m=\u001b[39m alt\u001b[38;5;241m.\u001b[39mY(\u001b[38;5;124m\"\u001b[39m\u001b[38;5;124mmother_tongue\u001b[39m\u001b[38;5;124m\"\u001b[39m, title \u001b[38;5;241m=\u001b[39m \u001b[38;5;124m\"\u001b[39m\u001b[38;5;124mMother tongue(number of Canadian residents)\u001b[39m\u001b[38;5;124m\"\u001b[39m, scale\u001b[38;5;241m=\u001b[39malt\u001b[38;5;241m.\u001b[39mScale(\u001b[38;5;28mtype\u001b[39m\u001b[38;5;241m=\u001b[39m\u001b[38;5;124m\"\u001b[39m\u001b[38;5;124mlog\u001b[39m\u001b[38;5;124m\"\u001b[39m), axis\u001b[38;5;241m=\u001b[39malt\u001b[38;5;241m.\u001b[39mAxis(tickCount\u001b[38;5;241m=\u001b[39m\u001b[38;5;241m7\u001b[39m)))\u001b[38;5;241m.\u001b[39mconfigure_axis(\n\u001b[1;32m      4\u001b[0m     titleFontSize\u001b[38;5;241m=\u001b[39m\u001b[38;5;241m12\u001b[39m)\n",
      "\u001b[0;31mNameError\u001b[0m: name 'can_lang' is not defined"
     ]
    }
   ],
   "source": [
    "can_lang_plot = alt.Chart(can_lang).mark_circle(color='black').encode(\n",
    "    x = alt.X(\"most_at_home\",title = \"Language spoken most at home(number of Canadian residents)\", scale=alt.Scale( type=\"log\"), axis=alt.Axis(tickCount=7)),\n",
    "    y = alt.Y(\"mother_tongue\", title = \"Mother tongue(number of Canadian residents)\", scale=alt.Scale(type=\"log\"), axis=alt.Axis(tickCount=7))).configure_axis(\n",
    "    titleFontSize=12)"
   ]
  },
  {
   "cell_type": "code",
   "execution_count": 29,
   "id": "e2b049af",
   "metadata": {
    "tags": [
     "remove-cell"
    ]
   },
   "outputs": [
    {
     "ename": "NameError",
     "evalue": "name 'can_lang_plot' is not defined",
     "output_type": "error",
     "traceback": [
      "\u001b[0;31m---------------------------------------------------------------------------\u001b[0m",
      "\u001b[0;31mNameError\u001b[0m                                 Traceback (most recent call last)",
      "Input \u001b[0;32mIn [29]\u001b[0m, in \u001b[0;36m<cell line: 1>\u001b[0;34m()\u001b[0m\n\u001b[0;32m----> 1\u001b[0m glue(\u001b[38;5;124m'\u001b[39m\u001b[38;5;124mcan_lang_plot\u001b[39m\u001b[38;5;124m'\u001b[39m, \u001b[43mcan_lang_plot\u001b[49m, display\u001b[38;5;241m=\u001b[39m\u001b[38;5;28;01mTrue\u001b[39;00m)\n",
      "\u001b[0;31mNameError\u001b[0m: name 'can_lang_plot' is not defined"
     ]
    }
   ],
   "source": [
    "glue('can_lang_plot', can_lang_plot, display=True)"
   ]
  },
  {
   "cell_type": "markdown",
   "id": "9da25e6f",
   "metadata": {},
   "source": [
    ":::{glue:figure} can_lang_plot\n",
    ":figwidth: 700px \n",
    ":name: can_lang_plot\n",
    "\n",
    "Scatter plot of number of Canadians reporting a language as their mother tongue vs the primary language at home with log adjusted x and y axes.\n",
    ":::\n",
    "\n",
    "```{r 03-changing-the-units, include = FALSE}\n",
    "english_mother_tongue <- can_lang |>\n",
    "  filter(language == \"English\") |>\n",
    "  pull(mother_tongue)\n",
    "\n",
    "census_popn <- 35151728\n",
    "```"
   ]
  },
  {
   "cell_type": "code",
   "execution_count": 30,
   "id": "19c78ecc",
   "metadata": {
    "tags": [
     "hide-cell"
    ]
   },
   "outputs": [
    {
     "ename": "NameError",
     "evalue": "name 'can_lang' is not defined",
     "output_type": "error",
     "traceback": [
      "\u001b[0;31m---------------------------------------------------------------------------\u001b[0m",
      "\u001b[0;31mNameError\u001b[0m                                 Traceback (most recent call last)",
      "Input \u001b[0;32mIn [30]\u001b[0m, in \u001b[0;36m<cell line: 1>\u001b[0;34m()\u001b[0m\n\u001b[0;32m----> 1\u001b[0m english_mother_tongue \u001b[38;5;241m=\u001b[39m \u001b[43mcan_lang\u001b[49m\u001b[38;5;241m.\u001b[39mloc[can_lang[\u001b[38;5;124m'\u001b[39m\u001b[38;5;124mlanguage\u001b[39m\u001b[38;5;124m'\u001b[39m]\u001b[38;5;241m==\u001b[39m\u001b[38;5;124m'\u001b[39m\u001b[38;5;124mEnglish\u001b[39m\u001b[38;5;124m'\u001b[39m]\u001b[38;5;241m.\u001b[39mmother_tongue\n\u001b[1;32m      2\u001b[0m english_mother_tongue \n\u001b[1;32m      5\u001b[0m census_popn \u001b[38;5;241m=\u001b[39m \u001b[38;5;241m35151728\u001b[39m\n",
      "\u001b[0;31mNameError\u001b[0m: name 'can_lang' is not defined"
     ]
    }
   ],
   "source": [
    "english_mother_tongue = can_lang.loc[can_lang['language']=='English'].mother_tongue\n",
    "english_mother_tongue \n",
    "\n",
    "\n",
    "census_popn = 35151728"
   ]
  },
  {
   "cell_type": "markdown",
   "id": "d59a87a8",
   "metadata": {},
   "source": [
    "Similar to some of the examples in Chapter \\@ref(wrangling), \n",
    "we can convert the counts to percentages to give them context \n",
    "and make them easier to understand.\n",
    "We can do this by dividing the number of people reporting a given language \n",
    "as their mother tongue or primary language at home \n",
    "by the number of people who live in Canada and multiplying by 100\\%. \n",
    "For example, \n",
    "the percentage of people who reported that their mother tongue was English \n",
    "in the 2016 Canadian census \n",
    "was `r  format(english_mother_tongue, scientific = FALSE, big.mark = \",\") ` \n",
    "/ `r  format(census_popn, scientific = FALSE, big.mark = \",\")` $\\times$ \n",
    "`r 100` \\% =\n",
    "`r format(round(english_mother_tongue/census_popn*100, 2), scientific = FALSE, big.mark = \",\")`\\%.\n",
    "\n",
    "Below we use `mutate` to calculate the percentage of people reporting a given\n",
    "language as their mother tongue and primary language at home for all the\n",
    "languages in the `can_lang` data set. Since the new columns are appended to the\n",
    "end of the data table, we selected the new columns after the transformation so\n",
    "you can clearly see the mutated output from the table.\n",
    "\\index{mutate}\\index{select}\n",
    "\n",
    "```{r}\n",
    "can_lang <- can_lang |>\n",
    "  mutate(\n",
    "    mother_tongue_percent = (mother_tongue / 35151728) * 100,\n",
    "    most_at_home_percent = (most_at_home / 35151728) * 100\n",
    "  )\n",
    "\n",
    "can_lang |> \n",
    "  select(mother_tongue_percent, most_at_home_percent)\n",
    "```"
   ]
  },
  {
   "cell_type": "code",
   "execution_count": 31,
   "id": "bf1506cf",
   "metadata": {},
   "outputs": [
    {
     "ename": "NameError",
     "evalue": "name 'can_lang' is not defined",
     "output_type": "error",
     "traceback": [
      "\u001b[0;31m---------------------------------------------------------------------------\u001b[0m",
      "\u001b[0;31mNameError\u001b[0m                                 Traceback (most recent call last)",
      "Input \u001b[0;32mIn [31]\u001b[0m, in \u001b[0;36m<cell line: 1>\u001b[0;34m()\u001b[0m\n\u001b[0;32m----> 1\u001b[0m can_lang \u001b[38;5;241m=\u001b[39m \u001b[43mcan_lang\u001b[49m\u001b[38;5;241m.\u001b[39massign(mother_tongue_percent \u001b[38;5;241m=\u001b[39m (can_lang[\u001b[38;5;124m'\u001b[39m\u001b[38;5;124mmother_tongue\u001b[39m\u001b[38;5;124m'\u001b[39m] \u001b[38;5;241m/\u001b[39m \u001b[38;5;241m35151728\u001b[39m) \u001b[38;5;241m*\u001b[39m \u001b[38;5;241m100\u001b[39m,\n\u001b[1;32m      2\u001b[0m                           most_at_home_percent \u001b[38;5;241m=\u001b[39m (can_lang[\u001b[38;5;124m'\u001b[39m\u001b[38;5;124mmost_at_home\u001b[39m\u001b[38;5;124m'\u001b[39m] \u001b[38;5;241m/\u001b[39m \u001b[38;5;241m35151728\u001b[39m) \u001b[38;5;241m*\u001b[39m \u001b[38;5;241m100\u001b[39m)\n\u001b[1;32m      3\u001b[0m can_lang[[\u001b[38;5;124m'\u001b[39m\u001b[38;5;124mmother_tongue_percent\u001b[39m\u001b[38;5;124m'\u001b[39m, \u001b[38;5;124m'\u001b[39m\u001b[38;5;124mmost_at_home_percent\u001b[39m\u001b[38;5;124m'\u001b[39m]]\n",
      "\u001b[0;31mNameError\u001b[0m: name 'can_lang' is not defined"
     ]
    }
   ],
   "source": [
    "can_lang = can_lang.assign(mother_tongue_percent = (can_lang['mother_tongue'] / 35151728) * 100,\n",
    "                          most_at_home_percent = (can_lang['most_at_home'] / 35151728) * 100)\n",
    "can_lang[['mother_tongue_percent', 'most_at_home_percent']]\n"
   ]
  },
  {
   "cell_type": "markdown",
   "id": "5e5ded76",
   "metadata": {},
   "source": [
    "Finally, we will edit the visualization to use the percentages we just computed\n",
    "(and change our axis labels to reflect this change in \n",
    "units). Figure \\@ref(fig:03-mother-tongue-vs-most-at-home-scale-props) displays\n",
    "the final result.\n",
    "\n",
    "```{r 03-mother-tongue-vs-most-at-home-scale-props, fig.height=3.5,  fig.width=3.75, fig.align = \"center\",  warning=FALSE, fig.pos = \"H\", out.extra=\"\", fig.cap = \"Scatter plot of percentage of Canadians reporting a language as their mother tongue vs the primary language at home.\"}\n",
    "ggplot(can_lang, aes(x = most_at_home_percent, y = mother_tongue_percent)) +\n",
    "  geom_point() +\n",
    "  labs(x = \"Language spoken most at home \\n (percentage of Canadian residents)\",\n",
    "       y = \"Mother tongue \\n (percentage of Canadian residents)\") +\n",
    "  theme(text = element_text(size = 12)) +\n",
    "  scale_x_log10(labels = comma) +\n",
    "  scale_y_log10(labels = comma)\n",
    "```"
   ]
  },
  {
   "cell_type": "code",
   "execution_count": 32,
   "id": "a47ea73c",
   "metadata": {},
   "outputs": [
    {
     "ename": "NameError",
     "evalue": "name 'can_lang' is not defined",
     "output_type": "error",
     "traceback": [
      "\u001b[0;31m---------------------------------------------------------------------------\u001b[0m",
      "\u001b[0;31mNameError\u001b[0m                                 Traceback (most recent call last)",
      "Input \u001b[0;32mIn [32]\u001b[0m, in \u001b[0;36m<cell line: 1>\u001b[0;34m()\u001b[0m\n\u001b[0;32m----> 1\u001b[0m can_lang_plot \u001b[38;5;241m=\u001b[39m alt\u001b[38;5;241m.\u001b[39mChart(\u001b[43mcan_lang\u001b[49m)\u001b[38;5;241m.\u001b[39mmark_circle(color\u001b[38;5;241m=\u001b[39m\u001b[38;5;124m'\u001b[39m\u001b[38;5;124mblack\u001b[39m\u001b[38;5;124m'\u001b[39m)\u001b[38;5;241m.\u001b[39mencode(\n\u001b[1;32m      2\u001b[0m     x \u001b[38;5;241m=\u001b[39m alt\u001b[38;5;241m.\u001b[39mX(\u001b[38;5;124m\"\u001b[39m\u001b[38;5;124mmost_at_home_percent\u001b[39m\u001b[38;5;124m\"\u001b[39m,title \u001b[38;5;241m=\u001b[39m \u001b[38;5;124m\"\u001b[39m\u001b[38;5;124mLanguage spoken most at home(percentage of Canadian residents)\u001b[39m\u001b[38;5;124m\"\u001b[39m, scale\u001b[38;5;241m=\u001b[39malt\u001b[38;5;241m.\u001b[39mScale(\u001b[38;5;28mtype\u001b[39m\u001b[38;5;241m=\u001b[39m\u001b[38;5;124m\"\u001b[39m\u001b[38;5;124mlog\u001b[39m\u001b[38;5;124m\"\u001b[39m), axis\u001b[38;5;241m=\u001b[39malt\u001b[38;5;241m.\u001b[39mAxis(tickCount\u001b[38;5;241m=\u001b[39m\u001b[38;5;241m7\u001b[39m)),\n\u001b[1;32m      3\u001b[0m     y \u001b[38;5;241m=\u001b[39m alt\u001b[38;5;241m.\u001b[39mY(\u001b[38;5;124m\"\u001b[39m\u001b[38;5;124mmother_tongue_percent\u001b[39m\u001b[38;5;124m\"\u001b[39m, title \u001b[38;5;241m=\u001b[39m \u001b[38;5;124m\"\u001b[39m\u001b[38;5;124mMother tongue(percentage of Canadian residents)\u001b[39m\u001b[38;5;124m\"\u001b[39m, scale\u001b[38;5;241m=\u001b[39malt\u001b[38;5;241m.\u001b[39mScale(\u001b[38;5;28mtype\u001b[39m\u001b[38;5;241m=\u001b[39m\u001b[38;5;124m\"\u001b[39m\u001b[38;5;124mlog\u001b[39m\u001b[38;5;124m\"\u001b[39m), axis\u001b[38;5;241m=\u001b[39malt\u001b[38;5;241m.\u001b[39mAxis(tickCount\u001b[38;5;241m=\u001b[39m\u001b[38;5;241m7\u001b[39m)))\u001b[38;5;241m.\u001b[39mconfigure_axis(\n\u001b[1;32m      4\u001b[0m     titleFontSize\u001b[38;5;241m=\u001b[39m\u001b[38;5;241m12\u001b[39m)\n",
      "\u001b[0;31mNameError\u001b[0m: name 'can_lang' is not defined"
     ]
    }
   ],
   "source": [
    "can_lang_plot = alt.Chart(can_lang).mark_circle(color='black').encode(\n",
    "    x = alt.X(\"most_at_home_percent\",title = \"Language spoken most at home(percentage of Canadian residents)\", scale=alt.Scale(type=\"log\"), axis=alt.Axis(tickCount=7)),\n",
    "    y = alt.Y(\"mother_tongue_percent\", title = \"Mother tongue(percentage of Canadian residents)\", scale=alt.Scale(type=\"log\"), axis=alt.Axis(tickCount=7))).configure_axis(\n",
    "    titleFontSize=12)"
   ]
  },
  {
   "cell_type": "code",
   "execution_count": 33,
   "id": "2c79780b",
   "metadata": {
    "tags": [
     "remove-cell"
    ]
   },
   "outputs": [
    {
     "ename": "NameError",
     "evalue": "name 'can_lang_plot' is not defined",
     "output_type": "error",
     "traceback": [
      "\u001b[0;31m---------------------------------------------------------------------------\u001b[0m",
      "\u001b[0;31mNameError\u001b[0m                                 Traceback (most recent call last)",
      "Input \u001b[0;32mIn [33]\u001b[0m, in \u001b[0;36m<cell line: 1>\u001b[0;34m()\u001b[0m\n\u001b[0;32m----> 1\u001b[0m glue(\u001b[38;5;124m'\u001b[39m\u001b[38;5;124mcan_lang_plot\u001b[39m\u001b[38;5;124m'\u001b[39m, \u001b[43mcan_lang_plot\u001b[49m, display\u001b[38;5;241m=\u001b[39m\u001b[38;5;28;01mTrue\u001b[39;00m)\n",
      "\u001b[0;31mNameError\u001b[0m: name 'can_lang_plot' is not defined"
     ]
    }
   ],
   "source": [
    "glue('can_lang_plot', can_lang_plot, display=True)"
   ]
  },
  {
   "cell_type": "markdown",
   "id": "bd67d43a",
   "metadata": {},
   "source": [
    ":::{glue:figure} can_lang_plot\n",
    ":figwidth: 700px \n",
    ":name: can_lang_plot\n",
    "\n",
    "Scatter plot of percentage of Canadians reporting a language as their mother tongue vs the primary language at home.\n",
    ":::\n",
    "\n",
    "\n",
    "Figure \\@ref(fig:03-mother-tongue-vs-most-at-home-scale-props) is the appropriate\n",
    "visualization to use to answer the first question in this section, i.e.,\n",
    "whether there is a relationship between the percentage of people who speak \n",
    "a language as their mother tongue and the percentage for whom that\n",
    "is the primary language spoken at home.\n",
    "To fully answer the question, we need to use\n",
    " Figure \\@ref(fig:03-mother-tongue-vs-most-at-home-scale-props)\n",
    "to assess a few key characteristics of the data: \n",
    "\n",
    "- **Direction:** if the y variable tends to increase when the x variable increases, then y has a **positive** relationship with x. If \n",
    "  y tends to decrease when x increases, then y has a **negative** relationship with x. If y does not meaningfully increase or decrease \n",
    "  as x increases, then y has **little or no** relationship with x. \\index{relationship!positive, negative, none}\n",
    "- **Strength:** if the y variable *reliably* increases, decreases, or stays flat as x increases,\n",
    "  then the relationship is **strong**. Otherwise, the relationship is **weak**. Intuitively, \\index{relationship!strong, weak}\n",
    "  the relationship is strong when the scatter points are close together and look more like a \"line\" or \"curve\" than a \"cloud.\"\n",
    "- **Shape:** if you can draw a straight line roughly through the data points, the relationship is **linear**. Otherwise, it is **nonlinear**. \\index{relationship!linear, nonlinear}\n",
    "\n",
    "In Figure \\@ref(fig:03-mother-tongue-vs-most-at-home-scale-props), we see that \n",
    "as the percentage of people who have a language as their mother tongue increases, \n",
    "so does the percentage of people who speak that language at home. \n",
    "Therefore, there is a **positive** relationship between these two variables.\n",
    "Furthermore, because the points in Figure \\@ref(fig:03-mother-tongue-vs-most-at-home-scale-props) \n",
    "are fairly close together, and the points look more like a \"line\" than a \"cloud\",\n",
    "we can say that this is a **strong** relationship. \n",
    "And finally, because drawing a straight line through these points in \n",
    "Figure \\@ref(fig:03-mother-tongue-vs-most-at-home-scale-props)\n",
    "would fit the pattern we observe quite well, we say that the relationship is **linear**.\n",
    "\n",
    "Onto the second part of our exploratory data analysis question!\n",
    "Recall that we are interested in knowing whether the strength \n",
    "of the relationship we uncovered \n",
    "in Figure \\@ref(fig:03-mother-tongue-vs-most-at-home-scale-props) depends\n",
    "on the higher-level language category (Official languages, Aboriginal languages,\n",
    "and non-official, non-Aboriginal languages).\n",
    "One common way to explore this\n",
    "is to color the data points on the scatter plot we have already created by\n",
    "group. For example, given that we have the higher-level language category for\n",
    "each language recorded in the 2016 Canadian census, we can color the points in\n",
    "our previous \n",
    "scatter plot to represent each language's higher-level language category.\n",
    "\n",
    "Here we want to distinguish the values according to the `category` group with\n",
    "which they belong.  We can add an argument to the `aes` function, specifying\n",
    "that the `category` column should color the points. Adding this argument will\n",
    "color the points according to their group and add a legend at the side of the\n",
    "plot. \n",
    "\n",
    "```{r 03-scatter-color-by-category, warning=FALSE, fig.height=3.5, fig.width=5, fig.align = \"center\", fig.pos = \"H\", out.extra=\"\", fig.cap = \"Scatter plot of percentage of Canadians reporting a language as their mother tongue vs the primary language at home colored by language category.\"}\n",
    "ggplot(can_lang, aes(x = most_at_home_percent, \n",
    "                     y = mother_tongue_percent, \n",
    "                     color = category)) +\n",
    "  geom_point() +\n",
    "  labs(x = \"Language spoken most at home \\n (percentage of Canadian residents)\",\n",
    "       y = \"Mother tongue \\n (percentage of Canadian residents)\") +\n",
    "  theme(text = element_text(size = 12)) +\n",
    "  scale_x_log10(labels = comma) +\n",
    "  scale_y_log10(labels = comma)\n",
    "```"
   ]
  },
  {
   "cell_type": "code",
   "execution_count": 34,
   "id": "54c3b843",
   "metadata": {},
   "outputs": [
    {
     "ename": "NameError",
     "evalue": "name 'can_lang' is not defined",
     "output_type": "error",
     "traceback": [
      "\u001b[0;31m---------------------------------------------------------------------------\u001b[0m",
      "\u001b[0;31mNameError\u001b[0m                                 Traceback (most recent call last)",
      "Input \u001b[0;32mIn [34]\u001b[0m, in \u001b[0;36m<cell line: 1>\u001b[0;34m()\u001b[0m\n\u001b[0;32m----> 1\u001b[0m can_lang_plot \u001b[38;5;241m=\u001b[39m alt\u001b[38;5;241m.\u001b[39mChart(\u001b[43mcan_lang\u001b[49m)\u001b[38;5;241m.\u001b[39mmark_circle()\u001b[38;5;241m.\u001b[39mencode(\n\u001b[1;32m      2\u001b[0m     x \u001b[38;5;241m=\u001b[39m alt\u001b[38;5;241m.\u001b[39mX(\u001b[38;5;124m\"\u001b[39m\u001b[38;5;124mmost_at_home_percent\u001b[39m\u001b[38;5;124m\"\u001b[39m,title \u001b[38;5;241m=\u001b[39m \u001b[38;5;124m\"\u001b[39m\u001b[38;5;124mLanguage spoken most at home(percentage of Canadian residents)\u001b[39m\u001b[38;5;124m\"\u001b[39m, scale\u001b[38;5;241m=\u001b[39malt\u001b[38;5;241m.\u001b[39mScale(\u001b[38;5;28mtype\u001b[39m\u001b[38;5;241m=\u001b[39m\u001b[38;5;124m\"\u001b[39m\u001b[38;5;124mlog\u001b[39m\u001b[38;5;124m\"\u001b[39m), axis\u001b[38;5;241m=\u001b[39malt\u001b[38;5;241m.\u001b[39mAxis(tickCount\u001b[38;5;241m=\u001b[39m\u001b[38;5;241m7\u001b[39m)),\n\u001b[1;32m      3\u001b[0m     y \u001b[38;5;241m=\u001b[39m alt\u001b[38;5;241m.\u001b[39mY(\u001b[38;5;124m\"\u001b[39m\u001b[38;5;124mmother_tongue_percent\u001b[39m\u001b[38;5;124m\"\u001b[39m, title \u001b[38;5;241m=\u001b[39m \u001b[38;5;124m\"\u001b[39m\u001b[38;5;124mMother tongue(percentage of Canadian residents)\u001b[39m\u001b[38;5;124m\"\u001b[39m, scale\u001b[38;5;241m=\u001b[39malt\u001b[38;5;241m.\u001b[39mScale(\u001b[38;5;28mtype\u001b[39m\u001b[38;5;241m=\u001b[39m\u001b[38;5;124m\"\u001b[39m\u001b[38;5;124mlog\u001b[39m\u001b[38;5;124m\"\u001b[39m), axis\u001b[38;5;241m=\u001b[39malt\u001b[38;5;241m.\u001b[39mAxis(tickCount\u001b[38;5;241m=\u001b[39m\u001b[38;5;241m7\u001b[39m)),\n\u001b[1;32m      4\u001b[0m     color \u001b[38;5;241m=\u001b[39m \u001b[38;5;124m\"\u001b[39m\u001b[38;5;124mcategory\u001b[39m\u001b[38;5;124m\"\u001b[39m)\u001b[38;5;241m.\u001b[39mconfigure_axis(\n\u001b[1;32m      5\u001b[0m     titleFontSize\u001b[38;5;241m=\u001b[39m\u001b[38;5;241m12\u001b[39m)\n",
      "\u001b[0;31mNameError\u001b[0m: name 'can_lang' is not defined"
     ]
    }
   ],
   "source": [
    "can_lang_plot = alt.Chart(can_lang).mark_circle().encode(\n",
    "    x = alt.X(\"most_at_home_percent\",title = \"Language spoken most at home(percentage of Canadian residents)\", scale=alt.Scale(type=\"log\"), axis=alt.Axis(tickCount=7)),\n",
    "    y = alt.Y(\"mother_tongue_percent\", title = \"Mother tongue(percentage of Canadian residents)\", scale=alt.Scale(type=\"log\"), axis=alt.Axis(tickCount=7)),\n",
    "    color = \"category\").configure_axis(\n",
    "    titleFontSize=12)"
   ]
  },
  {
   "cell_type": "code",
   "execution_count": 35,
   "id": "f2140a9d",
   "metadata": {
    "tags": [
     "remove-cell"
    ]
   },
   "outputs": [
    {
     "ename": "NameError",
     "evalue": "name 'can_lang_plot' is not defined",
     "output_type": "error",
     "traceback": [
      "\u001b[0;31m---------------------------------------------------------------------------\u001b[0m",
      "\u001b[0;31mNameError\u001b[0m                                 Traceback (most recent call last)",
      "Input \u001b[0;32mIn [35]\u001b[0m, in \u001b[0;36m<cell line: 1>\u001b[0;34m()\u001b[0m\n\u001b[0;32m----> 1\u001b[0m glue(\u001b[38;5;124m'\u001b[39m\u001b[38;5;124mcan_lang_plot\u001b[39m\u001b[38;5;124m'\u001b[39m, \u001b[43mcan_lang_plot\u001b[49m, display\u001b[38;5;241m=\u001b[39m\u001b[38;5;28;01mTrue\u001b[39;00m)\n",
      "\u001b[0;31mNameError\u001b[0m: name 'can_lang_plot' is not defined"
     ]
    }
   ],
   "source": [
    "glue('can_lang_plot', can_lang_plot, display=True)"
   ]
  },
  {
   "cell_type": "markdown",
   "id": "af988c52",
   "metadata": {},
   "source": [
    ":::{glue:figure} can_lang_plot\n",
    ":figwidth: 700px \n",
    ":name: can_lang_plot\n",
    "\n",
    "Scatter plot of percentage of Canadians reporting a language as their mother tongue vs the primary language at home colored by language category.\n",
    ":::\n",
    "\n",
    "\n",
    "The legend in Figure \\@ref(fig:03-scatter-color-by-category) \n",
    "takes up valuable plot area. \n",
    "We can improve this by moving the legend title using the `legend.position`\n",
    "and `legend.direction`\n",
    "arguments of the `theme` function. \n",
    "Here we set `legend.position` to `\"top\"` to put the legend above the plot\n",
    "and `legend.direction` to `\"vertical\"` so that the legend items remain \n",
    "vertically stacked on top of each other.\n",
    "When the `legend.position` is set to either `\"top\"` or `\"bottom\"` \n",
    "the default direction is to stack the legend items horizontally.\n",
    "However, that will not work well for this particular visualization \n",
    "because the legend labels are quite long \n",
    "and would run off the page if displayed this way.\n",
    "\n",
    "```{r 03-scatter-color-by-category-legend-edit, warning=FALSE, fig.height=4.75,  fig.width=3.75, fig.align = \"center\", fig.pos = \"H\", out.extra=\"\", fig.cap = \"Scatter plot of percentage of Canadians reporting a language as their mother tongue vs the primary language at home colored by language category with the legend edited.\"}\n",
    "ggplot(can_lang, aes(x = most_at_home_percent, \n",
    "                     y = mother_tongue_percent, \n",
    "                     color = category)) +\n",
    "  geom_point() +\n",
    "  labs(x = \"Language spoken most at home \\n (percentage of Canadian residents)\",\n",
    "       y = \"Mother tongue \\n (percentage of Canadian residents)\") +\n",
    "  theme(text = element_text(size = 12),\n",
    "        legend.position = \"top\",\n",
    "        legend.direction = \"vertical\") +\n",
    "  scale_x_log10(labels = comma) +\n",
    "  scale_y_log10(labels = comma)\n",
    "```"
   ]
  },
  {
   "cell_type": "code",
   "execution_count": 36,
   "id": "2b6f8cb7",
   "metadata": {},
   "outputs": [
    {
     "ename": "NameError",
     "evalue": "name 'can_lang' is not defined",
     "output_type": "error",
     "traceback": [
      "\u001b[0;31m---------------------------------------------------------------------------\u001b[0m",
      "\u001b[0;31mNameError\u001b[0m                                 Traceback (most recent call last)",
      "Input \u001b[0;32mIn [36]\u001b[0m, in \u001b[0;36m<cell line: 1>\u001b[0;34m()\u001b[0m\n\u001b[0;32m----> 1\u001b[0m can_lang_plot \u001b[38;5;241m=\u001b[39m alt\u001b[38;5;241m.\u001b[39mChart(\u001b[43mcan_lang\u001b[49m)\u001b[38;5;241m.\u001b[39mmark_circle()\u001b[38;5;241m.\u001b[39mencode(\n\u001b[1;32m      2\u001b[0m     x \u001b[38;5;241m=\u001b[39m alt\u001b[38;5;241m.\u001b[39mX(\u001b[38;5;124m\"\u001b[39m\u001b[38;5;124mmost_at_home_percent\u001b[39m\u001b[38;5;124m\"\u001b[39m,title \u001b[38;5;241m=\u001b[39m \u001b[38;5;124m\"\u001b[39m\u001b[38;5;124mLanguage spoken most at home(percentage of Canadian residents)\u001b[39m\u001b[38;5;124m\"\u001b[39m, scale\u001b[38;5;241m=\u001b[39malt\u001b[38;5;241m.\u001b[39mScale(\u001b[38;5;28mtype\u001b[39m\u001b[38;5;241m=\u001b[39m\u001b[38;5;124m\"\u001b[39m\u001b[38;5;124mlog\u001b[39m\u001b[38;5;124m\"\u001b[39m),axis\u001b[38;5;241m=\u001b[39malt\u001b[38;5;241m.\u001b[39mAxis(tickCount\u001b[38;5;241m=\u001b[39m\u001b[38;5;241m7\u001b[39m) ),\n\u001b[1;32m      3\u001b[0m     y \u001b[38;5;241m=\u001b[39m alt\u001b[38;5;241m.\u001b[39mY(\u001b[38;5;124m\"\u001b[39m\u001b[38;5;124mmother_tongue_percent\u001b[39m\u001b[38;5;124m\"\u001b[39m, title \u001b[38;5;241m=\u001b[39m \u001b[38;5;124m\"\u001b[39m\u001b[38;5;124mMother tongue(percentage of Canadian residents)\u001b[39m\u001b[38;5;124m\"\u001b[39m, scale\u001b[38;5;241m=\u001b[39malt\u001b[38;5;241m.\u001b[39mScale(\u001b[38;5;28mtype\u001b[39m\u001b[38;5;241m=\u001b[39m\u001b[38;5;124m\"\u001b[39m\u001b[38;5;124mlog\u001b[39m\u001b[38;5;124m\"\u001b[39m), axis\u001b[38;5;241m=\u001b[39malt\u001b[38;5;241m.\u001b[39mAxis(tickCount\u001b[38;5;241m=\u001b[39m\u001b[38;5;241m7\u001b[39m)),\n\u001b[1;32m      4\u001b[0m     color \u001b[38;5;241m=\u001b[39m alt\u001b[38;5;241m.\u001b[39mColor(\u001b[38;5;124m\"\u001b[39m\u001b[38;5;124mcategory\u001b[39m\u001b[38;5;124m\"\u001b[39m, legend\u001b[38;5;241m=\u001b[39malt\u001b[38;5;241m.\u001b[39mLegend(\n\u001b[1;32m      5\u001b[0m                             orient\u001b[38;5;241m=\u001b[39m\u001b[38;5;124m'\u001b[39m\u001b[38;5;124mnone\u001b[39m\u001b[38;5;124m'\u001b[39m,\n\u001b[1;32m      6\u001b[0m                             legendX\u001b[38;5;241m=\u001b[39m\u001b[38;5;241m0\u001b[39m, legendY\u001b[38;5;241m=\u001b[39m\u001b[38;5;241m-\u001b[39m\u001b[38;5;241m90\u001b[39m,\n\u001b[1;32m      7\u001b[0m                             direction\u001b[38;5;241m=\u001b[39m\u001b[38;5;124m'\u001b[39m\u001b[38;5;124mvertical\u001b[39m\u001b[38;5;124m'\u001b[39m)))\u001b[38;5;241m.\u001b[39mconfigure_axis(\n\u001b[1;32m      8\u001b[0m     titleFontSize\u001b[38;5;241m=\u001b[39m\u001b[38;5;241m12\u001b[39m)\n",
      "\u001b[0;31mNameError\u001b[0m: name 'can_lang' is not defined"
     ]
    }
   ],
   "source": [
    "can_lang_plot = alt.Chart(can_lang).mark_circle().encode(\n",
    "    x = alt.X(\"most_at_home_percent\",title = \"Language spoken most at home(percentage of Canadian residents)\", scale=alt.Scale(type=\"log\"),axis=alt.Axis(tickCount=7) ),\n",
    "    y = alt.Y(\"mother_tongue_percent\", title = \"Mother tongue(percentage of Canadian residents)\", scale=alt.Scale(type=\"log\"), axis=alt.Axis(tickCount=7)),\n",
    "    color = alt.Color(\"category\", legend=alt.Legend(\n",
    "                            orient='none',\n",
    "                            legendX=0, legendY=-90,\n",
    "                            direction='vertical'))).configure_axis(\n",
    "    titleFontSize=12)\n",
    "\n"
   ]
  },
  {
   "cell_type": "code",
   "execution_count": 37,
   "id": "449a9db7",
   "metadata": {
    "tags": [
     "remove-cell"
    ]
   },
   "outputs": [
    {
     "ename": "NameError",
     "evalue": "name 'can_lang_plot' is not defined",
     "output_type": "error",
     "traceback": [
      "\u001b[0;31m---------------------------------------------------------------------------\u001b[0m",
      "\u001b[0;31mNameError\u001b[0m                                 Traceback (most recent call last)",
      "Input \u001b[0;32mIn [37]\u001b[0m, in \u001b[0;36m<cell line: 1>\u001b[0;34m()\u001b[0m\n\u001b[0;32m----> 1\u001b[0m glue(\u001b[38;5;124m'\u001b[39m\u001b[38;5;124mcan_lang_plot\u001b[39m\u001b[38;5;124m'\u001b[39m, \u001b[43mcan_lang_plot\u001b[49m, display\u001b[38;5;241m=\u001b[39m\u001b[38;5;28;01mTrue\u001b[39;00m)\n",
      "\u001b[0;31mNameError\u001b[0m: name 'can_lang_plot' is not defined"
     ]
    }
   ],
   "source": [
    "glue('can_lang_plot', can_lang_plot, display=True)"
   ]
  },
  {
   "cell_type": "markdown",
   "id": "73fe2000",
   "metadata": {},
   "source": [
    ":::{glue:figure} can_lang_plot\n",
    ":figwidth: 700px \n",
    ":name: can_lang_plot\n",
    "\n",
    "Scatter plot of percentage of Canadians reporting a language as their mother tongue vs the primary language at home colored by language category with the legend edited.\n",
    ":::\n",
    "\n",
    "In Figure \\@ref(fig:03-scatter-color-by-category-legend-edit), the points are colored with\n",
    "the default `ggplot2` color palette. But what if you want to use different\n",
    "colors? In R, two packages that provide alternative color \n",
    "palettes \\index{color palette} are `RColorBrewer` [@RColorBrewer]\n",
    "and `ggthemes` [@ggthemes]; in this book we will cover how to use `RColorBrewer`.\n",
    "You can visualize the list of color\n",
    "palettes that `RColorBrewer` has to offer with the `display.brewer.all`\n",
    "function. You can also print a list of color-blind friendly palettes by adding\n",
    "`colorblindFriendly = TRUE` to the function. \n",
    "\n",
    "(ref:rcolorbrewer) Color palettes available from the `RColorBrewer` R package.\n",
    "\n",
    "```{r rcolorbrewer, fig.height = 7, fig.cap = \"(ref:rcolorbrewer)\"}\n",
    "library(RColorBrewer)\n",
    "display.brewer.all(colorblindFriendly = TRUE)\n",
    "```\n",
    "\n",
    "From Figure \\@ref(fig:rcolorbrewer), \n",
    "we can choose the color palette we want to use in our plot. \n",
    "To change the color palette, \n",
    "we add the `scale_color_brewer` layer indicating the palette we want to use. \n",
    "You can use \n",
    "this [color blindness simulator](https://www.color-blindness.com/coblis-color-blindness-simulator/) to check \n",
    "if your visualizations \\index{color palette!color blindness simulator} \n",
    "are color-blind friendly.\n",
    "Below we pick the `\"Set2\"` palette, with the result shown\n",
    "in Figure \\@ref(fig:scatter-color-by-category-palette).\n",
    "We also set the `shape` aesthetic mapping to the `category` variable as well;\n",
    "this makes the scatter point shapes different for each category. This kind of \n",
    "visual redundancy&mdash;i.e., conveying the same information with both scatter point color and shape&mdash;can\n",
    "further improve the clarity and accessibility of your visualization.\n",
    "\n",
    "```{r scatter-color-by-category-palette, fig.height=4.75,  fig.width=3.75, fig.align = \"center\", warning=FALSE, fig.pos = \"H\", out.extra=\"\",  fig.cap = \"Scatter plot of percentage of Canadians reporting a language as their mother tongue vs the primary language at home colored by language category with color-blind friendly colors.\"}\n",
    "ggplot(can_lang, aes(x = most_at_home_percent, \n",
    "                     y = mother_tongue_percent, \n",
    "                     color = category, \n",
    "                     shape = category)) +\n",
    "  geom_point() +\n",
    "  labs(x = \"Language spoken most at home \\n (percentage of Canadian residents)\",\n",
    "       y = \"Mother tongue \\n (percentage of Canadian residents)\") +\n",
    "  theme(text = element_text(size = 12),\n",
    "        legend.position = \"top\",\n",
    "        legend.direction = \"vertical\") +\n",
    "  scale_x_log10(labels = comma) +\n",
    "  scale_y_log10(labels = comma) +\n",
    "  scale_color_brewer(palette = \"Set2\")\n",
    "```"
   ]
  },
  {
   "cell_type": "code",
   "execution_count": 38,
   "id": "bbaf5007",
   "metadata": {},
   "outputs": [
    {
     "ename": "NameError",
     "evalue": "name 'can_lang' is not defined",
     "output_type": "error",
     "traceback": [
      "\u001b[0;31m---------------------------------------------------------------------------\u001b[0m",
      "\u001b[0;31mNameError\u001b[0m                                 Traceback (most recent call last)",
      "Input \u001b[0;32mIn [38]\u001b[0m, in \u001b[0;36m<cell line: 1>\u001b[0;34m()\u001b[0m\n\u001b[0;32m----> 1\u001b[0m can_lang_plot \u001b[38;5;241m=\u001b[39m alt\u001b[38;5;241m.\u001b[39mChart(\u001b[43mcan_lang\u001b[49m)\u001b[38;5;241m.\u001b[39mmark_point(filled\u001b[38;5;241m=\u001b[39m\u001b[38;5;28;01mTrue\u001b[39;00m)\u001b[38;5;241m.\u001b[39mencode(\n\u001b[1;32m      2\u001b[0m     x \u001b[38;5;241m=\u001b[39m alt\u001b[38;5;241m.\u001b[39mX(\u001b[38;5;124m\"\u001b[39m\u001b[38;5;124mmost_at_home_percent\u001b[39m\u001b[38;5;124m\"\u001b[39m,title \u001b[38;5;241m=\u001b[39m \u001b[38;5;124m\"\u001b[39m\u001b[38;5;124mLanguage spoken most at home(percentage of Canadian residents)\u001b[39m\u001b[38;5;124m\"\u001b[39m, scale\u001b[38;5;241m=\u001b[39malt\u001b[38;5;241m.\u001b[39mScale(\u001b[38;5;28mtype\u001b[39m\u001b[38;5;241m=\u001b[39m\u001b[38;5;124m\"\u001b[39m\u001b[38;5;124mlog\u001b[39m\u001b[38;5;124m\"\u001b[39m), axis\u001b[38;5;241m=\u001b[39malt\u001b[38;5;241m.\u001b[39mAxis(tickCount\u001b[38;5;241m=\u001b[39m\u001b[38;5;241m7\u001b[39m)),\n\u001b[1;32m      3\u001b[0m     y \u001b[38;5;241m=\u001b[39m alt\u001b[38;5;241m.\u001b[39mY(\u001b[38;5;124m\"\u001b[39m\u001b[38;5;124mmother_tongue_percent\u001b[39m\u001b[38;5;124m\"\u001b[39m, title \u001b[38;5;241m=\u001b[39m \u001b[38;5;124m\"\u001b[39m\u001b[38;5;124mMother tongue(percentage of Canadian residents)\u001b[39m\u001b[38;5;124m\"\u001b[39m, scale\u001b[38;5;241m=\u001b[39malt\u001b[38;5;241m.\u001b[39mScale(\u001b[38;5;28mtype\u001b[39m\u001b[38;5;241m=\u001b[39m\u001b[38;5;124m\"\u001b[39m\u001b[38;5;124mlog\u001b[39m\u001b[38;5;124m\"\u001b[39m), axis\u001b[38;5;241m=\u001b[39malt\u001b[38;5;241m.\u001b[39mAxis(tickCount\u001b[38;5;241m=\u001b[39m\u001b[38;5;241m7\u001b[39m)),\n\u001b[1;32m      4\u001b[0m     color \u001b[38;5;241m=\u001b[39m alt\u001b[38;5;241m.\u001b[39mColor(\u001b[38;5;124m\"\u001b[39m\u001b[38;5;124mcategory\u001b[39m\u001b[38;5;124m\"\u001b[39m, legend\u001b[38;5;241m=\u001b[39malt\u001b[38;5;241m.\u001b[39mLegend(\n\u001b[1;32m      5\u001b[0m                             orient\u001b[38;5;241m=\u001b[39m\u001b[38;5;124m'\u001b[39m\u001b[38;5;124mnone\u001b[39m\u001b[38;5;124m'\u001b[39m,\n\u001b[1;32m      6\u001b[0m                             legendX\u001b[38;5;241m=\u001b[39m\u001b[38;5;241m0\u001b[39m, legendY\u001b[38;5;241m=\u001b[39m\u001b[38;5;241m-\u001b[39m\u001b[38;5;241m90\u001b[39m,\n\u001b[1;32m      7\u001b[0m                             direction\u001b[38;5;241m=\u001b[39m\u001b[38;5;124m'\u001b[39m\u001b[38;5;124mvertical\u001b[39m\u001b[38;5;124m'\u001b[39m), \n\u001b[1;32m      8\u001b[0m                          scale\u001b[38;5;241m=\u001b[39malt\u001b[38;5;241m.\u001b[39mScale(scheme\u001b[38;5;241m=\u001b[39m\u001b[38;5;124m'\u001b[39m\u001b[38;5;124mdark2\u001b[39m\u001b[38;5;124m'\u001b[39m)),\n\u001b[1;32m      9\u001b[0m     shape \u001b[38;5;241m=\u001b[39m \u001b[38;5;124m\"\u001b[39m\u001b[38;5;124mcategory\u001b[39m\u001b[38;5;124m\"\u001b[39m)\u001b[38;5;241m.\u001b[39mconfigure_axis(\n\u001b[1;32m     10\u001b[0m     titleFontSize\u001b[38;5;241m=\u001b[39m\u001b[38;5;241m12\u001b[39m)\n",
      "\u001b[0;31mNameError\u001b[0m: name 'can_lang' is not defined"
     ]
    }
   ],
   "source": [
    "can_lang_plot = alt.Chart(can_lang).mark_point(filled=True).encode(\n",
    "    x = alt.X(\"most_at_home_percent\",title = \"Language spoken most at home(percentage of Canadian residents)\", scale=alt.Scale(type=\"log\"), axis=alt.Axis(tickCount=7)),\n",
    "    y = alt.Y(\"mother_tongue_percent\", title = \"Mother tongue(percentage of Canadian residents)\", scale=alt.Scale(type=\"log\"), axis=alt.Axis(tickCount=7)),\n",
    "    color = alt.Color(\"category\", legend=alt.Legend(\n",
    "                            orient='none',\n",
    "                            legendX=0, legendY=-90,\n",
    "                            direction='vertical'), \n",
    "                         scale=alt.Scale(scheme='dark2')),\n",
    "    shape = \"category\").configure_axis(\n",
    "    titleFontSize=12)\n"
   ]
  },
  {
   "cell_type": "code",
   "execution_count": 39,
   "id": "0517e68e",
   "metadata": {
    "tags": [
     "remove-cell"
    ]
   },
   "outputs": [
    {
     "ename": "NameError",
     "evalue": "name 'can_lang_plot' is not defined",
     "output_type": "error",
     "traceback": [
      "\u001b[0;31m---------------------------------------------------------------------------\u001b[0m",
      "\u001b[0;31mNameError\u001b[0m                                 Traceback (most recent call last)",
      "Input \u001b[0;32mIn [39]\u001b[0m, in \u001b[0;36m<cell line: 1>\u001b[0;34m()\u001b[0m\n\u001b[0;32m----> 1\u001b[0m glue(\u001b[38;5;124m'\u001b[39m\u001b[38;5;124mcan_lang_plot\u001b[39m\u001b[38;5;124m'\u001b[39m, \u001b[43mcan_lang_plot\u001b[49m, display\u001b[38;5;241m=\u001b[39m\u001b[38;5;28;01mTrue\u001b[39;00m)\n",
      "\u001b[0;31mNameError\u001b[0m: name 'can_lang_plot' is not defined"
     ]
    }
   ],
   "source": [
    "glue('can_lang_plot', can_lang_plot, display=True)"
   ]
  },
  {
   "cell_type": "markdown",
   "id": "66366253",
   "metadata": {},
   "source": [
    ":::{glue:figure} can_lang_plot\n",
    ":figwidth: 700px \n",
    ":name: can_lang_plot\n",
    "\n",
    "Scatter plot of percentage of Canadians reporting a language as their mother tongue vs the primary language at home colored by language category with color-blind friendly colors.\n",
    ":::\n",
    "\n",
    "\n",
    "\n",
    "From the visualization in Figure \\@ref(fig:scatter-color-by-category-palette), \n",
    "we can now clearly see that the vast majority of Canadians reported one of the official languages \n",
    "as their mother tongue and as the language they speak most often at home. \n",
    "What do we see when considering the second part of our exploratory question? \n",
    "Do we see a difference in the relationship\n",
    "between languages spoken as a mother tongue and as a primary language\n",
    "at home across the higher-level language categories? \n",
    "Based on Figure \\@ref(fig:scatter-color-by-category-palette), there does not\n",
    "appear to be much of a difference.\n",
    "For each higher-level language category, \n",
    "there appears to be a strong, positive, and linear relationship between \n",
    "the percentage of people who speak a language as their mother tongue \n",
    "and the percentage who speak it as their primary language at home. \n",
    "The relationship looks similar regardless of the category. \n",
    "\n",
    "Does this mean that this relationship is positive for all languages in the\n",
    "world? And further, can we use this data visualization on its own to predict how many people\n",
    "have a given language as their mother tongue if we know how many people speak\n",
    "it as their primary language at home? The answer to both these questions is\n",
    "\"no!\" However, with exploratory data analysis, we can create new hypotheses,\n",
    "ideas, and questions (like the ones at the beginning of this paragraph).\n",
    "Answering those questions often involves doing more complex analyses, and sometimes\n",
    "even gathering additional data. We will see more of such complex analyses later on in \n",
    "this book.  \n",
    "\n",
    "<!--\n",
    "Finally, we can go one step further and distinguish English and French languages\n",
    "with different colors in our visualization. To separate these languages, we\n",
    "will filter the rows where the language is either English or French and mutate\n",
    "the `category` column to equal the corresponding language. \n",
    "\\index{filter}\\index{mutate}\n",
    "\n",
    "```{r 03-separate-English-French}\n",
    "english_and_french <- can_lang |>\n",
    "  filter(language == \"English\" | language == \"French\") |>\n",
    "  mutate(category = language)\n",
    "english_and_french\n",
    "```\n",
    "\n",
    "Next we will bind \\index{bind\\_rows} the mutated data set `english_and_french` that we just created with the remaining rows in the `can_lang` data set:\n",
    "```{r 03-bind-english-french}\n",
    "can_lang <- bind_rows(\n",
    "  english_and_french,\n",
    "  can_lang |>\n",
    "    filter(language != \"English\" & language != \"French\")\n",
    ")\n",
    "```\n",
    "\n",
    "+++\n",
    "\n",
    "We have added a few more layers to make the data visualization in Figure \\@ref(fig:03-nachos-to-cheesecake) even more effective. Specifically, we used have improved the visualizations accessibility by choosing colors that are easier to distinguish, mapped category to shape, and handled the problem of overlapping data points by making them slightly transparent. \\index{ggplot!transparency}\\index{alpha|see{ggplot}}\n",
    "\n",
    "```{r 03-nachos-to-cheesecake, fig.width=7.75, fig.height=4, warning=FALSE, message=FALSE, fig.cap = \"Scatter plot of percentage of Canadians reporting a language as their mother tongue vs the primary language at home colored by language category.\"}\n",
    "ggplot(can_lang, aes(\n",
    "  x = most_at_home_percent,\n",
    "  y = mother_tongue_percent,\n",
    "  color = category,\n",
    "  shape = category # map categories to different shapes\n",
    ")) + \n",
    "  geom_point(alpha = 0.6) + # set the transparency of the points\n",
    "  labs(x = \"Language spoken most at home \\n (percentage of Canadian residents)\",\n",
    "       y = \"Mother tongue \\n (percentage of Canadian residents)\") +\n",
    "  theme(text = element_text(size = 12)) +\n",
    "  scale_x_log10(labels = comma) +\n",
    "  scale_y_log10(labels = comma) + \n",
    "  scale_color_brewer(palette = \"RdYlBu\")\n",
    "```\n",
    "-->\n",
    "\n",
    "### Bar plots: the island landmass data set\n",
    "The `islands.csv` data set \\index{Island landmasses} contains a list of Earth's landmasses as well as their area (in thousands of square miles) [@islandsdata]. \n",
    "\n",
    "**Question:** \\index{question!visualization} Are the continents (North / South America, Africa, Europe, Asia, Australia, Antarctica) Earth's seven largest landmasses? If so, what are the next few largest landmasses after those?\n",
    "\n",
    "```{r, echo = FALSE, message = FALSE, warning = FALSE}\n",
    "islands_df <- read_csv(\"data/islands.csv\")\n",
    "continents <- c(\"Africa\", \"Antarctica\", \"Asia\", \"Australia\", \n",
    "                \"Europe\", \"North America\", \"South America\")\n",
    "\n",
    "islands_df <- mutate(islands_df, \n",
    "                     landmass_type = ifelse(landmass %in% continents, \n",
    "                                            \"Continent\", \"Other\"))\n",
    "\n",
    "write_csv(islands_df, \"data/islands.csv\")\n",
    "```\n",
    "\n",
    "To get started, we will read and inspect the data:\n",
    "\n",
    "```{r 03-data-islands, warning=FALSE, message=FALSE}\n",
    "# islands data\n",
    "islands_df <- read_csv(\"data/islands.csv\")\n",
    "islands_df\n",
    "```"
   ]
  },
  {
   "cell_type": "code",
   "execution_count": 40,
   "id": "20961ef8",
   "metadata": {},
   "outputs": [
    {
     "ename": "FileNotFoundError",
     "evalue": "[Errno 2] No such file or directory: 'islands.csv'",
     "output_type": "error",
     "traceback": [
      "\u001b[0;31m---------------------------------------------------------------------------\u001b[0m",
      "\u001b[0;31mFileNotFoundError\u001b[0m                         Traceback (most recent call last)",
      "Input \u001b[0;32mIn [40]\u001b[0m, in \u001b[0;36m<cell line: 1>\u001b[0;34m()\u001b[0m\n\u001b[0;32m----> 1\u001b[0m islands_df \u001b[38;5;241m=\u001b[39m \u001b[43mpd\u001b[49m\u001b[38;5;241;43m.\u001b[39;49m\u001b[43mread_csv\u001b[49m\u001b[43m(\u001b[49m\u001b[38;5;124;43m\"\u001b[39;49m\u001b[38;5;124;43mislands.csv\u001b[39;49m\u001b[38;5;124;43m\"\u001b[39;49m\u001b[43m)\u001b[49m\n\u001b[1;32m      2\u001b[0m islands_df\n",
      "File \u001b[0;32m~/opt/miniconda3/envs/dsci/lib/python3.9/site-packages/pandas/util/_decorators.py:311\u001b[0m, in \u001b[0;36mdeprecate_nonkeyword_arguments.<locals>.decorate.<locals>.wrapper\u001b[0;34m(*args, **kwargs)\u001b[0m\n\u001b[1;32m    305\u001b[0m \u001b[38;5;28;01mif\u001b[39;00m \u001b[38;5;28mlen\u001b[39m(args) \u001b[38;5;241m>\u001b[39m num_allow_args:\n\u001b[1;32m    306\u001b[0m     warnings\u001b[38;5;241m.\u001b[39mwarn(\n\u001b[1;32m    307\u001b[0m         msg\u001b[38;5;241m.\u001b[39mformat(arguments\u001b[38;5;241m=\u001b[39marguments),\n\u001b[1;32m    308\u001b[0m         \u001b[38;5;167;01mFutureWarning\u001b[39;00m,\n\u001b[1;32m    309\u001b[0m         stacklevel\u001b[38;5;241m=\u001b[39mstacklevel,\n\u001b[1;32m    310\u001b[0m     )\n\u001b[0;32m--> 311\u001b[0m \u001b[38;5;28;01mreturn\u001b[39;00m \u001b[43mfunc\u001b[49m\u001b[43m(\u001b[49m\u001b[38;5;241;43m*\u001b[39;49m\u001b[43margs\u001b[49m\u001b[43m,\u001b[49m\u001b[43m \u001b[49m\u001b[38;5;241;43m*\u001b[39;49m\u001b[38;5;241;43m*\u001b[39;49m\u001b[43mkwargs\u001b[49m\u001b[43m)\u001b[49m\n",
      "File \u001b[0;32m~/opt/miniconda3/envs/dsci/lib/python3.9/site-packages/pandas/io/parsers/readers.py:680\u001b[0m, in \u001b[0;36mread_csv\u001b[0;34m(filepath_or_buffer, sep, delimiter, header, names, index_col, usecols, squeeze, prefix, mangle_dupe_cols, dtype, engine, converters, true_values, false_values, skipinitialspace, skiprows, skipfooter, nrows, na_values, keep_default_na, na_filter, verbose, skip_blank_lines, parse_dates, infer_datetime_format, keep_date_col, date_parser, dayfirst, cache_dates, iterator, chunksize, compression, thousands, decimal, lineterminator, quotechar, quoting, doublequote, escapechar, comment, encoding, encoding_errors, dialect, error_bad_lines, warn_bad_lines, on_bad_lines, delim_whitespace, low_memory, memory_map, float_precision, storage_options)\u001b[0m\n\u001b[1;32m    665\u001b[0m kwds_defaults \u001b[38;5;241m=\u001b[39m _refine_defaults_read(\n\u001b[1;32m    666\u001b[0m     dialect,\n\u001b[1;32m    667\u001b[0m     delimiter,\n\u001b[0;32m   (...)\u001b[0m\n\u001b[1;32m    676\u001b[0m     defaults\u001b[38;5;241m=\u001b[39m{\u001b[38;5;124m\"\u001b[39m\u001b[38;5;124mdelimiter\u001b[39m\u001b[38;5;124m\"\u001b[39m: \u001b[38;5;124m\"\u001b[39m\u001b[38;5;124m,\u001b[39m\u001b[38;5;124m\"\u001b[39m},\n\u001b[1;32m    677\u001b[0m )\n\u001b[1;32m    678\u001b[0m kwds\u001b[38;5;241m.\u001b[39mupdate(kwds_defaults)\n\u001b[0;32m--> 680\u001b[0m \u001b[38;5;28;01mreturn\u001b[39;00m \u001b[43m_read\u001b[49m\u001b[43m(\u001b[49m\u001b[43mfilepath_or_buffer\u001b[49m\u001b[43m,\u001b[49m\u001b[43m \u001b[49m\u001b[43mkwds\u001b[49m\u001b[43m)\u001b[49m\n",
      "File \u001b[0;32m~/opt/miniconda3/envs/dsci/lib/python3.9/site-packages/pandas/io/parsers/readers.py:575\u001b[0m, in \u001b[0;36m_read\u001b[0;34m(filepath_or_buffer, kwds)\u001b[0m\n\u001b[1;32m    572\u001b[0m _validate_names(kwds\u001b[38;5;241m.\u001b[39mget(\u001b[38;5;124m\"\u001b[39m\u001b[38;5;124mnames\u001b[39m\u001b[38;5;124m\"\u001b[39m, \u001b[38;5;28;01mNone\u001b[39;00m))\n\u001b[1;32m    574\u001b[0m \u001b[38;5;66;03m# Create the parser.\u001b[39;00m\n\u001b[0;32m--> 575\u001b[0m parser \u001b[38;5;241m=\u001b[39m \u001b[43mTextFileReader\u001b[49m\u001b[43m(\u001b[49m\u001b[43mfilepath_or_buffer\u001b[49m\u001b[43m,\u001b[49m\u001b[43m \u001b[49m\u001b[38;5;241;43m*\u001b[39;49m\u001b[38;5;241;43m*\u001b[39;49m\u001b[43mkwds\u001b[49m\u001b[43m)\u001b[49m\n\u001b[1;32m    577\u001b[0m \u001b[38;5;28;01mif\u001b[39;00m chunksize \u001b[38;5;129;01mor\u001b[39;00m iterator:\n\u001b[1;32m    578\u001b[0m     \u001b[38;5;28;01mreturn\u001b[39;00m parser\n",
      "File \u001b[0;32m~/opt/miniconda3/envs/dsci/lib/python3.9/site-packages/pandas/io/parsers/readers.py:933\u001b[0m, in \u001b[0;36mTextFileReader.__init__\u001b[0;34m(self, f, engine, **kwds)\u001b[0m\n\u001b[1;32m    930\u001b[0m     \u001b[38;5;28mself\u001b[39m\u001b[38;5;241m.\u001b[39moptions[\u001b[38;5;124m\"\u001b[39m\u001b[38;5;124mhas_index_names\u001b[39m\u001b[38;5;124m\"\u001b[39m] \u001b[38;5;241m=\u001b[39m kwds[\u001b[38;5;124m\"\u001b[39m\u001b[38;5;124mhas_index_names\u001b[39m\u001b[38;5;124m\"\u001b[39m]\n\u001b[1;32m    932\u001b[0m \u001b[38;5;28mself\u001b[39m\u001b[38;5;241m.\u001b[39mhandles: IOHandles \u001b[38;5;241m|\u001b[39m \u001b[38;5;28;01mNone\u001b[39;00m \u001b[38;5;241m=\u001b[39m \u001b[38;5;28;01mNone\u001b[39;00m\n\u001b[0;32m--> 933\u001b[0m \u001b[38;5;28mself\u001b[39m\u001b[38;5;241m.\u001b[39m_engine \u001b[38;5;241m=\u001b[39m \u001b[38;5;28;43mself\u001b[39;49m\u001b[38;5;241;43m.\u001b[39;49m\u001b[43m_make_engine\u001b[49m\u001b[43m(\u001b[49m\u001b[43mf\u001b[49m\u001b[43m,\u001b[49m\u001b[43m \u001b[49m\u001b[38;5;28;43mself\u001b[39;49m\u001b[38;5;241;43m.\u001b[39;49m\u001b[43mengine\u001b[49m\u001b[43m)\u001b[49m\n",
      "File \u001b[0;32m~/opt/miniconda3/envs/dsci/lib/python3.9/site-packages/pandas/io/parsers/readers.py:1217\u001b[0m, in \u001b[0;36mTextFileReader._make_engine\u001b[0;34m(self, f, engine)\u001b[0m\n\u001b[1;32m   1213\u001b[0m     mode \u001b[38;5;241m=\u001b[39m \u001b[38;5;124m\"\u001b[39m\u001b[38;5;124mrb\u001b[39m\u001b[38;5;124m\"\u001b[39m\n\u001b[1;32m   1214\u001b[0m \u001b[38;5;66;03m# error: No overload variant of \"get_handle\" matches argument types\u001b[39;00m\n\u001b[1;32m   1215\u001b[0m \u001b[38;5;66;03m# \"Union[str, PathLike[str], ReadCsvBuffer[bytes], ReadCsvBuffer[str]]\"\u001b[39;00m\n\u001b[1;32m   1216\u001b[0m \u001b[38;5;66;03m# , \"str\", \"bool\", \"Any\", \"Any\", \"Any\", \"Any\", \"Any\"\u001b[39;00m\n\u001b[0;32m-> 1217\u001b[0m \u001b[38;5;28mself\u001b[39m\u001b[38;5;241m.\u001b[39mhandles \u001b[38;5;241m=\u001b[39m \u001b[43mget_handle\u001b[49m\u001b[43m(\u001b[49m\u001b[43m  \u001b[49m\u001b[38;5;66;43;03m# type: ignore[call-overload]\u001b[39;49;00m\n\u001b[1;32m   1218\u001b[0m \u001b[43m    \u001b[49m\u001b[43mf\u001b[49m\u001b[43m,\u001b[49m\n\u001b[1;32m   1219\u001b[0m \u001b[43m    \u001b[49m\u001b[43mmode\u001b[49m\u001b[43m,\u001b[49m\n\u001b[1;32m   1220\u001b[0m \u001b[43m    \u001b[49m\u001b[43mencoding\u001b[49m\u001b[38;5;241;43m=\u001b[39;49m\u001b[38;5;28;43mself\u001b[39;49m\u001b[38;5;241;43m.\u001b[39;49m\u001b[43moptions\u001b[49m\u001b[38;5;241;43m.\u001b[39;49m\u001b[43mget\u001b[49m\u001b[43m(\u001b[49m\u001b[38;5;124;43m\"\u001b[39;49m\u001b[38;5;124;43mencoding\u001b[39;49m\u001b[38;5;124;43m\"\u001b[39;49m\u001b[43m,\u001b[49m\u001b[43m \u001b[49m\u001b[38;5;28;43;01mNone\u001b[39;49;00m\u001b[43m)\u001b[49m\u001b[43m,\u001b[49m\n\u001b[1;32m   1221\u001b[0m \u001b[43m    \u001b[49m\u001b[43mcompression\u001b[49m\u001b[38;5;241;43m=\u001b[39;49m\u001b[38;5;28;43mself\u001b[39;49m\u001b[38;5;241;43m.\u001b[39;49m\u001b[43moptions\u001b[49m\u001b[38;5;241;43m.\u001b[39;49m\u001b[43mget\u001b[49m\u001b[43m(\u001b[49m\u001b[38;5;124;43m\"\u001b[39;49m\u001b[38;5;124;43mcompression\u001b[39;49m\u001b[38;5;124;43m\"\u001b[39;49m\u001b[43m,\u001b[49m\u001b[43m \u001b[49m\u001b[38;5;28;43;01mNone\u001b[39;49;00m\u001b[43m)\u001b[49m\u001b[43m,\u001b[49m\n\u001b[1;32m   1222\u001b[0m \u001b[43m    \u001b[49m\u001b[43mmemory_map\u001b[49m\u001b[38;5;241;43m=\u001b[39;49m\u001b[38;5;28;43mself\u001b[39;49m\u001b[38;5;241;43m.\u001b[39;49m\u001b[43moptions\u001b[49m\u001b[38;5;241;43m.\u001b[39;49m\u001b[43mget\u001b[49m\u001b[43m(\u001b[49m\u001b[38;5;124;43m\"\u001b[39;49m\u001b[38;5;124;43mmemory_map\u001b[39;49m\u001b[38;5;124;43m\"\u001b[39;49m\u001b[43m,\u001b[49m\u001b[43m \u001b[49m\u001b[38;5;28;43;01mFalse\u001b[39;49;00m\u001b[43m)\u001b[49m\u001b[43m,\u001b[49m\n\u001b[1;32m   1223\u001b[0m \u001b[43m    \u001b[49m\u001b[43mis_text\u001b[49m\u001b[38;5;241;43m=\u001b[39;49m\u001b[43mis_text\u001b[49m\u001b[43m,\u001b[49m\n\u001b[1;32m   1224\u001b[0m \u001b[43m    \u001b[49m\u001b[43merrors\u001b[49m\u001b[38;5;241;43m=\u001b[39;49m\u001b[38;5;28;43mself\u001b[39;49m\u001b[38;5;241;43m.\u001b[39;49m\u001b[43moptions\u001b[49m\u001b[38;5;241;43m.\u001b[39;49m\u001b[43mget\u001b[49m\u001b[43m(\u001b[49m\u001b[38;5;124;43m\"\u001b[39;49m\u001b[38;5;124;43mencoding_errors\u001b[39;49m\u001b[38;5;124;43m\"\u001b[39;49m\u001b[43m,\u001b[49m\u001b[43m \u001b[49m\u001b[38;5;124;43m\"\u001b[39;49m\u001b[38;5;124;43mstrict\u001b[39;49m\u001b[38;5;124;43m\"\u001b[39;49m\u001b[43m)\u001b[49m\u001b[43m,\u001b[49m\n\u001b[1;32m   1225\u001b[0m \u001b[43m    \u001b[49m\u001b[43mstorage_options\u001b[49m\u001b[38;5;241;43m=\u001b[39;49m\u001b[38;5;28;43mself\u001b[39;49m\u001b[38;5;241;43m.\u001b[39;49m\u001b[43moptions\u001b[49m\u001b[38;5;241;43m.\u001b[39;49m\u001b[43mget\u001b[49m\u001b[43m(\u001b[49m\u001b[38;5;124;43m\"\u001b[39;49m\u001b[38;5;124;43mstorage_options\u001b[39;49m\u001b[38;5;124;43m\"\u001b[39;49m\u001b[43m,\u001b[49m\u001b[43m \u001b[49m\u001b[38;5;28;43;01mNone\u001b[39;49;00m\u001b[43m)\u001b[49m\u001b[43m,\u001b[49m\n\u001b[1;32m   1226\u001b[0m \u001b[43m\u001b[49m\u001b[43m)\u001b[49m\n\u001b[1;32m   1227\u001b[0m \u001b[38;5;28;01massert\u001b[39;00m \u001b[38;5;28mself\u001b[39m\u001b[38;5;241m.\u001b[39mhandles \u001b[38;5;129;01mis\u001b[39;00m \u001b[38;5;129;01mnot\u001b[39;00m \u001b[38;5;28;01mNone\u001b[39;00m\n\u001b[1;32m   1228\u001b[0m f \u001b[38;5;241m=\u001b[39m \u001b[38;5;28mself\u001b[39m\u001b[38;5;241m.\u001b[39mhandles\u001b[38;5;241m.\u001b[39mhandle\n",
      "File \u001b[0;32m~/opt/miniconda3/envs/dsci/lib/python3.9/site-packages/pandas/io/common.py:789\u001b[0m, in \u001b[0;36mget_handle\u001b[0;34m(path_or_buf, mode, encoding, compression, memory_map, is_text, errors, storage_options)\u001b[0m\n\u001b[1;32m    784\u001b[0m \u001b[38;5;28;01melif\u001b[39;00m \u001b[38;5;28misinstance\u001b[39m(handle, \u001b[38;5;28mstr\u001b[39m):\n\u001b[1;32m    785\u001b[0m     \u001b[38;5;66;03m# Check whether the filename is to be opened in binary mode.\u001b[39;00m\n\u001b[1;32m    786\u001b[0m     \u001b[38;5;66;03m# Binary mode does not support 'encoding' and 'newline'.\u001b[39;00m\n\u001b[1;32m    787\u001b[0m     \u001b[38;5;28;01mif\u001b[39;00m ioargs\u001b[38;5;241m.\u001b[39mencoding \u001b[38;5;129;01mand\u001b[39;00m \u001b[38;5;124m\"\u001b[39m\u001b[38;5;124mb\u001b[39m\u001b[38;5;124m\"\u001b[39m \u001b[38;5;129;01mnot\u001b[39;00m \u001b[38;5;129;01min\u001b[39;00m ioargs\u001b[38;5;241m.\u001b[39mmode:\n\u001b[1;32m    788\u001b[0m         \u001b[38;5;66;03m# Encoding\u001b[39;00m\n\u001b[0;32m--> 789\u001b[0m         handle \u001b[38;5;241m=\u001b[39m \u001b[38;5;28;43mopen\u001b[39;49m\u001b[43m(\u001b[49m\n\u001b[1;32m    790\u001b[0m \u001b[43m            \u001b[49m\u001b[43mhandle\u001b[49m\u001b[43m,\u001b[49m\n\u001b[1;32m    791\u001b[0m \u001b[43m            \u001b[49m\u001b[43mioargs\u001b[49m\u001b[38;5;241;43m.\u001b[39;49m\u001b[43mmode\u001b[49m\u001b[43m,\u001b[49m\n\u001b[1;32m    792\u001b[0m \u001b[43m            \u001b[49m\u001b[43mencoding\u001b[49m\u001b[38;5;241;43m=\u001b[39;49m\u001b[43mioargs\u001b[49m\u001b[38;5;241;43m.\u001b[39;49m\u001b[43mencoding\u001b[49m\u001b[43m,\u001b[49m\n\u001b[1;32m    793\u001b[0m \u001b[43m            \u001b[49m\u001b[43merrors\u001b[49m\u001b[38;5;241;43m=\u001b[39;49m\u001b[43merrors\u001b[49m\u001b[43m,\u001b[49m\n\u001b[1;32m    794\u001b[0m \u001b[43m            \u001b[49m\u001b[43mnewline\u001b[49m\u001b[38;5;241;43m=\u001b[39;49m\u001b[38;5;124;43m\"\u001b[39;49m\u001b[38;5;124;43m\"\u001b[39;49m\u001b[43m,\u001b[49m\n\u001b[1;32m    795\u001b[0m \u001b[43m        \u001b[49m\u001b[43m)\u001b[49m\n\u001b[1;32m    796\u001b[0m     \u001b[38;5;28;01melse\u001b[39;00m:\n\u001b[1;32m    797\u001b[0m         \u001b[38;5;66;03m# Binary mode\u001b[39;00m\n\u001b[1;32m    798\u001b[0m         handle \u001b[38;5;241m=\u001b[39m \u001b[38;5;28mopen\u001b[39m(handle, ioargs\u001b[38;5;241m.\u001b[39mmode)\n",
      "\u001b[0;31mFileNotFoundError\u001b[0m: [Errno 2] No such file or directory: 'islands.csv'"
     ]
    }
   ],
   "source": [
    "islands_df = pd.read_csv(\"islands.csv\")\n",
    "islands_df"
   ]
  },
  {
   "cell_type": "markdown",
   "id": "67590d08",
   "metadata": {},
   "source": [
    "Here, we have a data frame of Earth's landmasses, \n",
    "and are trying to compare their sizes. \n",
    "The right type of visualization to answer this question is a bar plot. \n",
    "In a bar plot, the height of the bar represents the value of a summary statistic \n",
    "(usually a size, count, proportion or percentage).\n",
    "They are particularly useful for comparing summary statistics between different\n",
    "groups of a categorical variable.\n",
    "\n",
    "We specify that we would like to use a bar plot\n",
    "via the `geom_bar` function in `ggplot2`. \n",
    "However, by default, `geom_bar` sets the heights\n",
    "of bars to the number of times a value appears in a data frame (its *count*); here, we want to plot exactly the values in the data frame, i.e.,\n",
    "the landmass sizes. So we have to pass the `stat = \"identity\"` argument to `geom_bar`. The result is \n",
    "shown in Figure \\@ref(fig:03-data-islands-bar).\n",
    "\\index{ggplot!geom\\_bar}\n",
    "\n",
    "```{r 03-data-islands-bar, warning=FALSE, message=FALSE,  fig.width=5, fig.height=2.75, fig.align = \"center\", fig.pos = \"H\", out.extra=\"\", fig.cap = \"Bar plot of all Earth's landmasses' size with squished labels.\"}\n",
    "islands_bar <- ggplot(islands_df, aes(x = landmass, y = size)) +\n",
    "  geom_bar(stat = \"identity\")\n",
    "\n",
    "islands_bar\n",
    "```"
   ]
  },
  {
   "cell_type": "code",
   "execution_count": 41,
   "id": "69fd71d9",
   "metadata": {},
   "outputs": [
    {
     "ename": "NameError",
     "evalue": "name 'islands_df' is not defined",
     "output_type": "error",
     "traceback": [
      "\u001b[0;31m---------------------------------------------------------------------------\u001b[0m",
      "\u001b[0;31mNameError\u001b[0m                                 Traceback (most recent call last)",
      "Input \u001b[0;32mIn [41]\u001b[0m, in \u001b[0;36m<cell line: 1>\u001b[0;34m()\u001b[0m\n\u001b[0;32m----> 1\u001b[0m islands_bar \u001b[38;5;241m=\u001b[39m alt\u001b[38;5;241m.\u001b[39mChart(\u001b[43mislands_df\u001b[49m)\u001b[38;5;241m.\u001b[39mmark_bar()\u001b[38;5;241m.\u001b[39mencode(\n\u001b[1;32m      2\u001b[0m     x \u001b[38;5;241m=\u001b[39m \u001b[38;5;124m\"\u001b[39m\u001b[38;5;124mlandmass\u001b[39m\u001b[38;5;124m\"\u001b[39m, y \u001b[38;5;241m=\u001b[39m \u001b[38;5;124m\"\u001b[39m\u001b[38;5;124msize\u001b[39m\u001b[38;5;124m\"\u001b[39m)\n\u001b[1;32m      3\u001b[0m islands_bar\n",
      "\u001b[0;31mNameError\u001b[0m: name 'islands_df' is not defined"
     ]
    }
   ],
   "source": [
    "islands_bar = alt.Chart(islands_df).mark_bar().encode(\n",
    "    x = \"landmass\", y = \"size\")\n",
    "islands_bar"
   ]
  },
  {
   "cell_type": "code",
   "execution_count": 42,
   "id": "bb179d4d",
   "metadata": {
    "tags": [
     "remove-cell"
    ]
   },
   "outputs": [
    {
     "ename": "NameError",
     "evalue": "name 'islands_bar' is not defined",
     "output_type": "error",
     "traceback": [
      "\u001b[0;31m---------------------------------------------------------------------------\u001b[0m",
      "\u001b[0;31mNameError\u001b[0m                                 Traceback (most recent call last)",
      "Input \u001b[0;32mIn [42]\u001b[0m, in \u001b[0;36m<cell line: 1>\u001b[0;34m()\u001b[0m\n\u001b[0;32m----> 1\u001b[0m glue(\u001b[38;5;124m'\u001b[39m\u001b[38;5;124mislands_bar\u001b[39m\u001b[38;5;124m'\u001b[39m, \u001b[43mislands_bar\u001b[49m, display\u001b[38;5;241m=\u001b[39m\u001b[38;5;28;01mTrue\u001b[39;00m)\n",
      "\u001b[0;31mNameError\u001b[0m: name 'islands_bar' is not defined"
     ]
    }
   ],
   "source": [
    "glue('islands_bar', islands_bar, display=True)"
   ]
  },
  {
   "cell_type": "markdown",
   "id": "845cff39",
   "metadata": {},
   "source": [
    ":::{glue:figure} islands_bar\n",
    ":figwidth: 700px \n",
    ":name: islands_bar\n",
    "\n",
    "Bar plot of all Earth's landmasses' size with squished labels.\n",
    ":::\n",
    "\n",
    "Alright, not bad! The plot in Figure \\@ref(fig:03-data-islands-bar) is\n",
    "definitely the right kind of visualization, as we can clearly see and compare\n",
    "sizes of landmasses. The major issues are that the smaller landmasses' sizes\n",
    "are hard to distinguish, and the names of the landmasses are obscuring each\n",
    "other as they have been squished into too little space. But remember that the\n",
    "question we asked was only about the largest landmasses; let's make the plot a\n",
    "little bit clearer by keeping only the largest 12 landmasses. We do this using\n",
    "the `slice_max` function.  Then to help us make sure the labels have enough\n",
    "space, we'll use horizontal bars instead of vertical ones. We do this by\n",
    "swapping the `x` and `y` variables:\n",
    "\\index{slice\\_max}\n",
    "\n",
    "```{r 03-data-islands-bar-2, warning=FALSE, message=FALSE, fig.width=5, fig.height=2.75, fig.align = \"center\", fig.pos = \"H\", out.extra=\"\", fig.cap = \"Bar plot of size for Earth's largest 12 landmasses.\"}\n",
    "islands_top12 <- slice_max(islands_df, order_by = size, n = 12)\n",
    "islands_bar <- ggplot(islands_top12, aes(x = size, y = landmass)) +\n",
    "  geom_bar(stat = \"identity\") \n",
    "\n",
    "islands_bar\n",
    "```"
   ]
  },
  {
   "cell_type": "code",
   "execution_count": 43,
   "id": "fead4b8f",
   "metadata": {},
   "outputs": [
    {
     "ename": "NameError",
     "evalue": "name 'islands_df' is not defined",
     "output_type": "error",
     "traceback": [
      "\u001b[0;31m---------------------------------------------------------------------------\u001b[0m",
      "\u001b[0;31mNameError\u001b[0m                                 Traceback (most recent call last)",
      "Input \u001b[0;32mIn [43]\u001b[0m, in \u001b[0;36m<cell line: 1>\u001b[0;34m()\u001b[0m\n\u001b[0;32m----> 1\u001b[0m islands_top12 \u001b[38;5;241m=\u001b[39m \u001b[43mislands_df\u001b[49m\u001b[38;5;241m.\u001b[39msort_values(by \u001b[38;5;241m=\u001b[39m \u001b[38;5;124m\"\u001b[39m\u001b[38;5;124msize\u001b[39m\u001b[38;5;124m\"\u001b[39m, ascending\u001b[38;5;241m=\u001b[39m\u001b[38;5;28;01mFalse\u001b[39;00m)\u001b[38;5;241m.\u001b[39miloc[:\u001b[38;5;241m12\u001b[39m] \n\u001b[1;32m      3\u001b[0m islands_bar \u001b[38;5;241m=\u001b[39m alt\u001b[38;5;241m.\u001b[39mChart(islands_top12)\u001b[38;5;241m.\u001b[39mmark_bar()\u001b[38;5;241m.\u001b[39mencode(\n\u001b[1;32m      4\u001b[0m     x \u001b[38;5;241m=\u001b[39m \u001b[38;5;124m\"\u001b[39m\u001b[38;5;124msize\u001b[39m\u001b[38;5;124m\"\u001b[39m, y \u001b[38;5;241m=\u001b[39m \u001b[38;5;124m\"\u001b[39m\u001b[38;5;124mlandmass\u001b[39m\u001b[38;5;124m\"\u001b[39m)\n\u001b[1;32m      5\u001b[0m islands_bar\n",
      "\u001b[0;31mNameError\u001b[0m: name 'islands_df' is not defined"
     ]
    }
   ],
   "source": [
    "islands_top12 = islands_df.sort_values(by = \"size\", ascending=False).iloc[:12] \n",
    "\n",
    "islands_bar = alt.Chart(islands_top12).mark_bar().encode(\n",
    "    x = \"size\", y = \"landmass\")\n",
    "islands_bar\n",
    "\n"
   ]
  },
  {
   "cell_type": "code",
   "execution_count": 44,
   "id": "d3949886",
   "metadata": {
    "tags": [
     "remove-cell"
    ]
   },
   "outputs": [
    {
     "ename": "NameError",
     "evalue": "name 'islands_bar' is not defined",
     "output_type": "error",
     "traceback": [
      "\u001b[0;31m---------------------------------------------------------------------------\u001b[0m",
      "\u001b[0;31mNameError\u001b[0m                                 Traceback (most recent call last)",
      "Input \u001b[0;32mIn [44]\u001b[0m, in \u001b[0;36m<cell line: 1>\u001b[0;34m()\u001b[0m\n\u001b[0;32m----> 1\u001b[0m glue(\u001b[38;5;124m'\u001b[39m\u001b[38;5;124mislands_bar\u001b[39m\u001b[38;5;124m'\u001b[39m, \u001b[43mislands_bar\u001b[49m, display\u001b[38;5;241m=\u001b[39m\u001b[38;5;28;01mTrue\u001b[39;00m)\n",
      "\u001b[0;31mNameError\u001b[0m: name 'islands_bar' is not defined"
     ]
    }
   ],
   "source": [
    "glue('islands_bar', islands_bar, display=True)"
   ]
  },
  {
   "cell_type": "markdown",
   "id": "dac2b826",
   "metadata": {},
   "source": [
    ":::{glue:figure} islands_bar\n",
    ":figwidth: 700px \n",
    ":name: islands_bar\n",
    "\n",
    "Bar plot of size for Earth's largest 12 landmasses.\n",
    ":::\n",
    "\n",
    "\n",
    "\n",
    "\n",
    "The plot in Figure \\@ref(fig:03-data-islands-bar-2) is definitely clearer now, \n",
    "and allows us to answer our question \n",
    "(\"are the top 7 largest landmasses continents?\") in the affirmative. \n",
    "But the question could be made clearer from the plot \n",
    "by organizing the bars not by alphabetical order\n",
    "but by size, and to color them based on whether they are a continent. \n",
    "The data for this is stored in the `landmass_type` column. \n",
    "To use this to color the bars, \n",
    "we add the `fill` argument to the aesthetic mapping \n",
    "and set it to `landmass_type`. \n",
    "\n",
    "To organize the landmasses by their `size` variable, \n",
    "we will use the `tidyverse` `fct_reorder` function\n",
    "in the aesthetic mapping to organize the landmasses by their `size` variable.\n",
    "The first argument passed to `fct_reorder` is the name of the factor column\n",
    "whose levels we would like to reorder (here, `landmass`). \n",
    "The second argument is the column name \n",
    "that holds the values we would like to use to do the ordering (here, `size`).\n",
    "The `fct_reorder` function uses ascending order by default, \n",
    "but this can be changed to descending order \n",
    "by setting  `.desc = TRUE`.\n",
    "We do this here so that the largest bar will be closest to the axis line,\n",
    "which is more visually appealing.\n",
    "\n",
    "To label the x and y axes, we will use the `labs` function\n",
    "instead of the `xlab` and `ylab` functions from earlier in this chapter. \n",
    "The `labs` function is more general; we are using it in this case because \n",
    " we would also like to change the legend label.\n",
    "The default label is the name of the column being mapped to `fill`. Here that\n",
    "would be `landmass_type`;\n",
    "however `landmass_type` is not proper English (and so is less readable).\n",
    "Thus we use the `fill` argument inside `labs` to change that to \"Type.\"\n",
    "Finally, we again \\index{ggplot!reorder} use the `theme` function \n",
    "to change the font size.\n",
    "\n",
    "```{r 03-data-islands-bar-4, warning = FALSE, message = FALSE, fig.width=5, fig.height=2.75, fig.align=\"center\", fig.pos = \"H\", out.extra=\"\", fig.cap = \"Bar plot of size for Earth's largest 12 landmasses colored by whether its a continent with clearer axes and labels.\"}\n",
    "islands_bar <- ggplot(islands_top12, \n",
    "                      aes(x = size,\n",
    "                          y = fct_reorder(landmass, size, .desc = TRUE), \n",
    "                          fill = landmass_type)) +\n",
    "  geom_bar(stat = \"identity\") +\n",
    "  labs(x = \"Size (1000 square mi)\", y = \"Landmass\",  fill = \"Type\") +\n",
    "  theme(text = element_text(size = 12))\n",
    "\n",
    "islands_bar\n",
    "```"
   ]
  },
  {
   "cell_type": "code",
   "execution_count": 45,
   "id": "99156c66",
   "metadata": {},
   "outputs": [
    {
     "ename": "NameError",
     "evalue": "name 'islands_top12' is not defined",
     "output_type": "error",
     "traceback": [
      "\u001b[0;31m---------------------------------------------------------------------------\u001b[0m",
      "\u001b[0;31mNameError\u001b[0m                                 Traceback (most recent call last)",
      "Input \u001b[0;32mIn [45]\u001b[0m, in \u001b[0;36m<cell line: 1>\u001b[0;34m()\u001b[0m\n\u001b[0;32m----> 1\u001b[0m islands_top12_plot \u001b[38;5;241m=\u001b[39m alt\u001b[38;5;241m.\u001b[39mChart(\u001b[43mislands_top12\u001b[49m)\u001b[38;5;241m.\u001b[39mmark_bar(color\u001b[38;5;241m=\u001b[39m\u001b[38;5;124m'\u001b[39m\u001b[38;5;124mblack\u001b[39m\u001b[38;5;124m'\u001b[39m)\u001b[38;5;241m.\u001b[39mencode(\n\u001b[1;32m      2\u001b[0m     x \u001b[38;5;241m=\u001b[39m alt\u001b[38;5;241m.\u001b[39mX(\u001b[38;5;124m\"\u001b[39m\u001b[38;5;124msize\u001b[39m\u001b[38;5;124m\"\u001b[39m,title \u001b[38;5;241m=\u001b[39m \u001b[38;5;124m\"\u001b[39m\u001b[38;5;124mSize (1000 square mi)\u001b[39m\u001b[38;5;124m\"\u001b[39m),\n\u001b[1;32m      3\u001b[0m     y \u001b[38;5;241m=\u001b[39m alt\u001b[38;5;241m.\u001b[39mY(\u001b[38;5;124m\"\u001b[39m\u001b[38;5;124mlandmass\u001b[39m\u001b[38;5;124m\"\u001b[39m, title \u001b[38;5;241m=\u001b[39m \u001b[38;5;124m\"\u001b[39m\u001b[38;5;124mLandmass\u001b[39m\u001b[38;5;124m\"\u001b[39m, sort\u001b[38;5;241m=\u001b[39m\u001b[38;5;124m'\u001b[39m\u001b[38;5;124mx\u001b[39m\u001b[38;5;124m'\u001b[39m),\n\u001b[1;32m      4\u001b[0m     color \u001b[38;5;241m=\u001b[39m alt\u001b[38;5;241m.\u001b[39mColor(\u001b[38;5;124m\"\u001b[39m\u001b[38;5;124mlandmass_type\u001b[39m\u001b[38;5;124m\"\u001b[39m, title \u001b[38;5;241m=\u001b[39m \u001b[38;5;124m\"\u001b[39m\u001b[38;5;124mType\u001b[39m\u001b[38;5;124m\"\u001b[39m))\u001b[38;5;241m.\u001b[39mconfigure_axis(\n\u001b[1;32m      5\u001b[0m     titleFontSize\u001b[38;5;241m=\u001b[39m\u001b[38;5;241m12\u001b[39m)\n",
      "\u001b[0;31mNameError\u001b[0m: name 'islands_top12' is not defined"
     ]
    }
   ],
   "source": [
    "islands_top12_plot = alt.Chart(islands_top12).mark_bar(color='black').encode(\n",
    "    x = alt.X(\"size\",title = \"Size (1000 square mi)\"),\n",
    "    y = alt.Y(\"landmass\", title = \"Landmass\", sort='x'),\n",
    "    color = alt.Color(\"landmass_type\", title = \"Type\")).configure_axis(\n",
    "    titleFontSize=12)"
   ]
  },
  {
   "cell_type": "code",
   "execution_count": 46,
   "id": "56081f7a",
   "metadata": {
    "tags": [
     "remove-cell"
    ]
   },
   "outputs": [
    {
     "ename": "NameError",
     "evalue": "name 'islands_top12_plot' is not defined",
     "output_type": "error",
     "traceback": [
      "\u001b[0;31m---------------------------------------------------------------------------\u001b[0m",
      "\u001b[0;31mNameError\u001b[0m                                 Traceback (most recent call last)",
      "Input \u001b[0;32mIn [46]\u001b[0m, in \u001b[0;36m<cell line: 1>\u001b[0;34m()\u001b[0m\n\u001b[0;32m----> 1\u001b[0m glue(\u001b[38;5;124m'\u001b[39m\u001b[38;5;124mislands_top12_plot\u001b[39m\u001b[38;5;124m'\u001b[39m, \u001b[43mislands_top12_plot\u001b[49m, display\u001b[38;5;241m=\u001b[39m\u001b[38;5;28;01mTrue\u001b[39;00m)\n",
      "\u001b[0;31mNameError\u001b[0m: name 'islands_top12_plot' is not defined"
     ]
    }
   ],
   "source": [
    "glue('islands_top12_plot', islands_top12_plot, display=True)"
   ]
  },
  {
   "cell_type": "markdown",
   "id": "df8b1345",
   "metadata": {},
   "source": [
    ":::{glue:figure} islands_top12_plot\n",
    ":figwidth: 700px \n",
    ":name: islands_top12_plot\n",
    "\n",
    "Bar plot of size for Earth's largest 12 landmasses colored by whether its a continent with clearer axes and labels.\n",
    ":::\n",
    "\n",
    "\n",
    "The plot in Figure \\@ref(fig:03-data-islands-bar-4) is now a very effective\n",
    "visualization for answering our original questions. Landmasses are organized by\n",
    "their size, and continents are colored differently than other landmasses,\n",
    "making it quite clear that continents are the largest seven landmasses.\n",
    "\n",
    "### Histograms: the Michelson speed of light data set\n",
    "The `morley` data set \\index{Michelson speed of light} \n",
    "contains measurements of the speed of light \n",
    "collected in experiments performed in 1879.\n",
    "Five experiments were performed, \n",
    "and in each experiment, 20 runs were performed&mdash;meaning that \n",
    "20 measurements of the speed of light were collected \n",
    "in each experiment [@lightdata].\n",
    "The `morley` data set is available in base R as a data frame,\n",
    "so it does not need to be loaded.\n",
    "Because the speed of light is a very large number \n",
    "(the true value is 299,792.458 km/sec), the data is coded\n",
    "to be the measured speed of light minus 299,000.\n",
    "This coding allows us to focus on the variations in the measurements, which are generally\n",
    "much smaller than 299,000.\n",
    "If we used the full large speed measurements, the variations in the measurements\n",
    "would not be noticeable, making it difficult to study the differences between the experiments.\n",
    "Note that we convert the `morley` data to a tibble to take advantage of the nicer print output \n",
    "these specialized data frames provide.\n",
    "\n",
    "**Question:** \\index{question!visualization} Given what we know now about the speed of \n",
    "light (299,792.458 kilometres per second), how accurate were each of the experiments?\n",
    "\n",
    "```{r 03-data-morley, warning=FALSE, message=FALSE}\n",
    "# michelson morley experimental data\n",
    "morley <- as_tibble(morley)\n",
    "morley\n",
    "```"
   ]
  },
  {
   "cell_type": "code",
   "execution_count": 47,
   "id": "c31e31f8",
   "metadata": {},
   "outputs": [],
   "source": [
    "morley_df = pd.read_csv(\"data/morley.csv\")"
   ]
  },
  {
   "cell_type": "markdown",
   "id": "69c9b8db",
   "metadata": {},
   "source": [
    "In this experimental data, \n",
    "Michelson was trying to measure just a single quantitative number \n",
    "(the speed of light). \n",
    "The data set contains many measurements of this single quantity. \n",
    "\\index{distribution} \n",
    "To tell how accurate the experiments were, \n",
    "we need to visualize the distribution of the measurements \n",
    "(i.e., all their possible values and how often each occurs). \n",
    "We can do this using a *histogram*. \n",
    "A histogram \\index{ggplot!histogram} \n",
    "helps us visualize how a particular variable is distributed in a data set \n",
    "by separating the data into bins, \n",
    "and then using vertical bars to show how many data points fell in each bin. \n",
    "\n",
    "To create a histogram in `ggplot2` we will use the `geom_histogram` geometric\n",
    "object, setting the `x` axis to the `Speed` measurement variable. As usual, \n",
    "let's use the default arguments just to see how things look.\n",
    "\n",
    "```{r 03-data-morley-hist, warning=FALSE, message=FALSE,  fig.height = 2.75, fig.width = 4.5, fig.align = \"center\", fig.pos = \"H\", out.extra=\"\", fig.cap = \"Histogram of Michelson's speed of light data.\"}\n",
    "morley_hist <- ggplot(morley, aes(x = Speed)) +\n",
    "  geom_histogram()\n",
    "\n",
    "\n",
    "```"
   ]
  },
  {
   "cell_type": "code",
   "execution_count": 48,
   "id": "3e0d2aa6",
   "metadata": {},
   "outputs": [],
   "source": [
    "morley_hist = alt.Chart(morley_df).mark_bar().encode(\n",
    "    x = alt.X(\"Speed\"),  \n",
    "    y='count()')"
   ]
  },
  {
   "cell_type": "code",
   "execution_count": 49,
   "id": "6b6c42d2",
   "metadata": {
    "tags": [
     "remove-cell"
    ]
   },
   "outputs": [
    {
     "data": {
      "text/html": [
       "\n",
       "<div id=\"altair-viz-df6e8cc287134a1a89916de8fb9c3f95\"></div>\n",
       "<script type=\"text/javascript\">\n",
       "  var VEGA_DEBUG = (typeof VEGA_DEBUG == \"undefined\") ? {} : VEGA_DEBUG;\n",
       "  (function(spec, embedOpt){\n",
       "    let outputDiv = document.currentScript.previousElementSibling;\n",
       "    if (outputDiv.id !== \"altair-viz-df6e8cc287134a1a89916de8fb9c3f95\") {\n",
       "      outputDiv = document.getElementById(\"altair-viz-df6e8cc287134a1a89916de8fb9c3f95\");\n",
       "    }\n",
       "    const paths = {\n",
       "      \"vega\": \"https://cdn.jsdelivr.net/npm//vega@5?noext\",\n",
       "      \"vega-lib\": \"https://cdn.jsdelivr.net/npm//vega-lib?noext\",\n",
       "      \"vega-lite\": \"https://cdn.jsdelivr.net/npm//vega-lite@4.17.0?noext\",\n",
       "      \"vega-embed\": \"https://cdn.jsdelivr.net/npm//vega-embed@6?noext\",\n",
       "    };\n",
       "\n",
       "    function maybeLoadScript(lib, version) {\n",
       "      var key = `${lib.replace(\"-\", \"\")}_version`;\n",
       "      return (VEGA_DEBUG[key] == version) ?\n",
       "        Promise.resolve(paths[lib]) :\n",
       "        new Promise(function(resolve, reject) {\n",
       "          var s = document.createElement('script');\n",
       "          document.getElementsByTagName(\"head\")[0].appendChild(s);\n",
       "          s.async = true;\n",
       "          s.onload = () => {\n",
       "            VEGA_DEBUG[key] = version;\n",
       "            return resolve(paths[lib]);\n",
       "          };\n",
       "          s.onerror = () => reject(`Error loading script: ${paths[lib]}`);\n",
       "          s.src = paths[lib];\n",
       "        });\n",
       "    }\n",
       "\n",
       "    function showError(err) {\n",
       "      outputDiv.innerHTML = `<div class=\"error\" style=\"color:red;\">${err}</div>`;\n",
       "      throw err;\n",
       "    }\n",
       "\n",
       "    function displayChart(vegaEmbed) {\n",
       "      vegaEmbed(outputDiv, spec, embedOpt)\n",
       "        .catch(err => showError(`Javascript Error: ${err.message}<br>This usually means there's a typo in your chart specification. See the javascript console for the full traceback.`));\n",
       "    }\n",
       "\n",
       "    if(typeof define === \"function\" && define.amd) {\n",
       "      requirejs.config({paths});\n",
       "      require([\"vega-embed\"], displayChart, err => showError(`Error loading script: ${err.message}`));\n",
       "    } else {\n",
       "      maybeLoadScript(\"vega\", \"5\")\n",
       "        .then(() => maybeLoadScript(\"vega-lite\", \"4.17.0\"))\n",
       "        .then(() => maybeLoadScript(\"vega-embed\", \"6\"))\n",
       "        .catch(showError)\n",
       "        .then(() => displayChart(vegaEmbed));\n",
       "    }\n",
       "  })({\"config\": {\"view\": {\"continuousWidth\": 400, \"continuousHeight\": 300}}, \"data\": {\"name\": \"data-9505d6e8ffc0fbd66f1f70f18ab69d65\"}, \"mark\": \"bar\", \"encoding\": {\"x\": {\"field\": \"Speed\", \"type\": \"quantitative\"}, \"y\": {\"aggregate\": \"count\", \"type\": \"quantitative\"}}, \"$schema\": \"https://vega.github.io/schema/vega-lite/v4.17.0.json\", \"datasets\": {\"data-9505d6e8ffc0fbd66f1f70f18ab69d65\": [{\"Expt\": 1, \"Run\": 1, \"Speed\": 850}, {\"Expt\": 1, \"Run\": 2, \"Speed\": 740}, {\"Expt\": 1, \"Run\": 3, \"Speed\": 900}, {\"Expt\": 1, \"Run\": 4, \"Speed\": 1070}, {\"Expt\": 1, \"Run\": 5, \"Speed\": 930}, {\"Expt\": 1, \"Run\": 6, \"Speed\": 850}, {\"Expt\": 1, \"Run\": 7, \"Speed\": 950}, {\"Expt\": 1, \"Run\": 8, \"Speed\": 980}, {\"Expt\": 1, \"Run\": 9, \"Speed\": 980}, {\"Expt\": 1, \"Run\": 10, \"Speed\": 880}, {\"Expt\": 1, \"Run\": 11, \"Speed\": 1000}, {\"Expt\": 1, \"Run\": 12, \"Speed\": 980}, {\"Expt\": 1, \"Run\": 13, \"Speed\": 930}, {\"Expt\": 1, \"Run\": 14, \"Speed\": 650}, {\"Expt\": 1, \"Run\": 15, \"Speed\": 760}, {\"Expt\": 1, \"Run\": 16, \"Speed\": 810}, {\"Expt\": 1, \"Run\": 17, \"Speed\": 1000}, {\"Expt\": 1, \"Run\": 18, \"Speed\": 1000}, {\"Expt\": 1, \"Run\": 19, \"Speed\": 960}, {\"Expt\": 1, \"Run\": 20, \"Speed\": 960}, {\"Expt\": 2, \"Run\": 1, \"Speed\": 960}, {\"Expt\": 2, \"Run\": 2, \"Speed\": 940}, {\"Expt\": 2, \"Run\": 3, \"Speed\": 960}, {\"Expt\": 2, \"Run\": 4, \"Speed\": 940}, {\"Expt\": 2, \"Run\": 5, \"Speed\": 880}, {\"Expt\": 2, \"Run\": 6, \"Speed\": 800}, {\"Expt\": 2, \"Run\": 7, \"Speed\": 850}, {\"Expt\": 2, \"Run\": 8, \"Speed\": 880}, {\"Expt\": 2, \"Run\": 9, \"Speed\": 900}, {\"Expt\": 2, \"Run\": 10, \"Speed\": 840}, {\"Expt\": 2, \"Run\": 11, \"Speed\": 830}, {\"Expt\": 2, \"Run\": 12, \"Speed\": 790}, {\"Expt\": 2, \"Run\": 13, \"Speed\": 810}, {\"Expt\": 2, \"Run\": 14, \"Speed\": 880}, {\"Expt\": 2, \"Run\": 15, \"Speed\": 880}, {\"Expt\": 2, \"Run\": 16, \"Speed\": 830}, {\"Expt\": 2, \"Run\": 17, \"Speed\": 800}, {\"Expt\": 2, \"Run\": 18, \"Speed\": 790}, {\"Expt\": 2, \"Run\": 19, \"Speed\": 760}, {\"Expt\": 2, \"Run\": 20, \"Speed\": 800}, {\"Expt\": 3, \"Run\": 1, \"Speed\": 880}, {\"Expt\": 3, \"Run\": 2, \"Speed\": 880}, {\"Expt\": 3, \"Run\": 3, \"Speed\": 880}, {\"Expt\": 3, \"Run\": 4, \"Speed\": 860}, {\"Expt\": 3, \"Run\": 5, \"Speed\": 720}, {\"Expt\": 3, \"Run\": 6, \"Speed\": 720}, {\"Expt\": 3, \"Run\": 7, \"Speed\": 620}, {\"Expt\": 3, \"Run\": 8, \"Speed\": 860}, {\"Expt\": 3, \"Run\": 9, \"Speed\": 970}, {\"Expt\": 3, \"Run\": 10, \"Speed\": 950}, {\"Expt\": 3, \"Run\": 11, \"Speed\": 880}, {\"Expt\": 3, \"Run\": 12, \"Speed\": 910}, {\"Expt\": 3, \"Run\": 13, \"Speed\": 850}, {\"Expt\": 3, \"Run\": 14, \"Speed\": 870}, {\"Expt\": 3, \"Run\": 15, \"Speed\": 840}, {\"Expt\": 3, \"Run\": 16, \"Speed\": 840}, {\"Expt\": 3, \"Run\": 17, \"Speed\": 850}, {\"Expt\": 3, \"Run\": 18, \"Speed\": 840}, {\"Expt\": 3, \"Run\": 19, \"Speed\": 840}, {\"Expt\": 3, \"Run\": 20, \"Speed\": 840}, {\"Expt\": 4, \"Run\": 1, \"Speed\": 890}, {\"Expt\": 4, \"Run\": 2, \"Speed\": 810}, {\"Expt\": 4, \"Run\": 3, \"Speed\": 810}, {\"Expt\": 4, \"Run\": 4, \"Speed\": 820}, {\"Expt\": 4, \"Run\": 5, \"Speed\": 800}, {\"Expt\": 4, \"Run\": 6, \"Speed\": 770}, {\"Expt\": 4, \"Run\": 7, \"Speed\": 760}, {\"Expt\": 4, \"Run\": 8, \"Speed\": 740}, {\"Expt\": 4, \"Run\": 9, \"Speed\": 750}, {\"Expt\": 4, \"Run\": 10, \"Speed\": 760}, {\"Expt\": 4, \"Run\": 11, \"Speed\": 910}, {\"Expt\": 4, \"Run\": 12, \"Speed\": 920}, {\"Expt\": 4, \"Run\": 13, \"Speed\": 890}, {\"Expt\": 4, \"Run\": 14, \"Speed\": 860}, {\"Expt\": 4, \"Run\": 15, \"Speed\": 880}, {\"Expt\": 4, \"Run\": 16, \"Speed\": 720}, {\"Expt\": 4, \"Run\": 17, \"Speed\": 840}, {\"Expt\": 4, \"Run\": 18, \"Speed\": 850}, {\"Expt\": 4, \"Run\": 19, \"Speed\": 850}, {\"Expt\": 4, \"Run\": 20, \"Speed\": 780}, {\"Expt\": 5, \"Run\": 1, \"Speed\": 890}, {\"Expt\": 5, \"Run\": 2, \"Speed\": 840}, {\"Expt\": 5, \"Run\": 3, \"Speed\": 780}, {\"Expt\": 5, \"Run\": 4, \"Speed\": 810}, {\"Expt\": 5, \"Run\": 5, \"Speed\": 760}, {\"Expt\": 5, \"Run\": 6, \"Speed\": 810}, {\"Expt\": 5, \"Run\": 7, \"Speed\": 790}, {\"Expt\": 5, \"Run\": 8, \"Speed\": 810}, {\"Expt\": 5, \"Run\": 9, \"Speed\": 820}, {\"Expt\": 5, \"Run\": 10, \"Speed\": 850}, {\"Expt\": 5, \"Run\": 11, \"Speed\": 870}, {\"Expt\": 5, \"Run\": 12, \"Speed\": 870}, {\"Expt\": 5, \"Run\": 13, \"Speed\": 810}, {\"Expt\": 5, \"Run\": 14, \"Speed\": 740}, {\"Expt\": 5, \"Run\": 15, \"Speed\": 810}, {\"Expt\": 5, \"Run\": 16, \"Speed\": 940}, {\"Expt\": 5, \"Run\": 17, \"Speed\": 950}, {\"Expt\": 5, \"Run\": 18, \"Speed\": 800}, {\"Expt\": 5, \"Run\": 19, \"Speed\": 810}, {\"Expt\": 5, \"Run\": 20, \"Speed\": 870}]}}, {\"mode\": \"vega-lite\"});\n",
       "</script>"
      ],
      "text/plain": [
       "alt.Chart(...)"
      ]
     },
     "metadata": {
      "scrapbook": {
       "mime_prefix": "",
       "name": "morley_hist"
      }
     },
     "output_type": "display_data"
    }
   ],
   "source": [
    "glue('morley_hist', morley_hist, display=True)"
   ]
  },
  {
   "cell_type": "markdown",
   "id": "e7ad5f14",
   "metadata": {},
   "source": [
    ":::{glue:figure} morley_hist\n",
    ":figwidth: 700px \n",
    ":name: morley_hist\n",
    "\n",
    "Histogram of Michelson's speed of light data.\n",
    ":::\n",
    "\n",
    "\n",
    "\n",
    "Figure \\@ref(fig:03-data-morley-hist) is a great start. \n",
    "However, \n",
    "we cannot tell how accurate the measurements are using this visualization \n",
    "unless we can see the true value.\n",
    "In order to visualize the true speed of light, \n",
    "we will add a vertical line with the `geom_vline` function.\n",
    "To draw a vertical line with `geom_vline`,  \\index{ggplot!geom\\_vline}\n",
    "we need to specify where on the x-axis the line should be drawn. \n",
    "We can do this by setting the `xintercept` argument. \n",
    "Here we set it to 792.458, which is the true value of light speed \n",
    "minus 299,000; this ensures it is coded the same way as the \n",
    "measurements in the `morley` data frame.\n",
    "We would also like to fine tune this vertical line, \n",
    "styling it so that it is dashed and 1 point in thickness.\n",
    "A point is a measurement unit commonly used with fonts, \n",
    "and 1 point is about 0.353 mm. \n",
    "We do this by setting `linetype = \"dashed\"` and `size = 2`, respectively. \n",
    "There is a similar function, `geom_hline`, \n",
    "that is used for plotting horizontal lines. \n",
    "Note that \n",
    "*vertical lines* are used to denote quantities on the *horizontal axis*, \n",
    "while *horizontal lines* are used to denote quantities on the *vertical axis*. \n",
    "\n",
    "```{r 03-data-morley-hist-2, warning=FALSE,  fig.height = 2.75, fig.width = 4.5, fig.align = \"center\", fig.pos = \"H\", out.extra=\"\", message=FALSE,fig.cap = \"Histogram of Michelson's speed of light data with vertical line indicating true speed of light.\"}\n",
    "morley_hist <- ggplot(morley, aes(x = Speed)) +\n",
    "  geom_histogram() +\n",
    "  geom_vline(xintercept = 792.458, linetype = \"dashed\", size = 2)\n",
    "\n",
    "morley_hist\n",
    "```"
   ]
  },
  {
   "cell_type": "code",
   "execution_count": 50,
   "id": "50f4dffc",
   "metadata": {},
   "outputs": [],
   "source": [
    "v_line = alt.Chart(pd.DataFrame({'x': [792.458]})).mark_rule(\n",
    "    strokeDash=[3,3], size=1).encode(\n",
    "    x='x')\n",
    "\n",
    "\n",
    "final_plot = morley_hist + v_line"
   ]
  },
  {
   "cell_type": "code",
   "execution_count": 51,
   "id": "f4d1c2eb",
   "metadata": {
    "tags": [
     "remove-cell"
    ]
   },
   "outputs": [
    {
     "data": {
      "text/html": [
       "\n",
       "<div id=\"altair-viz-da8c10488d3f4632bc1eac2664936fee\"></div>\n",
       "<script type=\"text/javascript\">\n",
       "  var VEGA_DEBUG = (typeof VEGA_DEBUG == \"undefined\") ? {} : VEGA_DEBUG;\n",
       "  (function(spec, embedOpt){\n",
       "    let outputDiv = document.currentScript.previousElementSibling;\n",
       "    if (outputDiv.id !== \"altair-viz-da8c10488d3f4632bc1eac2664936fee\") {\n",
       "      outputDiv = document.getElementById(\"altair-viz-da8c10488d3f4632bc1eac2664936fee\");\n",
       "    }\n",
       "    const paths = {\n",
       "      \"vega\": \"https://cdn.jsdelivr.net/npm//vega@5?noext\",\n",
       "      \"vega-lib\": \"https://cdn.jsdelivr.net/npm//vega-lib?noext\",\n",
       "      \"vega-lite\": \"https://cdn.jsdelivr.net/npm//vega-lite@4.17.0?noext\",\n",
       "      \"vega-embed\": \"https://cdn.jsdelivr.net/npm//vega-embed@6?noext\",\n",
       "    };\n",
       "\n",
       "    function maybeLoadScript(lib, version) {\n",
       "      var key = `${lib.replace(\"-\", \"\")}_version`;\n",
       "      return (VEGA_DEBUG[key] == version) ?\n",
       "        Promise.resolve(paths[lib]) :\n",
       "        new Promise(function(resolve, reject) {\n",
       "          var s = document.createElement('script');\n",
       "          document.getElementsByTagName(\"head\")[0].appendChild(s);\n",
       "          s.async = true;\n",
       "          s.onload = () => {\n",
       "            VEGA_DEBUG[key] = version;\n",
       "            return resolve(paths[lib]);\n",
       "          };\n",
       "          s.onerror = () => reject(`Error loading script: ${paths[lib]}`);\n",
       "          s.src = paths[lib];\n",
       "        });\n",
       "    }\n",
       "\n",
       "    function showError(err) {\n",
       "      outputDiv.innerHTML = `<div class=\"error\" style=\"color:red;\">${err}</div>`;\n",
       "      throw err;\n",
       "    }\n",
       "\n",
       "    function displayChart(vegaEmbed) {\n",
       "      vegaEmbed(outputDiv, spec, embedOpt)\n",
       "        .catch(err => showError(`Javascript Error: ${err.message}<br>This usually means there's a typo in your chart specification. See the javascript console for the full traceback.`));\n",
       "    }\n",
       "\n",
       "    if(typeof define === \"function\" && define.amd) {\n",
       "      requirejs.config({paths});\n",
       "      require([\"vega-embed\"], displayChart, err => showError(`Error loading script: ${err.message}`));\n",
       "    } else {\n",
       "      maybeLoadScript(\"vega\", \"5\")\n",
       "        .then(() => maybeLoadScript(\"vega-lite\", \"4.17.0\"))\n",
       "        .then(() => maybeLoadScript(\"vega-embed\", \"6\"))\n",
       "        .catch(showError)\n",
       "        .then(() => displayChart(vegaEmbed));\n",
       "    }\n",
       "  })({\"config\": {\"view\": {\"continuousWidth\": 400, \"continuousHeight\": 300}}, \"layer\": [{\"data\": {\"name\": \"data-9505d6e8ffc0fbd66f1f70f18ab69d65\"}, \"mark\": \"bar\", \"encoding\": {\"x\": {\"field\": \"Speed\", \"type\": \"quantitative\"}, \"y\": {\"aggregate\": \"count\", \"type\": \"quantitative\"}}}, {\"data\": {\"name\": \"data-623ad424afb61a0fae69b38cf4c35612\"}, \"mark\": {\"type\": \"rule\", \"size\": 1, \"strokeDash\": [3, 3]}, \"encoding\": {\"x\": {\"field\": \"x\", \"type\": \"quantitative\"}}}], \"$schema\": \"https://vega.github.io/schema/vega-lite/v4.17.0.json\", \"datasets\": {\"data-9505d6e8ffc0fbd66f1f70f18ab69d65\": [{\"Expt\": 1, \"Run\": 1, \"Speed\": 850}, {\"Expt\": 1, \"Run\": 2, \"Speed\": 740}, {\"Expt\": 1, \"Run\": 3, \"Speed\": 900}, {\"Expt\": 1, \"Run\": 4, \"Speed\": 1070}, {\"Expt\": 1, \"Run\": 5, \"Speed\": 930}, {\"Expt\": 1, \"Run\": 6, \"Speed\": 850}, {\"Expt\": 1, \"Run\": 7, \"Speed\": 950}, {\"Expt\": 1, \"Run\": 8, \"Speed\": 980}, {\"Expt\": 1, \"Run\": 9, \"Speed\": 980}, {\"Expt\": 1, \"Run\": 10, \"Speed\": 880}, {\"Expt\": 1, \"Run\": 11, \"Speed\": 1000}, {\"Expt\": 1, \"Run\": 12, \"Speed\": 980}, {\"Expt\": 1, \"Run\": 13, \"Speed\": 930}, {\"Expt\": 1, \"Run\": 14, \"Speed\": 650}, {\"Expt\": 1, \"Run\": 15, \"Speed\": 760}, {\"Expt\": 1, \"Run\": 16, \"Speed\": 810}, {\"Expt\": 1, \"Run\": 17, \"Speed\": 1000}, {\"Expt\": 1, \"Run\": 18, \"Speed\": 1000}, {\"Expt\": 1, \"Run\": 19, \"Speed\": 960}, {\"Expt\": 1, \"Run\": 20, \"Speed\": 960}, {\"Expt\": 2, \"Run\": 1, \"Speed\": 960}, {\"Expt\": 2, \"Run\": 2, \"Speed\": 940}, {\"Expt\": 2, \"Run\": 3, \"Speed\": 960}, {\"Expt\": 2, \"Run\": 4, \"Speed\": 940}, {\"Expt\": 2, \"Run\": 5, \"Speed\": 880}, {\"Expt\": 2, \"Run\": 6, \"Speed\": 800}, {\"Expt\": 2, \"Run\": 7, \"Speed\": 850}, {\"Expt\": 2, \"Run\": 8, \"Speed\": 880}, {\"Expt\": 2, \"Run\": 9, \"Speed\": 900}, {\"Expt\": 2, \"Run\": 10, \"Speed\": 840}, {\"Expt\": 2, \"Run\": 11, \"Speed\": 830}, {\"Expt\": 2, \"Run\": 12, \"Speed\": 790}, {\"Expt\": 2, \"Run\": 13, \"Speed\": 810}, {\"Expt\": 2, \"Run\": 14, \"Speed\": 880}, {\"Expt\": 2, \"Run\": 15, \"Speed\": 880}, {\"Expt\": 2, \"Run\": 16, \"Speed\": 830}, {\"Expt\": 2, \"Run\": 17, \"Speed\": 800}, {\"Expt\": 2, \"Run\": 18, \"Speed\": 790}, {\"Expt\": 2, \"Run\": 19, \"Speed\": 760}, {\"Expt\": 2, \"Run\": 20, \"Speed\": 800}, {\"Expt\": 3, \"Run\": 1, \"Speed\": 880}, {\"Expt\": 3, \"Run\": 2, \"Speed\": 880}, {\"Expt\": 3, \"Run\": 3, \"Speed\": 880}, {\"Expt\": 3, \"Run\": 4, \"Speed\": 860}, {\"Expt\": 3, \"Run\": 5, \"Speed\": 720}, {\"Expt\": 3, \"Run\": 6, \"Speed\": 720}, {\"Expt\": 3, \"Run\": 7, \"Speed\": 620}, {\"Expt\": 3, \"Run\": 8, \"Speed\": 860}, {\"Expt\": 3, \"Run\": 9, \"Speed\": 970}, {\"Expt\": 3, \"Run\": 10, \"Speed\": 950}, {\"Expt\": 3, \"Run\": 11, \"Speed\": 880}, {\"Expt\": 3, \"Run\": 12, \"Speed\": 910}, {\"Expt\": 3, \"Run\": 13, \"Speed\": 850}, {\"Expt\": 3, \"Run\": 14, \"Speed\": 870}, {\"Expt\": 3, \"Run\": 15, \"Speed\": 840}, {\"Expt\": 3, \"Run\": 16, \"Speed\": 840}, {\"Expt\": 3, \"Run\": 17, \"Speed\": 850}, {\"Expt\": 3, \"Run\": 18, \"Speed\": 840}, {\"Expt\": 3, \"Run\": 19, \"Speed\": 840}, {\"Expt\": 3, \"Run\": 20, \"Speed\": 840}, {\"Expt\": 4, \"Run\": 1, \"Speed\": 890}, {\"Expt\": 4, \"Run\": 2, \"Speed\": 810}, {\"Expt\": 4, \"Run\": 3, \"Speed\": 810}, {\"Expt\": 4, \"Run\": 4, \"Speed\": 820}, {\"Expt\": 4, \"Run\": 5, \"Speed\": 800}, {\"Expt\": 4, \"Run\": 6, \"Speed\": 770}, {\"Expt\": 4, \"Run\": 7, \"Speed\": 760}, {\"Expt\": 4, \"Run\": 8, \"Speed\": 740}, {\"Expt\": 4, \"Run\": 9, \"Speed\": 750}, {\"Expt\": 4, \"Run\": 10, \"Speed\": 760}, {\"Expt\": 4, \"Run\": 11, \"Speed\": 910}, {\"Expt\": 4, \"Run\": 12, \"Speed\": 920}, {\"Expt\": 4, \"Run\": 13, \"Speed\": 890}, {\"Expt\": 4, \"Run\": 14, \"Speed\": 860}, {\"Expt\": 4, \"Run\": 15, \"Speed\": 880}, {\"Expt\": 4, \"Run\": 16, \"Speed\": 720}, {\"Expt\": 4, \"Run\": 17, \"Speed\": 840}, {\"Expt\": 4, \"Run\": 18, \"Speed\": 850}, {\"Expt\": 4, \"Run\": 19, \"Speed\": 850}, {\"Expt\": 4, \"Run\": 20, \"Speed\": 780}, {\"Expt\": 5, \"Run\": 1, \"Speed\": 890}, {\"Expt\": 5, \"Run\": 2, \"Speed\": 840}, {\"Expt\": 5, \"Run\": 3, \"Speed\": 780}, {\"Expt\": 5, \"Run\": 4, \"Speed\": 810}, {\"Expt\": 5, \"Run\": 5, \"Speed\": 760}, {\"Expt\": 5, \"Run\": 6, \"Speed\": 810}, {\"Expt\": 5, \"Run\": 7, \"Speed\": 790}, {\"Expt\": 5, \"Run\": 8, \"Speed\": 810}, {\"Expt\": 5, \"Run\": 9, \"Speed\": 820}, {\"Expt\": 5, \"Run\": 10, \"Speed\": 850}, {\"Expt\": 5, \"Run\": 11, \"Speed\": 870}, {\"Expt\": 5, \"Run\": 12, \"Speed\": 870}, {\"Expt\": 5, \"Run\": 13, \"Speed\": 810}, {\"Expt\": 5, \"Run\": 14, \"Speed\": 740}, {\"Expt\": 5, \"Run\": 15, \"Speed\": 810}, {\"Expt\": 5, \"Run\": 16, \"Speed\": 940}, {\"Expt\": 5, \"Run\": 17, \"Speed\": 950}, {\"Expt\": 5, \"Run\": 18, \"Speed\": 800}, {\"Expt\": 5, \"Run\": 19, \"Speed\": 810}, {\"Expt\": 5, \"Run\": 20, \"Speed\": 870}], \"data-623ad424afb61a0fae69b38cf4c35612\": [{\"x\": 792.458}]}}, {\"mode\": \"vega-lite\"});\n",
       "</script>"
      ],
      "text/plain": [
       "alt.LayerChart(...)"
      ]
     },
     "metadata": {
      "scrapbook": {
       "mime_prefix": "",
       "name": "final_plot"
      }
     },
     "output_type": "display_data"
    }
   ],
   "source": [
    "glue('final_plot', final_plot, display=True)"
   ]
  },
  {
   "cell_type": "markdown",
   "id": "49138b39",
   "metadata": {},
   "source": [
    ":::{glue:figure} final_plot\n",
    ":figwidth: 700px \n",
    ":name: final_plot\n",
    "\n",
    "Histogram of Michelson's speed of light data with vertical line indicating true speed of light.\n",
    ":::\n",
    "\n",
    "In Figure \\@ref(fig:03-data-morley-hist-2), \n",
    "we still cannot tell which experiments (denoted in the `Expt` column) \n",
    "led to which measurements; \n",
    "perhaps some experiments were more accurate than others. \n",
    "To fully answer our question, \n",
    "we need to separate the measurements from each other visually. \n",
    "We can try to do this using a *colored* histogram, \n",
    "where counts from different experiments are stacked on top of each other \n",
    "in different colors. \n",
    "We can create a histogram colored by the `Expt` variable \n",
    "by adding it to the `fill` aesthetic mapping. \n",
    "We make sure the different colors can be seen \n",
    "(despite them all sitting on top of each other) \n",
    "by setting the `alpha` argument in `geom_histogram` to `0.5` \n",
    "to make the bars slightly translucent. \n",
    "We also specify `position = \"identity\"` in `geom_histogram` to ensure \n",
    "the histograms for each experiment will be overlaid side-by-side, \n",
    "instead of stacked bars \n",
    "(which is the default for bar plots or histograms \n",
    "when they are colored by another categorical variable).\n",
    "\n",
    "```{r 03-data-morley-hist-3, warning=FALSE, message=FALSE,  fig.height = 2.75, fig.width = 4.5, fig.align = \"center\", fig.pos = \"H\", out.extra=\"\", fig.cap = \"Histogram of Michelson's speed of light data colored by experiment.\"}\n",
    "morley_hist <- ggplot(morley, aes(x = Speed, fill = Expt)) +\n",
    "  geom_histogram(alpha = 0.5, position = \"identity\") +\n",
    "  geom_vline(xintercept = 792.458, linetype = \"dashed\", size = 2)\n",
    "\n",
    "\n",
    "```"
   ]
  },
  {
   "cell_type": "code",
   "execution_count": 52,
   "id": "2edff3a4",
   "metadata": {},
   "outputs": [],
   "source": [
    "morley_hist = alt.Chart(morley_df).mark_bar(opacity=0.5).encode(\n",
    "    x = alt.X(\"Speed\"), \n",
    "    y=alt.Y('count()'),\n",
    "    color = \"Expt\")\n",
    "\n",
    "final_plot = morley_hist + v_line"
   ]
  },
  {
   "cell_type": "code",
   "execution_count": 53,
   "id": "88fa3f4f",
   "metadata": {
    "tags": [
     "remove-cell"
    ]
   },
   "outputs": [
    {
     "data": {
      "text/html": [
       "\n",
       "<div id=\"altair-viz-53deebe5323945a6bded0aa892dfef14\"></div>\n",
       "<script type=\"text/javascript\">\n",
       "  var VEGA_DEBUG = (typeof VEGA_DEBUG == \"undefined\") ? {} : VEGA_DEBUG;\n",
       "  (function(spec, embedOpt){\n",
       "    let outputDiv = document.currentScript.previousElementSibling;\n",
       "    if (outputDiv.id !== \"altair-viz-53deebe5323945a6bded0aa892dfef14\") {\n",
       "      outputDiv = document.getElementById(\"altair-viz-53deebe5323945a6bded0aa892dfef14\");\n",
       "    }\n",
       "    const paths = {\n",
       "      \"vega\": \"https://cdn.jsdelivr.net/npm//vega@5?noext\",\n",
       "      \"vega-lib\": \"https://cdn.jsdelivr.net/npm//vega-lib?noext\",\n",
       "      \"vega-lite\": \"https://cdn.jsdelivr.net/npm//vega-lite@4.17.0?noext\",\n",
       "      \"vega-embed\": \"https://cdn.jsdelivr.net/npm//vega-embed@6?noext\",\n",
       "    };\n",
       "\n",
       "    function maybeLoadScript(lib, version) {\n",
       "      var key = `${lib.replace(\"-\", \"\")}_version`;\n",
       "      return (VEGA_DEBUG[key] == version) ?\n",
       "        Promise.resolve(paths[lib]) :\n",
       "        new Promise(function(resolve, reject) {\n",
       "          var s = document.createElement('script');\n",
       "          document.getElementsByTagName(\"head\")[0].appendChild(s);\n",
       "          s.async = true;\n",
       "          s.onload = () => {\n",
       "            VEGA_DEBUG[key] = version;\n",
       "            return resolve(paths[lib]);\n",
       "          };\n",
       "          s.onerror = () => reject(`Error loading script: ${paths[lib]}`);\n",
       "          s.src = paths[lib];\n",
       "        });\n",
       "    }\n",
       "\n",
       "    function showError(err) {\n",
       "      outputDiv.innerHTML = `<div class=\"error\" style=\"color:red;\">${err}</div>`;\n",
       "      throw err;\n",
       "    }\n",
       "\n",
       "    function displayChart(vegaEmbed) {\n",
       "      vegaEmbed(outputDiv, spec, embedOpt)\n",
       "        .catch(err => showError(`Javascript Error: ${err.message}<br>This usually means there's a typo in your chart specification. See the javascript console for the full traceback.`));\n",
       "    }\n",
       "\n",
       "    if(typeof define === \"function\" && define.amd) {\n",
       "      requirejs.config({paths});\n",
       "      require([\"vega-embed\"], displayChart, err => showError(`Error loading script: ${err.message}`));\n",
       "    } else {\n",
       "      maybeLoadScript(\"vega\", \"5\")\n",
       "        .then(() => maybeLoadScript(\"vega-lite\", \"4.17.0\"))\n",
       "        .then(() => maybeLoadScript(\"vega-embed\", \"6\"))\n",
       "        .catch(showError)\n",
       "        .then(() => displayChart(vegaEmbed));\n",
       "    }\n",
       "  })({\"config\": {\"view\": {\"continuousWidth\": 400, \"continuousHeight\": 300}}, \"layer\": [{\"data\": {\"name\": \"data-9505d6e8ffc0fbd66f1f70f18ab69d65\"}, \"mark\": {\"type\": \"bar\", \"opacity\": 0.5}, \"encoding\": {\"color\": {\"field\": \"Expt\", \"type\": \"quantitative\"}, \"x\": {\"field\": \"Speed\", \"type\": \"quantitative\"}, \"y\": {\"aggregate\": \"count\", \"type\": \"quantitative\"}}}, {\"data\": {\"name\": \"data-623ad424afb61a0fae69b38cf4c35612\"}, \"mark\": {\"type\": \"rule\", \"size\": 1, \"strokeDash\": [3, 3]}, \"encoding\": {\"x\": {\"field\": \"x\", \"type\": \"quantitative\"}}}], \"$schema\": \"https://vega.github.io/schema/vega-lite/v4.17.0.json\", \"datasets\": {\"data-9505d6e8ffc0fbd66f1f70f18ab69d65\": [{\"Expt\": 1, \"Run\": 1, \"Speed\": 850}, {\"Expt\": 1, \"Run\": 2, \"Speed\": 740}, {\"Expt\": 1, \"Run\": 3, \"Speed\": 900}, {\"Expt\": 1, \"Run\": 4, \"Speed\": 1070}, {\"Expt\": 1, \"Run\": 5, \"Speed\": 930}, {\"Expt\": 1, \"Run\": 6, \"Speed\": 850}, {\"Expt\": 1, \"Run\": 7, \"Speed\": 950}, {\"Expt\": 1, \"Run\": 8, \"Speed\": 980}, {\"Expt\": 1, \"Run\": 9, \"Speed\": 980}, {\"Expt\": 1, \"Run\": 10, \"Speed\": 880}, {\"Expt\": 1, \"Run\": 11, \"Speed\": 1000}, {\"Expt\": 1, \"Run\": 12, \"Speed\": 980}, {\"Expt\": 1, \"Run\": 13, \"Speed\": 930}, {\"Expt\": 1, \"Run\": 14, \"Speed\": 650}, {\"Expt\": 1, \"Run\": 15, \"Speed\": 760}, {\"Expt\": 1, \"Run\": 16, \"Speed\": 810}, {\"Expt\": 1, \"Run\": 17, \"Speed\": 1000}, {\"Expt\": 1, \"Run\": 18, \"Speed\": 1000}, {\"Expt\": 1, \"Run\": 19, \"Speed\": 960}, {\"Expt\": 1, \"Run\": 20, \"Speed\": 960}, {\"Expt\": 2, \"Run\": 1, \"Speed\": 960}, {\"Expt\": 2, \"Run\": 2, \"Speed\": 940}, {\"Expt\": 2, \"Run\": 3, \"Speed\": 960}, {\"Expt\": 2, \"Run\": 4, \"Speed\": 940}, {\"Expt\": 2, \"Run\": 5, \"Speed\": 880}, {\"Expt\": 2, \"Run\": 6, \"Speed\": 800}, {\"Expt\": 2, \"Run\": 7, \"Speed\": 850}, {\"Expt\": 2, \"Run\": 8, \"Speed\": 880}, {\"Expt\": 2, \"Run\": 9, \"Speed\": 900}, {\"Expt\": 2, \"Run\": 10, \"Speed\": 840}, {\"Expt\": 2, \"Run\": 11, \"Speed\": 830}, {\"Expt\": 2, \"Run\": 12, \"Speed\": 790}, {\"Expt\": 2, \"Run\": 13, \"Speed\": 810}, {\"Expt\": 2, \"Run\": 14, \"Speed\": 880}, {\"Expt\": 2, \"Run\": 15, \"Speed\": 880}, {\"Expt\": 2, \"Run\": 16, \"Speed\": 830}, {\"Expt\": 2, \"Run\": 17, \"Speed\": 800}, {\"Expt\": 2, \"Run\": 18, \"Speed\": 790}, {\"Expt\": 2, \"Run\": 19, \"Speed\": 760}, {\"Expt\": 2, \"Run\": 20, \"Speed\": 800}, {\"Expt\": 3, \"Run\": 1, \"Speed\": 880}, {\"Expt\": 3, \"Run\": 2, \"Speed\": 880}, {\"Expt\": 3, \"Run\": 3, \"Speed\": 880}, {\"Expt\": 3, \"Run\": 4, \"Speed\": 860}, {\"Expt\": 3, \"Run\": 5, \"Speed\": 720}, {\"Expt\": 3, \"Run\": 6, \"Speed\": 720}, {\"Expt\": 3, \"Run\": 7, \"Speed\": 620}, {\"Expt\": 3, \"Run\": 8, \"Speed\": 860}, {\"Expt\": 3, \"Run\": 9, \"Speed\": 970}, {\"Expt\": 3, \"Run\": 10, \"Speed\": 950}, {\"Expt\": 3, \"Run\": 11, \"Speed\": 880}, {\"Expt\": 3, \"Run\": 12, \"Speed\": 910}, {\"Expt\": 3, \"Run\": 13, \"Speed\": 850}, {\"Expt\": 3, \"Run\": 14, \"Speed\": 870}, {\"Expt\": 3, \"Run\": 15, \"Speed\": 840}, {\"Expt\": 3, \"Run\": 16, \"Speed\": 840}, {\"Expt\": 3, \"Run\": 17, \"Speed\": 850}, {\"Expt\": 3, \"Run\": 18, \"Speed\": 840}, {\"Expt\": 3, \"Run\": 19, \"Speed\": 840}, {\"Expt\": 3, \"Run\": 20, \"Speed\": 840}, {\"Expt\": 4, \"Run\": 1, \"Speed\": 890}, {\"Expt\": 4, \"Run\": 2, \"Speed\": 810}, {\"Expt\": 4, \"Run\": 3, \"Speed\": 810}, {\"Expt\": 4, \"Run\": 4, \"Speed\": 820}, {\"Expt\": 4, \"Run\": 5, \"Speed\": 800}, {\"Expt\": 4, \"Run\": 6, \"Speed\": 770}, {\"Expt\": 4, \"Run\": 7, \"Speed\": 760}, {\"Expt\": 4, \"Run\": 8, \"Speed\": 740}, {\"Expt\": 4, \"Run\": 9, \"Speed\": 750}, {\"Expt\": 4, \"Run\": 10, \"Speed\": 760}, {\"Expt\": 4, \"Run\": 11, \"Speed\": 910}, {\"Expt\": 4, \"Run\": 12, \"Speed\": 920}, {\"Expt\": 4, \"Run\": 13, \"Speed\": 890}, {\"Expt\": 4, \"Run\": 14, \"Speed\": 860}, {\"Expt\": 4, \"Run\": 15, \"Speed\": 880}, {\"Expt\": 4, \"Run\": 16, \"Speed\": 720}, {\"Expt\": 4, \"Run\": 17, \"Speed\": 840}, {\"Expt\": 4, \"Run\": 18, \"Speed\": 850}, {\"Expt\": 4, \"Run\": 19, \"Speed\": 850}, {\"Expt\": 4, \"Run\": 20, \"Speed\": 780}, {\"Expt\": 5, \"Run\": 1, \"Speed\": 890}, {\"Expt\": 5, \"Run\": 2, \"Speed\": 840}, {\"Expt\": 5, \"Run\": 3, \"Speed\": 780}, {\"Expt\": 5, \"Run\": 4, \"Speed\": 810}, {\"Expt\": 5, \"Run\": 5, \"Speed\": 760}, {\"Expt\": 5, \"Run\": 6, \"Speed\": 810}, {\"Expt\": 5, \"Run\": 7, \"Speed\": 790}, {\"Expt\": 5, \"Run\": 8, \"Speed\": 810}, {\"Expt\": 5, \"Run\": 9, \"Speed\": 820}, {\"Expt\": 5, \"Run\": 10, \"Speed\": 850}, {\"Expt\": 5, \"Run\": 11, \"Speed\": 870}, {\"Expt\": 5, \"Run\": 12, \"Speed\": 870}, {\"Expt\": 5, \"Run\": 13, \"Speed\": 810}, {\"Expt\": 5, \"Run\": 14, \"Speed\": 740}, {\"Expt\": 5, \"Run\": 15, \"Speed\": 810}, {\"Expt\": 5, \"Run\": 16, \"Speed\": 940}, {\"Expt\": 5, \"Run\": 17, \"Speed\": 950}, {\"Expt\": 5, \"Run\": 18, \"Speed\": 800}, {\"Expt\": 5, \"Run\": 19, \"Speed\": 810}, {\"Expt\": 5, \"Run\": 20, \"Speed\": 870}], \"data-623ad424afb61a0fae69b38cf4c35612\": [{\"x\": 792.458}]}}, {\"mode\": \"vega-lite\"});\n",
       "</script>"
      ],
      "text/plain": [
       "alt.LayerChart(...)"
      ]
     },
     "metadata": {
      "scrapbook": {
       "mime_prefix": "",
       "name": "final_plot"
      }
     },
     "output_type": "display_data"
    }
   ],
   "source": [
    "glue('final_plot', final_plot, display=True)"
   ]
  },
  {
   "cell_type": "markdown",
   "id": "6eb9c7cf",
   "metadata": {},
   "source": [
    ":::{glue:figure} final_plot\n",
    ":figwidth: 700px \n",
    ":name: final_plot\n",
    "\n",
    "Histogram of Michelson's speed of light data colored by experiment.\n",
    ":::\n",
    "\n",
    "Alright great, Figure \\@ref(fig:03-data-morley-hist-3) looks...wait a second! The\n",
    "histogram is still all the same color! What is going on here? Well, if you \n",
    "recall from Chapter \\@ref(wrangling), the *data type* you use for each variable\n",
    "can influence how R and `tidyverse` treats it. Here, we indeed have an issue\n",
    "with the data types in the `morley` data frame. In particular, the `Expt` column\n",
    "is currently an *integer* (you can see the label `<int>` underneath the `Expt` column in \\index{integer} the printed\n",
    "data frame at the start of this section). But we want to treat it as a\n",
    "*category*, i.e., there should be one category per type of experiment.  \n",
    "\n",
    "To fix this issue we can convert the `Expt` variable into a *factor* by \\index{factor}\n",
    "passing it to `as_factor` in the `fill` aesthetic mapping.\n",
    "Recall that factor is a data type in R that is often used to represent\n",
    "categories. By writing\n",
    "`as_factor(Expt)` we are ensuring that R will treat this variable as a factor,\n",
    "and the color will be mapped discretely.\n",
    "\\index{factor!usage in ggplot}\n",
    "\n",
    "```{r 03-data-morley-hist-with-factor, warning=FALSE, message=FALSE,  fig.height = 2.75, fig.width = 5, fig.pos = \"H\", out.extra=\"\", fig.align = \"center\", fig.cap = \"Histogram of Michelson's speed of light data colored by experiment as factor.\"}\n",
    "morley_hist <- ggplot(morley, aes(x = Speed, fill = as_factor(Expt))) +\n",
    "  geom_histogram(alpha = 0.5, position = \"identity\") +\n",
    "  geom_vline(xintercept = 792.458, linetype = \"dashed\", size = 2)\n",
    "\n",
    "\n",
    "```"
   ]
  },
  {
   "cell_type": "code",
   "execution_count": 54,
   "id": "31f701f6",
   "metadata": {},
   "outputs": [],
   "source": [
    "morley_hist = alt.Chart(morley_df).mark_bar(opacity=0.4).encode(\n",
    "    x = alt.X(\"Speed\", bin=alt.Bin(maxbins=50)),  # or bin=True\n",
    "    y=alt.Y('count()', stack=False),\n",
    "    color = \"Expt:N\")\n",
    "\n",
    "final_plot = morley_hist + v_line"
   ]
  },
  {
   "cell_type": "code",
   "execution_count": 55,
   "id": "9902cbb6",
   "metadata": {
    "tags": [
     "remove-cell"
    ]
   },
   "outputs": [
    {
     "data": {
      "text/html": [
       "\n",
       "<div id=\"altair-viz-cfbd8b7611114407b937b5169ae089b3\"></div>\n",
       "<script type=\"text/javascript\">\n",
       "  var VEGA_DEBUG = (typeof VEGA_DEBUG == \"undefined\") ? {} : VEGA_DEBUG;\n",
       "  (function(spec, embedOpt){\n",
       "    let outputDiv = document.currentScript.previousElementSibling;\n",
       "    if (outputDiv.id !== \"altair-viz-cfbd8b7611114407b937b5169ae089b3\") {\n",
       "      outputDiv = document.getElementById(\"altair-viz-cfbd8b7611114407b937b5169ae089b3\");\n",
       "    }\n",
       "    const paths = {\n",
       "      \"vega\": \"https://cdn.jsdelivr.net/npm//vega@5?noext\",\n",
       "      \"vega-lib\": \"https://cdn.jsdelivr.net/npm//vega-lib?noext\",\n",
       "      \"vega-lite\": \"https://cdn.jsdelivr.net/npm//vega-lite@4.17.0?noext\",\n",
       "      \"vega-embed\": \"https://cdn.jsdelivr.net/npm//vega-embed@6?noext\",\n",
       "    };\n",
       "\n",
       "    function maybeLoadScript(lib, version) {\n",
       "      var key = `${lib.replace(\"-\", \"\")}_version`;\n",
       "      return (VEGA_DEBUG[key] == version) ?\n",
       "        Promise.resolve(paths[lib]) :\n",
       "        new Promise(function(resolve, reject) {\n",
       "          var s = document.createElement('script');\n",
       "          document.getElementsByTagName(\"head\")[0].appendChild(s);\n",
       "          s.async = true;\n",
       "          s.onload = () => {\n",
       "            VEGA_DEBUG[key] = version;\n",
       "            return resolve(paths[lib]);\n",
       "          };\n",
       "          s.onerror = () => reject(`Error loading script: ${paths[lib]}`);\n",
       "          s.src = paths[lib];\n",
       "        });\n",
       "    }\n",
       "\n",
       "    function showError(err) {\n",
       "      outputDiv.innerHTML = `<div class=\"error\" style=\"color:red;\">${err}</div>`;\n",
       "      throw err;\n",
       "    }\n",
       "\n",
       "    function displayChart(vegaEmbed) {\n",
       "      vegaEmbed(outputDiv, spec, embedOpt)\n",
       "        .catch(err => showError(`Javascript Error: ${err.message}<br>This usually means there's a typo in your chart specification. See the javascript console for the full traceback.`));\n",
       "    }\n",
       "\n",
       "    if(typeof define === \"function\" && define.amd) {\n",
       "      requirejs.config({paths});\n",
       "      require([\"vega-embed\"], displayChart, err => showError(`Error loading script: ${err.message}`));\n",
       "    } else {\n",
       "      maybeLoadScript(\"vega\", \"5\")\n",
       "        .then(() => maybeLoadScript(\"vega-lite\", \"4.17.0\"))\n",
       "        .then(() => maybeLoadScript(\"vega-embed\", \"6\"))\n",
       "        .catch(showError)\n",
       "        .then(() => displayChart(vegaEmbed));\n",
       "    }\n",
       "  })({\"config\": {\"view\": {\"continuousWidth\": 400, \"continuousHeight\": 300}}, \"layer\": [{\"data\": {\"name\": \"data-9505d6e8ffc0fbd66f1f70f18ab69d65\"}, \"mark\": {\"type\": \"bar\", \"opacity\": 0.4}, \"encoding\": {\"color\": {\"field\": \"Expt\", \"type\": \"nominal\"}, \"x\": {\"bin\": {\"maxbins\": 50}, \"field\": \"Speed\", \"type\": \"quantitative\"}, \"y\": {\"aggregate\": \"count\", \"stack\": false, \"type\": \"quantitative\"}}}, {\"data\": {\"name\": \"data-623ad424afb61a0fae69b38cf4c35612\"}, \"mark\": {\"type\": \"rule\", \"size\": 1, \"strokeDash\": [3, 3]}, \"encoding\": {\"x\": {\"field\": \"x\", \"type\": \"quantitative\"}}}], \"$schema\": \"https://vega.github.io/schema/vega-lite/v4.17.0.json\", \"datasets\": {\"data-9505d6e8ffc0fbd66f1f70f18ab69d65\": [{\"Expt\": 1, \"Run\": 1, \"Speed\": 850}, {\"Expt\": 1, \"Run\": 2, \"Speed\": 740}, {\"Expt\": 1, \"Run\": 3, \"Speed\": 900}, {\"Expt\": 1, \"Run\": 4, \"Speed\": 1070}, {\"Expt\": 1, \"Run\": 5, \"Speed\": 930}, {\"Expt\": 1, \"Run\": 6, \"Speed\": 850}, {\"Expt\": 1, \"Run\": 7, \"Speed\": 950}, {\"Expt\": 1, \"Run\": 8, \"Speed\": 980}, {\"Expt\": 1, \"Run\": 9, \"Speed\": 980}, {\"Expt\": 1, \"Run\": 10, \"Speed\": 880}, {\"Expt\": 1, \"Run\": 11, \"Speed\": 1000}, {\"Expt\": 1, \"Run\": 12, \"Speed\": 980}, {\"Expt\": 1, \"Run\": 13, \"Speed\": 930}, {\"Expt\": 1, \"Run\": 14, \"Speed\": 650}, {\"Expt\": 1, \"Run\": 15, \"Speed\": 760}, {\"Expt\": 1, \"Run\": 16, \"Speed\": 810}, {\"Expt\": 1, \"Run\": 17, \"Speed\": 1000}, {\"Expt\": 1, \"Run\": 18, \"Speed\": 1000}, {\"Expt\": 1, \"Run\": 19, \"Speed\": 960}, {\"Expt\": 1, \"Run\": 20, \"Speed\": 960}, {\"Expt\": 2, \"Run\": 1, \"Speed\": 960}, {\"Expt\": 2, \"Run\": 2, \"Speed\": 940}, {\"Expt\": 2, \"Run\": 3, \"Speed\": 960}, {\"Expt\": 2, \"Run\": 4, \"Speed\": 940}, {\"Expt\": 2, \"Run\": 5, \"Speed\": 880}, {\"Expt\": 2, \"Run\": 6, \"Speed\": 800}, {\"Expt\": 2, \"Run\": 7, \"Speed\": 850}, {\"Expt\": 2, \"Run\": 8, \"Speed\": 880}, {\"Expt\": 2, \"Run\": 9, \"Speed\": 900}, {\"Expt\": 2, \"Run\": 10, \"Speed\": 840}, {\"Expt\": 2, \"Run\": 11, \"Speed\": 830}, {\"Expt\": 2, \"Run\": 12, \"Speed\": 790}, {\"Expt\": 2, \"Run\": 13, \"Speed\": 810}, {\"Expt\": 2, \"Run\": 14, \"Speed\": 880}, {\"Expt\": 2, \"Run\": 15, \"Speed\": 880}, {\"Expt\": 2, \"Run\": 16, \"Speed\": 830}, {\"Expt\": 2, \"Run\": 17, \"Speed\": 800}, {\"Expt\": 2, \"Run\": 18, \"Speed\": 790}, {\"Expt\": 2, \"Run\": 19, \"Speed\": 760}, {\"Expt\": 2, \"Run\": 20, \"Speed\": 800}, {\"Expt\": 3, \"Run\": 1, \"Speed\": 880}, {\"Expt\": 3, \"Run\": 2, \"Speed\": 880}, {\"Expt\": 3, \"Run\": 3, \"Speed\": 880}, {\"Expt\": 3, \"Run\": 4, \"Speed\": 860}, {\"Expt\": 3, \"Run\": 5, \"Speed\": 720}, {\"Expt\": 3, \"Run\": 6, \"Speed\": 720}, {\"Expt\": 3, \"Run\": 7, \"Speed\": 620}, {\"Expt\": 3, \"Run\": 8, \"Speed\": 860}, {\"Expt\": 3, \"Run\": 9, \"Speed\": 970}, {\"Expt\": 3, \"Run\": 10, \"Speed\": 950}, {\"Expt\": 3, \"Run\": 11, \"Speed\": 880}, {\"Expt\": 3, \"Run\": 12, \"Speed\": 910}, {\"Expt\": 3, \"Run\": 13, \"Speed\": 850}, {\"Expt\": 3, \"Run\": 14, \"Speed\": 870}, {\"Expt\": 3, \"Run\": 15, \"Speed\": 840}, {\"Expt\": 3, \"Run\": 16, \"Speed\": 840}, {\"Expt\": 3, \"Run\": 17, \"Speed\": 850}, {\"Expt\": 3, \"Run\": 18, \"Speed\": 840}, {\"Expt\": 3, \"Run\": 19, \"Speed\": 840}, {\"Expt\": 3, \"Run\": 20, \"Speed\": 840}, {\"Expt\": 4, \"Run\": 1, \"Speed\": 890}, {\"Expt\": 4, \"Run\": 2, \"Speed\": 810}, {\"Expt\": 4, \"Run\": 3, \"Speed\": 810}, {\"Expt\": 4, \"Run\": 4, \"Speed\": 820}, {\"Expt\": 4, \"Run\": 5, \"Speed\": 800}, {\"Expt\": 4, \"Run\": 6, \"Speed\": 770}, {\"Expt\": 4, \"Run\": 7, \"Speed\": 760}, {\"Expt\": 4, \"Run\": 8, \"Speed\": 740}, {\"Expt\": 4, \"Run\": 9, \"Speed\": 750}, {\"Expt\": 4, \"Run\": 10, \"Speed\": 760}, {\"Expt\": 4, \"Run\": 11, \"Speed\": 910}, {\"Expt\": 4, \"Run\": 12, \"Speed\": 920}, {\"Expt\": 4, \"Run\": 13, \"Speed\": 890}, {\"Expt\": 4, \"Run\": 14, \"Speed\": 860}, {\"Expt\": 4, \"Run\": 15, \"Speed\": 880}, {\"Expt\": 4, \"Run\": 16, \"Speed\": 720}, {\"Expt\": 4, \"Run\": 17, \"Speed\": 840}, {\"Expt\": 4, \"Run\": 18, \"Speed\": 850}, {\"Expt\": 4, \"Run\": 19, \"Speed\": 850}, {\"Expt\": 4, \"Run\": 20, \"Speed\": 780}, {\"Expt\": 5, \"Run\": 1, \"Speed\": 890}, {\"Expt\": 5, \"Run\": 2, \"Speed\": 840}, {\"Expt\": 5, \"Run\": 3, \"Speed\": 780}, {\"Expt\": 5, \"Run\": 4, \"Speed\": 810}, {\"Expt\": 5, \"Run\": 5, \"Speed\": 760}, {\"Expt\": 5, \"Run\": 6, \"Speed\": 810}, {\"Expt\": 5, \"Run\": 7, \"Speed\": 790}, {\"Expt\": 5, \"Run\": 8, \"Speed\": 810}, {\"Expt\": 5, \"Run\": 9, \"Speed\": 820}, {\"Expt\": 5, \"Run\": 10, \"Speed\": 850}, {\"Expt\": 5, \"Run\": 11, \"Speed\": 870}, {\"Expt\": 5, \"Run\": 12, \"Speed\": 870}, {\"Expt\": 5, \"Run\": 13, \"Speed\": 810}, {\"Expt\": 5, \"Run\": 14, \"Speed\": 740}, {\"Expt\": 5, \"Run\": 15, \"Speed\": 810}, {\"Expt\": 5, \"Run\": 16, \"Speed\": 940}, {\"Expt\": 5, \"Run\": 17, \"Speed\": 950}, {\"Expt\": 5, \"Run\": 18, \"Speed\": 800}, {\"Expt\": 5, \"Run\": 19, \"Speed\": 810}, {\"Expt\": 5, \"Run\": 20, \"Speed\": 870}], \"data-623ad424afb61a0fae69b38cf4c35612\": [{\"x\": 792.458}]}}, {\"mode\": \"vega-lite\"});\n",
       "</script>"
      ],
      "text/plain": [
       "alt.LayerChart(...)"
      ]
     },
     "metadata": {
      "scrapbook": {
       "mime_prefix": "",
       "name": "final_plot"
      }
     },
     "output_type": "display_data"
    }
   ],
   "source": [
    "glue('final_plot', final_plot, display=True)"
   ]
  },
  {
   "cell_type": "markdown",
   "id": "b9923740",
   "metadata": {},
   "source": [
    ":::{glue:figure} final_plot\n",
    ":figwidth: 700px \n",
    ":name: final_plot\n",
    "\n",
    "Histogram of Michelson's speed of light data colored by experiment as factor.\n",
    ":::\n",
    "\n",
    "> **Note:** Factors impact plots in two ways:\n",
    "> (1) ensuring a color is mapped as discretely where appropriate (as in this\n",
    "> example) and (2) the ordering of levels in a plot. `ggplot` takes into account\n",
    "> the order of the factor levels as opposed to the order of data in\n",
    "> your data frame. Learning how to reorder your factor levels will help you with\n",
    "> reordering the labels of a factor on a plot.  \n",
    " \n",
    "Unfortunately, the attempt to separate out the experiment number visually has\n",
    "created a bit of a mess. All of the colors in Figure\n",
    "\\@ref(fig:03-data-morley-hist-with-factor) are blending together, and although it is\n",
    "possible to derive *some* insight from this (e.g., experiments 1 and 3 had some\n",
    "of the most incorrect measurements), it isn't the clearest way to convey our\n",
    "message and answer the question. Let's try a different strategy of creating\n",
    "grid of separate histogram plots."
   ]
  },
  {
   "cell_type": "markdown",
   "id": "58fdadf0",
   "metadata": {},
   "source": [
    "We use the `facet_grid` function to create a plot \n",
    "that has multiple subplots arranged in a grid.\n",
    "The argument to `facet_grid` specifies the variable(s) used to split the plot \n",
    "into subplots, and how to split them (i.e., into rows or columns).\n",
    "If the plot is to be split horizontally, into rows, \n",
    "then the `rows` argument is used.\n",
    "If the plot is to be split vertically, into columns, \n",
    "then the `columns` argument is used.\n",
    "Both the `rows` and `columns` arguments take the column names on which to split the data when creating the subplots. \n",
    "Note that the column names must be surrounded by the `vars` function.\n",
    "This function allows the column names to be correctly evaluated \n",
    "in the context of the data frame.\n",
    "\\index{ggplot!facet\\_grid}\n",
    "\n",
    "```{r 03-data-morley-hist-4, warning=FALSE, message=FALSE, fig.height = 5, fig.width = 4.25, fig.align = \"center\", fig.pos = \"H\", out.extra=\"\", fig.cap = \"Histogram of Michelson's speed of light data split vertically by experiment.\"}\n",
    "morley_hist <- ggplot(morley, aes(x = Speed, fill = as_factor(Expt))) +\n",
    "  geom_histogram() +\n",
    "  facet_grid(rows = vars(Expt)) +\n",
    "  geom_vline(xintercept = 792.458, linetype = \"dashed\", size = 2)\n",
    "\n",
    "morley_hist\n",
    "```"
   ]
  },
  {
   "cell_type": "code",
   "execution_count": 56,
   "id": "cd7b1bb3",
   "metadata": {},
   "outputs": [],
   "source": [
    "morley_hist = alt.Chart().mark_bar(opacity = 0.5).encode(\n",
    "    x = alt.X(\"Speed\", bin=alt.Bin(maxbins=50)),  \n",
    "    y=alt.Y('count()', stack=False),\n",
    "    color = \"Expt:N\").properties(height=100, width=400)\n",
    "\n",
    "final_plot = (morley_hist + v_line).facet(row = 'Expt:N', data = morley_df)"
   ]
  },
  {
   "cell_type": "code",
   "execution_count": 57,
   "id": "0f9b171c",
   "metadata": {
    "tags": [
     "remove-cell"
    ]
   },
   "outputs": [
    {
     "data": {
      "text/html": [
       "\n",
       "<div id=\"altair-viz-e5979ee64c86459f97eadc253a8a36c4\"></div>\n",
       "<script type=\"text/javascript\">\n",
       "  var VEGA_DEBUG = (typeof VEGA_DEBUG == \"undefined\") ? {} : VEGA_DEBUG;\n",
       "  (function(spec, embedOpt){\n",
       "    let outputDiv = document.currentScript.previousElementSibling;\n",
       "    if (outputDiv.id !== \"altair-viz-e5979ee64c86459f97eadc253a8a36c4\") {\n",
       "      outputDiv = document.getElementById(\"altair-viz-e5979ee64c86459f97eadc253a8a36c4\");\n",
       "    }\n",
       "    const paths = {\n",
       "      \"vega\": \"https://cdn.jsdelivr.net/npm//vega@5?noext\",\n",
       "      \"vega-lib\": \"https://cdn.jsdelivr.net/npm//vega-lib?noext\",\n",
       "      \"vega-lite\": \"https://cdn.jsdelivr.net/npm//vega-lite@4.17.0?noext\",\n",
       "      \"vega-embed\": \"https://cdn.jsdelivr.net/npm//vega-embed@6?noext\",\n",
       "    };\n",
       "\n",
       "    function maybeLoadScript(lib, version) {\n",
       "      var key = `${lib.replace(\"-\", \"\")}_version`;\n",
       "      return (VEGA_DEBUG[key] == version) ?\n",
       "        Promise.resolve(paths[lib]) :\n",
       "        new Promise(function(resolve, reject) {\n",
       "          var s = document.createElement('script');\n",
       "          document.getElementsByTagName(\"head\")[0].appendChild(s);\n",
       "          s.async = true;\n",
       "          s.onload = () => {\n",
       "            VEGA_DEBUG[key] = version;\n",
       "            return resolve(paths[lib]);\n",
       "          };\n",
       "          s.onerror = () => reject(`Error loading script: ${paths[lib]}`);\n",
       "          s.src = paths[lib];\n",
       "        });\n",
       "    }\n",
       "\n",
       "    function showError(err) {\n",
       "      outputDiv.innerHTML = `<div class=\"error\" style=\"color:red;\">${err}</div>`;\n",
       "      throw err;\n",
       "    }\n",
       "\n",
       "    function displayChart(vegaEmbed) {\n",
       "      vegaEmbed(outputDiv, spec, embedOpt)\n",
       "        .catch(err => showError(`Javascript Error: ${err.message}<br>This usually means there's a typo in your chart specification. See the javascript console for the full traceback.`));\n",
       "    }\n",
       "\n",
       "    if(typeof define === \"function\" && define.amd) {\n",
       "      requirejs.config({paths});\n",
       "      require([\"vega-embed\"], displayChart, err => showError(`Error loading script: ${err.message}`));\n",
       "    } else {\n",
       "      maybeLoadScript(\"vega\", \"5\")\n",
       "        .then(() => maybeLoadScript(\"vega-lite\", \"4.17.0\"))\n",
       "        .then(() => maybeLoadScript(\"vega-embed\", \"6\"))\n",
       "        .catch(showError)\n",
       "        .then(() => displayChart(vegaEmbed));\n",
       "    }\n",
       "  })({\"config\": {\"view\": {\"continuousWidth\": 400, \"continuousHeight\": 300}}, \"data\": {\"name\": \"data-9505d6e8ffc0fbd66f1f70f18ab69d65\"}, \"facet\": {\"row\": {\"field\": \"Expt\", \"type\": \"nominal\"}}, \"spec\": {\"layer\": [{\"mark\": {\"type\": \"bar\", \"opacity\": 0.5}, \"encoding\": {\"color\": {\"field\": \"Expt\", \"type\": \"nominal\"}, \"x\": {\"bin\": {\"maxbins\": 50}, \"field\": \"Speed\", \"type\": \"quantitative\"}, \"y\": {\"aggregate\": \"count\", \"stack\": false, \"type\": \"quantitative\"}}, \"height\": 100, \"width\": 400}, {\"data\": {\"name\": \"data-623ad424afb61a0fae69b38cf4c35612\"}, \"mark\": {\"type\": \"rule\", \"size\": 1, \"strokeDash\": [3, 3]}, \"encoding\": {\"x\": {\"field\": \"x\", \"type\": \"quantitative\"}}}]}, \"$schema\": \"https://vega.github.io/schema/vega-lite/v4.17.0.json\", \"datasets\": {\"data-9505d6e8ffc0fbd66f1f70f18ab69d65\": [{\"Expt\": 1, \"Run\": 1, \"Speed\": 850}, {\"Expt\": 1, \"Run\": 2, \"Speed\": 740}, {\"Expt\": 1, \"Run\": 3, \"Speed\": 900}, {\"Expt\": 1, \"Run\": 4, \"Speed\": 1070}, {\"Expt\": 1, \"Run\": 5, \"Speed\": 930}, {\"Expt\": 1, \"Run\": 6, \"Speed\": 850}, {\"Expt\": 1, \"Run\": 7, \"Speed\": 950}, {\"Expt\": 1, \"Run\": 8, \"Speed\": 980}, {\"Expt\": 1, \"Run\": 9, \"Speed\": 980}, {\"Expt\": 1, \"Run\": 10, \"Speed\": 880}, {\"Expt\": 1, \"Run\": 11, \"Speed\": 1000}, {\"Expt\": 1, \"Run\": 12, \"Speed\": 980}, {\"Expt\": 1, \"Run\": 13, \"Speed\": 930}, {\"Expt\": 1, \"Run\": 14, \"Speed\": 650}, {\"Expt\": 1, \"Run\": 15, \"Speed\": 760}, {\"Expt\": 1, \"Run\": 16, \"Speed\": 810}, {\"Expt\": 1, \"Run\": 17, \"Speed\": 1000}, {\"Expt\": 1, \"Run\": 18, \"Speed\": 1000}, {\"Expt\": 1, \"Run\": 19, \"Speed\": 960}, {\"Expt\": 1, \"Run\": 20, \"Speed\": 960}, {\"Expt\": 2, \"Run\": 1, \"Speed\": 960}, {\"Expt\": 2, \"Run\": 2, \"Speed\": 940}, {\"Expt\": 2, \"Run\": 3, \"Speed\": 960}, {\"Expt\": 2, \"Run\": 4, \"Speed\": 940}, {\"Expt\": 2, \"Run\": 5, \"Speed\": 880}, {\"Expt\": 2, \"Run\": 6, \"Speed\": 800}, {\"Expt\": 2, \"Run\": 7, \"Speed\": 850}, {\"Expt\": 2, \"Run\": 8, \"Speed\": 880}, {\"Expt\": 2, \"Run\": 9, \"Speed\": 900}, {\"Expt\": 2, \"Run\": 10, \"Speed\": 840}, {\"Expt\": 2, \"Run\": 11, \"Speed\": 830}, {\"Expt\": 2, \"Run\": 12, \"Speed\": 790}, {\"Expt\": 2, \"Run\": 13, \"Speed\": 810}, {\"Expt\": 2, \"Run\": 14, \"Speed\": 880}, {\"Expt\": 2, \"Run\": 15, \"Speed\": 880}, {\"Expt\": 2, \"Run\": 16, \"Speed\": 830}, {\"Expt\": 2, \"Run\": 17, \"Speed\": 800}, {\"Expt\": 2, \"Run\": 18, \"Speed\": 790}, {\"Expt\": 2, \"Run\": 19, \"Speed\": 760}, {\"Expt\": 2, \"Run\": 20, \"Speed\": 800}, {\"Expt\": 3, \"Run\": 1, \"Speed\": 880}, {\"Expt\": 3, \"Run\": 2, \"Speed\": 880}, {\"Expt\": 3, \"Run\": 3, \"Speed\": 880}, {\"Expt\": 3, \"Run\": 4, \"Speed\": 860}, {\"Expt\": 3, \"Run\": 5, \"Speed\": 720}, {\"Expt\": 3, \"Run\": 6, \"Speed\": 720}, {\"Expt\": 3, \"Run\": 7, \"Speed\": 620}, {\"Expt\": 3, \"Run\": 8, \"Speed\": 860}, {\"Expt\": 3, \"Run\": 9, \"Speed\": 970}, {\"Expt\": 3, \"Run\": 10, \"Speed\": 950}, {\"Expt\": 3, \"Run\": 11, \"Speed\": 880}, {\"Expt\": 3, \"Run\": 12, \"Speed\": 910}, {\"Expt\": 3, \"Run\": 13, \"Speed\": 850}, {\"Expt\": 3, \"Run\": 14, \"Speed\": 870}, {\"Expt\": 3, \"Run\": 15, \"Speed\": 840}, {\"Expt\": 3, \"Run\": 16, \"Speed\": 840}, {\"Expt\": 3, \"Run\": 17, \"Speed\": 850}, {\"Expt\": 3, \"Run\": 18, \"Speed\": 840}, {\"Expt\": 3, \"Run\": 19, \"Speed\": 840}, {\"Expt\": 3, \"Run\": 20, \"Speed\": 840}, {\"Expt\": 4, \"Run\": 1, \"Speed\": 890}, {\"Expt\": 4, \"Run\": 2, \"Speed\": 810}, {\"Expt\": 4, \"Run\": 3, \"Speed\": 810}, {\"Expt\": 4, \"Run\": 4, \"Speed\": 820}, {\"Expt\": 4, \"Run\": 5, \"Speed\": 800}, {\"Expt\": 4, \"Run\": 6, \"Speed\": 770}, {\"Expt\": 4, \"Run\": 7, \"Speed\": 760}, {\"Expt\": 4, \"Run\": 8, \"Speed\": 740}, {\"Expt\": 4, \"Run\": 9, \"Speed\": 750}, {\"Expt\": 4, \"Run\": 10, \"Speed\": 760}, {\"Expt\": 4, \"Run\": 11, \"Speed\": 910}, {\"Expt\": 4, \"Run\": 12, \"Speed\": 920}, {\"Expt\": 4, \"Run\": 13, \"Speed\": 890}, {\"Expt\": 4, \"Run\": 14, \"Speed\": 860}, {\"Expt\": 4, \"Run\": 15, \"Speed\": 880}, {\"Expt\": 4, \"Run\": 16, \"Speed\": 720}, {\"Expt\": 4, \"Run\": 17, \"Speed\": 840}, {\"Expt\": 4, \"Run\": 18, \"Speed\": 850}, {\"Expt\": 4, \"Run\": 19, \"Speed\": 850}, {\"Expt\": 4, \"Run\": 20, \"Speed\": 780}, {\"Expt\": 5, \"Run\": 1, \"Speed\": 890}, {\"Expt\": 5, \"Run\": 2, \"Speed\": 840}, {\"Expt\": 5, \"Run\": 3, \"Speed\": 780}, {\"Expt\": 5, \"Run\": 4, \"Speed\": 810}, {\"Expt\": 5, \"Run\": 5, \"Speed\": 760}, {\"Expt\": 5, \"Run\": 6, \"Speed\": 810}, {\"Expt\": 5, \"Run\": 7, \"Speed\": 790}, {\"Expt\": 5, \"Run\": 8, \"Speed\": 810}, {\"Expt\": 5, \"Run\": 9, \"Speed\": 820}, {\"Expt\": 5, \"Run\": 10, \"Speed\": 850}, {\"Expt\": 5, \"Run\": 11, \"Speed\": 870}, {\"Expt\": 5, \"Run\": 12, \"Speed\": 870}, {\"Expt\": 5, \"Run\": 13, \"Speed\": 810}, {\"Expt\": 5, \"Run\": 14, \"Speed\": 740}, {\"Expt\": 5, \"Run\": 15, \"Speed\": 810}, {\"Expt\": 5, \"Run\": 16, \"Speed\": 940}, {\"Expt\": 5, \"Run\": 17, \"Speed\": 950}, {\"Expt\": 5, \"Run\": 18, \"Speed\": 800}, {\"Expt\": 5, \"Run\": 19, \"Speed\": 810}, {\"Expt\": 5, \"Run\": 20, \"Speed\": 870}], \"data-623ad424afb61a0fae69b38cf4c35612\": [{\"x\": 792.458}]}}, {\"mode\": \"vega-lite\"});\n",
       "</script>"
      ],
      "text/plain": [
       "alt.FacetChart(...)"
      ]
     },
     "metadata": {
      "scrapbook": {
       "mime_prefix": "",
       "name": "final_plot"
      }
     },
     "output_type": "display_data"
    }
   ],
   "source": [
    "glue('final_plot', final_plot, display=True)"
   ]
  },
  {
   "cell_type": "markdown",
   "id": "24a0155d",
   "metadata": {},
   "source": [
    ":::{glue:figure} final_plot\n",
    ":figwidth: 700px \n",
    ":name: final_plot\n",
    "\n",
    "Histogram of Michelson's speed of light data split vertically by experiment.\n",
    ":::\n",
    "\n",
    "The visualization in Figure \\@ref(fig:03-data-morley-hist-4) \n",
    "now makes it quite clear how accurate the different experiments were \n",
    "with respect to one another. \n",
    "The most variable measurements came from Experiment 1. \n",
    "There the measurements ranged from about 650&ndash;1050 km/sec.\n",
    "The least variable measurements came from Experiment 2.\n",
    "There, the measurements ranged from about 750&ndash;950 km/sec.\n",
    "The most different experiments still obtained quite similar results!\n",
    "\n",
    "There are two finishing touches to make this visualization even clearer. First and foremost, we need to add informative axis labels\n",
    "using the `labs` function, and increase the font size to make it readable using the `theme` function. Second, and perhaps more subtly, even though it \n",
    "is easy to compare the experiments on this plot to one another, it is hard to get a sense \n",
    "of just how accurate all the experiments were overall. For example, how accurate is the value 800 on the plot, relative to the true speed of light?\n",
    "To answer this question, we'll use the `mutate` function to transform our data into a relative measure of accuracy rather than absolute measurements:\n",
    "\\index{ggplot!labs}\\index{ggplot!theme}\n",
    "\n",
    "```{r 03-data-morley-hist-5, warning=FALSE, message=FALSE, fig.height = 5.25, fig.width = 4.5, fig.align = \"center\", fig.pos = \"H\", out.extra=\"\", fig.cap = \"Histogram of relative accuracy split vertically by experiment with clearer axes and labels.\"}\n",
    "morley_rel <- mutate(morley, \n",
    "                     relative_accuracy = 100 * \n",
    "                       ((299000 + Speed) - 299792.458) / (299792.458))\n",
    "\n",
    "morley_hist <- ggplot(morley_rel, \n",
    "                      aes(x = relative_accuracy, \n",
    "                          fill = as_factor(Expt))) +\n",
    "  geom_histogram() +\n",
    "  facet_grid(rows = vars(Expt)) +\n",
    "  geom_vline(xintercept = 0, linetype = \"dashed\", size = 2) +\n",
    "  labs(x = \"Relative Accuracy (%)\", \n",
    "       y = \"# Measurements\", \n",
    "       fill = \"Experiment ID\") +\n",
    "  theme(text = element_text(size = 12))\n",
    "\n",
    "morley_hist\n",
    "```"
   ]
  },
  {
   "cell_type": "code",
   "execution_count": 58,
   "id": "2d16a4cf",
   "metadata": {},
   "outputs": [
    {
     "data": {
      "text/html": [
       "<div>\n",
       "<style scoped>\n",
       "    .dataframe tbody tr th:only-of-type {\n",
       "        vertical-align: middle;\n",
       "    }\n",
       "\n",
       "    .dataframe tbody tr th {\n",
       "        vertical-align: top;\n",
       "    }\n",
       "\n",
       "    .dataframe thead th {\n",
       "        text-align: right;\n",
       "    }\n",
       "</style>\n",
       "<table border=\"1\" class=\"dataframe\">\n",
       "  <thead>\n",
       "    <tr style=\"text-align: right;\">\n",
       "      <th></th>\n",
       "      <th>Expt</th>\n",
       "      <th>Run</th>\n",
       "      <th>Speed</th>\n",
       "      <th>relative_accuracy</th>\n",
       "    </tr>\n",
       "  </thead>\n",
       "  <tbody>\n",
       "    <tr>\n",
       "      <th>0</th>\n",
       "      <td>1</td>\n",
       "      <td>1</td>\n",
       "      <td>850</td>\n",
       "      <td>0.019194</td>\n",
       "    </tr>\n",
       "    <tr>\n",
       "      <th>1</th>\n",
       "      <td>1</td>\n",
       "      <td>2</td>\n",
       "      <td>740</td>\n",
       "      <td>-0.017498</td>\n",
       "    </tr>\n",
       "    <tr>\n",
       "      <th>2</th>\n",
       "      <td>1</td>\n",
       "      <td>3</td>\n",
       "      <td>900</td>\n",
       "      <td>0.035872</td>\n",
       "    </tr>\n",
       "    <tr>\n",
       "      <th>3</th>\n",
       "      <td>1</td>\n",
       "      <td>4</td>\n",
       "      <td>1070</td>\n",
       "      <td>0.092578</td>\n",
       "    </tr>\n",
       "    <tr>\n",
       "      <th>4</th>\n",
       "      <td>1</td>\n",
       "      <td>5</td>\n",
       "      <td>930</td>\n",
       "      <td>0.045879</td>\n",
       "    </tr>\n",
       "    <tr>\n",
       "      <th>...</th>\n",
       "      <td>...</td>\n",
       "      <td>...</td>\n",
       "      <td>...</td>\n",
       "      <td>...</td>\n",
       "    </tr>\n",
       "    <tr>\n",
       "      <th>95</th>\n",
       "      <td>5</td>\n",
       "      <td>16</td>\n",
       "      <td>940</td>\n",
       "      <td>0.049215</td>\n",
       "    </tr>\n",
       "    <tr>\n",
       "      <th>96</th>\n",
       "      <td>5</td>\n",
       "      <td>17</td>\n",
       "      <td>950</td>\n",
       "      <td>0.052550</td>\n",
       "    </tr>\n",
       "    <tr>\n",
       "      <th>97</th>\n",
       "      <td>5</td>\n",
       "      <td>18</td>\n",
       "      <td>800</td>\n",
       "      <td>0.002516</td>\n",
       "    </tr>\n",
       "    <tr>\n",
       "      <th>98</th>\n",
       "      <td>5</td>\n",
       "      <td>19</td>\n",
       "      <td>810</td>\n",
       "      <td>0.005851</td>\n",
       "    </tr>\n",
       "    <tr>\n",
       "      <th>99</th>\n",
       "      <td>5</td>\n",
       "      <td>20</td>\n",
       "      <td>870</td>\n",
       "      <td>0.025865</td>\n",
       "    </tr>\n",
       "  </tbody>\n",
       "</table>\n",
       "<p>100 rows × 4 columns</p>\n",
       "</div>"
      ],
      "text/plain": [
       "    Expt  Run  Speed  relative_accuracy\n",
       "0      1    1    850           0.019194\n",
       "1      1    2    740          -0.017498\n",
       "2      1    3    900           0.035872\n",
       "3      1    4   1070           0.092578\n",
       "4      1    5    930           0.045879\n",
       "..   ...  ...    ...                ...\n",
       "95     5   16    940           0.049215\n",
       "96     5   17    950           0.052550\n",
       "97     5   18    800           0.002516\n",
       "98     5   19    810           0.005851\n",
       "99     5   20    870           0.025865\n",
       "\n",
       "[100 rows x 4 columns]"
      ]
     },
     "execution_count": 58,
     "metadata": {},
     "output_type": "execute_result"
    }
   ],
   "source": [
    "morley_rel = morley_df\n",
    "morley_rel = morley_rel.assign(relative_accuracy = 100 * \n",
    "                       ((299000 + morley_df['Speed']) - 299792.458) / (299792.458) )\n",
    "\n",
    "morley_rel"
   ]
  },
  {
   "cell_type": "code",
   "execution_count": 59,
   "id": "24aaf20e",
   "metadata": {},
   "outputs": [],
   "source": [
    "v_line = alt.Chart(pd.DataFrame({'x': [0]})).mark_rule(\n",
    "    strokeDash=[3,3], size=2).encode(\n",
    "    x='x')\n",
    "morley_hist = alt.Chart().mark_bar(opacity=0.6).encode(\n",
    "    x = alt.X(\"relative_accuracy\", bin=alt.Bin(maxbins=120), title = \"Relative Accuracy (%)\"), \n",
    "    y=alt.Y('count()', stack=False, title = \"# Measurements\"),\n",
    "    color = alt.Color(\"Expt:N\",  title = \"Experiment ID\")).properties(height=100, width= 400)\n",
    "\n",
    "final_plot = (morley_hist + v_line).facet(row='Expt:N', data=morley_rel)\n"
   ]
  },
  {
   "cell_type": "code",
   "execution_count": 60,
   "id": "d986aab3",
   "metadata": {
    "tags": [
     "remove-cell"
    ]
   },
   "outputs": [
    {
     "data": {
      "text/html": [
       "\n",
       "<div id=\"altair-viz-02d18d90a827443ab2bc94993ce0fb63\"></div>\n",
       "<script type=\"text/javascript\">\n",
       "  var VEGA_DEBUG = (typeof VEGA_DEBUG == \"undefined\") ? {} : VEGA_DEBUG;\n",
       "  (function(spec, embedOpt){\n",
       "    let outputDiv = document.currentScript.previousElementSibling;\n",
       "    if (outputDiv.id !== \"altair-viz-02d18d90a827443ab2bc94993ce0fb63\") {\n",
       "      outputDiv = document.getElementById(\"altair-viz-02d18d90a827443ab2bc94993ce0fb63\");\n",
       "    }\n",
       "    const paths = {\n",
       "      \"vega\": \"https://cdn.jsdelivr.net/npm//vega@5?noext\",\n",
       "      \"vega-lib\": \"https://cdn.jsdelivr.net/npm//vega-lib?noext\",\n",
       "      \"vega-lite\": \"https://cdn.jsdelivr.net/npm//vega-lite@4.17.0?noext\",\n",
       "      \"vega-embed\": \"https://cdn.jsdelivr.net/npm//vega-embed@6?noext\",\n",
       "    };\n",
       "\n",
       "    function maybeLoadScript(lib, version) {\n",
       "      var key = `${lib.replace(\"-\", \"\")}_version`;\n",
       "      return (VEGA_DEBUG[key] == version) ?\n",
       "        Promise.resolve(paths[lib]) :\n",
       "        new Promise(function(resolve, reject) {\n",
       "          var s = document.createElement('script');\n",
       "          document.getElementsByTagName(\"head\")[0].appendChild(s);\n",
       "          s.async = true;\n",
       "          s.onload = () => {\n",
       "            VEGA_DEBUG[key] = version;\n",
       "            return resolve(paths[lib]);\n",
       "          };\n",
       "          s.onerror = () => reject(`Error loading script: ${paths[lib]}`);\n",
       "          s.src = paths[lib];\n",
       "        });\n",
       "    }\n",
       "\n",
       "    function showError(err) {\n",
       "      outputDiv.innerHTML = `<div class=\"error\" style=\"color:red;\">${err}</div>`;\n",
       "      throw err;\n",
       "    }\n",
       "\n",
       "    function displayChart(vegaEmbed) {\n",
       "      vegaEmbed(outputDiv, spec, embedOpt)\n",
       "        .catch(err => showError(`Javascript Error: ${err.message}<br>This usually means there's a typo in your chart specification. See the javascript console for the full traceback.`));\n",
       "    }\n",
       "\n",
       "    if(typeof define === \"function\" && define.amd) {\n",
       "      requirejs.config({paths});\n",
       "      require([\"vega-embed\"], displayChart, err => showError(`Error loading script: ${err.message}`));\n",
       "    } else {\n",
       "      maybeLoadScript(\"vega\", \"5\")\n",
       "        .then(() => maybeLoadScript(\"vega-lite\", \"4.17.0\"))\n",
       "        .then(() => maybeLoadScript(\"vega-embed\", \"6\"))\n",
       "        .catch(showError)\n",
       "        .then(() => displayChart(vegaEmbed));\n",
       "    }\n",
       "  })({\"config\": {\"view\": {\"continuousWidth\": 400, \"continuousHeight\": 300}}, \"data\": {\"name\": \"data-1e61acf23f6299bc481d4a56ec8b6596\"}, \"facet\": {\"row\": {\"field\": \"Expt\", \"type\": \"nominal\"}}, \"spec\": {\"layer\": [{\"mark\": {\"type\": \"bar\", \"opacity\": 0.6}, \"encoding\": {\"color\": {\"field\": \"Expt\", \"title\": \"Experiment ID\", \"type\": \"nominal\"}, \"x\": {\"bin\": {\"maxbins\": 120}, \"field\": \"relative_accuracy\", \"title\": \"Relative Accuracy (%)\", \"type\": \"quantitative\"}, \"y\": {\"aggregate\": \"count\", \"stack\": false, \"title\": \"# Measurements\", \"type\": \"quantitative\"}}, \"height\": 100, \"width\": 400}, {\"data\": {\"name\": \"data-9c00aa9dc2b1c1a0b4bf9b34ead12925\"}, \"mark\": {\"type\": \"rule\", \"size\": 2, \"strokeDash\": [3, 3]}, \"encoding\": {\"x\": {\"field\": \"x\", \"type\": \"quantitative\"}}}]}, \"$schema\": \"https://vega.github.io/schema/vega-lite/v4.17.0.json\", \"datasets\": {\"data-1e61acf23f6299bc481d4a56ec8b6596\": [{\"Expt\": 1, \"Run\": 1, \"Speed\": 850, \"relative_accuracy\": 0.01919394516589735}, {\"Expt\": 1, \"Run\": 2, \"Speed\": 740, \"relative_accuracy\": -0.01749810530589938}, {\"Expt\": 1, \"Run\": 3, \"Speed\": 900, \"relative_accuracy\": 0.03587214992580495}, {\"Expt\": 1, \"Run\": 4, \"Speed\": 1070, \"relative_accuracy\": 0.0925780461094908}, {\"Expt\": 1, \"Run\": 5, \"Speed\": 930, \"relative_accuracy\": 0.04587907278174951}, {\"Expt\": 1, \"Run\": 6, \"Speed\": 850, \"relative_accuracy\": 0.01919394516589735}, {\"Expt\": 1, \"Run\": 7, \"Speed\": 950, \"relative_accuracy\": 0.05255035468571256}, {\"Expt\": 1, \"Run\": 8, \"Speed\": 980, \"relative_accuracy\": 0.06255727754165712}, {\"Expt\": 1, \"Run\": 9, \"Speed\": 980, \"relative_accuracy\": 0.06255727754165712}, {\"Expt\": 1, \"Run\": 10, \"Speed\": 880, \"relative_accuracy\": 0.029200868021841908}, {\"Expt\": 1, \"Run\": 11, \"Speed\": 1000, \"relative_accuracy\": 0.06922855944562016}, {\"Expt\": 1, \"Run\": 12, \"Speed\": 980, \"relative_accuracy\": 0.06255727754165712}, {\"Expt\": 1, \"Run\": 13, \"Speed\": 930, \"relative_accuracy\": 0.04587907278174951}, {\"Expt\": 1, \"Run\": 14, \"Speed\": 650, \"relative_accuracy\": -0.04751887387373307}, {\"Expt\": 1, \"Run\": 15, \"Speed\": 760, \"relative_accuracy\": -0.01082682340193634}, {\"Expt\": 1, \"Run\": 16, \"Speed\": 810, \"relative_accuracy\": 0.005851381357971265}, {\"Expt\": 1, \"Run\": 17, \"Speed\": 1000, \"relative_accuracy\": 0.06922855944562016}, {\"Expt\": 1, \"Run\": 18, \"Speed\": 1000, \"relative_accuracy\": 0.06922855944562016}, {\"Expt\": 1, \"Run\": 19, \"Speed\": 960, \"relative_accuracy\": 0.05588599563769407}, {\"Expt\": 1, \"Run\": 20, \"Speed\": 960, \"relative_accuracy\": 0.05588599563769407}, {\"Expt\": 2, \"Run\": 1, \"Speed\": 960, \"relative_accuracy\": 0.05588599563769407}, {\"Expt\": 2, \"Run\": 2, \"Speed\": 940, \"relative_accuracy\": 0.049214713733731034}, {\"Expt\": 2, \"Run\": 3, \"Speed\": 960, \"relative_accuracy\": 0.05588599563769407}, {\"Expt\": 2, \"Run\": 4, \"Speed\": 940, \"relative_accuracy\": 0.049214713733731034}, {\"Expt\": 2, \"Run\": 5, \"Speed\": 880, \"relative_accuracy\": 0.029200868021841908}, {\"Expt\": 2, \"Run\": 6, \"Speed\": 800, \"relative_accuracy\": 0.0025157404059897442}, {\"Expt\": 2, \"Run\": 7, \"Speed\": 850, \"relative_accuracy\": 0.01919394516589735}, {\"Expt\": 2, \"Run\": 8, \"Speed\": 880, \"relative_accuracy\": 0.029200868021841908}, {\"Expt\": 2, \"Run\": 9, \"Speed\": 900, \"relative_accuracy\": 0.03587214992580495}, {\"Expt\": 2, \"Run\": 10, \"Speed\": 840, \"relative_accuracy\": 0.015858304213915826}, {\"Expt\": 2, \"Run\": 11, \"Speed\": 830, \"relative_accuracy\": 0.012522663261934306}, {\"Expt\": 2, \"Run\": 12, \"Speed\": 790, \"relative_accuracy\": -0.0008199005459917767}, {\"Expt\": 2, \"Run\": 13, \"Speed\": 810, \"relative_accuracy\": 0.005851381357971265}, {\"Expt\": 2, \"Run\": 14, \"Speed\": 880, \"relative_accuracy\": 0.029200868021841908}, {\"Expt\": 2, \"Run\": 15, \"Speed\": 880, \"relative_accuracy\": 0.029200868021841908}, {\"Expt\": 2, \"Run\": 16, \"Speed\": 830, \"relative_accuracy\": 0.012522663261934306}, {\"Expt\": 2, \"Run\": 17, \"Speed\": 800, \"relative_accuracy\": 0.0025157404059897442}, {\"Expt\": 2, \"Run\": 18, \"Speed\": 790, \"relative_accuracy\": -0.0008199005459917767}, {\"Expt\": 2, \"Run\": 19, \"Speed\": 760, \"relative_accuracy\": -0.01082682340193634}, {\"Expt\": 2, \"Run\": 20, \"Speed\": 800, \"relative_accuracy\": 0.0025157404059897442}, {\"Expt\": 3, \"Run\": 1, \"Speed\": 880, \"relative_accuracy\": 0.029200868021841908}, {\"Expt\": 3, \"Run\": 2, \"Speed\": 880, \"relative_accuracy\": 0.029200868021841908}, {\"Expt\": 3, \"Run\": 3, \"Speed\": 880, \"relative_accuracy\": 0.029200868021841908}, {\"Expt\": 3, \"Run\": 4, \"Speed\": 860, \"relative_accuracy\": 0.022529586117878867}, {\"Expt\": 3, \"Run\": 5, \"Speed\": 720, \"relative_accuracy\": -0.02416938720986242}, {\"Expt\": 3, \"Run\": 6, \"Speed\": 720, \"relative_accuracy\": -0.02416938720986242}, {\"Expt\": 3, \"Run\": 7, \"Speed\": 620, \"relative_accuracy\": -0.05752579672967763}, {\"Expt\": 3, \"Run\": 8, \"Speed\": 860, \"relative_accuracy\": 0.022529586117878867}, {\"Expt\": 3, \"Run\": 9, \"Speed\": 970, \"relative_accuracy\": 0.059221636589675594}, {\"Expt\": 3, \"Run\": 10, \"Speed\": 950, \"relative_accuracy\": 0.05255035468571256}, {\"Expt\": 3, \"Run\": 11, \"Speed\": 880, \"relative_accuracy\": 0.029200868021841908}, {\"Expt\": 3, \"Run\": 12, \"Speed\": 910, \"relative_accuracy\": 0.039207790877786475}, {\"Expt\": 3, \"Run\": 13, \"Speed\": 850, \"relative_accuracy\": 0.01919394516589735}, {\"Expt\": 3, \"Run\": 14, \"Speed\": 870, \"relative_accuracy\": 0.02586522706986039}, {\"Expt\": 3, \"Run\": 15, \"Speed\": 840, \"relative_accuracy\": 0.015858304213915826}, {\"Expt\": 3, \"Run\": 16, \"Speed\": 840, \"relative_accuracy\": 0.015858304213915826}, {\"Expt\": 3, \"Run\": 17, \"Speed\": 850, \"relative_accuracy\": 0.01919394516589735}, {\"Expt\": 3, \"Run\": 18, \"Speed\": 840, \"relative_accuracy\": 0.015858304213915826}, {\"Expt\": 3, \"Run\": 19, \"Speed\": 840, \"relative_accuracy\": 0.015858304213915826}, {\"Expt\": 3, \"Run\": 20, \"Speed\": 840, \"relative_accuracy\": 0.015858304213915826}, {\"Expt\": 4, \"Run\": 1, \"Speed\": 890, \"relative_accuracy\": 0.03253650897382343}, {\"Expt\": 4, \"Run\": 2, \"Speed\": 810, \"relative_accuracy\": 0.005851381357971265}, {\"Expt\": 4, \"Run\": 3, \"Speed\": 810, \"relative_accuracy\": 0.005851381357971265}, {\"Expt\": 4, \"Run\": 4, \"Speed\": 820, \"relative_accuracy\": 0.009187022309952785}, {\"Expt\": 4, \"Run\": 5, \"Speed\": 800, \"relative_accuracy\": 0.0025157404059897442}, {\"Expt\": 4, \"Run\": 6, \"Speed\": 770, \"relative_accuracy\": -0.007491182449954818}, {\"Expt\": 4, \"Run\": 7, \"Speed\": 760, \"relative_accuracy\": -0.01082682340193634}, {\"Expt\": 4, \"Run\": 8, \"Speed\": 740, \"relative_accuracy\": -0.01749810530589938}, {\"Expt\": 4, \"Run\": 9, \"Speed\": 750, \"relative_accuracy\": -0.01416246435391786}, {\"Expt\": 4, \"Run\": 10, \"Speed\": 760, \"relative_accuracy\": -0.01082682340193634}, {\"Expt\": 4, \"Run\": 11, \"Speed\": 910, \"relative_accuracy\": 0.039207790877786475}, {\"Expt\": 4, \"Run\": 12, \"Speed\": 920, \"relative_accuracy\": 0.04254343182976799}, {\"Expt\": 4, \"Run\": 13, \"Speed\": 890, \"relative_accuracy\": 0.03253650897382343}, {\"Expt\": 4, \"Run\": 14, \"Speed\": 860, \"relative_accuracy\": 0.022529586117878867}, {\"Expt\": 4, \"Run\": 15, \"Speed\": 880, \"relative_accuracy\": 0.029200868021841908}, {\"Expt\": 4, \"Run\": 16, \"Speed\": 720, \"relative_accuracy\": -0.02416938720986242}, {\"Expt\": 4, \"Run\": 17, \"Speed\": 840, \"relative_accuracy\": 0.015858304213915826}, {\"Expt\": 4, \"Run\": 18, \"Speed\": 850, \"relative_accuracy\": 0.01919394516589735}, {\"Expt\": 4, \"Run\": 19, \"Speed\": 850, \"relative_accuracy\": 0.01919394516589735}, {\"Expt\": 4, \"Run\": 20, \"Speed\": 780, \"relative_accuracy\": -0.004155541497973298}, {\"Expt\": 5, \"Run\": 1, \"Speed\": 890, \"relative_accuracy\": 0.03253650897382343}, {\"Expt\": 5, \"Run\": 2, \"Speed\": 840, \"relative_accuracy\": 0.015858304213915826}, {\"Expt\": 5, \"Run\": 3, \"Speed\": 780, \"relative_accuracy\": -0.004155541497973298}, {\"Expt\": 5, \"Run\": 4, \"Speed\": 810, \"relative_accuracy\": 0.005851381357971265}, {\"Expt\": 5, \"Run\": 5, \"Speed\": 760, \"relative_accuracy\": -0.01082682340193634}, {\"Expt\": 5, \"Run\": 6, \"Speed\": 810, \"relative_accuracy\": 0.005851381357971265}, {\"Expt\": 5, \"Run\": 7, \"Speed\": 790, \"relative_accuracy\": -0.0008199005459917767}, {\"Expt\": 5, \"Run\": 8, \"Speed\": 810, \"relative_accuracy\": 0.005851381357971265}, {\"Expt\": 5, \"Run\": 9, \"Speed\": 820, \"relative_accuracy\": 0.009187022309952785}, {\"Expt\": 5, \"Run\": 10, \"Speed\": 850, \"relative_accuracy\": 0.01919394516589735}, {\"Expt\": 5, \"Run\": 11, \"Speed\": 870, \"relative_accuracy\": 0.02586522706986039}, {\"Expt\": 5, \"Run\": 12, \"Speed\": 870, \"relative_accuracy\": 0.02586522706986039}, {\"Expt\": 5, \"Run\": 13, \"Speed\": 810, \"relative_accuracy\": 0.005851381357971265}, {\"Expt\": 5, \"Run\": 14, \"Speed\": 740, \"relative_accuracy\": -0.01749810530589938}, {\"Expt\": 5, \"Run\": 15, \"Speed\": 810, \"relative_accuracy\": 0.005851381357971265}, {\"Expt\": 5, \"Run\": 16, \"Speed\": 940, \"relative_accuracy\": 0.049214713733731034}, {\"Expt\": 5, \"Run\": 17, \"Speed\": 950, \"relative_accuracy\": 0.05255035468571256}, {\"Expt\": 5, \"Run\": 18, \"Speed\": 800, \"relative_accuracy\": 0.0025157404059897442}, {\"Expt\": 5, \"Run\": 19, \"Speed\": 810, \"relative_accuracy\": 0.005851381357971265}, {\"Expt\": 5, \"Run\": 20, \"Speed\": 870, \"relative_accuracy\": 0.02586522706986039}], \"data-9c00aa9dc2b1c1a0b4bf9b34ead12925\": [{\"x\": 0}]}}, {\"mode\": \"vega-lite\"});\n",
       "</script>"
      ],
      "text/plain": [
       "alt.FacetChart(...)"
      ]
     },
     "metadata": {
      "scrapbook": {
       "mime_prefix": "",
       "name": "final_plot"
      }
     },
     "output_type": "display_data"
    }
   ],
   "source": [
    "glue('final_plot', final_plot, display=True)"
   ]
  },
  {
   "cell_type": "markdown",
   "id": "e00f8053",
   "metadata": {},
   "source": [
    ":::{glue:figure} final_plot\n",
    ":figwidth: 700px \n",
    ":name: final_plot\n",
    "\n",
    "Histogram of relative accuracy split vertically by experiment with clearer axes and labels\n",
    ":::\n",
    "\n",
    "Wow, impressive! These measurements of the speed of light from 1879 had errors around *0.05%* of the true speed. Figure \\@ref(fig:03-data-morley-hist-5) shows you that even though experiments 2 and 5 were perhaps the most accurate, all of the experiments did quite an \n",
    "admirable job given the technology available at the time.\n",
    "\n",
    "\\newpage\n",
    "\n",
    "#### Choosing a binwidth for histograms {-}\n",
    "\n",
    "When you create a histogram in R, the default number of bins used is 30.\n",
    "Naturally, this is not always the right number to use.\n",
    "You can set the number of bins yourself by using\n",
    "the `bins` argument in the `geom_histogram` geometric object.\n",
    "You can also set the *width* of the bins using the\n",
    "`binwidth` argument in the `geom_histogram` geometric object.\n",
    "But what number of bins, or bin width, is the right one to use? \n",
    "\n",
    "Unfortunately there is no hard rule for what the right bin number\n",
    "or width is. It depends entirely on your problem; the *right* number of bins \n",
    "or bin width is \n",
    "the one that *helps you answer the question* you asked. \n",
    "Choosing the correct setting for your problem \n",
    "is something that commonly takes iteration.\n",
    "We recommend setting the *bin width* (not the *number of bins*) because\n",
    "it often more directly corresponds to values in your problem of interest. For example,\n",
    "if you are looking at a histogram of human heights,\n",
    "a bin width of 1 inch would likely be reasonable, while the number of bins to use is \n",
    "not immediately clear.\n",
    "It's usually a good idea to try out several bin widths to see which one\n",
    "most clearly captures your data in the context of the question\n",
    "you want to answer.\n",
    "\n",
    "To get a sense for how different bin widths affect visualizations, \n",
    "let's experiment with the histogram that we have been working on in this section.\n",
    "In Figure \\@ref(fig:03-data-morley-hist-binwidth),\n",
    "we compare the default setting with three other histograms where we set the \n",
    "`binwidth` to 0.001, 0.01 and 0.1.\n",
    "In this case, we can see that both the default number of bins \n",
    "and the binwidth of 0.01 are effective for helping answer our question.\n",
    "On the other hand, the bin widths of 0.001 and 0.1 are too small and too big, respectively.\n",
    "\n",
    "```{r 03-data-morley-hist-binwidth, echo = FALSE, warning = FALSE, message = FALSE, fig.height = 10, fig.align = \"center\", fig.pos = \"H\", out.extra=\"\", fig.cap = \"Effect of varying bin width on histograms.\"}\n",
    "morley_hist_default <- ggplot(morley_rel, \n",
    "                              aes(x = relative_accuracy, \n",
    "                                  fill = as_factor(Expt))) +\n",
    "  geom_histogram() +\n",
    "  facet_grid(rows = vars(Expt)) +\n",
    "  geom_vline(xintercept = 0, linetype = \"dashed\", size = 2) +\n",
    "  labs(x = \"Relative Accuracy (%)\", \n",
    "       y = \"# Measurements\", \n",
    "       fill = \"Experiment ID\") +\n",
    "  theme(legend.position = \"none\") +\n",
    "  ggtitle(\"Default (bins = 30)\")  + \n",
    "  theme(text = element_text(size = 14), axis.title=element_text(size=14)) \n",
    "\n",
    "morley_hist_big <- ggplot(morley_rel, \n",
    "                          aes(x = relative_accuracy, \n",
    "                              fill = as_factor(Expt))) +\n",
    "  geom_histogram(binwidth = 0.1) +\n",
    "  facet_grid(rows = vars(Expt)) +\n",
    "  geom_vline(xintercept = 0, linetype = \"dashed\", size = 2) +\n",
    "  labs(x = \"Relative Accuracy (%)\", \n",
    "       y = \"# Measurements\", \n",
    "       fill = \"Experiment ID\") +\n",
    "  theme(legend.position = \"none\") +\n",
    "  ggtitle( \"binwidth = 0.1\")  + \n",
    "  theme(text = element_text(size = 14), axis.title=element_text(size=14)) \n",
    "\n",
    "morley_hist_med <- ggplot(morley_rel, \n",
    "                          aes(x = relative_accuracy, \n",
    "                              fill = as_factor(Expt))) +\n",
    "  geom_histogram(binwidth = 0.01) +\n",
    "  facet_grid(rows = vars(Expt)) +\n",
    "  geom_vline(xintercept = 0, linetype = \"dashed\", size = 1.0) +\n",
    "  labs(x = \"Relative Accuracy (%)\", \n",
    "       y = \"# Measurements\", \n",
    "       fill = \"Experiment ID\") +\n",
    "  theme(legend.position = \"none\") +\n",
    "  ggtitle(\"binwidth = 0.01\")  + \n",
    "  theme(text = element_text(size = 14), axis.title=element_text(size=14)) \n",
    "\n",
    "morley_hist_small <- ggplot(morley_rel, \n",
    "                            aes(x = relative_accuracy, \n",
    "                                fill = as_factor(Expt))) +\n",
    "  geom_histogram(binwidth = 0.001) +\n",
    "  facet_grid(rows = vars(Expt)) +\n",
    "  geom_vline(xintercept = 0, linetype = \"dashed\", size = 1.0) +\n",
    "  labs(x = \"Relative Accuracy (%)\", \n",
    "       y = \"# Measurements\", \n",
    "       fill = \"Experiment ID\") +\n",
    "  theme(legend.position = \"none\") +\n",
    "  ggtitle(\"binwidth = 0.001\")  + \n",
    "  theme(text = element_text(size = 14), axis.title=element_text(size=14)) \n",
    "\n",
    "plot_grid(morley_hist_default, \n",
    "          morley_hist_small, \n",
    "          morley_hist_med, \n",
    "          morley_hist_big, \n",
    "          ncol = 2)\n",
    "```"
   ]
  },
  {
   "cell_type": "code",
   "execution_count": 61,
   "id": "6a0dd921",
   "metadata": {
    "tags": [
     "remove-cell"
    ]
   },
   "outputs": [],
   "source": [
    "morley_hist_40 = alt.Chart(morley_rel).mark_bar(opacity=0.6).encode(\n",
    "    x = alt.X(\"relative_accuracy\", bin=alt.Bin(maxbins=40), title = \"Relative Accuracy (%)\"), \n",
    "    y=alt.Y('count()', stack=False, title = \"# Measurements\"),\n",
    "    color = alt.Color(\"Expt:N\",  title = \"Experiment ID\")).properties(height=100, width=400)\n",
    "\n",
    "morley_hist_200 = alt.Chart(morley_rel).mark_bar(opacity=0.6).encode(\n",
    "    x = alt.X(\"relative_accuracy\", bin=alt.Bin(maxbins=200), title = \"Relative Accuracy (%)\"), \n",
    "    y=alt.Y('count()', stack=False, title = \"# Measurements\"),\n",
    "    color = alt.Color(\"Expt:N\",  title = \"Experiment ID\")).properties(height=100, width=400)\n",
    "morley_hist_2 = alt.Chart(morley_rel).mark_bar(opacity=0.6).encode(\n",
    "    x = alt.X(\"relative_accuracy\", bin=alt.Bin(maxbins=2), title = \"Relative Accuracy (%)\"), \n",
    "    y=alt.Y('count()', stack=False, title = \"# Measurements\"),\n",
    "    color = alt.Color(\"Expt:N\",  title = \"Experiment ID\")).properties(height=100, width=400)\n",
    "\n",
    "morley_hist_30 = alt.Chart(morley_rel).mark_bar(opacity=0.6).encode(\n",
    "    x = alt.X(\"relative_accuracy\", bin=alt.Bin(maxbins=5), title = \"Relative Accuracy (%)\"), \n",
    "    y=alt.Y('count()', stack=False, title = \"# Measurements\"),\n",
    "    color = alt.Color(\"Expt:N\",  title = \"Experiment ID\")).properties(height=100, width=400)\n",
    "\n",
    "\n",
    "\n",
    "\n",
    "\n",
    "final_plot = ((morley_hist_200 + v_line).facet(row='Expt:N', data=morley_rel, title = \"maxBins=200\") | (morley_hist_40 + v_line).facet(row='Expt:N', data=morley_rel, title = \"maxBins=40\")) & ((morley_hist_30 + v_line).facet(row='Expt:N', data=morley_rel, title = \"maxBins=30\") | (morley_hist_2 + v_line).facet(row='Expt:N', data=morley_rel, title = \"maxBins=2\"))"
   ]
  },
  {
   "cell_type": "code",
   "execution_count": 62,
   "id": "911371ac",
   "metadata": {
    "tags": [
     "remove-cell"
    ]
   },
   "outputs": [
    {
     "data": {
      "text/html": [
       "\n",
       "<div id=\"altair-viz-a5a3289ba4f045b78a7ac1dd65e0b8bb\"></div>\n",
       "<script type=\"text/javascript\">\n",
       "  var VEGA_DEBUG = (typeof VEGA_DEBUG == \"undefined\") ? {} : VEGA_DEBUG;\n",
       "  (function(spec, embedOpt){\n",
       "    let outputDiv = document.currentScript.previousElementSibling;\n",
       "    if (outputDiv.id !== \"altair-viz-a5a3289ba4f045b78a7ac1dd65e0b8bb\") {\n",
       "      outputDiv = document.getElementById(\"altair-viz-a5a3289ba4f045b78a7ac1dd65e0b8bb\");\n",
       "    }\n",
       "    const paths = {\n",
       "      \"vega\": \"https://cdn.jsdelivr.net/npm//vega@5?noext\",\n",
       "      \"vega-lib\": \"https://cdn.jsdelivr.net/npm//vega-lib?noext\",\n",
       "      \"vega-lite\": \"https://cdn.jsdelivr.net/npm//vega-lite@4.17.0?noext\",\n",
       "      \"vega-embed\": \"https://cdn.jsdelivr.net/npm//vega-embed@6?noext\",\n",
       "    };\n",
       "\n",
       "    function maybeLoadScript(lib, version) {\n",
       "      var key = `${lib.replace(\"-\", \"\")}_version`;\n",
       "      return (VEGA_DEBUG[key] == version) ?\n",
       "        Promise.resolve(paths[lib]) :\n",
       "        new Promise(function(resolve, reject) {\n",
       "          var s = document.createElement('script');\n",
       "          document.getElementsByTagName(\"head\")[0].appendChild(s);\n",
       "          s.async = true;\n",
       "          s.onload = () => {\n",
       "            VEGA_DEBUG[key] = version;\n",
       "            return resolve(paths[lib]);\n",
       "          };\n",
       "          s.onerror = () => reject(`Error loading script: ${paths[lib]}`);\n",
       "          s.src = paths[lib];\n",
       "        });\n",
       "    }\n",
       "\n",
       "    function showError(err) {\n",
       "      outputDiv.innerHTML = `<div class=\"error\" style=\"color:red;\">${err}</div>`;\n",
       "      throw err;\n",
       "    }\n",
       "\n",
       "    function displayChart(vegaEmbed) {\n",
       "      vegaEmbed(outputDiv, spec, embedOpt)\n",
       "        .catch(err => showError(`Javascript Error: ${err.message}<br>This usually means there's a typo in your chart specification. See the javascript console for the full traceback.`));\n",
       "    }\n",
       "\n",
       "    if(typeof define === \"function\" && define.amd) {\n",
       "      requirejs.config({paths});\n",
       "      require([\"vega-embed\"], displayChart, err => showError(`Error loading script: ${err.message}`));\n",
       "    } else {\n",
       "      maybeLoadScript(\"vega\", \"5\")\n",
       "        .then(() => maybeLoadScript(\"vega-lite\", \"4.17.0\"))\n",
       "        .then(() => maybeLoadScript(\"vega-embed\", \"6\"))\n",
       "        .catch(showError)\n",
       "        .then(() => displayChart(vegaEmbed));\n",
       "    }\n",
       "  })({\"config\": {\"view\": {\"continuousWidth\": 400, \"continuousHeight\": 300}}, \"vconcat\": [{\"hconcat\": [{\"facet\": {\"row\": {\"field\": \"Expt\", \"type\": \"nominal\"}}, \"spec\": {\"layer\": [{\"data\": {\"name\": \"data-1e61acf23f6299bc481d4a56ec8b6596\"}, \"mark\": {\"type\": \"bar\", \"opacity\": 0.6}, \"encoding\": {\"color\": {\"field\": \"Expt\", \"title\": \"Experiment ID\", \"type\": \"nominal\"}, \"x\": {\"bin\": {\"maxbins\": 200}, \"field\": \"relative_accuracy\", \"title\": \"Relative Accuracy (%)\", \"type\": \"quantitative\"}, \"y\": {\"aggregate\": \"count\", \"stack\": false, \"title\": \"# Measurements\", \"type\": \"quantitative\"}}, \"height\": 100, \"width\": 400}, {\"data\": {\"name\": \"data-9c00aa9dc2b1c1a0b4bf9b34ead12925\"}, \"mark\": {\"type\": \"rule\", \"size\": 2, \"strokeDash\": [3, 3]}, \"encoding\": {\"x\": {\"field\": \"x\", \"type\": \"quantitative\"}}}]}, \"title\": \"maxBins=200\"}, {\"facet\": {\"row\": {\"field\": \"Expt\", \"type\": \"nominal\"}}, \"spec\": {\"layer\": [{\"data\": {\"name\": \"data-1e61acf23f6299bc481d4a56ec8b6596\"}, \"mark\": {\"type\": \"bar\", \"opacity\": 0.6}, \"encoding\": {\"color\": {\"field\": \"Expt\", \"title\": \"Experiment ID\", \"type\": \"nominal\"}, \"x\": {\"bin\": {\"maxbins\": 40}, \"field\": \"relative_accuracy\", \"title\": \"Relative Accuracy (%)\", \"type\": \"quantitative\"}, \"y\": {\"aggregate\": \"count\", \"stack\": false, \"title\": \"# Measurements\", \"type\": \"quantitative\"}}, \"height\": 100, \"width\": 400}, {\"data\": {\"name\": \"data-9c00aa9dc2b1c1a0b4bf9b34ead12925\"}, \"mark\": {\"type\": \"rule\", \"size\": 2, \"strokeDash\": [3, 3]}, \"encoding\": {\"x\": {\"field\": \"x\", \"type\": \"quantitative\"}}}]}, \"title\": \"maxBins=40\"}]}, {\"hconcat\": [{\"facet\": {\"row\": {\"field\": \"Expt\", \"type\": \"nominal\"}}, \"spec\": {\"layer\": [{\"data\": {\"name\": \"data-1e61acf23f6299bc481d4a56ec8b6596\"}, \"mark\": {\"type\": \"bar\", \"opacity\": 0.6}, \"encoding\": {\"color\": {\"field\": \"Expt\", \"title\": \"Experiment ID\", \"type\": \"nominal\"}, \"x\": {\"bin\": {\"maxbins\": 5}, \"field\": \"relative_accuracy\", \"title\": \"Relative Accuracy (%)\", \"type\": \"quantitative\"}, \"y\": {\"aggregate\": \"count\", \"stack\": false, \"title\": \"# Measurements\", \"type\": \"quantitative\"}}, \"height\": 100, \"width\": 400}, {\"data\": {\"name\": \"data-9c00aa9dc2b1c1a0b4bf9b34ead12925\"}, \"mark\": {\"type\": \"rule\", \"size\": 2, \"strokeDash\": [3, 3]}, \"encoding\": {\"x\": {\"field\": \"x\", \"type\": \"quantitative\"}}}]}, \"title\": \"maxBins=30\"}, {\"facet\": {\"row\": {\"field\": \"Expt\", \"type\": \"nominal\"}}, \"spec\": {\"layer\": [{\"data\": {\"name\": \"data-1e61acf23f6299bc481d4a56ec8b6596\"}, \"mark\": {\"type\": \"bar\", \"opacity\": 0.6}, \"encoding\": {\"color\": {\"field\": \"Expt\", \"title\": \"Experiment ID\", \"type\": \"nominal\"}, \"x\": {\"bin\": {\"maxbins\": 2}, \"field\": \"relative_accuracy\", \"title\": \"Relative Accuracy (%)\", \"type\": \"quantitative\"}, \"y\": {\"aggregate\": \"count\", \"stack\": false, \"title\": \"# Measurements\", \"type\": \"quantitative\"}}, \"height\": 100, \"width\": 400}, {\"data\": {\"name\": \"data-9c00aa9dc2b1c1a0b4bf9b34ead12925\"}, \"mark\": {\"type\": \"rule\", \"size\": 2, \"strokeDash\": [3, 3]}, \"encoding\": {\"x\": {\"field\": \"x\", \"type\": \"quantitative\"}}}]}, \"title\": \"maxBins=2\"}]}], \"data\": {\"name\": \"data-1e61acf23f6299bc481d4a56ec8b6596\"}, \"$schema\": \"https://vega.github.io/schema/vega-lite/v4.17.0.json\", \"datasets\": {\"data-1e61acf23f6299bc481d4a56ec8b6596\": [{\"Expt\": 1, \"Run\": 1, \"Speed\": 850, \"relative_accuracy\": 0.01919394516589735}, {\"Expt\": 1, \"Run\": 2, \"Speed\": 740, \"relative_accuracy\": -0.01749810530589938}, {\"Expt\": 1, \"Run\": 3, \"Speed\": 900, \"relative_accuracy\": 0.03587214992580495}, {\"Expt\": 1, \"Run\": 4, \"Speed\": 1070, \"relative_accuracy\": 0.0925780461094908}, {\"Expt\": 1, \"Run\": 5, \"Speed\": 930, \"relative_accuracy\": 0.04587907278174951}, {\"Expt\": 1, \"Run\": 6, \"Speed\": 850, \"relative_accuracy\": 0.01919394516589735}, {\"Expt\": 1, \"Run\": 7, \"Speed\": 950, \"relative_accuracy\": 0.05255035468571256}, {\"Expt\": 1, \"Run\": 8, \"Speed\": 980, \"relative_accuracy\": 0.06255727754165712}, {\"Expt\": 1, \"Run\": 9, \"Speed\": 980, \"relative_accuracy\": 0.06255727754165712}, {\"Expt\": 1, \"Run\": 10, \"Speed\": 880, \"relative_accuracy\": 0.029200868021841908}, {\"Expt\": 1, \"Run\": 11, \"Speed\": 1000, \"relative_accuracy\": 0.06922855944562016}, {\"Expt\": 1, \"Run\": 12, \"Speed\": 980, \"relative_accuracy\": 0.06255727754165712}, {\"Expt\": 1, \"Run\": 13, \"Speed\": 930, \"relative_accuracy\": 0.04587907278174951}, {\"Expt\": 1, \"Run\": 14, \"Speed\": 650, \"relative_accuracy\": -0.04751887387373307}, {\"Expt\": 1, \"Run\": 15, \"Speed\": 760, \"relative_accuracy\": -0.01082682340193634}, {\"Expt\": 1, \"Run\": 16, \"Speed\": 810, \"relative_accuracy\": 0.005851381357971265}, {\"Expt\": 1, \"Run\": 17, \"Speed\": 1000, \"relative_accuracy\": 0.06922855944562016}, {\"Expt\": 1, \"Run\": 18, \"Speed\": 1000, \"relative_accuracy\": 0.06922855944562016}, {\"Expt\": 1, \"Run\": 19, \"Speed\": 960, \"relative_accuracy\": 0.05588599563769407}, {\"Expt\": 1, \"Run\": 20, \"Speed\": 960, \"relative_accuracy\": 0.05588599563769407}, {\"Expt\": 2, \"Run\": 1, \"Speed\": 960, \"relative_accuracy\": 0.05588599563769407}, {\"Expt\": 2, \"Run\": 2, \"Speed\": 940, \"relative_accuracy\": 0.049214713733731034}, {\"Expt\": 2, \"Run\": 3, \"Speed\": 960, \"relative_accuracy\": 0.05588599563769407}, {\"Expt\": 2, \"Run\": 4, \"Speed\": 940, \"relative_accuracy\": 0.049214713733731034}, {\"Expt\": 2, \"Run\": 5, \"Speed\": 880, \"relative_accuracy\": 0.029200868021841908}, {\"Expt\": 2, \"Run\": 6, \"Speed\": 800, \"relative_accuracy\": 0.0025157404059897442}, {\"Expt\": 2, \"Run\": 7, \"Speed\": 850, \"relative_accuracy\": 0.01919394516589735}, {\"Expt\": 2, \"Run\": 8, \"Speed\": 880, \"relative_accuracy\": 0.029200868021841908}, {\"Expt\": 2, \"Run\": 9, \"Speed\": 900, \"relative_accuracy\": 0.03587214992580495}, {\"Expt\": 2, \"Run\": 10, \"Speed\": 840, \"relative_accuracy\": 0.015858304213915826}, {\"Expt\": 2, \"Run\": 11, \"Speed\": 830, \"relative_accuracy\": 0.012522663261934306}, {\"Expt\": 2, \"Run\": 12, \"Speed\": 790, \"relative_accuracy\": -0.0008199005459917767}, {\"Expt\": 2, \"Run\": 13, \"Speed\": 810, \"relative_accuracy\": 0.005851381357971265}, {\"Expt\": 2, \"Run\": 14, \"Speed\": 880, \"relative_accuracy\": 0.029200868021841908}, {\"Expt\": 2, \"Run\": 15, \"Speed\": 880, \"relative_accuracy\": 0.029200868021841908}, {\"Expt\": 2, \"Run\": 16, \"Speed\": 830, \"relative_accuracy\": 0.012522663261934306}, {\"Expt\": 2, \"Run\": 17, \"Speed\": 800, \"relative_accuracy\": 0.0025157404059897442}, {\"Expt\": 2, \"Run\": 18, \"Speed\": 790, \"relative_accuracy\": -0.0008199005459917767}, {\"Expt\": 2, \"Run\": 19, \"Speed\": 760, \"relative_accuracy\": -0.01082682340193634}, {\"Expt\": 2, \"Run\": 20, \"Speed\": 800, \"relative_accuracy\": 0.0025157404059897442}, {\"Expt\": 3, \"Run\": 1, \"Speed\": 880, \"relative_accuracy\": 0.029200868021841908}, {\"Expt\": 3, \"Run\": 2, \"Speed\": 880, \"relative_accuracy\": 0.029200868021841908}, {\"Expt\": 3, \"Run\": 3, \"Speed\": 880, \"relative_accuracy\": 0.029200868021841908}, {\"Expt\": 3, \"Run\": 4, \"Speed\": 860, \"relative_accuracy\": 0.022529586117878867}, {\"Expt\": 3, \"Run\": 5, \"Speed\": 720, \"relative_accuracy\": -0.02416938720986242}, {\"Expt\": 3, \"Run\": 6, \"Speed\": 720, \"relative_accuracy\": -0.02416938720986242}, {\"Expt\": 3, \"Run\": 7, \"Speed\": 620, \"relative_accuracy\": -0.05752579672967763}, {\"Expt\": 3, \"Run\": 8, \"Speed\": 860, \"relative_accuracy\": 0.022529586117878867}, {\"Expt\": 3, \"Run\": 9, \"Speed\": 970, \"relative_accuracy\": 0.059221636589675594}, {\"Expt\": 3, \"Run\": 10, \"Speed\": 950, \"relative_accuracy\": 0.05255035468571256}, {\"Expt\": 3, \"Run\": 11, \"Speed\": 880, \"relative_accuracy\": 0.029200868021841908}, {\"Expt\": 3, \"Run\": 12, \"Speed\": 910, \"relative_accuracy\": 0.039207790877786475}, {\"Expt\": 3, \"Run\": 13, \"Speed\": 850, \"relative_accuracy\": 0.01919394516589735}, {\"Expt\": 3, \"Run\": 14, \"Speed\": 870, \"relative_accuracy\": 0.02586522706986039}, {\"Expt\": 3, \"Run\": 15, \"Speed\": 840, \"relative_accuracy\": 0.015858304213915826}, {\"Expt\": 3, \"Run\": 16, \"Speed\": 840, \"relative_accuracy\": 0.015858304213915826}, {\"Expt\": 3, \"Run\": 17, \"Speed\": 850, \"relative_accuracy\": 0.01919394516589735}, {\"Expt\": 3, \"Run\": 18, \"Speed\": 840, \"relative_accuracy\": 0.015858304213915826}, {\"Expt\": 3, \"Run\": 19, \"Speed\": 840, \"relative_accuracy\": 0.015858304213915826}, {\"Expt\": 3, \"Run\": 20, \"Speed\": 840, \"relative_accuracy\": 0.015858304213915826}, {\"Expt\": 4, \"Run\": 1, \"Speed\": 890, \"relative_accuracy\": 0.03253650897382343}, {\"Expt\": 4, \"Run\": 2, \"Speed\": 810, \"relative_accuracy\": 0.005851381357971265}, {\"Expt\": 4, \"Run\": 3, \"Speed\": 810, \"relative_accuracy\": 0.005851381357971265}, {\"Expt\": 4, \"Run\": 4, \"Speed\": 820, \"relative_accuracy\": 0.009187022309952785}, {\"Expt\": 4, \"Run\": 5, \"Speed\": 800, \"relative_accuracy\": 0.0025157404059897442}, {\"Expt\": 4, \"Run\": 6, \"Speed\": 770, \"relative_accuracy\": -0.007491182449954818}, {\"Expt\": 4, \"Run\": 7, \"Speed\": 760, \"relative_accuracy\": -0.01082682340193634}, {\"Expt\": 4, \"Run\": 8, \"Speed\": 740, \"relative_accuracy\": -0.01749810530589938}, {\"Expt\": 4, \"Run\": 9, \"Speed\": 750, \"relative_accuracy\": -0.01416246435391786}, {\"Expt\": 4, \"Run\": 10, \"Speed\": 760, \"relative_accuracy\": -0.01082682340193634}, {\"Expt\": 4, \"Run\": 11, \"Speed\": 910, \"relative_accuracy\": 0.039207790877786475}, {\"Expt\": 4, \"Run\": 12, \"Speed\": 920, \"relative_accuracy\": 0.04254343182976799}, {\"Expt\": 4, \"Run\": 13, \"Speed\": 890, \"relative_accuracy\": 0.03253650897382343}, {\"Expt\": 4, \"Run\": 14, \"Speed\": 860, \"relative_accuracy\": 0.022529586117878867}, {\"Expt\": 4, \"Run\": 15, \"Speed\": 880, \"relative_accuracy\": 0.029200868021841908}, {\"Expt\": 4, \"Run\": 16, \"Speed\": 720, \"relative_accuracy\": -0.02416938720986242}, {\"Expt\": 4, \"Run\": 17, \"Speed\": 840, \"relative_accuracy\": 0.015858304213915826}, {\"Expt\": 4, \"Run\": 18, \"Speed\": 850, \"relative_accuracy\": 0.01919394516589735}, {\"Expt\": 4, \"Run\": 19, \"Speed\": 850, \"relative_accuracy\": 0.01919394516589735}, {\"Expt\": 4, \"Run\": 20, \"Speed\": 780, \"relative_accuracy\": -0.004155541497973298}, {\"Expt\": 5, \"Run\": 1, \"Speed\": 890, \"relative_accuracy\": 0.03253650897382343}, {\"Expt\": 5, \"Run\": 2, \"Speed\": 840, \"relative_accuracy\": 0.015858304213915826}, {\"Expt\": 5, \"Run\": 3, \"Speed\": 780, \"relative_accuracy\": -0.004155541497973298}, {\"Expt\": 5, \"Run\": 4, \"Speed\": 810, \"relative_accuracy\": 0.005851381357971265}, {\"Expt\": 5, \"Run\": 5, \"Speed\": 760, \"relative_accuracy\": -0.01082682340193634}, {\"Expt\": 5, \"Run\": 6, \"Speed\": 810, \"relative_accuracy\": 0.005851381357971265}, {\"Expt\": 5, \"Run\": 7, \"Speed\": 790, \"relative_accuracy\": -0.0008199005459917767}, {\"Expt\": 5, \"Run\": 8, \"Speed\": 810, \"relative_accuracy\": 0.005851381357971265}, {\"Expt\": 5, \"Run\": 9, \"Speed\": 820, \"relative_accuracy\": 0.009187022309952785}, {\"Expt\": 5, \"Run\": 10, \"Speed\": 850, \"relative_accuracy\": 0.01919394516589735}, {\"Expt\": 5, \"Run\": 11, \"Speed\": 870, \"relative_accuracy\": 0.02586522706986039}, {\"Expt\": 5, \"Run\": 12, \"Speed\": 870, \"relative_accuracy\": 0.02586522706986039}, {\"Expt\": 5, \"Run\": 13, \"Speed\": 810, \"relative_accuracy\": 0.005851381357971265}, {\"Expt\": 5, \"Run\": 14, \"Speed\": 740, \"relative_accuracy\": -0.01749810530589938}, {\"Expt\": 5, \"Run\": 15, \"Speed\": 810, \"relative_accuracy\": 0.005851381357971265}, {\"Expt\": 5, \"Run\": 16, \"Speed\": 940, \"relative_accuracy\": 0.049214713733731034}, {\"Expt\": 5, \"Run\": 17, \"Speed\": 950, \"relative_accuracy\": 0.05255035468571256}, {\"Expt\": 5, \"Run\": 18, \"Speed\": 800, \"relative_accuracy\": 0.0025157404059897442}, {\"Expt\": 5, \"Run\": 19, \"Speed\": 810, \"relative_accuracy\": 0.005851381357971265}, {\"Expt\": 5, \"Run\": 20, \"Speed\": 870, \"relative_accuracy\": 0.02586522706986039}], \"data-9c00aa9dc2b1c1a0b4bf9b34ead12925\": [{\"x\": 0}]}}, {\"mode\": \"vega-lite\"});\n",
       "</script>"
      ],
      "text/plain": [
       "alt.VConcatChart(...)"
      ]
     },
     "metadata": {
      "scrapbook": {
       "mime_prefix": "",
       "name": "final_plot"
      }
     },
     "output_type": "display_data"
    }
   ],
   "source": [
    "glue('final_plot', final_plot, display=True)"
   ]
  },
  {
   "cell_type": "markdown",
   "id": "5c730b00",
   "metadata": {},
   "source": [
    ":::{glue:figure} final_plot\n",
    ":figwidth: 700px \n",
    ":name: final_plot\n",
    "\n",
    "Effect of varying number of max bins on histograms.\n",
    ":::\n",
    "\n",
    "#### Adding layers to a `ggplot` plot object {-}\n",
    "\n",
    "One of the powerful features of `ggplot` is that you \n",
    "can continue to iterate on a single plot object, adding and refining\n",
    "one layer \\index{ggplot!add layer} at a time. If you stored your plot as a named object\n",
    "using the assignment symbol (`<-`), you can \n",
    "add to it using the `+` operator.\n",
    "For example, if we wanted to add a title to the last plot we created (`morley_hist`), \n",
    "we can use the `+` operator to add a title layer with the `ggtitle` function.\n",
    "The result is shown in Figure \\@ref(fig:03-data-morley-hist-addlayer).\n",
    "\n",
    "```{r 03-data-morley-hist-addlayer, warning = FALSE, message = FALSE, fig.height = 5.25, fig.width = 4.5, fig.align = \"center\", fig.pos = \"H\", out.extra=\"\", fig.cap = \"Histogram of relative accuracy split vertically by experiment with a descriptive title highlighting the take home message of the visualization.\"}\n",
    "morley_hist_title <- morley_hist +\n",
    "  ggtitle(\"Speed of light experiments \\n were accurate to about 0.05%\")\n",
    "\n",
    "morley_hist_title\n",
    "```\n",
    "\n",
    "> **Note:** Good visualization titles clearly communicate \n",
    "> the take home message to the audience. Typically, \n",
    "> that is the answer to the question you posed before making the visualization.\n",
    "\n",
    "## Explaining the visualization\n",
    "#### *Tell a story* {-}\n",
    "\n",
    "Typically, your visualization will not be shown entirely on its own, but rather\n",
    "it will be part of a larger presentation.  Further, visualizations can provide\n",
    "supporting information for any aspect of a presentation, from opening to\n",
    "conclusion.  For example, you could use an exploratory visualization in the\n",
    "opening of the presentation to motivate your choice of a more detailed data\n",
    "analysis / model, a visualization of the results of your analysis to show what\n",
    "your analysis has uncovered, or even one at the end of a presentation to help\n",
    "suggest directions for future work. \n",
    "\n",
    "Regardless of where it appears, a good way to discuss your visualization \\index{visualization!explanation} is as\n",
    "a story: \n",
    "\n",
    "1) Establish the setting and scope, and describe why you did what you did. \n",
    "2) Pose the question that your visualization answers. Justify why the question is important to answer.\n",
    "3) Answer the question using your visualization. Make sure you describe *all* aspects of the visualization (including describing the axes). But you \n",
    "   can emphasize different aspects based on what is important to answer your question:\n",
    "    - **trends (lines):** Does a line describe the trend well? If so, the trend is *linear*, and if not, the trend is *nonlinear*. Is the trend increasing, decreasing, or neither?\n",
    "                        Is there a periodic oscillation (wiggle) in the trend? Is the trend noisy (does the line \"jump around\" a lot) or smooth?\n",
    "    - **distributions (scatters, histograms):** How spread out are the data? Where are they centered, roughly? Are there any obvious \"clusters\" or \"subgroups\", which would be visible as multiple bumps in the histogram?\n",
    "    - **distributions of two variables (scatters):** Is there a clear / strong relationship between the variables (points fall in a distinct pattern), a weak one (points fall in a pattern but there is some noise), or no discernible\n",
    "      relationship (the data are too noisy to make any conclusion)?\n",
    "    - **amounts (bars):** How large are the bars relative to one another? Are there patterns in different groups of bars? \n",
    "4) Summarize your findings, and use them to motivate whatever you will discuss next.\n",
    "\n",
    "Below are two examples of how one might take these four steps in describing the example visualizations that appeared earlier in this chapter.\n",
    "Each of the steps is denoted by its numeral in parentheses, e.g. (3).\n",
    "\n",
    "**Mauna Loa Atmospheric CO$_{\\text{2}}$ Measurements:** (1) \\index{Mauna Loa} Many \n",
    "current forms of energy generation and conversion&mdash;from automotive\n",
    "engines to natural gas power plants&mdash;rely on burning fossil fuels and produce\n",
    "greenhouse gases, typically primarily carbon dioxide (CO$_{\\text{2}}$), as a\n",
    "byproduct. Too much of these gases in the Earth's atmosphere will cause it to\n",
    "trap more heat from the sun, leading to global warming. (2) In order to assess\n",
    "how quickly the atmospheric concentration of CO$_{\\text{2}}$ is increasing over\n",
    "time, we (3) used a data set from the Mauna Loa observatory in Hawaii,\n",
    "consisting of CO$_{\\text{2}}$ measurements from 1980 to 2020. We plotted the\n",
    "measured concentration of CO$_{\\text{2}}$ (on the vertical axis) over time (on\n",
    "the horizontal axis). From this plot, you can see a clear, increasing, and\n",
    "generally linear trend over time. There is also a periodic oscillation that\n",
    "occurs once per year and aligns with Hawaii's seasons, with an amplitude that\n",
    "is small relative to the growth in the overall trend. This shows that\n",
    "atmospheric CO$_{\\text{2}}$ is clearly increasing over time, and (4) it is\n",
    "perhaps worth investigating more into the causes.\n",
    "\n",
    "**Michelson Light Speed Experiments:** (1) \\index{Michelson speed of light} Our\n",
    "modern understanding of the physics of light has advanced significantly from\n",
    "the late 1800s when Michelson and Morley's experiments first demonstrated that\n",
    "it had a finite speed. We now know, based on modern experiments, that it moves at\n",
    "roughly 299,792.458 kilometers per second. (2) But how accurately were we first\n",
    "able to measure this fundamental physical constant, and did certain experiments\n",
    "produce more accurate results than others?  (3) To better understand this, we\n",
    "plotted data from 5 experiments by Michelson in 1879, each with 20 trials, as\n",
    "histograms stacked on top of one another.  The horizontal axis shows the\n",
    "accuracy of the measurements relative to the true speed of light as we know it\n",
    "today, expressed as a percentage.  From this visualization, you can see that\n",
    "most results had relative errors of at most 0.05%. You can also see that\n",
    "experiments 1 and 3 had measurements that were the farthest from the true\n",
    "value, and experiment 5 tended to provide the most consistently accurate\n",
    "result. (4) It would be worth further investigating the differences between\n",
    "these experiments to see why they produced different results.\n",
    "\n",
    "## Saving the visualization\n",
    "#### *Choose the right output format for your needs* {-}\n",
    "\n",
    "Just as there are many ways to store data sets, there are many ways to store\n",
    "visualizations and images.  Which one you choose can depend on several factors,\n",
    "such as file size/type limitations (e.g., if you are submitting your\n",
    "visualization as part of a conference paper or to a poster printing shop) and\n",
    "where it will be displayed (e.g., online, in a paper, on a poster, on a\n",
    "billboard, in talk slides).  Generally speaking, images come in two flavors:\n",
    "*raster* \\index{bitmap|see{raster graphics}}\\index{raster graphics} formats \n",
    "and *vector* \\index{vector graphics} formats.\n",
    "\n",
    "**Raster** images are represented as a 2-D grid of square pixels, each\n",
    "with its own color. Raster images are often *compressed* before storing so they\n",
    "take up less space. A compressed format is *lossy* if the image cannot be\n",
    "perfectly re-created when loading and displaying, with the hope that the change\n",
    "is not noticeable. *Lossless* formats, on the other hand, allow a perfect\n",
    "display of the original image.\n",
    "\\index{raster graphics!file types}\n",
    "\n",
    "- *Common file types:* \n",
    "    - [JPEG](https://en.wikipedia.org/wiki/JPEG) (`.jpg`, `.jpeg`): lossy, usually used for photographs \n",
    "    - [PNG](https://en.wikipedia.org/wiki/Portable_Network_Graphics) (`.png`): lossless, usually used for plots / line drawings\n",
    "    - [BMP](https://en.wikipedia.org/wiki/BMP_file_format) (`.bmp`): lossless, raw image data, no compression (rarely used)\n",
    "    - [TIFF](https://en.wikipedia.org/wiki/TIFF) (`.tif`, `.tiff`): typically lossless, no compression, used mostly in graphic arts, publishing\n",
    "- *Open-source software:* [GIMP](https://www.gimp.org/)\n",
    "\n",
    "**Vector** images are represented as a collection of mathematical \n",
    "objects (lines, surfaces, shapes, curves). When the computer displays the image, it \n",
    "redraws all of the elements using their mathematical formulas.\n",
    "\\index{vector graphics!file types}\n",
    "\n",
    "- *Common file types:* \n",
    "    - [SVG](https://en.wikipedia.org/wiki/Scalable_Vector_Graphics) (`.svg`): general-purpose use \n",
    "    - [EPS](https://en.wikipedia.org/wiki/Encapsulated_PostScript) (`.eps`), general-purpose use (rarely used)\n",
    "- *Open-source software:* [Inkscape](https://inkscape.org/)\n",
    "\n",
    "Raster and vector images have opposing advantages and disadvantages. A raster\n",
    "image of a fixed width / height takes the same amount of space and time to load\n",
    "regardless of what the image shows (the one caveat is that the compression algorithms may\n",
    "shrink the image more or run faster for certain images). A vector image takes\n",
    "space and time to load corresponding to how complex the image is, since the\n",
    "computer has to draw all the elements each time it is displayed. For example,\n",
    "if you have a scatter plot with 1 million points stored as an SVG file, it may\n",
    "take your computer some time to open the image. On the other hand, you can zoom\n",
    "into / scale up vector graphics as much as you like without the image looking\n",
    "bad, while raster images eventually start to look \"pixelated.\" \n",
    "\n",
    "> **Note:** The portable document format [PDF](https://en.wikipedia.org/wiki/PDF) (`.pdf`) is commonly used to\n",
    "> store *both* raster and vector formats. If you try to open a PDF and it's taking a long time\n",
    "> to load, it may be because there is a complicated vector graphics image that your computer is rendering. \n",
    "\\index{PDF}\n",
    "\\index{portable document format|see{PDF}}\n",
    "\n",
    "Let's learn how to save plot images to these different file formats using a \n",
    "scatter plot of \n",
    "the [Old Faithful data set](https://www.stat.cmu.edu/~larry/all-of-statistics/=data/faithful.dat) [@faithfuldata],\n",
    "shown in Figure \\@ref(fig:03-plot-line).\n",
    "\n",
    "```{r 03-plot-line, collapse=TRUE, warning=FALSE, message=FALSE, fig.width = 3.75, fig.height = 3.5, fig.pos = \"H\", out.extra=\"\", fig.cap = \"Scatter plot of waiting time and eruption time.\"}\n",
    "library(svglite) # we need this to save SVG files\n",
    "faithful_plot <- ggplot(data = faithful, aes(x = waiting, y = eruptions)) +\n",
    "  geom_point() +\n",
    "  labs(x = \"Waiting time to next eruption \\n (minutes)\",\n",
    "       y = \"Eruption time \\n (minutes)\") + \n",
    "  theme(text = element_text(size = 12))\n",
    "\n",
    "faithful_plot\n",
    "```"
   ]
  },
  {
   "cell_type": "code",
   "execution_count": 63,
   "id": "b746b23a",
   "metadata": {},
   "outputs": [],
   "source": [
    "faithful_plot = alt.Chart(faithful).mark_point(filled=True).encode(\n",
    "    x = alt.X('waiting', title = \"Waiting time to next eruption (minutes)\"),\n",
    "    y = alt.Y('eruptions', title = \"Eruption time (minutes)\")).configure_axis(\n",
    "    titleFontSize=12)\n"
   ]
  },
  {
   "cell_type": "code",
   "execution_count": 64,
   "id": "d71f96e1",
   "metadata": {
    "tags": [
     "remove-cell"
    ]
   },
   "outputs": [
    {
     "data": {
      "text/html": [
       "\n",
       "<div id=\"altair-viz-60263f48ca1a47afba4f50dbc9456f35\"></div>\n",
       "<script type=\"text/javascript\">\n",
       "  var VEGA_DEBUG = (typeof VEGA_DEBUG == \"undefined\") ? {} : VEGA_DEBUG;\n",
       "  (function(spec, embedOpt){\n",
       "    let outputDiv = document.currentScript.previousElementSibling;\n",
       "    if (outputDiv.id !== \"altair-viz-60263f48ca1a47afba4f50dbc9456f35\") {\n",
       "      outputDiv = document.getElementById(\"altair-viz-60263f48ca1a47afba4f50dbc9456f35\");\n",
       "    }\n",
       "    const paths = {\n",
       "      \"vega\": \"https://cdn.jsdelivr.net/npm//vega@5?noext\",\n",
       "      \"vega-lib\": \"https://cdn.jsdelivr.net/npm//vega-lib?noext\",\n",
       "      \"vega-lite\": \"https://cdn.jsdelivr.net/npm//vega-lite@4.17.0?noext\",\n",
       "      \"vega-embed\": \"https://cdn.jsdelivr.net/npm//vega-embed@6?noext\",\n",
       "    };\n",
       "\n",
       "    function maybeLoadScript(lib, version) {\n",
       "      var key = `${lib.replace(\"-\", \"\")}_version`;\n",
       "      return (VEGA_DEBUG[key] == version) ?\n",
       "        Promise.resolve(paths[lib]) :\n",
       "        new Promise(function(resolve, reject) {\n",
       "          var s = document.createElement('script');\n",
       "          document.getElementsByTagName(\"head\")[0].appendChild(s);\n",
       "          s.async = true;\n",
       "          s.onload = () => {\n",
       "            VEGA_DEBUG[key] = version;\n",
       "            return resolve(paths[lib]);\n",
       "          };\n",
       "          s.onerror = () => reject(`Error loading script: ${paths[lib]}`);\n",
       "          s.src = paths[lib];\n",
       "        });\n",
       "    }\n",
       "\n",
       "    function showError(err) {\n",
       "      outputDiv.innerHTML = `<div class=\"error\" style=\"color:red;\">${err}</div>`;\n",
       "      throw err;\n",
       "    }\n",
       "\n",
       "    function displayChart(vegaEmbed) {\n",
       "      vegaEmbed(outputDiv, spec, embedOpt)\n",
       "        .catch(err => showError(`Javascript Error: ${err.message}<br>This usually means there's a typo in your chart specification. See the javascript console for the full traceback.`));\n",
       "    }\n",
       "\n",
       "    if(typeof define === \"function\" && define.amd) {\n",
       "      requirejs.config({paths});\n",
       "      require([\"vega-embed\"], displayChart, err => showError(`Error loading script: ${err.message}`));\n",
       "    } else {\n",
       "      maybeLoadScript(\"vega\", \"5\")\n",
       "        .then(() => maybeLoadScript(\"vega-lite\", \"4.17.0\"))\n",
       "        .then(() => maybeLoadScript(\"vega-embed\", \"6\"))\n",
       "        .catch(showError)\n",
       "        .then(() => displayChart(vegaEmbed));\n",
       "    }\n",
       "  })({\"config\": {\"view\": {\"continuousWidth\": 400, \"continuousHeight\": 300}, \"axis\": {\"titleFontSize\": 12}}, \"data\": {\"name\": \"data-5e01a96a81f10c72d948a86132ecb6d1\"}, \"mark\": {\"type\": \"point\", \"filled\": true}, \"encoding\": {\"x\": {\"field\": \"waiting\", \"title\": \"Waiting time to next eruption (minutes)\", \"type\": \"quantitative\"}, \"y\": {\"field\": \"eruptions\", \"title\": \"Eruption time (minutes)\", \"type\": \"quantitative\"}}, \"$schema\": \"https://vega.github.io/schema/vega-lite/v4.17.0.json\", \"datasets\": {\"data-5e01a96a81f10c72d948a86132ecb6d1\": [{\"eruptions\": 3.6, \"waiting\": 79}, {\"eruptions\": 1.8, \"waiting\": 54}, {\"eruptions\": 3.333, \"waiting\": 74}, {\"eruptions\": 2.283, \"waiting\": 62}, {\"eruptions\": 4.533, \"waiting\": 85}, {\"eruptions\": 2.883, \"waiting\": 55}, {\"eruptions\": 4.7, \"waiting\": 88}, {\"eruptions\": 3.6, \"waiting\": 85}, {\"eruptions\": 1.95, \"waiting\": 51}, {\"eruptions\": 4.35, \"waiting\": 85}, {\"eruptions\": 1.833, \"waiting\": 54}, {\"eruptions\": 3.917, \"waiting\": 84}, {\"eruptions\": 4.2, \"waiting\": 78}, {\"eruptions\": 1.75, \"waiting\": 47}, {\"eruptions\": 4.7, \"waiting\": 83}, {\"eruptions\": 2.167, \"waiting\": 52}, {\"eruptions\": 1.75, \"waiting\": 62}, {\"eruptions\": 4.8, \"waiting\": 84}, {\"eruptions\": 1.6, \"waiting\": 52}, {\"eruptions\": 4.25, \"waiting\": 79}, {\"eruptions\": 1.8, \"waiting\": 51}, {\"eruptions\": 1.75, \"waiting\": 47}, {\"eruptions\": 3.45, \"waiting\": 78}, {\"eruptions\": 3.067, \"waiting\": 69}, {\"eruptions\": 4.533, \"waiting\": 74}, {\"eruptions\": 3.6, \"waiting\": 83}, {\"eruptions\": 1.967, \"waiting\": 55}, {\"eruptions\": 4.083, \"waiting\": 76}, {\"eruptions\": 3.85, \"waiting\": 78}, {\"eruptions\": 4.433, \"waiting\": 79}, {\"eruptions\": 4.3, \"waiting\": 73}, {\"eruptions\": 4.467, \"waiting\": 77}, {\"eruptions\": 3.367, \"waiting\": 66}, {\"eruptions\": 4.033, \"waiting\": 80}, {\"eruptions\": 3.833, \"waiting\": 74}, {\"eruptions\": 2.017, \"waiting\": 52}, {\"eruptions\": 1.867, \"waiting\": 48}, {\"eruptions\": 4.833, \"waiting\": 80}, {\"eruptions\": 1.833, \"waiting\": 59}, {\"eruptions\": 4.783, \"waiting\": 90}, {\"eruptions\": 4.35, \"waiting\": 80}, {\"eruptions\": 1.883, \"waiting\": 58}, {\"eruptions\": 4.567, \"waiting\": 84}, {\"eruptions\": 1.75, \"waiting\": 58}, {\"eruptions\": 4.533, \"waiting\": 73}, {\"eruptions\": 3.317, \"waiting\": 83}, {\"eruptions\": 3.833, \"waiting\": 64}, {\"eruptions\": 2.1, \"waiting\": 53}, {\"eruptions\": 4.633, \"waiting\": 82}, {\"eruptions\": 2.0, \"waiting\": 59}, {\"eruptions\": 4.8, \"waiting\": 75}, {\"eruptions\": 4.716, \"waiting\": 90}, {\"eruptions\": 1.833, \"waiting\": 54}, {\"eruptions\": 4.833, \"waiting\": 80}, {\"eruptions\": 1.733, \"waiting\": 54}, {\"eruptions\": 4.883, \"waiting\": 83}, {\"eruptions\": 3.717, \"waiting\": 71}, {\"eruptions\": 1.667, \"waiting\": 64}, {\"eruptions\": 4.567, \"waiting\": 77}, {\"eruptions\": 4.317, \"waiting\": 81}, {\"eruptions\": 2.233, \"waiting\": 59}, {\"eruptions\": 4.5, \"waiting\": 84}, {\"eruptions\": 1.75, \"waiting\": 48}, {\"eruptions\": 4.8, \"waiting\": 82}, {\"eruptions\": 1.817, \"waiting\": 60}, {\"eruptions\": 4.4, \"waiting\": 92}, {\"eruptions\": 4.167, \"waiting\": 78}, {\"eruptions\": 4.7, \"waiting\": 78}, {\"eruptions\": 2.067, \"waiting\": 65}, {\"eruptions\": 4.7, \"waiting\": 73}, {\"eruptions\": 4.033, \"waiting\": 82}, {\"eruptions\": 1.967, \"waiting\": 56}, {\"eruptions\": 4.5, \"waiting\": 79}, {\"eruptions\": 4.0, \"waiting\": 71}, {\"eruptions\": 1.983, \"waiting\": 62}, {\"eruptions\": 5.067, \"waiting\": 76}, {\"eruptions\": 2.017, \"waiting\": 60}, {\"eruptions\": 4.567, \"waiting\": 78}, {\"eruptions\": 3.883, \"waiting\": 76}, {\"eruptions\": 3.6, \"waiting\": 83}, {\"eruptions\": 4.133, \"waiting\": 75}, {\"eruptions\": 4.333, \"waiting\": 82}, {\"eruptions\": 4.1, \"waiting\": 70}, {\"eruptions\": 2.633, \"waiting\": 65}, {\"eruptions\": 4.067, \"waiting\": 73}, {\"eruptions\": 4.933, \"waiting\": 88}, {\"eruptions\": 3.95, \"waiting\": 76}, {\"eruptions\": 4.517, \"waiting\": 80}, {\"eruptions\": 2.167, \"waiting\": 48}, {\"eruptions\": 4.0, \"waiting\": 86}, {\"eruptions\": 2.2, \"waiting\": 60}, {\"eruptions\": 4.333, \"waiting\": 90}, {\"eruptions\": 1.867, \"waiting\": 50}, {\"eruptions\": 4.817, \"waiting\": 78}, {\"eruptions\": 1.833, \"waiting\": 63}, {\"eruptions\": 4.3, \"waiting\": 72}, {\"eruptions\": 4.667, \"waiting\": 84}, {\"eruptions\": 3.75, \"waiting\": 75}, {\"eruptions\": 1.867, \"waiting\": 51}, {\"eruptions\": 4.9, \"waiting\": 82}, {\"eruptions\": 2.483, \"waiting\": 62}, {\"eruptions\": 4.367, \"waiting\": 88}, {\"eruptions\": 2.1, \"waiting\": 49}, {\"eruptions\": 4.5, \"waiting\": 83}, {\"eruptions\": 4.05, \"waiting\": 81}, {\"eruptions\": 1.867, \"waiting\": 47}, {\"eruptions\": 4.7, \"waiting\": 84}, {\"eruptions\": 1.783, \"waiting\": 52}, {\"eruptions\": 4.85, \"waiting\": 86}, {\"eruptions\": 3.683, \"waiting\": 81}, {\"eruptions\": 4.733, \"waiting\": 75}, {\"eruptions\": 2.3, \"waiting\": 59}, {\"eruptions\": 4.9, \"waiting\": 89}, {\"eruptions\": 4.417, \"waiting\": 79}, {\"eruptions\": 1.7, \"waiting\": 59}, {\"eruptions\": 4.633, \"waiting\": 81}, {\"eruptions\": 2.317, \"waiting\": 50}, {\"eruptions\": 4.6, \"waiting\": 85}, {\"eruptions\": 1.817, \"waiting\": 59}, {\"eruptions\": 4.417, \"waiting\": 87}, {\"eruptions\": 2.617, \"waiting\": 53}, {\"eruptions\": 4.067, \"waiting\": 69}, {\"eruptions\": 4.25, \"waiting\": 77}, {\"eruptions\": 1.967, \"waiting\": 56}, {\"eruptions\": 4.6, \"waiting\": 88}, {\"eruptions\": 3.767, \"waiting\": 81}, {\"eruptions\": 1.917, \"waiting\": 45}, {\"eruptions\": 4.5, \"waiting\": 82}, {\"eruptions\": 2.267, \"waiting\": 55}, {\"eruptions\": 4.65, \"waiting\": 90}, {\"eruptions\": 1.867, \"waiting\": 45}, {\"eruptions\": 4.167, \"waiting\": 83}, {\"eruptions\": 2.8, \"waiting\": 56}, {\"eruptions\": 4.333, \"waiting\": 89}, {\"eruptions\": 1.833, \"waiting\": 46}, {\"eruptions\": 4.383, \"waiting\": 82}, {\"eruptions\": 1.883, \"waiting\": 51}, {\"eruptions\": 4.933, \"waiting\": 86}, {\"eruptions\": 2.033, \"waiting\": 53}, {\"eruptions\": 3.733, \"waiting\": 79}, {\"eruptions\": 4.233, \"waiting\": 81}, {\"eruptions\": 2.233, \"waiting\": 60}, {\"eruptions\": 4.533, \"waiting\": 82}, {\"eruptions\": 4.817, \"waiting\": 77}, {\"eruptions\": 4.333, \"waiting\": 76}, {\"eruptions\": 1.983, \"waiting\": 59}, {\"eruptions\": 4.633, \"waiting\": 80}, {\"eruptions\": 2.017, \"waiting\": 49}, {\"eruptions\": 5.1, \"waiting\": 96}, {\"eruptions\": 1.8, \"waiting\": 53}, {\"eruptions\": 5.033, \"waiting\": 77}, {\"eruptions\": 4.0, \"waiting\": 77}, {\"eruptions\": 2.4, \"waiting\": 65}, {\"eruptions\": 4.6, \"waiting\": 81}, {\"eruptions\": 3.567, \"waiting\": 71}, {\"eruptions\": 4.0, \"waiting\": 70}, {\"eruptions\": 4.5, \"waiting\": 81}, {\"eruptions\": 4.083, \"waiting\": 93}, {\"eruptions\": 1.8, \"waiting\": 53}, {\"eruptions\": 3.967, \"waiting\": 89}, {\"eruptions\": 2.2, \"waiting\": 45}, {\"eruptions\": 4.15, \"waiting\": 86}, {\"eruptions\": 2.0, \"waiting\": 58}, {\"eruptions\": 3.833, \"waiting\": 78}, {\"eruptions\": 3.5, \"waiting\": 66}, {\"eruptions\": 4.583, \"waiting\": 76}, {\"eruptions\": 2.367, \"waiting\": 63}, {\"eruptions\": 5.0, \"waiting\": 88}, {\"eruptions\": 1.933, \"waiting\": 52}, {\"eruptions\": 4.617, \"waiting\": 93}, {\"eruptions\": 1.917, \"waiting\": 49}, {\"eruptions\": 2.083, \"waiting\": 57}, {\"eruptions\": 4.583, \"waiting\": 77}, {\"eruptions\": 3.333, \"waiting\": 68}, {\"eruptions\": 4.167, \"waiting\": 81}, {\"eruptions\": 4.333, \"waiting\": 81}, {\"eruptions\": 4.5, \"waiting\": 73}, {\"eruptions\": 2.417, \"waiting\": 50}, {\"eruptions\": 4.0, \"waiting\": 85}, {\"eruptions\": 4.167, \"waiting\": 74}, {\"eruptions\": 1.883, \"waiting\": 55}, {\"eruptions\": 4.583, \"waiting\": 77}, {\"eruptions\": 4.25, \"waiting\": 83}, {\"eruptions\": 3.767, \"waiting\": 83}, {\"eruptions\": 2.033, \"waiting\": 51}, {\"eruptions\": 4.433, \"waiting\": 78}, {\"eruptions\": 4.083, \"waiting\": 84}, {\"eruptions\": 1.833, \"waiting\": 46}, {\"eruptions\": 4.417, \"waiting\": 83}, {\"eruptions\": 2.183, \"waiting\": 55}, {\"eruptions\": 4.8, \"waiting\": 81}, {\"eruptions\": 1.833, \"waiting\": 57}, {\"eruptions\": 4.8, \"waiting\": 76}, {\"eruptions\": 4.1, \"waiting\": 84}, {\"eruptions\": 3.966, \"waiting\": 77}, {\"eruptions\": 4.233, \"waiting\": 81}, {\"eruptions\": 3.5, \"waiting\": 87}, {\"eruptions\": 4.366, \"waiting\": 77}, {\"eruptions\": 2.25, \"waiting\": 51}, {\"eruptions\": 4.667, \"waiting\": 78}, {\"eruptions\": 2.1, \"waiting\": 60}, {\"eruptions\": 4.35, \"waiting\": 82}, {\"eruptions\": 4.133, \"waiting\": 91}, {\"eruptions\": 1.867, \"waiting\": 53}, {\"eruptions\": 4.6, \"waiting\": 78}, {\"eruptions\": 1.783, \"waiting\": 46}, {\"eruptions\": 4.367, \"waiting\": 77}, {\"eruptions\": 3.85, \"waiting\": 84}, {\"eruptions\": 1.933, \"waiting\": 49}, {\"eruptions\": 4.5, \"waiting\": 83}, {\"eruptions\": 2.383, \"waiting\": 71}, {\"eruptions\": 4.7, \"waiting\": 80}, {\"eruptions\": 1.867, \"waiting\": 49}, {\"eruptions\": 3.833, \"waiting\": 75}, {\"eruptions\": 3.417, \"waiting\": 64}, {\"eruptions\": 4.233, \"waiting\": 76}, {\"eruptions\": 2.4, \"waiting\": 53}, {\"eruptions\": 4.8, \"waiting\": 94}, {\"eruptions\": 2.0, \"waiting\": 55}, {\"eruptions\": 4.15, \"waiting\": 76}, {\"eruptions\": 1.867, \"waiting\": 50}, {\"eruptions\": 4.267, \"waiting\": 82}, {\"eruptions\": 1.75, \"waiting\": 54}, {\"eruptions\": 4.483, \"waiting\": 75}, {\"eruptions\": 4.0, \"waiting\": 78}, {\"eruptions\": 4.117, \"waiting\": 79}, {\"eruptions\": 4.083, \"waiting\": 78}, {\"eruptions\": 4.267, \"waiting\": 78}, {\"eruptions\": 3.917, \"waiting\": 70}, {\"eruptions\": 4.55, \"waiting\": 79}, {\"eruptions\": 4.083, \"waiting\": 70}, {\"eruptions\": 2.417, \"waiting\": 54}, {\"eruptions\": 4.183, \"waiting\": 86}, {\"eruptions\": 2.217, \"waiting\": 50}, {\"eruptions\": 4.45, \"waiting\": 90}, {\"eruptions\": 1.883, \"waiting\": 54}, {\"eruptions\": 1.85, \"waiting\": 54}, {\"eruptions\": 4.283, \"waiting\": 77}, {\"eruptions\": 3.95, \"waiting\": 79}, {\"eruptions\": 2.333, \"waiting\": 64}, {\"eruptions\": 4.15, \"waiting\": 75}, {\"eruptions\": 2.35, \"waiting\": 47}, {\"eruptions\": 4.933, \"waiting\": 86}, {\"eruptions\": 2.9, \"waiting\": 63}, {\"eruptions\": 4.583, \"waiting\": 85}, {\"eruptions\": 3.833, \"waiting\": 82}, {\"eruptions\": 2.083, \"waiting\": 57}, {\"eruptions\": 4.367, \"waiting\": 82}, {\"eruptions\": 2.133, \"waiting\": 67}, {\"eruptions\": 4.35, \"waiting\": 74}, {\"eruptions\": 2.2, \"waiting\": 54}, {\"eruptions\": 4.45, \"waiting\": 83}, {\"eruptions\": 3.567, \"waiting\": 73}, {\"eruptions\": 4.5, \"waiting\": 73}, {\"eruptions\": 4.15, \"waiting\": 88}, {\"eruptions\": 3.817, \"waiting\": 80}, {\"eruptions\": 3.917, \"waiting\": 71}, {\"eruptions\": 4.45, \"waiting\": 83}, {\"eruptions\": 2.0, \"waiting\": 56}, {\"eruptions\": 4.283, \"waiting\": 79}, {\"eruptions\": 4.767, \"waiting\": 78}, {\"eruptions\": 4.533, \"waiting\": 84}, {\"eruptions\": 1.85, \"waiting\": 58}, {\"eruptions\": 4.25, \"waiting\": 83}, {\"eruptions\": 1.983, \"waiting\": 43}, {\"eruptions\": 2.25, \"waiting\": 60}, {\"eruptions\": 4.75, \"waiting\": 75}, {\"eruptions\": 4.117, \"waiting\": 81}, {\"eruptions\": 2.15, \"waiting\": 46}, {\"eruptions\": 4.417, \"waiting\": 90}, {\"eruptions\": 1.817, \"waiting\": 46}, {\"eruptions\": 4.467, \"waiting\": 74}]}}, {\"mode\": \"vega-lite\"});\n",
       "</script>"
      ],
      "text/plain": [
       "alt.Chart(...)"
      ]
     },
     "metadata": {
      "scrapbook": {
       "mime_prefix": "",
       "name": "faithful_plot"
      }
     },
     "output_type": "display_data"
    }
   ],
   "source": [
    "glue('faithful_plot', faithful_plot, display=True)"
   ]
  },
  {
   "cell_type": "markdown",
   "id": "99b8c320",
   "metadata": {},
   "source": [
    ":::{glue:figure} faithful_plot\n",
    ":figwidth: 700px \n",
    ":name: faithful_plot\n",
    "\n",
    "Scatter plot of waiting time and eruption time.\n",
    ":::\n",
    "\n",
    "\n",
    "Now that we have a named `ggplot` plot object, we can use the `ggsave` function\n",
    "to save a file containing this image. \n",
    "`ggsave` works by taking a file name to create for the image \n",
    "as its first argument. \n",
    "This can include the path to the directory where you would like to save the file \n",
    "(e.g., `img/filename.png` to save a file named `filename` to the `img` directory),\n",
    "and the name of the plot object to save as its second argument.\n",
    "The kind of image to save is specified by the file extension.\n",
    "For example, \n",
    "to create a PNG image file, we specify that the file extension is `.png`.\n",
    "Below we demonstrate how to save PNG, JPG, BMP, TIFF and SVG file types \n",
    "for the `faithful_plot`:"
   ]
  },
  {
   "cell_type": "code",
   "execution_count": 65,
   "id": "44c21b9f",
   "metadata": {},
   "outputs": [
    {
     "ename": "ValueError",
     "evalue": "Saving charts in 'png' format requires the altair_saver package: see http://github.com/altair-viz/altair_saver/",
     "output_type": "error",
     "traceback": [
      "\u001b[0;31m---------------------------------------------------------------------------\u001b[0m",
      "\u001b[0;31mModuleNotFoundError\u001b[0m                       Traceback (most recent call last)",
      "File \u001b[0;32m~/opt/miniconda3/envs/dsci/lib/python3.9/site-packages/altair/utils/mimebundle.py:54\u001b[0m, in \u001b[0;36mspec_to_mimebundle\u001b[0;34m(spec, format, mode, vega_version, vegaembed_version, vegalite_version, **kwargs)\u001b[0m\n\u001b[1;32m     53\u001b[0m \u001b[38;5;28;01mtry\u001b[39;00m:\n\u001b[0;32m---> 54\u001b[0m     \u001b[38;5;28;01mimport\u001b[39;00m \u001b[38;5;21;01maltair_saver\u001b[39;00m\n\u001b[1;32m     55\u001b[0m \u001b[38;5;28;01mexcept\u001b[39;00m \u001b[38;5;167;01mImportError\u001b[39;00m:\n",
      "\u001b[0;31mModuleNotFoundError\u001b[0m: No module named 'altair_saver'",
      "\nDuring handling of the above exception, another exception occurred:\n",
      "\u001b[0;31mValueError\u001b[0m                                Traceback (most recent call last)",
      "Input \u001b[0;32mIn [65]\u001b[0m, in \u001b[0;36m<cell line: 1>\u001b[0;34m()\u001b[0m\n\u001b[0;32m----> 1\u001b[0m \u001b[43mfaithful_plot\u001b[49m\u001b[38;5;241;43m.\u001b[39;49m\u001b[43msave\u001b[49m\u001b[43m(\u001b[49m\u001b[38;5;124;43m\"\u001b[39;49m\u001b[38;5;124;43mfaithful_plot.png\u001b[39;49m\u001b[38;5;124;43m\"\u001b[39;49m\u001b[43m)\u001b[49m\n\u001b[1;32m      2\u001b[0m faithful_plot\u001b[38;5;241m.\u001b[39msave(\u001b[38;5;124m\"\u001b[39m\u001b[38;5;124mfaithful_plot.svg\u001b[39m\u001b[38;5;124m\"\u001b[39m)\n",
      "File \u001b[0;32m~/opt/miniconda3/envs/dsci/lib/python3.9/site-packages/altair/vegalite/v4/api.py:488\u001b[0m, in \u001b[0;36mTopLevelMixin.save\u001b[0;34m(self, fp, format, override_data_transformer, scale_factor, vegalite_version, vega_version, vegaembed_version, **kwargs)\u001b[0m\n\u001b[1;32m    486\u001b[0m \u001b[38;5;28;01mif\u001b[39;00m override_data_transformer:\n\u001b[1;32m    487\u001b[0m     \u001b[38;5;28;01mwith\u001b[39;00m data_transformers\u001b[38;5;241m.\u001b[39mdisable_max_rows():\n\u001b[0;32m--> 488\u001b[0m         result \u001b[38;5;241m=\u001b[39m \u001b[43msave\u001b[49m\u001b[43m(\u001b[49m\u001b[38;5;241;43m*\u001b[39;49m\u001b[38;5;241;43m*\u001b[39;49m\u001b[43mkwds\u001b[49m\u001b[43m)\u001b[49m\n\u001b[1;32m    489\u001b[0m \u001b[38;5;28;01melse\u001b[39;00m:\n\u001b[1;32m    490\u001b[0m     result \u001b[38;5;241m=\u001b[39m save(\u001b[38;5;241m*\u001b[39m\u001b[38;5;241m*\u001b[39mkwds)\n",
      "File \u001b[0;32m~/opt/miniconda3/envs/dsci/lib/python3.9/site-packages/altair/utils/save.py:116\u001b[0m, in \u001b[0;36msave\u001b[0;34m(chart, fp, vega_version, vegaembed_version, format, mode, vegalite_version, embed_options, json_kwds, webdriver, scale_factor, **kwargs)\u001b[0m\n\u001b[1;32m    114\u001b[0m     write_file_or_filename(fp, mimebundle[\u001b[38;5;124m\"\u001b[39m\u001b[38;5;124mtext/html\u001b[39m\u001b[38;5;124m\"\u001b[39m], mode\u001b[38;5;241m=\u001b[39m\u001b[38;5;124m\"\u001b[39m\u001b[38;5;124mw\u001b[39m\u001b[38;5;124m\"\u001b[39m)\n\u001b[1;32m    115\u001b[0m \u001b[38;5;28;01melif\u001b[39;00m \u001b[38;5;28mformat\u001b[39m \u001b[38;5;129;01min\u001b[39;00m [\u001b[38;5;124m\"\u001b[39m\u001b[38;5;124mpng\u001b[39m\u001b[38;5;124m\"\u001b[39m, \u001b[38;5;124m\"\u001b[39m\u001b[38;5;124msvg\u001b[39m\u001b[38;5;124m\"\u001b[39m, \u001b[38;5;124m\"\u001b[39m\u001b[38;5;124mpdf\u001b[39m\u001b[38;5;124m\"\u001b[39m]:\n\u001b[0;32m--> 116\u001b[0m     mimebundle \u001b[38;5;241m=\u001b[39m \u001b[43mspec_to_mimebundle\u001b[49m\u001b[43m(\u001b[49m\n\u001b[1;32m    117\u001b[0m \u001b[43m        \u001b[49m\u001b[43mspec\u001b[49m\u001b[38;5;241;43m=\u001b[39;49m\u001b[43mspec\u001b[49m\u001b[43m,\u001b[49m\n\u001b[1;32m    118\u001b[0m \u001b[43m        \u001b[49m\u001b[38;5;28;43mformat\u001b[39;49m\u001b[38;5;241;43m=\u001b[39;49m\u001b[38;5;28;43mformat\u001b[39;49m\u001b[43m,\u001b[49m\n\u001b[1;32m    119\u001b[0m \u001b[43m        \u001b[49m\u001b[43mmode\u001b[49m\u001b[38;5;241;43m=\u001b[39;49m\u001b[43mmode\u001b[49m\u001b[43m,\u001b[49m\n\u001b[1;32m    120\u001b[0m \u001b[43m        \u001b[49m\u001b[43mvega_version\u001b[49m\u001b[38;5;241;43m=\u001b[39;49m\u001b[43mvega_version\u001b[49m\u001b[43m,\u001b[49m\n\u001b[1;32m    121\u001b[0m \u001b[43m        \u001b[49m\u001b[43mvegalite_version\u001b[49m\u001b[38;5;241;43m=\u001b[39;49m\u001b[43mvegalite_version\u001b[49m\u001b[43m,\u001b[49m\n\u001b[1;32m    122\u001b[0m \u001b[43m        \u001b[49m\u001b[43mvegaembed_version\u001b[49m\u001b[38;5;241;43m=\u001b[39;49m\u001b[43mvegaembed_version\u001b[49m\u001b[43m,\u001b[49m\n\u001b[1;32m    123\u001b[0m \u001b[43m        \u001b[49m\u001b[43mwebdriver\u001b[49m\u001b[38;5;241;43m=\u001b[39;49m\u001b[43mwebdriver\u001b[49m\u001b[43m,\u001b[49m\n\u001b[1;32m    124\u001b[0m \u001b[43m        \u001b[49m\u001b[43mscale_factor\u001b[49m\u001b[38;5;241;43m=\u001b[39;49m\u001b[43mscale_factor\u001b[49m\u001b[43m,\u001b[49m\n\u001b[1;32m    125\u001b[0m \u001b[43m        \u001b[49m\u001b[38;5;241;43m*\u001b[39;49m\u001b[38;5;241;43m*\u001b[39;49m\u001b[43mkwargs\u001b[49m\u001b[43m,\u001b[49m\n\u001b[1;32m    126\u001b[0m \u001b[43m    \u001b[49m\u001b[43m)\u001b[49m\n\u001b[1;32m    127\u001b[0m     \u001b[38;5;28;01mif\u001b[39;00m \u001b[38;5;28mformat\u001b[39m \u001b[38;5;241m==\u001b[39m \u001b[38;5;124m\"\u001b[39m\u001b[38;5;124mpng\u001b[39m\u001b[38;5;124m\"\u001b[39m:\n\u001b[1;32m    128\u001b[0m         write_file_or_filename(fp, mimebundle[\u001b[38;5;124m\"\u001b[39m\u001b[38;5;124mimage/png\u001b[39m\u001b[38;5;124m\"\u001b[39m], mode\u001b[38;5;241m=\u001b[39m\u001b[38;5;124m\"\u001b[39m\u001b[38;5;124mwb\u001b[39m\u001b[38;5;124m\"\u001b[39m)\n",
      "File \u001b[0;32m~/opt/miniconda3/envs/dsci/lib/python3.9/site-packages/altair/utils/mimebundle.py:56\u001b[0m, in \u001b[0;36mspec_to_mimebundle\u001b[0;34m(spec, format, mode, vega_version, vegaembed_version, vegalite_version, **kwargs)\u001b[0m\n\u001b[1;32m     54\u001b[0m         \u001b[38;5;28;01mimport\u001b[39;00m \u001b[38;5;21;01maltair_saver\u001b[39;00m\n\u001b[1;32m     55\u001b[0m     \u001b[38;5;28;01mexcept\u001b[39;00m \u001b[38;5;167;01mImportError\u001b[39;00m:\n\u001b[0;32m---> 56\u001b[0m         \u001b[38;5;28;01mraise\u001b[39;00m \u001b[38;5;167;01mValueError\u001b[39;00m(\n\u001b[1;32m     57\u001b[0m             \u001b[38;5;124m\"\u001b[39m\u001b[38;5;124mSaving charts in \u001b[39m\u001b[38;5;132;01m{fmt!r}\u001b[39;00m\u001b[38;5;124m format requires the altair_saver package: \u001b[39m\u001b[38;5;124m\"\u001b[39m\n\u001b[1;32m     58\u001b[0m             \u001b[38;5;124m\"\u001b[39m\u001b[38;5;124msee http://github.com/altair-viz/altair_saver/\u001b[39m\u001b[38;5;124m\"\u001b[39m\u001b[38;5;241m.\u001b[39mformat(fmt\u001b[38;5;241m=\u001b[39m\u001b[38;5;28mformat\u001b[39m)\n\u001b[1;32m     59\u001b[0m         )\n\u001b[1;32m     60\u001b[0m     \u001b[38;5;28;01mreturn\u001b[39;00m altair_saver\u001b[38;5;241m.\u001b[39mrender(spec, \u001b[38;5;28mformat\u001b[39m, mode\u001b[38;5;241m=\u001b[39mmode, \u001b[38;5;241m*\u001b[39m\u001b[38;5;241m*\u001b[39mkwargs)\n\u001b[1;32m     61\u001b[0m \u001b[38;5;28;01mif\u001b[39;00m \u001b[38;5;28mformat\u001b[39m \u001b[38;5;241m==\u001b[39m \u001b[38;5;124m\"\u001b[39m\u001b[38;5;124mhtml\u001b[39m\u001b[38;5;124m\"\u001b[39m:\n",
      "\u001b[0;31mValueError\u001b[0m: Saving charts in 'png' format requires the altair_saver package: see http://github.com/altair-viz/altair_saver/"
     ]
    }
   ],
   "source": [
    "faithful_plot.save(\"faithful_plot.png\")\n",
    "faithful_plot.save(\"faithful_plot.svg\")\n"
   ]
  },
  {
   "cell_type": "markdown",
   "id": "3e86f8bc",
   "metadata": {},
   "source": [
    "```{r, filesizes, echo = FALSE}\n",
    "file_sizes <- tibble(`Image type` = c(\"Raster\", \n",
    "                        \"Raster\", \n",
    "                        \"Raster\", \n",
    "                        \"Raster\",\n",
    "                        \"Vector\"),\n",
    "       `File type` = c(\"PNG\", \"JPG\", \"BMP\", \"TIFF\", \"SVG\"),\n",
    "       `Image size` = c(paste(round(file.info(\"img/faithful_plot.png\")[\"size\"] \n",
    "                                    / 1000000, 2), \"MB\"),\n",
    "                        paste(round(file.info(\"img/faithful_plot.jpg\")[\"size\"] \n",
    "                                    / 1000000, 2), \"MB\"),\n",
    "                        paste(round(file.info(\"img/faithful_plot.bmp\")[\"size\"] \n",
    "                                    / 1000000, 2), \"MB\"),\n",
    "                        paste(round(file.info(\"img/faithful_plot.tiff\")[\"size\"] \n",
    "                                    / 1000000, 2), \"MB\"),\n",
    "                        paste(round(file.info(\"img/faithful_plot.svg\")[\"size\"] \n",
    "                                    / 1000000, 2), \"MB\")))\n",
    "kable(file_sizes,\n",
    "      caption = \"File sizes of the scatter plot of the Old Faithful data set when saved as different file formats.\") |>\n",
    "  kable_styling(latex_options = \"hold_position\")\n",
    "```\n",
    "\n",
    "Take a look at the file sizes in Table \\@ref(tab:filesizes).\n",
    "Wow, that's quite a difference! Notice that for such a simple plot with few\n",
    "graphical elements (points), the vector graphics format (SVG) is over 100 times\n",
    "smaller than the uncompressed raster images (BMP, TIFF). Also, note that the\n",
    "JPG format is twice as large as the PNG format since the JPG compression\n",
    "algorithm is designed for natural images (not plots). \n",
    "\n",
    "In Figure \\@ref(fig:03-raster-image), we also show what\n",
    "the images look like when we zoom in to a rectangle with only 3 data points.\n",
    "You can see why vector graphics formats are so useful: because they're just\n",
    "based on mathematical formulas, vector graphics can be scaled up to arbitrary\n",
    "sizes.  This makes them great for presentation media of all sizes, from papers\n",
    "to posters to billboards.\n",
    "\n",
    "(ref:03-raster-image) Zoomed in `faithful`, raster (PNG, left) and vector (SVG, right) formats.\n",
    "\n",
    "```{r 03-raster-image, echo=FALSE, fig.cap = \"(ref:03-raster-image)\", fig.show=\"hold\", fig.align= \"center\", message =F, out.width=\"100%\"}\n",
    "knitr::include_graphics(\"img/png-vs-svg.png\")\n",
    "```\n",
    "\n",
    "## Exercises\n",
    "\n",
    "Practice exercises for the material covered in this chapter \n",
    "can be found in the accompanying \n",
    "[worksheets repository](https://github.com/UBC-DSCI/data-science-a-first-intro-worksheets#readme)\n",
    "in the \"Effective data visualization\" row.\n",
    "You can launch an interactive version of the worksheet in your browser by clicking the \"launch binder\" button.\n",
    "You can also preview a non-interactive version of the worksheet by clicking \"view worksheet.\"\n",
    "If you instead decide to download the worksheet and run it on your own machine,\n",
    "make sure to follow the instructions for computer setup\n",
    "found in Chapter \\@ref(move-to-your-own-machine). This will ensure that the automated feedback\n",
    "and guidance that the worksheets provide will function as intended.\n",
    "\n",
    "## Additional resources\n",
    "- The [`ggplot2` R package page](https://ggplot2.tidyverse.org) [@ggplot] is\n",
    "  where you should look if you want to learn more about the functions in this\n",
    "  chapter, the full set of arguments you can use, and other related functions.\n",
    "  The site also provides a very nice cheat sheet that summarizes many of the data\n",
    "  wrangling functions from this chapter.\n",
    "- The *Fundamentals of Data Visualization* [@wilkeviz] has\n",
    "  a wealth of information on designing effective visualizations. It is not\n",
    "  specific to any particular programming language or library. If you want to\n",
    "  improve your visualization skills, this is the next place to look.\n",
    "- *R for Data Science* [@wickham2016r] has a [chapter on creating visualizations using\n",
    "  `ggplot2`](https://r4ds.had.co.nz/data-visualisation.html). This reference is\n",
    "  specific to R and `ggplot2`, but provides a much more detailed introduction to\n",
    "  the full set of tools that `ggplot2` provides. This chapter is where you should\n",
    "  look if you want to learn how to make more intricate visualizations in\n",
    "  `ggplot2` than what is included in this chapter.\n",
    "- The [`theme` function documentation](https://ggplot2.tidyverse.org/reference/theme.html)\n",
    "  is an excellent reference to see how you can fine tune the non-data aspects \n",
    "  of your visualization.\n",
    "- *R for Data Science* [@wickham2016r] has a chapter on [dates and\n",
    "  times](https://r4ds.had.co.nz/dates-and-times.html).  This chapter is where\n",
    "  you should look if you want to learn about `date` vectors, including how to\n",
    "  create them, and how to use them to effectively handle durations, periods and\n",
    "  intervals using the `lubridate` package."
   ]
  }
 ],
 "metadata": {
  "jupytext": {
   "formats": "py:percent,md:myst,ipynb",
   "text_representation": {
    "extension": ".md",
    "format_name": "myst",
    "format_version": 0.13,
    "jupytext_version": "1.13.5"
   }
  },
  "kernelspec": {
   "display_name": "Python 3 (ipykernel)",
   "language": "python",
   "name": "python3"
  },
  "language_info": {
   "codemirror_mode": {
    "name": "ipython",
    "version": 3
   },
   "file_extension": ".py",
   "mimetype": "text/x-python",
   "name": "python",
   "nbconvert_exporter": "python",
   "pygments_lexer": "ipython3",
   "version": "3.9.12"
  },
  "source_map": [
   13,
   139,
   181,
   189,
   193,
   196,
   218,
   225,
   231,
   238,
   240,
   318,
   323,
   330,
   333,
   367,
   375,
   378,
   418,
   430,
   433,
   485,
   499,
   502,
   557,
   561,
   582,
   590,
   593,
   618,
   629,
   632,
   642,
   666,
   670,
   673,
   684,
   693,
   696,
   722,
   730,
   733,
   756,
   761,
   782,
   785,
   823,
   830,
   833,
   850,
   857,
   891,
   896,
   913,
   921,
   924,
   994,
   1002,
   1005,
   1044,
   1057,
   1060,
   1118,
   1132,
   1135,
   1241,
   1244,
   1270,
   1276,
   1279,
   1308,
   1319,
   1322,
   1380,
   1387,
   1390,
   1434,
   1436,
   1466,
   1472,
   1475,
   1519,
   1529,
   1532,
   1571,
   1580,
   1583,
   1618,
   1627,
   1630,
   1654,
   1679,
   1689,
   1692,
   1736,
   1745,
   1758,
   1761,
   1870,
   1900,
   1903,
   2069,
   2077,
   2080,
   2104,
   2108
  ]
 },
 "nbformat": 4,
 "nbformat_minor": 5
}