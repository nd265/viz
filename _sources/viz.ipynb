{
 "cells": [
  {
   "cell_type": "markdown",
   "id": "47d22ddb",
   "metadata": {},
   "source": [
    "# Effective data visualization\n",
    "\n",
    "\n",
    "\n",
    "## Overview \n",
    "This chapter will introduce concepts and tools relating to data visualization\n",
    "beyond what we have seen and practiced so far.  We will focus on guiding\n",
    "principles for effective data visualization and explaining visualizations\n",
    "independent of any particular tool or programming language.  In the process, we\n",
    "will cover some specifics of creating visualizations (scatter plots, bar\n",
    "plots, line plots, and histograms) for data using Python. \n",
    "\n",
    "## Chapter learning objectives\n",
    "\n",
    "By the end of the chapter, readers will be able to do the following:\n",
    "\n",
    "\n",
    "- Given a data set and a question, select from the above plot types and use Python to create a visualization that best answers the question.\n",
    "- Given a visualization and a question, evaluate the effectiveness of the visualization and suggest improvements to better answer the question.\n",
    "- Referring to the visualization, communicate the conclusions in non-technical terms.\n",
    "- Identify rules of thumb for creating effective visualizations. \n",
    "- Define the two key aspects of altair objects:\n",
    "    - mark objects\n",
    "    - encodings\n",
    "- Use the altair library in Python to create and refine the above visualizations using:\n",
    "    - mark objects: mark_point, mark_line, mark_bar\n",
    "    - encodings : x, y, fill, color, shape\n",
    "    - subplots: facet\n",
    "- Describe the difference in raster and vector output formats.\n",
    "- Use `chart.save()` to save visualizations in `.png` and `.svg` format.\n",
    "\n",
    "## Choosing the visualization\n",
    "#### *Ask a question, and answer it* {-}\n",
    "\n",
    "The purpose of a visualization is to answer a question\n",
    "\\index{question!visualization} about a data set of interest. So naturally, the\n",
    "first thing to do **before** creating a visualization is to formulate the\n",
    "question about the data you are trying to answer.  A good visualization will\n",
    "clearly answer your question without distraction; a *great* visualization will\n",
    "suggest even what the question was itself without additional explanation.\n",
    "Imagine your visualization as part of a poster presentation for a project; even\n",
    "if you aren't standing at the poster explaining things, an effective\n",
    "visualization will convey your message to the audience.\n",
    "\n",
    "Recall the different data analysis questions \n",
    "from Chapter \\@ref(intro). \n",
    "With the visualizations we will cover in this chapter, \n",
    "we will be able to answer *only descriptive and exploratory* questions. \n",
    "Be careful to not answer any *predictive, inferential, causal* \n",
    "*or mechanistic* questions with the visualizations presented here, \n",
    "as we have not learned the tools necessary to do that properly just yet.  \n",
    "\n",
    "As with most coding tasks, it is totally fine (and quite common) to make\n",
    "mistakes and iterate a few times before you find the right visualization for\n",
    "your data and question. There are many different kinds of plotting\n",
    "graphics available to use (see Chapter 5 of *Fundamentals of Data Visualization* [@wilkeviz] for a directory). \n",
    "The types of plot that we introduce in this book are shown in Figure \\@ref(fig:plot-sketches);\n",
    "which one you should select depends on your data \n",
    "and the question you want to answer. \n",
    "In general, the guiding principles of when to use each type of plot \n",
    "are as follows:\n",
    "\n",
    "\\index{visualization!line}\n",
    "\\index{visualization!histogram}\n",
    "\\index{visualization!scatter}\n",
    "\\index{visualization!bar}\n",
    "\n",
    "- **scatter plots** visualize the relationship between two quantitative variables\n",
    "- **line plots** visualize trends with respect to an independent, ordered quantity (e.g., time)\n",
    "- **bar plots** visualize comparisons of amounts\n",
    "- **histograms** visualize the distribution of one quantitative variable (i.e., all its possible values and how often they occur) \\index{distribution}\n",
    "\n",
    "```{r plot-sketches, echo = FALSE, fig.width = 4.5, fig.height = 4.65, fig.align = 'center', fig.cap = \"Examples of scatter, line and bar plots, as well as histograms.\"}\n",
    "set.seed(1)\n",
    "\n",
    "scatter_plot <- tibble(x = seq(0.25, 10, by = 0.5) + rnorm(20, 1, 1.5),\n",
    "                       y = seq(0.25, 10, by = 0.5) + rnorm(20, 1, 0.5)) |>\n",
    "  ggplot(aes(x = x, y = y)) +\n",
    "  geom_point() +\n",
    "  scale_x_continuous(limits = c(0, 12), breaks = seq(0, 12, by = 3)) +\n",
    "  scale_y_continuous(limits = c(0, 12), breaks = seq(0, 12, by = 3)) +\n",
    "  ggtitle(\"Scatter plot\") +\n",
    "  theme_classic()\n",
    "\n",
    "line_plot <- tibble(x = seq(0.5, 10, by = 1) + rnorm(10, 1, 0.5),\n",
    "                       y = seq(0.5, 10, by = 1) + rnorm(10, 1, 0.1)) |>\n",
    "  ggplot(aes(x = x, y = y)) +\n",
    "  geom_line() +\n",
    "  scale_x_continuous(limits = c(0, 12), breaks = seq(0, 12, by = 3)) +\n",
    "  scale_y_continuous(limits = c(0, 12), breaks = seq(0, 12, by = 3)) +\n",
    "  ggtitle(\"Line plot\") +\n",
    "  theme_classic()\n",
    "\n",
    "bar_plot <- tibble(count = c(35, 27, 21),\n",
    "                   category = as_factor(c(\"Group 1\", \"Group 2\", \"Group 3\"))) |>\n",
    "  ggplot(aes(y = count, x = category)) +\n",
    "  geom_bar(stat = \"identity\") +\n",
    "  ggtitle(\"Bar plot\") +\n",
    "  theme_classic()\n",
    "\n",
    "histogram_plot <- tibble(measurements = rnorm(200, 25, 5)) |>\n",
    "  ggplot(aes(x = measurements)) +\n",
    "  geom_histogram(binwidth = 3) +\n",
    "  ggtitle(\"Histogram\") +\n",
    "  theme_classic()\n",
    "\n",
    "plot_grid(scatter_plot,\n",
    "          line_plot,\n",
    "          bar_plot,\n",
    "          histogram_plot,\n",
    "          ncol = 2, \n",
    "          greedy = FALSE)\n",
    "```\n",
    "\n",
    "All types of visualization have their (mis)uses, but three kinds are usually\n",
    "hard to understand or are easily replaced with an oft-better alternative.  In\n",
    "particular, you should avoid **pie charts**; it is generally better to use\n",
    "bars, as it is easier to compare bar heights than pie slice sizes.  You should\n",
    "also not use **3-D visualizations**, as they are typically hard to understand\n",
    "when converted to a static 2-D image format. Finally, do not use tables to make\n",
    "numerical comparisons; humans are much better at quickly processing visual\n",
    "information than text and math. Bar plots are again typically a better\n",
    "alternative."
   ]
  },
  {
   "cell_type": "markdown",
   "id": "0cd15978",
   "metadata": {},
   "source": [
    "## Refining the visualization\n",
    "#### *Convey the message, minimize noise* {-}\n",
    "\n",
    "Just being able to make a visualization in Python with `altair` (or any other tool\n",
    "for that matter) doesn't mean that it effectively communicates your message to\n",
    "others. Once you have selected a broad type of visualization to use, you will\n",
    "have to refine it to suit your particular need.  Some rules of thumb for doing\n",
    "this are listed below. They generally fall into two classes: you want to \n",
    "*make your visualization convey your message*, and you want to *reduce visual noise*\n",
    "as much as possible. Humans have limited cognitive ability to process\n",
    "information; both of these types of refinement aim to reduce the mental load on\n",
    "your audience when viewing your visualization, making it easier for them to\n",
    "understand and remember your message quickly.\n",
    "\n",
    "**Convey the message**\n",
    "\n",
    "- Make sure the visualization answers the question you have asked most simply and plainly as possible.\n",
    "- Use legends and labels so that your visualization is understandable without reading the surrounding text.\n",
    "- Ensure the text, symbols, lines, etc., on your visualization are big enough to be easily read.\n",
    "- Ensure the data are clearly visible; don't hide the shape/distribution of the data behind other objects (e.g.,  a bar).\n",
    "- Make sure to use color schemes that are understandable by those with\n",
    "  colorblindness (a surprisingly large fraction of the overall \n",
    "  population&mdash;from about 1% to 10%, depending on sex and ancestry [@deebblind]).\n",
    "  For example, [Color Schemes](https://vega.github.io/vega/docs/schemes/) \n",
    "  provides the ability to pick such color schemes, and you can check\n",
    "  your visualizations after you have created them by uploading to online tools\n",
    "  such as a [color blindness simulator](https://www.color-blindness.com/coblis-color-blindness-simulator/).\n",
    "- Redundancy can be helpful; sometimes conveying the same message in multiple ways reinforces it for the audience.\n",
    "\n",
    "**Minimize noise**\n",
    "\n",
    "- Use colors sparingly. Too many different colors can be distracting, create false patterns, and detract from the message. \n",
    "- Be wary of overplotting. Overplotting is when marks that represent the data\n",
    "  overlap, and is problematic as it prevents you from seeing how many data\n",
    "  points are represented in areas of the visualization where this occurs. If your\n",
    "  plot has too many dots or lines and starts to look like a mess, you need to do\n",
    "  something different.\n",
    "- Only make the plot area (where the dots, lines, bars are) as big as needed. Simple plots can be made small.\n",
    "- Don't adjust the axes to zoom in on small differences. If the difference is small, show that it's small!"
   ]
  },
  {
   "cell_type": "markdown",
   "id": "57ccd87b",
   "metadata": {},
   "source": [
    "## Creating visualizations with `altair` \n",
    "#### *Build the visualization iteratively* {-}\n",
    "\n",
    "This section will cover examples of how to choose and refine a visualization given a data set and a question that you want to answer, \n",
    "and then how to create the visualization in Python \\index{ggplot} using `altair`.  To use the `altair` package, we need to import the `altair` package. We will also import `pandas` in order to support reading and other data related operations."
   ]
  },
  {
   "cell_type": "code",
   "execution_count": 1,
   "id": "a7bff1da",
   "metadata": {},
   "outputs": [],
   "source": [
    "import pandas as pd\n",
    "import altair as alt"
   ]
  },
  {
   "cell_type": "code",
   "execution_count": 2,
   "id": "29dc39f1",
   "metadata": {
    "tags": [
     "remove-cell"
    ]
   },
   "outputs": [],
   "source": [
    "from myst_nb import glue"
   ]
  },
  {
   "cell_type": "markdown",
   "id": "5c524439",
   "metadata": {},
   "source": [
    "### Scatter plots and line plots: the Mauna Loa CO$_{\\text{2}}$ data set\n",
    "\n",
    "The [Mauna Loa CO$_{\\text{2}}$ data set](https://www.esrl.noaa.gov/gmd/ccgg/trends/data.html), \n",
    "curated by Dr. Pieter Tans, NOAA/GML \n",
    "and Dr. Ralph Keeling, Scripps Institution of Oceanography,\n",
    "records the atmospheric concentration of carbon dioxide \n",
    "(CO$_{\\text{2}}$, in parts per million) \n",
    "at the Mauna Loa research station in \\index{Mauna Loa} Hawaii \n",
    "from 1959 onward [@maunadata].\n",
    "For this book, we are going to focus on the last 40 years of the data set,\n",
    "1980-2020.\n",
    "\n",
    "**Question:** \\index{question!visualization} \n",
    "Does the concentration of atmospheric CO$_{\\text{2}}$ change over time, \n",
    "and are there any interesting patterns to note?"
   ]
  },
  {
   "cell_type": "code",
   "execution_count": 3,
   "id": "df82a2ee",
   "metadata": {
    "tags": [
     "remove-cell"
    ]
   },
   "outputs": [],
   "source": [
    "mauna_loa = pd.read_csv(\"data/mauna_loa.csv\")\n",
    "mauna_loa['day']=1\n",
    "mauna_loa['date_measured']=pd.to_datetime(mauna_loa[[\"year\", \"month\", \"day\"]])\n",
    "mauna_loa = mauna_loa[['date_measured', 'ppm']].query('ppm>0 and date_measured>\"1980-1-1\"')\n",
    "mauna_loa.to_csv(\"data/mauna_loa_data.csv\", index=False)"
   ]
  },
  {
   "cell_type": "markdown",
   "id": "6b0c691c",
   "metadata": {},
   "source": [
    "To get started, we will read and inspect the data:"
   ]
  },
  {
   "cell_type": "code",
   "execution_count": 4,
   "id": "cca9ff59",
   "metadata": {},
   "outputs": [
    {
     "data": {
      "text/html": [
       "<div>\n",
       "<style scoped>\n",
       "    .dataframe tbody tr th:only-of-type {\n",
       "        vertical-align: middle;\n",
       "    }\n",
       "\n",
       "    .dataframe tbody tr th {\n",
       "        vertical-align: top;\n",
       "    }\n",
       "\n",
       "    .dataframe thead th {\n",
       "        text-align: right;\n",
       "    }\n",
       "</style>\n",
       "<table border=\"1\" class=\"dataframe\">\n",
       "  <thead>\n",
       "    <tr style=\"text-align: right;\">\n",
       "      <th></th>\n",
       "      <th>date_measured</th>\n",
       "      <th>ppm</th>\n",
       "    </tr>\n",
       "  </thead>\n",
       "  <tbody>\n",
       "    <tr>\n",
       "      <th>0</th>\n",
       "      <td>1980-02-01</td>\n",
       "      <td>338.34</td>\n",
       "    </tr>\n",
       "    <tr>\n",
       "      <th>1</th>\n",
       "      <td>1980-03-01</td>\n",
       "      <td>340.01</td>\n",
       "    </tr>\n",
       "    <tr>\n",
       "      <th>2</th>\n",
       "      <td>1980-04-01</td>\n",
       "      <td>340.93</td>\n",
       "    </tr>\n",
       "    <tr>\n",
       "      <th>3</th>\n",
       "      <td>1980-05-01</td>\n",
       "      <td>341.48</td>\n",
       "    </tr>\n",
       "    <tr>\n",
       "      <th>4</th>\n",
       "      <td>1980-06-01</td>\n",
       "      <td>341.33</td>\n",
       "    </tr>\n",
       "    <tr>\n",
       "      <th>...</th>\n",
       "      <td>...</td>\n",
       "      <td>...</td>\n",
       "    </tr>\n",
       "    <tr>\n",
       "      <th>479</th>\n",
       "      <td>2020-02-01</td>\n",
       "      <td>414.11</td>\n",
       "    </tr>\n",
       "    <tr>\n",
       "      <th>480</th>\n",
       "      <td>2020-03-01</td>\n",
       "      <td>414.51</td>\n",
       "    </tr>\n",
       "    <tr>\n",
       "      <th>481</th>\n",
       "      <td>2020-04-01</td>\n",
       "      <td>416.21</td>\n",
       "    </tr>\n",
       "    <tr>\n",
       "      <th>482</th>\n",
       "      <td>2020-05-01</td>\n",
       "      <td>417.07</td>\n",
       "    </tr>\n",
       "    <tr>\n",
       "      <th>483</th>\n",
       "      <td>2020-06-01</td>\n",
       "      <td>416.39</td>\n",
       "    </tr>\n",
       "  </tbody>\n",
       "</table>\n",
       "<p>484 rows × 2 columns</p>\n",
       "</div>"
      ],
      "text/plain": [
       "    date_measured     ppm\n",
       "0      1980-02-01  338.34\n",
       "1      1980-03-01  340.01\n",
       "2      1980-04-01  340.93\n",
       "3      1980-05-01  341.48\n",
       "4      1980-06-01  341.33\n",
       "..            ...     ...\n",
       "479    2020-02-01  414.11\n",
       "480    2020-03-01  414.51\n",
       "481    2020-04-01  416.21\n",
       "482    2020-05-01  417.07\n",
       "483    2020-06-01  416.39\n",
       "\n",
       "[484 rows x 2 columns]"
      ]
     },
     "execution_count": 4,
     "metadata": {},
     "output_type": "execute_result"
    }
   ],
   "source": [
    "# mauna loa carbon dioxide data\n",
    "co2_df = pd.read_csv(\"data/mauna_loa_data.csv\", parse_dates=['date_measured'])\n",
    "co2_df"
   ]
  },
  {
   "cell_type": "code",
   "execution_count": 5,
   "id": "5c5fe05f",
   "metadata": {},
   "outputs": [
    {
     "data": {
      "text/plain": [
       "date_measured    datetime64[ns]\n",
       "ppm                     float64\n",
       "dtype: object"
      ]
     },
     "execution_count": 5,
     "metadata": {},
     "output_type": "execute_result"
    }
   ],
   "source": [
    "co2_df.dtypes"
   ]
  },
  {
   "cell_type": "markdown",
   "id": "9a1fd723",
   "metadata": {},
   "source": [
    "We see that there are two columns in the `co2_df` data frame; `date_measured` and `ppm`. \n",
    "The `date_measured` column holds the date the measurement was taken, \n",
    "and is of type `datetime64`.\n",
    "The `ppm` column holds the value of CO$_{\\text{2}}$ in parts per million \n",
    "that was measured on each date, and is type `float64`.\n",
    "\n",
    "> **Note:** `read_csv` was able to parse the `date_measured` column into the\n",
    "> `datetime` vector type because it was entered \n",
    "> in the international standard date format, \n",
    "> called ISO 8601, which lists dates as `year-month-day` and we used `parse_dates=True`\n",
    "> `datetime` vectors are `double` vectors with special properties that allow \n",
    "> them to handle dates correctly.\n",
    "> For example, `datetime` type vectors allow functions like `altair` \n",
    "> to treat them as numeric dates and not as character vectors, \n",
    "> even though they contain non-numeric characters \n",
    "> (e.g., in the `date_measured` column in the `co2_df` data frame).\n",
    "> This means Python will not accidentally plot the dates in the wrong order \n",
    "> (i.e., not alphanumerically as would happen if it was a character vector). \n",
    "> An in-depth study of dates and times is beyond the scope of the book, \n",
    "> but interested readers \n",
    "> may consult the Dates and Times chapter of *R for Data Science* [@wickham2016r];\n",
    "> see the additional resources at the end of this chapter.\n",
    "\n",
    "Since we are investigating a relationship between two variables \n",
    "(CO$_{\\text{2}}$ concentration and date), \n",
    "a scatter plot is a good place to start. \n",
    "Scatter plots show the data as individual points with `x` (horizontal axis) \n",
    "and `y` (vertical axis) coordinates.\n",
    "Here, we will use the measurement date as the `x` coordinate \n",
    "and the CO$_{\\text{2}}$ concentration as the `y` coordinate.  \n",
    "while using the `altair` package, We create a plot object with the `alt.Chart()` function. \n",
    "There are a few basic aspects of a plot that we need to specify:\n",
    "\\index{ggplot!aesthetic mapping}\n",
    "\\index{ggplot!geometric object}\n",
    "\n",
    "\n",
    "\n",
    "- The name of the data frame object to visualize.\n",
    "    - Here, we specify the `co2_df` data frame as an argument to the `alt.Chart()` function\n",
    "- The **geometric object**, which specifies \\index{aesthetic mapping} how the mapped data should be displayed.\n",
    "    - To create a geometric object, we use `Chart.mark_*` methods (see the [altair reference](https://altair-viz.github.io/user_guide/marks.html) for a list of geometric objects).\n",
    "    - Here, we use the `mark_point` function to visualize our data as a scatter plot.\n",
    "- The **geometric encoding**, which tells \\index{aesthetic mapping} `altair` how the columns in the data frame map to properties of the visualization.\n",
    "    - To create an encoding, we use the `encode()` function.\n",
    "    - The `encode()` method builds a key-value mapping between encoding channels (such as x, y) to fields in the dataset, accessed by field name(column names)\n",
    "    - Here, we set the plot `x` axis to the `date_measured` variable, and the plot `y` axis to the `ppm` variable.\n",
    "\n",
    "\n",
    "\n",
    "{numref}`function_scatter` \n",
    "shows how each of these aspects map to code\n",
    "for creating a basic scatter plot of the `co2_df` data.\n",
    "Note that we could pass many other possible arguments to the geometric endcoding\n",
    "and geometric object to change how the plot looks. For the purposes of quickly\n",
    "testing things out to see what they look like, though, we can just start with the\n",
    "default settings.\n",
    "\\index{ggplot!aes}\n",
    "\\index{ggplot!geom\\_point}\n",
    " \n",
    "\n",
    "\n",
    "\n",
    "\n",
    "```{figure} img/ggplot_function_scatter.jpeg\n",
    "---\n",
    "height: 400px\n",
    "name: function_scatter\n",
    "---\n",
    "Creating a scatter plot with the `ggplot` function.\n",
    "```\n",
    "\n",
    "\n",
    "\\newpage"
   ]
  },
  {
   "cell_type": "code",
   "execution_count": 6,
   "id": "235ea65f",
   "metadata": {
    "tags": [
     "remove-cell"
    ]
   },
   "outputs": [],
   "source": [
    "from myst_nb import glue"
   ]
  },
  {
   "cell_type": "code",
   "execution_count": 7,
   "id": "f69c7264",
   "metadata": {},
   "outputs": [],
   "source": [
    "co2_scatter = alt.Chart(co2_df).mark_point(size=10, color='black').encode(\n",
    "    x = \"date_measured\", \n",
    "    y = alt.Y(\"ppm\", scale=alt.Scale(zero=False)))\n",
    "    \n"
   ]
  },
  {
   "cell_type": "code",
   "execution_count": 8,
   "id": "ed2a2dc3",
   "metadata": {
    "tags": [
     "remove-cell"
    ]
   },
   "outputs": [
    {
     "data": {
      "text/html": [
       "\n",
       "<div id=\"altair-viz-c84bb9e544f048629fdc9b779506953e\"></div>\n",
       "<script type=\"text/javascript\">\n",
       "  var VEGA_DEBUG = (typeof VEGA_DEBUG == \"undefined\") ? {} : VEGA_DEBUG;\n",
       "  (function(spec, embedOpt){\n",
       "    let outputDiv = document.currentScript.previousElementSibling;\n",
       "    if (outputDiv.id !== \"altair-viz-c84bb9e544f048629fdc9b779506953e\") {\n",
       "      outputDiv = document.getElementById(\"altair-viz-c84bb9e544f048629fdc9b779506953e\");\n",
       "    }\n",
       "    const paths = {\n",
       "      \"vega\": \"https://cdn.jsdelivr.net/npm//vega@5?noext\",\n",
       "      \"vega-lib\": \"https://cdn.jsdelivr.net/npm//vega-lib?noext\",\n",
       "      \"vega-lite\": \"https://cdn.jsdelivr.net/npm//vega-lite@4.17.0?noext\",\n",
       "      \"vega-embed\": \"https://cdn.jsdelivr.net/npm//vega-embed@6?noext\",\n",
       "    };\n",
       "\n",
       "    function maybeLoadScript(lib, version) {\n",
       "      var key = `${lib.replace(\"-\", \"\")}_version`;\n",
       "      return (VEGA_DEBUG[key] == version) ?\n",
       "        Promise.resolve(paths[lib]) :\n",
       "        new Promise(function(resolve, reject) {\n",
       "          var s = document.createElement('script');\n",
       "          document.getElementsByTagName(\"head\")[0].appendChild(s);\n",
       "          s.async = true;\n",
       "          s.onload = () => {\n",
       "            VEGA_DEBUG[key] = version;\n",
       "            return resolve(paths[lib]);\n",
       "          };\n",
       "          s.onerror = () => reject(`Error loading script: ${paths[lib]}`);\n",
       "          s.src = paths[lib];\n",
       "        });\n",
       "    }\n",
       "\n",
       "    function showError(err) {\n",
       "      outputDiv.innerHTML = `<div class=\"error\" style=\"color:red;\">${err}</div>`;\n",
       "      throw err;\n",
       "    }\n",
       "\n",
       "    function displayChart(vegaEmbed) {\n",
       "      vegaEmbed(outputDiv, spec, embedOpt)\n",
       "        .catch(err => showError(`Javascript Error: ${err.message}<br>This usually means there's a typo in your chart specification. See the javascript console for the full traceback.`));\n",
       "    }\n",
       "\n",
       "    if(typeof define === \"function\" && define.amd) {\n",
       "      requirejs.config({paths});\n",
       "      require([\"vega-embed\"], displayChart, err => showError(`Error loading script: ${err.message}`));\n",
       "    } else {\n",
       "      maybeLoadScript(\"vega\", \"5\")\n",
       "        .then(() => maybeLoadScript(\"vega-lite\", \"4.17.0\"))\n",
       "        .then(() => maybeLoadScript(\"vega-embed\", \"6\"))\n",
       "        .catch(showError)\n",
       "        .then(() => displayChart(vegaEmbed));\n",
       "    }\n",
       "  })({\"config\": {\"view\": {\"continuousWidth\": 400, \"continuousHeight\": 300}}, \"data\": {\"name\": \"data-ecfc281786dd23148efa483af3159f83\"}, \"mark\": {\"type\": \"point\", \"color\": \"black\", \"size\": 10}, \"encoding\": {\"x\": {\"field\": \"date_measured\", \"type\": \"temporal\"}, \"y\": {\"field\": \"ppm\", \"scale\": {\"zero\": false}, \"type\": \"quantitative\"}}, \"$schema\": \"https://vega.github.io/schema/vega-lite/v4.17.0.json\", \"datasets\": {\"data-ecfc281786dd23148efa483af3159f83\": [{\"date_measured\": \"1980-02-01T00:00:00\", \"ppm\": 338.34}, {\"date_measured\": \"1980-03-01T00:00:00\", \"ppm\": 340.01}, {\"date_measured\": \"1980-04-01T00:00:00\", \"ppm\": 340.93}, {\"date_measured\": \"1980-05-01T00:00:00\", \"ppm\": 341.48}, {\"date_measured\": \"1980-06-01T00:00:00\", \"ppm\": 341.33}, {\"date_measured\": \"1980-07-01T00:00:00\", \"ppm\": 339.4}, {\"date_measured\": \"1980-08-01T00:00:00\", \"ppm\": 337.7}, {\"date_measured\": \"1980-09-01T00:00:00\", \"ppm\": 336.19}, {\"date_measured\": \"1980-10-01T00:00:00\", \"ppm\": 336.15}, {\"date_measured\": \"1980-11-01T00:00:00\", \"ppm\": 337.27}, {\"date_measured\": \"1980-12-01T00:00:00\", \"ppm\": 338.32}, {\"date_measured\": \"1981-01-01T00:00:00\", \"ppm\": 339.29}, {\"date_measured\": \"1981-02-01T00:00:00\", \"ppm\": 340.55}, {\"date_measured\": \"1981-03-01T00:00:00\", \"ppm\": 341.61}, {\"date_measured\": \"1981-04-01T00:00:00\", \"ppm\": 342.53}, {\"date_measured\": \"1981-05-01T00:00:00\", \"ppm\": 343.03}, {\"date_measured\": \"1981-06-01T00:00:00\", \"ppm\": 342.54}, {\"date_measured\": \"1981-07-01T00:00:00\", \"ppm\": 340.78}, {\"date_measured\": \"1981-08-01T00:00:00\", \"ppm\": 338.44}, {\"date_measured\": \"1981-09-01T00:00:00\", \"ppm\": 336.95}, {\"date_measured\": \"1981-10-01T00:00:00\", \"ppm\": 337.08}, {\"date_measured\": \"1981-11-01T00:00:00\", \"ppm\": 338.58}, {\"date_measured\": \"1981-12-01T00:00:00\", \"ppm\": 339.88}, {\"date_measured\": \"1982-01-01T00:00:00\", \"ppm\": 340.96}, {\"date_measured\": \"1982-02-01T00:00:00\", \"ppm\": 341.73}, {\"date_measured\": \"1982-03-01T00:00:00\", \"ppm\": 342.81}, {\"date_measured\": \"1982-04-01T00:00:00\", \"ppm\": 343.97}, {\"date_measured\": \"1982-05-01T00:00:00\", \"ppm\": 344.63}, {\"date_measured\": \"1982-06-01T00:00:00\", \"ppm\": 343.79}, {\"date_measured\": \"1982-07-01T00:00:00\", \"ppm\": 342.32}, {\"date_measured\": \"1982-08-01T00:00:00\", \"ppm\": 340.09}, {\"date_measured\": \"1982-09-01T00:00:00\", \"ppm\": 338.28}, {\"date_measured\": \"1982-10-01T00:00:00\", \"ppm\": 338.29}, {\"date_measured\": \"1982-11-01T00:00:00\", \"ppm\": 339.6}, {\"date_measured\": \"1982-12-01T00:00:00\", \"ppm\": 340.9}, {\"date_measured\": \"1983-01-01T00:00:00\", \"ppm\": 341.68}, {\"date_measured\": \"1983-02-01T00:00:00\", \"ppm\": 342.9}, {\"date_measured\": \"1983-03-01T00:00:00\", \"ppm\": 343.33}, {\"date_measured\": \"1983-04-01T00:00:00\", \"ppm\": 345.25}, {\"date_measured\": \"1983-05-01T00:00:00\", \"ppm\": 346.03}, {\"date_measured\": \"1983-06-01T00:00:00\", \"ppm\": 345.63}, {\"date_measured\": \"1983-07-01T00:00:00\", \"ppm\": 344.19}, {\"date_measured\": \"1983-08-01T00:00:00\", \"ppm\": 342.27}, {\"date_measured\": \"1983-09-01T00:00:00\", \"ppm\": 340.35}, {\"date_measured\": \"1983-10-01T00:00:00\", \"ppm\": 340.38}, {\"date_measured\": \"1983-11-01T00:00:00\", \"ppm\": 341.59}, {\"date_measured\": \"1983-12-01T00:00:00\", \"ppm\": 343.05}, {\"date_measured\": \"1984-01-01T00:00:00\", \"ppm\": 344.1}, {\"date_measured\": \"1984-02-01T00:00:00\", \"ppm\": 344.79}, {\"date_measured\": \"1984-03-01T00:00:00\", \"ppm\": 345.52}, {\"date_measured\": \"1984-05-01T00:00:00\", \"ppm\": 347.63}, {\"date_measured\": \"1984-06-01T00:00:00\", \"ppm\": 346.98}, {\"date_measured\": \"1984-07-01T00:00:00\", \"ppm\": 345.53}, {\"date_measured\": \"1984-08-01T00:00:00\", \"ppm\": 343.55}, {\"date_measured\": \"1984-09-01T00:00:00\", \"ppm\": 341.4}, {\"date_measured\": \"1984-10-01T00:00:00\", \"ppm\": 341.67}, {\"date_measured\": \"1984-11-01T00:00:00\", \"ppm\": 343.1}, {\"date_measured\": \"1984-12-01T00:00:00\", \"ppm\": 344.7}, {\"date_measured\": \"1985-01-01T00:00:00\", \"ppm\": 345.21}, {\"date_measured\": \"1985-02-01T00:00:00\", \"ppm\": 346.16}, {\"date_measured\": \"1985-03-01T00:00:00\", \"ppm\": 347.74}, {\"date_measured\": \"1985-04-01T00:00:00\", \"ppm\": 348.34}, {\"date_measured\": \"1985-05-01T00:00:00\", \"ppm\": 349.06}, {\"date_measured\": \"1985-06-01T00:00:00\", \"ppm\": 348.38}, {\"date_measured\": \"1985-07-01T00:00:00\", \"ppm\": 346.71}, {\"date_measured\": \"1985-08-01T00:00:00\", \"ppm\": 345.02}, {\"date_measured\": \"1985-09-01T00:00:00\", \"ppm\": 343.27}, {\"date_measured\": \"1985-10-01T00:00:00\", \"ppm\": 343.13}, {\"date_measured\": \"1985-11-01T00:00:00\", \"ppm\": 344.49}, {\"date_measured\": \"1985-12-01T00:00:00\", \"ppm\": 345.88}, {\"date_measured\": \"1986-01-01T00:00:00\", \"ppm\": 346.56}, {\"date_measured\": \"1986-02-01T00:00:00\", \"ppm\": 347.28}, {\"date_measured\": \"1986-03-01T00:00:00\", \"ppm\": 348.01}, {\"date_measured\": \"1986-04-01T00:00:00\", \"ppm\": 349.77}, {\"date_measured\": \"1986-05-01T00:00:00\", \"ppm\": 350.38}, {\"date_measured\": \"1986-06-01T00:00:00\", \"ppm\": 349.93}, {\"date_measured\": \"1986-07-01T00:00:00\", \"ppm\": 348.16}, {\"date_measured\": \"1986-08-01T00:00:00\", \"ppm\": 346.08}, {\"date_measured\": \"1986-09-01T00:00:00\", \"ppm\": 345.22}, {\"date_measured\": \"1986-10-01T00:00:00\", \"ppm\": 344.51}, {\"date_measured\": \"1986-11-01T00:00:00\", \"ppm\": 345.93}, {\"date_measured\": \"1986-12-01T00:00:00\", \"ppm\": 347.22}, {\"date_measured\": \"1987-01-01T00:00:00\", \"ppm\": 348.52}, {\"date_measured\": \"1987-02-01T00:00:00\", \"ppm\": 348.73}, {\"date_measured\": \"1987-03-01T00:00:00\", \"ppm\": 349.73}, {\"date_measured\": \"1987-04-01T00:00:00\", \"ppm\": 351.31}, {\"date_measured\": \"1987-05-01T00:00:00\", \"ppm\": 352.09}, {\"date_measured\": \"1987-06-01T00:00:00\", \"ppm\": 351.53}, {\"date_measured\": \"1987-07-01T00:00:00\", \"ppm\": 350.11}, {\"date_measured\": \"1987-08-01T00:00:00\", \"ppm\": 348.08}, {\"date_measured\": \"1987-09-01T00:00:00\", \"ppm\": 346.52}, {\"date_measured\": \"1987-10-01T00:00:00\", \"ppm\": 346.59}, {\"date_measured\": \"1987-11-01T00:00:00\", \"ppm\": 347.96}, {\"date_measured\": \"1987-12-01T00:00:00\", \"ppm\": 349.16}, {\"date_measured\": \"1988-01-01T00:00:00\", \"ppm\": 350.39}, {\"date_measured\": \"1988-02-01T00:00:00\", \"ppm\": 351.64}, {\"date_measured\": \"1988-03-01T00:00:00\", \"ppm\": 352.4}, {\"date_measured\": \"1988-04-01T00:00:00\", \"ppm\": 353.69}, {\"date_measured\": \"1988-05-01T00:00:00\", \"ppm\": 354.21}, {\"date_measured\": \"1988-06-01T00:00:00\", \"ppm\": 353.72}, {\"date_measured\": \"1988-07-01T00:00:00\", \"ppm\": 352.69}, {\"date_measured\": \"1988-08-01T00:00:00\", \"ppm\": 350.4}, {\"date_measured\": \"1988-09-01T00:00:00\", \"ppm\": 348.92}, {\"date_measured\": \"1988-10-01T00:00:00\", \"ppm\": 349.13}, {\"date_measured\": \"1988-11-01T00:00:00\", \"ppm\": 350.2}, {\"date_measured\": \"1988-12-01T00:00:00\", \"ppm\": 351.41}, {\"date_measured\": \"1989-01-01T00:00:00\", \"ppm\": 352.91}, {\"date_measured\": \"1989-02-01T00:00:00\", \"ppm\": 353.27}, {\"date_measured\": \"1989-03-01T00:00:00\", \"ppm\": 353.96}, {\"date_measured\": \"1989-04-01T00:00:00\", \"ppm\": 355.64}, {\"date_measured\": \"1989-05-01T00:00:00\", \"ppm\": 355.86}, {\"date_measured\": \"1989-06-01T00:00:00\", \"ppm\": 355.37}, {\"date_measured\": \"1989-07-01T00:00:00\", \"ppm\": 353.99}, {\"date_measured\": \"1989-08-01T00:00:00\", \"ppm\": 351.81}, {\"date_measured\": \"1989-09-01T00:00:00\", \"ppm\": 350.05}, {\"date_measured\": \"1989-10-01T00:00:00\", \"ppm\": 350.25}, {\"date_measured\": \"1989-11-01T00:00:00\", \"ppm\": 351.49}, {\"date_measured\": \"1989-12-01T00:00:00\", \"ppm\": 352.85}, {\"date_measured\": \"1990-01-01T00:00:00\", \"ppm\": 353.8}, {\"date_measured\": \"1990-02-01T00:00:00\", \"ppm\": 355.04}, {\"date_measured\": \"1990-03-01T00:00:00\", \"ppm\": 355.73}, {\"date_measured\": \"1990-04-01T00:00:00\", \"ppm\": 356.32}, {\"date_measured\": \"1990-05-01T00:00:00\", \"ppm\": 357.32}, {\"date_measured\": \"1990-06-01T00:00:00\", \"ppm\": 356.34}, {\"date_measured\": \"1990-07-01T00:00:00\", \"ppm\": 354.84}, {\"date_measured\": \"1990-08-01T00:00:00\", \"ppm\": 353.01}, {\"date_measured\": \"1990-09-01T00:00:00\", \"ppm\": 351.31}, {\"date_measured\": \"1990-10-01T00:00:00\", \"ppm\": 351.62}, {\"date_measured\": \"1990-11-01T00:00:00\", \"ppm\": 353.07}, {\"date_measured\": \"1990-12-01T00:00:00\", \"ppm\": 354.33}, {\"date_measured\": \"1991-01-01T00:00:00\", \"ppm\": 354.84}, {\"date_measured\": \"1991-02-01T00:00:00\", \"ppm\": 355.73}, {\"date_measured\": \"1991-03-01T00:00:00\", \"ppm\": 357.23}, {\"date_measured\": \"1991-04-01T00:00:00\", \"ppm\": 358.66}, {\"date_measured\": \"1991-05-01T00:00:00\", \"ppm\": 359.13}, {\"date_measured\": \"1991-06-01T00:00:00\", \"ppm\": 358.13}, {\"date_measured\": \"1991-07-01T00:00:00\", \"ppm\": 356.19}, {\"date_measured\": \"1991-08-01T00:00:00\", \"ppm\": 353.85}, {\"date_measured\": \"1991-09-01T00:00:00\", \"ppm\": 352.25}, {\"date_measured\": \"1991-10-01T00:00:00\", \"ppm\": 352.35}, {\"date_measured\": \"1991-11-01T00:00:00\", \"ppm\": 353.81}, {\"date_measured\": \"1991-12-01T00:00:00\", \"ppm\": 355.12}, {\"date_measured\": \"1992-01-01T00:00:00\", \"ppm\": 356.25}, {\"date_measured\": \"1992-02-01T00:00:00\", \"ppm\": 357.11}, {\"date_measured\": \"1992-03-01T00:00:00\", \"ppm\": 357.86}, {\"date_measured\": \"1992-04-01T00:00:00\", \"ppm\": 359.09}, {\"date_measured\": \"1992-05-01T00:00:00\", \"ppm\": 359.59}, {\"date_measured\": \"1992-06-01T00:00:00\", \"ppm\": 359.33}, {\"date_measured\": \"1992-07-01T00:00:00\", \"ppm\": 357.01}, {\"date_measured\": \"1992-08-01T00:00:00\", \"ppm\": 354.94}, {\"date_measured\": \"1992-09-01T00:00:00\", \"ppm\": 352.95}, {\"date_measured\": \"1992-10-01T00:00:00\", \"ppm\": 353.32}, {\"date_measured\": \"1992-11-01T00:00:00\", \"ppm\": 354.32}, {\"date_measured\": \"1992-12-01T00:00:00\", \"ppm\": 355.57}, {\"date_measured\": \"1993-01-01T00:00:00\", \"ppm\": 357.0}, {\"date_measured\": \"1993-02-01T00:00:00\", \"ppm\": 357.31}, {\"date_measured\": \"1993-03-01T00:00:00\", \"ppm\": 358.47}, {\"date_measured\": \"1993-04-01T00:00:00\", \"ppm\": 359.27}, {\"date_measured\": \"1993-05-01T00:00:00\", \"ppm\": 360.19}, {\"date_measured\": \"1993-06-01T00:00:00\", \"ppm\": 359.52}, {\"date_measured\": \"1993-07-01T00:00:00\", \"ppm\": 357.33}, {\"date_measured\": \"1993-08-01T00:00:00\", \"ppm\": 355.64}, {\"date_measured\": \"1993-09-01T00:00:00\", \"ppm\": 354.03}, {\"date_measured\": \"1993-10-01T00:00:00\", \"ppm\": 354.12}, {\"date_measured\": \"1993-11-01T00:00:00\", \"ppm\": 355.41}, {\"date_measured\": \"1993-12-01T00:00:00\", \"ppm\": 356.91}, {\"date_measured\": \"1994-01-01T00:00:00\", \"ppm\": 358.24}, {\"date_measured\": \"1994-02-01T00:00:00\", \"ppm\": 358.92}, {\"date_measured\": \"1994-03-01T00:00:00\", \"ppm\": 359.99}, {\"date_measured\": \"1994-04-01T00:00:00\", \"ppm\": 361.23}, {\"date_measured\": \"1994-05-01T00:00:00\", \"ppm\": 361.65}, {\"date_measured\": \"1994-06-01T00:00:00\", \"ppm\": 360.81}, {\"date_measured\": \"1994-07-01T00:00:00\", \"ppm\": 359.38}, {\"date_measured\": \"1994-08-01T00:00:00\", \"ppm\": 357.46}, {\"date_measured\": \"1994-09-01T00:00:00\", \"ppm\": 355.73}, {\"date_measured\": \"1994-10-01T00:00:00\", \"ppm\": 356.08}, {\"date_measured\": \"1994-11-01T00:00:00\", \"ppm\": 357.53}, {\"date_measured\": \"1994-12-01T00:00:00\", \"ppm\": 358.98}, {\"date_measured\": \"1995-01-01T00:00:00\", \"ppm\": 359.92}, {\"date_measured\": \"1995-02-01T00:00:00\", \"ppm\": 360.86}, {\"date_measured\": \"1995-03-01T00:00:00\", \"ppm\": 361.83}, {\"date_measured\": \"1995-04-01T00:00:00\", \"ppm\": 363.3}, {\"date_measured\": \"1995-05-01T00:00:00\", \"ppm\": 363.69}, {\"date_measured\": \"1995-06-01T00:00:00\", \"ppm\": 363.19}, {\"date_measured\": \"1995-07-01T00:00:00\", \"ppm\": 361.64}, {\"date_measured\": \"1995-08-01T00:00:00\", \"ppm\": 359.12}, {\"date_measured\": \"1995-09-01T00:00:00\", \"ppm\": 358.17}, {\"date_measured\": \"1995-10-01T00:00:00\", \"ppm\": 357.99}, {\"date_measured\": \"1995-11-01T00:00:00\", \"ppm\": 359.45}, {\"date_measured\": \"1995-12-01T00:00:00\", \"ppm\": 360.68}, {\"date_measured\": \"1996-01-01T00:00:00\", \"ppm\": 362.07}, {\"date_measured\": \"1996-02-01T00:00:00\", \"ppm\": 363.24}, {\"date_measured\": \"1996-03-01T00:00:00\", \"ppm\": 364.17}, {\"date_measured\": \"1996-04-01T00:00:00\", \"ppm\": 364.57}, {\"date_measured\": \"1996-05-01T00:00:00\", \"ppm\": 365.13}, {\"date_measured\": \"1996-06-01T00:00:00\", \"ppm\": 364.92}, {\"date_measured\": \"1996-07-01T00:00:00\", \"ppm\": 363.55}, {\"date_measured\": \"1996-08-01T00:00:00\", \"ppm\": 361.38}, {\"date_measured\": \"1996-09-01T00:00:00\", \"ppm\": 359.54}, {\"date_measured\": \"1996-10-01T00:00:00\", \"ppm\": 359.58}, {\"date_measured\": \"1996-11-01T00:00:00\", \"ppm\": 360.89}, {\"date_measured\": \"1996-12-01T00:00:00\", \"ppm\": 362.24}, {\"date_measured\": \"1997-01-01T00:00:00\", \"ppm\": 363.09}, {\"date_measured\": \"1997-02-01T00:00:00\", \"ppm\": 364.03}, {\"date_measured\": \"1997-03-01T00:00:00\", \"ppm\": 364.51}, {\"date_measured\": \"1997-04-01T00:00:00\", \"ppm\": 366.35}, {\"date_measured\": \"1997-05-01T00:00:00\", \"ppm\": 366.64}, {\"date_measured\": \"1997-06-01T00:00:00\", \"ppm\": 365.59}, {\"date_measured\": \"1997-07-01T00:00:00\", \"ppm\": 364.31}, {\"date_measured\": \"1997-08-01T00:00:00\", \"ppm\": 362.25}, {\"date_measured\": \"1997-09-01T00:00:00\", \"ppm\": 360.29}, {\"date_measured\": \"1997-10-01T00:00:00\", \"ppm\": 360.82}, {\"date_measured\": \"1997-11-01T00:00:00\", \"ppm\": 362.49}, {\"date_measured\": \"1997-12-01T00:00:00\", \"ppm\": 364.38}, {\"date_measured\": \"1998-01-01T00:00:00\", \"ppm\": 365.27}, {\"date_measured\": \"1998-02-01T00:00:00\", \"ppm\": 365.98}, {\"date_measured\": \"1998-03-01T00:00:00\", \"ppm\": 367.24}, {\"date_measured\": \"1998-04-01T00:00:00\", \"ppm\": 368.66}, {\"date_measured\": \"1998-05-01T00:00:00\", \"ppm\": 369.42}, {\"date_measured\": \"1998-06-01T00:00:00\", \"ppm\": 368.99}, {\"date_measured\": \"1998-07-01T00:00:00\", \"ppm\": 367.82}, {\"date_measured\": \"1998-08-01T00:00:00\", \"ppm\": 365.95}, {\"date_measured\": \"1998-09-01T00:00:00\", \"ppm\": 364.02}, {\"date_measured\": \"1998-10-01T00:00:00\", \"ppm\": 364.4}, {\"date_measured\": \"1998-11-01T00:00:00\", \"ppm\": 365.52}, {\"date_measured\": \"1998-12-01T00:00:00\", \"ppm\": 367.13}, {\"date_measured\": \"1999-01-01T00:00:00\", \"ppm\": 368.18}, {\"date_measured\": \"1999-02-01T00:00:00\", \"ppm\": 369.07}, {\"date_measured\": \"1999-03-01T00:00:00\", \"ppm\": 369.68}, {\"date_measured\": \"1999-04-01T00:00:00\", \"ppm\": 370.99}, {\"date_measured\": \"1999-05-01T00:00:00\", \"ppm\": 370.96}, {\"date_measured\": \"1999-06-01T00:00:00\", \"ppm\": 370.3}, {\"date_measured\": \"1999-07-01T00:00:00\", \"ppm\": 369.45}, {\"date_measured\": \"1999-08-01T00:00:00\", \"ppm\": 366.9}, {\"date_measured\": \"1999-09-01T00:00:00\", \"ppm\": 364.81}, {\"date_measured\": \"1999-10-01T00:00:00\", \"ppm\": 365.37}, {\"date_measured\": \"1999-11-01T00:00:00\", \"ppm\": 366.72}, {\"date_measured\": \"1999-12-01T00:00:00\", \"ppm\": 368.1}, {\"date_measured\": \"2000-01-01T00:00:00\", \"ppm\": 369.29}, {\"date_measured\": \"2000-02-01T00:00:00\", \"ppm\": 369.55}, {\"date_measured\": \"2000-03-01T00:00:00\", \"ppm\": 370.6}, {\"date_measured\": \"2000-04-01T00:00:00\", \"ppm\": 371.82}, {\"date_measured\": \"2000-05-01T00:00:00\", \"ppm\": 371.58}, {\"date_measured\": \"2000-06-01T00:00:00\", \"ppm\": 371.7}, {\"date_measured\": \"2000-07-01T00:00:00\", \"ppm\": 369.86}, {\"date_measured\": \"2000-08-01T00:00:00\", \"ppm\": 368.13}, {\"date_measured\": \"2000-09-01T00:00:00\", \"ppm\": 367.0}, {\"date_measured\": \"2000-10-01T00:00:00\", \"ppm\": 367.03}, {\"date_measured\": \"2000-11-01T00:00:00\", \"ppm\": 368.37}, {\"date_measured\": \"2000-12-01T00:00:00\", \"ppm\": 369.67}, {\"date_measured\": \"2001-01-01T00:00:00\", \"ppm\": 370.59}, {\"date_measured\": \"2001-02-01T00:00:00\", \"ppm\": 371.51}, {\"date_measured\": \"2001-03-01T00:00:00\", \"ppm\": 372.43}, {\"date_measured\": \"2001-04-01T00:00:00\", \"ppm\": 373.37}, {\"date_measured\": \"2001-05-01T00:00:00\", \"ppm\": 373.85}, {\"date_measured\": \"2001-06-01T00:00:00\", \"ppm\": 373.22}, {\"date_measured\": \"2001-07-01T00:00:00\", \"ppm\": 371.5}, {\"date_measured\": \"2001-08-01T00:00:00\", \"ppm\": 369.61}, {\"date_measured\": \"2001-09-01T00:00:00\", \"ppm\": 368.18}, {\"date_measured\": \"2001-10-01T00:00:00\", \"ppm\": 368.45}, {\"date_measured\": \"2001-11-01T00:00:00\", \"ppm\": 369.76}, {\"date_measured\": \"2001-12-01T00:00:00\", \"ppm\": 371.24}, {\"date_measured\": \"2002-01-01T00:00:00\", \"ppm\": 372.53}, {\"date_measured\": \"2002-02-01T00:00:00\", \"ppm\": 373.2}, {\"date_measured\": \"2002-03-01T00:00:00\", \"ppm\": 374.12}, {\"date_measured\": \"2002-04-01T00:00:00\", \"ppm\": 375.02}, {\"date_measured\": \"2002-05-01T00:00:00\", \"ppm\": 375.76}, {\"date_measured\": \"2002-06-01T00:00:00\", \"ppm\": 375.52}, {\"date_measured\": \"2002-07-01T00:00:00\", \"ppm\": 374.01}, {\"date_measured\": \"2002-08-01T00:00:00\", \"ppm\": 371.85}, {\"date_measured\": \"2002-09-01T00:00:00\", \"ppm\": 370.75}, {\"date_measured\": \"2002-10-01T00:00:00\", \"ppm\": 370.55}, {\"date_measured\": \"2002-11-01T00:00:00\", \"ppm\": 372.25}, {\"date_measured\": \"2002-12-01T00:00:00\", \"ppm\": 373.79}, {\"date_measured\": \"2003-01-01T00:00:00\", \"ppm\": 374.88}, {\"date_measured\": \"2003-02-01T00:00:00\", \"ppm\": 375.64}, {\"date_measured\": \"2003-03-01T00:00:00\", \"ppm\": 376.45}, {\"date_measured\": \"2003-04-01T00:00:00\", \"ppm\": 377.73}, {\"date_measured\": \"2003-05-01T00:00:00\", \"ppm\": 378.6}, {\"date_measured\": \"2003-06-01T00:00:00\", \"ppm\": 378.28}, {\"date_measured\": \"2003-07-01T00:00:00\", \"ppm\": 376.7}, {\"date_measured\": \"2003-08-01T00:00:00\", \"ppm\": 374.38}, {\"date_measured\": \"2003-09-01T00:00:00\", \"ppm\": 373.17}, {\"date_measured\": \"2003-10-01T00:00:00\", \"ppm\": 373.15}, {\"date_measured\": \"2003-11-01T00:00:00\", \"ppm\": 374.66}, {\"date_measured\": \"2003-12-01T00:00:00\", \"ppm\": 375.99}, {\"date_measured\": \"2004-01-01T00:00:00\", \"ppm\": 377.0}, {\"date_measured\": \"2004-02-01T00:00:00\", \"ppm\": 377.87}, {\"date_measured\": \"2004-03-01T00:00:00\", \"ppm\": 378.88}, {\"date_measured\": \"2004-04-01T00:00:00\", \"ppm\": 380.35}, {\"date_measured\": \"2004-05-01T00:00:00\", \"ppm\": 380.62}, {\"date_measured\": \"2004-06-01T00:00:00\", \"ppm\": 379.69}, {\"date_measured\": \"2004-07-01T00:00:00\", \"ppm\": 377.47}, {\"date_measured\": \"2004-08-01T00:00:00\", \"ppm\": 376.01}, {\"date_measured\": \"2004-09-01T00:00:00\", \"ppm\": 374.25}, {\"date_measured\": \"2004-10-01T00:00:00\", \"ppm\": 374.46}, {\"date_measured\": \"2004-11-01T00:00:00\", \"ppm\": 376.16}, {\"date_measured\": \"2004-12-01T00:00:00\", \"ppm\": 377.51}, {\"date_measured\": \"2005-01-01T00:00:00\", \"ppm\": 378.46}, {\"date_measured\": \"2005-02-01T00:00:00\", \"ppm\": 379.73}, {\"date_measured\": \"2005-03-01T00:00:00\", \"ppm\": 380.77}, {\"date_measured\": \"2005-04-01T00:00:00\", \"ppm\": 382.29}, {\"date_measured\": \"2005-05-01T00:00:00\", \"ppm\": 382.45}, {\"date_measured\": \"2005-06-01T00:00:00\", \"ppm\": 382.21}, {\"date_measured\": \"2005-07-01T00:00:00\", \"ppm\": 380.74}, {\"date_measured\": \"2005-08-01T00:00:00\", \"ppm\": 378.74}, {\"date_measured\": \"2005-09-01T00:00:00\", \"ppm\": 376.7}, {\"date_measured\": \"2005-10-01T00:00:00\", \"ppm\": 377.0}, {\"date_measured\": \"2005-11-01T00:00:00\", \"ppm\": 378.35}, {\"date_measured\": \"2005-12-01T00:00:00\", \"ppm\": 380.11}, {\"date_measured\": \"2006-01-01T00:00:00\", \"ppm\": 381.38}, {\"date_measured\": \"2006-02-01T00:00:00\", \"ppm\": 382.2}, {\"date_measured\": \"2006-03-01T00:00:00\", \"ppm\": 382.67}, {\"date_measured\": \"2006-04-01T00:00:00\", \"ppm\": 384.61}, {\"date_measured\": \"2006-05-01T00:00:00\", \"ppm\": 385.03}, {\"date_measured\": \"2006-06-01T00:00:00\", \"ppm\": 384.05}, {\"date_measured\": \"2006-07-01T00:00:00\", \"ppm\": 382.46}, {\"date_measured\": \"2006-08-01T00:00:00\", \"ppm\": 380.41}, {\"date_measured\": \"2006-09-01T00:00:00\", \"ppm\": 378.85}, {\"date_measured\": \"2006-10-01T00:00:00\", \"ppm\": 379.13}, {\"date_measured\": \"2006-11-01T00:00:00\", \"ppm\": 380.15}, {\"date_measured\": \"2006-12-01T00:00:00\", \"ppm\": 381.82}, {\"date_measured\": \"2007-01-01T00:00:00\", \"ppm\": 382.89}, {\"date_measured\": \"2007-02-01T00:00:00\", \"ppm\": 383.9}, {\"date_measured\": \"2007-03-01T00:00:00\", \"ppm\": 384.58}, {\"date_measured\": \"2007-04-01T00:00:00\", \"ppm\": 386.5}, {\"date_measured\": \"2007-05-01T00:00:00\", \"ppm\": 386.56}, {\"date_measured\": \"2007-06-01T00:00:00\", \"ppm\": 386.1}, {\"date_measured\": \"2007-07-01T00:00:00\", \"ppm\": 384.5}, {\"date_measured\": \"2007-08-01T00:00:00\", \"ppm\": 381.99}, {\"date_measured\": \"2007-09-01T00:00:00\", \"ppm\": 380.96}, {\"date_measured\": \"2007-10-01T00:00:00\", \"ppm\": 381.12}, {\"date_measured\": \"2007-11-01T00:00:00\", \"ppm\": 382.45}, {\"date_measured\": \"2007-12-01T00:00:00\", \"ppm\": 383.94}, {\"date_measured\": \"2008-01-01T00:00:00\", \"ppm\": 385.52}, {\"date_measured\": \"2008-02-01T00:00:00\", \"ppm\": 385.82}, {\"date_measured\": \"2008-03-01T00:00:00\", \"ppm\": 386.03}, {\"date_measured\": \"2008-04-01T00:00:00\", \"ppm\": 387.21}, {\"date_measured\": \"2008-05-01T00:00:00\", \"ppm\": 388.54}, {\"date_measured\": \"2008-06-01T00:00:00\", \"ppm\": 387.76}, {\"date_measured\": \"2008-07-01T00:00:00\", \"ppm\": 386.37}, {\"date_measured\": \"2008-08-01T00:00:00\", \"ppm\": 384.09}, {\"date_measured\": \"2008-09-01T00:00:00\", \"ppm\": 383.18}, {\"date_measured\": \"2008-10-01T00:00:00\", \"ppm\": 382.99}, {\"date_measured\": \"2008-11-01T00:00:00\", \"ppm\": 384.19}, {\"date_measured\": \"2008-12-01T00:00:00\", \"ppm\": 385.56}, {\"date_measured\": \"2009-01-01T00:00:00\", \"ppm\": 386.94}, {\"date_measured\": \"2009-02-01T00:00:00\", \"ppm\": 387.48}, {\"date_measured\": \"2009-03-01T00:00:00\", \"ppm\": 388.82}, {\"date_measured\": \"2009-04-01T00:00:00\", \"ppm\": 389.55}, {\"date_measured\": \"2009-05-01T00:00:00\", \"ppm\": 390.14}, {\"date_measured\": \"2009-06-01T00:00:00\", \"ppm\": 389.48}, {\"date_measured\": \"2009-07-01T00:00:00\", \"ppm\": 388.03}, {\"date_measured\": \"2009-08-01T00:00:00\", \"ppm\": 386.11}, {\"date_measured\": \"2009-09-01T00:00:00\", \"ppm\": 384.74}, {\"date_measured\": \"2009-10-01T00:00:00\", \"ppm\": 384.43}, {\"date_measured\": \"2009-11-01T00:00:00\", \"ppm\": 386.02}, {\"date_measured\": \"2009-12-01T00:00:00\", \"ppm\": 387.42}, {\"date_measured\": \"2010-01-01T00:00:00\", \"ppm\": 388.71}, {\"date_measured\": \"2010-02-01T00:00:00\", \"ppm\": 390.2}, {\"date_measured\": \"2010-03-01T00:00:00\", \"ppm\": 391.17}, {\"date_measured\": \"2010-04-01T00:00:00\", \"ppm\": 392.46}, {\"date_measured\": \"2010-05-01T00:00:00\", \"ppm\": 393.0}, {\"date_measured\": \"2010-06-01T00:00:00\", \"ppm\": 392.15}, {\"date_measured\": \"2010-07-01T00:00:00\", \"ppm\": 390.2}, {\"date_measured\": \"2010-08-01T00:00:00\", \"ppm\": 388.35}, {\"date_measured\": \"2010-09-01T00:00:00\", \"ppm\": 386.85}, {\"date_measured\": \"2010-10-01T00:00:00\", \"ppm\": 387.24}, {\"date_measured\": \"2010-11-01T00:00:00\", \"ppm\": 388.67}, {\"date_measured\": \"2010-12-01T00:00:00\", \"ppm\": 389.79}, {\"date_measured\": \"2011-01-01T00:00:00\", \"ppm\": 391.33}, {\"date_measured\": \"2011-02-01T00:00:00\", \"ppm\": 391.86}, {\"date_measured\": \"2011-03-01T00:00:00\", \"ppm\": 392.6}, {\"date_measured\": \"2011-04-01T00:00:00\", \"ppm\": 393.25}, {\"date_measured\": \"2011-05-01T00:00:00\", \"ppm\": 394.19}, {\"date_measured\": \"2011-06-01T00:00:00\", \"ppm\": 393.74}, {\"date_measured\": \"2011-07-01T00:00:00\", \"ppm\": 392.51}, {\"date_measured\": \"2011-08-01T00:00:00\", \"ppm\": 390.13}, {\"date_measured\": \"2011-09-01T00:00:00\", \"ppm\": 389.08}, {\"date_measured\": \"2011-10-01T00:00:00\", \"ppm\": 389.0}, {\"date_measured\": \"2011-11-01T00:00:00\", \"ppm\": 390.28}, {\"date_measured\": \"2011-12-01T00:00:00\", \"ppm\": 391.86}, {\"date_measured\": \"2012-01-01T00:00:00\", \"ppm\": 393.12}, {\"date_measured\": \"2012-02-01T00:00:00\", \"ppm\": 393.86}, {\"date_measured\": \"2012-03-01T00:00:00\", \"ppm\": 394.4}, {\"date_measured\": \"2012-04-01T00:00:00\", \"ppm\": 396.18}, {\"date_measured\": \"2012-05-01T00:00:00\", \"ppm\": 396.74}, {\"date_measured\": \"2012-06-01T00:00:00\", \"ppm\": 395.71}, {\"date_measured\": \"2012-07-01T00:00:00\", \"ppm\": 394.36}, {\"date_measured\": \"2012-08-01T00:00:00\", \"ppm\": 392.39}, {\"date_measured\": \"2012-09-01T00:00:00\", \"ppm\": 391.11}, {\"date_measured\": \"2012-10-01T00:00:00\", \"ppm\": 391.05}, {\"date_measured\": \"2012-11-01T00:00:00\", \"ppm\": 392.98}, {\"date_measured\": \"2012-12-01T00:00:00\", \"ppm\": 394.34}, {\"date_measured\": \"2013-01-01T00:00:00\", \"ppm\": 395.55}, {\"date_measured\": \"2013-02-01T00:00:00\", \"ppm\": 396.8}, {\"date_measured\": \"2013-03-01T00:00:00\", \"ppm\": 397.43}, {\"date_measured\": \"2013-04-01T00:00:00\", \"ppm\": 398.41}, {\"date_measured\": \"2013-05-01T00:00:00\", \"ppm\": 399.78}, {\"date_measured\": \"2013-06-01T00:00:00\", \"ppm\": 398.6}, {\"date_measured\": \"2013-07-01T00:00:00\", \"ppm\": 397.32}, {\"date_measured\": \"2013-08-01T00:00:00\", \"ppm\": 395.2}, {\"date_measured\": \"2013-09-01T00:00:00\", \"ppm\": 393.45}, {\"date_measured\": \"2013-10-01T00:00:00\", \"ppm\": 393.7}, {\"date_measured\": \"2013-11-01T00:00:00\", \"ppm\": 395.16}, {\"date_measured\": \"2013-12-01T00:00:00\", \"ppm\": 396.84}, {\"date_measured\": \"2014-01-01T00:00:00\", \"ppm\": 397.85}, {\"date_measured\": \"2014-02-01T00:00:00\", \"ppm\": 398.01}, {\"date_measured\": \"2014-03-01T00:00:00\", \"ppm\": 399.77}, {\"date_measured\": \"2014-04-01T00:00:00\", \"ppm\": 401.38}, {\"date_measured\": \"2014-05-01T00:00:00\", \"ppm\": 401.78}, {\"date_measured\": \"2014-06-01T00:00:00\", \"ppm\": 401.25}, {\"date_measured\": \"2014-07-01T00:00:00\", \"ppm\": 399.1}, {\"date_measured\": \"2014-08-01T00:00:00\", \"ppm\": 397.03}, {\"date_measured\": \"2014-09-01T00:00:00\", \"ppm\": 395.38}, {\"date_measured\": \"2014-10-01T00:00:00\", \"ppm\": 396.03}, {\"date_measured\": \"2014-11-01T00:00:00\", \"ppm\": 397.28}, {\"date_measured\": \"2014-12-01T00:00:00\", \"ppm\": 398.91}, {\"date_measured\": \"2015-01-01T00:00:00\", \"ppm\": 399.98}, {\"date_measured\": \"2015-02-01T00:00:00\", \"ppm\": 400.28}, {\"date_measured\": \"2015-03-01T00:00:00\", \"ppm\": 401.54}, {\"date_measured\": \"2015-04-01T00:00:00\", \"ppm\": 403.28}, {\"date_measured\": \"2015-05-01T00:00:00\", \"ppm\": 403.96}, {\"date_measured\": \"2015-06-01T00:00:00\", \"ppm\": 402.8}, {\"date_measured\": \"2015-07-01T00:00:00\", \"ppm\": 401.31}, {\"date_measured\": \"2015-08-01T00:00:00\", \"ppm\": 398.93}, {\"date_measured\": \"2015-09-01T00:00:00\", \"ppm\": 397.63}, {\"date_measured\": \"2015-10-01T00:00:00\", \"ppm\": 398.29}, {\"date_measured\": \"2015-11-01T00:00:00\", \"ppm\": 400.16}, {\"date_measured\": \"2015-12-01T00:00:00\", \"ppm\": 401.85}, {\"date_measured\": \"2016-01-01T00:00:00\", \"ppm\": 402.56}, {\"date_measured\": \"2016-02-01T00:00:00\", \"ppm\": 404.12}, {\"date_measured\": \"2016-03-01T00:00:00\", \"ppm\": 404.87}, {\"date_measured\": \"2016-04-01T00:00:00\", \"ppm\": 407.45}, {\"date_measured\": \"2016-05-01T00:00:00\", \"ppm\": 407.72}, {\"date_measured\": \"2016-06-01T00:00:00\", \"ppm\": 406.83}, {\"date_measured\": \"2016-07-01T00:00:00\", \"ppm\": 404.41}, {\"date_measured\": \"2016-08-01T00:00:00\", \"ppm\": 402.27}, {\"date_measured\": \"2016-09-01T00:00:00\", \"ppm\": 401.05}, {\"date_measured\": \"2016-10-01T00:00:00\", \"ppm\": 401.59}, {\"date_measured\": \"2016-11-01T00:00:00\", \"ppm\": 403.55}, {\"date_measured\": \"2016-12-01T00:00:00\", \"ppm\": 404.45}, {\"date_measured\": \"2017-01-01T00:00:00\", \"ppm\": 406.17}, {\"date_measured\": \"2017-02-01T00:00:00\", \"ppm\": 406.46}, {\"date_measured\": \"2017-03-01T00:00:00\", \"ppm\": 407.22}, {\"date_measured\": \"2017-04-01T00:00:00\", \"ppm\": 409.04}, {\"date_measured\": \"2017-05-01T00:00:00\", \"ppm\": 409.69}, {\"date_measured\": \"2017-06-01T00:00:00\", \"ppm\": 408.88}, {\"date_measured\": \"2017-07-01T00:00:00\", \"ppm\": 407.12}, {\"date_measured\": \"2017-08-01T00:00:00\", \"ppm\": 405.13}, {\"date_measured\": \"2017-09-01T00:00:00\", \"ppm\": 403.37}, {\"date_measured\": \"2017-10-01T00:00:00\", \"ppm\": 403.63}, {\"date_measured\": \"2017-11-01T00:00:00\", \"ppm\": 405.12}, {\"date_measured\": \"2017-12-01T00:00:00\", \"ppm\": 406.81}, {\"date_measured\": \"2018-01-01T00:00:00\", \"ppm\": 407.96}, {\"date_measured\": \"2018-02-01T00:00:00\", \"ppm\": 408.32}, {\"date_measured\": \"2018-03-01T00:00:00\", \"ppm\": 409.41}, {\"date_measured\": \"2018-04-01T00:00:00\", \"ppm\": 410.24}, {\"date_measured\": \"2018-05-01T00:00:00\", \"ppm\": 411.24}, {\"date_measured\": \"2018-06-01T00:00:00\", \"ppm\": 410.79}, {\"date_measured\": \"2018-07-01T00:00:00\", \"ppm\": 408.71}, {\"date_measured\": \"2018-08-01T00:00:00\", \"ppm\": 406.99}, {\"date_measured\": \"2018-09-01T00:00:00\", \"ppm\": 405.51}, {\"date_measured\": \"2018-10-01T00:00:00\", \"ppm\": 406.0}, {\"date_measured\": \"2018-11-01T00:00:00\", \"ppm\": 408.02}, {\"date_measured\": \"2018-12-01T00:00:00\", \"ppm\": 409.07}, {\"date_measured\": \"2019-01-01T00:00:00\", \"ppm\": 410.83}, {\"date_measured\": \"2019-02-01T00:00:00\", \"ppm\": 411.75}, {\"date_measured\": \"2019-03-01T00:00:00\", \"ppm\": 411.97}, {\"date_measured\": \"2019-04-01T00:00:00\", \"ppm\": 413.33}, {\"date_measured\": \"2019-05-01T00:00:00\", \"ppm\": 414.64}, {\"date_measured\": \"2019-06-01T00:00:00\", \"ppm\": 413.93}, {\"date_measured\": \"2019-07-01T00:00:00\", \"ppm\": 411.74}, {\"date_measured\": \"2019-08-01T00:00:00\", \"ppm\": 409.95}, {\"date_measured\": \"2019-09-01T00:00:00\", \"ppm\": 408.54}, {\"date_measured\": \"2019-10-01T00:00:00\", \"ppm\": 408.52}, {\"date_measured\": \"2019-11-01T00:00:00\", \"ppm\": 410.25}, {\"date_measured\": \"2019-12-01T00:00:00\", \"ppm\": 411.76}, {\"date_measured\": \"2020-01-01T00:00:00\", \"ppm\": 413.39}, {\"date_measured\": \"2020-02-01T00:00:00\", \"ppm\": 414.11}, {\"date_measured\": \"2020-03-01T00:00:00\", \"ppm\": 414.51}, {\"date_measured\": \"2020-04-01T00:00:00\", \"ppm\": 416.21}, {\"date_measured\": \"2020-05-01T00:00:00\", \"ppm\": 417.07}, {\"date_measured\": \"2020-06-01T00:00:00\", \"ppm\": 416.39}]}}, {\"mode\": \"vega-lite\"});\n",
       "</script>"
      ],
      "text/plain": [
       "alt.Chart(...)"
      ]
     },
     "metadata": {
      "scrapbook": {
       "mime_prefix": "application/papermill.record/",
       "name": "co2_scatter"
      }
     },
     "output_type": "display_data"
    }
   ],
   "source": [
    "glue('co2_scatter', co2_scatter, display=False)"
   ]
  },
  {
   "cell_type": "markdown",
   "id": "58f1cf0b",
   "metadata": {},
   "source": [
    ":::{glue:figure} co2_scatter \n",
    ":figwidth: 700px \n",
    ":name: co2_scatter\n",
    "\n",
    "Scatter plot of atmospheric concentration of CO$_{2}$ over time.\n",
    ":::\n",
    "\n",
    "Certainly, the visualization in {numref}`co2_scatter` \n",
    "shows a clear upward trend \n",
    "in the atmospheric concentration of CO$_{\\text{2}}$ over time.\n",
    "This plot answers the first part of our question in the affirmative, \n",
    "but that appears to be the only conclusion one can make \n",
    "from the scatter visualization. \n",
    "\n",
    "One important thing to note about this data is that one of the variables\n",
    "we are exploring is time.\n",
    "Time is a special kind of quantitative variable \n",
    "because it forces additional structure on the data&mdash;the \n",
    "data points have a natural order. \n",
    "Specifically, each observation in the data set has a predecessor \n",
    "and a successor, and the order of the observations matters; changing their order \n",
    "alters their meaning.\n",
    "In situations like this, we typically use a line plot to visualize\n",
    "the data. Line plots connect the sequence of `x` and `y` coordinates\n",
    "of the observations with line segments, thereby emphasizing their order.\n",
    "\n",
    "We can create a line plot in `altair` using the `mark_line` function. \n",
    "Let's now try to visualize the `co2_df` as a line plot \n",
    "with just the default arguments: \n",
    "\\index{ggplot!geom\\_line}"
   ]
  },
  {
   "cell_type": "code",
   "execution_count": 9,
   "id": "3dc06054",
   "metadata": {},
   "outputs": [],
   "source": [
    "co2_line = alt.Chart(co2_df).mark_line(color='black').encode(\n",
    "    x = \"date_measured\", \n",
    "    y = alt.Y(\"ppm\", scale=alt.Scale(zero=False)))\n",
    "\n"
   ]
  },
  {
   "cell_type": "code",
   "execution_count": 10,
   "id": "4fdfb450",
   "metadata": {
    "tags": [
     "remove-cell"
    ]
   },
   "outputs": [
    {
     "data": {
      "text/html": [
       "\n",
       "<div id=\"altair-viz-31336d4ccbcd496294def83e40d9eb07\"></div>\n",
       "<script type=\"text/javascript\">\n",
       "  var VEGA_DEBUG = (typeof VEGA_DEBUG == \"undefined\") ? {} : VEGA_DEBUG;\n",
       "  (function(spec, embedOpt){\n",
       "    let outputDiv = document.currentScript.previousElementSibling;\n",
       "    if (outputDiv.id !== \"altair-viz-31336d4ccbcd496294def83e40d9eb07\") {\n",
       "      outputDiv = document.getElementById(\"altair-viz-31336d4ccbcd496294def83e40d9eb07\");\n",
       "    }\n",
       "    const paths = {\n",
       "      \"vega\": \"https://cdn.jsdelivr.net/npm//vega@5?noext\",\n",
       "      \"vega-lib\": \"https://cdn.jsdelivr.net/npm//vega-lib?noext\",\n",
       "      \"vega-lite\": \"https://cdn.jsdelivr.net/npm//vega-lite@4.17.0?noext\",\n",
       "      \"vega-embed\": \"https://cdn.jsdelivr.net/npm//vega-embed@6?noext\",\n",
       "    };\n",
       "\n",
       "    function maybeLoadScript(lib, version) {\n",
       "      var key = `${lib.replace(\"-\", \"\")}_version`;\n",
       "      return (VEGA_DEBUG[key] == version) ?\n",
       "        Promise.resolve(paths[lib]) :\n",
       "        new Promise(function(resolve, reject) {\n",
       "          var s = document.createElement('script');\n",
       "          document.getElementsByTagName(\"head\")[0].appendChild(s);\n",
       "          s.async = true;\n",
       "          s.onload = () => {\n",
       "            VEGA_DEBUG[key] = version;\n",
       "            return resolve(paths[lib]);\n",
       "          };\n",
       "          s.onerror = () => reject(`Error loading script: ${paths[lib]}`);\n",
       "          s.src = paths[lib];\n",
       "        });\n",
       "    }\n",
       "\n",
       "    function showError(err) {\n",
       "      outputDiv.innerHTML = `<div class=\"error\" style=\"color:red;\">${err}</div>`;\n",
       "      throw err;\n",
       "    }\n",
       "\n",
       "    function displayChart(vegaEmbed) {\n",
       "      vegaEmbed(outputDiv, spec, embedOpt)\n",
       "        .catch(err => showError(`Javascript Error: ${err.message}<br>This usually means there's a typo in your chart specification. See the javascript console for the full traceback.`));\n",
       "    }\n",
       "\n",
       "    if(typeof define === \"function\" && define.amd) {\n",
       "      requirejs.config({paths});\n",
       "      require([\"vega-embed\"], displayChart, err => showError(`Error loading script: ${err.message}`));\n",
       "    } else {\n",
       "      maybeLoadScript(\"vega\", \"5\")\n",
       "        .then(() => maybeLoadScript(\"vega-lite\", \"4.17.0\"))\n",
       "        .then(() => maybeLoadScript(\"vega-embed\", \"6\"))\n",
       "        .catch(showError)\n",
       "        .then(() => displayChart(vegaEmbed));\n",
       "    }\n",
       "  })({\"config\": {\"view\": {\"continuousWidth\": 400, \"continuousHeight\": 300}}, \"data\": {\"name\": \"data-ecfc281786dd23148efa483af3159f83\"}, \"mark\": {\"type\": \"line\", \"color\": \"black\"}, \"encoding\": {\"x\": {\"field\": \"date_measured\", \"type\": \"temporal\"}, \"y\": {\"field\": \"ppm\", \"scale\": {\"zero\": false}, \"type\": \"quantitative\"}}, \"$schema\": \"https://vega.github.io/schema/vega-lite/v4.17.0.json\", \"datasets\": {\"data-ecfc281786dd23148efa483af3159f83\": [{\"date_measured\": \"1980-02-01T00:00:00\", \"ppm\": 338.34}, {\"date_measured\": \"1980-03-01T00:00:00\", \"ppm\": 340.01}, {\"date_measured\": \"1980-04-01T00:00:00\", \"ppm\": 340.93}, {\"date_measured\": \"1980-05-01T00:00:00\", \"ppm\": 341.48}, {\"date_measured\": \"1980-06-01T00:00:00\", \"ppm\": 341.33}, {\"date_measured\": \"1980-07-01T00:00:00\", \"ppm\": 339.4}, {\"date_measured\": \"1980-08-01T00:00:00\", \"ppm\": 337.7}, {\"date_measured\": \"1980-09-01T00:00:00\", \"ppm\": 336.19}, {\"date_measured\": \"1980-10-01T00:00:00\", \"ppm\": 336.15}, {\"date_measured\": \"1980-11-01T00:00:00\", \"ppm\": 337.27}, {\"date_measured\": \"1980-12-01T00:00:00\", \"ppm\": 338.32}, {\"date_measured\": \"1981-01-01T00:00:00\", \"ppm\": 339.29}, {\"date_measured\": \"1981-02-01T00:00:00\", \"ppm\": 340.55}, {\"date_measured\": \"1981-03-01T00:00:00\", \"ppm\": 341.61}, {\"date_measured\": \"1981-04-01T00:00:00\", \"ppm\": 342.53}, {\"date_measured\": \"1981-05-01T00:00:00\", \"ppm\": 343.03}, {\"date_measured\": \"1981-06-01T00:00:00\", \"ppm\": 342.54}, {\"date_measured\": \"1981-07-01T00:00:00\", \"ppm\": 340.78}, {\"date_measured\": \"1981-08-01T00:00:00\", \"ppm\": 338.44}, {\"date_measured\": \"1981-09-01T00:00:00\", \"ppm\": 336.95}, {\"date_measured\": \"1981-10-01T00:00:00\", \"ppm\": 337.08}, {\"date_measured\": \"1981-11-01T00:00:00\", \"ppm\": 338.58}, {\"date_measured\": \"1981-12-01T00:00:00\", \"ppm\": 339.88}, {\"date_measured\": \"1982-01-01T00:00:00\", \"ppm\": 340.96}, {\"date_measured\": \"1982-02-01T00:00:00\", \"ppm\": 341.73}, {\"date_measured\": \"1982-03-01T00:00:00\", \"ppm\": 342.81}, {\"date_measured\": \"1982-04-01T00:00:00\", \"ppm\": 343.97}, {\"date_measured\": \"1982-05-01T00:00:00\", \"ppm\": 344.63}, {\"date_measured\": \"1982-06-01T00:00:00\", \"ppm\": 343.79}, {\"date_measured\": \"1982-07-01T00:00:00\", \"ppm\": 342.32}, {\"date_measured\": \"1982-08-01T00:00:00\", \"ppm\": 340.09}, {\"date_measured\": \"1982-09-01T00:00:00\", \"ppm\": 338.28}, {\"date_measured\": \"1982-10-01T00:00:00\", \"ppm\": 338.29}, {\"date_measured\": \"1982-11-01T00:00:00\", \"ppm\": 339.6}, {\"date_measured\": \"1982-12-01T00:00:00\", \"ppm\": 340.9}, {\"date_measured\": \"1983-01-01T00:00:00\", \"ppm\": 341.68}, {\"date_measured\": \"1983-02-01T00:00:00\", \"ppm\": 342.9}, {\"date_measured\": \"1983-03-01T00:00:00\", \"ppm\": 343.33}, {\"date_measured\": \"1983-04-01T00:00:00\", \"ppm\": 345.25}, {\"date_measured\": \"1983-05-01T00:00:00\", \"ppm\": 346.03}, {\"date_measured\": \"1983-06-01T00:00:00\", \"ppm\": 345.63}, {\"date_measured\": \"1983-07-01T00:00:00\", \"ppm\": 344.19}, {\"date_measured\": \"1983-08-01T00:00:00\", \"ppm\": 342.27}, {\"date_measured\": \"1983-09-01T00:00:00\", \"ppm\": 340.35}, {\"date_measured\": \"1983-10-01T00:00:00\", \"ppm\": 340.38}, {\"date_measured\": \"1983-11-01T00:00:00\", \"ppm\": 341.59}, {\"date_measured\": \"1983-12-01T00:00:00\", \"ppm\": 343.05}, {\"date_measured\": \"1984-01-01T00:00:00\", \"ppm\": 344.1}, {\"date_measured\": \"1984-02-01T00:00:00\", \"ppm\": 344.79}, {\"date_measured\": \"1984-03-01T00:00:00\", \"ppm\": 345.52}, {\"date_measured\": \"1984-05-01T00:00:00\", \"ppm\": 347.63}, {\"date_measured\": \"1984-06-01T00:00:00\", \"ppm\": 346.98}, {\"date_measured\": \"1984-07-01T00:00:00\", \"ppm\": 345.53}, {\"date_measured\": \"1984-08-01T00:00:00\", \"ppm\": 343.55}, {\"date_measured\": \"1984-09-01T00:00:00\", \"ppm\": 341.4}, {\"date_measured\": \"1984-10-01T00:00:00\", \"ppm\": 341.67}, {\"date_measured\": \"1984-11-01T00:00:00\", \"ppm\": 343.1}, {\"date_measured\": \"1984-12-01T00:00:00\", \"ppm\": 344.7}, {\"date_measured\": \"1985-01-01T00:00:00\", \"ppm\": 345.21}, {\"date_measured\": \"1985-02-01T00:00:00\", \"ppm\": 346.16}, {\"date_measured\": \"1985-03-01T00:00:00\", \"ppm\": 347.74}, {\"date_measured\": \"1985-04-01T00:00:00\", \"ppm\": 348.34}, {\"date_measured\": \"1985-05-01T00:00:00\", \"ppm\": 349.06}, {\"date_measured\": \"1985-06-01T00:00:00\", \"ppm\": 348.38}, {\"date_measured\": \"1985-07-01T00:00:00\", \"ppm\": 346.71}, {\"date_measured\": \"1985-08-01T00:00:00\", \"ppm\": 345.02}, {\"date_measured\": \"1985-09-01T00:00:00\", \"ppm\": 343.27}, {\"date_measured\": \"1985-10-01T00:00:00\", \"ppm\": 343.13}, {\"date_measured\": \"1985-11-01T00:00:00\", \"ppm\": 344.49}, {\"date_measured\": \"1985-12-01T00:00:00\", \"ppm\": 345.88}, {\"date_measured\": \"1986-01-01T00:00:00\", \"ppm\": 346.56}, {\"date_measured\": \"1986-02-01T00:00:00\", \"ppm\": 347.28}, {\"date_measured\": \"1986-03-01T00:00:00\", \"ppm\": 348.01}, {\"date_measured\": \"1986-04-01T00:00:00\", \"ppm\": 349.77}, {\"date_measured\": \"1986-05-01T00:00:00\", \"ppm\": 350.38}, {\"date_measured\": \"1986-06-01T00:00:00\", \"ppm\": 349.93}, {\"date_measured\": \"1986-07-01T00:00:00\", \"ppm\": 348.16}, {\"date_measured\": \"1986-08-01T00:00:00\", \"ppm\": 346.08}, {\"date_measured\": \"1986-09-01T00:00:00\", \"ppm\": 345.22}, {\"date_measured\": \"1986-10-01T00:00:00\", \"ppm\": 344.51}, {\"date_measured\": \"1986-11-01T00:00:00\", \"ppm\": 345.93}, {\"date_measured\": \"1986-12-01T00:00:00\", \"ppm\": 347.22}, {\"date_measured\": \"1987-01-01T00:00:00\", \"ppm\": 348.52}, {\"date_measured\": \"1987-02-01T00:00:00\", \"ppm\": 348.73}, {\"date_measured\": \"1987-03-01T00:00:00\", \"ppm\": 349.73}, {\"date_measured\": \"1987-04-01T00:00:00\", \"ppm\": 351.31}, {\"date_measured\": \"1987-05-01T00:00:00\", \"ppm\": 352.09}, {\"date_measured\": \"1987-06-01T00:00:00\", \"ppm\": 351.53}, {\"date_measured\": \"1987-07-01T00:00:00\", \"ppm\": 350.11}, {\"date_measured\": \"1987-08-01T00:00:00\", \"ppm\": 348.08}, {\"date_measured\": \"1987-09-01T00:00:00\", \"ppm\": 346.52}, {\"date_measured\": \"1987-10-01T00:00:00\", \"ppm\": 346.59}, {\"date_measured\": \"1987-11-01T00:00:00\", \"ppm\": 347.96}, {\"date_measured\": \"1987-12-01T00:00:00\", \"ppm\": 349.16}, {\"date_measured\": \"1988-01-01T00:00:00\", \"ppm\": 350.39}, {\"date_measured\": \"1988-02-01T00:00:00\", \"ppm\": 351.64}, {\"date_measured\": \"1988-03-01T00:00:00\", \"ppm\": 352.4}, {\"date_measured\": \"1988-04-01T00:00:00\", \"ppm\": 353.69}, {\"date_measured\": \"1988-05-01T00:00:00\", \"ppm\": 354.21}, {\"date_measured\": \"1988-06-01T00:00:00\", \"ppm\": 353.72}, {\"date_measured\": \"1988-07-01T00:00:00\", \"ppm\": 352.69}, {\"date_measured\": \"1988-08-01T00:00:00\", \"ppm\": 350.4}, {\"date_measured\": \"1988-09-01T00:00:00\", \"ppm\": 348.92}, {\"date_measured\": \"1988-10-01T00:00:00\", \"ppm\": 349.13}, {\"date_measured\": \"1988-11-01T00:00:00\", \"ppm\": 350.2}, {\"date_measured\": \"1988-12-01T00:00:00\", \"ppm\": 351.41}, {\"date_measured\": \"1989-01-01T00:00:00\", \"ppm\": 352.91}, {\"date_measured\": \"1989-02-01T00:00:00\", \"ppm\": 353.27}, {\"date_measured\": \"1989-03-01T00:00:00\", \"ppm\": 353.96}, {\"date_measured\": \"1989-04-01T00:00:00\", \"ppm\": 355.64}, {\"date_measured\": \"1989-05-01T00:00:00\", \"ppm\": 355.86}, {\"date_measured\": \"1989-06-01T00:00:00\", \"ppm\": 355.37}, {\"date_measured\": \"1989-07-01T00:00:00\", \"ppm\": 353.99}, {\"date_measured\": \"1989-08-01T00:00:00\", \"ppm\": 351.81}, {\"date_measured\": \"1989-09-01T00:00:00\", \"ppm\": 350.05}, {\"date_measured\": \"1989-10-01T00:00:00\", \"ppm\": 350.25}, {\"date_measured\": \"1989-11-01T00:00:00\", \"ppm\": 351.49}, {\"date_measured\": \"1989-12-01T00:00:00\", \"ppm\": 352.85}, {\"date_measured\": \"1990-01-01T00:00:00\", \"ppm\": 353.8}, {\"date_measured\": \"1990-02-01T00:00:00\", \"ppm\": 355.04}, {\"date_measured\": \"1990-03-01T00:00:00\", \"ppm\": 355.73}, {\"date_measured\": \"1990-04-01T00:00:00\", \"ppm\": 356.32}, {\"date_measured\": \"1990-05-01T00:00:00\", \"ppm\": 357.32}, {\"date_measured\": \"1990-06-01T00:00:00\", \"ppm\": 356.34}, {\"date_measured\": \"1990-07-01T00:00:00\", \"ppm\": 354.84}, {\"date_measured\": \"1990-08-01T00:00:00\", \"ppm\": 353.01}, {\"date_measured\": \"1990-09-01T00:00:00\", \"ppm\": 351.31}, {\"date_measured\": \"1990-10-01T00:00:00\", \"ppm\": 351.62}, {\"date_measured\": \"1990-11-01T00:00:00\", \"ppm\": 353.07}, {\"date_measured\": \"1990-12-01T00:00:00\", \"ppm\": 354.33}, {\"date_measured\": \"1991-01-01T00:00:00\", \"ppm\": 354.84}, {\"date_measured\": \"1991-02-01T00:00:00\", \"ppm\": 355.73}, {\"date_measured\": \"1991-03-01T00:00:00\", \"ppm\": 357.23}, {\"date_measured\": \"1991-04-01T00:00:00\", \"ppm\": 358.66}, {\"date_measured\": \"1991-05-01T00:00:00\", \"ppm\": 359.13}, {\"date_measured\": \"1991-06-01T00:00:00\", \"ppm\": 358.13}, {\"date_measured\": \"1991-07-01T00:00:00\", \"ppm\": 356.19}, {\"date_measured\": \"1991-08-01T00:00:00\", \"ppm\": 353.85}, {\"date_measured\": \"1991-09-01T00:00:00\", \"ppm\": 352.25}, {\"date_measured\": \"1991-10-01T00:00:00\", \"ppm\": 352.35}, {\"date_measured\": \"1991-11-01T00:00:00\", \"ppm\": 353.81}, {\"date_measured\": \"1991-12-01T00:00:00\", \"ppm\": 355.12}, {\"date_measured\": \"1992-01-01T00:00:00\", \"ppm\": 356.25}, {\"date_measured\": \"1992-02-01T00:00:00\", \"ppm\": 357.11}, {\"date_measured\": \"1992-03-01T00:00:00\", \"ppm\": 357.86}, {\"date_measured\": \"1992-04-01T00:00:00\", \"ppm\": 359.09}, {\"date_measured\": \"1992-05-01T00:00:00\", \"ppm\": 359.59}, {\"date_measured\": \"1992-06-01T00:00:00\", \"ppm\": 359.33}, {\"date_measured\": \"1992-07-01T00:00:00\", \"ppm\": 357.01}, {\"date_measured\": \"1992-08-01T00:00:00\", \"ppm\": 354.94}, {\"date_measured\": \"1992-09-01T00:00:00\", \"ppm\": 352.95}, {\"date_measured\": \"1992-10-01T00:00:00\", \"ppm\": 353.32}, {\"date_measured\": \"1992-11-01T00:00:00\", \"ppm\": 354.32}, {\"date_measured\": \"1992-12-01T00:00:00\", \"ppm\": 355.57}, {\"date_measured\": \"1993-01-01T00:00:00\", \"ppm\": 357.0}, {\"date_measured\": \"1993-02-01T00:00:00\", \"ppm\": 357.31}, {\"date_measured\": \"1993-03-01T00:00:00\", \"ppm\": 358.47}, {\"date_measured\": \"1993-04-01T00:00:00\", \"ppm\": 359.27}, {\"date_measured\": \"1993-05-01T00:00:00\", \"ppm\": 360.19}, {\"date_measured\": \"1993-06-01T00:00:00\", \"ppm\": 359.52}, {\"date_measured\": \"1993-07-01T00:00:00\", \"ppm\": 357.33}, {\"date_measured\": \"1993-08-01T00:00:00\", \"ppm\": 355.64}, {\"date_measured\": \"1993-09-01T00:00:00\", \"ppm\": 354.03}, {\"date_measured\": \"1993-10-01T00:00:00\", \"ppm\": 354.12}, {\"date_measured\": \"1993-11-01T00:00:00\", \"ppm\": 355.41}, {\"date_measured\": \"1993-12-01T00:00:00\", \"ppm\": 356.91}, {\"date_measured\": \"1994-01-01T00:00:00\", \"ppm\": 358.24}, {\"date_measured\": \"1994-02-01T00:00:00\", \"ppm\": 358.92}, {\"date_measured\": \"1994-03-01T00:00:00\", \"ppm\": 359.99}, {\"date_measured\": \"1994-04-01T00:00:00\", \"ppm\": 361.23}, {\"date_measured\": \"1994-05-01T00:00:00\", \"ppm\": 361.65}, {\"date_measured\": \"1994-06-01T00:00:00\", \"ppm\": 360.81}, {\"date_measured\": \"1994-07-01T00:00:00\", \"ppm\": 359.38}, {\"date_measured\": \"1994-08-01T00:00:00\", \"ppm\": 357.46}, {\"date_measured\": \"1994-09-01T00:00:00\", \"ppm\": 355.73}, {\"date_measured\": \"1994-10-01T00:00:00\", \"ppm\": 356.08}, {\"date_measured\": \"1994-11-01T00:00:00\", \"ppm\": 357.53}, {\"date_measured\": \"1994-12-01T00:00:00\", \"ppm\": 358.98}, {\"date_measured\": \"1995-01-01T00:00:00\", \"ppm\": 359.92}, {\"date_measured\": \"1995-02-01T00:00:00\", \"ppm\": 360.86}, {\"date_measured\": \"1995-03-01T00:00:00\", \"ppm\": 361.83}, {\"date_measured\": \"1995-04-01T00:00:00\", \"ppm\": 363.3}, {\"date_measured\": \"1995-05-01T00:00:00\", \"ppm\": 363.69}, {\"date_measured\": \"1995-06-01T00:00:00\", \"ppm\": 363.19}, {\"date_measured\": \"1995-07-01T00:00:00\", \"ppm\": 361.64}, {\"date_measured\": \"1995-08-01T00:00:00\", \"ppm\": 359.12}, {\"date_measured\": \"1995-09-01T00:00:00\", \"ppm\": 358.17}, {\"date_measured\": \"1995-10-01T00:00:00\", \"ppm\": 357.99}, {\"date_measured\": \"1995-11-01T00:00:00\", \"ppm\": 359.45}, {\"date_measured\": \"1995-12-01T00:00:00\", \"ppm\": 360.68}, {\"date_measured\": \"1996-01-01T00:00:00\", \"ppm\": 362.07}, {\"date_measured\": \"1996-02-01T00:00:00\", \"ppm\": 363.24}, {\"date_measured\": \"1996-03-01T00:00:00\", \"ppm\": 364.17}, {\"date_measured\": \"1996-04-01T00:00:00\", \"ppm\": 364.57}, {\"date_measured\": \"1996-05-01T00:00:00\", \"ppm\": 365.13}, {\"date_measured\": \"1996-06-01T00:00:00\", \"ppm\": 364.92}, {\"date_measured\": \"1996-07-01T00:00:00\", \"ppm\": 363.55}, {\"date_measured\": \"1996-08-01T00:00:00\", \"ppm\": 361.38}, {\"date_measured\": \"1996-09-01T00:00:00\", \"ppm\": 359.54}, {\"date_measured\": \"1996-10-01T00:00:00\", \"ppm\": 359.58}, {\"date_measured\": \"1996-11-01T00:00:00\", \"ppm\": 360.89}, {\"date_measured\": \"1996-12-01T00:00:00\", \"ppm\": 362.24}, {\"date_measured\": \"1997-01-01T00:00:00\", \"ppm\": 363.09}, {\"date_measured\": \"1997-02-01T00:00:00\", \"ppm\": 364.03}, {\"date_measured\": \"1997-03-01T00:00:00\", \"ppm\": 364.51}, {\"date_measured\": \"1997-04-01T00:00:00\", \"ppm\": 366.35}, {\"date_measured\": \"1997-05-01T00:00:00\", \"ppm\": 366.64}, {\"date_measured\": \"1997-06-01T00:00:00\", \"ppm\": 365.59}, {\"date_measured\": \"1997-07-01T00:00:00\", \"ppm\": 364.31}, {\"date_measured\": \"1997-08-01T00:00:00\", \"ppm\": 362.25}, {\"date_measured\": \"1997-09-01T00:00:00\", \"ppm\": 360.29}, {\"date_measured\": \"1997-10-01T00:00:00\", \"ppm\": 360.82}, {\"date_measured\": \"1997-11-01T00:00:00\", \"ppm\": 362.49}, {\"date_measured\": \"1997-12-01T00:00:00\", \"ppm\": 364.38}, {\"date_measured\": \"1998-01-01T00:00:00\", \"ppm\": 365.27}, {\"date_measured\": \"1998-02-01T00:00:00\", \"ppm\": 365.98}, {\"date_measured\": \"1998-03-01T00:00:00\", \"ppm\": 367.24}, {\"date_measured\": \"1998-04-01T00:00:00\", \"ppm\": 368.66}, {\"date_measured\": \"1998-05-01T00:00:00\", \"ppm\": 369.42}, {\"date_measured\": \"1998-06-01T00:00:00\", \"ppm\": 368.99}, {\"date_measured\": \"1998-07-01T00:00:00\", \"ppm\": 367.82}, {\"date_measured\": \"1998-08-01T00:00:00\", \"ppm\": 365.95}, {\"date_measured\": \"1998-09-01T00:00:00\", \"ppm\": 364.02}, {\"date_measured\": \"1998-10-01T00:00:00\", \"ppm\": 364.4}, {\"date_measured\": \"1998-11-01T00:00:00\", \"ppm\": 365.52}, {\"date_measured\": \"1998-12-01T00:00:00\", \"ppm\": 367.13}, {\"date_measured\": \"1999-01-01T00:00:00\", \"ppm\": 368.18}, {\"date_measured\": \"1999-02-01T00:00:00\", \"ppm\": 369.07}, {\"date_measured\": \"1999-03-01T00:00:00\", \"ppm\": 369.68}, {\"date_measured\": \"1999-04-01T00:00:00\", \"ppm\": 370.99}, {\"date_measured\": \"1999-05-01T00:00:00\", \"ppm\": 370.96}, {\"date_measured\": \"1999-06-01T00:00:00\", \"ppm\": 370.3}, {\"date_measured\": \"1999-07-01T00:00:00\", \"ppm\": 369.45}, {\"date_measured\": \"1999-08-01T00:00:00\", \"ppm\": 366.9}, {\"date_measured\": \"1999-09-01T00:00:00\", \"ppm\": 364.81}, {\"date_measured\": \"1999-10-01T00:00:00\", \"ppm\": 365.37}, {\"date_measured\": \"1999-11-01T00:00:00\", \"ppm\": 366.72}, {\"date_measured\": \"1999-12-01T00:00:00\", \"ppm\": 368.1}, {\"date_measured\": \"2000-01-01T00:00:00\", \"ppm\": 369.29}, {\"date_measured\": \"2000-02-01T00:00:00\", \"ppm\": 369.55}, {\"date_measured\": \"2000-03-01T00:00:00\", \"ppm\": 370.6}, {\"date_measured\": \"2000-04-01T00:00:00\", \"ppm\": 371.82}, {\"date_measured\": \"2000-05-01T00:00:00\", \"ppm\": 371.58}, {\"date_measured\": \"2000-06-01T00:00:00\", \"ppm\": 371.7}, {\"date_measured\": \"2000-07-01T00:00:00\", \"ppm\": 369.86}, {\"date_measured\": \"2000-08-01T00:00:00\", \"ppm\": 368.13}, {\"date_measured\": \"2000-09-01T00:00:00\", \"ppm\": 367.0}, {\"date_measured\": \"2000-10-01T00:00:00\", \"ppm\": 367.03}, {\"date_measured\": \"2000-11-01T00:00:00\", \"ppm\": 368.37}, {\"date_measured\": \"2000-12-01T00:00:00\", \"ppm\": 369.67}, {\"date_measured\": \"2001-01-01T00:00:00\", \"ppm\": 370.59}, {\"date_measured\": \"2001-02-01T00:00:00\", \"ppm\": 371.51}, {\"date_measured\": \"2001-03-01T00:00:00\", \"ppm\": 372.43}, {\"date_measured\": \"2001-04-01T00:00:00\", \"ppm\": 373.37}, {\"date_measured\": \"2001-05-01T00:00:00\", \"ppm\": 373.85}, {\"date_measured\": \"2001-06-01T00:00:00\", \"ppm\": 373.22}, {\"date_measured\": \"2001-07-01T00:00:00\", \"ppm\": 371.5}, {\"date_measured\": \"2001-08-01T00:00:00\", \"ppm\": 369.61}, {\"date_measured\": \"2001-09-01T00:00:00\", \"ppm\": 368.18}, {\"date_measured\": \"2001-10-01T00:00:00\", \"ppm\": 368.45}, {\"date_measured\": \"2001-11-01T00:00:00\", \"ppm\": 369.76}, {\"date_measured\": \"2001-12-01T00:00:00\", \"ppm\": 371.24}, {\"date_measured\": \"2002-01-01T00:00:00\", \"ppm\": 372.53}, {\"date_measured\": \"2002-02-01T00:00:00\", \"ppm\": 373.2}, {\"date_measured\": \"2002-03-01T00:00:00\", \"ppm\": 374.12}, {\"date_measured\": \"2002-04-01T00:00:00\", \"ppm\": 375.02}, {\"date_measured\": \"2002-05-01T00:00:00\", \"ppm\": 375.76}, {\"date_measured\": \"2002-06-01T00:00:00\", \"ppm\": 375.52}, {\"date_measured\": \"2002-07-01T00:00:00\", \"ppm\": 374.01}, {\"date_measured\": \"2002-08-01T00:00:00\", \"ppm\": 371.85}, {\"date_measured\": \"2002-09-01T00:00:00\", \"ppm\": 370.75}, {\"date_measured\": \"2002-10-01T00:00:00\", \"ppm\": 370.55}, {\"date_measured\": \"2002-11-01T00:00:00\", \"ppm\": 372.25}, {\"date_measured\": \"2002-12-01T00:00:00\", \"ppm\": 373.79}, {\"date_measured\": \"2003-01-01T00:00:00\", \"ppm\": 374.88}, {\"date_measured\": \"2003-02-01T00:00:00\", \"ppm\": 375.64}, {\"date_measured\": \"2003-03-01T00:00:00\", \"ppm\": 376.45}, {\"date_measured\": \"2003-04-01T00:00:00\", \"ppm\": 377.73}, {\"date_measured\": \"2003-05-01T00:00:00\", \"ppm\": 378.6}, {\"date_measured\": \"2003-06-01T00:00:00\", \"ppm\": 378.28}, {\"date_measured\": \"2003-07-01T00:00:00\", \"ppm\": 376.7}, {\"date_measured\": \"2003-08-01T00:00:00\", \"ppm\": 374.38}, {\"date_measured\": \"2003-09-01T00:00:00\", \"ppm\": 373.17}, {\"date_measured\": \"2003-10-01T00:00:00\", \"ppm\": 373.15}, {\"date_measured\": \"2003-11-01T00:00:00\", \"ppm\": 374.66}, {\"date_measured\": \"2003-12-01T00:00:00\", \"ppm\": 375.99}, {\"date_measured\": \"2004-01-01T00:00:00\", \"ppm\": 377.0}, {\"date_measured\": \"2004-02-01T00:00:00\", \"ppm\": 377.87}, {\"date_measured\": \"2004-03-01T00:00:00\", \"ppm\": 378.88}, {\"date_measured\": \"2004-04-01T00:00:00\", \"ppm\": 380.35}, {\"date_measured\": \"2004-05-01T00:00:00\", \"ppm\": 380.62}, {\"date_measured\": \"2004-06-01T00:00:00\", \"ppm\": 379.69}, {\"date_measured\": \"2004-07-01T00:00:00\", \"ppm\": 377.47}, {\"date_measured\": \"2004-08-01T00:00:00\", \"ppm\": 376.01}, {\"date_measured\": \"2004-09-01T00:00:00\", \"ppm\": 374.25}, {\"date_measured\": \"2004-10-01T00:00:00\", \"ppm\": 374.46}, {\"date_measured\": \"2004-11-01T00:00:00\", \"ppm\": 376.16}, {\"date_measured\": \"2004-12-01T00:00:00\", \"ppm\": 377.51}, {\"date_measured\": \"2005-01-01T00:00:00\", \"ppm\": 378.46}, {\"date_measured\": \"2005-02-01T00:00:00\", \"ppm\": 379.73}, {\"date_measured\": \"2005-03-01T00:00:00\", \"ppm\": 380.77}, {\"date_measured\": \"2005-04-01T00:00:00\", \"ppm\": 382.29}, {\"date_measured\": \"2005-05-01T00:00:00\", \"ppm\": 382.45}, {\"date_measured\": \"2005-06-01T00:00:00\", \"ppm\": 382.21}, {\"date_measured\": \"2005-07-01T00:00:00\", \"ppm\": 380.74}, {\"date_measured\": \"2005-08-01T00:00:00\", \"ppm\": 378.74}, {\"date_measured\": \"2005-09-01T00:00:00\", \"ppm\": 376.7}, {\"date_measured\": \"2005-10-01T00:00:00\", \"ppm\": 377.0}, {\"date_measured\": \"2005-11-01T00:00:00\", \"ppm\": 378.35}, {\"date_measured\": \"2005-12-01T00:00:00\", \"ppm\": 380.11}, {\"date_measured\": \"2006-01-01T00:00:00\", \"ppm\": 381.38}, {\"date_measured\": \"2006-02-01T00:00:00\", \"ppm\": 382.2}, {\"date_measured\": \"2006-03-01T00:00:00\", \"ppm\": 382.67}, {\"date_measured\": \"2006-04-01T00:00:00\", \"ppm\": 384.61}, {\"date_measured\": \"2006-05-01T00:00:00\", \"ppm\": 385.03}, {\"date_measured\": \"2006-06-01T00:00:00\", \"ppm\": 384.05}, {\"date_measured\": \"2006-07-01T00:00:00\", \"ppm\": 382.46}, {\"date_measured\": \"2006-08-01T00:00:00\", \"ppm\": 380.41}, {\"date_measured\": \"2006-09-01T00:00:00\", \"ppm\": 378.85}, {\"date_measured\": \"2006-10-01T00:00:00\", \"ppm\": 379.13}, {\"date_measured\": \"2006-11-01T00:00:00\", \"ppm\": 380.15}, {\"date_measured\": \"2006-12-01T00:00:00\", \"ppm\": 381.82}, {\"date_measured\": \"2007-01-01T00:00:00\", \"ppm\": 382.89}, {\"date_measured\": \"2007-02-01T00:00:00\", \"ppm\": 383.9}, {\"date_measured\": \"2007-03-01T00:00:00\", \"ppm\": 384.58}, {\"date_measured\": \"2007-04-01T00:00:00\", \"ppm\": 386.5}, {\"date_measured\": \"2007-05-01T00:00:00\", \"ppm\": 386.56}, {\"date_measured\": \"2007-06-01T00:00:00\", \"ppm\": 386.1}, {\"date_measured\": \"2007-07-01T00:00:00\", \"ppm\": 384.5}, {\"date_measured\": \"2007-08-01T00:00:00\", \"ppm\": 381.99}, {\"date_measured\": \"2007-09-01T00:00:00\", \"ppm\": 380.96}, {\"date_measured\": \"2007-10-01T00:00:00\", \"ppm\": 381.12}, {\"date_measured\": \"2007-11-01T00:00:00\", \"ppm\": 382.45}, {\"date_measured\": \"2007-12-01T00:00:00\", \"ppm\": 383.94}, {\"date_measured\": \"2008-01-01T00:00:00\", \"ppm\": 385.52}, {\"date_measured\": \"2008-02-01T00:00:00\", \"ppm\": 385.82}, {\"date_measured\": \"2008-03-01T00:00:00\", \"ppm\": 386.03}, {\"date_measured\": \"2008-04-01T00:00:00\", \"ppm\": 387.21}, {\"date_measured\": \"2008-05-01T00:00:00\", \"ppm\": 388.54}, {\"date_measured\": \"2008-06-01T00:00:00\", \"ppm\": 387.76}, {\"date_measured\": \"2008-07-01T00:00:00\", \"ppm\": 386.37}, {\"date_measured\": \"2008-08-01T00:00:00\", \"ppm\": 384.09}, {\"date_measured\": \"2008-09-01T00:00:00\", \"ppm\": 383.18}, {\"date_measured\": \"2008-10-01T00:00:00\", \"ppm\": 382.99}, {\"date_measured\": \"2008-11-01T00:00:00\", \"ppm\": 384.19}, {\"date_measured\": \"2008-12-01T00:00:00\", \"ppm\": 385.56}, {\"date_measured\": \"2009-01-01T00:00:00\", \"ppm\": 386.94}, {\"date_measured\": \"2009-02-01T00:00:00\", \"ppm\": 387.48}, {\"date_measured\": \"2009-03-01T00:00:00\", \"ppm\": 388.82}, {\"date_measured\": \"2009-04-01T00:00:00\", \"ppm\": 389.55}, {\"date_measured\": \"2009-05-01T00:00:00\", \"ppm\": 390.14}, {\"date_measured\": \"2009-06-01T00:00:00\", \"ppm\": 389.48}, {\"date_measured\": \"2009-07-01T00:00:00\", \"ppm\": 388.03}, {\"date_measured\": \"2009-08-01T00:00:00\", \"ppm\": 386.11}, {\"date_measured\": \"2009-09-01T00:00:00\", \"ppm\": 384.74}, {\"date_measured\": \"2009-10-01T00:00:00\", \"ppm\": 384.43}, {\"date_measured\": \"2009-11-01T00:00:00\", \"ppm\": 386.02}, {\"date_measured\": \"2009-12-01T00:00:00\", \"ppm\": 387.42}, {\"date_measured\": \"2010-01-01T00:00:00\", \"ppm\": 388.71}, {\"date_measured\": \"2010-02-01T00:00:00\", \"ppm\": 390.2}, {\"date_measured\": \"2010-03-01T00:00:00\", \"ppm\": 391.17}, {\"date_measured\": \"2010-04-01T00:00:00\", \"ppm\": 392.46}, {\"date_measured\": \"2010-05-01T00:00:00\", \"ppm\": 393.0}, {\"date_measured\": \"2010-06-01T00:00:00\", \"ppm\": 392.15}, {\"date_measured\": \"2010-07-01T00:00:00\", \"ppm\": 390.2}, {\"date_measured\": \"2010-08-01T00:00:00\", \"ppm\": 388.35}, {\"date_measured\": \"2010-09-01T00:00:00\", \"ppm\": 386.85}, {\"date_measured\": \"2010-10-01T00:00:00\", \"ppm\": 387.24}, {\"date_measured\": \"2010-11-01T00:00:00\", \"ppm\": 388.67}, {\"date_measured\": \"2010-12-01T00:00:00\", \"ppm\": 389.79}, {\"date_measured\": \"2011-01-01T00:00:00\", \"ppm\": 391.33}, {\"date_measured\": \"2011-02-01T00:00:00\", \"ppm\": 391.86}, {\"date_measured\": \"2011-03-01T00:00:00\", \"ppm\": 392.6}, {\"date_measured\": \"2011-04-01T00:00:00\", \"ppm\": 393.25}, {\"date_measured\": \"2011-05-01T00:00:00\", \"ppm\": 394.19}, {\"date_measured\": \"2011-06-01T00:00:00\", \"ppm\": 393.74}, {\"date_measured\": \"2011-07-01T00:00:00\", \"ppm\": 392.51}, {\"date_measured\": \"2011-08-01T00:00:00\", \"ppm\": 390.13}, {\"date_measured\": \"2011-09-01T00:00:00\", \"ppm\": 389.08}, {\"date_measured\": \"2011-10-01T00:00:00\", \"ppm\": 389.0}, {\"date_measured\": \"2011-11-01T00:00:00\", \"ppm\": 390.28}, {\"date_measured\": \"2011-12-01T00:00:00\", \"ppm\": 391.86}, {\"date_measured\": \"2012-01-01T00:00:00\", \"ppm\": 393.12}, {\"date_measured\": \"2012-02-01T00:00:00\", \"ppm\": 393.86}, {\"date_measured\": \"2012-03-01T00:00:00\", \"ppm\": 394.4}, {\"date_measured\": \"2012-04-01T00:00:00\", \"ppm\": 396.18}, {\"date_measured\": \"2012-05-01T00:00:00\", \"ppm\": 396.74}, {\"date_measured\": \"2012-06-01T00:00:00\", \"ppm\": 395.71}, {\"date_measured\": \"2012-07-01T00:00:00\", \"ppm\": 394.36}, {\"date_measured\": \"2012-08-01T00:00:00\", \"ppm\": 392.39}, {\"date_measured\": \"2012-09-01T00:00:00\", \"ppm\": 391.11}, {\"date_measured\": \"2012-10-01T00:00:00\", \"ppm\": 391.05}, {\"date_measured\": \"2012-11-01T00:00:00\", \"ppm\": 392.98}, {\"date_measured\": \"2012-12-01T00:00:00\", \"ppm\": 394.34}, {\"date_measured\": \"2013-01-01T00:00:00\", \"ppm\": 395.55}, {\"date_measured\": \"2013-02-01T00:00:00\", \"ppm\": 396.8}, {\"date_measured\": \"2013-03-01T00:00:00\", \"ppm\": 397.43}, {\"date_measured\": \"2013-04-01T00:00:00\", \"ppm\": 398.41}, {\"date_measured\": \"2013-05-01T00:00:00\", \"ppm\": 399.78}, {\"date_measured\": \"2013-06-01T00:00:00\", \"ppm\": 398.6}, {\"date_measured\": \"2013-07-01T00:00:00\", \"ppm\": 397.32}, {\"date_measured\": \"2013-08-01T00:00:00\", \"ppm\": 395.2}, {\"date_measured\": \"2013-09-01T00:00:00\", \"ppm\": 393.45}, {\"date_measured\": \"2013-10-01T00:00:00\", \"ppm\": 393.7}, {\"date_measured\": \"2013-11-01T00:00:00\", \"ppm\": 395.16}, {\"date_measured\": \"2013-12-01T00:00:00\", \"ppm\": 396.84}, {\"date_measured\": \"2014-01-01T00:00:00\", \"ppm\": 397.85}, {\"date_measured\": \"2014-02-01T00:00:00\", \"ppm\": 398.01}, {\"date_measured\": \"2014-03-01T00:00:00\", \"ppm\": 399.77}, {\"date_measured\": \"2014-04-01T00:00:00\", \"ppm\": 401.38}, {\"date_measured\": \"2014-05-01T00:00:00\", \"ppm\": 401.78}, {\"date_measured\": \"2014-06-01T00:00:00\", \"ppm\": 401.25}, {\"date_measured\": \"2014-07-01T00:00:00\", \"ppm\": 399.1}, {\"date_measured\": \"2014-08-01T00:00:00\", \"ppm\": 397.03}, {\"date_measured\": \"2014-09-01T00:00:00\", \"ppm\": 395.38}, {\"date_measured\": \"2014-10-01T00:00:00\", \"ppm\": 396.03}, {\"date_measured\": \"2014-11-01T00:00:00\", \"ppm\": 397.28}, {\"date_measured\": \"2014-12-01T00:00:00\", \"ppm\": 398.91}, {\"date_measured\": \"2015-01-01T00:00:00\", \"ppm\": 399.98}, {\"date_measured\": \"2015-02-01T00:00:00\", \"ppm\": 400.28}, {\"date_measured\": \"2015-03-01T00:00:00\", \"ppm\": 401.54}, {\"date_measured\": \"2015-04-01T00:00:00\", \"ppm\": 403.28}, {\"date_measured\": \"2015-05-01T00:00:00\", \"ppm\": 403.96}, {\"date_measured\": \"2015-06-01T00:00:00\", \"ppm\": 402.8}, {\"date_measured\": \"2015-07-01T00:00:00\", \"ppm\": 401.31}, {\"date_measured\": \"2015-08-01T00:00:00\", \"ppm\": 398.93}, {\"date_measured\": \"2015-09-01T00:00:00\", \"ppm\": 397.63}, {\"date_measured\": \"2015-10-01T00:00:00\", \"ppm\": 398.29}, {\"date_measured\": \"2015-11-01T00:00:00\", \"ppm\": 400.16}, {\"date_measured\": \"2015-12-01T00:00:00\", \"ppm\": 401.85}, {\"date_measured\": \"2016-01-01T00:00:00\", \"ppm\": 402.56}, {\"date_measured\": \"2016-02-01T00:00:00\", \"ppm\": 404.12}, {\"date_measured\": \"2016-03-01T00:00:00\", \"ppm\": 404.87}, {\"date_measured\": \"2016-04-01T00:00:00\", \"ppm\": 407.45}, {\"date_measured\": \"2016-05-01T00:00:00\", \"ppm\": 407.72}, {\"date_measured\": \"2016-06-01T00:00:00\", \"ppm\": 406.83}, {\"date_measured\": \"2016-07-01T00:00:00\", \"ppm\": 404.41}, {\"date_measured\": \"2016-08-01T00:00:00\", \"ppm\": 402.27}, {\"date_measured\": \"2016-09-01T00:00:00\", \"ppm\": 401.05}, {\"date_measured\": \"2016-10-01T00:00:00\", \"ppm\": 401.59}, {\"date_measured\": \"2016-11-01T00:00:00\", \"ppm\": 403.55}, {\"date_measured\": \"2016-12-01T00:00:00\", \"ppm\": 404.45}, {\"date_measured\": \"2017-01-01T00:00:00\", \"ppm\": 406.17}, {\"date_measured\": \"2017-02-01T00:00:00\", \"ppm\": 406.46}, {\"date_measured\": \"2017-03-01T00:00:00\", \"ppm\": 407.22}, {\"date_measured\": \"2017-04-01T00:00:00\", \"ppm\": 409.04}, {\"date_measured\": \"2017-05-01T00:00:00\", \"ppm\": 409.69}, {\"date_measured\": \"2017-06-01T00:00:00\", \"ppm\": 408.88}, {\"date_measured\": \"2017-07-01T00:00:00\", \"ppm\": 407.12}, {\"date_measured\": \"2017-08-01T00:00:00\", \"ppm\": 405.13}, {\"date_measured\": \"2017-09-01T00:00:00\", \"ppm\": 403.37}, {\"date_measured\": \"2017-10-01T00:00:00\", \"ppm\": 403.63}, {\"date_measured\": \"2017-11-01T00:00:00\", \"ppm\": 405.12}, {\"date_measured\": \"2017-12-01T00:00:00\", \"ppm\": 406.81}, {\"date_measured\": \"2018-01-01T00:00:00\", \"ppm\": 407.96}, {\"date_measured\": \"2018-02-01T00:00:00\", \"ppm\": 408.32}, {\"date_measured\": \"2018-03-01T00:00:00\", \"ppm\": 409.41}, {\"date_measured\": \"2018-04-01T00:00:00\", \"ppm\": 410.24}, {\"date_measured\": \"2018-05-01T00:00:00\", \"ppm\": 411.24}, {\"date_measured\": \"2018-06-01T00:00:00\", \"ppm\": 410.79}, {\"date_measured\": \"2018-07-01T00:00:00\", \"ppm\": 408.71}, {\"date_measured\": \"2018-08-01T00:00:00\", \"ppm\": 406.99}, {\"date_measured\": \"2018-09-01T00:00:00\", \"ppm\": 405.51}, {\"date_measured\": \"2018-10-01T00:00:00\", \"ppm\": 406.0}, {\"date_measured\": \"2018-11-01T00:00:00\", \"ppm\": 408.02}, {\"date_measured\": \"2018-12-01T00:00:00\", \"ppm\": 409.07}, {\"date_measured\": \"2019-01-01T00:00:00\", \"ppm\": 410.83}, {\"date_measured\": \"2019-02-01T00:00:00\", \"ppm\": 411.75}, {\"date_measured\": \"2019-03-01T00:00:00\", \"ppm\": 411.97}, {\"date_measured\": \"2019-04-01T00:00:00\", \"ppm\": 413.33}, {\"date_measured\": \"2019-05-01T00:00:00\", \"ppm\": 414.64}, {\"date_measured\": \"2019-06-01T00:00:00\", \"ppm\": 413.93}, {\"date_measured\": \"2019-07-01T00:00:00\", \"ppm\": 411.74}, {\"date_measured\": \"2019-08-01T00:00:00\", \"ppm\": 409.95}, {\"date_measured\": \"2019-09-01T00:00:00\", \"ppm\": 408.54}, {\"date_measured\": \"2019-10-01T00:00:00\", \"ppm\": 408.52}, {\"date_measured\": \"2019-11-01T00:00:00\", \"ppm\": 410.25}, {\"date_measured\": \"2019-12-01T00:00:00\", \"ppm\": 411.76}, {\"date_measured\": \"2020-01-01T00:00:00\", \"ppm\": 413.39}, {\"date_measured\": \"2020-02-01T00:00:00\", \"ppm\": 414.11}, {\"date_measured\": \"2020-03-01T00:00:00\", \"ppm\": 414.51}, {\"date_measured\": \"2020-04-01T00:00:00\", \"ppm\": 416.21}, {\"date_measured\": \"2020-05-01T00:00:00\", \"ppm\": 417.07}, {\"date_measured\": \"2020-06-01T00:00:00\", \"ppm\": 416.39}]}}, {\"mode\": \"vega-lite\"});\n",
       "</script>"
      ],
      "text/plain": [
       "alt.Chart(...)"
      ]
     },
     "metadata": {
      "scrapbook": {
       "mime_prefix": "application/papermill.record/",
       "name": "co2_line"
      }
     },
     "output_type": "display_data"
    }
   ],
   "source": [
    "glue('co2_line', co2_line, display=False)"
   ]
  },
  {
   "cell_type": "markdown",
   "id": "52a24e49",
   "metadata": {},
   "source": [
    ":::{glue:figure} co2_line\n",
    ":figwidth: 700px \n",
    ":name: co2_line\n",
    "\n",
    "Line plot of atmospheric concentration of CO$_{2}$ over time.\n",
    ":::\n",
    "\n",
    "\n",
    "Aha! {numref}`co2_line` shows us there *is* another interesting\n",
    "phenomenon in the data: in addition to increasing over time, the concentration\n",
    "seems to oscillate as well.  Given the visualization as it is now, it is still\n",
    "hard to tell how fast the oscillation is, but nevertheless, the line seems to\n",
    "be a better choice for answering the question than the scatter plot was. The\n",
    "comparison between these two visualizations also illustrates a common issue with\n",
    "scatter plots: often, the points are shown too close together or even on top of\n",
    "one another, muddling information that would otherwise be clear\n",
    "(*overplotting*). \\index{overplotting}\n",
    "\n",
    "Now that we have settled on the rough details of the visualization, it is time\n",
    "to refine things. This plot is fairly straightforward, and there is not much\n",
    "visual noise to remove. But there are a few things we must do to improve\n",
    "clarity, such as adding informative axis labels and making the font a more\n",
    "readable size.  To add axis labels, we use the `title` argument along with `alt.X` and `alt.Y` functions. To\n",
    "change the font size, we use the `configure_axis` function with the `titleFontSize` argument:\n",
    "\\index{ggplot!xlab,ylab}\n",
    "\\index{ggplot!theme}"
   ]
  },
  {
   "cell_type": "code",
   "execution_count": 11,
   "id": "fe9604ec",
   "metadata": {},
   "outputs": [],
   "source": [
    "co2_line_labels = alt.Chart(co2_df).mark_line(color='black').encode(\n",
    "    x = alt.X(\"date_measured\", title = \"Year\"),\n",
    "    y = alt.Y(\"ppm\", scale=alt.Scale(zero=False), title = \"Atmospheric CO2 (ppm)\")).configure_axis(\n",
    "    titleFontSize=12)\n"
   ]
  },
  {
   "cell_type": "code",
   "execution_count": 12,
   "id": "7691e2c9",
   "metadata": {
    "tags": [
     "remove-cell"
    ]
   },
   "outputs": [
    {
     "data": {
      "text/html": [
       "\n",
       "<div id=\"altair-viz-a73498f080e543e5b503c8329f34c46c\"></div>\n",
       "<script type=\"text/javascript\">\n",
       "  var VEGA_DEBUG = (typeof VEGA_DEBUG == \"undefined\") ? {} : VEGA_DEBUG;\n",
       "  (function(spec, embedOpt){\n",
       "    let outputDiv = document.currentScript.previousElementSibling;\n",
       "    if (outputDiv.id !== \"altair-viz-a73498f080e543e5b503c8329f34c46c\") {\n",
       "      outputDiv = document.getElementById(\"altair-viz-a73498f080e543e5b503c8329f34c46c\");\n",
       "    }\n",
       "    const paths = {\n",
       "      \"vega\": \"https://cdn.jsdelivr.net/npm//vega@5?noext\",\n",
       "      \"vega-lib\": \"https://cdn.jsdelivr.net/npm//vega-lib?noext\",\n",
       "      \"vega-lite\": \"https://cdn.jsdelivr.net/npm//vega-lite@4.17.0?noext\",\n",
       "      \"vega-embed\": \"https://cdn.jsdelivr.net/npm//vega-embed@6?noext\",\n",
       "    };\n",
       "\n",
       "    function maybeLoadScript(lib, version) {\n",
       "      var key = `${lib.replace(\"-\", \"\")}_version`;\n",
       "      return (VEGA_DEBUG[key] == version) ?\n",
       "        Promise.resolve(paths[lib]) :\n",
       "        new Promise(function(resolve, reject) {\n",
       "          var s = document.createElement('script');\n",
       "          document.getElementsByTagName(\"head\")[0].appendChild(s);\n",
       "          s.async = true;\n",
       "          s.onload = () => {\n",
       "            VEGA_DEBUG[key] = version;\n",
       "            return resolve(paths[lib]);\n",
       "          };\n",
       "          s.onerror = () => reject(`Error loading script: ${paths[lib]}`);\n",
       "          s.src = paths[lib];\n",
       "        });\n",
       "    }\n",
       "\n",
       "    function showError(err) {\n",
       "      outputDiv.innerHTML = `<div class=\"error\" style=\"color:red;\">${err}</div>`;\n",
       "      throw err;\n",
       "    }\n",
       "\n",
       "    function displayChart(vegaEmbed) {\n",
       "      vegaEmbed(outputDiv, spec, embedOpt)\n",
       "        .catch(err => showError(`Javascript Error: ${err.message}<br>This usually means there's a typo in your chart specification. See the javascript console for the full traceback.`));\n",
       "    }\n",
       "\n",
       "    if(typeof define === \"function\" && define.amd) {\n",
       "      requirejs.config({paths});\n",
       "      require([\"vega-embed\"], displayChart, err => showError(`Error loading script: ${err.message}`));\n",
       "    } else {\n",
       "      maybeLoadScript(\"vega\", \"5\")\n",
       "        .then(() => maybeLoadScript(\"vega-lite\", \"4.17.0\"))\n",
       "        .then(() => maybeLoadScript(\"vega-embed\", \"6\"))\n",
       "        .catch(showError)\n",
       "        .then(() => displayChart(vegaEmbed));\n",
       "    }\n",
       "  })({\"config\": {\"view\": {\"continuousWidth\": 400, \"continuousHeight\": 300}, \"axis\": {\"titleFontSize\": 12}}, \"data\": {\"name\": \"data-ecfc281786dd23148efa483af3159f83\"}, \"mark\": {\"type\": \"line\", \"color\": \"black\"}, \"encoding\": {\"x\": {\"field\": \"date_measured\", \"title\": \"Year\", \"type\": \"temporal\"}, \"y\": {\"field\": \"ppm\", \"scale\": {\"zero\": false}, \"title\": \"Atmospheric CO2 (ppm)\", \"type\": \"quantitative\"}}, \"$schema\": \"https://vega.github.io/schema/vega-lite/v4.17.0.json\", \"datasets\": {\"data-ecfc281786dd23148efa483af3159f83\": [{\"date_measured\": \"1980-02-01T00:00:00\", \"ppm\": 338.34}, {\"date_measured\": \"1980-03-01T00:00:00\", \"ppm\": 340.01}, {\"date_measured\": \"1980-04-01T00:00:00\", \"ppm\": 340.93}, {\"date_measured\": \"1980-05-01T00:00:00\", \"ppm\": 341.48}, {\"date_measured\": \"1980-06-01T00:00:00\", \"ppm\": 341.33}, {\"date_measured\": \"1980-07-01T00:00:00\", \"ppm\": 339.4}, {\"date_measured\": \"1980-08-01T00:00:00\", \"ppm\": 337.7}, {\"date_measured\": \"1980-09-01T00:00:00\", \"ppm\": 336.19}, {\"date_measured\": \"1980-10-01T00:00:00\", \"ppm\": 336.15}, {\"date_measured\": \"1980-11-01T00:00:00\", \"ppm\": 337.27}, {\"date_measured\": \"1980-12-01T00:00:00\", \"ppm\": 338.32}, {\"date_measured\": \"1981-01-01T00:00:00\", \"ppm\": 339.29}, {\"date_measured\": \"1981-02-01T00:00:00\", \"ppm\": 340.55}, {\"date_measured\": \"1981-03-01T00:00:00\", \"ppm\": 341.61}, {\"date_measured\": \"1981-04-01T00:00:00\", \"ppm\": 342.53}, {\"date_measured\": \"1981-05-01T00:00:00\", \"ppm\": 343.03}, {\"date_measured\": \"1981-06-01T00:00:00\", \"ppm\": 342.54}, {\"date_measured\": \"1981-07-01T00:00:00\", \"ppm\": 340.78}, {\"date_measured\": \"1981-08-01T00:00:00\", \"ppm\": 338.44}, {\"date_measured\": \"1981-09-01T00:00:00\", \"ppm\": 336.95}, {\"date_measured\": \"1981-10-01T00:00:00\", \"ppm\": 337.08}, {\"date_measured\": \"1981-11-01T00:00:00\", \"ppm\": 338.58}, {\"date_measured\": \"1981-12-01T00:00:00\", \"ppm\": 339.88}, {\"date_measured\": \"1982-01-01T00:00:00\", \"ppm\": 340.96}, {\"date_measured\": \"1982-02-01T00:00:00\", \"ppm\": 341.73}, {\"date_measured\": \"1982-03-01T00:00:00\", \"ppm\": 342.81}, {\"date_measured\": \"1982-04-01T00:00:00\", \"ppm\": 343.97}, {\"date_measured\": \"1982-05-01T00:00:00\", \"ppm\": 344.63}, {\"date_measured\": \"1982-06-01T00:00:00\", \"ppm\": 343.79}, {\"date_measured\": \"1982-07-01T00:00:00\", \"ppm\": 342.32}, {\"date_measured\": \"1982-08-01T00:00:00\", \"ppm\": 340.09}, {\"date_measured\": \"1982-09-01T00:00:00\", \"ppm\": 338.28}, {\"date_measured\": \"1982-10-01T00:00:00\", \"ppm\": 338.29}, {\"date_measured\": \"1982-11-01T00:00:00\", \"ppm\": 339.6}, {\"date_measured\": \"1982-12-01T00:00:00\", \"ppm\": 340.9}, {\"date_measured\": \"1983-01-01T00:00:00\", \"ppm\": 341.68}, {\"date_measured\": \"1983-02-01T00:00:00\", \"ppm\": 342.9}, {\"date_measured\": \"1983-03-01T00:00:00\", \"ppm\": 343.33}, {\"date_measured\": \"1983-04-01T00:00:00\", \"ppm\": 345.25}, {\"date_measured\": \"1983-05-01T00:00:00\", \"ppm\": 346.03}, {\"date_measured\": \"1983-06-01T00:00:00\", \"ppm\": 345.63}, {\"date_measured\": \"1983-07-01T00:00:00\", \"ppm\": 344.19}, {\"date_measured\": \"1983-08-01T00:00:00\", \"ppm\": 342.27}, {\"date_measured\": \"1983-09-01T00:00:00\", \"ppm\": 340.35}, {\"date_measured\": \"1983-10-01T00:00:00\", \"ppm\": 340.38}, {\"date_measured\": \"1983-11-01T00:00:00\", \"ppm\": 341.59}, {\"date_measured\": \"1983-12-01T00:00:00\", \"ppm\": 343.05}, {\"date_measured\": \"1984-01-01T00:00:00\", \"ppm\": 344.1}, {\"date_measured\": \"1984-02-01T00:00:00\", \"ppm\": 344.79}, {\"date_measured\": \"1984-03-01T00:00:00\", \"ppm\": 345.52}, {\"date_measured\": \"1984-05-01T00:00:00\", \"ppm\": 347.63}, {\"date_measured\": \"1984-06-01T00:00:00\", \"ppm\": 346.98}, {\"date_measured\": \"1984-07-01T00:00:00\", \"ppm\": 345.53}, {\"date_measured\": \"1984-08-01T00:00:00\", \"ppm\": 343.55}, {\"date_measured\": \"1984-09-01T00:00:00\", \"ppm\": 341.4}, {\"date_measured\": \"1984-10-01T00:00:00\", \"ppm\": 341.67}, {\"date_measured\": \"1984-11-01T00:00:00\", \"ppm\": 343.1}, {\"date_measured\": \"1984-12-01T00:00:00\", \"ppm\": 344.7}, {\"date_measured\": \"1985-01-01T00:00:00\", \"ppm\": 345.21}, {\"date_measured\": \"1985-02-01T00:00:00\", \"ppm\": 346.16}, {\"date_measured\": \"1985-03-01T00:00:00\", \"ppm\": 347.74}, {\"date_measured\": \"1985-04-01T00:00:00\", \"ppm\": 348.34}, {\"date_measured\": \"1985-05-01T00:00:00\", \"ppm\": 349.06}, {\"date_measured\": \"1985-06-01T00:00:00\", \"ppm\": 348.38}, {\"date_measured\": \"1985-07-01T00:00:00\", \"ppm\": 346.71}, {\"date_measured\": \"1985-08-01T00:00:00\", \"ppm\": 345.02}, {\"date_measured\": \"1985-09-01T00:00:00\", \"ppm\": 343.27}, {\"date_measured\": \"1985-10-01T00:00:00\", \"ppm\": 343.13}, {\"date_measured\": \"1985-11-01T00:00:00\", \"ppm\": 344.49}, {\"date_measured\": \"1985-12-01T00:00:00\", \"ppm\": 345.88}, {\"date_measured\": \"1986-01-01T00:00:00\", \"ppm\": 346.56}, {\"date_measured\": \"1986-02-01T00:00:00\", \"ppm\": 347.28}, {\"date_measured\": \"1986-03-01T00:00:00\", \"ppm\": 348.01}, {\"date_measured\": \"1986-04-01T00:00:00\", \"ppm\": 349.77}, {\"date_measured\": \"1986-05-01T00:00:00\", \"ppm\": 350.38}, {\"date_measured\": \"1986-06-01T00:00:00\", \"ppm\": 349.93}, {\"date_measured\": \"1986-07-01T00:00:00\", \"ppm\": 348.16}, {\"date_measured\": \"1986-08-01T00:00:00\", \"ppm\": 346.08}, {\"date_measured\": \"1986-09-01T00:00:00\", \"ppm\": 345.22}, {\"date_measured\": \"1986-10-01T00:00:00\", \"ppm\": 344.51}, {\"date_measured\": \"1986-11-01T00:00:00\", \"ppm\": 345.93}, {\"date_measured\": \"1986-12-01T00:00:00\", \"ppm\": 347.22}, {\"date_measured\": \"1987-01-01T00:00:00\", \"ppm\": 348.52}, {\"date_measured\": \"1987-02-01T00:00:00\", \"ppm\": 348.73}, {\"date_measured\": \"1987-03-01T00:00:00\", \"ppm\": 349.73}, {\"date_measured\": \"1987-04-01T00:00:00\", \"ppm\": 351.31}, {\"date_measured\": \"1987-05-01T00:00:00\", \"ppm\": 352.09}, {\"date_measured\": \"1987-06-01T00:00:00\", \"ppm\": 351.53}, {\"date_measured\": \"1987-07-01T00:00:00\", \"ppm\": 350.11}, {\"date_measured\": \"1987-08-01T00:00:00\", \"ppm\": 348.08}, {\"date_measured\": \"1987-09-01T00:00:00\", \"ppm\": 346.52}, {\"date_measured\": \"1987-10-01T00:00:00\", \"ppm\": 346.59}, {\"date_measured\": \"1987-11-01T00:00:00\", \"ppm\": 347.96}, {\"date_measured\": \"1987-12-01T00:00:00\", \"ppm\": 349.16}, {\"date_measured\": \"1988-01-01T00:00:00\", \"ppm\": 350.39}, {\"date_measured\": \"1988-02-01T00:00:00\", \"ppm\": 351.64}, {\"date_measured\": \"1988-03-01T00:00:00\", \"ppm\": 352.4}, {\"date_measured\": \"1988-04-01T00:00:00\", \"ppm\": 353.69}, {\"date_measured\": \"1988-05-01T00:00:00\", \"ppm\": 354.21}, {\"date_measured\": \"1988-06-01T00:00:00\", \"ppm\": 353.72}, {\"date_measured\": \"1988-07-01T00:00:00\", \"ppm\": 352.69}, {\"date_measured\": \"1988-08-01T00:00:00\", \"ppm\": 350.4}, {\"date_measured\": \"1988-09-01T00:00:00\", \"ppm\": 348.92}, {\"date_measured\": \"1988-10-01T00:00:00\", \"ppm\": 349.13}, {\"date_measured\": \"1988-11-01T00:00:00\", \"ppm\": 350.2}, {\"date_measured\": \"1988-12-01T00:00:00\", \"ppm\": 351.41}, {\"date_measured\": \"1989-01-01T00:00:00\", \"ppm\": 352.91}, {\"date_measured\": \"1989-02-01T00:00:00\", \"ppm\": 353.27}, {\"date_measured\": \"1989-03-01T00:00:00\", \"ppm\": 353.96}, {\"date_measured\": \"1989-04-01T00:00:00\", \"ppm\": 355.64}, {\"date_measured\": \"1989-05-01T00:00:00\", \"ppm\": 355.86}, {\"date_measured\": \"1989-06-01T00:00:00\", \"ppm\": 355.37}, {\"date_measured\": \"1989-07-01T00:00:00\", \"ppm\": 353.99}, {\"date_measured\": \"1989-08-01T00:00:00\", \"ppm\": 351.81}, {\"date_measured\": \"1989-09-01T00:00:00\", \"ppm\": 350.05}, {\"date_measured\": \"1989-10-01T00:00:00\", \"ppm\": 350.25}, {\"date_measured\": \"1989-11-01T00:00:00\", \"ppm\": 351.49}, {\"date_measured\": \"1989-12-01T00:00:00\", \"ppm\": 352.85}, {\"date_measured\": \"1990-01-01T00:00:00\", \"ppm\": 353.8}, {\"date_measured\": \"1990-02-01T00:00:00\", \"ppm\": 355.04}, {\"date_measured\": \"1990-03-01T00:00:00\", \"ppm\": 355.73}, {\"date_measured\": \"1990-04-01T00:00:00\", \"ppm\": 356.32}, {\"date_measured\": \"1990-05-01T00:00:00\", \"ppm\": 357.32}, {\"date_measured\": \"1990-06-01T00:00:00\", \"ppm\": 356.34}, {\"date_measured\": \"1990-07-01T00:00:00\", \"ppm\": 354.84}, {\"date_measured\": \"1990-08-01T00:00:00\", \"ppm\": 353.01}, {\"date_measured\": \"1990-09-01T00:00:00\", \"ppm\": 351.31}, {\"date_measured\": \"1990-10-01T00:00:00\", \"ppm\": 351.62}, {\"date_measured\": \"1990-11-01T00:00:00\", \"ppm\": 353.07}, {\"date_measured\": \"1990-12-01T00:00:00\", \"ppm\": 354.33}, {\"date_measured\": \"1991-01-01T00:00:00\", \"ppm\": 354.84}, {\"date_measured\": \"1991-02-01T00:00:00\", \"ppm\": 355.73}, {\"date_measured\": \"1991-03-01T00:00:00\", \"ppm\": 357.23}, {\"date_measured\": \"1991-04-01T00:00:00\", \"ppm\": 358.66}, {\"date_measured\": \"1991-05-01T00:00:00\", \"ppm\": 359.13}, {\"date_measured\": \"1991-06-01T00:00:00\", \"ppm\": 358.13}, {\"date_measured\": \"1991-07-01T00:00:00\", \"ppm\": 356.19}, {\"date_measured\": \"1991-08-01T00:00:00\", \"ppm\": 353.85}, {\"date_measured\": \"1991-09-01T00:00:00\", \"ppm\": 352.25}, {\"date_measured\": \"1991-10-01T00:00:00\", \"ppm\": 352.35}, {\"date_measured\": \"1991-11-01T00:00:00\", \"ppm\": 353.81}, {\"date_measured\": \"1991-12-01T00:00:00\", \"ppm\": 355.12}, {\"date_measured\": \"1992-01-01T00:00:00\", \"ppm\": 356.25}, {\"date_measured\": \"1992-02-01T00:00:00\", \"ppm\": 357.11}, {\"date_measured\": \"1992-03-01T00:00:00\", \"ppm\": 357.86}, {\"date_measured\": \"1992-04-01T00:00:00\", \"ppm\": 359.09}, {\"date_measured\": \"1992-05-01T00:00:00\", \"ppm\": 359.59}, {\"date_measured\": \"1992-06-01T00:00:00\", \"ppm\": 359.33}, {\"date_measured\": \"1992-07-01T00:00:00\", \"ppm\": 357.01}, {\"date_measured\": \"1992-08-01T00:00:00\", \"ppm\": 354.94}, {\"date_measured\": \"1992-09-01T00:00:00\", \"ppm\": 352.95}, {\"date_measured\": \"1992-10-01T00:00:00\", \"ppm\": 353.32}, {\"date_measured\": \"1992-11-01T00:00:00\", \"ppm\": 354.32}, {\"date_measured\": \"1992-12-01T00:00:00\", \"ppm\": 355.57}, {\"date_measured\": \"1993-01-01T00:00:00\", \"ppm\": 357.0}, {\"date_measured\": \"1993-02-01T00:00:00\", \"ppm\": 357.31}, {\"date_measured\": \"1993-03-01T00:00:00\", \"ppm\": 358.47}, {\"date_measured\": \"1993-04-01T00:00:00\", \"ppm\": 359.27}, {\"date_measured\": \"1993-05-01T00:00:00\", \"ppm\": 360.19}, {\"date_measured\": \"1993-06-01T00:00:00\", \"ppm\": 359.52}, {\"date_measured\": \"1993-07-01T00:00:00\", \"ppm\": 357.33}, {\"date_measured\": \"1993-08-01T00:00:00\", \"ppm\": 355.64}, {\"date_measured\": \"1993-09-01T00:00:00\", \"ppm\": 354.03}, {\"date_measured\": \"1993-10-01T00:00:00\", \"ppm\": 354.12}, {\"date_measured\": \"1993-11-01T00:00:00\", \"ppm\": 355.41}, {\"date_measured\": \"1993-12-01T00:00:00\", \"ppm\": 356.91}, {\"date_measured\": \"1994-01-01T00:00:00\", \"ppm\": 358.24}, {\"date_measured\": \"1994-02-01T00:00:00\", \"ppm\": 358.92}, {\"date_measured\": \"1994-03-01T00:00:00\", \"ppm\": 359.99}, {\"date_measured\": \"1994-04-01T00:00:00\", \"ppm\": 361.23}, {\"date_measured\": \"1994-05-01T00:00:00\", \"ppm\": 361.65}, {\"date_measured\": \"1994-06-01T00:00:00\", \"ppm\": 360.81}, {\"date_measured\": \"1994-07-01T00:00:00\", \"ppm\": 359.38}, {\"date_measured\": \"1994-08-01T00:00:00\", \"ppm\": 357.46}, {\"date_measured\": \"1994-09-01T00:00:00\", \"ppm\": 355.73}, {\"date_measured\": \"1994-10-01T00:00:00\", \"ppm\": 356.08}, {\"date_measured\": \"1994-11-01T00:00:00\", \"ppm\": 357.53}, {\"date_measured\": \"1994-12-01T00:00:00\", \"ppm\": 358.98}, {\"date_measured\": \"1995-01-01T00:00:00\", \"ppm\": 359.92}, {\"date_measured\": \"1995-02-01T00:00:00\", \"ppm\": 360.86}, {\"date_measured\": \"1995-03-01T00:00:00\", \"ppm\": 361.83}, {\"date_measured\": \"1995-04-01T00:00:00\", \"ppm\": 363.3}, {\"date_measured\": \"1995-05-01T00:00:00\", \"ppm\": 363.69}, {\"date_measured\": \"1995-06-01T00:00:00\", \"ppm\": 363.19}, {\"date_measured\": \"1995-07-01T00:00:00\", \"ppm\": 361.64}, {\"date_measured\": \"1995-08-01T00:00:00\", \"ppm\": 359.12}, {\"date_measured\": \"1995-09-01T00:00:00\", \"ppm\": 358.17}, {\"date_measured\": \"1995-10-01T00:00:00\", \"ppm\": 357.99}, {\"date_measured\": \"1995-11-01T00:00:00\", \"ppm\": 359.45}, {\"date_measured\": \"1995-12-01T00:00:00\", \"ppm\": 360.68}, {\"date_measured\": \"1996-01-01T00:00:00\", \"ppm\": 362.07}, {\"date_measured\": \"1996-02-01T00:00:00\", \"ppm\": 363.24}, {\"date_measured\": \"1996-03-01T00:00:00\", \"ppm\": 364.17}, {\"date_measured\": \"1996-04-01T00:00:00\", \"ppm\": 364.57}, {\"date_measured\": \"1996-05-01T00:00:00\", \"ppm\": 365.13}, {\"date_measured\": \"1996-06-01T00:00:00\", \"ppm\": 364.92}, {\"date_measured\": \"1996-07-01T00:00:00\", \"ppm\": 363.55}, {\"date_measured\": \"1996-08-01T00:00:00\", \"ppm\": 361.38}, {\"date_measured\": \"1996-09-01T00:00:00\", \"ppm\": 359.54}, {\"date_measured\": \"1996-10-01T00:00:00\", \"ppm\": 359.58}, {\"date_measured\": \"1996-11-01T00:00:00\", \"ppm\": 360.89}, {\"date_measured\": \"1996-12-01T00:00:00\", \"ppm\": 362.24}, {\"date_measured\": \"1997-01-01T00:00:00\", \"ppm\": 363.09}, {\"date_measured\": \"1997-02-01T00:00:00\", \"ppm\": 364.03}, {\"date_measured\": \"1997-03-01T00:00:00\", \"ppm\": 364.51}, {\"date_measured\": \"1997-04-01T00:00:00\", \"ppm\": 366.35}, {\"date_measured\": \"1997-05-01T00:00:00\", \"ppm\": 366.64}, {\"date_measured\": \"1997-06-01T00:00:00\", \"ppm\": 365.59}, {\"date_measured\": \"1997-07-01T00:00:00\", \"ppm\": 364.31}, {\"date_measured\": \"1997-08-01T00:00:00\", \"ppm\": 362.25}, {\"date_measured\": \"1997-09-01T00:00:00\", \"ppm\": 360.29}, {\"date_measured\": \"1997-10-01T00:00:00\", \"ppm\": 360.82}, {\"date_measured\": \"1997-11-01T00:00:00\", \"ppm\": 362.49}, {\"date_measured\": \"1997-12-01T00:00:00\", \"ppm\": 364.38}, {\"date_measured\": \"1998-01-01T00:00:00\", \"ppm\": 365.27}, {\"date_measured\": \"1998-02-01T00:00:00\", \"ppm\": 365.98}, {\"date_measured\": \"1998-03-01T00:00:00\", \"ppm\": 367.24}, {\"date_measured\": \"1998-04-01T00:00:00\", \"ppm\": 368.66}, {\"date_measured\": \"1998-05-01T00:00:00\", \"ppm\": 369.42}, {\"date_measured\": \"1998-06-01T00:00:00\", \"ppm\": 368.99}, {\"date_measured\": \"1998-07-01T00:00:00\", \"ppm\": 367.82}, {\"date_measured\": \"1998-08-01T00:00:00\", \"ppm\": 365.95}, {\"date_measured\": \"1998-09-01T00:00:00\", \"ppm\": 364.02}, {\"date_measured\": \"1998-10-01T00:00:00\", \"ppm\": 364.4}, {\"date_measured\": \"1998-11-01T00:00:00\", \"ppm\": 365.52}, {\"date_measured\": \"1998-12-01T00:00:00\", \"ppm\": 367.13}, {\"date_measured\": \"1999-01-01T00:00:00\", \"ppm\": 368.18}, {\"date_measured\": \"1999-02-01T00:00:00\", \"ppm\": 369.07}, {\"date_measured\": \"1999-03-01T00:00:00\", \"ppm\": 369.68}, {\"date_measured\": \"1999-04-01T00:00:00\", \"ppm\": 370.99}, {\"date_measured\": \"1999-05-01T00:00:00\", \"ppm\": 370.96}, {\"date_measured\": \"1999-06-01T00:00:00\", \"ppm\": 370.3}, {\"date_measured\": \"1999-07-01T00:00:00\", \"ppm\": 369.45}, {\"date_measured\": \"1999-08-01T00:00:00\", \"ppm\": 366.9}, {\"date_measured\": \"1999-09-01T00:00:00\", \"ppm\": 364.81}, {\"date_measured\": \"1999-10-01T00:00:00\", \"ppm\": 365.37}, {\"date_measured\": \"1999-11-01T00:00:00\", \"ppm\": 366.72}, {\"date_measured\": \"1999-12-01T00:00:00\", \"ppm\": 368.1}, {\"date_measured\": \"2000-01-01T00:00:00\", \"ppm\": 369.29}, {\"date_measured\": \"2000-02-01T00:00:00\", \"ppm\": 369.55}, {\"date_measured\": \"2000-03-01T00:00:00\", \"ppm\": 370.6}, {\"date_measured\": \"2000-04-01T00:00:00\", \"ppm\": 371.82}, {\"date_measured\": \"2000-05-01T00:00:00\", \"ppm\": 371.58}, {\"date_measured\": \"2000-06-01T00:00:00\", \"ppm\": 371.7}, {\"date_measured\": \"2000-07-01T00:00:00\", \"ppm\": 369.86}, {\"date_measured\": \"2000-08-01T00:00:00\", \"ppm\": 368.13}, {\"date_measured\": \"2000-09-01T00:00:00\", \"ppm\": 367.0}, {\"date_measured\": \"2000-10-01T00:00:00\", \"ppm\": 367.03}, {\"date_measured\": \"2000-11-01T00:00:00\", \"ppm\": 368.37}, {\"date_measured\": \"2000-12-01T00:00:00\", \"ppm\": 369.67}, {\"date_measured\": \"2001-01-01T00:00:00\", \"ppm\": 370.59}, {\"date_measured\": \"2001-02-01T00:00:00\", \"ppm\": 371.51}, {\"date_measured\": \"2001-03-01T00:00:00\", \"ppm\": 372.43}, {\"date_measured\": \"2001-04-01T00:00:00\", \"ppm\": 373.37}, {\"date_measured\": \"2001-05-01T00:00:00\", \"ppm\": 373.85}, {\"date_measured\": \"2001-06-01T00:00:00\", \"ppm\": 373.22}, {\"date_measured\": \"2001-07-01T00:00:00\", \"ppm\": 371.5}, {\"date_measured\": \"2001-08-01T00:00:00\", \"ppm\": 369.61}, {\"date_measured\": \"2001-09-01T00:00:00\", \"ppm\": 368.18}, {\"date_measured\": \"2001-10-01T00:00:00\", \"ppm\": 368.45}, {\"date_measured\": \"2001-11-01T00:00:00\", \"ppm\": 369.76}, {\"date_measured\": \"2001-12-01T00:00:00\", \"ppm\": 371.24}, {\"date_measured\": \"2002-01-01T00:00:00\", \"ppm\": 372.53}, {\"date_measured\": \"2002-02-01T00:00:00\", \"ppm\": 373.2}, {\"date_measured\": \"2002-03-01T00:00:00\", \"ppm\": 374.12}, {\"date_measured\": \"2002-04-01T00:00:00\", \"ppm\": 375.02}, {\"date_measured\": \"2002-05-01T00:00:00\", \"ppm\": 375.76}, {\"date_measured\": \"2002-06-01T00:00:00\", \"ppm\": 375.52}, {\"date_measured\": \"2002-07-01T00:00:00\", \"ppm\": 374.01}, {\"date_measured\": \"2002-08-01T00:00:00\", \"ppm\": 371.85}, {\"date_measured\": \"2002-09-01T00:00:00\", \"ppm\": 370.75}, {\"date_measured\": \"2002-10-01T00:00:00\", \"ppm\": 370.55}, {\"date_measured\": \"2002-11-01T00:00:00\", \"ppm\": 372.25}, {\"date_measured\": \"2002-12-01T00:00:00\", \"ppm\": 373.79}, {\"date_measured\": \"2003-01-01T00:00:00\", \"ppm\": 374.88}, {\"date_measured\": \"2003-02-01T00:00:00\", \"ppm\": 375.64}, {\"date_measured\": \"2003-03-01T00:00:00\", \"ppm\": 376.45}, {\"date_measured\": \"2003-04-01T00:00:00\", \"ppm\": 377.73}, {\"date_measured\": \"2003-05-01T00:00:00\", \"ppm\": 378.6}, {\"date_measured\": \"2003-06-01T00:00:00\", \"ppm\": 378.28}, {\"date_measured\": \"2003-07-01T00:00:00\", \"ppm\": 376.7}, {\"date_measured\": \"2003-08-01T00:00:00\", \"ppm\": 374.38}, {\"date_measured\": \"2003-09-01T00:00:00\", \"ppm\": 373.17}, {\"date_measured\": \"2003-10-01T00:00:00\", \"ppm\": 373.15}, {\"date_measured\": \"2003-11-01T00:00:00\", \"ppm\": 374.66}, {\"date_measured\": \"2003-12-01T00:00:00\", \"ppm\": 375.99}, {\"date_measured\": \"2004-01-01T00:00:00\", \"ppm\": 377.0}, {\"date_measured\": \"2004-02-01T00:00:00\", \"ppm\": 377.87}, {\"date_measured\": \"2004-03-01T00:00:00\", \"ppm\": 378.88}, {\"date_measured\": \"2004-04-01T00:00:00\", \"ppm\": 380.35}, {\"date_measured\": \"2004-05-01T00:00:00\", \"ppm\": 380.62}, {\"date_measured\": \"2004-06-01T00:00:00\", \"ppm\": 379.69}, {\"date_measured\": \"2004-07-01T00:00:00\", \"ppm\": 377.47}, {\"date_measured\": \"2004-08-01T00:00:00\", \"ppm\": 376.01}, {\"date_measured\": \"2004-09-01T00:00:00\", \"ppm\": 374.25}, {\"date_measured\": \"2004-10-01T00:00:00\", \"ppm\": 374.46}, {\"date_measured\": \"2004-11-01T00:00:00\", \"ppm\": 376.16}, {\"date_measured\": \"2004-12-01T00:00:00\", \"ppm\": 377.51}, {\"date_measured\": \"2005-01-01T00:00:00\", \"ppm\": 378.46}, {\"date_measured\": \"2005-02-01T00:00:00\", \"ppm\": 379.73}, {\"date_measured\": \"2005-03-01T00:00:00\", \"ppm\": 380.77}, {\"date_measured\": \"2005-04-01T00:00:00\", \"ppm\": 382.29}, {\"date_measured\": \"2005-05-01T00:00:00\", \"ppm\": 382.45}, {\"date_measured\": \"2005-06-01T00:00:00\", \"ppm\": 382.21}, {\"date_measured\": \"2005-07-01T00:00:00\", \"ppm\": 380.74}, {\"date_measured\": \"2005-08-01T00:00:00\", \"ppm\": 378.74}, {\"date_measured\": \"2005-09-01T00:00:00\", \"ppm\": 376.7}, {\"date_measured\": \"2005-10-01T00:00:00\", \"ppm\": 377.0}, {\"date_measured\": \"2005-11-01T00:00:00\", \"ppm\": 378.35}, {\"date_measured\": \"2005-12-01T00:00:00\", \"ppm\": 380.11}, {\"date_measured\": \"2006-01-01T00:00:00\", \"ppm\": 381.38}, {\"date_measured\": \"2006-02-01T00:00:00\", \"ppm\": 382.2}, {\"date_measured\": \"2006-03-01T00:00:00\", \"ppm\": 382.67}, {\"date_measured\": \"2006-04-01T00:00:00\", \"ppm\": 384.61}, {\"date_measured\": \"2006-05-01T00:00:00\", \"ppm\": 385.03}, {\"date_measured\": \"2006-06-01T00:00:00\", \"ppm\": 384.05}, {\"date_measured\": \"2006-07-01T00:00:00\", \"ppm\": 382.46}, {\"date_measured\": \"2006-08-01T00:00:00\", \"ppm\": 380.41}, {\"date_measured\": \"2006-09-01T00:00:00\", \"ppm\": 378.85}, {\"date_measured\": \"2006-10-01T00:00:00\", \"ppm\": 379.13}, {\"date_measured\": \"2006-11-01T00:00:00\", \"ppm\": 380.15}, {\"date_measured\": \"2006-12-01T00:00:00\", \"ppm\": 381.82}, {\"date_measured\": \"2007-01-01T00:00:00\", \"ppm\": 382.89}, {\"date_measured\": \"2007-02-01T00:00:00\", \"ppm\": 383.9}, {\"date_measured\": \"2007-03-01T00:00:00\", \"ppm\": 384.58}, {\"date_measured\": \"2007-04-01T00:00:00\", \"ppm\": 386.5}, {\"date_measured\": \"2007-05-01T00:00:00\", \"ppm\": 386.56}, {\"date_measured\": \"2007-06-01T00:00:00\", \"ppm\": 386.1}, {\"date_measured\": \"2007-07-01T00:00:00\", \"ppm\": 384.5}, {\"date_measured\": \"2007-08-01T00:00:00\", \"ppm\": 381.99}, {\"date_measured\": \"2007-09-01T00:00:00\", \"ppm\": 380.96}, {\"date_measured\": \"2007-10-01T00:00:00\", \"ppm\": 381.12}, {\"date_measured\": \"2007-11-01T00:00:00\", \"ppm\": 382.45}, {\"date_measured\": \"2007-12-01T00:00:00\", \"ppm\": 383.94}, {\"date_measured\": \"2008-01-01T00:00:00\", \"ppm\": 385.52}, {\"date_measured\": \"2008-02-01T00:00:00\", \"ppm\": 385.82}, {\"date_measured\": \"2008-03-01T00:00:00\", \"ppm\": 386.03}, {\"date_measured\": \"2008-04-01T00:00:00\", \"ppm\": 387.21}, {\"date_measured\": \"2008-05-01T00:00:00\", \"ppm\": 388.54}, {\"date_measured\": \"2008-06-01T00:00:00\", \"ppm\": 387.76}, {\"date_measured\": \"2008-07-01T00:00:00\", \"ppm\": 386.37}, {\"date_measured\": \"2008-08-01T00:00:00\", \"ppm\": 384.09}, {\"date_measured\": \"2008-09-01T00:00:00\", \"ppm\": 383.18}, {\"date_measured\": \"2008-10-01T00:00:00\", \"ppm\": 382.99}, {\"date_measured\": \"2008-11-01T00:00:00\", \"ppm\": 384.19}, {\"date_measured\": \"2008-12-01T00:00:00\", \"ppm\": 385.56}, {\"date_measured\": \"2009-01-01T00:00:00\", \"ppm\": 386.94}, {\"date_measured\": \"2009-02-01T00:00:00\", \"ppm\": 387.48}, {\"date_measured\": \"2009-03-01T00:00:00\", \"ppm\": 388.82}, {\"date_measured\": \"2009-04-01T00:00:00\", \"ppm\": 389.55}, {\"date_measured\": \"2009-05-01T00:00:00\", \"ppm\": 390.14}, {\"date_measured\": \"2009-06-01T00:00:00\", \"ppm\": 389.48}, {\"date_measured\": \"2009-07-01T00:00:00\", \"ppm\": 388.03}, {\"date_measured\": \"2009-08-01T00:00:00\", \"ppm\": 386.11}, {\"date_measured\": \"2009-09-01T00:00:00\", \"ppm\": 384.74}, {\"date_measured\": \"2009-10-01T00:00:00\", \"ppm\": 384.43}, {\"date_measured\": \"2009-11-01T00:00:00\", \"ppm\": 386.02}, {\"date_measured\": \"2009-12-01T00:00:00\", \"ppm\": 387.42}, {\"date_measured\": \"2010-01-01T00:00:00\", \"ppm\": 388.71}, {\"date_measured\": \"2010-02-01T00:00:00\", \"ppm\": 390.2}, {\"date_measured\": \"2010-03-01T00:00:00\", \"ppm\": 391.17}, {\"date_measured\": \"2010-04-01T00:00:00\", \"ppm\": 392.46}, {\"date_measured\": \"2010-05-01T00:00:00\", \"ppm\": 393.0}, {\"date_measured\": \"2010-06-01T00:00:00\", \"ppm\": 392.15}, {\"date_measured\": \"2010-07-01T00:00:00\", \"ppm\": 390.2}, {\"date_measured\": \"2010-08-01T00:00:00\", \"ppm\": 388.35}, {\"date_measured\": \"2010-09-01T00:00:00\", \"ppm\": 386.85}, {\"date_measured\": \"2010-10-01T00:00:00\", \"ppm\": 387.24}, {\"date_measured\": \"2010-11-01T00:00:00\", \"ppm\": 388.67}, {\"date_measured\": \"2010-12-01T00:00:00\", \"ppm\": 389.79}, {\"date_measured\": \"2011-01-01T00:00:00\", \"ppm\": 391.33}, {\"date_measured\": \"2011-02-01T00:00:00\", \"ppm\": 391.86}, {\"date_measured\": \"2011-03-01T00:00:00\", \"ppm\": 392.6}, {\"date_measured\": \"2011-04-01T00:00:00\", \"ppm\": 393.25}, {\"date_measured\": \"2011-05-01T00:00:00\", \"ppm\": 394.19}, {\"date_measured\": \"2011-06-01T00:00:00\", \"ppm\": 393.74}, {\"date_measured\": \"2011-07-01T00:00:00\", \"ppm\": 392.51}, {\"date_measured\": \"2011-08-01T00:00:00\", \"ppm\": 390.13}, {\"date_measured\": \"2011-09-01T00:00:00\", \"ppm\": 389.08}, {\"date_measured\": \"2011-10-01T00:00:00\", \"ppm\": 389.0}, {\"date_measured\": \"2011-11-01T00:00:00\", \"ppm\": 390.28}, {\"date_measured\": \"2011-12-01T00:00:00\", \"ppm\": 391.86}, {\"date_measured\": \"2012-01-01T00:00:00\", \"ppm\": 393.12}, {\"date_measured\": \"2012-02-01T00:00:00\", \"ppm\": 393.86}, {\"date_measured\": \"2012-03-01T00:00:00\", \"ppm\": 394.4}, {\"date_measured\": \"2012-04-01T00:00:00\", \"ppm\": 396.18}, {\"date_measured\": \"2012-05-01T00:00:00\", \"ppm\": 396.74}, {\"date_measured\": \"2012-06-01T00:00:00\", \"ppm\": 395.71}, {\"date_measured\": \"2012-07-01T00:00:00\", \"ppm\": 394.36}, {\"date_measured\": \"2012-08-01T00:00:00\", \"ppm\": 392.39}, {\"date_measured\": \"2012-09-01T00:00:00\", \"ppm\": 391.11}, {\"date_measured\": \"2012-10-01T00:00:00\", \"ppm\": 391.05}, {\"date_measured\": \"2012-11-01T00:00:00\", \"ppm\": 392.98}, {\"date_measured\": \"2012-12-01T00:00:00\", \"ppm\": 394.34}, {\"date_measured\": \"2013-01-01T00:00:00\", \"ppm\": 395.55}, {\"date_measured\": \"2013-02-01T00:00:00\", \"ppm\": 396.8}, {\"date_measured\": \"2013-03-01T00:00:00\", \"ppm\": 397.43}, {\"date_measured\": \"2013-04-01T00:00:00\", \"ppm\": 398.41}, {\"date_measured\": \"2013-05-01T00:00:00\", \"ppm\": 399.78}, {\"date_measured\": \"2013-06-01T00:00:00\", \"ppm\": 398.6}, {\"date_measured\": \"2013-07-01T00:00:00\", \"ppm\": 397.32}, {\"date_measured\": \"2013-08-01T00:00:00\", \"ppm\": 395.2}, {\"date_measured\": \"2013-09-01T00:00:00\", \"ppm\": 393.45}, {\"date_measured\": \"2013-10-01T00:00:00\", \"ppm\": 393.7}, {\"date_measured\": \"2013-11-01T00:00:00\", \"ppm\": 395.16}, {\"date_measured\": \"2013-12-01T00:00:00\", \"ppm\": 396.84}, {\"date_measured\": \"2014-01-01T00:00:00\", \"ppm\": 397.85}, {\"date_measured\": \"2014-02-01T00:00:00\", \"ppm\": 398.01}, {\"date_measured\": \"2014-03-01T00:00:00\", \"ppm\": 399.77}, {\"date_measured\": \"2014-04-01T00:00:00\", \"ppm\": 401.38}, {\"date_measured\": \"2014-05-01T00:00:00\", \"ppm\": 401.78}, {\"date_measured\": \"2014-06-01T00:00:00\", \"ppm\": 401.25}, {\"date_measured\": \"2014-07-01T00:00:00\", \"ppm\": 399.1}, {\"date_measured\": \"2014-08-01T00:00:00\", \"ppm\": 397.03}, {\"date_measured\": \"2014-09-01T00:00:00\", \"ppm\": 395.38}, {\"date_measured\": \"2014-10-01T00:00:00\", \"ppm\": 396.03}, {\"date_measured\": \"2014-11-01T00:00:00\", \"ppm\": 397.28}, {\"date_measured\": \"2014-12-01T00:00:00\", \"ppm\": 398.91}, {\"date_measured\": \"2015-01-01T00:00:00\", \"ppm\": 399.98}, {\"date_measured\": \"2015-02-01T00:00:00\", \"ppm\": 400.28}, {\"date_measured\": \"2015-03-01T00:00:00\", \"ppm\": 401.54}, {\"date_measured\": \"2015-04-01T00:00:00\", \"ppm\": 403.28}, {\"date_measured\": \"2015-05-01T00:00:00\", \"ppm\": 403.96}, {\"date_measured\": \"2015-06-01T00:00:00\", \"ppm\": 402.8}, {\"date_measured\": \"2015-07-01T00:00:00\", \"ppm\": 401.31}, {\"date_measured\": \"2015-08-01T00:00:00\", \"ppm\": 398.93}, {\"date_measured\": \"2015-09-01T00:00:00\", \"ppm\": 397.63}, {\"date_measured\": \"2015-10-01T00:00:00\", \"ppm\": 398.29}, {\"date_measured\": \"2015-11-01T00:00:00\", \"ppm\": 400.16}, {\"date_measured\": \"2015-12-01T00:00:00\", \"ppm\": 401.85}, {\"date_measured\": \"2016-01-01T00:00:00\", \"ppm\": 402.56}, {\"date_measured\": \"2016-02-01T00:00:00\", \"ppm\": 404.12}, {\"date_measured\": \"2016-03-01T00:00:00\", \"ppm\": 404.87}, {\"date_measured\": \"2016-04-01T00:00:00\", \"ppm\": 407.45}, {\"date_measured\": \"2016-05-01T00:00:00\", \"ppm\": 407.72}, {\"date_measured\": \"2016-06-01T00:00:00\", \"ppm\": 406.83}, {\"date_measured\": \"2016-07-01T00:00:00\", \"ppm\": 404.41}, {\"date_measured\": \"2016-08-01T00:00:00\", \"ppm\": 402.27}, {\"date_measured\": \"2016-09-01T00:00:00\", \"ppm\": 401.05}, {\"date_measured\": \"2016-10-01T00:00:00\", \"ppm\": 401.59}, {\"date_measured\": \"2016-11-01T00:00:00\", \"ppm\": 403.55}, {\"date_measured\": \"2016-12-01T00:00:00\", \"ppm\": 404.45}, {\"date_measured\": \"2017-01-01T00:00:00\", \"ppm\": 406.17}, {\"date_measured\": \"2017-02-01T00:00:00\", \"ppm\": 406.46}, {\"date_measured\": \"2017-03-01T00:00:00\", \"ppm\": 407.22}, {\"date_measured\": \"2017-04-01T00:00:00\", \"ppm\": 409.04}, {\"date_measured\": \"2017-05-01T00:00:00\", \"ppm\": 409.69}, {\"date_measured\": \"2017-06-01T00:00:00\", \"ppm\": 408.88}, {\"date_measured\": \"2017-07-01T00:00:00\", \"ppm\": 407.12}, {\"date_measured\": \"2017-08-01T00:00:00\", \"ppm\": 405.13}, {\"date_measured\": \"2017-09-01T00:00:00\", \"ppm\": 403.37}, {\"date_measured\": \"2017-10-01T00:00:00\", \"ppm\": 403.63}, {\"date_measured\": \"2017-11-01T00:00:00\", \"ppm\": 405.12}, {\"date_measured\": \"2017-12-01T00:00:00\", \"ppm\": 406.81}, {\"date_measured\": \"2018-01-01T00:00:00\", \"ppm\": 407.96}, {\"date_measured\": \"2018-02-01T00:00:00\", \"ppm\": 408.32}, {\"date_measured\": \"2018-03-01T00:00:00\", \"ppm\": 409.41}, {\"date_measured\": \"2018-04-01T00:00:00\", \"ppm\": 410.24}, {\"date_measured\": \"2018-05-01T00:00:00\", \"ppm\": 411.24}, {\"date_measured\": \"2018-06-01T00:00:00\", \"ppm\": 410.79}, {\"date_measured\": \"2018-07-01T00:00:00\", \"ppm\": 408.71}, {\"date_measured\": \"2018-08-01T00:00:00\", \"ppm\": 406.99}, {\"date_measured\": \"2018-09-01T00:00:00\", \"ppm\": 405.51}, {\"date_measured\": \"2018-10-01T00:00:00\", \"ppm\": 406.0}, {\"date_measured\": \"2018-11-01T00:00:00\", \"ppm\": 408.02}, {\"date_measured\": \"2018-12-01T00:00:00\", \"ppm\": 409.07}, {\"date_measured\": \"2019-01-01T00:00:00\", \"ppm\": 410.83}, {\"date_measured\": \"2019-02-01T00:00:00\", \"ppm\": 411.75}, {\"date_measured\": \"2019-03-01T00:00:00\", \"ppm\": 411.97}, {\"date_measured\": \"2019-04-01T00:00:00\", \"ppm\": 413.33}, {\"date_measured\": \"2019-05-01T00:00:00\", \"ppm\": 414.64}, {\"date_measured\": \"2019-06-01T00:00:00\", \"ppm\": 413.93}, {\"date_measured\": \"2019-07-01T00:00:00\", \"ppm\": 411.74}, {\"date_measured\": \"2019-08-01T00:00:00\", \"ppm\": 409.95}, {\"date_measured\": \"2019-09-01T00:00:00\", \"ppm\": 408.54}, {\"date_measured\": \"2019-10-01T00:00:00\", \"ppm\": 408.52}, {\"date_measured\": \"2019-11-01T00:00:00\", \"ppm\": 410.25}, {\"date_measured\": \"2019-12-01T00:00:00\", \"ppm\": 411.76}, {\"date_measured\": \"2020-01-01T00:00:00\", \"ppm\": 413.39}, {\"date_measured\": \"2020-02-01T00:00:00\", \"ppm\": 414.11}, {\"date_measured\": \"2020-03-01T00:00:00\", \"ppm\": 414.51}, {\"date_measured\": \"2020-04-01T00:00:00\", \"ppm\": 416.21}, {\"date_measured\": \"2020-05-01T00:00:00\", \"ppm\": 417.07}, {\"date_measured\": \"2020-06-01T00:00:00\", \"ppm\": 416.39}]}}, {\"mode\": \"vega-lite\"});\n",
       "</script>"
      ],
      "text/plain": [
       "alt.Chart(...)"
      ]
     },
     "metadata": {
      "scrapbook": {
       "mime_prefix": "application/papermill.record/",
       "name": "co2_line_labels"
      }
     },
     "output_type": "display_data"
    }
   ],
   "source": [
    "glue('co2_line_labels', co2_line_labels, display=False)"
   ]
  },
  {
   "cell_type": "markdown",
   "id": "a4b5c020",
   "metadata": {},
   "source": [
    ":::{glue:figure} co2_line_labels\n",
    ":figwidth: 700px \n",
    ":name: co2_line_labels\n",
    "\n",
    "Line plot of atmospheric concentration of CO$_{2}$ over time with clearer axes and labels.\n",
    ":::\n",
    "\n",
    "> **Note:** The `configure_` function in `altair` is complex and supports many other functionalities, which can be viewed [here](https://altair-viz.github.io/user_guide/configuration.html)\n",
    "\n",
    "\n",
    "Finally, let's see if we can better understand the oscillation by changing the\n",
    "visualization slightly. Note that it is totally fine to use a small number of\n",
    "visualizations to answer different aspects of the question you are trying to\n",
    "answer. We will accomplish this by using *scale*, \\index{ggplot!scales}\n",
    "another important feature of `altair` that easily transforms the different\n",
    "variables and set limits.  We scale the horizontal axis using the `alt.Scale(domain=['1990', '1993'])` by restricting the x-axis values between 1990 and 1994,\n",
    "and the vertical axis with the `alt.Scale(zero=False)` function, to not start the y-axis with zero.\n",
    "In particular, here, we will use the `alt.Scale()` function to zoom in \n",
    "on just five years of data (say, 1990-1994).\n",
    "`domain` argument takes a list of length two \n",
    "to specify the upper and lower bounds to limit the axis."
   ]
  },
  {
   "cell_type": "code",
   "execution_count": 13,
   "id": "71601bb8",
   "metadata": {},
   "outputs": [],
   "source": [
    "#co2_dates = co2_df.loc[(co2_df.date_measured >= '1990-01-01') &  (co2_df.date_measured <= '1993-01-01')]\n",
    "\n",
    "co2_line_scale = alt.Chart(co2_df).mark_line(color='black', clip=True).encode(\n",
    "    x=alt.X(\"date_measured\", title=\"Measurement Date\", axis=alt.Axis(tickCount=4), scale=alt.Scale(domain=['1990', '1994'])),\n",
    "    y=alt.Y(\"ppm\", scale=alt.Scale(zero=False), title=\"Atmospheric CO2 (ppm)\")\n",
    ").configure_axis(\n",
    "    titleFontSize=12\n",
    ")\n",
    "\n",
    "\n",
    "\n"
   ]
  },
  {
   "cell_type": "code",
   "execution_count": 14,
   "id": "13e73ed1",
   "metadata": {
    "tags": [
     "remove-cell"
    ]
   },
   "outputs": [
    {
     "data": {
      "text/html": [
       "\n",
       "<div id=\"altair-viz-7e74bfc6877b4829aa3c045656715356\"></div>\n",
       "<script type=\"text/javascript\">\n",
       "  var VEGA_DEBUG = (typeof VEGA_DEBUG == \"undefined\") ? {} : VEGA_DEBUG;\n",
       "  (function(spec, embedOpt){\n",
       "    let outputDiv = document.currentScript.previousElementSibling;\n",
       "    if (outputDiv.id !== \"altair-viz-7e74bfc6877b4829aa3c045656715356\") {\n",
       "      outputDiv = document.getElementById(\"altair-viz-7e74bfc6877b4829aa3c045656715356\");\n",
       "    }\n",
       "    const paths = {\n",
       "      \"vega\": \"https://cdn.jsdelivr.net/npm//vega@5?noext\",\n",
       "      \"vega-lib\": \"https://cdn.jsdelivr.net/npm//vega-lib?noext\",\n",
       "      \"vega-lite\": \"https://cdn.jsdelivr.net/npm//vega-lite@4.17.0?noext\",\n",
       "      \"vega-embed\": \"https://cdn.jsdelivr.net/npm//vega-embed@6?noext\",\n",
       "    };\n",
       "\n",
       "    function maybeLoadScript(lib, version) {\n",
       "      var key = `${lib.replace(\"-\", \"\")}_version`;\n",
       "      return (VEGA_DEBUG[key] == version) ?\n",
       "        Promise.resolve(paths[lib]) :\n",
       "        new Promise(function(resolve, reject) {\n",
       "          var s = document.createElement('script');\n",
       "          document.getElementsByTagName(\"head\")[0].appendChild(s);\n",
       "          s.async = true;\n",
       "          s.onload = () => {\n",
       "            VEGA_DEBUG[key] = version;\n",
       "            return resolve(paths[lib]);\n",
       "          };\n",
       "          s.onerror = () => reject(`Error loading script: ${paths[lib]}`);\n",
       "          s.src = paths[lib];\n",
       "        });\n",
       "    }\n",
       "\n",
       "    function showError(err) {\n",
       "      outputDiv.innerHTML = `<div class=\"error\" style=\"color:red;\">${err}</div>`;\n",
       "      throw err;\n",
       "    }\n",
       "\n",
       "    function displayChart(vegaEmbed) {\n",
       "      vegaEmbed(outputDiv, spec, embedOpt)\n",
       "        .catch(err => showError(`Javascript Error: ${err.message}<br>This usually means there's a typo in your chart specification. See the javascript console for the full traceback.`));\n",
       "    }\n",
       "\n",
       "    if(typeof define === \"function\" && define.amd) {\n",
       "      requirejs.config({paths});\n",
       "      require([\"vega-embed\"], displayChart, err => showError(`Error loading script: ${err.message}`));\n",
       "    } else {\n",
       "      maybeLoadScript(\"vega\", \"5\")\n",
       "        .then(() => maybeLoadScript(\"vega-lite\", \"4.17.0\"))\n",
       "        .then(() => maybeLoadScript(\"vega-embed\", \"6\"))\n",
       "        .catch(showError)\n",
       "        .then(() => displayChart(vegaEmbed));\n",
       "    }\n",
       "  })({\"config\": {\"view\": {\"continuousWidth\": 400, \"continuousHeight\": 300}, \"axis\": {\"titleFontSize\": 12}}, \"data\": {\"name\": \"data-ecfc281786dd23148efa483af3159f83\"}, \"mark\": {\"type\": \"line\", \"clip\": true, \"color\": \"black\"}, \"encoding\": {\"x\": {\"axis\": {\"tickCount\": 4}, \"field\": \"date_measured\", \"scale\": {\"domain\": [\"1990\", \"1994\"]}, \"title\": \"Measurement Date\", \"type\": \"temporal\"}, \"y\": {\"field\": \"ppm\", \"scale\": {\"zero\": false}, \"title\": \"Atmospheric CO2 (ppm)\", \"type\": \"quantitative\"}}, \"$schema\": \"https://vega.github.io/schema/vega-lite/v4.17.0.json\", \"datasets\": {\"data-ecfc281786dd23148efa483af3159f83\": [{\"date_measured\": \"1980-02-01T00:00:00\", \"ppm\": 338.34}, {\"date_measured\": \"1980-03-01T00:00:00\", \"ppm\": 340.01}, {\"date_measured\": \"1980-04-01T00:00:00\", \"ppm\": 340.93}, {\"date_measured\": \"1980-05-01T00:00:00\", \"ppm\": 341.48}, {\"date_measured\": \"1980-06-01T00:00:00\", \"ppm\": 341.33}, {\"date_measured\": \"1980-07-01T00:00:00\", \"ppm\": 339.4}, {\"date_measured\": \"1980-08-01T00:00:00\", \"ppm\": 337.7}, {\"date_measured\": \"1980-09-01T00:00:00\", \"ppm\": 336.19}, {\"date_measured\": \"1980-10-01T00:00:00\", \"ppm\": 336.15}, {\"date_measured\": \"1980-11-01T00:00:00\", \"ppm\": 337.27}, {\"date_measured\": \"1980-12-01T00:00:00\", \"ppm\": 338.32}, {\"date_measured\": \"1981-01-01T00:00:00\", \"ppm\": 339.29}, {\"date_measured\": \"1981-02-01T00:00:00\", \"ppm\": 340.55}, {\"date_measured\": \"1981-03-01T00:00:00\", \"ppm\": 341.61}, {\"date_measured\": \"1981-04-01T00:00:00\", \"ppm\": 342.53}, {\"date_measured\": \"1981-05-01T00:00:00\", \"ppm\": 343.03}, {\"date_measured\": \"1981-06-01T00:00:00\", \"ppm\": 342.54}, {\"date_measured\": \"1981-07-01T00:00:00\", \"ppm\": 340.78}, {\"date_measured\": \"1981-08-01T00:00:00\", \"ppm\": 338.44}, {\"date_measured\": \"1981-09-01T00:00:00\", \"ppm\": 336.95}, {\"date_measured\": \"1981-10-01T00:00:00\", \"ppm\": 337.08}, {\"date_measured\": \"1981-11-01T00:00:00\", \"ppm\": 338.58}, {\"date_measured\": \"1981-12-01T00:00:00\", \"ppm\": 339.88}, {\"date_measured\": \"1982-01-01T00:00:00\", \"ppm\": 340.96}, {\"date_measured\": \"1982-02-01T00:00:00\", \"ppm\": 341.73}, {\"date_measured\": \"1982-03-01T00:00:00\", \"ppm\": 342.81}, {\"date_measured\": \"1982-04-01T00:00:00\", \"ppm\": 343.97}, {\"date_measured\": \"1982-05-01T00:00:00\", \"ppm\": 344.63}, {\"date_measured\": \"1982-06-01T00:00:00\", \"ppm\": 343.79}, {\"date_measured\": \"1982-07-01T00:00:00\", \"ppm\": 342.32}, {\"date_measured\": \"1982-08-01T00:00:00\", \"ppm\": 340.09}, {\"date_measured\": \"1982-09-01T00:00:00\", \"ppm\": 338.28}, {\"date_measured\": \"1982-10-01T00:00:00\", \"ppm\": 338.29}, {\"date_measured\": \"1982-11-01T00:00:00\", \"ppm\": 339.6}, {\"date_measured\": \"1982-12-01T00:00:00\", \"ppm\": 340.9}, {\"date_measured\": \"1983-01-01T00:00:00\", \"ppm\": 341.68}, {\"date_measured\": \"1983-02-01T00:00:00\", \"ppm\": 342.9}, {\"date_measured\": \"1983-03-01T00:00:00\", \"ppm\": 343.33}, {\"date_measured\": \"1983-04-01T00:00:00\", \"ppm\": 345.25}, {\"date_measured\": \"1983-05-01T00:00:00\", \"ppm\": 346.03}, {\"date_measured\": \"1983-06-01T00:00:00\", \"ppm\": 345.63}, {\"date_measured\": \"1983-07-01T00:00:00\", \"ppm\": 344.19}, {\"date_measured\": \"1983-08-01T00:00:00\", \"ppm\": 342.27}, {\"date_measured\": \"1983-09-01T00:00:00\", \"ppm\": 340.35}, {\"date_measured\": \"1983-10-01T00:00:00\", \"ppm\": 340.38}, {\"date_measured\": \"1983-11-01T00:00:00\", \"ppm\": 341.59}, {\"date_measured\": \"1983-12-01T00:00:00\", \"ppm\": 343.05}, {\"date_measured\": \"1984-01-01T00:00:00\", \"ppm\": 344.1}, {\"date_measured\": \"1984-02-01T00:00:00\", \"ppm\": 344.79}, {\"date_measured\": \"1984-03-01T00:00:00\", \"ppm\": 345.52}, {\"date_measured\": \"1984-05-01T00:00:00\", \"ppm\": 347.63}, {\"date_measured\": \"1984-06-01T00:00:00\", \"ppm\": 346.98}, {\"date_measured\": \"1984-07-01T00:00:00\", \"ppm\": 345.53}, {\"date_measured\": \"1984-08-01T00:00:00\", \"ppm\": 343.55}, {\"date_measured\": \"1984-09-01T00:00:00\", \"ppm\": 341.4}, {\"date_measured\": \"1984-10-01T00:00:00\", \"ppm\": 341.67}, {\"date_measured\": \"1984-11-01T00:00:00\", \"ppm\": 343.1}, {\"date_measured\": \"1984-12-01T00:00:00\", \"ppm\": 344.7}, {\"date_measured\": \"1985-01-01T00:00:00\", \"ppm\": 345.21}, {\"date_measured\": \"1985-02-01T00:00:00\", \"ppm\": 346.16}, {\"date_measured\": \"1985-03-01T00:00:00\", \"ppm\": 347.74}, {\"date_measured\": \"1985-04-01T00:00:00\", \"ppm\": 348.34}, {\"date_measured\": \"1985-05-01T00:00:00\", \"ppm\": 349.06}, {\"date_measured\": \"1985-06-01T00:00:00\", \"ppm\": 348.38}, {\"date_measured\": \"1985-07-01T00:00:00\", \"ppm\": 346.71}, {\"date_measured\": \"1985-08-01T00:00:00\", \"ppm\": 345.02}, {\"date_measured\": \"1985-09-01T00:00:00\", \"ppm\": 343.27}, {\"date_measured\": \"1985-10-01T00:00:00\", \"ppm\": 343.13}, {\"date_measured\": \"1985-11-01T00:00:00\", \"ppm\": 344.49}, {\"date_measured\": \"1985-12-01T00:00:00\", \"ppm\": 345.88}, {\"date_measured\": \"1986-01-01T00:00:00\", \"ppm\": 346.56}, {\"date_measured\": \"1986-02-01T00:00:00\", \"ppm\": 347.28}, {\"date_measured\": \"1986-03-01T00:00:00\", \"ppm\": 348.01}, {\"date_measured\": \"1986-04-01T00:00:00\", \"ppm\": 349.77}, {\"date_measured\": \"1986-05-01T00:00:00\", \"ppm\": 350.38}, {\"date_measured\": \"1986-06-01T00:00:00\", \"ppm\": 349.93}, {\"date_measured\": \"1986-07-01T00:00:00\", \"ppm\": 348.16}, {\"date_measured\": \"1986-08-01T00:00:00\", \"ppm\": 346.08}, {\"date_measured\": \"1986-09-01T00:00:00\", \"ppm\": 345.22}, {\"date_measured\": \"1986-10-01T00:00:00\", \"ppm\": 344.51}, {\"date_measured\": \"1986-11-01T00:00:00\", \"ppm\": 345.93}, {\"date_measured\": \"1986-12-01T00:00:00\", \"ppm\": 347.22}, {\"date_measured\": \"1987-01-01T00:00:00\", \"ppm\": 348.52}, {\"date_measured\": \"1987-02-01T00:00:00\", \"ppm\": 348.73}, {\"date_measured\": \"1987-03-01T00:00:00\", \"ppm\": 349.73}, {\"date_measured\": \"1987-04-01T00:00:00\", \"ppm\": 351.31}, {\"date_measured\": \"1987-05-01T00:00:00\", \"ppm\": 352.09}, {\"date_measured\": \"1987-06-01T00:00:00\", \"ppm\": 351.53}, {\"date_measured\": \"1987-07-01T00:00:00\", \"ppm\": 350.11}, {\"date_measured\": \"1987-08-01T00:00:00\", \"ppm\": 348.08}, {\"date_measured\": \"1987-09-01T00:00:00\", \"ppm\": 346.52}, {\"date_measured\": \"1987-10-01T00:00:00\", \"ppm\": 346.59}, {\"date_measured\": \"1987-11-01T00:00:00\", \"ppm\": 347.96}, {\"date_measured\": \"1987-12-01T00:00:00\", \"ppm\": 349.16}, {\"date_measured\": \"1988-01-01T00:00:00\", \"ppm\": 350.39}, {\"date_measured\": \"1988-02-01T00:00:00\", \"ppm\": 351.64}, {\"date_measured\": \"1988-03-01T00:00:00\", \"ppm\": 352.4}, {\"date_measured\": \"1988-04-01T00:00:00\", \"ppm\": 353.69}, {\"date_measured\": \"1988-05-01T00:00:00\", \"ppm\": 354.21}, {\"date_measured\": \"1988-06-01T00:00:00\", \"ppm\": 353.72}, {\"date_measured\": \"1988-07-01T00:00:00\", \"ppm\": 352.69}, {\"date_measured\": \"1988-08-01T00:00:00\", \"ppm\": 350.4}, {\"date_measured\": \"1988-09-01T00:00:00\", \"ppm\": 348.92}, {\"date_measured\": \"1988-10-01T00:00:00\", \"ppm\": 349.13}, {\"date_measured\": \"1988-11-01T00:00:00\", \"ppm\": 350.2}, {\"date_measured\": \"1988-12-01T00:00:00\", \"ppm\": 351.41}, {\"date_measured\": \"1989-01-01T00:00:00\", \"ppm\": 352.91}, {\"date_measured\": \"1989-02-01T00:00:00\", \"ppm\": 353.27}, {\"date_measured\": \"1989-03-01T00:00:00\", \"ppm\": 353.96}, {\"date_measured\": \"1989-04-01T00:00:00\", \"ppm\": 355.64}, {\"date_measured\": \"1989-05-01T00:00:00\", \"ppm\": 355.86}, {\"date_measured\": \"1989-06-01T00:00:00\", \"ppm\": 355.37}, {\"date_measured\": \"1989-07-01T00:00:00\", \"ppm\": 353.99}, {\"date_measured\": \"1989-08-01T00:00:00\", \"ppm\": 351.81}, {\"date_measured\": \"1989-09-01T00:00:00\", \"ppm\": 350.05}, {\"date_measured\": \"1989-10-01T00:00:00\", \"ppm\": 350.25}, {\"date_measured\": \"1989-11-01T00:00:00\", \"ppm\": 351.49}, {\"date_measured\": \"1989-12-01T00:00:00\", \"ppm\": 352.85}, {\"date_measured\": \"1990-01-01T00:00:00\", \"ppm\": 353.8}, {\"date_measured\": \"1990-02-01T00:00:00\", \"ppm\": 355.04}, {\"date_measured\": \"1990-03-01T00:00:00\", \"ppm\": 355.73}, {\"date_measured\": \"1990-04-01T00:00:00\", \"ppm\": 356.32}, {\"date_measured\": \"1990-05-01T00:00:00\", \"ppm\": 357.32}, {\"date_measured\": \"1990-06-01T00:00:00\", \"ppm\": 356.34}, {\"date_measured\": \"1990-07-01T00:00:00\", \"ppm\": 354.84}, {\"date_measured\": \"1990-08-01T00:00:00\", \"ppm\": 353.01}, {\"date_measured\": \"1990-09-01T00:00:00\", \"ppm\": 351.31}, {\"date_measured\": \"1990-10-01T00:00:00\", \"ppm\": 351.62}, {\"date_measured\": \"1990-11-01T00:00:00\", \"ppm\": 353.07}, {\"date_measured\": \"1990-12-01T00:00:00\", \"ppm\": 354.33}, {\"date_measured\": \"1991-01-01T00:00:00\", \"ppm\": 354.84}, {\"date_measured\": \"1991-02-01T00:00:00\", \"ppm\": 355.73}, {\"date_measured\": \"1991-03-01T00:00:00\", \"ppm\": 357.23}, {\"date_measured\": \"1991-04-01T00:00:00\", \"ppm\": 358.66}, {\"date_measured\": \"1991-05-01T00:00:00\", \"ppm\": 359.13}, {\"date_measured\": \"1991-06-01T00:00:00\", \"ppm\": 358.13}, {\"date_measured\": \"1991-07-01T00:00:00\", \"ppm\": 356.19}, {\"date_measured\": \"1991-08-01T00:00:00\", \"ppm\": 353.85}, {\"date_measured\": \"1991-09-01T00:00:00\", \"ppm\": 352.25}, {\"date_measured\": \"1991-10-01T00:00:00\", \"ppm\": 352.35}, {\"date_measured\": \"1991-11-01T00:00:00\", \"ppm\": 353.81}, {\"date_measured\": \"1991-12-01T00:00:00\", \"ppm\": 355.12}, {\"date_measured\": \"1992-01-01T00:00:00\", \"ppm\": 356.25}, {\"date_measured\": \"1992-02-01T00:00:00\", \"ppm\": 357.11}, {\"date_measured\": \"1992-03-01T00:00:00\", \"ppm\": 357.86}, {\"date_measured\": \"1992-04-01T00:00:00\", \"ppm\": 359.09}, {\"date_measured\": \"1992-05-01T00:00:00\", \"ppm\": 359.59}, {\"date_measured\": \"1992-06-01T00:00:00\", \"ppm\": 359.33}, {\"date_measured\": \"1992-07-01T00:00:00\", \"ppm\": 357.01}, {\"date_measured\": \"1992-08-01T00:00:00\", \"ppm\": 354.94}, {\"date_measured\": \"1992-09-01T00:00:00\", \"ppm\": 352.95}, {\"date_measured\": \"1992-10-01T00:00:00\", \"ppm\": 353.32}, {\"date_measured\": \"1992-11-01T00:00:00\", \"ppm\": 354.32}, {\"date_measured\": \"1992-12-01T00:00:00\", \"ppm\": 355.57}, {\"date_measured\": \"1993-01-01T00:00:00\", \"ppm\": 357.0}, {\"date_measured\": \"1993-02-01T00:00:00\", \"ppm\": 357.31}, {\"date_measured\": \"1993-03-01T00:00:00\", \"ppm\": 358.47}, {\"date_measured\": \"1993-04-01T00:00:00\", \"ppm\": 359.27}, {\"date_measured\": \"1993-05-01T00:00:00\", \"ppm\": 360.19}, {\"date_measured\": \"1993-06-01T00:00:00\", \"ppm\": 359.52}, {\"date_measured\": \"1993-07-01T00:00:00\", \"ppm\": 357.33}, {\"date_measured\": \"1993-08-01T00:00:00\", \"ppm\": 355.64}, {\"date_measured\": \"1993-09-01T00:00:00\", \"ppm\": 354.03}, {\"date_measured\": \"1993-10-01T00:00:00\", \"ppm\": 354.12}, {\"date_measured\": \"1993-11-01T00:00:00\", \"ppm\": 355.41}, {\"date_measured\": \"1993-12-01T00:00:00\", \"ppm\": 356.91}, {\"date_measured\": \"1994-01-01T00:00:00\", \"ppm\": 358.24}, {\"date_measured\": \"1994-02-01T00:00:00\", \"ppm\": 358.92}, {\"date_measured\": \"1994-03-01T00:00:00\", \"ppm\": 359.99}, {\"date_measured\": \"1994-04-01T00:00:00\", \"ppm\": 361.23}, {\"date_measured\": \"1994-05-01T00:00:00\", \"ppm\": 361.65}, {\"date_measured\": \"1994-06-01T00:00:00\", \"ppm\": 360.81}, {\"date_measured\": \"1994-07-01T00:00:00\", \"ppm\": 359.38}, {\"date_measured\": \"1994-08-01T00:00:00\", \"ppm\": 357.46}, {\"date_measured\": \"1994-09-01T00:00:00\", \"ppm\": 355.73}, {\"date_measured\": \"1994-10-01T00:00:00\", \"ppm\": 356.08}, {\"date_measured\": \"1994-11-01T00:00:00\", \"ppm\": 357.53}, {\"date_measured\": \"1994-12-01T00:00:00\", \"ppm\": 358.98}, {\"date_measured\": \"1995-01-01T00:00:00\", \"ppm\": 359.92}, {\"date_measured\": \"1995-02-01T00:00:00\", \"ppm\": 360.86}, {\"date_measured\": \"1995-03-01T00:00:00\", \"ppm\": 361.83}, {\"date_measured\": \"1995-04-01T00:00:00\", \"ppm\": 363.3}, {\"date_measured\": \"1995-05-01T00:00:00\", \"ppm\": 363.69}, {\"date_measured\": \"1995-06-01T00:00:00\", \"ppm\": 363.19}, {\"date_measured\": \"1995-07-01T00:00:00\", \"ppm\": 361.64}, {\"date_measured\": \"1995-08-01T00:00:00\", \"ppm\": 359.12}, {\"date_measured\": \"1995-09-01T00:00:00\", \"ppm\": 358.17}, {\"date_measured\": \"1995-10-01T00:00:00\", \"ppm\": 357.99}, {\"date_measured\": \"1995-11-01T00:00:00\", \"ppm\": 359.45}, {\"date_measured\": \"1995-12-01T00:00:00\", \"ppm\": 360.68}, {\"date_measured\": \"1996-01-01T00:00:00\", \"ppm\": 362.07}, {\"date_measured\": \"1996-02-01T00:00:00\", \"ppm\": 363.24}, {\"date_measured\": \"1996-03-01T00:00:00\", \"ppm\": 364.17}, {\"date_measured\": \"1996-04-01T00:00:00\", \"ppm\": 364.57}, {\"date_measured\": \"1996-05-01T00:00:00\", \"ppm\": 365.13}, {\"date_measured\": \"1996-06-01T00:00:00\", \"ppm\": 364.92}, {\"date_measured\": \"1996-07-01T00:00:00\", \"ppm\": 363.55}, {\"date_measured\": \"1996-08-01T00:00:00\", \"ppm\": 361.38}, {\"date_measured\": \"1996-09-01T00:00:00\", \"ppm\": 359.54}, {\"date_measured\": \"1996-10-01T00:00:00\", \"ppm\": 359.58}, {\"date_measured\": \"1996-11-01T00:00:00\", \"ppm\": 360.89}, {\"date_measured\": \"1996-12-01T00:00:00\", \"ppm\": 362.24}, {\"date_measured\": \"1997-01-01T00:00:00\", \"ppm\": 363.09}, {\"date_measured\": \"1997-02-01T00:00:00\", \"ppm\": 364.03}, {\"date_measured\": \"1997-03-01T00:00:00\", \"ppm\": 364.51}, {\"date_measured\": \"1997-04-01T00:00:00\", \"ppm\": 366.35}, {\"date_measured\": \"1997-05-01T00:00:00\", \"ppm\": 366.64}, {\"date_measured\": \"1997-06-01T00:00:00\", \"ppm\": 365.59}, {\"date_measured\": \"1997-07-01T00:00:00\", \"ppm\": 364.31}, {\"date_measured\": \"1997-08-01T00:00:00\", \"ppm\": 362.25}, {\"date_measured\": \"1997-09-01T00:00:00\", \"ppm\": 360.29}, {\"date_measured\": \"1997-10-01T00:00:00\", \"ppm\": 360.82}, {\"date_measured\": \"1997-11-01T00:00:00\", \"ppm\": 362.49}, {\"date_measured\": \"1997-12-01T00:00:00\", \"ppm\": 364.38}, {\"date_measured\": \"1998-01-01T00:00:00\", \"ppm\": 365.27}, {\"date_measured\": \"1998-02-01T00:00:00\", \"ppm\": 365.98}, {\"date_measured\": \"1998-03-01T00:00:00\", \"ppm\": 367.24}, {\"date_measured\": \"1998-04-01T00:00:00\", \"ppm\": 368.66}, {\"date_measured\": \"1998-05-01T00:00:00\", \"ppm\": 369.42}, {\"date_measured\": \"1998-06-01T00:00:00\", \"ppm\": 368.99}, {\"date_measured\": \"1998-07-01T00:00:00\", \"ppm\": 367.82}, {\"date_measured\": \"1998-08-01T00:00:00\", \"ppm\": 365.95}, {\"date_measured\": \"1998-09-01T00:00:00\", \"ppm\": 364.02}, {\"date_measured\": \"1998-10-01T00:00:00\", \"ppm\": 364.4}, {\"date_measured\": \"1998-11-01T00:00:00\", \"ppm\": 365.52}, {\"date_measured\": \"1998-12-01T00:00:00\", \"ppm\": 367.13}, {\"date_measured\": \"1999-01-01T00:00:00\", \"ppm\": 368.18}, {\"date_measured\": \"1999-02-01T00:00:00\", \"ppm\": 369.07}, {\"date_measured\": \"1999-03-01T00:00:00\", \"ppm\": 369.68}, {\"date_measured\": \"1999-04-01T00:00:00\", \"ppm\": 370.99}, {\"date_measured\": \"1999-05-01T00:00:00\", \"ppm\": 370.96}, {\"date_measured\": \"1999-06-01T00:00:00\", \"ppm\": 370.3}, {\"date_measured\": \"1999-07-01T00:00:00\", \"ppm\": 369.45}, {\"date_measured\": \"1999-08-01T00:00:00\", \"ppm\": 366.9}, {\"date_measured\": \"1999-09-01T00:00:00\", \"ppm\": 364.81}, {\"date_measured\": \"1999-10-01T00:00:00\", \"ppm\": 365.37}, {\"date_measured\": \"1999-11-01T00:00:00\", \"ppm\": 366.72}, {\"date_measured\": \"1999-12-01T00:00:00\", \"ppm\": 368.1}, {\"date_measured\": \"2000-01-01T00:00:00\", \"ppm\": 369.29}, {\"date_measured\": \"2000-02-01T00:00:00\", \"ppm\": 369.55}, {\"date_measured\": \"2000-03-01T00:00:00\", \"ppm\": 370.6}, {\"date_measured\": \"2000-04-01T00:00:00\", \"ppm\": 371.82}, {\"date_measured\": \"2000-05-01T00:00:00\", \"ppm\": 371.58}, {\"date_measured\": \"2000-06-01T00:00:00\", \"ppm\": 371.7}, {\"date_measured\": \"2000-07-01T00:00:00\", \"ppm\": 369.86}, {\"date_measured\": \"2000-08-01T00:00:00\", \"ppm\": 368.13}, {\"date_measured\": \"2000-09-01T00:00:00\", \"ppm\": 367.0}, {\"date_measured\": \"2000-10-01T00:00:00\", \"ppm\": 367.03}, {\"date_measured\": \"2000-11-01T00:00:00\", \"ppm\": 368.37}, {\"date_measured\": \"2000-12-01T00:00:00\", \"ppm\": 369.67}, {\"date_measured\": \"2001-01-01T00:00:00\", \"ppm\": 370.59}, {\"date_measured\": \"2001-02-01T00:00:00\", \"ppm\": 371.51}, {\"date_measured\": \"2001-03-01T00:00:00\", \"ppm\": 372.43}, {\"date_measured\": \"2001-04-01T00:00:00\", \"ppm\": 373.37}, {\"date_measured\": \"2001-05-01T00:00:00\", \"ppm\": 373.85}, {\"date_measured\": \"2001-06-01T00:00:00\", \"ppm\": 373.22}, {\"date_measured\": \"2001-07-01T00:00:00\", \"ppm\": 371.5}, {\"date_measured\": \"2001-08-01T00:00:00\", \"ppm\": 369.61}, {\"date_measured\": \"2001-09-01T00:00:00\", \"ppm\": 368.18}, {\"date_measured\": \"2001-10-01T00:00:00\", \"ppm\": 368.45}, {\"date_measured\": \"2001-11-01T00:00:00\", \"ppm\": 369.76}, {\"date_measured\": \"2001-12-01T00:00:00\", \"ppm\": 371.24}, {\"date_measured\": \"2002-01-01T00:00:00\", \"ppm\": 372.53}, {\"date_measured\": \"2002-02-01T00:00:00\", \"ppm\": 373.2}, {\"date_measured\": \"2002-03-01T00:00:00\", \"ppm\": 374.12}, {\"date_measured\": \"2002-04-01T00:00:00\", \"ppm\": 375.02}, {\"date_measured\": \"2002-05-01T00:00:00\", \"ppm\": 375.76}, {\"date_measured\": \"2002-06-01T00:00:00\", \"ppm\": 375.52}, {\"date_measured\": \"2002-07-01T00:00:00\", \"ppm\": 374.01}, {\"date_measured\": \"2002-08-01T00:00:00\", \"ppm\": 371.85}, {\"date_measured\": \"2002-09-01T00:00:00\", \"ppm\": 370.75}, {\"date_measured\": \"2002-10-01T00:00:00\", \"ppm\": 370.55}, {\"date_measured\": \"2002-11-01T00:00:00\", \"ppm\": 372.25}, {\"date_measured\": \"2002-12-01T00:00:00\", \"ppm\": 373.79}, {\"date_measured\": \"2003-01-01T00:00:00\", \"ppm\": 374.88}, {\"date_measured\": \"2003-02-01T00:00:00\", \"ppm\": 375.64}, {\"date_measured\": \"2003-03-01T00:00:00\", \"ppm\": 376.45}, {\"date_measured\": \"2003-04-01T00:00:00\", \"ppm\": 377.73}, {\"date_measured\": \"2003-05-01T00:00:00\", \"ppm\": 378.6}, {\"date_measured\": \"2003-06-01T00:00:00\", \"ppm\": 378.28}, {\"date_measured\": \"2003-07-01T00:00:00\", \"ppm\": 376.7}, {\"date_measured\": \"2003-08-01T00:00:00\", \"ppm\": 374.38}, {\"date_measured\": \"2003-09-01T00:00:00\", \"ppm\": 373.17}, {\"date_measured\": \"2003-10-01T00:00:00\", \"ppm\": 373.15}, {\"date_measured\": \"2003-11-01T00:00:00\", \"ppm\": 374.66}, {\"date_measured\": \"2003-12-01T00:00:00\", \"ppm\": 375.99}, {\"date_measured\": \"2004-01-01T00:00:00\", \"ppm\": 377.0}, {\"date_measured\": \"2004-02-01T00:00:00\", \"ppm\": 377.87}, {\"date_measured\": \"2004-03-01T00:00:00\", \"ppm\": 378.88}, {\"date_measured\": \"2004-04-01T00:00:00\", \"ppm\": 380.35}, {\"date_measured\": \"2004-05-01T00:00:00\", \"ppm\": 380.62}, {\"date_measured\": \"2004-06-01T00:00:00\", \"ppm\": 379.69}, {\"date_measured\": \"2004-07-01T00:00:00\", \"ppm\": 377.47}, {\"date_measured\": \"2004-08-01T00:00:00\", \"ppm\": 376.01}, {\"date_measured\": \"2004-09-01T00:00:00\", \"ppm\": 374.25}, {\"date_measured\": \"2004-10-01T00:00:00\", \"ppm\": 374.46}, {\"date_measured\": \"2004-11-01T00:00:00\", \"ppm\": 376.16}, {\"date_measured\": \"2004-12-01T00:00:00\", \"ppm\": 377.51}, {\"date_measured\": \"2005-01-01T00:00:00\", \"ppm\": 378.46}, {\"date_measured\": \"2005-02-01T00:00:00\", \"ppm\": 379.73}, {\"date_measured\": \"2005-03-01T00:00:00\", \"ppm\": 380.77}, {\"date_measured\": \"2005-04-01T00:00:00\", \"ppm\": 382.29}, {\"date_measured\": \"2005-05-01T00:00:00\", \"ppm\": 382.45}, {\"date_measured\": \"2005-06-01T00:00:00\", \"ppm\": 382.21}, {\"date_measured\": \"2005-07-01T00:00:00\", \"ppm\": 380.74}, {\"date_measured\": \"2005-08-01T00:00:00\", \"ppm\": 378.74}, {\"date_measured\": \"2005-09-01T00:00:00\", \"ppm\": 376.7}, {\"date_measured\": \"2005-10-01T00:00:00\", \"ppm\": 377.0}, {\"date_measured\": \"2005-11-01T00:00:00\", \"ppm\": 378.35}, {\"date_measured\": \"2005-12-01T00:00:00\", \"ppm\": 380.11}, {\"date_measured\": \"2006-01-01T00:00:00\", \"ppm\": 381.38}, {\"date_measured\": \"2006-02-01T00:00:00\", \"ppm\": 382.2}, {\"date_measured\": \"2006-03-01T00:00:00\", \"ppm\": 382.67}, {\"date_measured\": \"2006-04-01T00:00:00\", \"ppm\": 384.61}, {\"date_measured\": \"2006-05-01T00:00:00\", \"ppm\": 385.03}, {\"date_measured\": \"2006-06-01T00:00:00\", \"ppm\": 384.05}, {\"date_measured\": \"2006-07-01T00:00:00\", \"ppm\": 382.46}, {\"date_measured\": \"2006-08-01T00:00:00\", \"ppm\": 380.41}, {\"date_measured\": \"2006-09-01T00:00:00\", \"ppm\": 378.85}, {\"date_measured\": \"2006-10-01T00:00:00\", \"ppm\": 379.13}, {\"date_measured\": \"2006-11-01T00:00:00\", \"ppm\": 380.15}, {\"date_measured\": \"2006-12-01T00:00:00\", \"ppm\": 381.82}, {\"date_measured\": \"2007-01-01T00:00:00\", \"ppm\": 382.89}, {\"date_measured\": \"2007-02-01T00:00:00\", \"ppm\": 383.9}, {\"date_measured\": \"2007-03-01T00:00:00\", \"ppm\": 384.58}, {\"date_measured\": \"2007-04-01T00:00:00\", \"ppm\": 386.5}, {\"date_measured\": \"2007-05-01T00:00:00\", \"ppm\": 386.56}, {\"date_measured\": \"2007-06-01T00:00:00\", \"ppm\": 386.1}, {\"date_measured\": \"2007-07-01T00:00:00\", \"ppm\": 384.5}, {\"date_measured\": \"2007-08-01T00:00:00\", \"ppm\": 381.99}, {\"date_measured\": \"2007-09-01T00:00:00\", \"ppm\": 380.96}, {\"date_measured\": \"2007-10-01T00:00:00\", \"ppm\": 381.12}, {\"date_measured\": \"2007-11-01T00:00:00\", \"ppm\": 382.45}, {\"date_measured\": \"2007-12-01T00:00:00\", \"ppm\": 383.94}, {\"date_measured\": \"2008-01-01T00:00:00\", \"ppm\": 385.52}, {\"date_measured\": \"2008-02-01T00:00:00\", \"ppm\": 385.82}, {\"date_measured\": \"2008-03-01T00:00:00\", \"ppm\": 386.03}, {\"date_measured\": \"2008-04-01T00:00:00\", \"ppm\": 387.21}, {\"date_measured\": \"2008-05-01T00:00:00\", \"ppm\": 388.54}, {\"date_measured\": \"2008-06-01T00:00:00\", \"ppm\": 387.76}, {\"date_measured\": \"2008-07-01T00:00:00\", \"ppm\": 386.37}, {\"date_measured\": \"2008-08-01T00:00:00\", \"ppm\": 384.09}, {\"date_measured\": \"2008-09-01T00:00:00\", \"ppm\": 383.18}, {\"date_measured\": \"2008-10-01T00:00:00\", \"ppm\": 382.99}, {\"date_measured\": \"2008-11-01T00:00:00\", \"ppm\": 384.19}, {\"date_measured\": \"2008-12-01T00:00:00\", \"ppm\": 385.56}, {\"date_measured\": \"2009-01-01T00:00:00\", \"ppm\": 386.94}, {\"date_measured\": \"2009-02-01T00:00:00\", \"ppm\": 387.48}, {\"date_measured\": \"2009-03-01T00:00:00\", \"ppm\": 388.82}, {\"date_measured\": \"2009-04-01T00:00:00\", \"ppm\": 389.55}, {\"date_measured\": \"2009-05-01T00:00:00\", \"ppm\": 390.14}, {\"date_measured\": \"2009-06-01T00:00:00\", \"ppm\": 389.48}, {\"date_measured\": \"2009-07-01T00:00:00\", \"ppm\": 388.03}, {\"date_measured\": \"2009-08-01T00:00:00\", \"ppm\": 386.11}, {\"date_measured\": \"2009-09-01T00:00:00\", \"ppm\": 384.74}, {\"date_measured\": \"2009-10-01T00:00:00\", \"ppm\": 384.43}, {\"date_measured\": \"2009-11-01T00:00:00\", \"ppm\": 386.02}, {\"date_measured\": \"2009-12-01T00:00:00\", \"ppm\": 387.42}, {\"date_measured\": \"2010-01-01T00:00:00\", \"ppm\": 388.71}, {\"date_measured\": \"2010-02-01T00:00:00\", \"ppm\": 390.2}, {\"date_measured\": \"2010-03-01T00:00:00\", \"ppm\": 391.17}, {\"date_measured\": \"2010-04-01T00:00:00\", \"ppm\": 392.46}, {\"date_measured\": \"2010-05-01T00:00:00\", \"ppm\": 393.0}, {\"date_measured\": \"2010-06-01T00:00:00\", \"ppm\": 392.15}, {\"date_measured\": \"2010-07-01T00:00:00\", \"ppm\": 390.2}, {\"date_measured\": \"2010-08-01T00:00:00\", \"ppm\": 388.35}, {\"date_measured\": \"2010-09-01T00:00:00\", \"ppm\": 386.85}, {\"date_measured\": \"2010-10-01T00:00:00\", \"ppm\": 387.24}, {\"date_measured\": \"2010-11-01T00:00:00\", \"ppm\": 388.67}, {\"date_measured\": \"2010-12-01T00:00:00\", \"ppm\": 389.79}, {\"date_measured\": \"2011-01-01T00:00:00\", \"ppm\": 391.33}, {\"date_measured\": \"2011-02-01T00:00:00\", \"ppm\": 391.86}, {\"date_measured\": \"2011-03-01T00:00:00\", \"ppm\": 392.6}, {\"date_measured\": \"2011-04-01T00:00:00\", \"ppm\": 393.25}, {\"date_measured\": \"2011-05-01T00:00:00\", \"ppm\": 394.19}, {\"date_measured\": \"2011-06-01T00:00:00\", \"ppm\": 393.74}, {\"date_measured\": \"2011-07-01T00:00:00\", \"ppm\": 392.51}, {\"date_measured\": \"2011-08-01T00:00:00\", \"ppm\": 390.13}, {\"date_measured\": \"2011-09-01T00:00:00\", \"ppm\": 389.08}, {\"date_measured\": \"2011-10-01T00:00:00\", \"ppm\": 389.0}, {\"date_measured\": \"2011-11-01T00:00:00\", \"ppm\": 390.28}, {\"date_measured\": \"2011-12-01T00:00:00\", \"ppm\": 391.86}, {\"date_measured\": \"2012-01-01T00:00:00\", \"ppm\": 393.12}, {\"date_measured\": \"2012-02-01T00:00:00\", \"ppm\": 393.86}, {\"date_measured\": \"2012-03-01T00:00:00\", \"ppm\": 394.4}, {\"date_measured\": \"2012-04-01T00:00:00\", \"ppm\": 396.18}, {\"date_measured\": \"2012-05-01T00:00:00\", \"ppm\": 396.74}, {\"date_measured\": \"2012-06-01T00:00:00\", \"ppm\": 395.71}, {\"date_measured\": \"2012-07-01T00:00:00\", \"ppm\": 394.36}, {\"date_measured\": \"2012-08-01T00:00:00\", \"ppm\": 392.39}, {\"date_measured\": \"2012-09-01T00:00:00\", \"ppm\": 391.11}, {\"date_measured\": \"2012-10-01T00:00:00\", \"ppm\": 391.05}, {\"date_measured\": \"2012-11-01T00:00:00\", \"ppm\": 392.98}, {\"date_measured\": \"2012-12-01T00:00:00\", \"ppm\": 394.34}, {\"date_measured\": \"2013-01-01T00:00:00\", \"ppm\": 395.55}, {\"date_measured\": \"2013-02-01T00:00:00\", \"ppm\": 396.8}, {\"date_measured\": \"2013-03-01T00:00:00\", \"ppm\": 397.43}, {\"date_measured\": \"2013-04-01T00:00:00\", \"ppm\": 398.41}, {\"date_measured\": \"2013-05-01T00:00:00\", \"ppm\": 399.78}, {\"date_measured\": \"2013-06-01T00:00:00\", \"ppm\": 398.6}, {\"date_measured\": \"2013-07-01T00:00:00\", \"ppm\": 397.32}, {\"date_measured\": \"2013-08-01T00:00:00\", \"ppm\": 395.2}, {\"date_measured\": \"2013-09-01T00:00:00\", \"ppm\": 393.45}, {\"date_measured\": \"2013-10-01T00:00:00\", \"ppm\": 393.7}, {\"date_measured\": \"2013-11-01T00:00:00\", \"ppm\": 395.16}, {\"date_measured\": \"2013-12-01T00:00:00\", \"ppm\": 396.84}, {\"date_measured\": \"2014-01-01T00:00:00\", \"ppm\": 397.85}, {\"date_measured\": \"2014-02-01T00:00:00\", \"ppm\": 398.01}, {\"date_measured\": \"2014-03-01T00:00:00\", \"ppm\": 399.77}, {\"date_measured\": \"2014-04-01T00:00:00\", \"ppm\": 401.38}, {\"date_measured\": \"2014-05-01T00:00:00\", \"ppm\": 401.78}, {\"date_measured\": \"2014-06-01T00:00:00\", \"ppm\": 401.25}, {\"date_measured\": \"2014-07-01T00:00:00\", \"ppm\": 399.1}, {\"date_measured\": \"2014-08-01T00:00:00\", \"ppm\": 397.03}, {\"date_measured\": \"2014-09-01T00:00:00\", \"ppm\": 395.38}, {\"date_measured\": \"2014-10-01T00:00:00\", \"ppm\": 396.03}, {\"date_measured\": \"2014-11-01T00:00:00\", \"ppm\": 397.28}, {\"date_measured\": \"2014-12-01T00:00:00\", \"ppm\": 398.91}, {\"date_measured\": \"2015-01-01T00:00:00\", \"ppm\": 399.98}, {\"date_measured\": \"2015-02-01T00:00:00\", \"ppm\": 400.28}, {\"date_measured\": \"2015-03-01T00:00:00\", \"ppm\": 401.54}, {\"date_measured\": \"2015-04-01T00:00:00\", \"ppm\": 403.28}, {\"date_measured\": \"2015-05-01T00:00:00\", \"ppm\": 403.96}, {\"date_measured\": \"2015-06-01T00:00:00\", \"ppm\": 402.8}, {\"date_measured\": \"2015-07-01T00:00:00\", \"ppm\": 401.31}, {\"date_measured\": \"2015-08-01T00:00:00\", \"ppm\": 398.93}, {\"date_measured\": \"2015-09-01T00:00:00\", \"ppm\": 397.63}, {\"date_measured\": \"2015-10-01T00:00:00\", \"ppm\": 398.29}, {\"date_measured\": \"2015-11-01T00:00:00\", \"ppm\": 400.16}, {\"date_measured\": \"2015-12-01T00:00:00\", \"ppm\": 401.85}, {\"date_measured\": \"2016-01-01T00:00:00\", \"ppm\": 402.56}, {\"date_measured\": \"2016-02-01T00:00:00\", \"ppm\": 404.12}, {\"date_measured\": \"2016-03-01T00:00:00\", \"ppm\": 404.87}, {\"date_measured\": \"2016-04-01T00:00:00\", \"ppm\": 407.45}, {\"date_measured\": \"2016-05-01T00:00:00\", \"ppm\": 407.72}, {\"date_measured\": \"2016-06-01T00:00:00\", \"ppm\": 406.83}, {\"date_measured\": \"2016-07-01T00:00:00\", \"ppm\": 404.41}, {\"date_measured\": \"2016-08-01T00:00:00\", \"ppm\": 402.27}, {\"date_measured\": \"2016-09-01T00:00:00\", \"ppm\": 401.05}, {\"date_measured\": \"2016-10-01T00:00:00\", \"ppm\": 401.59}, {\"date_measured\": \"2016-11-01T00:00:00\", \"ppm\": 403.55}, {\"date_measured\": \"2016-12-01T00:00:00\", \"ppm\": 404.45}, {\"date_measured\": \"2017-01-01T00:00:00\", \"ppm\": 406.17}, {\"date_measured\": \"2017-02-01T00:00:00\", \"ppm\": 406.46}, {\"date_measured\": \"2017-03-01T00:00:00\", \"ppm\": 407.22}, {\"date_measured\": \"2017-04-01T00:00:00\", \"ppm\": 409.04}, {\"date_measured\": \"2017-05-01T00:00:00\", \"ppm\": 409.69}, {\"date_measured\": \"2017-06-01T00:00:00\", \"ppm\": 408.88}, {\"date_measured\": \"2017-07-01T00:00:00\", \"ppm\": 407.12}, {\"date_measured\": \"2017-08-01T00:00:00\", \"ppm\": 405.13}, {\"date_measured\": \"2017-09-01T00:00:00\", \"ppm\": 403.37}, {\"date_measured\": \"2017-10-01T00:00:00\", \"ppm\": 403.63}, {\"date_measured\": \"2017-11-01T00:00:00\", \"ppm\": 405.12}, {\"date_measured\": \"2017-12-01T00:00:00\", \"ppm\": 406.81}, {\"date_measured\": \"2018-01-01T00:00:00\", \"ppm\": 407.96}, {\"date_measured\": \"2018-02-01T00:00:00\", \"ppm\": 408.32}, {\"date_measured\": \"2018-03-01T00:00:00\", \"ppm\": 409.41}, {\"date_measured\": \"2018-04-01T00:00:00\", \"ppm\": 410.24}, {\"date_measured\": \"2018-05-01T00:00:00\", \"ppm\": 411.24}, {\"date_measured\": \"2018-06-01T00:00:00\", \"ppm\": 410.79}, {\"date_measured\": \"2018-07-01T00:00:00\", \"ppm\": 408.71}, {\"date_measured\": \"2018-08-01T00:00:00\", \"ppm\": 406.99}, {\"date_measured\": \"2018-09-01T00:00:00\", \"ppm\": 405.51}, {\"date_measured\": \"2018-10-01T00:00:00\", \"ppm\": 406.0}, {\"date_measured\": \"2018-11-01T00:00:00\", \"ppm\": 408.02}, {\"date_measured\": \"2018-12-01T00:00:00\", \"ppm\": 409.07}, {\"date_measured\": \"2019-01-01T00:00:00\", \"ppm\": 410.83}, {\"date_measured\": \"2019-02-01T00:00:00\", \"ppm\": 411.75}, {\"date_measured\": \"2019-03-01T00:00:00\", \"ppm\": 411.97}, {\"date_measured\": \"2019-04-01T00:00:00\", \"ppm\": 413.33}, {\"date_measured\": \"2019-05-01T00:00:00\", \"ppm\": 414.64}, {\"date_measured\": \"2019-06-01T00:00:00\", \"ppm\": 413.93}, {\"date_measured\": \"2019-07-01T00:00:00\", \"ppm\": 411.74}, {\"date_measured\": \"2019-08-01T00:00:00\", \"ppm\": 409.95}, {\"date_measured\": \"2019-09-01T00:00:00\", \"ppm\": 408.54}, {\"date_measured\": \"2019-10-01T00:00:00\", \"ppm\": 408.52}, {\"date_measured\": \"2019-11-01T00:00:00\", \"ppm\": 410.25}, {\"date_measured\": \"2019-12-01T00:00:00\", \"ppm\": 411.76}, {\"date_measured\": \"2020-01-01T00:00:00\", \"ppm\": 413.39}, {\"date_measured\": \"2020-02-01T00:00:00\", \"ppm\": 414.11}, {\"date_measured\": \"2020-03-01T00:00:00\", \"ppm\": 414.51}, {\"date_measured\": \"2020-04-01T00:00:00\", \"ppm\": 416.21}, {\"date_measured\": \"2020-05-01T00:00:00\", \"ppm\": 417.07}, {\"date_measured\": \"2020-06-01T00:00:00\", \"ppm\": 416.39}]}}, {\"mode\": \"vega-lite\"});\n",
       "</script>"
      ],
      "text/plain": [
       "alt.Chart(...)"
      ]
     },
     "metadata": {
      "scrapbook": {
       "mime_prefix": "application/papermill.record/",
       "name": "co2_line_scale"
      }
     },
     "output_type": "display_data"
    }
   ],
   "source": [
    "glue('co2_line_scale', co2_line_scale, display=False)"
   ]
  },
  {
   "cell_type": "markdown",
   "id": "b1f27c11",
   "metadata": {},
   "source": [
    ":::{glue:figure} co2_line_scale\n",
    ":figwidth: 700px \n",
    ":name: co2_line_scale\n",
    "\n",
    "Line plot of atmospheric concentration of CO$_{2}$ from 1990 to 1994.\n",
    ":::\n",
    "\n",
    "Interesting! It seems that each year, the atmospheric CO$_{\\text{2}}$ increases until it reaches its peak somewhere around April, decreases until around late September, \n",
    "and finally increases again until the end of the year. In Hawaii, there are two seasons: summer from May through October, and winter from November through April.\n",
    "Therefore, the oscillating pattern in CO$_{\\text{2}}$ matches up fairly closely with the two seasons.\n",
    "\n",
    "As you might have noticed from the code used to create the final visualization\n",
    "of the `co2_df` data frame, we used `axis=alt.Axis(tickCount=4)` to add the lines in the background to better visualise and map the values on the axis to the plot.\n",
    "\n",
    "\n",
    "A useful analogy to constructing a data visualization is painting a picture.\n",
    "We start with a blank canvas, \n",
    "and the first thing we do is prepare the surface \n",
    "for our painting by adding primer. \n",
    "In our data visualization this is akin to calling `alt.Chart` \n",
    "and specifying the data set we will be using.\n",
    "Next, we sketch out the background of the painting. \n",
    "In our data visualization, \n",
    "this would be when we map data to the axes in the `encode` function.\n",
    "Then we add our key visual subjects to the painting.\n",
    "In our data visualization, \n",
    "this would be the geometric objects (e.g., `mark_point`, `mark_line`, etc.).\n",
    "And finally, we work on adding details and refinements to the painting.\n",
    "In our data visualization this would be when we fine tune axis labels,\n",
    "change the font, adjust the point size, and do other related things.\n",
    "\n",
    "### Scatter plots: the Old Faithful eruption time data set\n",
    "The `faithful` data set \\index{Old Faithful} contains measurements \n",
    "of the waiting time between eruptions \n",
    "and the subsequent eruption duration (in minutes) of the Old Faithful\n",
    "geyser in Yellowstone National Park, Wyoming, United States. \n",
    "First, we will read the data and then answer the following question:\n",
    "\n",
    "**Question:** \\index{question!visualization} \n",
    "Is there a relationship between the waiting time before an eruption \n",
    "and the duration of the eruption?"
   ]
  },
  {
   "cell_type": "code",
   "execution_count": 15,
   "id": "e8e3dd30",
   "metadata": {},
   "outputs": [
    {
     "data": {
      "text/html": [
       "<div>\n",
       "<style scoped>\n",
       "    .dataframe tbody tr th:only-of-type {\n",
       "        vertical-align: middle;\n",
       "    }\n",
       "\n",
       "    .dataframe tbody tr th {\n",
       "        vertical-align: top;\n",
       "    }\n",
       "\n",
       "    .dataframe thead th {\n",
       "        text-align: right;\n",
       "    }\n",
       "</style>\n",
       "<table border=\"1\" class=\"dataframe\">\n",
       "  <thead>\n",
       "    <tr style=\"text-align: right;\">\n",
       "      <th></th>\n",
       "      <th>eruptions</th>\n",
       "      <th>waiting</th>\n",
       "    </tr>\n",
       "  </thead>\n",
       "  <tbody>\n",
       "    <tr>\n",
       "      <th>0</th>\n",
       "      <td>3.600</td>\n",
       "      <td>79</td>\n",
       "    </tr>\n",
       "    <tr>\n",
       "      <th>1</th>\n",
       "      <td>1.800</td>\n",
       "      <td>54</td>\n",
       "    </tr>\n",
       "    <tr>\n",
       "      <th>2</th>\n",
       "      <td>3.333</td>\n",
       "      <td>74</td>\n",
       "    </tr>\n",
       "    <tr>\n",
       "      <th>3</th>\n",
       "      <td>2.283</td>\n",
       "      <td>62</td>\n",
       "    </tr>\n",
       "    <tr>\n",
       "      <th>4</th>\n",
       "      <td>4.533</td>\n",
       "      <td>85</td>\n",
       "    </tr>\n",
       "    <tr>\n",
       "      <th>...</th>\n",
       "      <td>...</td>\n",
       "      <td>...</td>\n",
       "    </tr>\n",
       "    <tr>\n",
       "      <th>267</th>\n",
       "      <td>4.117</td>\n",
       "      <td>81</td>\n",
       "    </tr>\n",
       "    <tr>\n",
       "      <th>268</th>\n",
       "      <td>2.150</td>\n",
       "      <td>46</td>\n",
       "    </tr>\n",
       "    <tr>\n",
       "      <th>269</th>\n",
       "      <td>4.417</td>\n",
       "      <td>90</td>\n",
       "    </tr>\n",
       "    <tr>\n",
       "      <th>270</th>\n",
       "      <td>1.817</td>\n",
       "      <td>46</td>\n",
       "    </tr>\n",
       "    <tr>\n",
       "      <th>271</th>\n",
       "      <td>4.467</td>\n",
       "      <td>74</td>\n",
       "    </tr>\n",
       "  </tbody>\n",
       "</table>\n",
       "<p>272 rows × 2 columns</p>\n",
       "</div>"
      ],
      "text/plain": [
       "     eruptions  waiting\n",
       "0        3.600       79\n",
       "1        1.800       54\n",
       "2        3.333       74\n",
       "3        2.283       62\n",
       "4        4.533       85\n",
       "..         ...      ...\n",
       "267      4.117       81\n",
       "268      2.150       46\n",
       "269      4.417       90\n",
       "270      1.817       46\n",
       "271      4.467       74\n",
       "\n",
       "[272 rows x 2 columns]"
      ]
     },
     "execution_count": 15,
     "metadata": {},
     "output_type": "execute_result"
    }
   ],
   "source": [
    "faithful = pd.read_csv(\"data/faithful.csv\")\n",
    "faithful\n"
   ]
  },
  {
   "cell_type": "markdown",
   "id": "f68216f5",
   "metadata": {},
   "source": [
    "Here again, we investigate the relationship between two quantitative variables \n",
    "(waiting time and eruption time). \n",
    "But if you look at the output of the data frame, \n",
    "you'll notice that unlike time in the Mauna Loa CO$_{\\text{2}}$ data set,\n",
    "neither of the variables here have a natural order to them.\n",
    "So a scatter plot is likely to be the most appropriate\n",
    "visualization. Let's create a scatter plot using the `altair`\n",
    "package with the `waiting` variable on the horizontal axis, the `eruptions` \n",
    "variable on the vertical axis, and the `mark_point` geometric object.\n",
    "The result is shown in {numref}`faithful_scatter`."
   ]
  },
  {
   "cell_type": "code",
   "execution_count": 16,
   "id": "66a35ba6",
   "metadata": {},
   "outputs": [],
   "source": [
    "faithful_scatter = alt.Chart(faithful).mark_point(color='black', filled=True).encode(\n",
    "    x = \"waiting\",\n",
    "    y = \"eruptions\"\n",
    ")\n"
   ]
  },
  {
   "cell_type": "code",
   "execution_count": 17,
   "id": "55a14306",
   "metadata": {
    "tags": [
     "remove-cell"
    ]
   },
   "outputs": [
    {
     "data": {
      "text/html": [
       "\n",
       "<div id=\"altair-viz-7c04f3d0e6014c1b9278a537cdc6f149\"></div>\n",
       "<script type=\"text/javascript\">\n",
       "  var VEGA_DEBUG = (typeof VEGA_DEBUG == \"undefined\") ? {} : VEGA_DEBUG;\n",
       "  (function(spec, embedOpt){\n",
       "    let outputDiv = document.currentScript.previousElementSibling;\n",
       "    if (outputDiv.id !== \"altair-viz-7c04f3d0e6014c1b9278a537cdc6f149\") {\n",
       "      outputDiv = document.getElementById(\"altair-viz-7c04f3d0e6014c1b9278a537cdc6f149\");\n",
       "    }\n",
       "    const paths = {\n",
       "      \"vega\": \"https://cdn.jsdelivr.net/npm//vega@5?noext\",\n",
       "      \"vega-lib\": \"https://cdn.jsdelivr.net/npm//vega-lib?noext\",\n",
       "      \"vega-lite\": \"https://cdn.jsdelivr.net/npm//vega-lite@4.17.0?noext\",\n",
       "      \"vega-embed\": \"https://cdn.jsdelivr.net/npm//vega-embed@6?noext\",\n",
       "    };\n",
       "\n",
       "    function maybeLoadScript(lib, version) {\n",
       "      var key = `${lib.replace(\"-\", \"\")}_version`;\n",
       "      return (VEGA_DEBUG[key] == version) ?\n",
       "        Promise.resolve(paths[lib]) :\n",
       "        new Promise(function(resolve, reject) {\n",
       "          var s = document.createElement('script');\n",
       "          document.getElementsByTagName(\"head\")[0].appendChild(s);\n",
       "          s.async = true;\n",
       "          s.onload = () => {\n",
       "            VEGA_DEBUG[key] = version;\n",
       "            return resolve(paths[lib]);\n",
       "          };\n",
       "          s.onerror = () => reject(`Error loading script: ${paths[lib]}`);\n",
       "          s.src = paths[lib];\n",
       "        });\n",
       "    }\n",
       "\n",
       "    function showError(err) {\n",
       "      outputDiv.innerHTML = `<div class=\"error\" style=\"color:red;\">${err}</div>`;\n",
       "      throw err;\n",
       "    }\n",
       "\n",
       "    function displayChart(vegaEmbed) {\n",
       "      vegaEmbed(outputDiv, spec, embedOpt)\n",
       "        .catch(err => showError(`Javascript Error: ${err.message}<br>This usually means there's a typo in your chart specification. See the javascript console for the full traceback.`));\n",
       "    }\n",
       "\n",
       "    if(typeof define === \"function\" && define.amd) {\n",
       "      requirejs.config({paths});\n",
       "      require([\"vega-embed\"], displayChart, err => showError(`Error loading script: ${err.message}`));\n",
       "    } else {\n",
       "      maybeLoadScript(\"vega\", \"5\")\n",
       "        .then(() => maybeLoadScript(\"vega-lite\", \"4.17.0\"))\n",
       "        .then(() => maybeLoadScript(\"vega-embed\", \"6\"))\n",
       "        .catch(showError)\n",
       "        .then(() => displayChart(vegaEmbed));\n",
       "    }\n",
       "  })({\"config\": {\"view\": {\"continuousWidth\": 400, \"continuousHeight\": 300}}, \"data\": {\"name\": \"data-5e01a96a81f10c72d948a86132ecb6d1\"}, \"mark\": {\"type\": \"point\", \"color\": \"black\", \"filled\": true}, \"encoding\": {\"x\": {\"field\": \"waiting\", \"type\": \"quantitative\"}, \"y\": {\"field\": \"eruptions\", \"type\": \"quantitative\"}}, \"$schema\": \"https://vega.github.io/schema/vega-lite/v4.17.0.json\", \"datasets\": {\"data-5e01a96a81f10c72d948a86132ecb6d1\": [{\"eruptions\": 3.6, \"waiting\": 79}, {\"eruptions\": 1.8, \"waiting\": 54}, {\"eruptions\": 3.333, \"waiting\": 74}, {\"eruptions\": 2.283, \"waiting\": 62}, {\"eruptions\": 4.533, \"waiting\": 85}, {\"eruptions\": 2.883, \"waiting\": 55}, {\"eruptions\": 4.7, \"waiting\": 88}, {\"eruptions\": 3.6, \"waiting\": 85}, {\"eruptions\": 1.95, \"waiting\": 51}, {\"eruptions\": 4.35, \"waiting\": 85}, {\"eruptions\": 1.833, \"waiting\": 54}, {\"eruptions\": 3.917, \"waiting\": 84}, {\"eruptions\": 4.2, \"waiting\": 78}, {\"eruptions\": 1.75, \"waiting\": 47}, {\"eruptions\": 4.7, \"waiting\": 83}, {\"eruptions\": 2.167, \"waiting\": 52}, {\"eruptions\": 1.75, \"waiting\": 62}, {\"eruptions\": 4.8, \"waiting\": 84}, {\"eruptions\": 1.6, \"waiting\": 52}, {\"eruptions\": 4.25, \"waiting\": 79}, {\"eruptions\": 1.8, \"waiting\": 51}, {\"eruptions\": 1.75, \"waiting\": 47}, {\"eruptions\": 3.45, \"waiting\": 78}, {\"eruptions\": 3.067, \"waiting\": 69}, {\"eruptions\": 4.533, \"waiting\": 74}, {\"eruptions\": 3.6, \"waiting\": 83}, {\"eruptions\": 1.967, \"waiting\": 55}, {\"eruptions\": 4.083, \"waiting\": 76}, {\"eruptions\": 3.85, \"waiting\": 78}, {\"eruptions\": 4.433, \"waiting\": 79}, {\"eruptions\": 4.3, \"waiting\": 73}, {\"eruptions\": 4.467, \"waiting\": 77}, {\"eruptions\": 3.367, \"waiting\": 66}, {\"eruptions\": 4.033, \"waiting\": 80}, {\"eruptions\": 3.833, \"waiting\": 74}, {\"eruptions\": 2.017, \"waiting\": 52}, {\"eruptions\": 1.867, \"waiting\": 48}, {\"eruptions\": 4.833, \"waiting\": 80}, {\"eruptions\": 1.833, \"waiting\": 59}, {\"eruptions\": 4.783, \"waiting\": 90}, {\"eruptions\": 4.35, \"waiting\": 80}, {\"eruptions\": 1.883, \"waiting\": 58}, {\"eruptions\": 4.567, \"waiting\": 84}, {\"eruptions\": 1.75, \"waiting\": 58}, {\"eruptions\": 4.533, \"waiting\": 73}, {\"eruptions\": 3.317, \"waiting\": 83}, {\"eruptions\": 3.833, \"waiting\": 64}, {\"eruptions\": 2.1, \"waiting\": 53}, {\"eruptions\": 4.633, \"waiting\": 82}, {\"eruptions\": 2.0, \"waiting\": 59}, {\"eruptions\": 4.8, \"waiting\": 75}, {\"eruptions\": 4.716, \"waiting\": 90}, {\"eruptions\": 1.833, \"waiting\": 54}, {\"eruptions\": 4.833, \"waiting\": 80}, {\"eruptions\": 1.733, \"waiting\": 54}, {\"eruptions\": 4.883, \"waiting\": 83}, {\"eruptions\": 3.717, \"waiting\": 71}, {\"eruptions\": 1.667, \"waiting\": 64}, {\"eruptions\": 4.567, \"waiting\": 77}, {\"eruptions\": 4.317, \"waiting\": 81}, {\"eruptions\": 2.233, \"waiting\": 59}, {\"eruptions\": 4.5, \"waiting\": 84}, {\"eruptions\": 1.75, \"waiting\": 48}, {\"eruptions\": 4.8, \"waiting\": 82}, {\"eruptions\": 1.817, \"waiting\": 60}, {\"eruptions\": 4.4, \"waiting\": 92}, {\"eruptions\": 4.167, \"waiting\": 78}, {\"eruptions\": 4.7, \"waiting\": 78}, {\"eruptions\": 2.067, \"waiting\": 65}, {\"eruptions\": 4.7, \"waiting\": 73}, {\"eruptions\": 4.033, \"waiting\": 82}, {\"eruptions\": 1.967, \"waiting\": 56}, {\"eruptions\": 4.5, \"waiting\": 79}, {\"eruptions\": 4.0, \"waiting\": 71}, {\"eruptions\": 1.983, \"waiting\": 62}, {\"eruptions\": 5.067, \"waiting\": 76}, {\"eruptions\": 2.017, \"waiting\": 60}, {\"eruptions\": 4.567, \"waiting\": 78}, {\"eruptions\": 3.883, \"waiting\": 76}, {\"eruptions\": 3.6, \"waiting\": 83}, {\"eruptions\": 4.133, \"waiting\": 75}, {\"eruptions\": 4.333, \"waiting\": 82}, {\"eruptions\": 4.1, \"waiting\": 70}, {\"eruptions\": 2.633, \"waiting\": 65}, {\"eruptions\": 4.067, \"waiting\": 73}, {\"eruptions\": 4.933, \"waiting\": 88}, {\"eruptions\": 3.95, \"waiting\": 76}, {\"eruptions\": 4.517, \"waiting\": 80}, {\"eruptions\": 2.167, \"waiting\": 48}, {\"eruptions\": 4.0, \"waiting\": 86}, {\"eruptions\": 2.2, \"waiting\": 60}, {\"eruptions\": 4.333, \"waiting\": 90}, {\"eruptions\": 1.867, \"waiting\": 50}, {\"eruptions\": 4.817, \"waiting\": 78}, {\"eruptions\": 1.833, \"waiting\": 63}, {\"eruptions\": 4.3, \"waiting\": 72}, {\"eruptions\": 4.667, \"waiting\": 84}, {\"eruptions\": 3.75, \"waiting\": 75}, {\"eruptions\": 1.867, \"waiting\": 51}, {\"eruptions\": 4.9, \"waiting\": 82}, {\"eruptions\": 2.483, \"waiting\": 62}, {\"eruptions\": 4.367, \"waiting\": 88}, {\"eruptions\": 2.1, \"waiting\": 49}, {\"eruptions\": 4.5, \"waiting\": 83}, {\"eruptions\": 4.05, \"waiting\": 81}, {\"eruptions\": 1.867, \"waiting\": 47}, {\"eruptions\": 4.7, \"waiting\": 84}, {\"eruptions\": 1.783, \"waiting\": 52}, {\"eruptions\": 4.85, \"waiting\": 86}, {\"eruptions\": 3.683, \"waiting\": 81}, {\"eruptions\": 4.733, \"waiting\": 75}, {\"eruptions\": 2.3, \"waiting\": 59}, {\"eruptions\": 4.9, \"waiting\": 89}, {\"eruptions\": 4.417, \"waiting\": 79}, {\"eruptions\": 1.7, \"waiting\": 59}, {\"eruptions\": 4.633, \"waiting\": 81}, {\"eruptions\": 2.317, \"waiting\": 50}, {\"eruptions\": 4.6, \"waiting\": 85}, {\"eruptions\": 1.817, \"waiting\": 59}, {\"eruptions\": 4.417, \"waiting\": 87}, {\"eruptions\": 2.617, \"waiting\": 53}, {\"eruptions\": 4.067, \"waiting\": 69}, {\"eruptions\": 4.25, \"waiting\": 77}, {\"eruptions\": 1.967, \"waiting\": 56}, {\"eruptions\": 4.6, \"waiting\": 88}, {\"eruptions\": 3.767, \"waiting\": 81}, {\"eruptions\": 1.917, \"waiting\": 45}, {\"eruptions\": 4.5, \"waiting\": 82}, {\"eruptions\": 2.267, \"waiting\": 55}, {\"eruptions\": 4.65, \"waiting\": 90}, {\"eruptions\": 1.867, \"waiting\": 45}, {\"eruptions\": 4.167, \"waiting\": 83}, {\"eruptions\": 2.8, \"waiting\": 56}, {\"eruptions\": 4.333, \"waiting\": 89}, {\"eruptions\": 1.833, \"waiting\": 46}, {\"eruptions\": 4.383, \"waiting\": 82}, {\"eruptions\": 1.883, \"waiting\": 51}, {\"eruptions\": 4.933, \"waiting\": 86}, {\"eruptions\": 2.033, \"waiting\": 53}, {\"eruptions\": 3.733, \"waiting\": 79}, {\"eruptions\": 4.233, \"waiting\": 81}, {\"eruptions\": 2.233, \"waiting\": 60}, {\"eruptions\": 4.533, \"waiting\": 82}, {\"eruptions\": 4.817, \"waiting\": 77}, {\"eruptions\": 4.333, \"waiting\": 76}, {\"eruptions\": 1.983, \"waiting\": 59}, {\"eruptions\": 4.633, \"waiting\": 80}, {\"eruptions\": 2.017, \"waiting\": 49}, {\"eruptions\": 5.1, \"waiting\": 96}, {\"eruptions\": 1.8, \"waiting\": 53}, {\"eruptions\": 5.033, \"waiting\": 77}, {\"eruptions\": 4.0, \"waiting\": 77}, {\"eruptions\": 2.4, \"waiting\": 65}, {\"eruptions\": 4.6, \"waiting\": 81}, {\"eruptions\": 3.567, \"waiting\": 71}, {\"eruptions\": 4.0, \"waiting\": 70}, {\"eruptions\": 4.5, \"waiting\": 81}, {\"eruptions\": 4.083, \"waiting\": 93}, {\"eruptions\": 1.8, \"waiting\": 53}, {\"eruptions\": 3.967, \"waiting\": 89}, {\"eruptions\": 2.2, \"waiting\": 45}, {\"eruptions\": 4.15, \"waiting\": 86}, {\"eruptions\": 2.0, \"waiting\": 58}, {\"eruptions\": 3.833, \"waiting\": 78}, {\"eruptions\": 3.5, \"waiting\": 66}, {\"eruptions\": 4.583, \"waiting\": 76}, {\"eruptions\": 2.367, \"waiting\": 63}, {\"eruptions\": 5.0, \"waiting\": 88}, {\"eruptions\": 1.933, \"waiting\": 52}, {\"eruptions\": 4.617, \"waiting\": 93}, {\"eruptions\": 1.917, \"waiting\": 49}, {\"eruptions\": 2.083, \"waiting\": 57}, {\"eruptions\": 4.583, \"waiting\": 77}, {\"eruptions\": 3.333, \"waiting\": 68}, {\"eruptions\": 4.167, \"waiting\": 81}, {\"eruptions\": 4.333, \"waiting\": 81}, {\"eruptions\": 4.5, \"waiting\": 73}, {\"eruptions\": 2.417, \"waiting\": 50}, {\"eruptions\": 4.0, \"waiting\": 85}, {\"eruptions\": 4.167, \"waiting\": 74}, {\"eruptions\": 1.883, \"waiting\": 55}, {\"eruptions\": 4.583, \"waiting\": 77}, {\"eruptions\": 4.25, \"waiting\": 83}, {\"eruptions\": 3.767, \"waiting\": 83}, {\"eruptions\": 2.033, \"waiting\": 51}, {\"eruptions\": 4.433, \"waiting\": 78}, {\"eruptions\": 4.083, \"waiting\": 84}, {\"eruptions\": 1.833, \"waiting\": 46}, {\"eruptions\": 4.417, \"waiting\": 83}, {\"eruptions\": 2.183, \"waiting\": 55}, {\"eruptions\": 4.8, \"waiting\": 81}, {\"eruptions\": 1.833, \"waiting\": 57}, {\"eruptions\": 4.8, \"waiting\": 76}, {\"eruptions\": 4.1, \"waiting\": 84}, {\"eruptions\": 3.966, \"waiting\": 77}, {\"eruptions\": 4.233, \"waiting\": 81}, {\"eruptions\": 3.5, \"waiting\": 87}, {\"eruptions\": 4.366, \"waiting\": 77}, {\"eruptions\": 2.25, \"waiting\": 51}, {\"eruptions\": 4.667, \"waiting\": 78}, {\"eruptions\": 2.1, \"waiting\": 60}, {\"eruptions\": 4.35, \"waiting\": 82}, {\"eruptions\": 4.133, \"waiting\": 91}, {\"eruptions\": 1.867, \"waiting\": 53}, {\"eruptions\": 4.6, \"waiting\": 78}, {\"eruptions\": 1.783, \"waiting\": 46}, {\"eruptions\": 4.367, \"waiting\": 77}, {\"eruptions\": 3.85, \"waiting\": 84}, {\"eruptions\": 1.933, \"waiting\": 49}, {\"eruptions\": 4.5, \"waiting\": 83}, {\"eruptions\": 2.383, \"waiting\": 71}, {\"eruptions\": 4.7, \"waiting\": 80}, {\"eruptions\": 1.867, \"waiting\": 49}, {\"eruptions\": 3.833, \"waiting\": 75}, {\"eruptions\": 3.417, \"waiting\": 64}, {\"eruptions\": 4.233, \"waiting\": 76}, {\"eruptions\": 2.4, \"waiting\": 53}, {\"eruptions\": 4.8, \"waiting\": 94}, {\"eruptions\": 2.0, \"waiting\": 55}, {\"eruptions\": 4.15, \"waiting\": 76}, {\"eruptions\": 1.867, \"waiting\": 50}, {\"eruptions\": 4.267, \"waiting\": 82}, {\"eruptions\": 1.75, \"waiting\": 54}, {\"eruptions\": 4.483, \"waiting\": 75}, {\"eruptions\": 4.0, \"waiting\": 78}, {\"eruptions\": 4.117, \"waiting\": 79}, {\"eruptions\": 4.083, \"waiting\": 78}, {\"eruptions\": 4.267, \"waiting\": 78}, {\"eruptions\": 3.917, \"waiting\": 70}, {\"eruptions\": 4.55, \"waiting\": 79}, {\"eruptions\": 4.083, \"waiting\": 70}, {\"eruptions\": 2.417, \"waiting\": 54}, {\"eruptions\": 4.183, \"waiting\": 86}, {\"eruptions\": 2.217, \"waiting\": 50}, {\"eruptions\": 4.45, \"waiting\": 90}, {\"eruptions\": 1.883, \"waiting\": 54}, {\"eruptions\": 1.85, \"waiting\": 54}, {\"eruptions\": 4.283, \"waiting\": 77}, {\"eruptions\": 3.95, \"waiting\": 79}, {\"eruptions\": 2.333, \"waiting\": 64}, {\"eruptions\": 4.15, \"waiting\": 75}, {\"eruptions\": 2.35, \"waiting\": 47}, {\"eruptions\": 4.933, \"waiting\": 86}, {\"eruptions\": 2.9, \"waiting\": 63}, {\"eruptions\": 4.583, \"waiting\": 85}, {\"eruptions\": 3.833, \"waiting\": 82}, {\"eruptions\": 2.083, \"waiting\": 57}, {\"eruptions\": 4.367, \"waiting\": 82}, {\"eruptions\": 2.133, \"waiting\": 67}, {\"eruptions\": 4.35, \"waiting\": 74}, {\"eruptions\": 2.2, \"waiting\": 54}, {\"eruptions\": 4.45, \"waiting\": 83}, {\"eruptions\": 3.567, \"waiting\": 73}, {\"eruptions\": 4.5, \"waiting\": 73}, {\"eruptions\": 4.15, \"waiting\": 88}, {\"eruptions\": 3.817, \"waiting\": 80}, {\"eruptions\": 3.917, \"waiting\": 71}, {\"eruptions\": 4.45, \"waiting\": 83}, {\"eruptions\": 2.0, \"waiting\": 56}, {\"eruptions\": 4.283, \"waiting\": 79}, {\"eruptions\": 4.767, \"waiting\": 78}, {\"eruptions\": 4.533, \"waiting\": 84}, {\"eruptions\": 1.85, \"waiting\": 58}, {\"eruptions\": 4.25, \"waiting\": 83}, {\"eruptions\": 1.983, \"waiting\": 43}, {\"eruptions\": 2.25, \"waiting\": 60}, {\"eruptions\": 4.75, \"waiting\": 75}, {\"eruptions\": 4.117, \"waiting\": 81}, {\"eruptions\": 2.15, \"waiting\": 46}, {\"eruptions\": 4.417, \"waiting\": 90}, {\"eruptions\": 1.817, \"waiting\": 46}, {\"eruptions\": 4.467, \"waiting\": 74}]}}, {\"mode\": \"vega-lite\"});\n",
       "</script>"
      ],
      "text/plain": [
       "alt.Chart(...)"
      ]
     },
     "metadata": {
      "scrapbook": {
       "mime_prefix": "application/papermill.record/",
       "name": "faithful_scatter"
      }
     },
     "output_type": "display_data"
    }
   ],
   "source": [
    "glue('faithful_scatter', faithful_scatter, display=False)"
   ]
  },
  {
   "cell_type": "markdown",
   "id": "90ea57d3",
   "metadata": {},
   "source": [
    ":::{glue:figure} faithful_scatter \n",
    ":figwidth: 700px \n",
    ":name: faithful_scatter\n",
    "\n",
    "Scatter plot of waiting time and eruption time.\n",
    ":::\n",
    "\n",
    "We can see in {numref}`faithful_scatter` that the data tend to fall\n",
    "into two groups: one with short waiting and eruption times, and one with long\n",
    "waiting and eruption times. Note that in this case, there is no overplotting:\n",
    "the points are generally nicely visually separated, and the pattern they form\n",
    "is clear.  Also, note that to make the points solid, we used `filled=True` as argument of the `mark_point` function. In place of `mark_point(filled=True)`, we can also use `mark_circle()`. \n",
    "In order to refine the visualization, we need only to add axis\n",
    "labels and make the font more readable:"
   ]
  },
  {
   "cell_type": "code",
   "execution_count": 18,
   "id": "868d6c78",
   "metadata": {},
   "outputs": [],
   "source": [
    "faithful_scatter_labels = alt.Chart(faithful).mark_circle(color='black').encode(\n",
    "    x = alt.X(\"waiting\", title = \"Waiting Time (mins)\"),\n",
    "    y = alt.Y(\"eruptions\", title = \"Eruption Duration (mins)\")\n",
    ")\n",
    "\n",
    "\n"
   ]
  },
  {
   "cell_type": "code",
   "execution_count": 19,
   "id": "faa5528f",
   "metadata": {
    "tags": [
     "remove-cell"
    ]
   },
   "outputs": [
    {
     "data": {
      "text/html": [
       "\n",
       "<div id=\"altair-viz-a9cde0b0175c4c39a31009983c5195d0\"></div>\n",
       "<script type=\"text/javascript\">\n",
       "  var VEGA_DEBUG = (typeof VEGA_DEBUG == \"undefined\") ? {} : VEGA_DEBUG;\n",
       "  (function(spec, embedOpt){\n",
       "    let outputDiv = document.currentScript.previousElementSibling;\n",
       "    if (outputDiv.id !== \"altair-viz-a9cde0b0175c4c39a31009983c5195d0\") {\n",
       "      outputDiv = document.getElementById(\"altair-viz-a9cde0b0175c4c39a31009983c5195d0\");\n",
       "    }\n",
       "    const paths = {\n",
       "      \"vega\": \"https://cdn.jsdelivr.net/npm//vega@5?noext\",\n",
       "      \"vega-lib\": \"https://cdn.jsdelivr.net/npm//vega-lib?noext\",\n",
       "      \"vega-lite\": \"https://cdn.jsdelivr.net/npm//vega-lite@4.17.0?noext\",\n",
       "      \"vega-embed\": \"https://cdn.jsdelivr.net/npm//vega-embed@6?noext\",\n",
       "    };\n",
       "\n",
       "    function maybeLoadScript(lib, version) {\n",
       "      var key = `${lib.replace(\"-\", \"\")}_version`;\n",
       "      return (VEGA_DEBUG[key] == version) ?\n",
       "        Promise.resolve(paths[lib]) :\n",
       "        new Promise(function(resolve, reject) {\n",
       "          var s = document.createElement('script');\n",
       "          document.getElementsByTagName(\"head\")[0].appendChild(s);\n",
       "          s.async = true;\n",
       "          s.onload = () => {\n",
       "            VEGA_DEBUG[key] = version;\n",
       "            return resolve(paths[lib]);\n",
       "          };\n",
       "          s.onerror = () => reject(`Error loading script: ${paths[lib]}`);\n",
       "          s.src = paths[lib];\n",
       "        });\n",
       "    }\n",
       "\n",
       "    function showError(err) {\n",
       "      outputDiv.innerHTML = `<div class=\"error\" style=\"color:red;\">${err}</div>`;\n",
       "      throw err;\n",
       "    }\n",
       "\n",
       "    function displayChart(vegaEmbed) {\n",
       "      vegaEmbed(outputDiv, spec, embedOpt)\n",
       "        .catch(err => showError(`Javascript Error: ${err.message}<br>This usually means there's a typo in your chart specification. See the javascript console for the full traceback.`));\n",
       "    }\n",
       "\n",
       "    if(typeof define === \"function\" && define.amd) {\n",
       "      requirejs.config({paths});\n",
       "      require([\"vega-embed\"], displayChart, err => showError(`Error loading script: ${err.message}`));\n",
       "    } else {\n",
       "      maybeLoadScript(\"vega\", \"5\")\n",
       "        .then(() => maybeLoadScript(\"vega-lite\", \"4.17.0\"))\n",
       "        .then(() => maybeLoadScript(\"vega-embed\", \"6\"))\n",
       "        .catch(showError)\n",
       "        .then(() => displayChart(vegaEmbed));\n",
       "    }\n",
       "  })({\"config\": {\"view\": {\"continuousWidth\": 400, \"continuousHeight\": 300}}, \"data\": {\"name\": \"data-5e01a96a81f10c72d948a86132ecb6d1\"}, \"mark\": {\"type\": \"circle\", \"color\": \"black\"}, \"encoding\": {\"x\": {\"field\": \"waiting\", \"title\": \"Waiting Time (mins)\", \"type\": \"quantitative\"}, \"y\": {\"field\": \"eruptions\", \"title\": \"Eruption Duration (mins)\", \"type\": \"quantitative\"}}, \"$schema\": \"https://vega.github.io/schema/vega-lite/v4.17.0.json\", \"datasets\": {\"data-5e01a96a81f10c72d948a86132ecb6d1\": [{\"eruptions\": 3.6, \"waiting\": 79}, {\"eruptions\": 1.8, \"waiting\": 54}, {\"eruptions\": 3.333, \"waiting\": 74}, {\"eruptions\": 2.283, \"waiting\": 62}, {\"eruptions\": 4.533, \"waiting\": 85}, {\"eruptions\": 2.883, \"waiting\": 55}, {\"eruptions\": 4.7, \"waiting\": 88}, {\"eruptions\": 3.6, \"waiting\": 85}, {\"eruptions\": 1.95, \"waiting\": 51}, {\"eruptions\": 4.35, \"waiting\": 85}, {\"eruptions\": 1.833, \"waiting\": 54}, {\"eruptions\": 3.917, \"waiting\": 84}, {\"eruptions\": 4.2, \"waiting\": 78}, {\"eruptions\": 1.75, \"waiting\": 47}, {\"eruptions\": 4.7, \"waiting\": 83}, {\"eruptions\": 2.167, \"waiting\": 52}, {\"eruptions\": 1.75, \"waiting\": 62}, {\"eruptions\": 4.8, \"waiting\": 84}, {\"eruptions\": 1.6, \"waiting\": 52}, {\"eruptions\": 4.25, \"waiting\": 79}, {\"eruptions\": 1.8, \"waiting\": 51}, {\"eruptions\": 1.75, \"waiting\": 47}, {\"eruptions\": 3.45, \"waiting\": 78}, {\"eruptions\": 3.067, \"waiting\": 69}, {\"eruptions\": 4.533, \"waiting\": 74}, {\"eruptions\": 3.6, \"waiting\": 83}, {\"eruptions\": 1.967, \"waiting\": 55}, {\"eruptions\": 4.083, \"waiting\": 76}, {\"eruptions\": 3.85, \"waiting\": 78}, {\"eruptions\": 4.433, \"waiting\": 79}, {\"eruptions\": 4.3, \"waiting\": 73}, {\"eruptions\": 4.467, \"waiting\": 77}, {\"eruptions\": 3.367, \"waiting\": 66}, {\"eruptions\": 4.033, \"waiting\": 80}, {\"eruptions\": 3.833, \"waiting\": 74}, {\"eruptions\": 2.017, \"waiting\": 52}, {\"eruptions\": 1.867, \"waiting\": 48}, {\"eruptions\": 4.833, \"waiting\": 80}, {\"eruptions\": 1.833, \"waiting\": 59}, {\"eruptions\": 4.783, \"waiting\": 90}, {\"eruptions\": 4.35, \"waiting\": 80}, {\"eruptions\": 1.883, \"waiting\": 58}, {\"eruptions\": 4.567, \"waiting\": 84}, {\"eruptions\": 1.75, \"waiting\": 58}, {\"eruptions\": 4.533, \"waiting\": 73}, {\"eruptions\": 3.317, \"waiting\": 83}, {\"eruptions\": 3.833, \"waiting\": 64}, {\"eruptions\": 2.1, \"waiting\": 53}, {\"eruptions\": 4.633, \"waiting\": 82}, {\"eruptions\": 2.0, \"waiting\": 59}, {\"eruptions\": 4.8, \"waiting\": 75}, {\"eruptions\": 4.716, \"waiting\": 90}, {\"eruptions\": 1.833, \"waiting\": 54}, {\"eruptions\": 4.833, \"waiting\": 80}, {\"eruptions\": 1.733, \"waiting\": 54}, {\"eruptions\": 4.883, \"waiting\": 83}, {\"eruptions\": 3.717, \"waiting\": 71}, {\"eruptions\": 1.667, \"waiting\": 64}, {\"eruptions\": 4.567, \"waiting\": 77}, {\"eruptions\": 4.317, \"waiting\": 81}, {\"eruptions\": 2.233, \"waiting\": 59}, {\"eruptions\": 4.5, \"waiting\": 84}, {\"eruptions\": 1.75, \"waiting\": 48}, {\"eruptions\": 4.8, \"waiting\": 82}, {\"eruptions\": 1.817, \"waiting\": 60}, {\"eruptions\": 4.4, \"waiting\": 92}, {\"eruptions\": 4.167, \"waiting\": 78}, {\"eruptions\": 4.7, \"waiting\": 78}, {\"eruptions\": 2.067, \"waiting\": 65}, {\"eruptions\": 4.7, \"waiting\": 73}, {\"eruptions\": 4.033, \"waiting\": 82}, {\"eruptions\": 1.967, \"waiting\": 56}, {\"eruptions\": 4.5, \"waiting\": 79}, {\"eruptions\": 4.0, \"waiting\": 71}, {\"eruptions\": 1.983, \"waiting\": 62}, {\"eruptions\": 5.067, \"waiting\": 76}, {\"eruptions\": 2.017, \"waiting\": 60}, {\"eruptions\": 4.567, \"waiting\": 78}, {\"eruptions\": 3.883, \"waiting\": 76}, {\"eruptions\": 3.6, \"waiting\": 83}, {\"eruptions\": 4.133, \"waiting\": 75}, {\"eruptions\": 4.333, \"waiting\": 82}, {\"eruptions\": 4.1, \"waiting\": 70}, {\"eruptions\": 2.633, \"waiting\": 65}, {\"eruptions\": 4.067, \"waiting\": 73}, {\"eruptions\": 4.933, \"waiting\": 88}, {\"eruptions\": 3.95, \"waiting\": 76}, {\"eruptions\": 4.517, \"waiting\": 80}, {\"eruptions\": 2.167, \"waiting\": 48}, {\"eruptions\": 4.0, \"waiting\": 86}, {\"eruptions\": 2.2, \"waiting\": 60}, {\"eruptions\": 4.333, \"waiting\": 90}, {\"eruptions\": 1.867, \"waiting\": 50}, {\"eruptions\": 4.817, \"waiting\": 78}, {\"eruptions\": 1.833, \"waiting\": 63}, {\"eruptions\": 4.3, \"waiting\": 72}, {\"eruptions\": 4.667, \"waiting\": 84}, {\"eruptions\": 3.75, \"waiting\": 75}, {\"eruptions\": 1.867, \"waiting\": 51}, {\"eruptions\": 4.9, \"waiting\": 82}, {\"eruptions\": 2.483, \"waiting\": 62}, {\"eruptions\": 4.367, \"waiting\": 88}, {\"eruptions\": 2.1, \"waiting\": 49}, {\"eruptions\": 4.5, \"waiting\": 83}, {\"eruptions\": 4.05, \"waiting\": 81}, {\"eruptions\": 1.867, \"waiting\": 47}, {\"eruptions\": 4.7, \"waiting\": 84}, {\"eruptions\": 1.783, \"waiting\": 52}, {\"eruptions\": 4.85, \"waiting\": 86}, {\"eruptions\": 3.683, \"waiting\": 81}, {\"eruptions\": 4.733, \"waiting\": 75}, {\"eruptions\": 2.3, \"waiting\": 59}, {\"eruptions\": 4.9, \"waiting\": 89}, {\"eruptions\": 4.417, \"waiting\": 79}, {\"eruptions\": 1.7, \"waiting\": 59}, {\"eruptions\": 4.633, \"waiting\": 81}, {\"eruptions\": 2.317, \"waiting\": 50}, {\"eruptions\": 4.6, \"waiting\": 85}, {\"eruptions\": 1.817, \"waiting\": 59}, {\"eruptions\": 4.417, \"waiting\": 87}, {\"eruptions\": 2.617, \"waiting\": 53}, {\"eruptions\": 4.067, \"waiting\": 69}, {\"eruptions\": 4.25, \"waiting\": 77}, {\"eruptions\": 1.967, \"waiting\": 56}, {\"eruptions\": 4.6, \"waiting\": 88}, {\"eruptions\": 3.767, \"waiting\": 81}, {\"eruptions\": 1.917, \"waiting\": 45}, {\"eruptions\": 4.5, \"waiting\": 82}, {\"eruptions\": 2.267, \"waiting\": 55}, {\"eruptions\": 4.65, \"waiting\": 90}, {\"eruptions\": 1.867, \"waiting\": 45}, {\"eruptions\": 4.167, \"waiting\": 83}, {\"eruptions\": 2.8, \"waiting\": 56}, {\"eruptions\": 4.333, \"waiting\": 89}, {\"eruptions\": 1.833, \"waiting\": 46}, {\"eruptions\": 4.383, \"waiting\": 82}, {\"eruptions\": 1.883, \"waiting\": 51}, {\"eruptions\": 4.933, \"waiting\": 86}, {\"eruptions\": 2.033, \"waiting\": 53}, {\"eruptions\": 3.733, \"waiting\": 79}, {\"eruptions\": 4.233, \"waiting\": 81}, {\"eruptions\": 2.233, \"waiting\": 60}, {\"eruptions\": 4.533, \"waiting\": 82}, {\"eruptions\": 4.817, \"waiting\": 77}, {\"eruptions\": 4.333, \"waiting\": 76}, {\"eruptions\": 1.983, \"waiting\": 59}, {\"eruptions\": 4.633, \"waiting\": 80}, {\"eruptions\": 2.017, \"waiting\": 49}, {\"eruptions\": 5.1, \"waiting\": 96}, {\"eruptions\": 1.8, \"waiting\": 53}, {\"eruptions\": 5.033, \"waiting\": 77}, {\"eruptions\": 4.0, \"waiting\": 77}, {\"eruptions\": 2.4, \"waiting\": 65}, {\"eruptions\": 4.6, \"waiting\": 81}, {\"eruptions\": 3.567, \"waiting\": 71}, {\"eruptions\": 4.0, \"waiting\": 70}, {\"eruptions\": 4.5, \"waiting\": 81}, {\"eruptions\": 4.083, \"waiting\": 93}, {\"eruptions\": 1.8, \"waiting\": 53}, {\"eruptions\": 3.967, \"waiting\": 89}, {\"eruptions\": 2.2, \"waiting\": 45}, {\"eruptions\": 4.15, \"waiting\": 86}, {\"eruptions\": 2.0, \"waiting\": 58}, {\"eruptions\": 3.833, \"waiting\": 78}, {\"eruptions\": 3.5, \"waiting\": 66}, {\"eruptions\": 4.583, \"waiting\": 76}, {\"eruptions\": 2.367, \"waiting\": 63}, {\"eruptions\": 5.0, \"waiting\": 88}, {\"eruptions\": 1.933, \"waiting\": 52}, {\"eruptions\": 4.617, \"waiting\": 93}, {\"eruptions\": 1.917, \"waiting\": 49}, {\"eruptions\": 2.083, \"waiting\": 57}, {\"eruptions\": 4.583, \"waiting\": 77}, {\"eruptions\": 3.333, \"waiting\": 68}, {\"eruptions\": 4.167, \"waiting\": 81}, {\"eruptions\": 4.333, \"waiting\": 81}, {\"eruptions\": 4.5, \"waiting\": 73}, {\"eruptions\": 2.417, \"waiting\": 50}, {\"eruptions\": 4.0, \"waiting\": 85}, {\"eruptions\": 4.167, \"waiting\": 74}, {\"eruptions\": 1.883, \"waiting\": 55}, {\"eruptions\": 4.583, \"waiting\": 77}, {\"eruptions\": 4.25, \"waiting\": 83}, {\"eruptions\": 3.767, \"waiting\": 83}, {\"eruptions\": 2.033, \"waiting\": 51}, {\"eruptions\": 4.433, \"waiting\": 78}, {\"eruptions\": 4.083, \"waiting\": 84}, {\"eruptions\": 1.833, \"waiting\": 46}, {\"eruptions\": 4.417, \"waiting\": 83}, {\"eruptions\": 2.183, \"waiting\": 55}, {\"eruptions\": 4.8, \"waiting\": 81}, {\"eruptions\": 1.833, \"waiting\": 57}, {\"eruptions\": 4.8, \"waiting\": 76}, {\"eruptions\": 4.1, \"waiting\": 84}, {\"eruptions\": 3.966, \"waiting\": 77}, {\"eruptions\": 4.233, \"waiting\": 81}, {\"eruptions\": 3.5, \"waiting\": 87}, {\"eruptions\": 4.366, \"waiting\": 77}, {\"eruptions\": 2.25, \"waiting\": 51}, {\"eruptions\": 4.667, \"waiting\": 78}, {\"eruptions\": 2.1, \"waiting\": 60}, {\"eruptions\": 4.35, \"waiting\": 82}, {\"eruptions\": 4.133, \"waiting\": 91}, {\"eruptions\": 1.867, \"waiting\": 53}, {\"eruptions\": 4.6, \"waiting\": 78}, {\"eruptions\": 1.783, \"waiting\": 46}, {\"eruptions\": 4.367, \"waiting\": 77}, {\"eruptions\": 3.85, \"waiting\": 84}, {\"eruptions\": 1.933, \"waiting\": 49}, {\"eruptions\": 4.5, \"waiting\": 83}, {\"eruptions\": 2.383, \"waiting\": 71}, {\"eruptions\": 4.7, \"waiting\": 80}, {\"eruptions\": 1.867, \"waiting\": 49}, {\"eruptions\": 3.833, \"waiting\": 75}, {\"eruptions\": 3.417, \"waiting\": 64}, {\"eruptions\": 4.233, \"waiting\": 76}, {\"eruptions\": 2.4, \"waiting\": 53}, {\"eruptions\": 4.8, \"waiting\": 94}, {\"eruptions\": 2.0, \"waiting\": 55}, {\"eruptions\": 4.15, \"waiting\": 76}, {\"eruptions\": 1.867, \"waiting\": 50}, {\"eruptions\": 4.267, \"waiting\": 82}, {\"eruptions\": 1.75, \"waiting\": 54}, {\"eruptions\": 4.483, \"waiting\": 75}, {\"eruptions\": 4.0, \"waiting\": 78}, {\"eruptions\": 4.117, \"waiting\": 79}, {\"eruptions\": 4.083, \"waiting\": 78}, {\"eruptions\": 4.267, \"waiting\": 78}, {\"eruptions\": 3.917, \"waiting\": 70}, {\"eruptions\": 4.55, \"waiting\": 79}, {\"eruptions\": 4.083, \"waiting\": 70}, {\"eruptions\": 2.417, \"waiting\": 54}, {\"eruptions\": 4.183, \"waiting\": 86}, {\"eruptions\": 2.217, \"waiting\": 50}, {\"eruptions\": 4.45, \"waiting\": 90}, {\"eruptions\": 1.883, \"waiting\": 54}, {\"eruptions\": 1.85, \"waiting\": 54}, {\"eruptions\": 4.283, \"waiting\": 77}, {\"eruptions\": 3.95, \"waiting\": 79}, {\"eruptions\": 2.333, \"waiting\": 64}, {\"eruptions\": 4.15, \"waiting\": 75}, {\"eruptions\": 2.35, \"waiting\": 47}, {\"eruptions\": 4.933, \"waiting\": 86}, {\"eruptions\": 2.9, \"waiting\": 63}, {\"eruptions\": 4.583, \"waiting\": 85}, {\"eruptions\": 3.833, \"waiting\": 82}, {\"eruptions\": 2.083, \"waiting\": 57}, {\"eruptions\": 4.367, \"waiting\": 82}, {\"eruptions\": 2.133, \"waiting\": 67}, {\"eruptions\": 4.35, \"waiting\": 74}, {\"eruptions\": 2.2, \"waiting\": 54}, {\"eruptions\": 4.45, \"waiting\": 83}, {\"eruptions\": 3.567, \"waiting\": 73}, {\"eruptions\": 4.5, \"waiting\": 73}, {\"eruptions\": 4.15, \"waiting\": 88}, {\"eruptions\": 3.817, \"waiting\": 80}, {\"eruptions\": 3.917, \"waiting\": 71}, {\"eruptions\": 4.45, \"waiting\": 83}, {\"eruptions\": 2.0, \"waiting\": 56}, {\"eruptions\": 4.283, \"waiting\": 79}, {\"eruptions\": 4.767, \"waiting\": 78}, {\"eruptions\": 4.533, \"waiting\": 84}, {\"eruptions\": 1.85, \"waiting\": 58}, {\"eruptions\": 4.25, \"waiting\": 83}, {\"eruptions\": 1.983, \"waiting\": 43}, {\"eruptions\": 2.25, \"waiting\": 60}, {\"eruptions\": 4.75, \"waiting\": 75}, {\"eruptions\": 4.117, \"waiting\": 81}, {\"eruptions\": 2.15, \"waiting\": 46}, {\"eruptions\": 4.417, \"waiting\": 90}, {\"eruptions\": 1.817, \"waiting\": 46}, {\"eruptions\": 4.467, \"waiting\": 74}]}}, {\"mode\": \"vega-lite\"});\n",
       "</script>"
      ],
      "text/plain": [
       "alt.Chart(...)"
      ]
     },
     "metadata": {
      "scrapbook": {
       "mime_prefix": "application/papermill.record/",
       "name": "faithful_scatter_labels"
      }
     },
     "output_type": "display_data"
    }
   ],
   "source": [
    "glue('faithful_scatter_labels', faithful_scatter_labels, display=False)"
   ]
  },
  {
   "cell_type": "markdown",
   "id": "11049669",
   "metadata": {},
   "source": [
    ":::{glue:figure} faithful_scatter_labels\n",
    ":figwidth: 700px \n",
    ":name: faithful_scatter_labels\n",
    "\n",
    "Scatter plot of waiting time and eruption time with clearer axes and labels.\n",
    ":::"
   ]
  },
  {
   "cell_type": "markdown",
   "id": "ee3cba5e",
   "metadata": {},
   "source": [
    "\\newpage\n",
    "\n",
    "### Axis transformation and colored scatter plots: the Canadian languages data set\n",
    "\n",
    "Recall the `can_lang` data set [@timbers2020canlang] from Chapters \\@ref(intro), \\@ref(reading), and \\@ref(wrangling),\n",
    "\\index{Canadian languages} which contains counts of languages from the 2016\n",
    "Canadian census.\n",
    "\n",
    "**Question:** \\index{question!visualization} Is there a relationship between\n",
    "the percentage of people who speak a language as their mother tongue and \n",
    "the percentage for whom that is the primary language spoken at home?\n",
    "And is there a pattern in the strength of this relationship in the\n",
    "higher-level language categories (Official languages, Aboriginal languages, or\n",
    "non-official and non-Aboriginal languages)?\n",
    "\n",
    "To get started, we will read and inspect the data:"
   ]
  },
  {
   "cell_type": "code",
   "execution_count": 20,
   "id": "6afac29b",
   "metadata": {},
   "outputs": [],
   "source": [
    "can_lang =  pd.read_csv(\"data/can_lang.csv\")"
   ]
  },
  {
   "cell_type": "code",
   "execution_count": 21,
   "id": "19bbfcbb",
   "metadata": {
    "tags": [
     "remove-cell"
    ]
   },
   "outputs": [],
   "source": [
    "can_lang = can_lang[(can_lang['most_at_home']>0) & (can_lang['mother_tongue']>0)]"
   ]
  },
  {
   "cell_type": "markdown",
   "id": "ff67d58b",
   "metadata": {},
   "source": [
    "We will begin with a scatter plot of the `mother_tongue` and `most_at_home` columns from our data frame.\n",
    "The resulting plot is shown in {numref}`can_lang_plot`\n",
    "\\index{ggplot!geom\\_point}"
   ]
  },
  {
   "cell_type": "code",
   "execution_count": 22,
   "id": "b3e9c6bc",
   "metadata": {},
   "outputs": [],
   "source": [
    "can_lang_plot = alt.Chart(can_lang).mark_circle(color='black').encode(\n",
    "    x = \"most_at_home\",\n",
    "    y = \"mother_tongue\")\n"
   ]
  },
  {
   "cell_type": "code",
   "execution_count": 23,
   "id": "d78e32b3",
   "metadata": {
    "tags": [
     "remove-cell"
    ]
   },
   "outputs": [
    {
     "data": {
      "text/html": [
       "\n",
       "<div id=\"altair-viz-59519cadc0a84d6391988455479eced1\"></div>\n",
       "<script type=\"text/javascript\">\n",
       "  var VEGA_DEBUG = (typeof VEGA_DEBUG == \"undefined\") ? {} : VEGA_DEBUG;\n",
       "  (function(spec, embedOpt){\n",
       "    let outputDiv = document.currentScript.previousElementSibling;\n",
       "    if (outputDiv.id !== \"altair-viz-59519cadc0a84d6391988455479eced1\") {\n",
       "      outputDiv = document.getElementById(\"altair-viz-59519cadc0a84d6391988455479eced1\");\n",
       "    }\n",
       "    const paths = {\n",
       "      \"vega\": \"https://cdn.jsdelivr.net/npm//vega@5?noext\",\n",
       "      \"vega-lib\": \"https://cdn.jsdelivr.net/npm//vega-lib?noext\",\n",
       "      \"vega-lite\": \"https://cdn.jsdelivr.net/npm//vega-lite@4.17.0?noext\",\n",
       "      \"vega-embed\": \"https://cdn.jsdelivr.net/npm//vega-embed@6?noext\",\n",
       "    };\n",
       "\n",
       "    function maybeLoadScript(lib, version) {\n",
       "      var key = `${lib.replace(\"-\", \"\")}_version`;\n",
       "      return (VEGA_DEBUG[key] == version) ?\n",
       "        Promise.resolve(paths[lib]) :\n",
       "        new Promise(function(resolve, reject) {\n",
       "          var s = document.createElement('script');\n",
       "          document.getElementsByTagName(\"head\")[0].appendChild(s);\n",
       "          s.async = true;\n",
       "          s.onload = () => {\n",
       "            VEGA_DEBUG[key] = version;\n",
       "            return resolve(paths[lib]);\n",
       "          };\n",
       "          s.onerror = () => reject(`Error loading script: ${paths[lib]}`);\n",
       "          s.src = paths[lib];\n",
       "        });\n",
       "    }\n",
       "\n",
       "    function showError(err) {\n",
       "      outputDiv.innerHTML = `<div class=\"error\" style=\"color:red;\">${err}</div>`;\n",
       "      throw err;\n",
       "    }\n",
       "\n",
       "    function displayChart(vegaEmbed) {\n",
       "      vegaEmbed(outputDiv, spec, embedOpt)\n",
       "        .catch(err => showError(`Javascript Error: ${err.message}<br>This usually means there's a typo in your chart specification. See the javascript console for the full traceback.`));\n",
       "    }\n",
       "\n",
       "    if(typeof define === \"function\" && define.amd) {\n",
       "      requirejs.config({paths});\n",
       "      require([\"vega-embed\"], displayChart, err => showError(`Error loading script: ${err.message}`));\n",
       "    } else {\n",
       "      maybeLoadScript(\"vega\", \"5\")\n",
       "        .then(() => maybeLoadScript(\"vega-lite\", \"4.17.0\"))\n",
       "        .then(() => maybeLoadScript(\"vega-embed\", \"6\"))\n",
       "        .catch(showError)\n",
       "        .then(() => displayChart(vegaEmbed));\n",
       "    }\n",
       "  })({\"config\": {\"view\": {\"continuousWidth\": 400, \"continuousHeight\": 300}}, \"data\": {\"name\": \"data-dcb20ba64ca1427efa64f993b8a66413\"}, \"mark\": {\"type\": \"circle\", \"color\": \"black\"}, \"encoding\": {\"x\": {\"field\": \"most_at_home\", \"type\": \"quantitative\"}, \"y\": {\"field\": \"mother_tongue\", \"type\": \"quantitative\"}}, \"$schema\": \"https://vega.github.io/schema/vega-lite/v4.17.0.json\", \"datasets\": {\"data-dcb20ba64ca1427efa64f993b8a66413\": [{\"category\": \"Aboriginal languages\", \"language\": \"Aboriginal languages, n.o.s.\", \"mother_tongue\": 590, \"most_at_home\": 235, \"most_at_work\": 30, \"lang_known\": 665}, {\"category\": \"Non-Official & Non-Aboriginal languages\", \"language\": \"Afrikaans\", \"mother_tongue\": 10260, \"most_at_home\": 4785, \"most_at_work\": 85, \"lang_known\": 23415}, {\"category\": \"Non-Official & Non-Aboriginal languages\", \"language\": \"Afro-Asiatic languages, n.i.e.\", \"mother_tongue\": 1150, \"most_at_home\": 445, \"most_at_work\": 10, \"lang_known\": 2775}, {\"category\": \"Non-Official & Non-Aboriginal languages\", \"language\": \"Akan (Twi)\", \"mother_tongue\": 13460, \"most_at_home\": 5985, \"most_at_work\": 25, \"lang_known\": 22150}, {\"category\": \"Non-Official & Non-Aboriginal languages\", \"language\": \"Albanian\", \"mother_tongue\": 26895, \"most_at_home\": 13135, \"most_at_work\": 345, \"lang_known\": 31930}, {\"category\": \"Aboriginal languages\", \"language\": \"Algonquian languages, n.i.e.\", \"mother_tongue\": 45, \"most_at_home\": 10, \"most_at_work\": 0, \"lang_known\": 120}, {\"category\": \"Aboriginal languages\", \"language\": \"Algonquin\", \"mother_tongue\": 1260, \"most_at_home\": 370, \"most_at_work\": 40, \"lang_known\": 2480}, {\"category\": \"Non-Official & Non-Aboriginal languages\", \"language\": \"American Sign Language\", \"mother_tongue\": 2685, \"most_at_home\": 3020, \"most_at_work\": 1145, \"lang_known\": 21930}, {\"category\": \"Non-Official & Non-Aboriginal languages\", \"language\": \"Amharic\", \"mother_tongue\": 22465, \"most_at_home\": 12785, \"most_at_work\": 200, \"lang_known\": 33670}, {\"category\": \"Non-Official & Non-Aboriginal languages\", \"language\": \"Arabic\", \"mother_tongue\": 419890, \"most_at_home\": 223535, \"most_at_work\": 5585, \"lang_known\": 629055}, {\"category\": \"Non-Official & Non-Aboriginal languages\", \"language\": \"Armenian\", \"mother_tongue\": 33460, \"most_at_home\": 21510, \"most_at_work\": 450, \"lang_known\": 41295}, {\"category\": \"Non-Official & Non-Aboriginal languages\", \"language\": \"Assyrian Neo-Aramaic\", \"mother_tongue\": 16070, \"most_at_home\": 10510, \"most_at_work\": 205, \"lang_known\": 19740}, {\"category\": \"Aboriginal languages\", \"language\": \"Athabaskan languages, n.i.e.\", \"mother_tongue\": 50, \"most_at_home\": 10, \"most_at_work\": 0, \"lang_known\": 85}, {\"category\": \"Aboriginal languages\", \"language\": \"Atikamekw\", \"mother_tongue\": 6150, \"most_at_home\": 5465, \"most_at_work\": 1100, \"lang_known\": 6645}, {\"category\": \"Non-Official & Non-Aboriginal languages\", \"language\": \"Austro-Asiatic languages, n.i.e\", \"mother_tongue\": 170, \"most_at_home\": 80, \"most_at_work\": 0, \"lang_known\": 190}, {\"category\": \"Non-Official & Non-Aboriginal languages\", \"language\": \"Austronesian languages, n.i.e.\", \"mother_tongue\": 4195, \"most_at_home\": 1160, \"most_at_work\": 35, \"lang_known\": 5585}, {\"category\": \"Non-Official & Non-Aboriginal languages\", \"language\": \"Azerbaijani\", \"mother_tongue\": 3255, \"most_at_home\": 1245, \"most_at_work\": 25, \"lang_known\": 5455}, {\"category\": \"Aboriginal languages\", \"language\": \"Babine (Wetsuwet'en)\", \"mother_tongue\": 110, \"most_at_home\": 20, \"most_at_work\": 10, \"lang_known\": 210}, {\"category\": \"Non-Official & Non-Aboriginal languages\", \"language\": \"Bamanankan\", \"mother_tongue\": 1535, \"most_at_home\": 345, \"most_at_work\": 0, \"lang_known\": 3190}, {\"category\": \"Aboriginal languages\", \"language\": \"Beaver\", \"mother_tongue\": 190, \"most_at_home\": 50, \"most_at_work\": 0, \"lang_known\": 340}, {\"category\": \"Non-Official & Non-Aboriginal languages\", \"language\": \"Belarusan\", \"mother_tongue\": 810, \"most_at_home\": 225, \"most_at_work\": 0, \"lang_known\": 2265}, {\"category\": \"Non-Official & Non-Aboriginal languages\", \"language\": \"Bengali\", \"mother_tongue\": 73125, \"most_at_home\": 47350, \"most_at_work\": 525, \"lang_known\": 91220}, {\"category\": \"Non-Official & Non-Aboriginal languages\", \"language\": \"Berber languages, n.i.e.\", \"mother_tongue\": 8985, \"most_at_home\": 2615, \"most_at_work\": 15, \"lang_known\": 12510}, {\"category\": \"Non-Official & Non-Aboriginal languages\", \"language\": \"Bikol\", \"mother_tongue\": 1785, \"most_at_home\": 290, \"most_at_work\": 0, \"lang_known\": 2075}, {\"category\": \"Non-Official & Non-Aboriginal languages\", \"language\": \"Bilen\", \"mother_tongue\": 805, \"most_at_home\": 615, \"most_at_work\": 15, \"lang_known\": 1085}, {\"category\": \"Aboriginal languages\", \"language\": \"Blackfoot\", \"mother_tongue\": 2815, \"most_at_home\": 1110, \"most_at_work\": 85, \"lang_known\": 5645}, {\"category\": \"Non-Official & Non-Aboriginal languages\", \"language\": \"Bosnian\", \"mother_tongue\": 12215, \"most_at_home\": 6045, \"most_at_work\": 155, \"lang_known\": 18265}, {\"category\": \"Non-Official & Non-Aboriginal languages\", \"language\": \"Bulgarian\", \"mother_tongue\": 20020, \"most_at_home\": 11985, \"most_at_work\": 200, \"lang_known\": 22425}, {\"category\": \"Non-Official & Non-Aboriginal languages\", \"language\": \"Burmese\", \"mother_tongue\": 3585, \"most_at_home\": 2245, \"most_at_work\": 75, \"lang_known\": 4995}, {\"category\": \"Non-Official & Non-Aboriginal languages\", \"language\": \"Cantonese\", \"mother_tongue\": 565270, \"most_at_home\": 400220, \"most_at_work\": 58820, \"lang_known\": 699125}, {\"category\": \"Aboriginal languages\", \"language\": \"Carrier\", \"mother_tongue\": 1025, \"most_at_home\": 250, \"most_at_work\": 15, \"lang_known\": 2100}, {\"category\": \"Non-Official & Non-Aboriginal languages\", \"language\": \"Catalan\", \"mother_tongue\": 870, \"most_at_home\": 350, \"most_at_work\": 30, \"lang_known\": 2035}, {\"category\": \"Aboriginal languages\", \"language\": \"Cayuga\", \"mother_tongue\": 45, \"most_at_home\": 10, \"most_at_work\": 10, \"lang_known\": 125}, {\"category\": \"Non-Official & Non-Aboriginal languages\", \"language\": \"Cebuano\", \"mother_tongue\": 19890, \"most_at_home\": 7205, \"most_at_work\": 70, \"lang_known\": 27040}, {\"category\": \"Non-Official & Non-Aboriginal languages\", \"language\": \"Celtic languages, n.i.e.\", \"mother_tongue\": 525, \"most_at_home\": 80, \"most_at_work\": 10, \"lang_known\": 3595}, {\"category\": \"Non-Official & Non-Aboriginal languages\", \"language\": \"Chaldean Neo-Aramaic\", \"mother_tongue\": 5545, \"most_at_home\": 3445, \"most_at_work\": 35, \"lang_known\": 7115}, {\"category\": \"Aboriginal languages\", \"language\": \"Chilcotin\", \"mother_tongue\": 655, \"most_at_home\": 255, \"most_at_work\": 15, \"lang_known\": 1150}, {\"category\": \"Non-Official & Non-Aboriginal languages\", \"language\": \"Chinese languages, n.i.e.\", \"mother_tongue\": 615, \"most_at_home\": 280, \"most_at_work\": 0, \"lang_known\": 590}, {\"category\": \"Non-Official & Non-Aboriginal languages\", \"language\": \"Chinese, n.o.s.\", \"mother_tongue\": 38580, \"most_at_home\": 23940, \"most_at_work\": 2935, \"lang_known\": 41685}, {\"category\": \"Aboriginal languages\", \"language\": \"Cree, n.o.s.\", \"mother_tongue\": 64050, \"most_at_home\": 37950, \"most_at_work\": 7800, \"lang_known\": 86115}, {\"category\": \"Non-Official & Non-Aboriginal languages\", \"language\": \"Creole languages, n.i.e.\", \"mother_tongue\": 4985, \"most_at_home\": 2005, \"most_at_work\": 15, \"lang_known\": 16635}, {\"category\": \"Non-Official & Non-Aboriginal languages\", \"language\": \"Creole, n.o.s.\", \"mother_tongue\": 64110, \"most_at_home\": 24570, \"most_at_work\": 310, \"lang_known\": 133045}, {\"category\": \"Non-Official & Non-Aboriginal languages\", \"language\": \"Croatian\", \"mother_tongue\": 48200, \"most_at_home\": 16775, \"most_at_work\": 220, \"lang_known\": 69835}, {\"category\": \"Non-Official & Non-Aboriginal languages\", \"language\": \"Cushitic languages, n.i.e.\", \"mother_tongue\": 365, \"most_at_home\": 180, \"most_at_work\": 0, \"lang_known\": 480}, {\"category\": \"Non-Official & Non-Aboriginal languages\", \"language\": \"Czech\", \"mother_tongue\": 22295, \"most_at_home\": 6235, \"most_at_work\": 70, \"lang_known\": 28725}, {\"category\": \"Aboriginal languages\", \"language\": \"Dakota\", \"mother_tongue\": 1210, \"most_at_home\": 255, \"most_at_work\": 20, \"lang_known\": 1760}, {\"category\": \"Non-Official & Non-Aboriginal languages\", \"language\": \"Danish\", \"mother_tongue\": 12630, \"most_at_home\": 855, \"most_at_work\": 85, \"lang_known\": 15750}, {\"category\": \"Aboriginal languages\", \"language\": \"Dene\", \"mother_tongue\": 10700, \"most_at_home\": 7710, \"most_at_work\": 770, \"lang_known\": 13060}, {\"category\": \"Non-Official & Non-Aboriginal languages\", \"language\": \"Dinka\", \"mother_tongue\": 2120, \"most_at_home\": 1130, \"most_at_work\": 0, \"lang_known\": 2475}, {\"category\": \"Aboriginal languages\", \"language\": \"Dogrib (Tlicho)\", \"mother_tongue\": 1650, \"most_at_home\": 1020, \"most_at_work\": 165, \"lang_known\": 2375}, {\"category\": \"Non-Official & Non-Aboriginal languages\", \"language\": \"Dravidian languages, n.i.e.\", \"mother_tongue\": 490, \"most_at_home\": 190, \"most_at_work\": 0, \"lang_known\": 790}, {\"category\": \"Non-Official & Non-Aboriginal languages\", \"language\": \"Dutch\", \"mother_tongue\": 99015, \"most_at_home\": 9565, \"most_at_work\": 1165, \"lang_known\": 120870}, {\"category\": \"Non-Official & Non-Aboriginal languages\", \"language\": \"Edo\", \"mother_tongue\": 1670, \"most_at_home\": 410, \"most_at_work\": 0, \"lang_known\": 3220}, {\"category\": \"Official languages\", \"language\": \"English\", \"mother_tongue\": 19460850, \"most_at_home\": 22162865, \"most_at_work\": 15265335, \"lang_known\": 29748265}, {\"category\": \"Non-Official & Non-Aboriginal languages\", \"language\": \"Estonian\", \"mother_tongue\": 5445, \"most_at_home\": 975, \"most_at_work\": 55, \"lang_known\": 6070}, {\"category\": \"Non-Official & Non-Aboriginal languages\", \"language\": \"Ewe\", \"mother_tongue\": 1760, \"most_at_home\": 405, \"most_at_work\": 10, \"lang_known\": 3000}, {\"category\": \"Non-Official & Non-Aboriginal languages\", \"language\": \"Fijian\", \"mother_tongue\": 745, \"most_at_home\": 195, \"most_at_work\": 0, \"lang_known\": 1665}, {\"category\": \"Non-Official & Non-Aboriginal languages\", \"language\": \"Finnish\", \"mother_tongue\": 15295, \"most_at_home\": 2790, \"most_at_work\": 105, \"lang_known\": 17590}, {\"category\": \"Official languages\", \"language\": \"French\", \"mother_tongue\": 7166700, \"most_at_home\": 6943800, \"most_at_work\": 3825215, \"lang_known\": 10242945}, {\"category\": \"Non-Official & Non-Aboriginal languages\", \"language\": \"Frisian\", \"mother_tongue\": 2100, \"most_at_home\": 185, \"most_at_work\": 40, \"lang_known\": 2910}, {\"category\": \"Non-Official & Non-Aboriginal languages\", \"language\": \"Fulah (Pular, Pulaar, Fulfulde)\", \"mother_tongue\": 2825, \"most_at_home\": 825, \"most_at_work\": 0, \"lang_known\": 4725}, {\"category\": \"Non-Official & Non-Aboriginal languages\", \"language\": \"Ga\", \"mother_tongue\": 920, \"most_at_home\": 250, \"most_at_work\": 0, \"lang_known\": 2250}, {\"category\": \"Non-Official & Non-Aboriginal languages\", \"language\": \"Ganda\", \"mother_tongue\": 1295, \"most_at_home\": 345, \"most_at_work\": 25, \"lang_known\": 2495}, {\"category\": \"Non-Official & Non-Aboriginal languages\", \"language\": \"Georgian\", \"mother_tongue\": 1710, \"most_at_home\": 1040, \"most_at_work\": 25, \"lang_known\": 2150}, {\"category\": \"Non-Official & Non-Aboriginal languages\", \"language\": \"German\", \"mother_tongue\": 384040, \"most_at_home\": 120335, \"most_at_work\": 10065, \"lang_known\": 502735}, {\"category\": \"Non-Official & Non-Aboriginal languages\", \"language\": \"Germanic languages, n.i.e.\", \"mother_tongue\": 525, \"most_at_home\": 1630, \"most_at_work\": 725, \"lang_known\": 8705}, {\"category\": \"Aboriginal languages\", \"language\": \"Gitxsan (Gitksan)\", \"mother_tongue\": 880, \"most_at_home\": 315, \"most_at_work\": 10, \"lang_known\": 1305}, {\"category\": \"Non-Official & Non-Aboriginal languages\", \"language\": \"Greek\", \"mother_tongue\": 106525, \"most_at_home\": 44550, \"most_at_work\": 1020, \"lang_known\": 150965}, {\"category\": \"Non-Official & Non-Aboriginal languages\", \"language\": \"Gujarati\", \"mother_tongue\": 108780, \"most_at_home\": 64150, \"most_at_work\": 885, \"lang_known\": 149045}, {\"category\": \"Aboriginal languages\", \"language\": \"Gwich'in\", \"mother_tongue\": 255, \"most_at_home\": 50, \"most_at_work\": 10, \"lang_known\": 360}, {\"category\": \"Aboriginal languages\", \"language\": \"Haida\", \"mother_tongue\": 80, \"most_at_home\": 10, \"most_at_work\": 0, \"lang_known\": 465}, {\"category\": \"Aboriginal languages\", \"language\": \"Haisla\", \"mother_tongue\": 90, \"most_at_home\": 20, \"most_at_work\": 0, \"lang_known\": 175}, {\"category\": \"Non-Official & Non-Aboriginal languages\", \"language\": \"Haitian Creole\", \"mother_tongue\": 3030, \"most_at_home\": 1280, \"most_at_work\": 25, \"lang_known\": 6855}, {\"category\": \"Non-Official & Non-Aboriginal languages\", \"language\": \"Hakka\", \"mother_tongue\": 10910, \"most_at_home\": 4085, \"most_at_work\": 70, \"lang_known\": 12445}, {\"category\": \"Aboriginal languages\", \"language\": \"Halkomelem\", \"mother_tongue\": 480, \"most_at_home\": 50, \"most_at_work\": 20, \"lang_known\": 1060}, {\"category\": \"Non-Official & Non-Aboriginal languages\", \"language\": \"Harari\", \"mother_tongue\": 1320, \"most_at_home\": 735, \"most_at_work\": 0, \"lang_known\": 1715}, {\"category\": \"Non-Official & Non-Aboriginal languages\", \"language\": \"Hebrew\", \"mother_tongue\": 19530, \"most_at_home\": 8560, \"most_at_work\": 825, \"lang_known\": 75020}, {\"category\": \"Aboriginal languages\", \"language\": \"Heiltsuk\", \"mother_tongue\": 100, \"most_at_home\": 5, \"most_at_work\": 10, \"lang_known\": 125}, {\"category\": \"Non-Official & Non-Aboriginal languages\", \"language\": \"Hiligaynon\", \"mother_tongue\": 6880, \"most_at_home\": 2210, \"most_at_work\": 25, \"lang_known\": 7925}, {\"category\": \"Non-Official & Non-Aboriginal languages\", \"language\": \"Hindi\", \"mother_tongue\": 110645, \"most_at_home\": 55510, \"most_at_work\": 1405, \"lang_known\": 433365}, {\"category\": \"Non-Official & Non-Aboriginal languages\", \"language\": \"Hmong-Mien languages\", \"mother_tongue\": 795, \"most_at_home\": 335, \"most_at_work\": 10, \"lang_known\": 870}, {\"category\": \"Non-Official & Non-Aboriginal languages\", \"language\": \"Hungarian\", \"mother_tongue\": 61235, \"most_at_home\": 19480, \"most_at_work\": 440, \"lang_known\": 71285}, {\"category\": \"Non-Official & Non-Aboriginal languages\", \"language\": \"Icelandic\", \"mother_tongue\": 1285, \"most_at_home\": 270, \"most_at_work\": 0, \"lang_known\": 1780}, {\"category\": \"Non-Official & Non-Aboriginal languages\", \"language\": \"Igbo\", \"mother_tongue\": 4235, \"most_at_home\": 1000, \"most_at_work\": 10, \"lang_known\": 8855}, {\"category\": \"Non-Official & Non-Aboriginal languages\", \"language\": \"Ilocano\", \"mother_tongue\": 26345, \"most_at_home\": 9125, \"most_at_work\": 110, \"lang_known\": 34530}, {\"category\": \"Non-Official & Non-Aboriginal languages\", \"language\": \"Indo-Iranian languages, n.i.e.\", \"mother_tongue\": 5185, \"most_at_home\": 2380, \"most_at_work\": 20, \"lang_known\": 8870}, {\"category\": \"Aboriginal languages\", \"language\": \"Inuinnaqtun (Inuvialuktun)\", \"mother_tongue\": 1020, \"most_at_home\": 165, \"most_at_work\": 30, \"lang_known\": 1975}, {\"category\": \"Aboriginal languages\", \"language\": \"Inuit languages, n.i.e.\", \"mother_tongue\": 310, \"most_at_home\": 90, \"most_at_work\": 15, \"lang_known\": 470}, {\"category\": \"Aboriginal languages\", \"language\": \"Inuktitut\", \"mother_tongue\": 35210, \"most_at_home\": 29230, \"most_at_work\": 8795, \"lang_known\": 40620}, {\"category\": \"Aboriginal languages\", \"language\": \"Iroquoian languages, n.i.e.\", \"mother_tongue\": 35, \"most_at_home\": 5, \"most_at_work\": 0, \"lang_known\": 115}, {\"category\": \"Non-Official & Non-Aboriginal languages\", \"language\": \"Italian\", \"mother_tongue\": 375635, \"most_at_home\": 115415, \"most_at_work\": 1705, \"lang_known\": 574725}, {\"category\": \"Non-Official & Non-Aboriginal languages\", \"language\": \"Italic (Romance) languages, n.i.e.\", \"mother_tongue\": 720, \"most_at_home\": 175, \"most_at_work\": 25, \"lang_known\": 2680}, {\"category\": \"Non-Official & Non-Aboriginal languages\", \"language\": \"Japanese\", \"mother_tongue\": 43640, \"most_at_home\": 19785, \"most_at_work\": 3255, \"lang_known\": 83095}, {\"category\": \"Non-Official & Non-Aboriginal languages\", \"language\": \"Kabyle\", \"mother_tongue\": 13150, \"most_at_home\": 5490, \"most_at_work\": 15, \"lang_known\": 17120}, {\"category\": \"Non-Official & Non-Aboriginal languages\", \"language\": \"Kannada\", \"mother_tongue\": 3970, \"most_at_home\": 1630, \"most_at_work\": 10, \"lang_known\": 8245}, {\"category\": \"Non-Official & Non-Aboriginal languages\", \"language\": \"Karenic languages\", \"mother_tongue\": 4705, \"most_at_home\": 3860, \"most_at_work\": 135, \"lang_known\": 4895}, {\"category\": \"Non-Official & Non-Aboriginal languages\", \"language\": \"Kashmiri\", \"mother_tongue\": 565, \"most_at_home\": 135, \"most_at_work\": 0, \"lang_known\": 905}, {\"category\": \"Aboriginal languages\", \"language\": \"Kaska (Nahani)\", \"mother_tongue\": 180, \"most_at_home\": 20, \"most_at_work\": 10, \"lang_known\": 365}, {\"category\": \"Non-Official & Non-Aboriginal languages\", \"language\": \"Khmer (Cambodian)\", \"mother_tongue\": 20130, \"most_at_home\": 10885, \"most_at_work\": 475, \"lang_known\": 27035}, {\"category\": \"Non-Official & Non-Aboriginal languages\", \"language\": \"Kinyarwanda (Rwanda)\", \"mother_tongue\": 5250, \"most_at_home\": 1530, \"most_at_work\": 25, \"lang_known\": 7860}, {\"category\": \"Non-Official & Non-Aboriginal languages\", \"language\": \"Konkani\", \"mother_tongue\": 3330, \"most_at_home\": 720, \"most_at_work\": 10, \"lang_known\": 6790}, {\"category\": \"Non-Official & Non-Aboriginal languages\", \"language\": \"Korean\", \"mother_tongue\": 153425, \"most_at_home\": 109705, \"most_at_work\": 12150, \"lang_known\": 172750}, {\"category\": \"Non-Official & Non-Aboriginal languages\", \"language\": \"Kurdish\", \"mother_tongue\": 11705, \"most_at_home\": 6580, \"most_at_work\": 185, \"lang_known\": 15290}, {\"category\": \"Aboriginal languages\", \"language\": \"Kutenai\", \"mother_tongue\": 110, \"most_at_home\": 10, \"most_at_work\": 0, \"lang_known\": 170}, {\"category\": \"Aboriginal languages\", \"language\": \"Kwakiutl (Kwak'wala)\", \"mother_tongue\": 325, \"most_at_home\": 25, \"most_at_work\": 15, \"lang_known\": 605}, {\"category\": \"Non-Official & Non-Aboriginal languages\", \"language\": \"Lao\", \"mother_tongue\": 12670, \"most_at_home\": 6175, \"most_at_work\": 150, \"lang_known\": 17235}, {\"category\": \"Non-Official & Non-Aboriginal languages\", \"language\": \"Latvian\", \"mother_tongue\": 5450, \"most_at_home\": 1255, \"most_at_work\": 35, \"lang_known\": 6500}, {\"category\": \"Aboriginal languages\", \"language\": \"Lillooet\", \"mother_tongue\": 315, \"most_at_home\": 25, \"most_at_work\": 15, \"lang_known\": 790}, {\"category\": \"Non-Official & Non-Aboriginal languages\", \"language\": \"Lingala\", \"mother_tongue\": 3805, \"most_at_home\": 1045, \"most_at_work\": 10, \"lang_known\": 17010}, {\"category\": \"Non-Official & Non-Aboriginal languages\", \"language\": \"Lithuanian\", \"mother_tongue\": 7075, \"most_at_home\": 2015, \"most_at_work\": 60, \"lang_known\": 8185}, {\"category\": \"Non-Official & Non-Aboriginal languages\", \"language\": \"Macedonian\", \"mother_tongue\": 16770, \"most_at_home\": 6830, \"most_at_work\": 95, \"lang_known\": 23075}, {\"category\": \"Non-Official & Non-Aboriginal languages\", \"language\": \"Malagasy\", \"mother_tongue\": 1430, \"most_at_home\": 430, \"most_at_work\": 0, \"lang_known\": 2340}, {\"category\": \"Non-Official & Non-Aboriginal languages\", \"language\": \"Malay\", \"mother_tongue\": 12275, \"most_at_home\": 3625, \"most_at_work\": 140, \"lang_known\": 22470}, {\"category\": \"Non-Official & Non-Aboriginal languages\", \"language\": \"Malayalam\", \"mother_tongue\": 28565, \"most_at_home\": 15440, \"most_at_work\": 95, \"lang_known\": 37810}, {\"category\": \"Aboriginal languages\", \"language\": \"Malecite\", \"mother_tongue\": 300, \"most_at_home\": 55, \"most_at_work\": 10, \"lang_known\": 760}, {\"category\": \"Non-Official & Non-Aboriginal languages\", \"language\": \"Maltese\", \"mother_tongue\": 5565, \"most_at_home\": 1125, \"most_at_work\": 25, \"lang_known\": 7625}, {\"category\": \"Non-Official & Non-Aboriginal languages\", \"language\": \"Mandarin\", \"mother_tongue\": 592040, \"most_at_home\": 462890, \"most_at_work\": 60090, \"lang_known\": 814450}, {\"category\": \"Non-Official & Non-Aboriginal languages\", \"language\": \"Marathi\", \"mother_tongue\": 8295, \"most_at_home\": 3780, \"most_at_work\": 30, \"lang_known\": 15565}, {\"category\": \"Aboriginal languages\", \"language\": \"Mi'kmaq\", \"mother_tongue\": 6690, \"most_at_home\": 3565, \"most_at_work\": 915, \"lang_known\": 9025}, {\"category\": \"Aboriginal languages\", \"language\": \"Michif\", \"mother_tongue\": 465, \"most_at_home\": 80, \"most_at_work\": 10, \"lang_known\": 1210}, {\"category\": \"Non-Official & Non-Aboriginal languages\", \"language\": \"Min Dong\", \"mother_tongue\": 1230, \"most_at_home\": 345, \"most_at_work\": 30, \"lang_known\": 1045}, {\"category\": \"Non-Official & Non-Aboriginal languages\", \"language\": \"Min Nan (Chaochow, Teochow, Fukien, Taiwanese)\", \"mother_tongue\": 31800, \"most_at_home\": 13965, \"most_at_work\": 565, \"lang_known\": 42840}, {\"category\": \"Aboriginal languages\", \"language\": \"Mohawk\", \"mother_tongue\": 985, \"most_at_home\": 255, \"most_at_work\": 30, \"lang_known\": 2415}, {\"category\": \"Non-Official & Non-Aboriginal languages\", \"language\": \"Mongolian\", \"mother_tongue\": 1575, \"most_at_home\": 905, \"most_at_work\": 10, \"lang_known\": 2095}, {\"category\": \"Aboriginal languages\", \"language\": \"Montagnais (Innu)\", \"mother_tongue\": 10235, \"most_at_home\": 8585, \"most_at_work\": 2055, \"lang_known\": 11445}, {\"category\": \"Aboriginal languages\", \"language\": \"Moose Cree\", \"mother_tongue\": 105, \"most_at_home\": 10, \"most_at_work\": 0, \"lang_known\": 195}, {\"category\": \"Aboriginal languages\", \"language\": \"Naskapi\", \"mother_tongue\": 1205, \"most_at_home\": 1195, \"most_at_work\": 370, \"lang_known\": 1465}, {\"category\": \"Non-Official & Non-Aboriginal languages\", \"language\": \"Nepali\", \"mother_tongue\": 18275, \"most_at_home\": 13375, \"most_at_work\": 195, \"lang_known\": 21385}, {\"category\": \"Non-Official & Non-Aboriginal languages\", \"language\": \"Niger-Congo languages, n.i.e.\", \"mother_tongue\": 19135, \"most_at_home\": 4010, \"most_at_work\": 30, \"lang_known\": 40760}, {\"category\": \"Non-Official & Non-Aboriginal languages\", \"language\": \"Nilo-Saharan languages, n.i.e.\", \"mother_tongue\": 3750, \"most_at_home\": 1520, \"most_at_work\": 0, \"lang_known\": 4550}, {\"category\": \"Aboriginal languages\", \"language\": \"Nisga'a\", \"mother_tongue\": 400, \"most_at_home\": 75, \"most_at_work\": 10, \"lang_known\": 1055}, {\"category\": \"Aboriginal languages\", \"language\": \"North Slavey (Hare)\", \"mother_tongue\": 765, \"most_at_home\": 340, \"most_at_work\": 95, \"lang_known\": 1005}, {\"category\": \"Aboriginal languages\", \"language\": \"Northern East Cree\", \"mother_tongue\": 315, \"most_at_home\": 110, \"most_at_work\": 35, \"lang_known\": 550}, {\"category\": \"Aboriginal languages\", \"language\": \"Northern Tutchone\", \"mother_tongue\": 220, \"most_at_home\": 30, \"most_at_work\": 0, \"lang_known\": 280}, {\"category\": \"Non-Official & Non-Aboriginal languages\", \"language\": \"Norwegian\", \"mother_tongue\": 4615, \"most_at_home\": 350, \"most_at_work\": 70, \"lang_known\": 8120}, {\"category\": \"Aboriginal languages\", \"language\": \"Nuu-chah-nulth (Nootka)\", \"mother_tongue\": 280, \"most_at_home\": 30, \"most_at_work\": 10, \"lang_known\": 560}, {\"category\": \"Aboriginal languages\", \"language\": \"Oji-Cree\", \"mother_tongue\": 12855, \"most_at_home\": 7905, \"most_at_work\": 1080, \"lang_known\": 15605}, {\"category\": \"Aboriginal languages\", \"language\": \"Ojibway\", \"mother_tongue\": 17885, \"most_at_home\": 6175, \"most_at_work\": 765, \"lang_known\": 28580}, {\"category\": \"Aboriginal languages\", \"language\": \"Okanagan\", \"mother_tongue\": 275, \"most_at_home\": 80, \"most_at_work\": 20, \"lang_known\": 820}, {\"category\": \"Aboriginal languages\", \"language\": \"Oneida\", \"mother_tongue\": 60, \"most_at_home\": 15, \"most_at_work\": 0, \"lang_known\": 185}, {\"category\": \"Non-Official & Non-Aboriginal languages\", \"language\": \"Oriya (Odia)\", \"mother_tongue\": 1055, \"most_at_home\": 475, \"most_at_work\": 0, \"lang_known\": 1530}, {\"category\": \"Non-Official & Non-Aboriginal languages\", \"language\": \"Oromo\", \"mother_tongue\": 4960, \"most_at_home\": 3410, \"most_at_work\": 45, \"lang_known\": 6245}, {\"category\": \"Non-Official & Non-Aboriginal languages\", \"language\": \"Other languages, n.i.e.\", \"mother_tongue\": 3685, \"most_at_home\": 1110, \"most_at_work\": 80, \"lang_known\": 9730}, {\"category\": \"Aboriginal languages\", \"language\": \"Ottawa (Odawa)\", \"mother_tongue\": 150, \"most_at_home\": 75, \"most_at_work\": 0, \"lang_known\": 205}, {\"category\": \"Non-Official & Non-Aboriginal languages\", \"language\": \"Pampangan (Kapampangan, Pampango)\", \"mother_tongue\": 4045, \"most_at_home\": 1200, \"most_at_work\": 10, \"lang_known\": 5425}, {\"category\": \"Non-Official & Non-Aboriginal languages\", \"language\": \"Pangasinan\", \"mother_tongue\": 1390, \"most_at_home\": 240, \"most_at_work\": 0, \"lang_known\": 1800}, {\"category\": \"Non-Official & Non-Aboriginal languages\", \"language\": \"Pashto\", \"mother_tongue\": 16905, \"most_at_home\": 10590, \"most_at_work\": 50, \"lang_known\": 23180}, {\"category\": \"Non-Official & Non-Aboriginal languages\", \"language\": \"Persian (Farsi)\", \"mother_tongue\": 214200, \"most_at_home\": 143025, \"most_at_work\": 4580, \"lang_known\": 252325}, {\"category\": \"Aboriginal languages\", \"language\": \"Plains Cree\", \"mother_tongue\": 3065, \"most_at_home\": 1345, \"most_at_work\": 95, \"lang_known\": 5905}, {\"category\": \"Non-Official & Non-Aboriginal languages\", \"language\": \"Polish\", \"mother_tongue\": 181710, \"most_at_home\": 74780, \"most_at_work\": 2495, \"lang_known\": 214965}, {\"category\": \"Non-Official & Non-Aboriginal languages\", \"language\": \"Portuguese\", \"mother_tongue\": 221535, \"most_at_home\": 98710, \"most_at_work\": 7485, \"lang_known\": 295955}, {\"category\": \"Non-Official & Non-Aboriginal languages\", \"language\": \"Punjabi (Panjabi)\", \"mother_tongue\": 501680, \"most_at_home\": 349140, \"most_at_work\": 27865, \"lang_known\": 668240}, {\"category\": \"Non-Official & Non-Aboriginal languages\", \"language\": \"Quebec Sign Language\", \"mother_tongue\": 695, \"most_at_home\": 730, \"most_at_work\": 130, \"lang_known\": 4665}, {\"category\": \"Non-Official & Non-Aboriginal languages\", \"language\": \"Romanian\", \"mother_tongue\": 96660, \"most_at_home\": 53325, \"most_at_work\": 745, \"lang_known\": 115050}, {\"category\": \"Non-Official & Non-Aboriginal languages\", \"language\": \"Rundi (Kirundi)\", \"mother_tongue\": 5850, \"most_at_home\": 2110, \"most_at_work\": 0, \"lang_known\": 8590}, {\"category\": \"Non-Official & Non-Aboriginal languages\", \"language\": \"Russian\", \"mother_tongue\": 188255, \"most_at_home\": 116595, \"most_at_work\": 4855, \"lang_known\": 269645}, {\"category\": \"Aboriginal languages\", \"language\": \"Salish languages, n.i.e.\", \"mother_tongue\": 260, \"most_at_home\": 25, \"most_at_work\": 0, \"lang_known\": 560}, {\"category\": \"Aboriginal languages\", \"language\": \"Sarsi (Sarcee)\", \"mother_tongue\": 80, \"most_at_home\": 10, \"most_at_work\": 0, \"lang_known\": 145}, {\"category\": \"Non-Official & Non-Aboriginal languages\", \"language\": \"Scottish Gaelic\", \"mother_tongue\": 1090, \"most_at_home\": 190, \"most_at_work\": 15, \"lang_known\": 3980}, {\"category\": \"Aboriginal languages\", \"language\": \"Sekani\", \"mother_tongue\": 85, \"most_at_home\": 15, \"most_at_work\": 0, \"lang_known\": 185}, {\"category\": \"Non-Official & Non-Aboriginal languages\", \"language\": \"Semitic languages, n.i.e.\", \"mother_tongue\": 2150, \"most_at_home\": 1205, \"most_at_work\": 65, \"lang_known\": 3220}, {\"category\": \"Non-Official & Non-Aboriginal languages\", \"language\": \"Serbian\", \"mother_tongue\": 57350, \"most_at_home\": 31750, \"most_at_work\": 530, \"lang_known\": 73780}, {\"category\": \"Non-Official & Non-Aboriginal languages\", \"language\": \"Serbo-Croatian\", \"mother_tongue\": 9550, \"most_at_home\": 3890, \"most_at_work\": 30, \"lang_known\": 11275}, {\"category\": \"Non-Official & Non-Aboriginal languages\", \"language\": \"Shona\", \"mother_tongue\": 3185, \"most_at_home\": 1035, \"most_at_work\": 0, \"lang_known\": 5430}, {\"category\": \"Aboriginal languages\", \"language\": \"Shuswap (Secwepemctsin)\", \"mother_tongue\": 445, \"most_at_home\": 50, \"most_at_work\": 35, \"lang_known\": 1305}, {\"category\": \"Non-Official & Non-Aboriginal languages\", \"language\": \"Sign languages, n.i.e\", \"mother_tongue\": 4125, \"most_at_home\": 6690, \"most_at_work\": 645, \"lang_known\": 22280}, {\"category\": \"Non-Official & Non-Aboriginal languages\", \"language\": \"Sindhi\", \"mother_tongue\": 11860, \"most_at_home\": 4975, \"most_at_work\": 35, \"lang_known\": 20260}, {\"category\": \"Non-Official & Non-Aboriginal languages\", \"language\": \"Sinhala (Sinhalese)\", \"mother_tongue\": 16335, \"most_at_home\": 7790, \"most_at_work\": 40, \"lang_known\": 27825}, {\"category\": \"Aboriginal languages\", \"language\": \"Siouan languages, n.i.e.\", \"mother_tongue\": 55, \"most_at_home\": 20, \"most_at_work\": 0, \"lang_known\": 140}, {\"category\": \"Aboriginal languages\", \"language\": \"Slavey, n.o.s.\", \"mother_tongue\": 280, \"most_at_home\": 105, \"most_at_work\": 10, \"lang_known\": 675}, {\"category\": \"Non-Official & Non-Aboriginal languages\", \"language\": \"Slavic languages, n.i.e.\", \"mother_tongue\": 2420, \"most_at_home\": 670, \"most_at_work\": 10, \"lang_known\": 2995}, {\"category\": \"Non-Official & Non-Aboriginal languages\", \"language\": \"Slovak\", \"mother_tongue\": 17580, \"most_at_home\": 5610, \"most_at_work\": 100, \"lang_known\": 21470}, {\"category\": \"Non-Official & Non-Aboriginal languages\", \"language\": \"Slovene (Slovenian)\", \"mother_tongue\": 9785, \"most_at_home\": 2055, \"most_at_work\": 15, \"lang_known\": 11490}, {\"category\": \"Non-Official & Non-Aboriginal languages\", \"language\": \"Somali\", \"mother_tongue\": 36755, \"most_at_home\": 22895, \"most_at_work\": 220, \"lang_known\": 49660}, {\"category\": \"Aboriginal languages\", \"language\": \"South Slavey\", \"mother_tongue\": 945, \"most_at_home\": 370, \"most_at_work\": 35, \"lang_known\": 1365}, {\"category\": \"Aboriginal languages\", \"language\": \"Southern East Cree\", \"mother_tongue\": 45, \"most_at_home\": 15, \"most_at_work\": 0, \"lang_known\": 40}, {\"category\": \"Aboriginal languages\", \"language\": \"Southern Tutchone\", \"mother_tongue\": 70, \"most_at_home\": 5, \"most_at_work\": 0, \"lang_known\": 145}, {\"category\": \"Non-Official & Non-Aboriginal languages\", \"language\": \"Spanish\", \"mother_tongue\": 458850, \"most_at_home\": 263505, \"most_at_work\": 13030, \"lang_known\": 995260}, {\"category\": \"Aboriginal languages\", \"language\": \"Squamish\", \"mother_tongue\": 40, \"most_at_home\": 5, \"most_at_work\": 10, \"lang_known\": 285}, {\"category\": \"Aboriginal languages\", \"language\": \"Stoney\", \"mother_tongue\": 3025, \"most_at_home\": 1950, \"most_at_work\": 240, \"lang_known\": 3675}, {\"category\": \"Aboriginal languages\", \"language\": \"Straits\", \"mother_tongue\": 80, \"most_at_home\": 25, \"most_at_work\": 15, \"lang_known\": 365}, {\"category\": \"Non-Official & Non-Aboriginal languages\", \"language\": \"Swahili\", \"mother_tongue\": 13370, \"most_at_home\": 5370, \"most_at_work\": 80, \"lang_known\": 38685}, {\"category\": \"Aboriginal languages\", \"language\": \"Swampy Cree\", \"mother_tongue\": 1440, \"most_at_home\": 330, \"most_at_work\": 10, \"lang_known\": 2350}, {\"category\": \"Non-Official & Non-Aboriginal languages\", \"language\": \"Swedish\", \"mother_tongue\": 6840, \"most_at_home\": 1050, \"most_at_work\": 125, \"lang_known\": 14140}, {\"category\": \"Non-Official & Non-Aboriginal languages\", \"language\": \"Tagalog (Pilipino, Filipino)\", \"mother_tongue\": 431385, \"most_at_home\": 213790, \"most_at_work\": 3450, \"lang_known\": 612735}, {\"category\": \"Aboriginal languages\", \"language\": \"Tahltan\", \"mother_tongue\": 95, \"most_at_home\": 5, \"most_at_work\": 0, \"lang_known\": 265}, {\"category\": \"Non-Official & Non-Aboriginal languages\", \"language\": \"Tai-Kadai languages, n.i.e\", \"mother_tongue\": 85, \"most_at_home\": 30, \"most_at_work\": 0, \"lang_known\": 115}, {\"category\": \"Non-Official & Non-Aboriginal languages\", \"language\": \"Tamil\", \"mother_tongue\": 140720, \"most_at_home\": 96955, \"most_at_work\": 2085, \"lang_known\": 189860}, {\"category\": \"Non-Official & Non-Aboriginal languages\", \"language\": \"Telugu\", \"mother_tongue\": 15660, \"most_at_home\": 8280, \"most_at_work\": 40, \"lang_known\": 23165}, {\"category\": \"Non-Official & Non-Aboriginal languages\", \"language\": \"Thai\", \"mother_tongue\": 9255, \"most_at_home\": 3365, \"most_at_work\": 525, \"lang_known\": 15395}, {\"category\": \"Aboriginal languages\", \"language\": \"Thompson (Ntlakapamux)\", \"mother_tongue\": 335, \"most_at_home\": 20, \"most_at_work\": 0, \"lang_known\": 450}, {\"category\": \"Non-Official & Non-Aboriginal languages\", \"language\": \"Tibetan\", \"mother_tongue\": 6160, \"most_at_home\": 4590, \"most_at_work\": 50, \"lang_known\": 7050}, {\"category\": \"Non-Official & Non-Aboriginal languages\", \"language\": \"Tibeto-Burman languages, n.i.e.\", \"mother_tongue\": 1405, \"most_at_home\": 655, \"most_at_work\": 15, \"lang_known\": 2380}, {\"category\": \"Non-Official & Non-Aboriginal languages\", \"language\": \"Tigrigna\", \"mother_tongue\": 16645, \"most_at_home\": 10205, \"most_at_work\": 130, \"lang_known\": 21340}, {\"category\": \"Aboriginal languages\", \"language\": \"Tsimshian\", \"mother_tongue\": 200, \"most_at_home\": 30, \"most_at_work\": 10, \"lang_known\": 410}, {\"category\": \"Non-Official & Non-Aboriginal languages\", \"language\": \"Turkic languages, n.i.e.\", \"mother_tongue\": 1315, \"most_at_home\": 455, \"most_at_work\": 10, \"lang_known\": 1875}, {\"category\": \"Non-Official & Non-Aboriginal languages\", \"language\": \"Turkish\", \"mother_tongue\": 32815, \"most_at_home\": 18955, \"most_at_work\": 690, \"lang_known\": 50770}, {\"category\": \"Non-Official & Non-Aboriginal languages\", \"language\": \"Ukrainian\", \"mother_tongue\": 102485, \"most_at_home\": 28250, \"most_at_work\": 1210, \"lang_known\": 132115}, {\"category\": \"Non-Official & Non-Aboriginal languages\", \"language\": \"Uralic languages, n.i.e.\", \"mother_tongue\": 10, \"most_at_home\": 5, \"most_at_work\": 0, \"lang_known\": 25}, {\"category\": \"Non-Official & Non-Aboriginal languages\", \"language\": \"Urdu\", \"mother_tongue\": 210815, \"most_at_home\": 128785, \"most_at_work\": 1495, \"lang_known\": 322220}, {\"category\": \"Non-Official & Non-Aboriginal languages\", \"language\": \"Uyghur\", \"mother_tongue\": 1035, \"most_at_home\": 610, \"most_at_work\": 20, \"lang_known\": 1390}, {\"category\": \"Non-Official & Non-Aboriginal languages\", \"language\": \"Uzbek\", \"mother_tongue\": 1720, \"most_at_home\": 995, \"most_at_work\": 15, \"lang_known\": 2465}, {\"category\": \"Non-Official & Non-Aboriginal languages\", \"language\": \"Vietnamese\", \"mother_tongue\": 156430, \"most_at_home\": 104245, \"most_at_work\": 8075, \"lang_known\": 198895}, {\"category\": \"Non-Official & Non-Aboriginal languages\", \"language\": \"Vlaams (Flemish)\", \"mother_tongue\": 3895, \"most_at_home\": 355, \"most_at_work\": 35, \"lang_known\": 4400}, {\"category\": \"Non-Official & Non-Aboriginal languages\", \"language\": \"Waray-Waray\", \"mother_tongue\": 1110, \"most_at_home\": 310, \"most_at_work\": 0, \"lang_known\": 1395}, {\"category\": \"Non-Official & Non-Aboriginal languages\", \"language\": \"Welsh\", \"mother_tongue\": 1075, \"most_at_home\": 95, \"most_at_work\": 0, \"lang_known\": 1695}, {\"category\": \"Non-Official & Non-Aboriginal languages\", \"language\": \"Wolof\", \"mother_tongue\": 3990, \"most_at_home\": 1385, \"most_at_work\": 10, \"lang_known\": 8240}, {\"category\": \"Aboriginal languages\", \"language\": \"Woods Cree\", \"mother_tongue\": 1840, \"most_at_home\": 800, \"most_at_work\": 75, \"lang_known\": 2665}, {\"category\": \"Non-Official & Non-Aboriginal languages\", \"language\": \"Wu (Shanghainese)\", \"mother_tongue\": 12915, \"most_at_home\": 7650, \"most_at_work\": 105, \"lang_known\": 16530}, {\"category\": \"Non-Official & Non-Aboriginal languages\", \"language\": \"Yiddish\", \"mother_tongue\": 13555, \"most_at_home\": 7085, \"most_at_work\": 895, \"lang_known\": 20985}, {\"category\": \"Non-Official & Non-Aboriginal languages\", \"language\": \"Yoruba\", \"mother_tongue\": 9080, \"most_at_home\": 2615, \"most_at_work\": 15, \"lang_known\": 22415}]}}, {\"mode\": \"vega-lite\"});\n",
       "</script>"
      ],
      "text/plain": [
       "alt.Chart(...)"
      ]
     },
     "metadata": {
      "scrapbook": {
       "mime_prefix": "application/papermill.record/",
       "name": "can_lang_plot"
      }
     },
     "output_type": "display_data"
    }
   ],
   "source": [
    "glue('can_lang_plot', can_lang_plot, display=False)"
   ]
  },
  {
   "cell_type": "markdown",
   "id": "7f95c680",
   "metadata": {},
   "source": [
    ":::{glue:figure} can_lang_plot\n",
    ":figwidth: 700px \n",
    ":name: can_lang_plot\n",
    "\n",
    "Scatter plot of number of Canadians reporting a language as their mother tongue vs the primary language at home\n",
    ":::\n",
    "\n",
    "\n",
    "To make an initial improvement in the interpretability \n",
    "of {numref}`can_lang_plot`, we should \n",
    "replace the default axis\n",
    "names with more informative labels. We can add a line break in\n",
    "the axis names so that some of the words are printed on a new line. This will\n",
    "make the axes labels on the plots more readable. To do this, we pass the title as a list. Each element of the list will be on a new line.\n",
    "\\index{escape character} We should also increase the font size to further \n",
    "improve readability."
   ]
  },
  {
   "cell_type": "code",
   "execution_count": 24,
   "id": "16c7e162",
   "metadata": {},
   "outputs": [],
   "source": [
    "can_lang_plot_labels = alt.Chart(can_lang).mark_circle(color='black').encode(\n",
    "    x = alt.X(\"most_at_home\",title = [\"Language spoken most at home\", \"(number of Canadian residents)\"]),\n",
    "    y = alt.Y(\"mother_tongue\", scale=alt.Scale(zero=False), title = [\"Mother tongue\", \"(number of Canadian residents)\"])).configure_axis(\n",
    "    titleFontSize=12)\n"
   ]
  },
  {
   "cell_type": "code",
   "execution_count": 25,
   "id": "50731dde",
   "metadata": {
    "tags": [
     "remove-cell"
    ]
   },
   "outputs": [
    {
     "data": {
      "text/html": [
       "\n",
       "<div id=\"altair-viz-d92ff36992104e018ebd9c1d1bb11379\"></div>\n",
       "<script type=\"text/javascript\">\n",
       "  var VEGA_DEBUG = (typeof VEGA_DEBUG == \"undefined\") ? {} : VEGA_DEBUG;\n",
       "  (function(spec, embedOpt){\n",
       "    let outputDiv = document.currentScript.previousElementSibling;\n",
       "    if (outputDiv.id !== \"altair-viz-d92ff36992104e018ebd9c1d1bb11379\") {\n",
       "      outputDiv = document.getElementById(\"altair-viz-d92ff36992104e018ebd9c1d1bb11379\");\n",
       "    }\n",
       "    const paths = {\n",
       "      \"vega\": \"https://cdn.jsdelivr.net/npm//vega@5?noext\",\n",
       "      \"vega-lib\": \"https://cdn.jsdelivr.net/npm//vega-lib?noext\",\n",
       "      \"vega-lite\": \"https://cdn.jsdelivr.net/npm//vega-lite@4.17.0?noext\",\n",
       "      \"vega-embed\": \"https://cdn.jsdelivr.net/npm//vega-embed@6?noext\",\n",
       "    };\n",
       "\n",
       "    function maybeLoadScript(lib, version) {\n",
       "      var key = `${lib.replace(\"-\", \"\")}_version`;\n",
       "      return (VEGA_DEBUG[key] == version) ?\n",
       "        Promise.resolve(paths[lib]) :\n",
       "        new Promise(function(resolve, reject) {\n",
       "          var s = document.createElement('script');\n",
       "          document.getElementsByTagName(\"head\")[0].appendChild(s);\n",
       "          s.async = true;\n",
       "          s.onload = () => {\n",
       "            VEGA_DEBUG[key] = version;\n",
       "            return resolve(paths[lib]);\n",
       "          };\n",
       "          s.onerror = () => reject(`Error loading script: ${paths[lib]}`);\n",
       "          s.src = paths[lib];\n",
       "        });\n",
       "    }\n",
       "\n",
       "    function showError(err) {\n",
       "      outputDiv.innerHTML = `<div class=\"error\" style=\"color:red;\">${err}</div>`;\n",
       "      throw err;\n",
       "    }\n",
       "\n",
       "    function displayChart(vegaEmbed) {\n",
       "      vegaEmbed(outputDiv, spec, embedOpt)\n",
       "        .catch(err => showError(`Javascript Error: ${err.message}<br>This usually means there's a typo in your chart specification. See the javascript console for the full traceback.`));\n",
       "    }\n",
       "\n",
       "    if(typeof define === \"function\" && define.amd) {\n",
       "      requirejs.config({paths});\n",
       "      require([\"vega-embed\"], displayChart, err => showError(`Error loading script: ${err.message}`));\n",
       "    } else {\n",
       "      maybeLoadScript(\"vega\", \"5\")\n",
       "        .then(() => maybeLoadScript(\"vega-lite\", \"4.17.0\"))\n",
       "        .then(() => maybeLoadScript(\"vega-embed\", \"6\"))\n",
       "        .catch(showError)\n",
       "        .then(() => displayChart(vegaEmbed));\n",
       "    }\n",
       "  })({\"config\": {\"view\": {\"continuousWidth\": 400, \"continuousHeight\": 300}, \"axis\": {\"titleFontSize\": 12}}, \"data\": {\"name\": \"data-dcb20ba64ca1427efa64f993b8a66413\"}, \"mark\": {\"type\": \"circle\", \"color\": \"black\"}, \"encoding\": {\"x\": {\"field\": \"most_at_home\", \"title\": [\"Language spoken most at home\", \"(number of Canadian residents)\"], \"type\": \"quantitative\"}, \"y\": {\"field\": \"mother_tongue\", \"scale\": {\"zero\": false}, \"title\": [\"Mother tongue\", \"(number of Canadian residents)\"], \"type\": \"quantitative\"}}, \"$schema\": \"https://vega.github.io/schema/vega-lite/v4.17.0.json\", \"datasets\": {\"data-dcb20ba64ca1427efa64f993b8a66413\": [{\"category\": \"Aboriginal languages\", \"language\": \"Aboriginal languages, n.o.s.\", \"mother_tongue\": 590, \"most_at_home\": 235, \"most_at_work\": 30, \"lang_known\": 665}, {\"category\": \"Non-Official & Non-Aboriginal languages\", \"language\": \"Afrikaans\", \"mother_tongue\": 10260, \"most_at_home\": 4785, \"most_at_work\": 85, \"lang_known\": 23415}, {\"category\": \"Non-Official & Non-Aboriginal languages\", \"language\": \"Afro-Asiatic languages, n.i.e.\", \"mother_tongue\": 1150, \"most_at_home\": 445, \"most_at_work\": 10, \"lang_known\": 2775}, {\"category\": \"Non-Official & Non-Aboriginal languages\", \"language\": \"Akan (Twi)\", \"mother_tongue\": 13460, \"most_at_home\": 5985, \"most_at_work\": 25, \"lang_known\": 22150}, {\"category\": \"Non-Official & Non-Aboriginal languages\", \"language\": \"Albanian\", \"mother_tongue\": 26895, \"most_at_home\": 13135, \"most_at_work\": 345, \"lang_known\": 31930}, {\"category\": \"Aboriginal languages\", \"language\": \"Algonquian languages, n.i.e.\", \"mother_tongue\": 45, \"most_at_home\": 10, \"most_at_work\": 0, \"lang_known\": 120}, {\"category\": \"Aboriginal languages\", \"language\": \"Algonquin\", \"mother_tongue\": 1260, \"most_at_home\": 370, \"most_at_work\": 40, \"lang_known\": 2480}, {\"category\": \"Non-Official & Non-Aboriginal languages\", \"language\": \"American Sign Language\", \"mother_tongue\": 2685, \"most_at_home\": 3020, \"most_at_work\": 1145, \"lang_known\": 21930}, {\"category\": \"Non-Official & Non-Aboriginal languages\", \"language\": \"Amharic\", \"mother_tongue\": 22465, \"most_at_home\": 12785, \"most_at_work\": 200, \"lang_known\": 33670}, {\"category\": \"Non-Official & Non-Aboriginal languages\", \"language\": \"Arabic\", \"mother_tongue\": 419890, \"most_at_home\": 223535, \"most_at_work\": 5585, \"lang_known\": 629055}, {\"category\": \"Non-Official & Non-Aboriginal languages\", \"language\": \"Armenian\", \"mother_tongue\": 33460, \"most_at_home\": 21510, \"most_at_work\": 450, \"lang_known\": 41295}, {\"category\": \"Non-Official & Non-Aboriginal languages\", \"language\": \"Assyrian Neo-Aramaic\", \"mother_tongue\": 16070, \"most_at_home\": 10510, \"most_at_work\": 205, \"lang_known\": 19740}, {\"category\": \"Aboriginal languages\", \"language\": \"Athabaskan languages, n.i.e.\", \"mother_tongue\": 50, \"most_at_home\": 10, \"most_at_work\": 0, \"lang_known\": 85}, {\"category\": \"Aboriginal languages\", \"language\": \"Atikamekw\", \"mother_tongue\": 6150, \"most_at_home\": 5465, \"most_at_work\": 1100, \"lang_known\": 6645}, {\"category\": \"Non-Official & Non-Aboriginal languages\", \"language\": \"Austro-Asiatic languages, n.i.e\", \"mother_tongue\": 170, \"most_at_home\": 80, \"most_at_work\": 0, \"lang_known\": 190}, {\"category\": \"Non-Official & Non-Aboriginal languages\", \"language\": \"Austronesian languages, n.i.e.\", \"mother_tongue\": 4195, \"most_at_home\": 1160, \"most_at_work\": 35, \"lang_known\": 5585}, {\"category\": \"Non-Official & Non-Aboriginal languages\", \"language\": \"Azerbaijani\", \"mother_tongue\": 3255, \"most_at_home\": 1245, \"most_at_work\": 25, \"lang_known\": 5455}, {\"category\": \"Aboriginal languages\", \"language\": \"Babine (Wetsuwet'en)\", \"mother_tongue\": 110, \"most_at_home\": 20, \"most_at_work\": 10, \"lang_known\": 210}, {\"category\": \"Non-Official & Non-Aboriginal languages\", \"language\": \"Bamanankan\", \"mother_tongue\": 1535, \"most_at_home\": 345, \"most_at_work\": 0, \"lang_known\": 3190}, {\"category\": \"Aboriginal languages\", \"language\": \"Beaver\", \"mother_tongue\": 190, \"most_at_home\": 50, \"most_at_work\": 0, \"lang_known\": 340}, {\"category\": \"Non-Official & Non-Aboriginal languages\", \"language\": \"Belarusan\", \"mother_tongue\": 810, \"most_at_home\": 225, \"most_at_work\": 0, \"lang_known\": 2265}, {\"category\": \"Non-Official & Non-Aboriginal languages\", \"language\": \"Bengali\", \"mother_tongue\": 73125, \"most_at_home\": 47350, \"most_at_work\": 525, \"lang_known\": 91220}, {\"category\": \"Non-Official & Non-Aboriginal languages\", \"language\": \"Berber languages, n.i.e.\", \"mother_tongue\": 8985, \"most_at_home\": 2615, \"most_at_work\": 15, \"lang_known\": 12510}, {\"category\": \"Non-Official & Non-Aboriginal languages\", \"language\": \"Bikol\", \"mother_tongue\": 1785, \"most_at_home\": 290, \"most_at_work\": 0, \"lang_known\": 2075}, {\"category\": \"Non-Official & Non-Aboriginal languages\", \"language\": \"Bilen\", \"mother_tongue\": 805, \"most_at_home\": 615, \"most_at_work\": 15, \"lang_known\": 1085}, {\"category\": \"Aboriginal languages\", \"language\": \"Blackfoot\", \"mother_tongue\": 2815, \"most_at_home\": 1110, \"most_at_work\": 85, \"lang_known\": 5645}, {\"category\": \"Non-Official & Non-Aboriginal languages\", \"language\": \"Bosnian\", \"mother_tongue\": 12215, \"most_at_home\": 6045, \"most_at_work\": 155, \"lang_known\": 18265}, {\"category\": \"Non-Official & Non-Aboriginal languages\", \"language\": \"Bulgarian\", \"mother_tongue\": 20020, \"most_at_home\": 11985, \"most_at_work\": 200, \"lang_known\": 22425}, {\"category\": \"Non-Official & Non-Aboriginal languages\", \"language\": \"Burmese\", \"mother_tongue\": 3585, \"most_at_home\": 2245, \"most_at_work\": 75, \"lang_known\": 4995}, {\"category\": \"Non-Official & Non-Aboriginal languages\", \"language\": \"Cantonese\", \"mother_tongue\": 565270, \"most_at_home\": 400220, \"most_at_work\": 58820, \"lang_known\": 699125}, {\"category\": \"Aboriginal languages\", \"language\": \"Carrier\", \"mother_tongue\": 1025, \"most_at_home\": 250, \"most_at_work\": 15, \"lang_known\": 2100}, {\"category\": \"Non-Official & Non-Aboriginal languages\", \"language\": \"Catalan\", \"mother_tongue\": 870, \"most_at_home\": 350, \"most_at_work\": 30, \"lang_known\": 2035}, {\"category\": \"Aboriginal languages\", \"language\": \"Cayuga\", \"mother_tongue\": 45, \"most_at_home\": 10, \"most_at_work\": 10, \"lang_known\": 125}, {\"category\": \"Non-Official & Non-Aboriginal languages\", \"language\": \"Cebuano\", \"mother_tongue\": 19890, \"most_at_home\": 7205, \"most_at_work\": 70, \"lang_known\": 27040}, {\"category\": \"Non-Official & Non-Aboriginal languages\", \"language\": \"Celtic languages, n.i.e.\", \"mother_tongue\": 525, \"most_at_home\": 80, \"most_at_work\": 10, \"lang_known\": 3595}, {\"category\": \"Non-Official & Non-Aboriginal languages\", \"language\": \"Chaldean Neo-Aramaic\", \"mother_tongue\": 5545, \"most_at_home\": 3445, \"most_at_work\": 35, \"lang_known\": 7115}, {\"category\": \"Aboriginal languages\", \"language\": \"Chilcotin\", \"mother_tongue\": 655, \"most_at_home\": 255, \"most_at_work\": 15, \"lang_known\": 1150}, {\"category\": \"Non-Official & Non-Aboriginal languages\", \"language\": \"Chinese languages, n.i.e.\", \"mother_tongue\": 615, \"most_at_home\": 280, \"most_at_work\": 0, \"lang_known\": 590}, {\"category\": \"Non-Official & Non-Aboriginal languages\", \"language\": \"Chinese, n.o.s.\", \"mother_tongue\": 38580, \"most_at_home\": 23940, \"most_at_work\": 2935, \"lang_known\": 41685}, {\"category\": \"Aboriginal languages\", \"language\": \"Cree, n.o.s.\", \"mother_tongue\": 64050, \"most_at_home\": 37950, \"most_at_work\": 7800, \"lang_known\": 86115}, {\"category\": \"Non-Official & Non-Aboriginal languages\", \"language\": \"Creole languages, n.i.e.\", \"mother_tongue\": 4985, \"most_at_home\": 2005, \"most_at_work\": 15, \"lang_known\": 16635}, {\"category\": \"Non-Official & Non-Aboriginal languages\", \"language\": \"Creole, n.o.s.\", \"mother_tongue\": 64110, \"most_at_home\": 24570, \"most_at_work\": 310, \"lang_known\": 133045}, {\"category\": \"Non-Official & Non-Aboriginal languages\", \"language\": \"Croatian\", \"mother_tongue\": 48200, \"most_at_home\": 16775, \"most_at_work\": 220, \"lang_known\": 69835}, {\"category\": \"Non-Official & Non-Aboriginal languages\", \"language\": \"Cushitic languages, n.i.e.\", \"mother_tongue\": 365, \"most_at_home\": 180, \"most_at_work\": 0, \"lang_known\": 480}, {\"category\": \"Non-Official & Non-Aboriginal languages\", \"language\": \"Czech\", \"mother_tongue\": 22295, \"most_at_home\": 6235, \"most_at_work\": 70, \"lang_known\": 28725}, {\"category\": \"Aboriginal languages\", \"language\": \"Dakota\", \"mother_tongue\": 1210, \"most_at_home\": 255, \"most_at_work\": 20, \"lang_known\": 1760}, {\"category\": \"Non-Official & Non-Aboriginal languages\", \"language\": \"Danish\", \"mother_tongue\": 12630, \"most_at_home\": 855, \"most_at_work\": 85, \"lang_known\": 15750}, {\"category\": \"Aboriginal languages\", \"language\": \"Dene\", \"mother_tongue\": 10700, \"most_at_home\": 7710, \"most_at_work\": 770, \"lang_known\": 13060}, {\"category\": \"Non-Official & Non-Aboriginal languages\", \"language\": \"Dinka\", \"mother_tongue\": 2120, \"most_at_home\": 1130, \"most_at_work\": 0, \"lang_known\": 2475}, {\"category\": \"Aboriginal languages\", \"language\": \"Dogrib (Tlicho)\", \"mother_tongue\": 1650, \"most_at_home\": 1020, \"most_at_work\": 165, \"lang_known\": 2375}, {\"category\": \"Non-Official & Non-Aboriginal languages\", \"language\": \"Dravidian languages, n.i.e.\", \"mother_tongue\": 490, \"most_at_home\": 190, \"most_at_work\": 0, \"lang_known\": 790}, {\"category\": \"Non-Official & Non-Aboriginal languages\", \"language\": \"Dutch\", \"mother_tongue\": 99015, \"most_at_home\": 9565, \"most_at_work\": 1165, \"lang_known\": 120870}, {\"category\": \"Non-Official & Non-Aboriginal languages\", \"language\": \"Edo\", \"mother_tongue\": 1670, \"most_at_home\": 410, \"most_at_work\": 0, \"lang_known\": 3220}, {\"category\": \"Official languages\", \"language\": \"English\", \"mother_tongue\": 19460850, \"most_at_home\": 22162865, \"most_at_work\": 15265335, \"lang_known\": 29748265}, {\"category\": \"Non-Official & Non-Aboriginal languages\", \"language\": \"Estonian\", \"mother_tongue\": 5445, \"most_at_home\": 975, \"most_at_work\": 55, \"lang_known\": 6070}, {\"category\": \"Non-Official & Non-Aboriginal languages\", \"language\": \"Ewe\", \"mother_tongue\": 1760, \"most_at_home\": 405, \"most_at_work\": 10, \"lang_known\": 3000}, {\"category\": \"Non-Official & Non-Aboriginal languages\", \"language\": \"Fijian\", \"mother_tongue\": 745, \"most_at_home\": 195, \"most_at_work\": 0, \"lang_known\": 1665}, {\"category\": \"Non-Official & Non-Aboriginal languages\", \"language\": \"Finnish\", \"mother_tongue\": 15295, \"most_at_home\": 2790, \"most_at_work\": 105, \"lang_known\": 17590}, {\"category\": \"Official languages\", \"language\": \"French\", \"mother_tongue\": 7166700, \"most_at_home\": 6943800, \"most_at_work\": 3825215, \"lang_known\": 10242945}, {\"category\": \"Non-Official & Non-Aboriginal languages\", \"language\": \"Frisian\", \"mother_tongue\": 2100, \"most_at_home\": 185, \"most_at_work\": 40, \"lang_known\": 2910}, {\"category\": \"Non-Official & Non-Aboriginal languages\", \"language\": \"Fulah (Pular, Pulaar, Fulfulde)\", \"mother_tongue\": 2825, \"most_at_home\": 825, \"most_at_work\": 0, \"lang_known\": 4725}, {\"category\": \"Non-Official & Non-Aboriginal languages\", \"language\": \"Ga\", \"mother_tongue\": 920, \"most_at_home\": 250, \"most_at_work\": 0, \"lang_known\": 2250}, {\"category\": \"Non-Official & Non-Aboriginal languages\", \"language\": \"Ganda\", \"mother_tongue\": 1295, \"most_at_home\": 345, \"most_at_work\": 25, \"lang_known\": 2495}, {\"category\": \"Non-Official & Non-Aboriginal languages\", \"language\": \"Georgian\", \"mother_tongue\": 1710, \"most_at_home\": 1040, \"most_at_work\": 25, \"lang_known\": 2150}, {\"category\": \"Non-Official & Non-Aboriginal languages\", \"language\": \"German\", \"mother_tongue\": 384040, \"most_at_home\": 120335, \"most_at_work\": 10065, \"lang_known\": 502735}, {\"category\": \"Non-Official & Non-Aboriginal languages\", \"language\": \"Germanic languages, n.i.e.\", \"mother_tongue\": 525, \"most_at_home\": 1630, \"most_at_work\": 725, \"lang_known\": 8705}, {\"category\": \"Aboriginal languages\", \"language\": \"Gitxsan (Gitksan)\", \"mother_tongue\": 880, \"most_at_home\": 315, \"most_at_work\": 10, \"lang_known\": 1305}, {\"category\": \"Non-Official & Non-Aboriginal languages\", \"language\": \"Greek\", \"mother_tongue\": 106525, \"most_at_home\": 44550, \"most_at_work\": 1020, \"lang_known\": 150965}, {\"category\": \"Non-Official & Non-Aboriginal languages\", \"language\": \"Gujarati\", \"mother_tongue\": 108780, \"most_at_home\": 64150, \"most_at_work\": 885, \"lang_known\": 149045}, {\"category\": \"Aboriginal languages\", \"language\": \"Gwich'in\", \"mother_tongue\": 255, \"most_at_home\": 50, \"most_at_work\": 10, \"lang_known\": 360}, {\"category\": \"Aboriginal languages\", \"language\": \"Haida\", \"mother_tongue\": 80, \"most_at_home\": 10, \"most_at_work\": 0, \"lang_known\": 465}, {\"category\": \"Aboriginal languages\", \"language\": \"Haisla\", \"mother_tongue\": 90, \"most_at_home\": 20, \"most_at_work\": 0, \"lang_known\": 175}, {\"category\": \"Non-Official & Non-Aboriginal languages\", \"language\": \"Haitian Creole\", \"mother_tongue\": 3030, \"most_at_home\": 1280, \"most_at_work\": 25, \"lang_known\": 6855}, {\"category\": \"Non-Official & Non-Aboriginal languages\", \"language\": \"Hakka\", \"mother_tongue\": 10910, \"most_at_home\": 4085, \"most_at_work\": 70, \"lang_known\": 12445}, {\"category\": \"Aboriginal languages\", \"language\": \"Halkomelem\", \"mother_tongue\": 480, \"most_at_home\": 50, \"most_at_work\": 20, \"lang_known\": 1060}, {\"category\": \"Non-Official & Non-Aboriginal languages\", \"language\": \"Harari\", \"mother_tongue\": 1320, \"most_at_home\": 735, \"most_at_work\": 0, \"lang_known\": 1715}, {\"category\": \"Non-Official & Non-Aboriginal languages\", \"language\": \"Hebrew\", \"mother_tongue\": 19530, \"most_at_home\": 8560, \"most_at_work\": 825, \"lang_known\": 75020}, {\"category\": \"Aboriginal languages\", \"language\": \"Heiltsuk\", \"mother_tongue\": 100, \"most_at_home\": 5, \"most_at_work\": 10, \"lang_known\": 125}, {\"category\": \"Non-Official & Non-Aboriginal languages\", \"language\": \"Hiligaynon\", \"mother_tongue\": 6880, \"most_at_home\": 2210, \"most_at_work\": 25, \"lang_known\": 7925}, {\"category\": \"Non-Official & Non-Aboriginal languages\", \"language\": \"Hindi\", \"mother_tongue\": 110645, \"most_at_home\": 55510, \"most_at_work\": 1405, \"lang_known\": 433365}, {\"category\": \"Non-Official & Non-Aboriginal languages\", \"language\": \"Hmong-Mien languages\", \"mother_tongue\": 795, \"most_at_home\": 335, \"most_at_work\": 10, \"lang_known\": 870}, {\"category\": \"Non-Official & Non-Aboriginal languages\", \"language\": \"Hungarian\", \"mother_tongue\": 61235, \"most_at_home\": 19480, \"most_at_work\": 440, \"lang_known\": 71285}, {\"category\": \"Non-Official & Non-Aboriginal languages\", \"language\": \"Icelandic\", \"mother_tongue\": 1285, \"most_at_home\": 270, \"most_at_work\": 0, \"lang_known\": 1780}, {\"category\": \"Non-Official & Non-Aboriginal languages\", \"language\": \"Igbo\", \"mother_tongue\": 4235, \"most_at_home\": 1000, \"most_at_work\": 10, \"lang_known\": 8855}, {\"category\": \"Non-Official & Non-Aboriginal languages\", \"language\": \"Ilocano\", \"mother_tongue\": 26345, \"most_at_home\": 9125, \"most_at_work\": 110, \"lang_known\": 34530}, {\"category\": \"Non-Official & Non-Aboriginal languages\", \"language\": \"Indo-Iranian languages, n.i.e.\", \"mother_tongue\": 5185, \"most_at_home\": 2380, \"most_at_work\": 20, \"lang_known\": 8870}, {\"category\": \"Aboriginal languages\", \"language\": \"Inuinnaqtun (Inuvialuktun)\", \"mother_tongue\": 1020, \"most_at_home\": 165, \"most_at_work\": 30, \"lang_known\": 1975}, {\"category\": \"Aboriginal languages\", \"language\": \"Inuit languages, n.i.e.\", \"mother_tongue\": 310, \"most_at_home\": 90, \"most_at_work\": 15, \"lang_known\": 470}, {\"category\": \"Aboriginal languages\", \"language\": \"Inuktitut\", \"mother_tongue\": 35210, \"most_at_home\": 29230, \"most_at_work\": 8795, \"lang_known\": 40620}, {\"category\": \"Aboriginal languages\", \"language\": \"Iroquoian languages, n.i.e.\", \"mother_tongue\": 35, \"most_at_home\": 5, \"most_at_work\": 0, \"lang_known\": 115}, {\"category\": \"Non-Official & Non-Aboriginal languages\", \"language\": \"Italian\", \"mother_tongue\": 375635, \"most_at_home\": 115415, \"most_at_work\": 1705, \"lang_known\": 574725}, {\"category\": \"Non-Official & Non-Aboriginal languages\", \"language\": \"Italic (Romance) languages, n.i.e.\", \"mother_tongue\": 720, \"most_at_home\": 175, \"most_at_work\": 25, \"lang_known\": 2680}, {\"category\": \"Non-Official & Non-Aboriginal languages\", \"language\": \"Japanese\", \"mother_tongue\": 43640, \"most_at_home\": 19785, \"most_at_work\": 3255, \"lang_known\": 83095}, {\"category\": \"Non-Official & Non-Aboriginal languages\", \"language\": \"Kabyle\", \"mother_tongue\": 13150, \"most_at_home\": 5490, \"most_at_work\": 15, \"lang_known\": 17120}, {\"category\": \"Non-Official & Non-Aboriginal languages\", \"language\": \"Kannada\", \"mother_tongue\": 3970, \"most_at_home\": 1630, \"most_at_work\": 10, \"lang_known\": 8245}, {\"category\": \"Non-Official & Non-Aboriginal languages\", \"language\": \"Karenic languages\", \"mother_tongue\": 4705, \"most_at_home\": 3860, \"most_at_work\": 135, \"lang_known\": 4895}, {\"category\": \"Non-Official & Non-Aboriginal languages\", \"language\": \"Kashmiri\", \"mother_tongue\": 565, \"most_at_home\": 135, \"most_at_work\": 0, \"lang_known\": 905}, {\"category\": \"Aboriginal languages\", \"language\": \"Kaska (Nahani)\", \"mother_tongue\": 180, \"most_at_home\": 20, \"most_at_work\": 10, \"lang_known\": 365}, {\"category\": \"Non-Official & Non-Aboriginal languages\", \"language\": \"Khmer (Cambodian)\", \"mother_tongue\": 20130, \"most_at_home\": 10885, \"most_at_work\": 475, \"lang_known\": 27035}, {\"category\": \"Non-Official & Non-Aboriginal languages\", \"language\": \"Kinyarwanda (Rwanda)\", \"mother_tongue\": 5250, \"most_at_home\": 1530, \"most_at_work\": 25, \"lang_known\": 7860}, {\"category\": \"Non-Official & Non-Aboriginal languages\", \"language\": \"Konkani\", \"mother_tongue\": 3330, \"most_at_home\": 720, \"most_at_work\": 10, \"lang_known\": 6790}, {\"category\": \"Non-Official & Non-Aboriginal languages\", \"language\": \"Korean\", \"mother_tongue\": 153425, \"most_at_home\": 109705, \"most_at_work\": 12150, \"lang_known\": 172750}, {\"category\": \"Non-Official & Non-Aboriginal languages\", \"language\": \"Kurdish\", \"mother_tongue\": 11705, \"most_at_home\": 6580, \"most_at_work\": 185, \"lang_known\": 15290}, {\"category\": \"Aboriginal languages\", \"language\": \"Kutenai\", \"mother_tongue\": 110, \"most_at_home\": 10, \"most_at_work\": 0, \"lang_known\": 170}, {\"category\": \"Aboriginal languages\", \"language\": \"Kwakiutl (Kwak'wala)\", \"mother_tongue\": 325, \"most_at_home\": 25, \"most_at_work\": 15, \"lang_known\": 605}, {\"category\": \"Non-Official & Non-Aboriginal languages\", \"language\": \"Lao\", \"mother_tongue\": 12670, \"most_at_home\": 6175, \"most_at_work\": 150, \"lang_known\": 17235}, {\"category\": \"Non-Official & Non-Aboriginal languages\", \"language\": \"Latvian\", \"mother_tongue\": 5450, \"most_at_home\": 1255, \"most_at_work\": 35, \"lang_known\": 6500}, {\"category\": \"Aboriginal languages\", \"language\": \"Lillooet\", \"mother_tongue\": 315, \"most_at_home\": 25, \"most_at_work\": 15, \"lang_known\": 790}, {\"category\": \"Non-Official & Non-Aboriginal languages\", \"language\": \"Lingala\", \"mother_tongue\": 3805, \"most_at_home\": 1045, \"most_at_work\": 10, \"lang_known\": 17010}, {\"category\": \"Non-Official & Non-Aboriginal languages\", \"language\": \"Lithuanian\", \"mother_tongue\": 7075, \"most_at_home\": 2015, \"most_at_work\": 60, \"lang_known\": 8185}, {\"category\": \"Non-Official & Non-Aboriginal languages\", \"language\": \"Macedonian\", \"mother_tongue\": 16770, \"most_at_home\": 6830, \"most_at_work\": 95, \"lang_known\": 23075}, {\"category\": \"Non-Official & Non-Aboriginal languages\", \"language\": \"Malagasy\", \"mother_tongue\": 1430, \"most_at_home\": 430, \"most_at_work\": 0, \"lang_known\": 2340}, {\"category\": \"Non-Official & Non-Aboriginal languages\", \"language\": \"Malay\", \"mother_tongue\": 12275, \"most_at_home\": 3625, \"most_at_work\": 140, \"lang_known\": 22470}, {\"category\": \"Non-Official & Non-Aboriginal languages\", \"language\": \"Malayalam\", \"mother_tongue\": 28565, \"most_at_home\": 15440, \"most_at_work\": 95, \"lang_known\": 37810}, {\"category\": \"Aboriginal languages\", \"language\": \"Malecite\", \"mother_tongue\": 300, \"most_at_home\": 55, \"most_at_work\": 10, \"lang_known\": 760}, {\"category\": \"Non-Official & Non-Aboriginal languages\", \"language\": \"Maltese\", \"mother_tongue\": 5565, \"most_at_home\": 1125, \"most_at_work\": 25, \"lang_known\": 7625}, {\"category\": \"Non-Official & Non-Aboriginal languages\", \"language\": \"Mandarin\", \"mother_tongue\": 592040, \"most_at_home\": 462890, \"most_at_work\": 60090, \"lang_known\": 814450}, {\"category\": \"Non-Official & Non-Aboriginal languages\", \"language\": \"Marathi\", \"mother_tongue\": 8295, \"most_at_home\": 3780, \"most_at_work\": 30, \"lang_known\": 15565}, {\"category\": \"Aboriginal languages\", \"language\": \"Mi'kmaq\", \"mother_tongue\": 6690, \"most_at_home\": 3565, \"most_at_work\": 915, \"lang_known\": 9025}, {\"category\": \"Aboriginal languages\", \"language\": \"Michif\", \"mother_tongue\": 465, \"most_at_home\": 80, \"most_at_work\": 10, \"lang_known\": 1210}, {\"category\": \"Non-Official & Non-Aboriginal languages\", \"language\": \"Min Dong\", \"mother_tongue\": 1230, \"most_at_home\": 345, \"most_at_work\": 30, \"lang_known\": 1045}, {\"category\": \"Non-Official & Non-Aboriginal languages\", \"language\": \"Min Nan (Chaochow, Teochow, Fukien, Taiwanese)\", \"mother_tongue\": 31800, \"most_at_home\": 13965, \"most_at_work\": 565, \"lang_known\": 42840}, {\"category\": \"Aboriginal languages\", \"language\": \"Mohawk\", \"mother_tongue\": 985, \"most_at_home\": 255, \"most_at_work\": 30, \"lang_known\": 2415}, {\"category\": \"Non-Official & Non-Aboriginal languages\", \"language\": \"Mongolian\", \"mother_tongue\": 1575, \"most_at_home\": 905, \"most_at_work\": 10, \"lang_known\": 2095}, {\"category\": \"Aboriginal languages\", \"language\": \"Montagnais (Innu)\", \"mother_tongue\": 10235, \"most_at_home\": 8585, \"most_at_work\": 2055, \"lang_known\": 11445}, {\"category\": \"Aboriginal languages\", \"language\": \"Moose Cree\", \"mother_tongue\": 105, \"most_at_home\": 10, \"most_at_work\": 0, \"lang_known\": 195}, {\"category\": \"Aboriginal languages\", \"language\": \"Naskapi\", \"mother_tongue\": 1205, \"most_at_home\": 1195, \"most_at_work\": 370, \"lang_known\": 1465}, {\"category\": \"Non-Official & Non-Aboriginal languages\", \"language\": \"Nepali\", \"mother_tongue\": 18275, \"most_at_home\": 13375, \"most_at_work\": 195, \"lang_known\": 21385}, {\"category\": \"Non-Official & Non-Aboriginal languages\", \"language\": \"Niger-Congo languages, n.i.e.\", \"mother_tongue\": 19135, \"most_at_home\": 4010, \"most_at_work\": 30, \"lang_known\": 40760}, {\"category\": \"Non-Official & Non-Aboriginal languages\", \"language\": \"Nilo-Saharan languages, n.i.e.\", \"mother_tongue\": 3750, \"most_at_home\": 1520, \"most_at_work\": 0, \"lang_known\": 4550}, {\"category\": \"Aboriginal languages\", \"language\": \"Nisga'a\", \"mother_tongue\": 400, \"most_at_home\": 75, \"most_at_work\": 10, \"lang_known\": 1055}, {\"category\": \"Aboriginal languages\", \"language\": \"North Slavey (Hare)\", \"mother_tongue\": 765, \"most_at_home\": 340, \"most_at_work\": 95, \"lang_known\": 1005}, {\"category\": \"Aboriginal languages\", \"language\": \"Northern East Cree\", \"mother_tongue\": 315, \"most_at_home\": 110, \"most_at_work\": 35, \"lang_known\": 550}, {\"category\": \"Aboriginal languages\", \"language\": \"Northern Tutchone\", \"mother_tongue\": 220, \"most_at_home\": 30, \"most_at_work\": 0, \"lang_known\": 280}, {\"category\": \"Non-Official & Non-Aboriginal languages\", \"language\": \"Norwegian\", \"mother_tongue\": 4615, \"most_at_home\": 350, \"most_at_work\": 70, \"lang_known\": 8120}, {\"category\": \"Aboriginal languages\", \"language\": \"Nuu-chah-nulth (Nootka)\", \"mother_tongue\": 280, \"most_at_home\": 30, \"most_at_work\": 10, \"lang_known\": 560}, {\"category\": \"Aboriginal languages\", \"language\": \"Oji-Cree\", \"mother_tongue\": 12855, \"most_at_home\": 7905, \"most_at_work\": 1080, \"lang_known\": 15605}, {\"category\": \"Aboriginal languages\", \"language\": \"Ojibway\", \"mother_tongue\": 17885, \"most_at_home\": 6175, \"most_at_work\": 765, \"lang_known\": 28580}, {\"category\": \"Aboriginal languages\", \"language\": \"Okanagan\", \"mother_tongue\": 275, \"most_at_home\": 80, \"most_at_work\": 20, \"lang_known\": 820}, {\"category\": \"Aboriginal languages\", \"language\": \"Oneida\", \"mother_tongue\": 60, \"most_at_home\": 15, \"most_at_work\": 0, \"lang_known\": 185}, {\"category\": \"Non-Official & Non-Aboriginal languages\", \"language\": \"Oriya (Odia)\", \"mother_tongue\": 1055, \"most_at_home\": 475, \"most_at_work\": 0, \"lang_known\": 1530}, {\"category\": \"Non-Official & Non-Aboriginal languages\", \"language\": \"Oromo\", \"mother_tongue\": 4960, \"most_at_home\": 3410, \"most_at_work\": 45, \"lang_known\": 6245}, {\"category\": \"Non-Official & Non-Aboriginal languages\", \"language\": \"Other languages, n.i.e.\", \"mother_tongue\": 3685, \"most_at_home\": 1110, \"most_at_work\": 80, \"lang_known\": 9730}, {\"category\": \"Aboriginal languages\", \"language\": \"Ottawa (Odawa)\", \"mother_tongue\": 150, \"most_at_home\": 75, \"most_at_work\": 0, \"lang_known\": 205}, {\"category\": \"Non-Official & Non-Aboriginal languages\", \"language\": \"Pampangan (Kapampangan, Pampango)\", \"mother_tongue\": 4045, \"most_at_home\": 1200, \"most_at_work\": 10, \"lang_known\": 5425}, {\"category\": \"Non-Official & Non-Aboriginal languages\", \"language\": \"Pangasinan\", \"mother_tongue\": 1390, \"most_at_home\": 240, \"most_at_work\": 0, \"lang_known\": 1800}, {\"category\": \"Non-Official & Non-Aboriginal languages\", \"language\": \"Pashto\", \"mother_tongue\": 16905, \"most_at_home\": 10590, \"most_at_work\": 50, \"lang_known\": 23180}, {\"category\": \"Non-Official & Non-Aboriginal languages\", \"language\": \"Persian (Farsi)\", \"mother_tongue\": 214200, \"most_at_home\": 143025, \"most_at_work\": 4580, \"lang_known\": 252325}, {\"category\": \"Aboriginal languages\", \"language\": \"Plains Cree\", \"mother_tongue\": 3065, \"most_at_home\": 1345, \"most_at_work\": 95, \"lang_known\": 5905}, {\"category\": \"Non-Official & Non-Aboriginal languages\", \"language\": \"Polish\", \"mother_tongue\": 181710, \"most_at_home\": 74780, \"most_at_work\": 2495, \"lang_known\": 214965}, {\"category\": \"Non-Official & Non-Aboriginal languages\", \"language\": \"Portuguese\", \"mother_tongue\": 221535, \"most_at_home\": 98710, \"most_at_work\": 7485, \"lang_known\": 295955}, {\"category\": \"Non-Official & Non-Aboriginal languages\", \"language\": \"Punjabi (Panjabi)\", \"mother_tongue\": 501680, \"most_at_home\": 349140, \"most_at_work\": 27865, \"lang_known\": 668240}, {\"category\": \"Non-Official & Non-Aboriginal languages\", \"language\": \"Quebec Sign Language\", \"mother_tongue\": 695, \"most_at_home\": 730, \"most_at_work\": 130, \"lang_known\": 4665}, {\"category\": \"Non-Official & Non-Aboriginal languages\", \"language\": \"Romanian\", \"mother_tongue\": 96660, \"most_at_home\": 53325, \"most_at_work\": 745, \"lang_known\": 115050}, {\"category\": \"Non-Official & Non-Aboriginal languages\", \"language\": \"Rundi (Kirundi)\", \"mother_tongue\": 5850, \"most_at_home\": 2110, \"most_at_work\": 0, \"lang_known\": 8590}, {\"category\": \"Non-Official & Non-Aboriginal languages\", \"language\": \"Russian\", \"mother_tongue\": 188255, \"most_at_home\": 116595, \"most_at_work\": 4855, \"lang_known\": 269645}, {\"category\": \"Aboriginal languages\", \"language\": \"Salish languages, n.i.e.\", \"mother_tongue\": 260, \"most_at_home\": 25, \"most_at_work\": 0, \"lang_known\": 560}, {\"category\": \"Aboriginal languages\", \"language\": \"Sarsi (Sarcee)\", \"mother_tongue\": 80, \"most_at_home\": 10, \"most_at_work\": 0, \"lang_known\": 145}, {\"category\": \"Non-Official & Non-Aboriginal languages\", \"language\": \"Scottish Gaelic\", \"mother_tongue\": 1090, \"most_at_home\": 190, \"most_at_work\": 15, \"lang_known\": 3980}, {\"category\": \"Aboriginal languages\", \"language\": \"Sekani\", \"mother_tongue\": 85, \"most_at_home\": 15, \"most_at_work\": 0, \"lang_known\": 185}, {\"category\": \"Non-Official & Non-Aboriginal languages\", \"language\": \"Semitic languages, n.i.e.\", \"mother_tongue\": 2150, \"most_at_home\": 1205, \"most_at_work\": 65, \"lang_known\": 3220}, {\"category\": \"Non-Official & Non-Aboriginal languages\", \"language\": \"Serbian\", \"mother_tongue\": 57350, \"most_at_home\": 31750, \"most_at_work\": 530, \"lang_known\": 73780}, {\"category\": \"Non-Official & Non-Aboriginal languages\", \"language\": \"Serbo-Croatian\", \"mother_tongue\": 9550, \"most_at_home\": 3890, \"most_at_work\": 30, \"lang_known\": 11275}, {\"category\": \"Non-Official & Non-Aboriginal languages\", \"language\": \"Shona\", \"mother_tongue\": 3185, \"most_at_home\": 1035, \"most_at_work\": 0, \"lang_known\": 5430}, {\"category\": \"Aboriginal languages\", \"language\": \"Shuswap (Secwepemctsin)\", \"mother_tongue\": 445, \"most_at_home\": 50, \"most_at_work\": 35, \"lang_known\": 1305}, {\"category\": \"Non-Official & Non-Aboriginal languages\", \"language\": \"Sign languages, n.i.e\", \"mother_tongue\": 4125, \"most_at_home\": 6690, \"most_at_work\": 645, \"lang_known\": 22280}, {\"category\": \"Non-Official & Non-Aboriginal languages\", \"language\": \"Sindhi\", \"mother_tongue\": 11860, \"most_at_home\": 4975, \"most_at_work\": 35, \"lang_known\": 20260}, {\"category\": \"Non-Official & Non-Aboriginal languages\", \"language\": \"Sinhala (Sinhalese)\", \"mother_tongue\": 16335, \"most_at_home\": 7790, \"most_at_work\": 40, \"lang_known\": 27825}, {\"category\": \"Aboriginal languages\", \"language\": \"Siouan languages, n.i.e.\", \"mother_tongue\": 55, \"most_at_home\": 20, \"most_at_work\": 0, \"lang_known\": 140}, {\"category\": \"Aboriginal languages\", \"language\": \"Slavey, n.o.s.\", \"mother_tongue\": 280, \"most_at_home\": 105, \"most_at_work\": 10, \"lang_known\": 675}, {\"category\": \"Non-Official & Non-Aboriginal languages\", \"language\": \"Slavic languages, n.i.e.\", \"mother_tongue\": 2420, \"most_at_home\": 670, \"most_at_work\": 10, \"lang_known\": 2995}, {\"category\": \"Non-Official & Non-Aboriginal languages\", \"language\": \"Slovak\", \"mother_tongue\": 17580, \"most_at_home\": 5610, \"most_at_work\": 100, \"lang_known\": 21470}, {\"category\": \"Non-Official & Non-Aboriginal languages\", \"language\": \"Slovene (Slovenian)\", \"mother_tongue\": 9785, \"most_at_home\": 2055, \"most_at_work\": 15, \"lang_known\": 11490}, {\"category\": \"Non-Official & Non-Aboriginal languages\", \"language\": \"Somali\", \"mother_tongue\": 36755, \"most_at_home\": 22895, \"most_at_work\": 220, \"lang_known\": 49660}, {\"category\": \"Aboriginal languages\", \"language\": \"South Slavey\", \"mother_tongue\": 945, \"most_at_home\": 370, \"most_at_work\": 35, \"lang_known\": 1365}, {\"category\": \"Aboriginal languages\", \"language\": \"Southern East Cree\", \"mother_tongue\": 45, \"most_at_home\": 15, \"most_at_work\": 0, \"lang_known\": 40}, {\"category\": \"Aboriginal languages\", \"language\": \"Southern Tutchone\", \"mother_tongue\": 70, \"most_at_home\": 5, \"most_at_work\": 0, \"lang_known\": 145}, {\"category\": \"Non-Official & Non-Aboriginal languages\", \"language\": \"Spanish\", \"mother_tongue\": 458850, \"most_at_home\": 263505, \"most_at_work\": 13030, \"lang_known\": 995260}, {\"category\": \"Aboriginal languages\", \"language\": \"Squamish\", \"mother_tongue\": 40, \"most_at_home\": 5, \"most_at_work\": 10, \"lang_known\": 285}, {\"category\": \"Aboriginal languages\", \"language\": \"Stoney\", \"mother_tongue\": 3025, \"most_at_home\": 1950, \"most_at_work\": 240, \"lang_known\": 3675}, {\"category\": \"Aboriginal languages\", \"language\": \"Straits\", \"mother_tongue\": 80, \"most_at_home\": 25, \"most_at_work\": 15, \"lang_known\": 365}, {\"category\": \"Non-Official & Non-Aboriginal languages\", \"language\": \"Swahili\", \"mother_tongue\": 13370, \"most_at_home\": 5370, \"most_at_work\": 80, \"lang_known\": 38685}, {\"category\": \"Aboriginal languages\", \"language\": \"Swampy Cree\", \"mother_tongue\": 1440, \"most_at_home\": 330, \"most_at_work\": 10, \"lang_known\": 2350}, {\"category\": \"Non-Official & Non-Aboriginal languages\", \"language\": \"Swedish\", \"mother_tongue\": 6840, \"most_at_home\": 1050, \"most_at_work\": 125, \"lang_known\": 14140}, {\"category\": \"Non-Official & Non-Aboriginal languages\", \"language\": \"Tagalog (Pilipino, Filipino)\", \"mother_tongue\": 431385, \"most_at_home\": 213790, \"most_at_work\": 3450, \"lang_known\": 612735}, {\"category\": \"Aboriginal languages\", \"language\": \"Tahltan\", \"mother_tongue\": 95, \"most_at_home\": 5, \"most_at_work\": 0, \"lang_known\": 265}, {\"category\": \"Non-Official & Non-Aboriginal languages\", \"language\": \"Tai-Kadai languages, n.i.e\", \"mother_tongue\": 85, \"most_at_home\": 30, \"most_at_work\": 0, \"lang_known\": 115}, {\"category\": \"Non-Official & Non-Aboriginal languages\", \"language\": \"Tamil\", \"mother_tongue\": 140720, \"most_at_home\": 96955, \"most_at_work\": 2085, \"lang_known\": 189860}, {\"category\": \"Non-Official & Non-Aboriginal languages\", \"language\": \"Telugu\", \"mother_tongue\": 15660, \"most_at_home\": 8280, \"most_at_work\": 40, \"lang_known\": 23165}, {\"category\": \"Non-Official & Non-Aboriginal languages\", \"language\": \"Thai\", \"mother_tongue\": 9255, \"most_at_home\": 3365, \"most_at_work\": 525, \"lang_known\": 15395}, {\"category\": \"Aboriginal languages\", \"language\": \"Thompson (Ntlakapamux)\", \"mother_tongue\": 335, \"most_at_home\": 20, \"most_at_work\": 0, \"lang_known\": 450}, {\"category\": \"Non-Official & Non-Aboriginal languages\", \"language\": \"Tibetan\", \"mother_tongue\": 6160, \"most_at_home\": 4590, \"most_at_work\": 50, \"lang_known\": 7050}, {\"category\": \"Non-Official & Non-Aboriginal languages\", \"language\": \"Tibeto-Burman languages, n.i.e.\", \"mother_tongue\": 1405, \"most_at_home\": 655, \"most_at_work\": 15, \"lang_known\": 2380}, {\"category\": \"Non-Official & Non-Aboriginal languages\", \"language\": \"Tigrigna\", \"mother_tongue\": 16645, \"most_at_home\": 10205, \"most_at_work\": 130, \"lang_known\": 21340}, {\"category\": \"Aboriginal languages\", \"language\": \"Tsimshian\", \"mother_tongue\": 200, \"most_at_home\": 30, \"most_at_work\": 10, \"lang_known\": 410}, {\"category\": \"Non-Official & Non-Aboriginal languages\", \"language\": \"Turkic languages, n.i.e.\", \"mother_tongue\": 1315, \"most_at_home\": 455, \"most_at_work\": 10, \"lang_known\": 1875}, {\"category\": \"Non-Official & Non-Aboriginal languages\", \"language\": \"Turkish\", \"mother_tongue\": 32815, \"most_at_home\": 18955, \"most_at_work\": 690, \"lang_known\": 50770}, {\"category\": \"Non-Official & Non-Aboriginal languages\", \"language\": \"Ukrainian\", \"mother_tongue\": 102485, \"most_at_home\": 28250, \"most_at_work\": 1210, \"lang_known\": 132115}, {\"category\": \"Non-Official & Non-Aboriginal languages\", \"language\": \"Uralic languages, n.i.e.\", \"mother_tongue\": 10, \"most_at_home\": 5, \"most_at_work\": 0, \"lang_known\": 25}, {\"category\": \"Non-Official & Non-Aboriginal languages\", \"language\": \"Urdu\", \"mother_tongue\": 210815, \"most_at_home\": 128785, \"most_at_work\": 1495, \"lang_known\": 322220}, {\"category\": \"Non-Official & Non-Aboriginal languages\", \"language\": \"Uyghur\", \"mother_tongue\": 1035, \"most_at_home\": 610, \"most_at_work\": 20, \"lang_known\": 1390}, {\"category\": \"Non-Official & Non-Aboriginal languages\", \"language\": \"Uzbek\", \"mother_tongue\": 1720, \"most_at_home\": 995, \"most_at_work\": 15, \"lang_known\": 2465}, {\"category\": \"Non-Official & Non-Aboriginal languages\", \"language\": \"Vietnamese\", \"mother_tongue\": 156430, \"most_at_home\": 104245, \"most_at_work\": 8075, \"lang_known\": 198895}, {\"category\": \"Non-Official & Non-Aboriginal languages\", \"language\": \"Vlaams (Flemish)\", \"mother_tongue\": 3895, \"most_at_home\": 355, \"most_at_work\": 35, \"lang_known\": 4400}, {\"category\": \"Non-Official & Non-Aboriginal languages\", \"language\": \"Waray-Waray\", \"mother_tongue\": 1110, \"most_at_home\": 310, \"most_at_work\": 0, \"lang_known\": 1395}, {\"category\": \"Non-Official & Non-Aboriginal languages\", \"language\": \"Welsh\", \"mother_tongue\": 1075, \"most_at_home\": 95, \"most_at_work\": 0, \"lang_known\": 1695}, {\"category\": \"Non-Official & Non-Aboriginal languages\", \"language\": \"Wolof\", \"mother_tongue\": 3990, \"most_at_home\": 1385, \"most_at_work\": 10, \"lang_known\": 8240}, {\"category\": \"Aboriginal languages\", \"language\": \"Woods Cree\", \"mother_tongue\": 1840, \"most_at_home\": 800, \"most_at_work\": 75, \"lang_known\": 2665}, {\"category\": \"Non-Official & Non-Aboriginal languages\", \"language\": \"Wu (Shanghainese)\", \"mother_tongue\": 12915, \"most_at_home\": 7650, \"most_at_work\": 105, \"lang_known\": 16530}, {\"category\": \"Non-Official & Non-Aboriginal languages\", \"language\": \"Yiddish\", \"mother_tongue\": 13555, \"most_at_home\": 7085, \"most_at_work\": 895, \"lang_known\": 20985}, {\"category\": \"Non-Official & Non-Aboriginal languages\", \"language\": \"Yoruba\", \"mother_tongue\": 9080, \"most_at_home\": 2615, \"most_at_work\": 15, \"lang_known\": 22415}]}}, {\"mode\": \"vega-lite\"});\n",
       "</script>"
      ],
      "text/plain": [
       "alt.Chart(...)"
      ]
     },
     "metadata": {
      "scrapbook": {
       "mime_prefix": "application/papermill.record/",
       "name": "can_lang_plot_labels"
      }
     },
     "output_type": "display_data"
    }
   ],
   "source": [
    "glue('can_lang_plot_labels', can_lang_plot_labels, display=False)"
   ]
  },
  {
   "cell_type": "markdown",
   "id": "81f2177b",
   "metadata": {},
   "source": [
    ":::{glue:figure} can_lang_plot_labels\n",
    ":figwidth: 700px \n",
    ":name: can_lang_plot_labels\n",
    "\n",
    "Scatter plot of number of Canadians reporting a language as their mother tongue vs the primary language at home with x and y labels.\n",
    ":::"
   ]
  },
  {
   "cell_type": "code",
   "execution_count": 26,
   "id": "c14c7bd1",
   "metadata": {
    "tags": [
     "remove-cell"
    ]
   },
   "outputs": [],
   "source": [
    "numlang_speakers_max = max(can_lang['mother_tongue'])\n",
    "\n",
    "numlang_speakers_min = min(can_lang['mother_tongue'])"
   ]
  },
  {
   "cell_type": "markdown",
   "id": "af951f6f",
   "metadata": {},
   "source": [
    "Okay! The axes and labels in {numref}`can_lang_plot_labels` are\n",
    "much more readable and interpretable now. However, the scatter points themselves could use\n",
    "some work; most of the 214 data points are bunched\n",
    "up in the lower left-hand side of the visualization. The data is clumped because\n",
    "many more people in Canada speak English or French (the two points in\n",
    "the upper right corner) than other languages. \n",
    "In particular, the most common mother tongue language \n",
    "has `r  format(maxlang_speakers, scientific = FALSE, big.mark = \",\")` speakers,\n",
    "while the least common has only `r  format(minlang_speakers, scientific = FALSE, big.mark = \",\")`.\n",
    "That's a `r as.integer(floor(log10(maxlang_speakers/minlang_speakers)))`-decimal-place difference\n",
    "in the magnitude of these two numbers!\n",
    "We can confirm that the two points in the upper right-hand corner correspond\n",
    "to Canada's two official languages by filtering the data:\n",
    "\\index{filter}"
   ]
  },
  {
   "cell_type": "code",
   "execution_count": 27,
   "id": "a42c285c",
   "metadata": {},
   "outputs": [
    {
     "data": {
      "text/html": [
       "<div>\n",
       "<style scoped>\n",
       "    .dataframe tbody tr th:only-of-type {\n",
       "        vertical-align: middle;\n",
       "    }\n",
       "\n",
       "    .dataframe tbody tr th {\n",
       "        vertical-align: top;\n",
       "    }\n",
       "\n",
       "    .dataframe thead th {\n",
       "        text-align: right;\n",
       "    }\n",
       "</style>\n",
       "<table border=\"1\" class=\"dataframe\">\n",
       "  <thead>\n",
       "    <tr style=\"text-align: right;\">\n",
       "      <th></th>\n",
       "      <th>category</th>\n",
       "      <th>language</th>\n",
       "      <th>mother_tongue</th>\n",
       "      <th>most_at_home</th>\n",
       "      <th>most_at_work</th>\n",
       "      <th>lang_known</th>\n",
       "    </tr>\n",
       "  </thead>\n",
       "  <tbody>\n",
       "    <tr>\n",
       "      <th>54</th>\n",
       "      <td>Official languages</td>\n",
       "      <td>English</td>\n",
       "      <td>19460850</td>\n",
       "      <td>22162865</td>\n",
       "      <td>15265335</td>\n",
       "      <td>29748265</td>\n",
       "    </tr>\n",
       "    <tr>\n",
       "      <th>59</th>\n",
       "      <td>Official languages</td>\n",
       "      <td>French</td>\n",
       "      <td>7166700</td>\n",
       "      <td>6943800</td>\n",
       "      <td>3825215</td>\n",
       "      <td>10242945</td>\n",
       "    </tr>\n",
       "  </tbody>\n",
       "</table>\n",
       "</div>"
      ],
      "text/plain": [
       "              category language  mother_tongue  most_at_home  most_at_work  \\\n",
       "54  Official languages  English       19460850      22162865      15265335   \n",
       "59  Official languages   French        7166700       6943800       3825215   \n",
       "\n",
       "    lang_known  \n",
       "54    29748265  \n",
       "59    10242945  "
      ]
     },
     "execution_count": 27,
     "metadata": {},
     "output_type": "execute_result"
    }
   ],
   "source": [
    "can_lang.loc[(can_lang['language']=='English') | (can_lang['language']=='French')]\n"
   ]
  },
  {
   "cell_type": "markdown",
   "id": "74722a19",
   "metadata": {},
   "source": [
    "Recall that our question about this data pertains to *all* languages;\n",
    "so to properly answer our question, \n",
    "we will need to adjust the scale of the axes so that we can clearly\n",
    "see all of the scatter points.\n",
    "In particular, we will improve the plot by adjusting the horizontal\n",
    "and vertical axes so that they are on a **logarithmic** (or **log**) scale. \\index{logarithmic scale}\n",
    "Log scaling is useful when your data take both *very large* and *very small* values,\n",
    "because it helps space out small values and squishes larger values together.\n",
    "For example, $\\log_{10}(1) = 0$, $\\log_{10}(10) = 1$, $\\log_{10}(100) = 2$, and $\\log_{10}(1000) = 3$;\n",
    "on the logarithmic scale, \\index{ggplot!logarithmic scaling} \n",
    "the values 1, 10, 100, and 1000 are all the same distance apart!\n",
    "So we see that applying this function is moving big values closer together \n",
    "and moving small values farther apart.\n",
    "Note that if your data can take the value 0, logarithmic scaling may not \n",
    "be appropriate (since `log10(0) = -inf` in Python). There are other ways to transform\n",
    "the data in such a case, but these are beyond the scope of the book. \n",
    "\n",
    "We can accomplish logarithmic scaling in the `altair` visualization\n",
    "using the argument `type=\"log\"` in the scale functions."
   ]
  },
  {
   "cell_type": "code",
   "execution_count": 28,
   "id": "9683aabc",
   "metadata": {},
   "outputs": [
    {
     "ename": "IndentationError",
     "evalue": "unexpected indent (2485070261.py, line 3)",
     "output_type": "error",
     "traceback": [
      "\u001b[0;36m  Input \u001b[0;32mIn [28]\u001b[0;36m\u001b[0m\n\u001b[0;31m    y = alt.Y(\"mother_tongue\", title = [\"Mother tongue\", \"(number of Canadian residents)\"], scale=alt.Scale(type=\"log\"), axis=alt.Axis(tickCount=7))).configure_axis(\u001b[0m\n\u001b[0m    ^\u001b[0m\n\u001b[0;31mIndentationError\u001b[0m\u001b[0;31m:\u001b[0m unexpected indent\n"
     ]
    }
   ],
   "source": [
    "can_lang_plot_log = alt.Chart(can_lang).mark_circle(color='black').encode(\n",
    "    x = alt.X(\"most_at_home\",title = [\"Language spoken most at home\", \"(number of Canadian residents)\"]), scale=alt.Scale( type=\"log\"), axis=alt.Axis(tickCount=7)),\n",
    "    y = alt.Y(\"mother_tongue\", title = [\"Mother tongue\", \"(number of Canadian residents)\"], scale=alt.Scale(type=\"log\"), axis=alt.Axis(tickCount=7))).configure_axis(\n",
    "    titleFontSize=12)\n"
   ]
  },
  {
   "cell_type": "code",
   "execution_count": 29,
   "id": "150ad5cb",
   "metadata": {
    "tags": [
     "remove-cell"
    ]
   },
   "outputs": [
    {
     "ename": "NameError",
     "evalue": "name 'can_lang_plot_log' is not defined",
     "output_type": "error",
     "traceback": [
      "\u001b[0;31m---------------------------------------------------------------------------\u001b[0m",
      "\u001b[0;31mNameError\u001b[0m                                 Traceback (most recent call last)",
      "Input \u001b[0;32mIn [29]\u001b[0m, in \u001b[0;36m<cell line: 1>\u001b[0;34m()\u001b[0m\n\u001b[0;32m----> 1\u001b[0m glue(\u001b[38;5;124m'\u001b[39m\u001b[38;5;124mcan_lang_plot_log\u001b[39m\u001b[38;5;124m'\u001b[39m, \u001b[43mcan_lang_plot_log\u001b[49m, display\u001b[38;5;241m=\u001b[39m\u001b[38;5;28;01mFalse\u001b[39;00m)\n",
      "\u001b[0;31mNameError\u001b[0m: name 'can_lang_plot_log' is not defined"
     ]
    }
   ],
   "source": [
    "glue('can_lang_plot_log', can_lang_plot_log, display=False)"
   ]
  },
  {
   "cell_type": "markdown",
   "id": "7ced4e6b",
   "metadata": {},
   "source": [
    ":::{glue:figure} can_lang_plot_log\n",
    ":figwidth: 700px \n",
    ":name: can_lang_plot_log\n",
    "\n",
    "Scatter plot of number of Canadians reporting a language as their mother tongue vs the primary language at home with log adjusted x and y axes.\n",
    ":::"
   ]
  },
  {
   "cell_type": "code",
   "execution_count": 30,
   "id": "40bccc55",
   "metadata": {
    "tags": [
     "remove-cell"
    ]
   },
   "outputs": [],
   "source": [
    "english_mother_tongue = can_lang.loc[can_lang['language']=='English'].mother_tongue\n",
    "english_mother_tongue \n",
    "\n",
    "\n",
    "census_popn = 35151728"
   ]
  },
  {
   "cell_type": "markdown",
   "id": "db3752cd",
   "metadata": {},
   "source": [
    "Similar to some of the examples in Chapter \\@ref(wrangling), \n",
    "we can convert the counts to percentages to give them context \n",
    "and make them easier to understand.\n",
    "We can do this by dividing the number of people reporting a given language \n",
    "as their mother tongue or primary language at home \n",
    "by the number of people who live in Canada and multiplying by 100\\%. \n",
    "For example, \n",
    "the percentage of people who reported that their mother tongue was English \n",
    "in the 2016 Canadian census \n",
    "was `r  format(english_mother_tongue, scientific = FALSE, big.mark = \",\") ` \n",
    "/ `r  format(census_popn, scientific = FALSE, big.mark = \",\")` $\\times$ \n",
    "`r 100` \\% =\n",
    "`r format(round(english_mother_tongue/census_popn*100, 2), scientific = FALSE, big.mark = \",\")`\\%.\n",
    "\n",
    "Below we use `assign` to calculate the percentage of people reporting a given\n",
    "language as their mother tongue and primary language at home for all the\n",
    "languages in the `can_lang` data set. Since the new columns are appended to the\n",
    "end of the data table, we selected the new columns after the transformation so\n",
    "you can clearly see the mutated output from the table.\n",
    "\\index{mutate}\\index{select}"
   ]
  },
  {
   "cell_type": "code",
   "execution_count": 31,
   "id": "2a955d7c",
   "metadata": {},
   "outputs": [
    {
     "data": {
      "text/html": [
       "<div>\n",
       "<style scoped>\n",
       "    .dataframe tbody tr th:only-of-type {\n",
       "        vertical-align: middle;\n",
       "    }\n",
       "\n",
       "    .dataframe tbody tr th {\n",
       "        vertical-align: top;\n",
       "    }\n",
       "\n",
       "    .dataframe thead th {\n",
       "        text-align: right;\n",
       "    }\n",
       "</style>\n",
       "<table border=\"1\" class=\"dataframe\">\n",
       "  <thead>\n",
       "    <tr style=\"text-align: right;\">\n",
       "      <th></th>\n",
       "      <th>mother_tongue_percent</th>\n",
       "      <th>most_at_home_percent</th>\n",
       "    </tr>\n",
       "  </thead>\n",
       "  <tbody>\n",
       "    <tr>\n",
       "      <th>0</th>\n",
       "      <td>0.001678</td>\n",
       "      <td>0.000669</td>\n",
       "    </tr>\n",
       "    <tr>\n",
       "      <th>1</th>\n",
       "      <td>0.029188</td>\n",
       "      <td>0.013612</td>\n",
       "    </tr>\n",
       "    <tr>\n",
       "      <th>2</th>\n",
       "      <td>0.003272</td>\n",
       "      <td>0.001266</td>\n",
       "    </tr>\n",
       "    <tr>\n",
       "      <th>3</th>\n",
       "      <td>0.038291</td>\n",
       "      <td>0.017026</td>\n",
       "    </tr>\n",
       "    <tr>\n",
       "      <th>4</th>\n",
       "      <td>0.076511</td>\n",
       "      <td>0.037367</td>\n",
       "    </tr>\n",
       "    <tr>\n",
       "      <th>...</th>\n",
       "      <td>...</td>\n",
       "      <td>...</td>\n",
       "    </tr>\n",
       "    <tr>\n",
       "      <th>209</th>\n",
       "      <td>0.011351</td>\n",
       "      <td>0.003940</td>\n",
       "    </tr>\n",
       "    <tr>\n",
       "      <th>210</th>\n",
       "      <td>0.005234</td>\n",
       "      <td>0.002276</td>\n",
       "    </tr>\n",
       "    <tr>\n",
       "      <th>211</th>\n",
       "      <td>0.036741</td>\n",
       "      <td>0.021763</td>\n",
       "    </tr>\n",
       "    <tr>\n",
       "      <th>212</th>\n",
       "      <td>0.038561</td>\n",
       "      <td>0.020155</td>\n",
       "    </tr>\n",
       "    <tr>\n",
       "      <th>213</th>\n",
       "      <td>0.025831</td>\n",
       "      <td>0.007439</td>\n",
       "    </tr>\n",
       "  </tbody>\n",
       "</table>\n",
       "<p>211 rows × 2 columns</p>\n",
       "</div>"
      ],
      "text/plain": [
       "     mother_tongue_percent  most_at_home_percent\n",
       "0                 0.001678              0.000669\n",
       "1                 0.029188              0.013612\n",
       "2                 0.003272              0.001266\n",
       "3                 0.038291              0.017026\n",
       "4                 0.076511              0.037367\n",
       "..                     ...                   ...\n",
       "209               0.011351              0.003940\n",
       "210               0.005234              0.002276\n",
       "211               0.036741              0.021763\n",
       "212               0.038561              0.020155\n",
       "213               0.025831              0.007439\n",
       "\n",
       "[211 rows x 2 columns]"
      ]
     },
     "execution_count": 31,
     "metadata": {},
     "output_type": "execute_result"
    }
   ],
   "source": [
    "can_lang = can_lang.assign(mother_tongue_percent = (can_lang['mother_tongue'] / 35151728) * 100,\n",
    "                          most_at_home_percent = (can_lang['most_at_home'] / 35151728) * 100)\n",
    "can_lang[['mother_tongue_percent', 'most_at_home_percent']]\n"
   ]
  },
  {
   "cell_type": "markdown",
   "id": "953dcaac",
   "metadata": {},
   "source": [
    "Finally, we will edit the visualization to use the percentages we just computed\n",
    "(and change our axis labels to reflect this change in \n",
    "units). {numref}`can_lang_plot_percent` displays\n",
    "the final result."
   ]
  },
  {
   "cell_type": "code",
   "execution_count": 32,
   "id": "4f3305bd",
   "metadata": {},
   "outputs": [
    {
     "ename": "IndentationError",
     "evalue": "unexpected indent (1192758480.py, line 3)",
     "output_type": "error",
     "traceback": [
      "\u001b[0;36m  Input \u001b[0;32mIn [32]\u001b[0;36m\u001b[0m\n\u001b[0;31m    y = alt.Y(\"mother_tongue_percent\", title = [\"Mother tongue\", \"(number of Canadian residents)\"], scale=alt.Scale(type=\"log\"), axis=alt.Axis(tickCount=7))).configure_axis(\u001b[0m\n\u001b[0m    ^\u001b[0m\n\u001b[0;31mIndentationError\u001b[0m\u001b[0;31m:\u001b[0m unexpected indent\n"
     ]
    }
   ],
   "source": [
    "can_lang_plot_percent = alt.Chart(can_lang).mark_circle(color='black').encode(\n",
    "    x = alt.X(\"most_at_home_percent\",title = [\"Language spoken most at home\", \"(number of Canadian residents)\"]), scale=alt.Scale(type=\"log\"), axis=alt.Axis(tickCount=7)),\n",
    "    y = alt.Y(\"mother_tongue_percent\", title = [\"Mother tongue\", \"(number of Canadian residents)\"], scale=alt.Scale(type=\"log\"), axis=alt.Axis(tickCount=7))).configure_axis(\n",
    "    titleFontSize=12)\n"
   ]
  },
  {
   "cell_type": "code",
   "execution_count": 33,
   "id": "9ccff05d",
   "metadata": {
    "tags": [
     "remove-cell"
    ]
   },
   "outputs": [
    {
     "ename": "NameError",
     "evalue": "name 'can_lang_plot_percent' is not defined",
     "output_type": "error",
     "traceback": [
      "\u001b[0;31m---------------------------------------------------------------------------\u001b[0m",
      "\u001b[0;31mNameError\u001b[0m                                 Traceback (most recent call last)",
      "Input \u001b[0;32mIn [33]\u001b[0m, in \u001b[0;36m<cell line: 1>\u001b[0;34m()\u001b[0m\n\u001b[0;32m----> 1\u001b[0m glue(\u001b[38;5;124m'\u001b[39m\u001b[38;5;124mcan_lang_plot_percent\u001b[39m\u001b[38;5;124m'\u001b[39m, \u001b[43mcan_lang_plot_percent\u001b[49m, display\u001b[38;5;241m=\u001b[39m\u001b[38;5;28;01mFalse\u001b[39;00m)\n",
      "\u001b[0;31mNameError\u001b[0m: name 'can_lang_plot_percent' is not defined"
     ]
    }
   ],
   "source": [
    "glue('can_lang_plot_percent', can_lang_plot_percent, display=False)"
   ]
  },
  {
   "cell_type": "markdown",
   "id": "f1811714",
   "metadata": {},
   "source": [
    ":::{glue:figure} can_lang_plot_percent\n",
    ":figwidth: 700px \n",
    ":name: can_lang_plot_percent\n",
    "\n",
    "Scatter plot of percentage of Canadians reporting a language as their mother tongue vs the primary language at home.\n",
    ":::\n",
    "\n",
    "\n",
    "{numref}`can_lang_plot_percent` is the appropriate\n",
    "visualization to use to answer the first question in this section, i.e.,\n",
    "whether there is a relationship between the percentage of people who speak \n",
    "a language as their mother tongue and the percentage for whom that\n",
    "is the primary language spoken at home.\n",
    "To fully answer the question, we need to use\n",
    " {numref}`can_lang_plot_percent`\n",
    "to assess a few key characteristics of the data: \n",
    "\n",
    "- **Direction:** if the y variable tends to increase when the x variable increases, then y has a **positive** relationship with x. If \n",
    "  y tends to decrease when x increases, then y has a **negative** relationship with x. If y does not meaningfully increase or decrease \n",
    "  as x increases, then y has **little or no** relationship with x. \\index{relationship!positive, negative, none}\n",
    "- **Strength:** if the y variable *reliably* increases, decreases, or stays flat as x increases,\n",
    "  then the relationship is **strong**. Otherwise, the relationship is **weak**. Intuitively, \\index{relationship!strong, weak}\n",
    "  the relationship is strong when the scatter points are close together and look more like a \"line\" or \"curve\" than a \"cloud.\"\n",
    "- **Shape:** if you can draw a straight line roughly through the data points, the relationship is **linear**. Otherwise, it is **nonlinear**. \\index{relationship!linear, nonlinear}\n",
    "\n",
    "In {numref}`can_lang_plot_percent`, we see that \n",
    "as the percentage of people who have a language as their mother tongue increases, \n",
    "so does the percentage of people who speak that language at home. \n",
    "Therefore, there is a **positive** relationship between these two variables.\n",
    "Furthermore, because the points in {numref}`can_lang_plot_percent`\n",
    "are fairly close together, and the points look more like a \"line\" than a \"cloud\",\n",
    "we can say that this is a **strong** relationship. \n",
    "And finally, because drawing a straight line through these points in \n",
    "{numref}`can_lang_plot_percent`\n",
    "would fit the pattern we observe quite well, we say that the relationship is **linear**.\n",
    "\n",
    "Onto the second part of our exploratory data analysis question!\n",
    "Recall that we are interested in knowing whether the strength \n",
    "of the relationship we uncovered \n",
    "in {numref}`can_lang_plot_percent` depends\n",
    "on the higher-level language category (Official languages, Aboriginal languages,\n",
    "and non-official, non-Aboriginal languages).\n",
    "One common way to explore this\n",
    "is to color the data points on the scatter plot we have already created by\n",
    "group. For example, given that we have the higher-level language category for\n",
    "each language recorded in the 2016 Canadian census, we can color the points in\n",
    "our previous \n",
    "scatter plot to represent each language's higher-level language category.\n",
    "\n",
    "Here we want to distinguish the values according to the `category` group with\n",
    "which they belong.  We can add the argument `color` to the `encode` function, specifying\n",
    "that the `category` column should color the points. Adding this argument will\n",
    "color the points according to their group and add a legend at the side of the\n",
    "plot."
   ]
  },
  {
   "cell_type": "code",
   "execution_count": 34,
   "id": "b9119923",
   "metadata": {},
   "outputs": [
    {
     "ename": "SyntaxError",
     "evalue": "invalid syntax (1252253948.py, line 2)",
     "output_type": "error",
     "traceback": [
      "\u001b[0;36m  Input \u001b[0;32mIn [34]\u001b[0;36m\u001b[0m\n\u001b[0;31m    x = alt.X(\"most_at_home_percent\",title = title = [\"Language spoken most at home\", \"(number of Canadian residents)\"]), scale=alt.Scale(type=\"log\"), axis=alt.Axis(tickCount=7)),\u001b[0m\n\u001b[0m                                                   ^\u001b[0m\n\u001b[0;31mSyntaxError\u001b[0m\u001b[0;31m:\u001b[0m invalid syntax\n"
     ]
    }
   ],
   "source": [
    "can_lang_plot_category = alt.Chart(can_lang).mark_circle().encode(\n",
    "    x = alt.X(\"most_at_home_percent\",title = title = [\"Language spoken most at home\", \"(number of Canadian residents)\"]), scale=alt.Scale(type=\"log\"), axis=alt.Axis(tickCount=7)),\n",
    "    y = alt.Y(\"mother_tongue_percent\", title = [\"Mother tongue\", \"(number of Canadian residents)\"], scale=alt.Scale(type=\"log\"), axis=alt.Axis(tickCount=7)),\n",
    "    color = \"category\").configure_axis(\n",
    "    titleFontSize=12)\n"
   ]
  },
  {
   "cell_type": "code",
   "execution_count": 35,
   "id": "2e51aeff",
   "metadata": {
    "tags": [
     "remove-cell"
    ]
   },
   "outputs": [
    {
     "ename": "NameError",
     "evalue": "name 'can_lang_plot_category' is not defined",
     "output_type": "error",
     "traceback": [
      "\u001b[0;31m---------------------------------------------------------------------------\u001b[0m",
      "\u001b[0;31mNameError\u001b[0m                                 Traceback (most recent call last)",
      "Input \u001b[0;32mIn [35]\u001b[0m, in \u001b[0;36m<cell line: 1>\u001b[0;34m()\u001b[0m\n\u001b[0;32m----> 1\u001b[0m glue(\u001b[38;5;124m'\u001b[39m\u001b[38;5;124mcan_lang_plot_category\u001b[39m\u001b[38;5;124m'\u001b[39m, \u001b[43mcan_lang_plot_category\u001b[49m, display\u001b[38;5;241m=\u001b[39m\u001b[38;5;28;01mFalse\u001b[39;00m)\n",
      "\u001b[0;31mNameError\u001b[0m: name 'can_lang_plot_category' is not defined"
     ]
    }
   ],
   "source": [
    "glue('can_lang_plot_category', can_lang_plot_category, display=False)"
   ]
  },
  {
   "cell_type": "markdown",
   "id": "ce1bdf6b",
   "metadata": {},
   "source": [
    ":::{glue:figure} can_lang_plot_category\n",
    ":figwidth: 700px \n",
    ":name: can_lang_plot_category\n",
    "\n",
    "Scatter plot of percentage of Canadians reporting a language as their mother tongue vs the primary language at home colored by language category.\n",
    ":::\n",
    "\n",
    "\n",
    "The legend in {numref}`can_lang_plot_category`\n",
    "takes up valuable plot area. \n",
    "We can improve this by moving the legend title using the `alt.Legend` function\n",
    "with the arguments `legendX`, `legendY` and `direction`\n",
    "arguments of the `theme` function. \n",
    "Here we set the `direction` to `\"vertical\"` so that the legend items remain \n",
    "vertically stacked on top of each other. The default `direction` is horizontal, which won't work\n",
    "not work well for this particular visualization \n",
    "because the legend labels are quite long \n",
    "and would run off the page if displayed this way."
   ]
  },
  {
   "cell_type": "code",
   "execution_count": 36,
   "id": "50444272",
   "metadata": {},
   "outputs": [
    {
     "ename": "SyntaxError",
     "evalue": "invalid syntax (1375076664.py, line 2)",
     "output_type": "error",
     "traceback": [
      "\u001b[0;36m  Input \u001b[0;32mIn [36]\u001b[0;36m\u001b[0m\n\u001b[0;31m    x = alt.X(\"most_at_home_percent\",title = title = [\"Language spoken most at home\", \"(number of Canadian residents)\"]), scale=alt.Scale(type=\"log\"),axis=alt.Axis(tickCount=7) ),\u001b[0m\n\u001b[0m                                                   ^\u001b[0m\n\u001b[0;31mSyntaxError\u001b[0m\u001b[0;31m:\u001b[0m invalid syntax\n"
     ]
    }
   ],
   "source": [
    "can_lang_plot_legend = alt.Chart(can_lang).mark_circle().encode(\n",
    "    x = alt.X(\"most_at_home_percent\",title = title = [\"Language spoken most at home\", \"(number of Canadian residents)\"]), scale=alt.Scale(type=\"log\"),axis=alt.Axis(tickCount=7) ),\n",
    "    y = alt.Y(\"mother_tongue_percent\", title = [\"Mother tongue\", \"(number of Canadian residents)\"], scale=alt.Scale(type=\"log\"), axis=alt.Axis(tickCount=7)),\n",
    "    color = alt.Color(\"category\", legend=alt.Legend(\n",
    "                            orient='none',\n",
    "                            legendX=0, legendY=-90,\n",
    "                            direction='vertical'))).configure_axis(\n",
    "    titleFontSize=12)\n",
    "\n"
   ]
  },
  {
   "cell_type": "code",
   "execution_count": 37,
   "id": "5523776a",
   "metadata": {
    "tags": [
     "remove-cell"
    ]
   },
   "outputs": [
    {
     "ename": "NameError",
     "evalue": "name 'can_lang_plot_legend' is not defined",
     "output_type": "error",
     "traceback": [
      "\u001b[0;31m---------------------------------------------------------------------------\u001b[0m",
      "\u001b[0;31mNameError\u001b[0m                                 Traceback (most recent call last)",
      "Input \u001b[0;32mIn [37]\u001b[0m, in \u001b[0;36m<cell line: 1>\u001b[0;34m()\u001b[0m\n\u001b[0;32m----> 1\u001b[0m glue(\u001b[38;5;124m'\u001b[39m\u001b[38;5;124mcan_lang_plot_legend\u001b[39m\u001b[38;5;124m'\u001b[39m, \u001b[43mcan_lang_plot_legend\u001b[49m, display\u001b[38;5;241m=\u001b[39m\u001b[38;5;28;01mFalse\u001b[39;00m)\n",
      "\u001b[0;31mNameError\u001b[0m: name 'can_lang_plot_legend' is not defined"
     ]
    }
   ],
   "source": [
    "glue('can_lang_plot_legend', can_lang_plot_legend, display=False)"
   ]
  },
  {
   "cell_type": "markdown",
   "id": "8ff9438a",
   "metadata": {},
   "source": [
    ":::{glue:figure} can_lang_plot_legend\n",
    ":figwidth: 700px \n",
    ":name: can_lang_plot_legend\n",
    "\n",
    "Scatter plot of percentage of Canadians reporting a language as their mother tongue vs the primary language at home colored by language category with the legend edited.\n",
    ":::\n",
    "\n",
    "In {numref}`can_lang_plot_legend`, the points are colored with\n",
    "the default `altair` color palette. But what if you want to use different\n",
    "colors? In Altair, two packages that provide alternative color \n",
    "palettes \\index{color palette} are `RColorBrewer` [@RColorBrewer]\n",
    "and `ggthemes` [@ggthemes]; in this book we will cover how to use `RColorBrewer`.\n",
    "You can visualize the list of color\n",
    "palettes that `RColorBrewer` has to offer with the `display.brewer.all`\n",
    "function. You can also print a list of color-blind friendly palettes by adding\n",
    "`colorblindFriendly = TRUE` to the function. \n",
    "\n",
    "(ref:rcolorbrewer) Color palettes available from the `RColorBrewer` R package.\n",
    "\n",
    "```{r rcolorbrewer, fig.height = 7, fig.cap = \"(ref:rcolorbrewer)\"}\n",
    "library(RColorBrewer)\n",
    "display.brewer.all(colorblindFriendly = TRUE)\n",
    "```\n",
    "\n",
    "From Figure \\@ref(fig:rcolorbrewer), \n",
    "we can choose the color palette we want to use in our plot. \n",
    "To change the color palette, \n",
    "we add the `scale_color_brewer` layer indicating the palette we want to use. \n",
    "You can use \n",
    "this [color blindness simulator](https://www.color-blindness.com/coblis-color-blindness-simulator/) to check \n",
    "if your visualizations \\index{color palette!color blindness simulator} \n",
    "are color-blind friendly.\n",
    "\n",
    "Below we pick the `\"dark2\"` theme, with the result shown\n",
    "in Figure \\@ref(fig:scatter-color-by-category-palette).\n",
    "We also set the `shape` aesthetic mapping to the `category` variable as well;\n",
    "this makes the scatter point shapes different for each category. Note: We cannot use different shapes with `mark_circle`, it can only be used with `mark_point`. This kind of \n",
    "visual redundancy&mdash;i.e., conveying the same information with both scatter point color and shape&mdash;can\n",
    "further improve the clarity and accessibility of your visualization."
   ]
  },
  {
   "cell_type": "code",
   "execution_count": 38,
   "id": "b9f049f6",
   "metadata": {},
   "outputs": [
    {
     "ename": "SyntaxError",
     "evalue": "invalid syntax (581642154.py, line 2)",
     "output_type": "error",
     "traceback": [
      "\u001b[0;36m  Input \u001b[0;32mIn [38]\u001b[0;36m\u001b[0m\n\u001b[0;31m    x = alt.X(\"most_at_home_percent\",title = title = [\"Language spoken most at home\", \"(number of Canadian residents)\"]), scale=alt.Scale(type=\"log\"), axis=alt.Axis(tickCount=7)),\u001b[0m\n\u001b[0m                                                   ^\u001b[0m\n\u001b[0;31mSyntaxError\u001b[0m\u001b[0;31m:\u001b[0m invalid syntax\n"
     ]
    }
   ],
   "source": [
    "can_lang_plot_theme = alt.Chart(can_lang).mark_point(filled=True).encode(\n",
    "    x = alt.X(\"most_at_home_percent\",title = title = [\"Language spoken most at home\", \"(number of Canadian residents)\"]), scale=alt.Scale(type=\"log\"), axis=alt.Axis(tickCount=7)),\n",
    "    y = alt.Y(\"mother_tongue_percent\", title = \"Mother tongue(percentage of Canadian residents)\", scale=alt.Scale(type=\"log\"), axis=alt.Axis(tickCount=7)),\n",
    "    color = alt.Color(\"category\", legend=alt.Legend(\n",
    "                            orient='none',\n",
    "                            legendX=0, legendY=-90,\n",
    "                            direction='vertical'), \n",
    "                         scale=alt.Scale(scheme='dark2')),\n",
    "    shape = \"category\").configure_axis(\n",
    "    titleFontSize=12)\n"
   ]
  },
  {
   "cell_type": "code",
   "execution_count": 39,
   "id": "2db922d9",
   "metadata": {
    "tags": [
     "remove-cell"
    ]
   },
   "outputs": [
    {
     "ename": "NameError",
     "evalue": "name 'can_lang_plot_theme' is not defined",
     "output_type": "error",
     "traceback": [
      "\u001b[0;31m---------------------------------------------------------------------------\u001b[0m",
      "\u001b[0;31mNameError\u001b[0m                                 Traceback (most recent call last)",
      "Input \u001b[0;32mIn [39]\u001b[0m, in \u001b[0;36m<cell line: 1>\u001b[0;34m()\u001b[0m\n\u001b[0;32m----> 1\u001b[0m glue(\u001b[38;5;124m'\u001b[39m\u001b[38;5;124mcan_lang_plot_theme\u001b[39m\u001b[38;5;124m'\u001b[39m, \u001b[43mcan_lang_plot_theme\u001b[49m, display\u001b[38;5;241m=\u001b[39m\u001b[38;5;28;01mFalse\u001b[39;00m)\n",
      "\u001b[0;31mNameError\u001b[0m: name 'can_lang_plot_theme' is not defined"
     ]
    }
   ],
   "source": [
    "glue('can_lang_plot_theme', can_lang_plot_theme, display=False)"
   ]
  },
  {
   "cell_type": "markdown",
   "id": "aa048cd4",
   "metadata": {},
   "source": [
    ":::{glue:figure} can_lang_plot_theme\n",
    ":figwidth: 700px \n",
    ":name: can_lang_plot_theme\n",
    "\n",
    "Scatter plot of percentage of Canadians reporting a language as their mother tongue vs the primary language at home colored by language category with color-blind friendly colors.\n",
    ":::\n",
    "\n",
    "\n",
    "\n",
    "From the visualization in {numref}`can_lang_plot_theme`, \n",
    "we can now clearly see that the vast majority of Canadians reported one of the official languages \n",
    "as their mother tongue and as the language they speak most often at home. \n",
    "What do we see when considering the second part of our exploratory question? \n",
    "Do we see a difference in the relationship\n",
    "between languages spoken as a mother tongue and as a primary language\n",
    "at home across the higher-level language categories? \n",
    "Based on {numref}`can_lang_plot_theme`, there does not\n",
    "appear to be much of a difference.\n",
    "For each higher-level language category, \n",
    "there appears to be a strong, positive, and linear relationship between \n",
    "the percentage of people who speak a language as their mother tongue \n",
    "and the percentage who speak it as their primary language at home. \n",
    "The relationship looks similar regardless of the category. \n",
    "\n",
    "Does this mean that this relationship is positive for all languages in the\n",
    "world? And further, can we use this data visualization on its own to predict how many people\n",
    "have a given language as their mother tongue if we know how many people speak\n",
    "it as their primary language at home? The answer to both these questions is\n",
    "\"no!\" However, with exploratory data analysis, we can create new hypotheses,\n",
    "ideas, and questions (like the ones at the beginning of this paragraph).\n",
    "Answering those questions often involves doing more complex analyses, and sometimes\n",
    "even gathering additional data. We will see more of such complex analyses later on in \n",
    "this book.  \n",
    "\n",
    "\n",
    "\n",
    "### Bar plots: the island landmass data set\n",
    "The `islands.csv` data set \\index{Island landmasses} contains a list of Earth's landmasses as well as their area (in thousands of square miles) [@islandsdata]. \n",
    "\n",
    "**Question:** \\index{question!visualization} Are the continents (North / South America, Africa, Europe, Asia, Australia, Antarctica) Earth's seven largest landmasses? If so, what are the next few largest landmasses after those?\n",
    "\n",
    "\n",
    "\n",
    "To get started, we will read and inspect the data:"
   ]
  },
  {
   "cell_type": "code",
   "execution_count": 40,
   "id": "738c5e73",
   "metadata": {},
   "outputs": [
    {
     "data": {
      "text/html": [
       "<div>\n",
       "<style scoped>\n",
       "    .dataframe tbody tr th:only-of-type {\n",
       "        vertical-align: middle;\n",
       "    }\n",
       "\n",
       "    .dataframe tbody tr th {\n",
       "        vertical-align: top;\n",
       "    }\n",
       "\n",
       "    .dataframe thead th {\n",
       "        text-align: right;\n",
       "    }\n",
       "</style>\n",
       "<table border=\"1\" class=\"dataframe\">\n",
       "  <thead>\n",
       "    <tr style=\"text-align: right;\">\n",
       "      <th></th>\n",
       "      <th>landmass</th>\n",
       "      <th>size</th>\n",
       "      <th>landmass_type</th>\n",
       "    </tr>\n",
       "  </thead>\n",
       "  <tbody>\n",
       "    <tr>\n",
       "      <th>0</th>\n",
       "      <td>Africa</td>\n",
       "      <td>11506</td>\n",
       "      <td>Continent</td>\n",
       "    </tr>\n",
       "    <tr>\n",
       "      <th>1</th>\n",
       "      <td>Antarctica</td>\n",
       "      <td>5500</td>\n",
       "      <td>Continent</td>\n",
       "    </tr>\n",
       "    <tr>\n",
       "      <th>2</th>\n",
       "      <td>Asia</td>\n",
       "      <td>16988</td>\n",
       "      <td>Continent</td>\n",
       "    </tr>\n",
       "    <tr>\n",
       "      <th>3</th>\n",
       "      <td>Australia</td>\n",
       "      <td>2968</td>\n",
       "      <td>Continent</td>\n",
       "    </tr>\n",
       "    <tr>\n",
       "      <th>4</th>\n",
       "      <td>Axel Heiberg</td>\n",
       "      <td>16</td>\n",
       "      <td>Other</td>\n",
       "    </tr>\n",
       "    <tr>\n",
       "      <th>5</th>\n",
       "      <td>Baffin</td>\n",
       "      <td>184</td>\n",
       "      <td>Other</td>\n",
       "    </tr>\n",
       "    <tr>\n",
       "      <th>6</th>\n",
       "      <td>Banks</td>\n",
       "      <td>23</td>\n",
       "      <td>Other</td>\n",
       "    </tr>\n",
       "    <tr>\n",
       "      <th>7</th>\n",
       "      <td>Borneo</td>\n",
       "      <td>280</td>\n",
       "      <td>Other</td>\n",
       "    </tr>\n",
       "    <tr>\n",
       "      <th>8</th>\n",
       "      <td>Britain</td>\n",
       "      <td>84</td>\n",
       "      <td>Other</td>\n",
       "    </tr>\n",
       "    <tr>\n",
       "      <th>9</th>\n",
       "      <td>Celebes</td>\n",
       "      <td>73</td>\n",
       "      <td>Other</td>\n",
       "    </tr>\n",
       "    <tr>\n",
       "      <th>10</th>\n",
       "      <td>Celon</td>\n",
       "      <td>25</td>\n",
       "      <td>Other</td>\n",
       "    </tr>\n",
       "    <tr>\n",
       "      <th>11</th>\n",
       "      <td>Cuba</td>\n",
       "      <td>43</td>\n",
       "      <td>Other</td>\n",
       "    </tr>\n",
       "    <tr>\n",
       "      <th>12</th>\n",
       "      <td>Devon</td>\n",
       "      <td>21</td>\n",
       "      <td>Other</td>\n",
       "    </tr>\n",
       "    <tr>\n",
       "      <th>13</th>\n",
       "      <td>Ellesmere</td>\n",
       "      <td>82</td>\n",
       "      <td>Other</td>\n",
       "    </tr>\n",
       "    <tr>\n",
       "      <th>14</th>\n",
       "      <td>Europe</td>\n",
       "      <td>3745</td>\n",
       "      <td>Continent</td>\n",
       "    </tr>\n",
       "    <tr>\n",
       "      <th>15</th>\n",
       "      <td>Greenland</td>\n",
       "      <td>840</td>\n",
       "      <td>Other</td>\n",
       "    </tr>\n",
       "    <tr>\n",
       "      <th>16</th>\n",
       "      <td>Hainan</td>\n",
       "      <td>13</td>\n",
       "      <td>Other</td>\n",
       "    </tr>\n",
       "    <tr>\n",
       "      <th>17</th>\n",
       "      <td>Hispaniola</td>\n",
       "      <td>30</td>\n",
       "      <td>Other</td>\n",
       "    </tr>\n",
       "    <tr>\n",
       "      <th>18</th>\n",
       "      <td>Hokkaido</td>\n",
       "      <td>30</td>\n",
       "      <td>Other</td>\n",
       "    </tr>\n",
       "    <tr>\n",
       "      <th>19</th>\n",
       "      <td>Honshu</td>\n",
       "      <td>89</td>\n",
       "      <td>Other</td>\n",
       "    </tr>\n",
       "    <tr>\n",
       "      <th>20</th>\n",
       "      <td>Iceland</td>\n",
       "      <td>40</td>\n",
       "      <td>Other</td>\n",
       "    </tr>\n",
       "    <tr>\n",
       "      <th>21</th>\n",
       "      <td>Ireland</td>\n",
       "      <td>33</td>\n",
       "      <td>Other</td>\n",
       "    </tr>\n",
       "    <tr>\n",
       "      <th>22</th>\n",
       "      <td>Java</td>\n",
       "      <td>49</td>\n",
       "      <td>Other</td>\n",
       "    </tr>\n",
       "    <tr>\n",
       "      <th>23</th>\n",
       "      <td>Kyushu</td>\n",
       "      <td>14</td>\n",
       "      <td>Other</td>\n",
       "    </tr>\n",
       "    <tr>\n",
       "      <th>24</th>\n",
       "      <td>Luzon</td>\n",
       "      <td>42</td>\n",
       "      <td>Other</td>\n",
       "    </tr>\n",
       "    <tr>\n",
       "      <th>25</th>\n",
       "      <td>Madagascar</td>\n",
       "      <td>227</td>\n",
       "      <td>Other</td>\n",
       "    </tr>\n",
       "    <tr>\n",
       "      <th>26</th>\n",
       "      <td>Melville</td>\n",
       "      <td>16</td>\n",
       "      <td>Other</td>\n",
       "    </tr>\n",
       "    <tr>\n",
       "      <th>27</th>\n",
       "      <td>Mindanao</td>\n",
       "      <td>36</td>\n",
       "      <td>Other</td>\n",
       "    </tr>\n",
       "    <tr>\n",
       "      <th>28</th>\n",
       "      <td>Moluccas</td>\n",
       "      <td>29</td>\n",
       "      <td>Other</td>\n",
       "    </tr>\n",
       "    <tr>\n",
       "      <th>29</th>\n",
       "      <td>New Britain</td>\n",
       "      <td>15</td>\n",
       "      <td>Other</td>\n",
       "    </tr>\n",
       "    <tr>\n",
       "      <th>30</th>\n",
       "      <td>New Guinea</td>\n",
       "      <td>306</td>\n",
       "      <td>Other</td>\n",
       "    </tr>\n",
       "    <tr>\n",
       "      <th>31</th>\n",
       "      <td>New Zealand (N)</td>\n",
       "      <td>44</td>\n",
       "      <td>Other</td>\n",
       "    </tr>\n",
       "    <tr>\n",
       "      <th>32</th>\n",
       "      <td>New Zealand (S)</td>\n",
       "      <td>58</td>\n",
       "      <td>Other</td>\n",
       "    </tr>\n",
       "    <tr>\n",
       "      <th>33</th>\n",
       "      <td>Newfoundland</td>\n",
       "      <td>43</td>\n",
       "      <td>Other</td>\n",
       "    </tr>\n",
       "    <tr>\n",
       "      <th>34</th>\n",
       "      <td>North America</td>\n",
       "      <td>9390</td>\n",
       "      <td>Continent</td>\n",
       "    </tr>\n",
       "    <tr>\n",
       "      <th>35</th>\n",
       "      <td>Novaya Zemlya</td>\n",
       "      <td>32</td>\n",
       "      <td>Other</td>\n",
       "    </tr>\n",
       "    <tr>\n",
       "      <th>36</th>\n",
       "      <td>Prince of Wales</td>\n",
       "      <td>13</td>\n",
       "      <td>Other</td>\n",
       "    </tr>\n",
       "    <tr>\n",
       "      <th>37</th>\n",
       "      <td>Sakhalin</td>\n",
       "      <td>29</td>\n",
       "      <td>Other</td>\n",
       "    </tr>\n",
       "    <tr>\n",
       "      <th>38</th>\n",
       "      <td>South America</td>\n",
       "      <td>6795</td>\n",
       "      <td>Continent</td>\n",
       "    </tr>\n",
       "    <tr>\n",
       "      <th>39</th>\n",
       "      <td>Southampton</td>\n",
       "      <td>16</td>\n",
       "      <td>Other</td>\n",
       "    </tr>\n",
       "    <tr>\n",
       "      <th>40</th>\n",
       "      <td>Spitsbergen</td>\n",
       "      <td>15</td>\n",
       "      <td>Other</td>\n",
       "    </tr>\n",
       "    <tr>\n",
       "      <th>41</th>\n",
       "      <td>Sumatra</td>\n",
       "      <td>183</td>\n",
       "      <td>Other</td>\n",
       "    </tr>\n",
       "    <tr>\n",
       "      <th>42</th>\n",
       "      <td>Taiwan</td>\n",
       "      <td>14</td>\n",
       "      <td>Other</td>\n",
       "    </tr>\n",
       "    <tr>\n",
       "      <th>43</th>\n",
       "      <td>Tasmania</td>\n",
       "      <td>26</td>\n",
       "      <td>Other</td>\n",
       "    </tr>\n",
       "    <tr>\n",
       "      <th>44</th>\n",
       "      <td>Tierra del Fuego</td>\n",
       "      <td>19</td>\n",
       "      <td>Other</td>\n",
       "    </tr>\n",
       "    <tr>\n",
       "      <th>45</th>\n",
       "      <td>Timor</td>\n",
       "      <td>13</td>\n",
       "      <td>Other</td>\n",
       "    </tr>\n",
       "    <tr>\n",
       "      <th>46</th>\n",
       "      <td>Vancouver</td>\n",
       "      <td>12</td>\n",
       "      <td>Other</td>\n",
       "    </tr>\n",
       "    <tr>\n",
       "      <th>47</th>\n",
       "      <td>Victoria</td>\n",
       "      <td>82</td>\n",
       "      <td>Other</td>\n",
       "    </tr>\n",
       "  </tbody>\n",
       "</table>\n",
       "</div>"
      ],
      "text/plain": [
       "            landmass   size landmass_type\n",
       "0             Africa  11506     Continent\n",
       "1         Antarctica   5500     Continent\n",
       "2               Asia  16988     Continent\n",
       "3          Australia   2968     Continent\n",
       "4       Axel Heiberg     16         Other\n",
       "5             Baffin    184         Other\n",
       "6              Banks     23         Other\n",
       "7             Borneo    280         Other\n",
       "8            Britain     84         Other\n",
       "9            Celebes     73         Other\n",
       "10             Celon     25         Other\n",
       "11              Cuba     43         Other\n",
       "12             Devon     21         Other\n",
       "13         Ellesmere     82         Other\n",
       "14            Europe   3745     Continent\n",
       "15         Greenland    840         Other\n",
       "16            Hainan     13         Other\n",
       "17        Hispaniola     30         Other\n",
       "18          Hokkaido     30         Other\n",
       "19            Honshu     89         Other\n",
       "20           Iceland     40         Other\n",
       "21           Ireland     33         Other\n",
       "22              Java     49         Other\n",
       "23            Kyushu     14         Other\n",
       "24             Luzon     42         Other\n",
       "25        Madagascar    227         Other\n",
       "26          Melville     16         Other\n",
       "27          Mindanao     36         Other\n",
       "28          Moluccas     29         Other\n",
       "29       New Britain     15         Other\n",
       "30        New Guinea    306         Other\n",
       "31   New Zealand (N)     44         Other\n",
       "32   New Zealand (S)     58         Other\n",
       "33      Newfoundland     43         Other\n",
       "34     North America   9390     Continent\n",
       "35     Novaya Zemlya     32         Other\n",
       "36   Prince of Wales     13         Other\n",
       "37          Sakhalin     29         Other\n",
       "38     South America   6795     Continent\n",
       "39       Southampton     16         Other\n",
       "40       Spitsbergen     15         Other\n",
       "41           Sumatra    183         Other\n",
       "42            Taiwan     14         Other\n",
       "43          Tasmania     26         Other\n",
       "44  Tierra del Fuego     19         Other\n",
       "45             Timor     13         Other\n",
       "46         Vancouver     12         Other\n",
       "47          Victoria     82         Other"
      ]
     },
     "execution_count": 40,
     "metadata": {},
     "output_type": "execute_result"
    }
   ],
   "source": [
    "islands_df = pd.read_csv(\"data/islands.csv\")\n",
    "islands_df"
   ]
  },
  {
   "cell_type": "markdown",
   "id": "ec9d5c6f",
   "metadata": {},
   "source": [
    "Here, we have a data frame of Earth's landmasses, \n",
    "and are trying to compare their sizes. \n",
    "The right type of visualization to answer this question is a bar plot. \n",
    "In a bar plot, the height of the bar represents the value of a summary statistic \n",
    "(usually a size, count, proportion or percentage).\n",
    "They are particularly useful for comparing summary statistics between different\n",
    "groups of a categorical variable.\n",
    "\n",
    "We specify that we would like to use a bar plot\n",
    "via the `mark_bar` function in `altair`. \n",
    "The result is shown in {numref}`islands_bar`\n",
    "\\index{ggplot!geom\\_bar}"
   ]
  },
  {
   "cell_type": "code",
   "execution_count": 41,
   "id": "3323bdba",
   "metadata": {},
   "outputs": [],
   "source": [
    "islands_bar = alt.Chart(islands_df).mark_bar().encode(\n",
    "    x = \"landmass\", y = \"size\")\n"
   ]
  },
  {
   "cell_type": "code",
   "execution_count": 42,
   "id": "a75d6138",
   "metadata": {
    "tags": [
     "remove-cell"
    ]
   },
   "outputs": [
    {
     "data": {
      "text/html": [
       "\n",
       "<div id=\"altair-viz-7f4b0d1b30224b89827b6dbbd88935d7\"></div>\n",
       "<script type=\"text/javascript\">\n",
       "  var VEGA_DEBUG = (typeof VEGA_DEBUG == \"undefined\") ? {} : VEGA_DEBUG;\n",
       "  (function(spec, embedOpt){\n",
       "    let outputDiv = document.currentScript.previousElementSibling;\n",
       "    if (outputDiv.id !== \"altair-viz-7f4b0d1b30224b89827b6dbbd88935d7\") {\n",
       "      outputDiv = document.getElementById(\"altair-viz-7f4b0d1b30224b89827b6dbbd88935d7\");\n",
       "    }\n",
       "    const paths = {\n",
       "      \"vega\": \"https://cdn.jsdelivr.net/npm//vega@5?noext\",\n",
       "      \"vega-lib\": \"https://cdn.jsdelivr.net/npm//vega-lib?noext\",\n",
       "      \"vega-lite\": \"https://cdn.jsdelivr.net/npm//vega-lite@4.17.0?noext\",\n",
       "      \"vega-embed\": \"https://cdn.jsdelivr.net/npm//vega-embed@6?noext\",\n",
       "    };\n",
       "\n",
       "    function maybeLoadScript(lib, version) {\n",
       "      var key = `${lib.replace(\"-\", \"\")}_version`;\n",
       "      return (VEGA_DEBUG[key] == version) ?\n",
       "        Promise.resolve(paths[lib]) :\n",
       "        new Promise(function(resolve, reject) {\n",
       "          var s = document.createElement('script');\n",
       "          document.getElementsByTagName(\"head\")[0].appendChild(s);\n",
       "          s.async = true;\n",
       "          s.onload = () => {\n",
       "            VEGA_DEBUG[key] = version;\n",
       "            return resolve(paths[lib]);\n",
       "          };\n",
       "          s.onerror = () => reject(`Error loading script: ${paths[lib]}`);\n",
       "          s.src = paths[lib];\n",
       "        });\n",
       "    }\n",
       "\n",
       "    function showError(err) {\n",
       "      outputDiv.innerHTML = `<div class=\"error\" style=\"color:red;\">${err}</div>`;\n",
       "      throw err;\n",
       "    }\n",
       "\n",
       "    function displayChart(vegaEmbed) {\n",
       "      vegaEmbed(outputDiv, spec, embedOpt)\n",
       "        .catch(err => showError(`Javascript Error: ${err.message}<br>This usually means there's a typo in your chart specification. See the javascript console for the full traceback.`));\n",
       "    }\n",
       "\n",
       "    if(typeof define === \"function\" && define.amd) {\n",
       "      requirejs.config({paths});\n",
       "      require([\"vega-embed\"], displayChart, err => showError(`Error loading script: ${err.message}`));\n",
       "    } else {\n",
       "      maybeLoadScript(\"vega\", \"5\")\n",
       "        .then(() => maybeLoadScript(\"vega-lite\", \"4.17.0\"))\n",
       "        .then(() => maybeLoadScript(\"vega-embed\", \"6\"))\n",
       "        .catch(showError)\n",
       "        .then(() => displayChart(vegaEmbed));\n",
       "    }\n",
       "  })({\"config\": {\"view\": {\"continuousWidth\": 400, \"continuousHeight\": 300}}, \"data\": {\"name\": \"data-10b25339475a145d1ddecffe37b058c0\"}, \"mark\": \"bar\", \"encoding\": {\"x\": {\"field\": \"landmass\", \"type\": \"nominal\"}, \"y\": {\"field\": \"size\", \"type\": \"quantitative\"}}, \"$schema\": \"https://vega.github.io/schema/vega-lite/v4.17.0.json\", \"datasets\": {\"data-10b25339475a145d1ddecffe37b058c0\": [{\"landmass\": \"Africa\", \"size\": 11506, \"landmass_type\": \"Continent\"}, {\"landmass\": \"Antarctica\", \"size\": 5500, \"landmass_type\": \"Continent\"}, {\"landmass\": \"Asia\", \"size\": 16988, \"landmass_type\": \"Continent\"}, {\"landmass\": \"Australia\", \"size\": 2968, \"landmass_type\": \"Continent\"}, {\"landmass\": \"Axel Heiberg\", \"size\": 16, \"landmass_type\": \"Other\"}, {\"landmass\": \"Baffin\", \"size\": 184, \"landmass_type\": \"Other\"}, {\"landmass\": \"Banks\", \"size\": 23, \"landmass_type\": \"Other\"}, {\"landmass\": \"Borneo\", \"size\": 280, \"landmass_type\": \"Other\"}, {\"landmass\": \"Britain\", \"size\": 84, \"landmass_type\": \"Other\"}, {\"landmass\": \"Celebes\", \"size\": 73, \"landmass_type\": \"Other\"}, {\"landmass\": \"Celon\", \"size\": 25, \"landmass_type\": \"Other\"}, {\"landmass\": \"Cuba\", \"size\": 43, \"landmass_type\": \"Other\"}, {\"landmass\": \"Devon\", \"size\": 21, \"landmass_type\": \"Other\"}, {\"landmass\": \"Ellesmere\", \"size\": 82, \"landmass_type\": \"Other\"}, {\"landmass\": \"Europe\", \"size\": 3745, \"landmass_type\": \"Continent\"}, {\"landmass\": \"Greenland\", \"size\": 840, \"landmass_type\": \"Other\"}, {\"landmass\": \"Hainan\", \"size\": 13, \"landmass_type\": \"Other\"}, {\"landmass\": \"Hispaniola\", \"size\": 30, \"landmass_type\": \"Other\"}, {\"landmass\": \"Hokkaido\", \"size\": 30, \"landmass_type\": \"Other\"}, {\"landmass\": \"Honshu\", \"size\": 89, \"landmass_type\": \"Other\"}, {\"landmass\": \"Iceland\", \"size\": 40, \"landmass_type\": \"Other\"}, {\"landmass\": \"Ireland\", \"size\": 33, \"landmass_type\": \"Other\"}, {\"landmass\": \"Java\", \"size\": 49, \"landmass_type\": \"Other\"}, {\"landmass\": \"Kyushu\", \"size\": 14, \"landmass_type\": \"Other\"}, {\"landmass\": \"Luzon\", \"size\": 42, \"landmass_type\": \"Other\"}, {\"landmass\": \"Madagascar\", \"size\": 227, \"landmass_type\": \"Other\"}, {\"landmass\": \"Melville\", \"size\": 16, \"landmass_type\": \"Other\"}, {\"landmass\": \"Mindanao\", \"size\": 36, \"landmass_type\": \"Other\"}, {\"landmass\": \"Moluccas\", \"size\": 29, \"landmass_type\": \"Other\"}, {\"landmass\": \"New Britain\", \"size\": 15, \"landmass_type\": \"Other\"}, {\"landmass\": \"New Guinea\", \"size\": 306, \"landmass_type\": \"Other\"}, {\"landmass\": \"New Zealand (N)\", \"size\": 44, \"landmass_type\": \"Other\"}, {\"landmass\": \"New Zealand (S)\", \"size\": 58, \"landmass_type\": \"Other\"}, {\"landmass\": \"Newfoundland\", \"size\": 43, \"landmass_type\": \"Other\"}, {\"landmass\": \"North America\", \"size\": 9390, \"landmass_type\": \"Continent\"}, {\"landmass\": \"Novaya Zemlya\", \"size\": 32, \"landmass_type\": \"Other\"}, {\"landmass\": \"Prince of Wales\", \"size\": 13, \"landmass_type\": \"Other\"}, {\"landmass\": \"Sakhalin\", \"size\": 29, \"landmass_type\": \"Other\"}, {\"landmass\": \"South America\", \"size\": 6795, \"landmass_type\": \"Continent\"}, {\"landmass\": \"Southampton\", \"size\": 16, \"landmass_type\": \"Other\"}, {\"landmass\": \"Spitsbergen\", \"size\": 15, \"landmass_type\": \"Other\"}, {\"landmass\": \"Sumatra\", \"size\": 183, \"landmass_type\": \"Other\"}, {\"landmass\": \"Taiwan\", \"size\": 14, \"landmass_type\": \"Other\"}, {\"landmass\": \"Tasmania\", \"size\": 26, \"landmass_type\": \"Other\"}, {\"landmass\": \"Tierra del Fuego\", \"size\": 19, \"landmass_type\": \"Other\"}, {\"landmass\": \"Timor\", \"size\": 13, \"landmass_type\": \"Other\"}, {\"landmass\": \"Vancouver\", \"size\": 12, \"landmass_type\": \"Other\"}, {\"landmass\": \"Victoria\", \"size\": 82, \"landmass_type\": \"Other\"}]}}, {\"mode\": \"vega-lite\"});\n",
       "</script>"
      ],
      "text/plain": [
       "alt.Chart(...)"
      ]
     },
     "metadata": {
      "scrapbook": {
       "mime_prefix": "application/papermill.record/",
       "name": "islands_bar"
      }
     },
     "output_type": "display_data"
    }
   ],
   "source": [
    "glue('islands_bar', islands_bar, display=False)"
   ]
  },
  {
   "cell_type": "markdown",
   "id": "7396fd9a",
   "metadata": {},
   "source": [
    ":::{glue:figure} islands_bar\n",
    ":figwidth: 700px \n",
    ":name: islands_bar\n",
    "\n",
    "Bar plot of all Earth's landmasses' size with squished labels.\n",
    ":::\n",
    "\n",
    "Alright, not bad! The plot in {numref}`islands_bar` is\n",
    "definitely the right kind of visualization, as we can clearly see and compare\n",
    "sizes of landmasses. The major issues are that the smaller landmasses' sizes\n",
    "are hard to distinguish, and the names of the landmasses are tilted by default to fit in the labels. But remember that the\n",
    "question we asked was only about the largest landmasses; let's make the plot a\n",
    "little bit clearer by keeping only the largest 12 landmasses. We do this using\n",
    "the `sort_values` function followed by the `iloc` property.  Then to help us make sure the labels have enough\n",
    "space, we'll use horizontal bars instead of vertical ones. We do this by\n",
    "swapping the `x` and `y` variables:\n",
    "\\index{slice\\_max}"
   ]
  },
  {
   "cell_type": "code",
   "execution_count": 43,
   "id": "1aa462e1",
   "metadata": {},
   "outputs": [],
   "source": [
    "islands_top12 = islands_df.sort_values(by = \"size\", ascending=False).iloc[:12] \n",
    "\n",
    "islands_bar_sorted = alt.Chart(islands_top12).mark_bar().encode(\n",
    "    x = \"size\", y = \"landmass\")\n",
    "\n",
    "\n"
   ]
  },
  {
   "cell_type": "code",
   "execution_count": 44,
   "id": "99a126de",
   "metadata": {
    "tags": [
     "remove-cell"
    ]
   },
   "outputs": [
    {
     "data": {
      "text/html": [
       "\n",
       "<div id=\"altair-viz-78c8af28bee642a289010a6c20b6cebc\"></div>\n",
       "<script type=\"text/javascript\">\n",
       "  var VEGA_DEBUG = (typeof VEGA_DEBUG == \"undefined\") ? {} : VEGA_DEBUG;\n",
       "  (function(spec, embedOpt){\n",
       "    let outputDiv = document.currentScript.previousElementSibling;\n",
       "    if (outputDiv.id !== \"altair-viz-78c8af28bee642a289010a6c20b6cebc\") {\n",
       "      outputDiv = document.getElementById(\"altair-viz-78c8af28bee642a289010a6c20b6cebc\");\n",
       "    }\n",
       "    const paths = {\n",
       "      \"vega\": \"https://cdn.jsdelivr.net/npm//vega@5?noext\",\n",
       "      \"vega-lib\": \"https://cdn.jsdelivr.net/npm//vega-lib?noext\",\n",
       "      \"vega-lite\": \"https://cdn.jsdelivr.net/npm//vega-lite@4.17.0?noext\",\n",
       "      \"vega-embed\": \"https://cdn.jsdelivr.net/npm//vega-embed@6?noext\",\n",
       "    };\n",
       "\n",
       "    function maybeLoadScript(lib, version) {\n",
       "      var key = `${lib.replace(\"-\", \"\")}_version`;\n",
       "      return (VEGA_DEBUG[key] == version) ?\n",
       "        Promise.resolve(paths[lib]) :\n",
       "        new Promise(function(resolve, reject) {\n",
       "          var s = document.createElement('script');\n",
       "          document.getElementsByTagName(\"head\")[0].appendChild(s);\n",
       "          s.async = true;\n",
       "          s.onload = () => {\n",
       "            VEGA_DEBUG[key] = version;\n",
       "            return resolve(paths[lib]);\n",
       "          };\n",
       "          s.onerror = () => reject(`Error loading script: ${paths[lib]}`);\n",
       "          s.src = paths[lib];\n",
       "        });\n",
       "    }\n",
       "\n",
       "    function showError(err) {\n",
       "      outputDiv.innerHTML = `<div class=\"error\" style=\"color:red;\">${err}</div>`;\n",
       "      throw err;\n",
       "    }\n",
       "\n",
       "    function displayChart(vegaEmbed) {\n",
       "      vegaEmbed(outputDiv, spec, embedOpt)\n",
       "        .catch(err => showError(`Javascript Error: ${err.message}<br>This usually means there's a typo in your chart specification. See the javascript console for the full traceback.`));\n",
       "    }\n",
       "\n",
       "    if(typeof define === \"function\" && define.amd) {\n",
       "      requirejs.config({paths});\n",
       "      require([\"vega-embed\"], displayChart, err => showError(`Error loading script: ${err.message}`));\n",
       "    } else {\n",
       "      maybeLoadScript(\"vega\", \"5\")\n",
       "        .then(() => maybeLoadScript(\"vega-lite\", \"4.17.0\"))\n",
       "        .then(() => maybeLoadScript(\"vega-embed\", \"6\"))\n",
       "        .catch(showError)\n",
       "        .then(() => displayChart(vegaEmbed));\n",
       "    }\n",
       "  })({\"config\": {\"view\": {\"continuousWidth\": 400, \"continuousHeight\": 300}}, \"data\": {\"name\": \"data-fc42ac9d8b1aea32d6771c4751ec3ae8\"}, \"mark\": \"bar\", \"encoding\": {\"x\": {\"field\": \"size\", \"type\": \"quantitative\"}, \"y\": {\"field\": \"landmass\", \"type\": \"nominal\"}}, \"$schema\": \"https://vega.github.io/schema/vega-lite/v4.17.0.json\", \"datasets\": {\"data-fc42ac9d8b1aea32d6771c4751ec3ae8\": [{\"landmass\": \"Asia\", \"size\": 16988, \"landmass_type\": \"Continent\"}, {\"landmass\": \"Africa\", \"size\": 11506, \"landmass_type\": \"Continent\"}, {\"landmass\": \"North America\", \"size\": 9390, \"landmass_type\": \"Continent\"}, {\"landmass\": \"South America\", \"size\": 6795, \"landmass_type\": \"Continent\"}, {\"landmass\": \"Antarctica\", \"size\": 5500, \"landmass_type\": \"Continent\"}, {\"landmass\": \"Europe\", \"size\": 3745, \"landmass_type\": \"Continent\"}, {\"landmass\": \"Australia\", \"size\": 2968, \"landmass_type\": \"Continent\"}, {\"landmass\": \"Greenland\", \"size\": 840, \"landmass_type\": \"Other\"}, {\"landmass\": \"New Guinea\", \"size\": 306, \"landmass_type\": \"Other\"}, {\"landmass\": \"Borneo\", \"size\": 280, \"landmass_type\": \"Other\"}, {\"landmass\": \"Madagascar\", \"size\": 227, \"landmass_type\": \"Other\"}, {\"landmass\": \"Baffin\", \"size\": 184, \"landmass_type\": \"Other\"}]}}, {\"mode\": \"vega-lite\"});\n",
       "</script>"
      ],
      "text/plain": [
       "alt.Chart(...)"
      ]
     },
     "metadata": {
      "scrapbook": {
       "mime_prefix": "",
       "name": "islands_bar_sorted"
      }
     },
     "output_type": "display_data"
    }
   ],
   "source": [
    "glue('islands_bar_sorted', islands_bar_sorted, display=True)"
   ]
  },
  {
   "cell_type": "markdown",
   "id": "031aaebd",
   "metadata": {},
   "source": [
    ":::{glue:figure} islands_bar_sorted\n",
    ":figwidth: 700px \n",
    ":name: islands_bar_sorted\n",
    "\n",
    "Bar plot of size for Earth's largest 12 landmasses.\n",
    ":::\n",
    "\n",
    "\n",
    "\n",
    "\n",
    "The plot in {numref}`islands_bar_sorted` is definitely clearer now, \n",
    "and allows us to answer our question \n",
    "(\"are the top 7 largest landmasses continents?\") in the affirmative. \n",
    "But the question could be made clearer from the plot \n",
    "by organizing the bars not by alphabetical order\n",
    "but by size, and to color them based on whether they are a continent. \n",
    "The data for this is stored in the `landmass_type` column. \n",
    "To use this to color the bars, \n",
    "we use the `color` argument to color the bars according to the `landmass_type`\n",
    "\n",
    "To organize the landmasses by their `size` variable, \n",
    "we will use the `altair` `sort` function\n",
    "in encoding for `y` axis to organize the landmasses by their `size` variable, which is encoded on the x-axis.\n",
    "To sort the landmasses by their size(denoted on `x` axis), we use `sort='x'`. This plots the values on `y` axis\n",
    "in the ascending order of `x` axis values. \n",
    "\n",
    "We do this here so that the largest bar will be closest to the axis line,\n",
    "which is more visually appealing.\n",
    "\n",
    ">> **Note:** If we want to sort the values on `y-axis` in descending order of `x-axis`,\n",
    ">> we need to specify `sort='-x'`.\n",
    "\n",
    "To label the x and y axes, we will use the `alt.X` and `alt.Y` function\n",
    "The default label is the name of the column being mapped to `color`. Here that\n",
    "would be `landmass_type`;\n",
    "however `landmass_type` is not proper English (and so is less readable).\n",
    "Thus we use the `title` argument inside `alt.Color` to change that to \"Type\"\n",
    "Finally, we again \\index{ggplot!reorder} use the `configure_axis` function \n",
    "to change the font size."
   ]
  },
  {
   "cell_type": "code",
   "execution_count": 45,
   "id": "a1e5c3c7",
   "metadata": {},
   "outputs": [],
   "source": [
    "islands_plot_sorted = alt.Chart(islands_top12).mark_bar(color='black').encode(\n",
    "    x = alt.X(\"size\",title = \"Size (1000 square mi)\"),\n",
    "    y = alt.Y(\"landmass\", title = \"Landmass\", sort='x'),\n",
    "    color = alt.Color(\"landmass_type\", title = \"Type\")).configure_axis(\n",
    "    titleFontSize=12)\n"
   ]
  },
  {
   "cell_type": "code",
   "execution_count": 46,
   "id": "6c697c7a",
   "metadata": {
    "tags": [
     "remove-cell"
    ]
   },
   "outputs": [
    {
     "data": {
      "text/html": [
       "\n",
       "<div id=\"altair-viz-5970c7b49ac24f768632fdf78b73208f\"></div>\n",
       "<script type=\"text/javascript\">\n",
       "  var VEGA_DEBUG = (typeof VEGA_DEBUG == \"undefined\") ? {} : VEGA_DEBUG;\n",
       "  (function(spec, embedOpt){\n",
       "    let outputDiv = document.currentScript.previousElementSibling;\n",
       "    if (outputDiv.id !== \"altair-viz-5970c7b49ac24f768632fdf78b73208f\") {\n",
       "      outputDiv = document.getElementById(\"altair-viz-5970c7b49ac24f768632fdf78b73208f\");\n",
       "    }\n",
       "    const paths = {\n",
       "      \"vega\": \"https://cdn.jsdelivr.net/npm//vega@5?noext\",\n",
       "      \"vega-lib\": \"https://cdn.jsdelivr.net/npm//vega-lib?noext\",\n",
       "      \"vega-lite\": \"https://cdn.jsdelivr.net/npm//vega-lite@4.17.0?noext\",\n",
       "      \"vega-embed\": \"https://cdn.jsdelivr.net/npm//vega-embed@6?noext\",\n",
       "    };\n",
       "\n",
       "    function maybeLoadScript(lib, version) {\n",
       "      var key = `${lib.replace(\"-\", \"\")}_version`;\n",
       "      return (VEGA_DEBUG[key] == version) ?\n",
       "        Promise.resolve(paths[lib]) :\n",
       "        new Promise(function(resolve, reject) {\n",
       "          var s = document.createElement('script');\n",
       "          document.getElementsByTagName(\"head\")[0].appendChild(s);\n",
       "          s.async = true;\n",
       "          s.onload = () => {\n",
       "            VEGA_DEBUG[key] = version;\n",
       "            return resolve(paths[lib]);\n",
       "          };\n",
       "          s.onerror = () => reject(`Error loading script: ${paths[lib]}`);\n",
       "          s.src = paths[lib];\n",
       "        });\n",
       "    }\n",
       "\n",
       "    function showError(err) {\n",
       "      outputDiv.innerHTML = `<div class=\"error\" style=\"color:red;\">${err}</div>`;\n",
       "      throw err;\n",
       "    }\n",
       "\n",
       "    function displayChart(vegaEmbed) {\n",
       "      vegaEmbed(outputDiv, spec, embedOpt)\n",
       "        .catch(err => showError(`Javascript Error: ${err.message}<br>This usually means there's a typo in your chart specification. See the javascript console for the full traceback.`));\n",
       "    }\n",
       "\n",
       "    if(typeof define === \"function\" && define.amd) {\n",
       "      requirejs.config({paths});\n",
       "      require([\"vega-embed\"], displayChart, err => showError(`Error loading script: ${err.message}`));\n",
       "    } else {\n",
       "      maybeLoadScript(\"vega\", \"5\")\n",
       "        .then(() => maybeLoadScript(\"vega-lite\", \"4.17.0\"))\n",
       "        .then(() => maybeLoadScript(\"vega-embed\", \"6\"))\n",
       "        .catch(showError)\n",
       "        .then(() => displayChart(vegaEmbed));\n",
       "    }\n",
       "  })({\"config\": {\"view\": {\"continuousWidth\": 400, \"continuousHeight\": 300}, \"axis\": {\"titleFontSize\": 12}}, \"data\": {\"name\": \"data-fc42ac9d8b1aea32d6771c4751ec3ae8\"}, \"mark\": {\"type\": \"bar\", \"color\": \"black\"}, \"encoding\": {\"color\": {\"field\": \"landmass_type\", \"title\": \"Type\", \"type\": \"nominal\"}, \"x\": {\"field\": \"size\", \"title\": \"Size (1000 square mi)\", \"type\": \"quantitative\"}, \"y\": {\"field\": \"landmass\", \"sort\": \"x\", \"title\": \"Landmass\", \"type\": \"nominal\"}}, \"$schema\": \"https://vega.github.io/schema/vega-lite/v4.17.0.json\", \"datasets\": {\"data-fc42ac9d8b1aea32d6771c4751ec3ae8\": [{\"landmass\": \"Asia\", \"size\": 16988, \"landmass_type\": \"Continent\"}, {\"landmass\": \"Africa\", \"size\": 11506, \"landmass_type\": \"Continent\"}, {\"landmass\": \"North America\", \"size\": 9390, \"landmass_type\": \"Continent\"}, {\"landmass\": \"South America\", \"size\": 6795, \"landmass_type\": \"Continent\"}, {\"landmass\": \"Antarctica\", \"size\": 5500, \"landmass_type\": \"Continent\"}, {\"landmass\": \"Europe\", \"size\": 3745, \"landmass_type\": \"Continent\"}, {\"landmass\": \"Australia\", \"size\": 2968, \"landmass_type\": \"Continent\"}, {\"landmass\": \"Greenland\", \"size\": 840, \"landmass_type\": \"Other\"}, {\"landmass\": \"New Guinea\", \"size\": 306, \"landmass_type\": \"Other\"}, {\"landmass\": \"Borneo\", \"size\": 280, \"landmass_type\": \"Other\"}, {\"landmass\": \"Madagascar\", \"size\": 227, \"landmass_type\": \"Other\"}, {\"landmass\": \"Baffin\", \"size\": 184, \"landmass_type\": \"Other\"}]}}, {\"mode\": \"vega-lite\"});\n",
       "</script>"
      ],
      "text/plain": [
       "alt.Chart(...)"
      ]
     },
     "metadata": {
      "scrapbook": {
       "mime_prefix": "",
       "name": "islands_plot_sorted"
      }
     },
     "output_type": "display_data"
    }
   ],
   "source": [
    "glue('islands_plot_sorted', islands_plot_sorted, display=True)"
   ]
  },
  {
   "cell_type": "markdown",
   "id": "0356eb45",
   "metadata": {},
   "source": [
    ":::{glue:figure} islands_plot_sorted\n",
    ":figwidth: 700px \n",
    ":name: islands_plot_sorted\n",
    "\n",
    "Bar plot of size for Earth's largest 12 landmasses colored by whether its a continent with clearer axes and labels.\n",
    ":::\n",
    "\n",
    "\n",
    "The plot in {numref}`islands_plot_sorted ` is now a very effective\n",
    "visualization for answering our original questions. Landmasses are organized by\n",
    "their size, and continents are colored differently than other landmasses,\n",
    "making it quite clear that continents are the largest seven landmasses.\n",
    "\n",
    "### Histograms: the Michelson speed of light data set\n",
    "The `morley` data set \\index{Michelson speed of light} \n",
    "contains measurements of the speed of light \n",
    "collected in experiments performed in 1879.\n",
    "Five experiments were performed, \n",
    "and in each experiment, 20 runs were performed&mdash;meaning that \n",
    "20 measurements of the speed of light were collected \n",
    "in each experiment [@lightdata].\n",
    "\n",
    "Because the speed of light is a very large number \n",
    "(the true value is 299,792.458 km/sec), the data is coded\n",
    "to be the measured speed of light minus 299,000.\n",
    "This coding allows us to focus on the variations in the measurements, which are generally\n",
    "much smaller than 299,000.\n",
    "If we used the full large speed measurements, the variations in the measurements\n",
    "would not be noticeable, making it difficult to study the differences between the experiments.\n",
    "Note that we convert the `morley` data to a tibble to take advantage of the nicer print output \n",
    "these specialized data frames provide.\n",
    "\n",
    "**Question:** \\index{question!visualization} Given what we know now about the speed of \n",
    "light (299,792.458 kilometres per second), how accurate were each of the experiments?\n",
    "\n",
    "First, we read in the data."
   ]
  },
  {
   "cell_type": "code",
   "execution_count": 47,
   "id": "b5ef6e89",
   "metadata": {},
   "outputs": [],
   "source": [
    "morley_df = pd.read_csv(\"data/morley.csv\")"
   ]
  },
  {
   "cell_type": "markdown",
   "id": "b9970651",
   "metadata": {},
   "source": [
    "In this experimental data, \n",
    "Michelson was trying to measure just a single quantitative number \n",
    "(the speed of light). \n",
    "The data set contains many measurements of this single quantity. \n",
    "\\index{distribution} \n",
    "To tell how accurate the experiments were, \n",
    "we need to visualize the distribution of the measurements \n",
    "(i.e., all their possible values and how often each occurs). \n",
    "We can do this using a *histogram*. \n",
    "A histogram \\index{ggplot!histogram} \n",
    "helps us visualize how a particular variable is distributed in a data set \n",
    "by separating the data into bins, \n",
    "and then using vertical bars to show how many data points fell in each bin. \n",
    "\n",
    "To create a histogram in `altair` we will use the `mark_bar` geometric\n",
    "object, setting the `x` axis to the `Speed` measurement variable and `y` axis to `count()`. As usual, \n",
    "let's use the default arguments just to see how things look."
   ]
  },
  {
   "cell_type": "code",
   "execution_count": 48,
   "id": "fbc8a06f",
   "metadata": {},
   "outputs": [],
   "source": [
    "morley_hist = alt.Chart(morley_df).mark_bar().encode(\n",
    "    x = alt.X(\"Speed\"),  \n",
    "    y='count()')\n"
   ]
  },
  {
   "cell_type": "code",
   "execution_count": 49,
   "id": "6fe76ff2",
   "metadata": {
    "tags": [
     "remove-cell"
    ]
   },
   "outputs": [
    {
     "data": {
      "text/html": [
       "\n",
       "<div id=\"altair-viz-14c9491076fd4000b7a7190f9f8a59f9\"></div>\n",
       "<script type=\"text/javascript\">\n",
       "  var VEGA_DEBUG = (typeof VEGA_DEBUG == \"undefined\") ? {} : VEGA_DEBUG;\n",
       "  (function(spec, embedOpt){\n",
       "    let outputDiv = document.currentScript.previousElementSibling;\n",
       "    if (outputDiv.id !== \"altair-viz-14c9491076fd4000b7a7190f9f8a59f9\") {\n",
       "      outputDiv = document.getElementById(\"altair-viz-14c9491076fd4000b7a7190f9f8a59f9\");\n",
       "    }\n",
       "    const paths = {\n",
       "      \"vega\": \"https://cdn.jsdelivr.net/npm//vega@5?noext\",\n",
       "      \"vega-lib\": \"https://cdn.jsdelivr.net/npm//vega-lib?noext\",\n",
       "      \"vega-lite\": \"https://cdn.jsdelivr.net/npm//vega-lite@4.17.0?noext\",\n",
       "      \"vega-embed\": \"https://cdn.jsdelivr.net/npm//vega-embed@6?noext\",\n",
       "    };\n",
       "\n",
       "    function maybeLoadScript(lib, version) {\n",
       "      var key = `${lib.replace(\"-\", \"\")}_version`;\n",
       "      return (VEGA_DEBUG[key] == version) ?\n",
       "        Promise.resolve(paths[lib]) :\n",
       "        new Promise(function(resolve, reject) {\n",
       "          var s = document.createElement('script');\n",
       "          document.getElementsByTagName(\"head\")[0].appendChild(s);\n",
       "          s.async = true;\n",
       "          s.onload = () => {\n",
       "            VEGA_DEBUG[key] = version;\n",
       "            return resolve(paths[lib]);\n",
       "          };\n",
       "          s.onerror = () => reject(`Error loading script: ${paths[lib]}`);\n",
       "          s.src = paths[lib];\n",
       "        });\n",
       "    }\n",
       "\n",
       "    function showError(err) {\n",
       "      outputDiv.innerHTML = `<div class=\"error\" style=\"color:red;\">${err}</div>`;\n",
       "      throw err;\n",
       "    }\n",
       "\n",
       "    function displayChart(vegaEmbed) {\n",
       "      vegaEmbed(outputDiv, spec, embedOpt)\n",
       "        .catch(err => showError(`Javascript Error: ${err.message}<br>This usually means there's a typo in your chart specification. See the javascript console for the full traceback.`));\n",
       "    }\n",
       "\n",
       "    if(typeof define === \"function\" && define.amd) {\n",
       "      requirejs.config({paths});\n",
       "      require([\"vega-embed\"], displayChart, err => showError(`Error loading script: ${err.message}`));\n",
       "    } else {\n",
       "      maybeLoadScript(\"vega\", \"5\")\n",
       "        .then(() => maybeLoadScript(\"vega-lite\", \"4.17.0\"))\n",
       "        .then(() => maybeLoadScript(\"vega-embed\", \"6\"))\n",
       "        .catch(showError)\n",
       "        .then(() => displayChart(vegaEmbed));\n",
       "    }\n",
       "  })({\"config\": {\"view\": {\"continuousWidth\": 400, \"continuousHeight\": 300}}, \"data\": {\"name\": \"data-9505d6e8ffc0fbd66f1f70f18ab69d65\"}, \"mark\": \"bar\", \"encoding\": {\"x\": {\"field\": \"Speed\", \"type\": \"quantitative\"}, \"y\": {\"aggregate\": \"count\", \"type\": \"quantitative\"}}, \"$schema\": \"https://vega.github.io/schema/vega-lite/v4.17.0.json\", \"datasets\": {\"data-9505d6e8ffc0fbd66f1f70f18ab69d65\": [{\"Expt\": 1, \"Run\": 1, \"Speed\": 850}, {\"Expt\": 1, \"Run\": 2, \"Speed\": 740}, {\"Expt\": 1, \"Run\": 3, \"Speed\": 900}, {\"Expt\": 1, \"Run\": 4, \"Speed\": 1070}, {\"Expt\": 1, \"Run\": 5, \"Speed\": 930}, {\"Expt\": 1, \"Run\": 6, \"Speed\": 850}, {\"Expt\": 1, \"Run\": 7, \"Speed\": 950}, {\"Expt\": 1, \"Run\": 8, \"Speed\": 980}, {\"Expt\": 1, \"Run\": 9, \"Speed\": 980}, {\"Expt\": 1, \"Run\": 10, \"Speed\": 880}, {\"Expt\": 1, \"Run\": 11, \"Speed\": 1000}, {\"Expt\": 1, \"Run\": 12, \"Speed\": 980}, {\"Expt\": 1, \"Run\": 13, \"Speed\": 930}, {\"Expt\": 1, \"Run\": 14, \"Speed\": 650}, {\"Expt\": 1, \"Run\": 15, \"Speed\": 760}, {\"Expt\": 1, \"Run\": 16, \"Speed\": 810}, {\"Expt\": 1, \"Run\": 17, \"Speed\": 1000}, {\"Expt\": 1, \"Run\": 18, \"Speed\": 1000}, {\"Expt\": 1, \"Run\": 19, \"Speed\": 960}, {\"Expt\": 1, \"Run\": 20, \"Speed\": 960}, {\"Expt\": 2, \"Run\": 1, \"Speed\": 960}, {\"Expt\": 2, \"Run\": 2, \"Speed\": 940}, {\"Expt\": 2, \"Run\": 3, \"Speed\": 960}, {\"Expt\": 2, \"Run\": 4, \"Speed\": 940}, {\"Expt\": 2, \"Run\": 5, \"Speed\": 880}, {\"Expt\": 2, \"Run\": 6, \"Speed\": 800}, {\"Expt\": 2, \"Run\": 7, \"Speed\": 850}, {\"Expt\": 2, \"Run\": 8, \"Speed\": 880}, {\"Expt\": 2, \"Run\": 9, \"Speed\": 900}, {\"Expt\": 2, \"Run\": 10, \"Speed\": 840}, {\"Expt\": 2, \"Run\": 11, \"Speed\": 830}, {\"Expt\": 2, \"Run\": 12, \"Speed\": 790}, {\"Expt\": 2, \"Run\": 13, \"Speed\": 810}, {\"Expt\": 2, \"Run\": 14, \"Speed\": 880}, {\"Expt\": 2, \"Run\": 15, \"Speed\": 880}, {\"Expt\": 2, \"Run\": 16, \"Speed\": 830}, {\"Expt\": 2, \"Run\": 17, \"Speed\": 800}, {\"Expt\": 2, \"Run\": 18, \"Speed\": 790}, {\"Expt\": 2, \"Run\": 19, \"Speed\": 760}, {\"Expt\": 2, \"Run\": 20, \"Speed\": 800}, {\"Expt\": 3, \"Run\": 1, \"Speed\": 880}, {\"Expt\": 3, \"Run\": 2, \"Speed\": 880}, {\"Expt\": 3, \"Run\": 3, \"Speed\": 880}, {\"Expt\": 3, \"Run\": 4, \"Speed\": 860}, {\"Expt\": 3, \"Run\": 5, \"Speed\": 720}, {\"Expt\": 3, \"Run\": 6, \"Speed\": 720}, {\"Expt\": 3, \"Run\": 7, \"Speed\": 620}, {\"Expt\": 3, \"Run\": 8, \"Speed\": 860}, {\"Expt\": 3, \"Run\": 9, \"Speed\": 970}, {\"Expt\": 3, \"Run\": 10, \"Speed\": 950}, {\"Expt\": 3, \"Run\": 11, \"Speed\": 880}, {\"Expt\": 3, \"Run\": 12, \"Speed\": 910}, {\"Expt\": 3, \"Run\": 13, \"Speed\": 850}, {\"Expt\": 3, \"Run\": 14, \"Speed\": 870}, {\"Expt\": 3, \"Run\": 15, \"Speed\": 840}, {\"Expt\": 3, \"Run\": 16, \"Speed\": 840}, {\"Expt\": 3, \"Run\": 17, \"Speed\": 850}, {\"Expt\": 3, \"Run\": 18, \"Speed\": 840}, {\"Expt\": 3, \"Run\": 19, \"Speed\": 840}, {\"Expt\": 3, \"Run\": 20, \"Speed\": 840}, {\"Expt\": 4, \"Run\": 1, \"Speed\": 890}, {\"Expt\": 4, \"Run\": 2, \"Speed\": 810}, {\"Expt\": 4, \"Run\": 3, \"Speed\": 810}, {\"Expt\": 4, \"Run\": 4, \"Speed\": 820}, {\"Expt\": 4, \"Run\": 5, \"Speed\": 800}, {\"Expt\": 4, \"Run\": 6, \"Speed\": 770}, {\"Expt\": 4, \"Run\": 7, \"Speed\": 760}, {\"Expt\": 4, \"Run\": 8, \"Speed\": 740}, {\"Expt\": 4, \"Run\": 9, \"Speed\": 750}, {\"Expt\": 4, \"Run\": 10, \"Speed\": 760}, {\"Expt\": 4, \"Run\": 11, \"Speed\": 910}, {\"Expt\": 4, \"Run\": 12, \"Speed\": 920}, {\"Expt\": 4, \"Run\": 13, \"Speed\": 890}, {\"Expt\": 4, \"Run\": 14, \"Speed\": 860}, {\"Expt\": 4, \"Run\": 15, \"Speed\": 880}, {\"Expt\": 4, \"Run\": 16, \"Speed\": 720}, {\"Expt\": 4, \"Run\": 17, \"Speed\": 840}, {\"Expt\": 4, \"Run\": 18, \"Speed\": 850}, {\"Expt\": 4, \"Run\": 19, \"Speed\": 850}, {\"Expt\": 4, \"Run\": 20, \"Speed\": 780}, {\"Expt\": 5, \"Run\": 1, \"Speed\": 890}, {\"Expt\": 5, \"Run\": 2, \"Speed\": 840}, {\"Expt\": 5, \"Run\": 3, \"Speed\": 780}, {\"Expt\": 5, \"Run\": 4, \"Speed\": 810}, {\"Expt\": 5, \"Run\": 5, \"Speed\": 760}, {\"Expt\": 5, \"Run\": 6, \"Speed\": 810}, {\"Expt\": 5, \"Run\": 7, \"Speed\": 790}, {\"Expt\": 5, \"Run\": 8, \"Speed\": 810}, {\"Expt\": 5, \"Run\": 9, \"Speed\": 820}, {\"Expt\": 5, \"Run\": 10, \"Speed\": 850}, {\"Expt\": 5, \"Run\": 11, \"Speed\": 870}, {\"Expt\": 5, \"Run\": 12, \"Speed\": 870}, {\"Expt\": 5, \"Run\": 13, \"Speed\": 810}, {\"Expt\": 5, \"Run\": 14, \"Speed\": 740}, {\"Expt\": 5, \"Run\": 15, \"Speed\": 810}, {\"Expt\": 5, \"Run\": 16, \"Speed\": 940}, {\"Expt\": 5, \"Run\": 17, \"Speed\": 950}, {\"Expt\": 5, \"Run\": 18, \"Speed\": 800}, {\"Expt\": 5, \"Run\": 19, \"Speed\": 810}, {\"Expt\": 5, \"Run\": 20, \"Speed\": 870}]}}, {\"mode\": \"vega-lite\"});\n",
       "</script>"
      ],
      "text/plain": [
       "alt.Chart(...)"
      ]
     },
     "metadata": {
      "scrapbook": {
       "mime_prefix": "application/papermill.record/",
       "name": "morley_hist"
      }
     },
     "output_type": "display_data"
    }
   ],
   "source": [
    "glue('morley_hist', morley_hist, display=False)"
   ]
  },
  {
   "cell_type": "markdown",
   "id": "38f117b9",
   "metadata": {},
   "source": [
    ":::{glue:figure} morley_hist\n",
    ":figwidth: 700px \n",
    ":name: morley_hist\n",
    "\n",
    "Histogram of Michelson's speed of light data.\n",
    ":::\n",
    "\n",
    "\n",
    "\n",
    "{numref}`morley_hist` is a great start. \n",
    "However, \n",
    "we cannot tell how accurate the measurements are using this visualization \n",
    "unless we can see the true value.\n",
    "In order to visualize the true speed of light, \n",
    "we will add a vertical line with the `mark_rule` function.\n",
    "To draw a vertical line with `mark_rule`,  \\index{ggplot!geom\\_vline}\n",
    "we need to specify where on the x-axis the line should be drawn. \n",
    "We can do this by creating a dataframe with just one column with value `792.458`, which is the true value of light speed \n",
    "minus 299,000 and encoding it in the `x` axis; this ensures it is coded the same way as the \n",
    "measurements in the `morley` data frame.\n",
    "We would also like to fine tune this vertical line, \n",
    "styling it so that it is dashed and 1 point in thickness.\n",
    "A point is a measurement unit commonly used with fonts, \n",
    "and 1 point is about 0.353 mm. \n",
    "We do this by setting `strokeDash=[3,3]` and `size = 1`, respectively. \n",
    "\n",
    "Similarly, a horizontal line can be plotted using the `y` axis encoding and the dataframe with one value, which would act as the be the y-intercept\n",
    "\n",
    "Note that \n",
    "*vertical lines* are used to denote quantities on the *horizontal axis*, \n",
    "while *horizontal lines* are used to denote quantities on the *vertical axis*. \n",
    "\n",
    "To add the dashed line on top of the histogram, we will use the `+` operator. This concept is also known as layering in altair.(This is covered in the later sections of the chapter). Here, we add the `mark_rule` chart on the `morley_hist` chart of the form `mark_bar`"
   ]
  },
  {
   "cell_type": "code",
   "execution_count": 50,
   "id": "80b90440",
   "metadata": {},
   "outputs": [],
   "source": [
    "v_line = alt.Chart(pd.DataFrame({'x': [792.458]})).mark_rule(\n",
    "    strokeDash=[3,3], size=1).encode(\n",
    "    x='x')\n",
    "\n",
    "\n",
    "final_plot = morley_hist + v_line\n"
   ]
  },
  {
   "cell_type": "code",
   "execution_count": 51,
   "id": "527801f3",
   "metadata": {
    "tags": [
     "remove-cell"
    ]
   },
   "outputs": [
    {
     "data": {
      "text/html": [
       "\n",
       "<div id=\"altair-viz-a3c796ad7bab4d09ae1416c3fbb7c758\"></div>\n",
       "<script type=\"text/javascript\">\n",
       "  var VEGA_DEBUG = (typeof VEGA_DEBUG == \"undefined\") ? {} : VEGA_DEBUG;\n",
       "  (function(spec, embedOpt){\n",
       "    let outputDiv = document.currentScript.previousElementSibling;\n",
       "    if (outputDiv.id !== \"altair-viz-a3c796ad7bab4d09ae1416c3fbb7c758\") {\n",
       "      outputDiv = document.getElementById(\"altair-viz-a3c796ad7bab4d09ae1416c3fbb7c758\");\n",
       "    }\n",
       "    const paths = {\n",
       "      \"vega\": \"https://cdn.jsdelivr.net/npm//vega@5?noext\",\n",
       "      \"vega-lib\": \"https://cdn.jsdelivr.net/npm//vega-lib?noext\",\n",
       "      \"vega-lite\": \"https://cdn.jsdelivr.net/npm//vega-lite@4.17.0?noext\",\n",
       "      \"vega-embed\": \"https://cdn.jsdelivr.net/npm//vega-embed@6?noext\",\n",
       "    };\n",
       "\n",
       "    function maybeLoadScript(lib, version) {\n",
       "      var key = `${lib.replace(\"-\", \"\")}_version`;\n",
       "      return (VEGA_DEBUG[key] == version) ?\n",
       "        Promise.resolve(paths[lib]) :\n",
       "        new Promise(function(resolve, reject) {\n",
       "          var s = document.createElement('script');\n",
       "          document.getElementsByTagName(\"head\")[0].appendChild(s);\n",
       "          s.async = true;\n",
       "          s.onload = () => {\n",
       "            VEGA_DEBUG[key] = version;\n",
       "            return resolve(paths[lib]);\n",
       "          };\n",
       "          s.onerror = () => reject(`Error loading script: ${paths[lib]}`);\n",
       "          s.src = paths[lib];\n",
       "        });\n",
       "    }\n",
       "\n",
       "    function showError(err) {\n",
       "      outputDiv.innerHTML = `<div class=\"error\" style=\"color:red;\">${err}</div>`;\n",
       "      throw err;\n",
       "    }\n",
       "\n",
       "    function displayChart(vegaEmbed) {\n",
       "      vegaEmbed(outputDiv, spec, embedOpt)\n",
       "        .catch(err => showError(`Javascript Error: ${err.message}<br>This usually means there's a typo in your chart specification. See the javascript console for the full traceback.`));\n",
       "    }\n",
       "\n",
       "    if(typeof define === \"function\" && define.amd) {\n",
       "      requirejs.config({paths});\n",
       "      require([\"vega-embed\"], displayChart, err => showError(`Error loading script: ${err.message}`));\n",
       "    } else {\n",
       "      maybeLoadScript(\"vega\", \"5\")\n",
       "        .then(() => maybeLoadScript(\"vega-lite\", \"4.17.0\"))\n",
       "        .then(() => maybeLoadScript(\"vega-embed\", \"6\"))\n",
       "        .catch(showError)\n",
       "        .then(() => displayChart(vegaEmbed));\n",
       "    }\n",
       "  })({\"config\": {\"view\": {\"continuousWidth\": 400, \"continuousHeight\": 300}}, \"layer\": [{\"data\": {\"name\": \"data-9505d6e8ffc0fbd66f1f70f18ab69d65\"}, \"mark\": \"bar\", \"encoding\": {\"x\": {\"field\": \"Speed\", \"type\": \"quantitative\"}, \"y\": {\"aggregate\": \"count\", \"type\": \"quantitative\"}}}, {\"data\": {\"name\": \"data-623ad424afb61a0fae69b38cf4c35612\"}, \"mark\": {\"type\": \"rule\", \"size\": 1, \"strokeDash\": [3, 3]}, \"encoding\": {\"x\": {\"field\": \"x\", \"type\": \"quantitative\"}}}], \"$schema\": \"https://vega.github.io/schema/vega-lite/v4.17.0.json\", \"datasets\": {\"data-9505d6e8ffc0fbd66f1f70f18ab69d65\": [{\"Expt\": 1, \"Run\": 1, \"Speed\": 850}, {\"Expt\": 1, \"Run\": 2, \"Speed\": 740}, {\"Expt\": 1, \"Run\": 3, \"Speed\": 900}, {\"Expt\": 1, \"Run\": 4, \"Speed\": 1070}, {\"Expt\": 1, \"Run\": 5, \"Speed\": 930}, {\"Expt\": 1, \"Run\": 6, \"Speed\": 850}, {\"Expt\": 1, \"Run\": 7, \"Speed\": 950}, {\"Expt\": 1, \"Run\": 8, \"Speed\": 980}, {\"Expt\": 1, \"Run\": 9, \"Speed\": 980}, {\"Expt\": 1, \"Run\": 10, \"Speed\": 880}, {\"Expt\": 1, \"Run\": 11, \"Speed\": 1000}, {\"Expt\": 1, \"Run\": 12, \"Speed\": 980}, {\"Expt\": 1, \"Run\": 13, \"Speed\": 930}, {\"Expt\": 1, \"Run\": 14, \"Speed\": 650}, {\"Expt\": 1, \"Run\": 15, \"Speed\": 760}, {\"Expt\": 1, \"Run\": 16, \"Speed\": 810}, {\"Expt\": 1, \"Run\": 17, \"Speed\": 1000}, {\"Expt\": 1, \"Run\": 18, \"Speed\": 1000}, {\"Expt\": 1, \"Run\": 19, \"Speed\": 960}, {\"Expt\": 1, \"Run\": 20, \"Speed\": 960}, {\"Expt\": 2, \"Run\": 1, \"Speed\": 960}, {\"Expt\": 2, \"Run\": 2, \"Speed\": 940}, {\"Expt\": 2, \"Run\": 3, \"Speed\": 960}, {\"Expt\": 2, \"Run\": 4, \"Speed\": 940}, {\"Expt\": 2, \"Run\": 5, \"Speed\": 880}, {\"Expt\": 2, \"Run\": 6, \"Speed\": 800}, {\"Expt\": 2, \"Run\": 7, \"Speed\": 850}, {\"Expt\": 2, \"Run\": 8, \"Speed\": 880}, {\"Expt\": 2, \"Run\": 9, \"Speed\": 900}, {\"Expt\": 2, \"Run\": 10, \"Speed\": 840}, {\"Expt\": 2, \"Run\": 11, \"Speed\": 830}, {\"Expt\": 2, \"Run\": 12, \"Speed\": 790}, {\"Expt\": 2, \"Run\": 13, \"Speed\": 810}, {\"Expt\": 2, \"Run\": 14, \"Speed\": 880}, {\"Expt\": 2, \"Run\": 15, \"Speed\": 880}, {\"Expt\": 2, \"Run\": 16, \"Speed\": 830}, {\"Expt\": 2, \"Run\": 17, \"Speed\": 800}, {\"Expt\": 2, \"Run\": 18, \"Speed\": 790}, {\"Expt\": 2, \"Run\": 19, \"Speed\": 760}, {\"Expt\": 2, \"Run\": 20, \"Speed\": 800}, {\"Expt\": 3, \"Run\": 1, \"Speed\": 880}, {\"Expt\": 3, \"Run\": 2, \"Speed\": 880}, {\"Expt\": 3, \"Run\": 3, \"Speed\": 880}, {\"Expt\": 3, \"Run\": 4, \"Speed\": 860}, {\"Expt\": 3, \"Run\": 5, \"Speed\": 720}, {\"Expt\": 3, \"Run\": 6, \"Speed\": 720}, {\"Expt\": 3, \"Run\": 7, \"Speed\": 620}, {\"Expt\": 3, \"Run\": 8, \"Speed\": 860}, {\"Expt\": 3, \"Run\": 9, \"Speed\": 970}, {\"Expt\": 3, \"Run\": 10, \"Speed\": 950}, {\"Expt\": 3, \"Run\": 11, \"Speed\": 880}, {\"Expt\": 3, \"Run\": 12, \"Speed\": 910}, {\"Expt\": 3, \"Run\": 13, \"Speed\": 850}, {\"Expt\": 3, \"Run\": 14, \"Speed\": 870}, {\"Expt\": 3, \"Run\": 15, \"Speed\": 840}, {\"Expt\": 3, \"Run\": 16, \"Speed\": 840}, {\"Expt\": 3, \"Run\": 17, \"Speed\": 850}, {\"Expt\": 3, \"Run\": 18, \"Speed\": 840}, {\"Expt\": 3, \"Run\": 19, \"Speed\": 840}, {\"Expt\": 3, \"Run\": 20, \"Speed\": 840}, {\"Expt\": 4, \"Run\": 1, \"Speed\": 890}, {\"Expt\": 4, \"Run\": 2, \"Speed\": 810}, {\"Expt\": 4, \"Run\": 3, \"Speed\": 810}, {\"Expt\": 4, \"Run\": 4, \"Speed\": 820}, {\"Expt\": 4, \"Run\": 5, \"Speed\": 800}, {\"Expt\": 4, \"Run\": 6, \"Speed\": 770}, {\"Expt\": 4, \"Run\": 7, \"Speed\": 760}, {\"Expt\": 4, \"Run\": 8, \"Speed\": 740}, {\"Expt\": 4, \"Run\": 9, \"Speed\": 750}, {\"Expt\": 4, \"Run\": 10, \"Speed\": 760}, {\"Expt\": 4, \"Run\": 11, \"Speed\": 910}, {\"Expt\": 4, \"Run\": 12, \"Speed\": 920}, {\"Expt\": 4, \"Run\": 13, \"Speed\": 890}, {\"Expt\": 4, \"Run\": 14, \"Speed\": 860}, {\"Expt\": 4, \"Run\": 15, \"Speed\": 880}, {\"Expt\": 4, \"Run\": 16, \"Speed\": 720}, {\"Expt\": 4, \"Run\": 17, \"Speed\": 840}, {\"Expt\": 4, \"Run\": 18, \"Speed\": 850}, {\"Expt\": 4, \"Run\": 19, \"Speed\": 850}, {\"Expt\": 4, \"Run\": 20, \"Speed\": 780}, {\"Expt\": 5, \"Run\": 1, \"Speed\": 890}, {\"Expt\": 5, \"Run\": 2, \"Speed\": 840}, {\"Expt\": 5, \"Run\": 3, \"Speed\": 780}, {\"Expt\": 5, \"Run\": 4, \"Speed\": 810}, {\"Expt\": 5, \"Run\": 5, \"Speed\": 760}, {\"Expt\": 5, \"Run\": 6, \"Speed\": 810}, {\"Expt\": 5, \"Run\": 7, \"Speed\": 790}, {\"Expt\": 5, \"Run\": 8, \"Speed\": 810}, {\"Expt\": 5, \"Run\": 9, \"Speed\": 820}, {\"Expt\": 5, \"Run\": 10, \"Speed\": 850}, {\"Expt\": 5, \"Run\": 11, \"Speed\": 870}, {\"Expt\": 5, \"Run\": 12, \"Speed\": 870}, {\"Expt\": 5, \"Run\": 13, \"Speed\": 810}, {\"Expt\": 5, \"Run\": 14, \"Speed\": 740}, {\"Expt\": 5, \"Run\": 15, \"Speed\": 810}, {\"Expt\": 5, \"Run\": 16, \"Speed\": 940}, {\"Expt\": 5, \"Run\": 17, \"Speed\": 950}, {\"Expt\": 5, \"Run\": 18, \"Speed\": 800}, {\"Expt\": 5, \"Run\": 19, \"Speed\": 810}, {\"Expt\": 5, \"Run\": 20, \"Speed\": 870}], \"data-623ad424afb61a0fae69b38cf4c35612\": [{\"x\": 792.458}]}}, {\"mode\": \"vega-lite\"});\n",
       "</script>"
      ],
      "text/plain": [
       "alt.LayerChart(...)"
      ]
     },
     "metadata": {
      "scrapbook": {
       "mime_prefix": "application/papermill.record/",
       "name": "final_plot"
      }
     },
     "output_type": "display_data"
    }
   ],
   "source": [
    "glue('final_plot', final_plot, display=False)"
   ]
  },
  {
   "cell_type": "markdown",
   "id": "c984708f",
   "metadata": {},
   "source": [
    ":::{glue:figure} final_plot\n",
    ":figwidth: 700px \n",
    ":name: final_plot\n",
    "\n",
    "Histogram of Michelson's speed of light data with vertical line indicating true speed of light.\n",
    ":::\n",
    "\n",
    "In {numref}`final_plot`, \n",
    "we still cannot tell which experiments (denoted in the `Expt` column) \n",
    "led to which measurements; \n",
    "perhaps some experiments were more accurate than others. \n",
    "To fully answer our question, \n",
    "we need to separate the measurements from each other visually. \n",
    "We can try to do this using a *colored* histogram, \n",
    "where counts from different experiments are stacked on top of each other \n",
    "in different colors. \n",
    "We can create a histogram colored by the `Expt` variable \n",
    "by adding it to the `color` argument. \n",
    "We make sure the different colors can be seen \n",
    "(despite them all sitting on top of each other) \n",
    "by setting the `opacity` argument in `mark_bar` to `0.5` \n",
    "to make the bars slightly translucent."
   ]
  },
  {
   "cell_type": "code",
   "execution_count": 52,
   "id": "f25b0b35",
   "metadata": {},
   "outputs": [],
   "source": [
    "morley_hist_colored = alt.Chart(morley_df).mark_bar(opacity=0.5).encode(\n",
    "    x = alt.X(\"Speed\"), \n",
    "    y=alt.Y('count()'),\n",
    "    color = \"Expt\")\n",
    "\n",
    "final_plot_colored = morley_hist_colored + v_line\n"
   ]
  },
  {
   "cell_type": "code",
   "execution_count": 53,
   "id": "883dca58",
   "metadata": {
    "tags": [
     "remove-cell"
    ]
   },
   "outputs": [
    {
     "data": {
      "text/html": [
       "\n",
       "<div id=\"altair-viz-8f67678d004a48ed884a64cdb468e6bf\"></div>\n",
       "<script type=\"text/javascript\">\n",
       "  var VEGA_DEBUG = (typeof VEGA_DEBUG == \"undefined\") ? {} : VEGA_DEBUG;\n",
       "  (function(spec, embedOpt){\n",
       "    let outputDiv = document.currentScript.previousElementSibling;\n",
       "    if (outputDiv.id !== \"altair-viz-8f67678d004a48ed884a64cdb468e6bf\") {\n",
       "      outputDiv = document.getElementById(\"altair-viz-8f67678d004a48ed884a64cdb468e6bf\");\n",
       "    }\n",
       "    const paths = {\n",
       "      \"vega\": \"https://cdn.jsdelivr.net/npm//vega@5?noext\",\n",
       "      \"vega-lib\": \"https://cdn.jsdelivr.net/npm//vega-lib?noext\",\n",
       "      \"vega-lite\": \"https://cdn.jsdelivr.net/npm//vega-lite@4.17.0?noext\",\n",
       "      \"vega-embed\": \"https://cdn.jsdelivr.net/npm//vega-embed@6?noext\",\n",
       "    };\n",
       "\n",
       "    function maybeLoadScript(lib, version) {\n",
       "      var key = `${lib.replace(\"-\", \"\")}_version`;\n",
       "      return (VEGA_DEBUG[key] == version) ?\n",
       "        Promise.resolve(paths[lib]) :\n",
       "        new Promise(function(resolve, reject) {\n",
       "          var s = document.createElement('script');\n",
       "          document.getElementsByTagName(\"head\")[0].appendChild(s);\n",
       "          s.async = true;\n",
       "          s.onload = () => {\n",
       "            VEGA_DEBUG[key] = version;\n",
       "            return resolve(paths[lib]);\n",
       "          };\n",
       "          s.onerror = () => reject(`Error loading script: ${paths[lib]}`);\n",
       "          s.src = paths[lib];\n",
       "        });\n",
       "    }\n",
       "\n",
       "    function showError(err) {\n",
       "      outputDiv.innerHTML = `<div class=\"error\" style=\"color:red;\">${err}</div>`;\n",
       "      throw err;\n",
       "    }\n",
       "\n",
       "    function displayChart(vegaEmbed) {\n",
       "      vegaEmbed(outputDiv, spec, embedOpt)\n",
       "        .catch(err => showError(`Javascript Error: ${err.message}<br>This usually means there's a typo in your chart specification. See the javascript console for the full traceback.`));\n",
       "    }\n",
       "\n",
       "    if(typeof define === \"function\" && define.amd) {\n",
       "      requirejs.config({paths});\n",
       "      require([\"vega-embed\"], displayChart, err => showError(`Error loading script: ${err.message}`));\n",
       "    } else {\n",
       "      maybeLoadScript(\"vega\", \"5\")\n",
       "        .then(() => maybeLoadScript(\"vega-lite\", \"4.17.0\"))\n",
       "        .then(() => maybeLoadScript(\"vega-embed\", \"6\"))\n",
       "        .catch(showError)\n",
       "        .then(() => displayChart(vegaEmbed));\n",
       "    }\n",
       "  })({\"config\": {\"view\": {\"continuousWidth\": 400, \"continuousHeight\": 300}}, \"layer\": [{\"data\": {\"name\": \"data-9505d6e8ffc0fbd66f1f70f18ab69d65\"}, \"mark\": {\"type\": \"bar\", \"opacity\": 0.5}, \"encoding\": {\"color\": {\"field\": \"Expt\", \"type\": \"quantitative\"}, \"x\": {\"field\": \"Speed\", \"type\": \"quantitative\"}, \"y\": {\"aggregate\": \"count\", \"type\": \"quantitative\"}}}, {\"data\": {\"name\": \"data-623ad424afb61a0fae69b38cf4c35612\"}, \"mark\": {\"type\": \"rule\", \"size\": 1, \"strokeDash\": [3, 3]}, \"encoding\": {\"x\": {\"field\": \"x\", \"type\": \"quantitative\"}}}], \"$schema\": \"https://vega.github.io/schema/vega-lite/v4.17.0.json\", \"datasets\": {\"data-9505d6e8ffc0fbd66f1f70f18ab69d65\": [{\"Expt\": 1, \"Run\": 1, \"Speed\": 850}, {\"Expt\": 1, \"Run\": 2, \"Speed\": 740}, {\"Expt\": 1, \"Run\": 3, \"Speed\": 900}, {\"Expt\": 1, \"Run\": 4, \"Speed\": 1070}, {\"Expt\": 1, \"Run\": 5, \"Speed\": 930}, {\"Expt\": 1, \"Run\": 6, \"Speed\": 850}, {\"Expt\": 1, \"Run\": 7, \"Speed\": 950}, {\"Expt\": 1, \"Run\": 8, \"Speed\": 980}, {\"Expt\": 1, \"Run\": 9, \"Speed\": 980}, {\"Expt\": 1, \"Run\": 10, \"Speed\": 880}, {\"Expt\": 1, \"Run\": 11, \"Speed\": 1000}, {\"Expt\": 1, \"Run\": 12, \"Speed\": 980}, {\"Expt\": 1, \"Run\": 13, \"Speed\": 930}, {\"Expt\": 1, \"Run\": 14, \"Speed\": 650}, {\"Expt\": 1, \"Run\": 15, \"Speed\": 760}, {\"Expt\": 1, \"Run\": 16, \"Speed\": 810}, {\"Expt\": 1, \"Run\": 17, \"Speed\": 1000}, {\"Expt\": 1, \"Run\": 18, \"Speed\": 1000}, {\"Expt\": 1, \"Run\": 19, \"Speed\": 960}, {\"Expt\": 1, \"Run\": 20, \"Speed\": 960}, {\"Expt\": 2, \"Run\": 1, \"Speed\": 960}, {\"Expt\": 2, \"Run\": 2, \"Speed\": 940}, {\"Expt\": 2, \"Run\": 3, \"Speed\": 960}, {\"Expt\": 2, \"Run\": 4, \"Speed\": 940}, {\"Expt\": 2, \"Run\": 5, \"Speed\": 880}, {\"Expt\": 2, \"Run\": 6, \"Speed\": 800}, {\"Expt\": 2, \"Run\": 7, \"Speed\": 850}, {\"Expt\": 2, \"Run\": 8, \"Speed\": 880}, {\"Expt\": 2, \"Run\": 9, \"Speed\": 900}, {\"Expt\": 2, \"Run\": 10, \"Speed\": 840}, {\"Expt\": 2, \"Run\": 11, \"Speed\": 830}, {\"Expt\": 2, \"Run\": 12, \"Speed\": 790}, {\"Expt\": 2, \"Run\": 13, \"Speed\": 810}, {\"Expt\": 2, \"Run\": 14, \"Speed\": 880}, {\"Expt\": 2, \"Run\": 15, \"Speed\": 880}, {\"Expt\": 2, \"Run\": 16, \"Speed\": 830}, {\"Expt\": 2, \"Run\": 17, \"Speed\": 800}, {\"Expt\": 2, \"Run\": 18, \"Speed\": 790}, {\"Expt\": 2, \"Run\": 19, \"Speed\": 760}, {\"Expt\": 2, \"Run\": 20, \"Speed\": 800}, {\"Expt\": 3, \"Run\": 1, \"Speed\": 880}, {\"Expt\": 3, \"Run\": 2, \"Speed\": 880}, {\"Expt\": 3, \"Run\": 3, \"Speed\": 880}, {\"Expt\": 3, \"Run\": 4, \"Speed\": 860}, {\"Expt\": 3, \"Run\": 5, \"Speed\": 720}, {\"Expt\": 3, \"Run\": 6, \"Speed\": 720}, {\"Expt\": 3, \"Run\": 7, \"Speed\": 620}, {\"Expt\": 3, \"Run\": 8, \"Speed\": 860}, {\"Expt\": 3, \"Run\": 9, \"Speed\": 970}, {\"Expt\": 3, \"Run\": 10, \"Speed\": 950}, {\"Expt\": 3, \"Run\": 11, \"Speed\": 880}, {\"Expt\": 3, \"Run\": 12, \"Speed\": 910}, {\"Expt\": 3, \"Run\": 13, \"Speed\": 850}, {\"Expt\": 3, \"Run\": 14, \"Speed\": 870}, {\"Expt\": 3, \"Run\": 15, \"Speed\": 840}, {\"Expt\": 3, \"Run\": 16, \"Speed\": 840}, {\"Expt\": 3, \"Run\": 17, \"Speed\": 850}, {\"Expt\": 3, \"Run\": 18, \"Speed\": 840}, {\"Expt\": 3, \"Run\": 19, \"Speed\": 840}, {\"Expt\": 3, \"Run\": 20, \"Speed\": 840}, {\"Expt\": 4, \"Run\": 1, \"Speed\": 890}, {\"Expt\": 4, \"Run\": 2, \"Speed\": 810}, {\"Expt\": 4, \"Run\": 3, \"Speed\": 810}, {\"Expt\": 4, \"Run\": 4, \"Speed\": 820}, {\"Expt\": 4, \"Run\": 5, \"Speed\": 800}, {\"Expt\": 4, \"Run\": 6, \"Speed\": 770}, {\"Expt\": 4, \"Run\": 7, \"Speed\": 760}, {\"Expt\": 4, \"Run\": 8, \"Speed\": 740}, {\"Expt\": 4, \"Run\": 9, \"Speed\": 750}, {\"Expt\": 4, \"Run\": 10, \"Speed\": 760}, {\"Expt\": 4, \"Run\": 11, \"Speed\": 910}, {\"Expt\": 4, \"Run\": 12, \"Speed\": 920}, {\"Expt\": 4, \"Run\": 13, \"Speed\": 890}, {\"Expt\": 4, \"Run\": 14, \"Speed\": 860}, {\"Expt\": 4, \"Run\": 15, \"Speed\": 880}, {\"Expt\": 4, \"Run\": 16, \"Speed\": 720}, {\"Expt\": 4, \"Run\": 17, \"Speed\": 840}, {\"Expt\": 4, \"Run\": 18, \"Speed\": 850}, {\"Expt\": 4, \"Run\": 19, \"Speed\": 850}, {\"Expt\": 4, \"Run\": 20, \"Speed\": 780}, {\"Expt\": 5, \"Run\": 1, \"Speed\": 890}, {\"Expt\": 5, \"Run\": 2, \"Speed\": 840}, {\"Expt\": 5, \"Run\": 3, \"Speed\": 780}, {\"Expt\": 5, \"Run\": 4, \"Speed\": 810}, {\"Expt\": 5, \"Run\": 5, \"Speed\": 760}, {\"Expt\": 5, \"Run\": 6, \"Speed\": 810}, {\"Expt\": 5, \"Run\": 7, \"Speed\": 790}, {\"Expt\": 5, \"Run\": 8, \"Speed\": 810}, {\"Expt\": 5, \"Run\": 9, \"Speed\": 820}, {\"Expt\": 5, \"Run\": 10, \"Speed\": 850}, {\"Expt\": 5, \"Run\": 11, \"Speed\": 870}, {\"Expt\": 5, \"Run\": 12, \"Speed\": 870}, {\"Expt\": 5, \"Run\": 13, \"Speed\": 810}, {\"Expt\": 5, \"Run\": 14, \"Speed\": 740}, {\"Expt\": 5, \"Run\": 15, \"Speed\": 810}, {\"Expt\": 5, \"Run\": 16, \"Speed\": 940}, {\"Expt\": 5, \"Run\": 17, \"Speed\": 950}, {\"Expt\": 5, \"Run\": 18, \"Speed\": 800}, {\"Expt\": 5, \"Run\": 19, \"Speed\": 810}, {\"Expt\": 5, \"Run\": 20, \"Speed\": 870}], \"data-623ad424afb61a0fae69b38cf4c35612\": [{\"x\": 792.458}]}}, {\"mode\": \"vega-lite\"});\n",
       "</script>"
      ],
      "text/plain": [
       "alt.LayerChart(...)"
      ]
     },
     "metadata": {
      "scrapbook": {
       "mime_prefix": "",
       "name": "final_plot_colored"
      }
     },
     "output_type": "display_data"
    }
   ],
   "source": [
    "glue('final_plot_colored', final_plot_colored, display=True)"
   ]
  },
  {
   "cell_type": "markdown",
   "id": "f0a9a93e",
   "metadata": {},
   "source": [
    ":::{glue:figure} final_plot_colored\n",
    ":figwidth: 700px \n",
    ":name: final_plot_colored\n",
    "\n",
    "Histogram of Michelson's speed of light data colored by experiment.\n",
    ":::\n",
    "\n",
    "Alright great, {numref}`final_plot_colored` looks...wait a second! We are not able to distinguish \n",
    "between different Experiments in the histogram! What is going on here? Well, if you \n",
    "recall from Chapter \\@ref(wrangling), the *data type* you use for each variable\n",
    "can influence how Python and `altair` treats it. Here, we indeed have an issue\n",
    "with the data types in the `morley` data frame. In particular, the `Expt` column\n",
    "is currently an *integer*. But we want to treat it as a\n",
    "*category*, i.e., there should be one category per type of experiment.  \n",
    "\n",
    "To fix this issue we can convert the `Expt` variable into a `nominal`(categorical) type \n",
    "variable by adding a suffix `:N`(where `N` stands for nominal type variable) with the `Expt` variable.\n",
    "By doing this, we are ensuring that `altair` will treat this variable as a categorical variable,\n",
    "and the color will be mapped discretely. Here, we also mention `stack=False`, so that the bars are not stacked on top of each other.\n",
    "\\index{factor!usage in ggplot}"
   ]
  },
  {
   "cell_type": "code",
   "execution_count": 54,
   "id": "3010c2de",
   "metadata": {},
   "outputs": [],
   "source": [
    "morley_hist_categorical = alt.Chart(morley_df).mark_bar(opacity=0.5).encode(\n",
    "    x = alt.X(\"Speed\", bin=alt.Bin(maxbins=50)),  \n",
    "    y=alt.Y('count()', stack=False),\n",
    "    color = \"Expt:N\")\n",
    "\n",
    "final_plot_categorical = morley_hist_categorical + v_line\n"
   ]
  },
  {
   "cell_type": "code",
   "execution_count": 55,
   "id": "a2c6d538",
   "metadata": {
    "tags": [
     "remove-cell"
    ]
   },
   "outputs": [
    {
     "data": {
      "text/html": [
       "\n",
       "<div id=\"altair-viz-56e28a25cd664db1ab1d031bf1c7a1f9\"></div>\n",
       "<script type=\"text/javascript\">\n",
       "  var VEGA_DEBUG = (typeof VEGA_DEBUG == \"undefined\") ? {} : VEGA_DEBUG;\n",
       "  (function(spec, embedOpt){\n",
       "    let outputDiv = document.currentScript.previousElementSibling;\n",
       "    if (outputDiv.id !== \"altair-viz-56e28a25cd664db1ab1d031bf1c7a1f9\") {\n",
       "      outputDiv = document.getElementById(\"altair-viz-56e28a25cd664db1ab1d031bf1c7a1f9\");\n",
       "    }\n",
       "    const paths = {\n",
       "      \"vega\": \"https://cdn.jsdelivr.net/npm//vega@5?noext\",\n",
       "      \"vega-lib\": \"https://cdn.jsdelivr.net/npm//vega-lib?noext\",\n",
       "      \"vega-lite\": \"https://cdn.jsdelivr.net/npm//vega-lite@4.17.0?noext\",\n",
       "      \"vega-embed\": \"https://cdn.jsdelivr.net/npm//vega-embed@6?noext\",\n",
       "    };\n",
       "\n",
       "    function maybeLoadScript(lib, version) {\n",
       "      var key = `${lib.replace(\"-\", \"\")}_version`;\n",
       "      return (VEGA_DEBUG[key] == version) ?\n",
       "        Promise.resolve(paths[lib]) :\n",
       "        new Promise(function(resolve, reject) {\n",
       "          var s = document.createElement('script');\n",
       "          document.getElementsByTagName(\"head\")[0].appendChild(s);\n",
       "          s.async = true;\n",
       "          s.onload = () => {\n",
       "            VEGA_DEBUG[key] = version;\n",
       "            return resolve(paths[lib]);\n",
       "          };\n",
       "          s.onerror = () => reject(`Error loading script: ${paths[lib]}`);\n",
       "          s.src = paths[lib];\n",
       "        });\n",
       "    }\n",
       "\n",
       "    function showError(err) {\n",
       "      outputDiv.innerHTML = `<div class=\"error\" style=\"color:red;\">${err}</div>`;\n",
       "      throw err;\n",
       "    }\n",
       "\n",
       "    function displayChart(vegaEmbed) {\n",
       "      vegaEmbed(outputDiv, spec, embedOpt)\n",
       "        .catch(err => showError(`Javascript Error: ${err.message}<br>This usually means there's a typo in your chart specification. See the javascript console for the full traceback.`));\n",
       "    }\n",
       "\n",
       "    if(typeof define === \"function\" && define.amd) {\n",
       "      requirejs.config({paths});\n",
       "      require([\"vega-embed\"], displayChart, err => showError(`Error loading script: ${err.message}`));\n",
       "    } else {\n",
       "      maybeLoadScript(\"vega\", \"5\")\n",
       "        .then(() => maybeLoadScript(\"vega-lite\", \"4.17.0\"))\n",
       "        .then(() => maybeLoadScript(\"vega-embed\", \"6\"))\n",
       "        .catch(showError)\n",
       "        .then(() => displayChart(vegaEmbed));\n",
       "    }\n",
       "  })({\"config\": {\"view\": {\"continuousWidth\": 400, \"continuousHeight\": 300}}, \"layer\": [{\"data\": {\"name\": \"data-9505d6e8ffc0fbd66f1f70f18ab69d65\"}, \"mark\": {\"type\": \"bar\", \"opacity\": 0.5}, \"encoding\": {\"color\": {\"field\": \"Expt\", \"type\": \"nominal\"}, \"x\": {\"bin\": {\"maxbins\": 50}, \"field\": \"Speed\", \"type\": \"quantitative\"}, \"y\": {\"aggregate\": \"count\", \"stack\": false, \"type\": \"quantitative\"}}}, {\"data\": {\"name\": \"data-623ad424afb61a0fae69b38cf4c35612\"}, \"mark\": {\"type\": \"rule\", \"size\": 1, \"strokeDash\": [3, 3]}, \"encoding\": {\"x\": {\"field\": \"x\", \"type\": \"quantitative\"}}}], \"$schema\": \"https://vega.github.io/schema/vega-lite/v4.17.0.json\", \"datasets\": {\"data-9505d6e8ffc0fbd66f1f70f18ab69d65\": [{\"Expt\": 1, \"Run\": 1, \"Speed\": 850}, {\"Expt\": 1, \"Run\": 2, \"Speed\": 740}, {\"Expt\": 1, \"Run\": 3, \"Speed\": 900}, {\"Expt\": 1, \"Run\": 4, \"Speed\": 1070}, {\"Expt\": 1, \"Run\": 5, \"Speed\": 930}, {\"Expt\": 1, \"Run\": 6, \"Speed\": 850}, {\"Expt\": 1, \"Run\": 7, \"Speed\": 950}, {\"Expt\": 1, \"Run\": 8, \"Speed\": 980}, {\"Expt\": 1, \"Run\": 9, \"Speed\": 980}, {\"Expt\": 1, \"Run\": 10, \"Speed\": 880}, {\"Expt\": 1, \"Run\": 11, \"Speed\": 1000}, {\"Expt\": 1, \"Run\": 12, \"Speed\": 980}, {\"Expt\": 1, \"Run\": 13, \"Speed\": 930}, {\"Expt\": 1, \"Run\": 14, \"Speed\": 650}, {\"Expt\": 1, \"Run\": 15, \"Speed\": 760}, {\"Expt\": 1, \"Run\": 16, \"Speed\": 810}, {\"Expt\": 1, \"Run\": 17, \"Speed\": 1000}, {\"Expt\": 1, \"Run\": 18, \"Speed\": 1000}, {\"Expt\": 1, \"Run\": 19, \"Speed\": 960}, {\"Expt\": 1, \"Run\": 20, \"Speed\": 960}, {\"Expt\": 2, \"Run\": 1, \"Speed\": 960}, {\"Expt\": 2, \"Run\": 2, \"Speed\": 940}, {\"Expt\": 2, \"Run\": 3, \"Speed\": 960}, {\"Expt\": 2, \"Run\": 4, \"Speed\": 940}, {\"Expt\": 2, \"Run\": 5, \"Speed\": 880}, {\"Expt\": 2, \"Run\": 6, \"Speed\": 800}, {\"Expt\": 2, \"Run\": 7, \"Speed\": 850}, {\"Expt\": 2, \"Run\": 8, \"Speed\": 880}, {\"Expt\": 2, \"Run\": 9, \"Speed\": 900}, {\"Expt\": 2, \"Run\": 10, \"Speed\": 840}, {\"Expt\": 2, \"Run\": 11, \"Speed\": 830}, {\"Expt\": 2, \"Run\": 12, \"Speed\": 790}, {\"Expt\": 2, \"Run\": 13, \"Speed\": 810}, {\"Expt\": 2, \"Run\": 14, \"Speed\": 880}, {\"Expt\": 2, \"Run\": 15, \"Speed\": 880}, {\"Expt\": 2, \"Run\": 16, \"Speed\": 830}, {\"Expt\": 2, \"Run\": 17, \"Speed\": 800}, {\"Expt\": 2, \"Run\": 18, \"Speed\": 790}, {\"Expt\": 2, \"Run\": 19, \"Speed\": 760}, {\"Expt\": 2, \"Run\": 20, \"Speed\": 800}, {\"Expt\": 3, \"Run\": 1, \"Speed\": 880}, {\"Expt\": 3, \"Run\": 2, \"Speed\": 880}, {\"Expt\": 3, \"Run\": 3, \"Speed\": 880}, {\"Expt\": 3, \"Run\": 4, \"Speed\": 860}, {\"Expt\": 3, \"Run\": 5, \"Speed\": 720}, {\"Expt\": 3, \"Run\": 6, \"Speed\": 720}, {\"Expt\": 3, \"Run\": 7, \"Speed\": 620}, {\"Expt\": 3, \"Run\": 8, \"Speed\": 860}, {\"Expt\": 3, \"Run\": 9, \"Speed\": 970}, {\"Expt\": 3, \"Run\": 10, \"Speed\": 950}, {\"Expt\": 3, \"Run\": 11, \"Speed\": 880}, {\"Expt\": 3, \"Run\": 12, \"Speed\": 910}, {\"Expt\": 3, \"Run\": 13, \"Speed\": 850}, {\"Expt\": 3, \"Run\": 14, \"Speed\": 870}, {\"Expt\": 3, \"Run\": 15, \"Speed\": 840}, {\"Expt\": 3, \"Run\": 16, \"Speed\": 840}, {\"Expt\": 3, \"Run\": 17, \"Speed\": 850}, {\"Expt\": 3, \"Run\": 18, \"Speed\": 840}, {\"Expt\": 3, \"Run\": 19, \"Speed\": 840}, {\"Expt\": 3, \"Run\": 20, \"Speed\": 840}, {\"Expt\": 4, \"Run\": 1, \"Speed\": 890}, {\"Expt\": 4, \"Run\": 2, \"Speed\": 810}, {\"Expt\": 4, \"Run\": 3, \"Speed\": 810}, {\"Expt\": 4, \"Run\": 4, \"Speed\": 820}, {\"Expt\": 4, \"Run\": 5, \"Speed\": 800}, {\"Expt\": 4, \"Run\": 6, \"Speed\": 770}, {\"Expt\": 4, \"Run\": 7, \"Speed\": 760}, {\"Expt\": 4, \"Run\": 8, \"Speed\": 740}, {\"Expt\": 4, \"Run\": 9, \"Speed\": 750}, {\"Expt\": 4, \"Run\": 10, \"Speed\": 760}, {\"Expt\": 4, \"Run\": 11, \"Speed\": 910}, {\"Expt\": 4, \"Run\": 12, \"Speed\": 920}, {\"Expt\": 4, \"Run\": 13, \"Speed\": 890}, {\"Expt\": 4, \"Run\": 14, \"Speed\": 860}, {\"Expt\": 4, \"Run\": 15, \"Speed\": 880}, {\"Expt\": 4, \"Run\": 16, \"Speed\": 720}, {\"Expt\": 4, \"Run\": 17, \"Speed\": 840}, {\"Expt\": 4, \"Run\": 18, \"Speed\": 850}, {\"Expt\": 4, \"Run\": 19, \"Speed\": 850}, {\"Expt\": 4, \"Run\": 20, \"Speed\": 780}, {\"Expt\": 5, \"Run\": 1, \"Speed\": 890}, {\"Expt\": 5, \"Run\": 2, \"Speed\": 840}, {\"Expt\": 5, \"Run\": 3, \"Speed\": 780}, {\"Expt\": 5, \"Run\": 4, \"Speed\": 810}, {\"Expt\": 5, \"Run\": 5, \"Speed\": 760}, {\"Expt\": 5, \"Run\": 6, \"Speed\": 810}, {\"Expt\": 5, \"Run\": 7, \"Speed\": 790}, {\"Expt\": 5, \"Run\": 8, \"Speed\": 810}, {\"Expt\": 5, \"Run\": 9, \"Speed\": 820}, {\"Expt\": 5, \"Run\": 10, \"Speed\": 850}, {\"Expt\": 5, \"Run\": 11, \"Speed\": 870}, {\"Expt\": 5, \"Run\": 12, \"Speed\": 870}, {\"Expt\": 5, \"Run\": 13, \"Speed\": 810}, {\"Expt\": 5, \"Run\": 14, \"Speed\": 740}, {\"Expt\": 5, \"Run\": 15, \"Speed\": 810}, {\"Expt\": 5, \"Run\": 16, \"Speed\": 940}, {\"Expt\": 5, \"Run\": 17, \"Speed\": 950}, {\"Expt\": 5, \"Run\": 18, \"Speed\": 800}, {\"Expt\": 5, \"Run\": 19, \"Speed\": 810}, {\"Expt\": 5, \"Run\": 20, \"Speed\": 870}], \"data-623ad424afb61a0fae69b38cf4c35612\": [{\"x\": 792.458}]}}, {\"mode\": \"vega-lite\"});\n",
       "</script>"
      ],
      "text/plain": [
       "alt.LayerChart(...)"
      ]
     },
     "metadata": {
      "scrapbook": {
       "mime_prefix": "",
       "name": "final_plot_categorical"
      }
     },
     "output_type": "display_data"
    }
   ],
   "source": [
    "glue('final_plot_categorical', final_plot_categorical, display=True)"
   ]
  },
  {
   "cell_type": "markdown",
   "id": "97afe9c2",
   "metadata": {},
   "source": [
    ":::{glue:figure} final_plot_categorical\n",
    ":figwidth: 700px \n",
    ":name: final_plot_categorical\n",
    "\n",
    "Histogram of Michelson's speed of light data colored by experiment as a categorical variable.\n",
    ":::\n",
    "\n",
    "\n",
    " \n",
    "Unfortunately, the attempt to separate out the experiment number visually has\n",
    "created a bit of a mess. All of the colors in {numref}`final_plot_categorical` are blending together, and although it is\n",
    "possible to derive *some* insight from this (e.g., experiments 1 and 3 had some\n",
    "of the most incorrect measurements), it isn't the clearest way to convey our\n",
    "message and answer the question. Let's try a different strategy of creating\n",
    "grid of separate histogram plots."
   ]
  },
  {
   "cell_type": "markdown",
   "id": "8a899547",
   "metadata": {},
   "source": [
    "We use the `facet` function to create a plot \n",
    "that has multiple subplots arranged in a grid.\n",
    "The argument to `facet` specifies the variable(s) used to split the plot \n",
    "into subplots, and how to split them (i.e., into rows or columns).\n",
    "If the plot is to be split horizontally, into rows, \n",
    "then the `rows` argument is used.\n",
    "If the plot is to be split vertically, into columns, \n",
    "then the `columns` argument is used.\n",
    "Both the `rows` and `columns` arguments take the column names on which to split the data when creating the subplots. \n",
    "\n",
    "\\index{ggplot!facet\\_grid}"
   ]
  },
  {
   "cell_type": "code",
   "execution_count": 56,
   "id": "9180db1f",
   "metadata": {},
   "outputs": [],
   "source": [
    "morley_hist = alt.Chart(morley_df).mark_bar(opacity = 0.5).encode(\n",
    "    x = alt.X(\"Speed\", bin=alt.Bin(maxbins=50)),  \n",
    "    y=alt.Y('count()', stack=False),\n",
    "    color = \"Expt:N\").properties(height=100, width=200)\n",
    "\n",
    "final_plot_facet = (morley_hist + v_line).facet(row = 'Expt:N', data = morley_df)\n"
   ]
  },
  {
   "cell_type": "code",
   "execution_count": 57,
   "id": "df9a7d77",
   "metadata": {
    "tags": [
     "remove-cell"
    ]
   },
   "outputs": [
    {
     "data": {
      "text/html": [
       "\n",
       "<div id=\"altair-viz-3823f5bc8a2b480eb2314ccc10955f0b\"></div>\n",
       "<script type=\"text/javascript\">\n",
       "  var VEGA_DEBUG = (typeof VEGA_DEBUG == \"undefined\") ? {} : VEGA_DEBUG;\n",
       "  (function(spec, embedOpt){\n",
       "    let outputDiv = document.currentScript.previousElementSibling;\n",
       "    if (outputDiv.id !== \"altair-viz-3823f5bc8a2b480eb2314ccc10955f0b\") {\n",
       "      outputDiv = document.getElementById(\"altair-viz-3823f5bc8a2b480eb2314ccc10955f0b\");\n",
       "    }\n",
       "    const paths = {\n",
       "      \"vega\": \"https://cdn.jsdelivr.net/npm//vega@5?noext\",\n",
       "      \"vega-lib\": \"https://cdn.jsdelivr.net/npm//vega-lib?noext\",\n",
       "      \"vega-lite\": \"https://cdn.jsdelivr.net/npm//vega-lite@4.17.0?noext\",\n",
       "      \"vega-embed\": \"https://cdn.jsdelivr.net/npm//vega-embed@6?noext\",\n",
       "    };\n",
       "\n",
       "    function maybeLoadScript(lib, version) {\n",
       "      var key = `${lib.replace(\"-\", \"\")}_version`;\n",
       "      return (VEGA_DEBUG[key] == version) ?\n",
       "        Promise.resolve(paths[lib]) :\n",
       "        new Promise(function(resolve, reject) {\n",
       "          var s = document.createElement('script');\n",
       "          document.getElementsByTagName(\"head\")[0].appendChild(s);\n",
       "          s.async = true;\n",
       "          s.onload = () => {\n",
       "            VEGA_DEBUG[key] = version;\n",
       "            return resolve(paths[lib]);\n",
       "          };\n",
       "          s.onerror = () => reject(`Error loading script: ${paths[lib]}`);\n",
       "          s.src = paths[lib];\n",
       "        });\n",
       "    }\n",
       "\n",
       "    function showError(err) {\n",
       "      outputDiv.innerHTML = `<div class=\"error\" style=\"color:red;\">${err}</div>`;\n",
       "      throw err;\n",
       "    }\n",
       "\n",
       "    function displayChart(vegaEmbed) {\n",
       "      vegaEmbed(outputDiv, spec, embedOpt)\n",
       "        .catch(err => showError(`Javascript Error: ${err.message}<br>This usually means there's a typo in your chart specification. See the javascript console for the full traceback.`));\n",
       "    }\n",
       "\n",
       "    if(typeof define === \"function\" && define.amd) {\n",
       "      requirejs.config({paths});\n",
       "      require([\"vega-embed\"], displayChart, err => showError(`Error loading script: ${err.message}`));\n",
       "    } else {\n",
       "      maybeLoadScript(\"vega\", \"5\")\n",
       "        .then(() => maybeLoadScript(\"vega-lite\", \"4.17.0\"))\n",
       "        .then(() => maybeLoadScript(\"vega-embed\", \"6\"))\n",
       "        .catch(showError)\n",
       "        .then(() => displayChart(vegaEmbed));\n",
       "    }\n",
       "  })({\"config\": {\"view\": {\"continuousWidth\": 400, \"continuousHeight\": 300}}, \"data\": {\"name\": \"data-9505d6e8ffc0fbd66f1f70f18ab69d65\"}, \"facet\": {\"row\": {\"field\": \"Expt\", \"type\": \"nominal\"}}, \"spec\": {\"layer\": [{\"data\": {\"name\": \"data-9505d6e8ffc0fbd66f1f70f18ab69d65\"}, \"mark\": {\"type\": \"bar\", \"opacity\": 0.5}, \"encoding\": {\"color\": {\"field\": \"Expt\", \"type\": \"nominal\"}, \"x\": {\"bin\": {\"maxbins\": 50}, \"field\": \"Speed\", \"type\": \"quantitative\"}, \"y\": {\"aggregate\": \"count\", \"stack\": false, \"type\": \"quantitative\"}}, \"height\": 100, \"width\": 200}, {\"data\": {\"name\": \"data-623ad424afb61a0fae69b38cf4c35612\"}, \"mark\": {\"type\": \"rule\", \"size\": 1, \"strokeDash\": [3, 3]}, \"encoding\": {\"x\": {\"field\": \"x\", \"type\": \"quantitative\"}}}]}, \"$schema\": \"https://vega.github.io/schema/vega-lite/v4.17.0.json\", \"datasets\": {\"data-9505d6e8ffc0fbd66f1f70f18ab69d65\": [{\"Expt\": 1, \"Run\": 1, \"Speed\": 850}, {\"Expt\": 1, \"Run\": 2, \"Speed\": 740}, {\"Expt\": 1, \"Run\": 3, \"Speed\": 900}, {\"Expt\": 1, \"Run\": 4, \"Speed\": 1070}, {\"Expt\": 1, \"Run\": 5, \"Speed\": 930}, {\"Expt\": 1, \"Run\": 6, \"Speed\": 850}, {\"Expt\": 1, \"Run\": 7, \"Speed\": 950}, {\"Expt\": 1, \"Run\": 8, \"Speed\": 980}, {\"Expt\": 1, \"Run\": 9, \"Speed\": 980}, {\"Expt\": 1, \"Run\": 10, \"Speed\": 880}, {\"Expt\": 1, \"Run\": 11, \"Speed\": 1000}, {\"Expt\": 1, \"Run\": 12, \"Speed\": 980}, {\"Expt\": 1, \"Run\": 13, \"Speed\": 930}, {\"Expt\": 1, \"Run\": 14, \"Speed\": 650}, {\"Expt\": 1, \"Run\": 15, \"Speed\": 760}, {\"Expt\": 1, \"Run\": 16, \"Speed\": 810}, {\"Expt\": 1, \"Run\": 17, \"Speed\": 1000}, {\"Expt\": 1, \"Run\": 18, \"Speed\": 1000}, {\"Expt\": 1, \"Run\": 19, \"Speed\": 960}, {\"Expt\": 1, \"Run\": 20, \"Speed\": 960}, {\"Expt\": 2, \"Run\": 1, \"Speed\": 960}, {\"Expt\": 2, \"Run\": 2, \"Speed\": 940}, {\"Expt\": 2, \"Run\": 3, \"Speed\": 960}, {\"Expt\": 2, \"Run\": 4, \"Speed\": 940}, {\"Expt\": 2, \"Run\": 5, \"Speed\": 880}, {\"Expt\": 2, \"Run\": 6, \"Speed\": 800}, {\"Expt\": 2, \"Run\": 7, \"Speed\": 850}, {\"Expt\": 2, \"Run\": 8, \"Speed\": 880}, {\"Expt\": 2, \"Run\": 9, \"Speed\": 900}, {\"Expt\": 2, \"Run\": 10, \"Speed\": 840}, {\"Expt\": 2, \"Run\": 11, \"Speed\": 830}, {\"Expt\": 2, \"Run\": 12, \"Speed\": 790}, {\"Expt\": 2, \"Run\": 13, \"Speed\": 810}, {\"Expt\": 2, \"Run\": 14, \"Speed\": 880}, {\"Expt\": 2, \"Run\": 15, \"Speed\": 880}, {\"Expt\": 2, \"Run\": 16, \"Speed\": 830}, {\"Expt\": 2, \"Run\": 17, \"Speed\": 800}, {\"Expt\": 2, \"Run\": 18, \"Speed\": 790}, {\"Expt\": 2, \"Run\": 19, \"Speed\": 760}, {\"Expt\": 2, \"Run\": 20, \"Speed\": 800}, {\"Expt\": 3, \"Run\": 1, \"Speed\": 880}, {\"Expt\": 3, \"Run\": 2, \"Speed\": 880}, {\"Expt\": 3, \"Run\": 3, \"Speed\": 880}, {\"Expt\": 3, \"Run\": 4, \"Speed\": 860}, {\"Expt\": 3, \"Run\": 5, \"Speed\": 720}, {\"Expt\": 3, \"Run\": 6, \"Speed\": 720}, {\"Expt\": 3, \"Run\": 7, \"Speed\": 620}, {\"Expt\": 3, \"Run\": 8, \"Speed\": 860}, {\"Expt\": 3, \"Run\": 9, \"Speed\": 970}, {\"Expt\": 3, \"Run\": 10, \"Speed\": 950}, {\"Expt\": 3, \"Run\": 11, \"Speed\": 880}, {\"Expt\": 3, \"Run\": 12, \"Speed\": 910}, {\"Expt\": 3, \"Run\": 13, \"Speed\": 850}, {\"Expt\": 3, \"Run\": 14, \"Speed\": 870}, {\"Expt\": 3, \"Run\": 15, \"Speed\": 840}, {\"Expt\": 3, \"Run\": 16, \"Speed\": 840}, {\"Expt\": 3, \"Run\": 17, \"Speed\": 850}, {\"Expt\": 3, \"Run\": 18, \"Speed\": 840}, {\"Expt\": 3, \"Run\": 19, \"Speed\": 840}, {\"Expt\": 3, \"Run\": 20, \"Speed\": 840}, {\"Expt\": 4, \"Run\": 1, \"Speed\": 890}, {\"Expt\": 4, \"Run\": 2, \"Speed\": 810}, {\"Expt\": 4, \"Run\": 3, \"Speed\": 810}, {\"Expt\": 4, \"Run\": 4, \"Speed\": 820}, {\"Expt\": 4, \"Run\": 5, \"Speed\": 800}, {\"Expt\": 4, \"Run\": 6, \"Speed\": 770}, {\"Expt\": 4, \"Run\": 7, \"Speed\": 760}, {\"Expt\": 4, \"Run\": 8, \"Speed\": 740}, {\"Expt\": 4, \"Run\": 9, \"Speed\": 750}, {\"Expt\": 4, \"Run\": 10, \"Speed\": 760}, {\"Expt\": 4, \"Run\": 11, \"Speed\": 910}, {\"Expt\": 4, \"Run\": 12, \"Speed\": 920}, {\"Expt\": 4, \"Run\": 13, \"Speed\": 890}, {\"Expt\": 4, \"Run\": 14, \"Speed\": 860}, {\"Expt\": 4, \"Run\": 15, \"Speed\": 880}, {\"Expt\": 4, \"Run\": 16, \"Speed\": 720}, {\"Expt\": 4, \"Run\": 17, \"Speed\": 840}, {\"Expt\": 4, \"Run\": 18, \"Speed\": 850}, {\"Expt\": 4, \"Run\": 19, \"Speed\": 850}, {\"Expt\": 4, \"Run\": 20, \"Speed\": 780}, {\"Expt\": 5, \"Run\": 1, \"Speed\": 890}, {\"Expt\": 5, \"Run\": 2, \"Speed\": 840}, {\"Expt\": 5, \"Run\": 3, \"Speed\": 780}, {\"Expt\": 5, \"Run\": 4, \"Speed\": 810}, {\"Expt\": 5, \"Run\": 5, \"Speed\": 760}, {\"Expt\": 5, \"Run\": 6, \"Speed\": 810}, {\"Expt\": 5, \"Run\": 7, \"Speed\": 790}, {\"Expt\": 5, \"Run\": 8, \"Speed\": 810}, {\"Expt\": 5, \"Run\": 9, \"Speed\": 820}, {\"Expt\": 5, \"Run\": 10, \"Speed\": 850}, {\"Expt\": 5, \"Run\": 11, \"Speed\": 870}, {\"Expt\": 5, \"Run\": 12, \"Speed\": 870}, {\"Expt\": 5, \"Run\": 13, \"Speed\": 810}, {\"Expt\": 5, \"Run\": 14, \"Speed\": 740}, {\"Expt\": 5, \"Run\": 15, \"Speed\": 810}, {\"Expt\": 5, \"Run\": 16, \"Speed\": 940}, {\"Expt\": 5, \"Run\": 17, \"Speed\": 950}, {\"Expt\": 5, \"Run\": 18, \"Speed\": 800}, {\"Expt\": 5, \"Run\": 19, \"Speed\": 810}, {\"Expt\": 5, \"Run\": 20, \"Speed\": 870}], \"data-623ad424afb61a0fae69b38cf4c35612\": [{\"x\": 792.458}]}}, {\"mode\": \"vega-lite\"});\n",
       "</script>"
      ],
      "text/plain": [
       "alt.FacetChart(...)"
      ]
     },
     "metadata": {
      "scrapbook": {
       "mime_prefix": "",
       "name": "final_plot_facet"
      }
     },
     "output_type": "display_data"
    }
   ],
   "source": [
    "glue('final_plot_facet', final_plot_facet, display=True)"
   ]
  },
  {
   "cell_type": "markdown",
   "id": "e7b90dc2",
   "metadata": {},
   "source": [
    ":::{glue:figure} final_plot_facet\n",
    ":figwidth: 700px \n",
    ":name: final_plot_facet\n",
    "\n",
    "Histogram of Michelson's speed of light data split vertically by experiment.\n",
    ":::\n",
    "\n",
    "The visualization in {numref}`final_plot_facet`\n",
    "now makes it quite clear how accurate the different experiments were \n",
    "with respect to one another. \n",
    "The most variable measurements came from Experiment 1. \n",
    "There the measurements ranged from about 650&ndash;1050 km/sec.\n",
    "The least variable measurements came from Experiment 2.\n",
    "There, the measurements ranged from about 750&ndash;950 km/sec.\n",
    "The most different experiments still obtained quite similar results!\n",
    "\n",
    "There are two finishing touches to make this visualization even clearer. First and foremost, we need to add informative axis labels\n",
    "using the `alt.X` and `alt.Y` function, and increase the font size to make it readable using the `configure_axis` function. Second, and perhaps more subtly, even though it \n",
    "is easy to compare the experiments on this plot to one another, it is hard to get a sense \n",
    "of just how accurate all the experiments were overall. For example, how accurate is the value 800 on the plot, relative to the true speed of light?\n",
    "To answer this question, we'll use the assign function to transform our data into a relative measure of accuracy rather than absolute measurements:\n",
    "\\index{ggplot!labs}\\index{ggplot!theme}"
   ]
  },
  {
   "cell_type": "code",
   "execution_count": 58,
   "id": "2e73dc6d",
   "metadata": {},
   "outputs": [
    {
     "data": {
      "text/html": [
       "<div>\n",
       "<style scoped>\n",
       "    .dataframe tbody tr th:only-of-type {\n",
       "        vertical-align: middle;\n",
       "    }\n",
       "\n",
       "    .dataframe tbody tr th {\n",
       "        vertical-align: top;\n",
       "    }\n",
       "\n",
       "    .dataframe thead th {\n",
       "        text-align: right;\n",
       "    }\n",
       "</style>\n",
       "<table border=\"1\" class=\"dataframe\">\n",
       "  <thead>\n",
       "    <tr style=\"text-align: right;\">\n",
       "      <th></th>\n",
       "      <th>Expt</th>\n",
       "      <th>Run</th>\n",
       "      <th>Speed</th>\n",
       "      <th>relative_accuracy</th>\n",
       "    </tr>\n",
       "  </thead>\n",
       "  <tbody>\n",
       "    <tr>\n",
       "      <th>0</th>\n",
       "      <td>1</td>\n",
       "      <td>1</td>\n",
       "      <td>850</td>\n",
       "      <td>0.019194</td>\n",
       "    </tr>\n",
       "    <tr>\n",
       "      <th>1</th>\n",
       "      <td>1</td>\n",
       "      <td>2</td>\n",
       "      <td>740</td>\n",
       "      <td>-0.017498</td>\n",
       "    </tr>\n",
       "    <tr>\n",
       "      <th>2</th>\n",
       "      <td>1</td>\n",
       "      <td>3</td>\n",
       "      <td>900</td>\n",
       "      <td>0.035872</td>\n",
       "    </tr>\n",
       "    <tr>\n",
       "      <th>3</th>\n",
       "      <td>1</td>\n",
       "      <td>4</td>\n",
       "      <td>1070</td>\n",
       "      <td>0.092578</td>\n",
       "    </tr>\n",
       "    <tr>\n",
       "      <th>4</th>\n",
       "      <td>1</td>\n",
       "      <td>5</td>\n",
       "      <td>930</td>\n",
       "      <td>0.045879</td>\n",
       "    </tr>\n",
       "    <tr>\n",
       "      <th>...</th>\n",
       "      <td>...</td>\n",
       "      <td>...</td>\n",
       "      <td>...</td>\n",
       "      <td>...</td>\n",
       "    </tr>\n",
       "    <tr>\n",
       "      <th>95</th>\n",
       "      <td>5</td>\n",
       "      <td>16</td>\n",
       "      <td>940</td>\n",
       "      <td>0.049215</td>\n",
       "    </tr>\n",
       "    <tr>\n",
       "      <th>96</th>\n",
       "      <td>5</td>\n",
       "      <td>17</td>\n",
       "      <td>950</td>\n",
       "      <td>0.052550</td>\n",
       "    </tr>\n",
       "    <tr>\n",
       "      <th>97</th>\n",
       "      <td>5</td>\n",
       "      <td>18</td>\n",
       "      <td>800</td>\n",
       "      <td>0.002516</td>\n",
       "    </tr>\n",
       "    <tr>\n",
       "      <th>98</th>\n",
       "      <td>5</td>\n",
       "      <td>19</td>\n",
       "      <td>810</td>\n",
       "      <td>0.005851</td>\n",
       "    </tr>\n",
       "    <tr>\n",
       "      <th>99</th>\n",
       "      <td>5</td>\n",
       "      <td>20</td>\n",
       "      <td>870</td>\n",
       "      <td>0.025865</td>\n",
       "    </tr>\n",
       "  </tbody>\n",
       "</table>\n",
       "<p>100 rows × 4 columns</p>\n",
       "</div>"
      ],
      "text/plain": [
       "    Expt  Run  Speed  relative_accuracy\n",
       "0      1    1    850           0.019194\n",
       "1      1    2    740          -0.017498\n",
       "2      1    3    900           0.035872\n",
       "3      1    4   1070           0.092578\n",
       "4      1    5    930           0.045879\n",
       "..   ...  ...    ...                ...\n",
       "95     5   16    940           0.049215\n",
       "96     5   17    950           0.052550\n",
       "97     5   18    800           0.002516\n",
       "98     5   19    810           0.005851\n",
       "99     5   20    870           0.025865\n",
       "\n",
       "[100 rows x 4 columns]"
      ]
     },
     "execution_count": 58,
     "metadata": {},
     "output_type": "execute_result"
    }
   ],
   "source": [
    "morley_rel = morley_df\n",
    "morley_rel = morley_rel.assign(relative_accuracy = 100 * \n",
    "                       ((299000 + morley_df['Speed']) - 299792.458) / (299792.458) )\n",
    "\n",
    "morley_rel"
   ]
  },
  {
   "cell_type": "code",
   "execution_count": 59,
   "id": "235c87e9",
   "metadata": {},
   "outputs": [],
   "source": [
    "v_line = alt.Chart(pd.DataFrame({'x': [0]})).mark_rule(\n",
    "    strokeDash=[3,3], size=2).encode(\n",
    "    x='x')\n",
    "morley_hist = alt.Chart().mark_bar(opacity=0.6).encode(\n",
    "    x = alt.X(\"relative_accuracy\", bin=alt.Bin(maxbins=120), title = \"Relative Accuracy (%)\"), \n",
    "    y=alt.Y('count()', stack=False, title = \"# Measurements\"),\n",
    "    color = alt.Color(\"Expt:N\",  title = \"Experiment ID\")).properties(height=100, width= 400)\n",
    "\n",
    "final_plot_relative = (morley_hist + v_line).facet(row='Expt:N', data=morley_rel)\n"
   ]
  },
  {
   "cell_type": "code",
   "execution_count": 60,
   "id": "7c512566",
   "metadata": {
    "tags": [
     "remove-cell"
    ]
   },
   "outputs": [
    {
     "data": {
      "text/html": [
       "\n",
       "<div id=\"altair-viz-ad0be6205081495e87aef476c635f45a\"></div>\n",
       "<script type=\"text/javascript\">\n",
       "  var VEGA_DEBUG = (typeof VEGA_DEBUG == \"undefined\") ? {} : VEGA_DEBUG;\n",
       "  (function(spec, embedOpt){\n",
       "    let outputDiv = document.currentScript.previousElementSibling;\n",
       "    if (outputDiv.id !== \"altair-viz-ad0be6205081495e87aef476c635f45a\") {\n",
       "      outputDiv = document.getElementById(\"altair-viz-ad0be6205081495e87aef476c635f45a\");\n",
       "    }\n",
       "    const paths = {\n",
       "      \"vega\": \"https://cdn.jsdelivr.net/npm//vega@5?noext\",\n",
       "      \"vega-lib\": \"https://cdn.jsdelivr.net/npm//vega-lib?noext\",\n",
       "      \"vega-lite\": \"https://cdn.jsdelivr.net/npm//vega-lite@4.17.0?noext\",\n",
       "      \"vega-embed\": \"https://cdn.jsdelivr.net/npm//vega-embed@6?noext\",\n",
       "    };\n",
       "\n",
       "    function maybeLoadScript(lib, version) {\n",
       "      var key = `${lib.replace(\"-\", \"\")}_version`;\n",
       "      return (VEGA_DEBUG[key] == version) ?\n",
       "        Promise.resolve(paths[lib]) :\n",
       "        new Promise(function(resolve, reject) {\n",
       "          var s = document.createElement('script');\n",
       "          document.getElementsByTagName(\"head\")[0].appendChild(s);\n",
       "          s.async = true;\n",
       "          s.onload = () => {\n",
       "            VEGA_DEBUG[key] = version;\n",
       "            return resolve(paths[lib]);\n",
       "          };\n",
       "          s.onerror = () => reject(`Error loading script: ${paths[lib]}`);\n",
       "          s.src = paths[lib];\n",
       "        });\n",
       "    }\n",
       "\n",
       "    function showError(err) {\n",
       "      outputDiv.innerHTML = `<div class=\"error\" style=\"color:red;\">${err}</div>`;\n",
       "      throw err;\n",
       "    }\n",
       "\n",
       "    function displayChart(vegaEmbed) {\n",
       "      vegaEmbed(outputDiv, spec, embedOpt)\n",
       "        .catch(err => showError(`Javascript Error: ${err.message}<br>This usually means there's a typo in your chart specification. See the javascript console for the full traceback.`));\n",
       "    }\n",
       "\n",
       "    if(typeof define === \"function\" && define.amd) {\n",
       "      requirejs.config({paths});\n",
       "      require([\"vega-embed\"], displayChart, err => showError(`Error loading script: ${err.message}`));\n",
       "    } else {\n",
       "      maybeLoadScript(\"vega\", \"5\")\n",
       "        .then(() => maybeLoadScript(\"vega-lite\", \"4.17.0\"))\n",
       "        .then(() => maybeLoadScript(\"vega-embed\", \"6\"))\n",
       "        .catch(showError)\n",
       "        .then(() => displayChart(vegaEmbed));\n",
       "    }\n",
       "  })({\"config\": {\"view\": {\"continuousWidth\": 400, \"continuousHeight\": 300}}, \"data\": {\"name\": \"data-1e61acf23f6299bc481d4a56ec8b6596\"}, \"facet\": {\"row\": {\"field\": \"Expt\", \"type\": \"nominal\"}}, \"spec\": {\"layer\": [{\"mark\": {\"type\": \"bar\", \"opacity\": 0.6}, \"encoding\": {\"color\": {\"field\": \"Expt\", \"title\": \"Experiment ID\", \"type\": \"nominal\"}, \"x\": {\"bin\": {\"maxbins\": 120}, \"field\": \"relative_accuracy\", \"title\": \"Relative Accuracy (%)\", \"type\": \"quantitative\"}, \"y\": {\"aggregate\": \"count\", \"stack\": false, \"title\": \"# Measurements\", \"type\": \"quantitative\"}}, \"height\": 100, \"width\": 400}, {\"data\": {\"name\": \"data-9c00aa9dc2b1c1a0b4bf9b34ead12925\"}, \"mark\": {\"type\": \"rule\", \"size\": 2, \"strokeDash\": [3, 3]}, \"encoding\": {\"x\": {\"field\": \"x\", \"type\": \"quantitative\"}}}]}, \"$schema\": \"https://vega.github.io/schema/vega-lite/v4.17.0.json\", \"datasets\": {\"data-1e61acf23f6299bc481d4a56ec8b6596\": [{\"Expt\": 1, \"Run\": 1, \"Speed\": 850, \"relative_accuracy\": 0.01919394516589735}, {\"Expt\": 1, \"Run\": 2, \"Speed\": 740, \"relative_accuracy\": -0.01749810530589938}, {\"Expt\": 1, \"Run\": 3, \"Speed\": 900, \"relative_accuracy\": 0.03587214992580495}, {\"Expt\": 1, \"Run\": 4, \"Speed\": 1070, \"relative_accuracy\": 0.0925780461094908}, {\"Expt\": 1, \"Run\": 5, \"Speed\": 930, \"relative_accuracy\": 0.04587907278174951}, {\"Expt\": 1, \"Run\": 6, \"Speed\": 850, \"relative_accuracy\": 0.01919394516589735}, {\"Expt\": 1, \"Run\": 7, \"Speed\": 950, \"relative_accuracy\": 0.05255035468571256}, {\"Expt\": 1, \"Run\": 8, \"Speed\": 980, \"relative_accuracy\": 0.06255727754165712}, {\"Expt\": 1, \"Run\": 9, \"Speed\": 980, \"relative_accuracy\": 0.06255727754165712}, {\"Expt\": 1, \"Run\": 10, \"Speed\": 880, \"relative_accuracy\": 0.029200868021841908}, {\"Expt\": 1, \"Run\": 11, \"Speed\": 1000, \"relative_accuracy\": 0.06922855944562016}, {\"Expt\": 1, \"Run\": 12, \"Speed\": 980, \"relative_accuracy\": 0.06255727754165712}, {\"Expt\": 1, \"Run\": 13, \"Speed\": 930, \"relative_accuracy\": 0.04587907278174951}, {\"Expt\": 1, \"Run\": 14, \"Speed\": 650, \"relative_accuracy\": -0.04751887387373307}, {\"Expt\": 1, \"Run\": 15, \"Speed\": 760, \"relative_accuracy\": -0.01082682340193634}, {\"Expt\": 1, \"Run\": 16, \"Speed\": 810, \"relative_accuracy\": 0.005851381357971265}, {\"Expt\": 1, \"Run\": 17, \"Speed\": 1000, \"relative_accuracy\": 0.06922855944562016}, {\"Expt\": 1, \"Run\": 18, \"Speed\": 1000, \"relative_accuracy\": 0.06922855944562016}, {\"Expt\": 1, \"Run\": 19, \"Speed\": 960, \"relative_accuracy\": 0.05588599563769407}, {\"Expt\": 1, \"Run\": 20, \"Speed\": 960, \"relative_accuracy\": 0.05588599563769407}, {\"Expt\": 2, \"Run\": 1, \"Speed\": 960, \"relative_accuracy\": 0.05588599563769407}, {\"Expt\": 2, \"Run\": 2, \"Speed\": 940, \"relative_accuracy\": 0.049214713733731034}, {\"Expt\": 2, \"Run\": 3, \"Speed\": 960, \"relative_accuracy\": 0.05588599563769407}, {\"Expt\": 2, \"Run\": 4, \"Speed\": 940, \"relative_accuracy\": 0.049214713733731034}, {\"Expt\": 2, \"Run\": 5, \"Speed\": 880, \"relative_accuracy\": 0.029200868021841908}, {\"Expt\": 2, \"Run\": 6, \"Speed\": 800, \"relative_accuracy\": 0.0025157404059897442}, {\"Expt\": 2, \"Run\": 7, \"Speed\": 850, \"relative_accuracy\": 0.01919394516589735}, {\"Expt\": 2, \"Run\": 8, \"Speed\": 880, \"relative_accuracy\": 0.029200868021841908}, {\"Expt\": 2, \"Run\": 9, \"Speed\": 900, \"relative_accuracy\": 0.03587214992580495}, {\"Expt\": 2, \"Run\": 10, \"Speed\": 840, \"relative_accuracy\": 0.015858304213915826}, {\"Expt\": 2, \"Run\": 11, \"Speed\": 830, \"relative_accuracy\": 0.012522663261934306}, {\"Expt\": 2, \"Run\": 12, \"Speed\": 790, \"relative_accuracy\": -0.0008199005459917767}, {\"Expt\": 2, \"Run\": 13, \"Speed\": 810, \"relative_accuracy\": 0.005851381357971265}, {\"Expt\": 2, \"Run\": 14, \"Speed\": 880, \"relative_accuracy\": 0.029200868021841908}, {\"Expt\": 2, \"Run\": 15, \"Speed\": 880, \"relative_accuracy\": 0.029200868021841908}, {\"Expt\": 2, \"Run\": 16, \"Speed\": 830, \"relative_accuracy\": 0.012522663261934306}, {\"Expt\": 2, \"Run\": 17, \"Speed\": 800, \"relative_accuracy\": 0.0025157404059897442}, {\"Expt\": 2, \"Run\": 18, \"Speed\": 790, \"relative_accuracy\": -0.0008199005459917767}, {\"Expt\": 2, \"Run\": 19, \"Speed\": 760, \"relative_accuracy\": -0.01082682340193634}, {\"Expt\": 2, \"Run\": 20, \"Speed\": 800, \"relative_accuracy\": 0.0025157404059897442}, {\"Expt\": 3, \"Run\": 1, \"Speed\": 880, \"relative_accuracy\": 0.029200868021841908}, {\"Expt\": 3, \"Run\": 2, \"Speed\": 880, \"relative_accuracy\": 0.029200868021841908}, {\"Expt\": 3, \"Run\": 3, \"Speed\": 880, \"relative_accuracy\": 0.029200868021841908}, {\"Expt\": 3, \"Run\": 4, \"Speed\": 860, \"relative_accuracy\": 0.022529586117878867}, {\"Expt\": 3, \"Run\": 5, \"Speed\": 720, \"relative_accuracy\": -0.02416938720986242}, {\"Expt\": 3, \"Run\": 6, \"Speed\": 720, \"relative_accuracy\": -0.02416938720986242}, {\"Expt\": 3, \"Run\": 7, \"Speed\": 620, \"relative_accuracy\": -0.05752579672967763}, {\"Expt\": 3, \"Run\": 8, \"Speed\": 860, \"relative_accuracy\": 0.022529586117878867}, {\"Expt\": 3, \"Run\": 9, \"Speed\": 970, \"relative_accuracy\": 0.059221636589675594}, {\"Expt\": 3, \"Run\": 10, \"Speed\": 950, \"relative_accuracy\": 0.05255035468571256}, {\"Expt\": 3, \"Run\": 11, \"Speed\": 880, \"relative_accuracy\": 0.029200868021841908}, {\"Expt\": 3, \"Run\": 12, \"Speed\": 910, \"relative_accuracy\": 0.039207790877786475}, {\"Expt\": 3, \"Run\": 13, \"Speed\": 850, \"relative_accuracy\": 0.01919394516589735}, {\"Expt\": 3, \"Run\": 14, \"Speed\": 870, \"relative_accuracy\": 0.02586522706986039}, {\"Expt\": 3, \"Run\": 15, \"Speed\": 840, \"relative_accuracy\": 0.015858304213915826}, {\"Expt\": 3, \"Run\": 16, \"Speed\": 840, \"relative_accuracy\": 0.015858304213915826}, {\"Expt\": 3, \"Run\": 17, \"Speed\": 850, \"relative_accuracy\": 0.01919394516589735}, {\"Expt\": 3, \"Run\": 18, \"Speed\": 840, \"relative_accuracy\": 0.015858304213915826}, {\"Expt\": 3, \"Run\": 19, \"Speed\": 840, \"relative_accuracy\": 0.015858304213915826}, {\"Expt\": 3, \"Run\": 20, \"Speed\": 840, \"relative_accuracy\": 0.015858304213915826}, {\"Expt\": 4, \"Run\": 1, \"Speed\": 890, \"relative_accuracy\": 0.03253650897382343}, {\"Expt\": 4, \"Run\": 2, \"Speed\": 810, \"relative_accuracy\": 0.005851381357971265}, {\"Expt\": 4, \"Run\": 3, \"Speed\": 810, \"relative_accuracy\": 0.005851381357971265}, {\"Expt\": 4, \"Run\": 4, \"Speed\": 820, \"relative_accuracy\": 0.009187022309952785}, {\"Expt\": 4, \"Run\": 5, \"Speed\": 800, \"relative_accuracy\": 0.0025157404059897442}, {\"Expt\": 4, \"Run\": 6, \"Speed\": 770, \"relative_accuracy\": -0.007491182449954818}, {\"Expt\": 4, \"Run\": 7, \"Speed\": 760, \"relative_accuracy\": -0.01082682340193634}, {\"Expt\": 4, \"Run\": 8, \"Speed\": 740, \"relative_accuracy\": -0.01749810530589938}, {\"Expt\": 4, \"Run\": 9, \"Speed\": 750, \"relative_accuracy\": -0.01416246435391786}, {\"Expt\": 4, \"Run\": 10, \"Speed\": 760, \"relative_accuracy\": -0.01082682340193634}, {\"Expt\": 4, \"Run\": 11, \"Speed\": 910, \"relative_accuracy\": 0.039207790877786475}, {\"Expt\": 4, \"Run\": 12, \"Speed\": 920, \"relative_accuracy\": 0.04254343182976799}, {\"Expt\": 4, \"Run\": 13, \"Speed\": 890, \"relative_accuracy\": 0.03253650897382343}, {\"Expt\": 4, \"Run\": 14, \"Speed\": 860, \"relative_accuracy\": 0.022529586117878867}, {\"Expt\": 4, \"Run\": 15, \"Speed\": 880, \"relative_accuracy\": 0.029200868021841908}, {\"Expt\": 4, \"Run\": 16, \"Speed\": 720, \"relative_accuracy\": -0.02416938720986242}, {\"Expt\": 4, \"Run\": 17, \"Speed\": 840, \"relative_accuracy\": 0.015858304213915826}, {\"Expt\": 4, \"Run\": 18, \"Speed\": 850, \"relative_accuracy\": 0.01919394516589735}, {\"Expt\": 4, \"Run\": 19, \"Speed\": 850, \"relative_accuracy\": 0.01919394516589735}, {\"Expt\": 4, \"Run\": 20, \"Speed\": 780, \"relative_accuracy\": -0.004155541497973298}, {\"Expt\": 5, \"Run\": 1, \"Speed\": 890, \"relative_accuracy\": 0.03253650897382343}, {\"Expt\": 5, \"Run\": 2, \"Speed\": 840, \"relative_accuracy\": 0.015858304213915826}, {\"Expt\": 5, \"Run\": 3, \"Speed\": 780, \"relative_accuracy\": -0.004155541497973298}, {\"Expt\": 5, \"Run\": 4, \"Speed\": 810, \"relative_accuracy\": 0.005851381357971265}, {\"Expt\": 5, \"Run\": 5, \"Speed\": 760, \"relative_accuracy\": -0.01082682340193634}, {\"Expt\": 5, \"Run\": 6, \"Speed\": 810, \"relative_accuracy\": 0.005851381357971265}, {\"Expt\": 5, \"Run\": 7, \"Speed\": 790, \"relative_accuracy\": -0.0008199005459917767}, {\"Expt\": 5, \"Run\": 8, \"Speed\": 810, \"relative_accuracy\": 0.005851381357971265}, {\"Expt\": 5, \"Run\": 9, \"Speed\": 820, \"relative_accuracy\": 0.009187022309952785}, {\"Expt\": 5, \"Run\": 10, \"Speed\": 850, \"relative_accuracy\": 0.01919394516589735}, {\"Expt\": 5, \"Run\": 11, \"Speed\": 870, \"relative_accuracy\": 0.02586522706986039}, {\"Expt\": 5, \"Run\": 12, \"Speed\": 870, \"relative_accuracy\": 0.02586522706986039}, {\"Expt\": 5, \"Run\": 13, \"Speed\": 810, \"relative_accuracy\": 0.005851381357971265}, {\"Expt\": 5, \"Run\": 14, \"Speed\": 740, \"relative_accuracy\": -0.01749810530589938}, {\"Expt\": 5, \"Run\": 15, \"Speed\": 810, \"relative_accuracy\": 0.005851381357971265}, {\"Expt\": 5, \"Run\": 16, \"Speed\": 940, \"relative_accuracy\": 0.049214713733731034}, {\"Expt\": 5, \"Run\": 17, \"Speed\": 950, \"relative_accuracy\": 0.05255035468571256}, {\"Expt\": 5, \"Run\": 18, \"Speed\": 800, \"relative_accuracy\": 0.0025157404059897442}, {\"Expt\": 5, \"Run\": 19, \"Speed\": 810, \"relative_accuracy\": 0.005851381357971265}, {\"Expt\": 5, \"Run\": 20, \"Speed\": 870, \"relative_accuracy\": 0.02586522706986039}], \"data-9c00aa9dc2b1c1a0b4bf9b34ead12925\": [{\"x\": 0}]}}, {\"mode\": \"vega-lite\"});\n",
       "</script>"
      ],
      "text/plain": [
       "alt.FacetChart(...)"
      ]
     },
     "metadata": {
      "scrapbook": {
       "mime_prefix": "",
       "name": "final_plot_relative"
      }
     },
     "output_type": "display_data"
    }
   ],
   "source": [
    "glue('final_plot_relative', final_plot_relative, display=True)"
   ]
  },
  {
   "cell_type": "markdown",
   "id": "2e596fcb",
   "metadata": {},
   "source": [
    ":::{glue:figure} final_plot_relative\n",
    ":figwidth: 700px \n",
    ":name: final_plot_relative\n",
    "\n",
    "Histogram of relative accuracy split vertically by experiment with clearer axes and labels\n",
    ":::\n",
    "\n",
    "Wow, impressive! These measurements of the speed of light from 1879 had errors around *0.05%* of the true speed. Figure \\@ref(fig:03-data-morley-hist-5) shows you that even though experiments 2 and 5 were perhaps the most accurate, all of the experiments did quite an \n",
    "admirable job given the technology available at the time.\n",
    "\n",
    "\\newpage\n",
    "\n",
    "#### Choosing a binwidth for histograms {-}\n",
    "\n",
    "When you create a histogram in `altair`, the default number of bins used is 30.\n",
    "Naturally, this is not always the right number to use.\n",
    "You can set the number of bins yourself by using\n",
    "the `maxbins` argument in the `mark_bar` geometric object.\n",
    "\n",
    "But what number of bins is the right one to use? \n",
    "\n",
    "Unfortunately there is no hard rule for what the right bin number\n",
    "or width is. It depends entirely on your problem; the *right* number of bins \n",
    "or bin width is \n",
    "the one that *helps you answer the question* you asked. \n",
    "Choosing the correct setting for your problem \n",
    "is something that commonly takes iteration.\n",
    "\n",
    "It's usually a good idea to try out several `maxbins` to see which one\n",
    "most clearly captures your data in the context of the question\n",
    "you want to answer.\n",
    "\n",
    "To get a sense for how different bin affect visualizations, \n",
    "let's experiment with the histogram that we have been working on in this section.\n",
    "In {numref}`final_plot_max_bins`,\n",
    "we compare the default setting with three other histograms where we set the \n",
    "`maxbins` to 200, 70 and 5.\n",
    "In this case, we can see that both the default number of bins \n",
    "and the bins=5 of  are effective for helping answer our question.\n",
    "On the other hand, the bin widths of 0.001 and 0.1 are too small and too big, respectively."
   ]
  },
  {
   "cell_type": "code",
   "execution_count": 61,
   "id": "3a665e1e",
   "metadata": {
    "tags": [
     "remove-cell"
    ]
   },
   "outputs": [],
   "source": [
    "morley_hist_default = alt.Chart(morley_rel).mark_bar(opacity=0.6).encode(\n",
    "    x = alt.X(\"relative_accuracy\", title = \"Relative Accuracy (%)\"), \n",
    "    y=alt.Y('count()', stack=False, title = \"# Measurements\"),\n",
    "    color = alt.Color(\"Expt:N\",  title = \"Experiment ID\")).properties(height=100, width=400)\n",
    "\n",
    "morley_hist_200 = alt.Chart(morley_rel).mark_bar(opacity=0.6).encode(\n",
    "    x = alt.X(\"relative_accuracy\", bin=alt.Bin(maxbins=200), title = \"Relative Accuracy (%)\"), \n",
    "    y=alt.Y('count()', stack=False, title = \"# Measurements\"),\n",
    "    color = alt.Color(\"Expt:N\",  title = \"Experiment ID\")).properties(height=100, width=400)\n",
    "morley_hist_70 = alt.Chart(morley_rel).mark_bar(opacity=0.6).encode(\n",
    "    x = alt.X(\"relative_accuracy\", bin=alt.Bin(maxbins=70), title = \"Relative Accuracy (%)\"), \n",
    "    y=alt.Y('count()', stack=False, title = \"# Measurements\"),\n",
    "    color = alt.Color(\"Expt:N\",  title = \"Experiment ID\")).properties(height=100, width=400)\n",
    "\n",
    "morley_hist_5 = alt.Chart(morley_rel).mark_bar(opacity=0.6).encode(\n",
    "    x = alt.X(\"relative_accuracy\", bin=alt.Bin(maxbins=5), title = \"Relative Accuracy (%)\"), \n",
    "    y=alt.Y('count()', stack=False, title = \"# Measurements\"),\n",
    "    color = alt.Color(\"Expt:N\",  title = \"Experiment ID\")).properties(height=100, width=400)\n",
    "\n",
    "\n",
    "\n",
    "\n",
    "\n",
    "final_plot_max_bins = ((morley_hist_default + v_line).facet(row='Expt:N', data=morley_rel, title = \"default maxbins\") | (morley_hist_200 + v_line).facet(row='Expt:N', data=morley_rel, title = \"maxBins=200\")) & ((morley_hist_70 + v_line).facet(row='Expt:N', data=morley_rel, title = \"maxBins=70\") | (morley_hist_5 + v_line).facet(row='Expt:N', data=morley_rel, title = \"maxBins=5\"))\n",
    "\n"
   ]
  },
  {
   "cell_type": "code",
   "execution_count": 62,
   "id": "536cea14",
   "metadata": {
    "tags": [
     "remove-cell"
    ]
   },
   "outputs": [
    {
     "data": {
      "text/html": [
       "\n",
       "<div id=\"altair-viz-8c50dc5a5192499eb89bf7c1012e7e82\"></div>\n",
       "<script type=\"text/javascript\">\n",
       "  var VEGA_DEBUG = (typeof VEGA_DEBUG == \"undefined\") ? {} : VEGA_DEBUG;\n",
       "  (function(spec, embedOpt){\n",
       "    let outputDiv = document.currentScript.previousElementSibling;\n",
       "    if (outputDiv.id !== \"altair-viz-8c50dc5a5192499eb89bf7c1012e7e82\") {\n",
       "      outputDiv = document.getElementById(\"altair-viz-8c50dc5a5192499eb89bf7c1012e7e82\");\n",
       "    }\n",
       "    const paths = {\n",
       "      \"vega\": \"https://cdn.jsdelivr.net/npm//vega@5?noext\",\n",
       "      \"vega-lib\": \"https://cdn.jsdelivr.net/npm//vega-lib?noext\",\n",
       "      \"vega-lite\": \"https://cdn.jsdelivr.net/npm//vega-lite@4.17.0?noext\",\n",
       "      \"vega-embed\": \"https://cdn.jsdelivr.net/npm//vega-embed@6?noext\",\n",
       "    };\n",
       "\n",
       "    function maybeLoadScript(lib, version) {\n",
       "      var key = `${lib.replace(\"-\", \"\")}_version`;\n",
       "      return (VEGA_DEBUG[key] == version) ?\n",
       "        Promise.resolve(paths[lib]) :\n",
       "        new Promise(function(resolve, reject) {\n",
       "          var s = document.createElement('script');\n",
       "          document.getElementsByTagName(\"head\")[0].appendChild(s);\n",
       "          s.async = true;\n",
       "          s.onload = () => {\n",
       "            VEGA_DEBUG[key] = version;\n",
       "            return resolve(paths[lib]);\n",
       "          };\n",
       "          s.onerror = () => reject(`Error loading script: ${paths[lib]}`);\n",
       "          s.src = paths[lib];\n",
       "        });\n",
       "    }\n",
       "\n",
       "    function showError(err) {\n",
       "      outputDiv.innerHTML = `<div class=\"error\" style=\"color:red;\">${err}</div>`;\n",
       "      throw err;\n",
       "    }\n",
       "\n",
       "    function displayChart(vegaEmbed) {\n",
       "      vegaEmbed(outputDiv, spec, embedOpt)\n",
       "        .catch(err => showError(`Javascript Error: ${err.message}<br>This usually means there's a typo in your chart specification. See the javascript console for the full traceback.`));\n",
       "    }\n",
       "\n",
       "    if(typeof define === \"function\" && define.amd) {\n",
       "      requirejs.config({paths});\n",
       "      require([\"vega-embed\"], displayChart, err => showError(`Error loading script: ${err.message}`));\n",
       "    } else {\n",
       "      maybeLoadScript(\"vega\", \"5\")\n",
       "        .then(() => maybeLoadScript(\"vega-lite\", \"4.17.0\"))\n",
       "        .then(() => maybeLoadScript(\"vega-embed\", \"6\"))\n",
       "        .catch(showError)\n",
       "        .then(() => displayChart(vegaEmbed));\n",
       "    }\n",
       "  })({\"config\": {\"view\": {\"continuousWidth\": 400, \"continuousHeight\": 300}}, \"vconcat\": [{\"hconcat\": [{\"facet\": {\"row\": {\"field\": \"Expt\", \"type\": \"nominal\"}}, \"spec\": {\"layer\": [{\"data\": {\"name\": \"data-1e61acf23f6299bc481d4a56ec8b6596\"}, \"mark\": {\"type\": \"bar\", \"opacity\": 0.6}, \"encoding\": {\"color\": {\"field\": \"Expt\", \"title\": \"Experiment ID\", \"type\": \"nominal\"}, \"x\": {\"field\": \"relative_accuracy\", \"title\": \"Relative Accuracy (%)\", \"type\": \"quantitative\"}, \"y\": {\"aggregate\": \"count\", \"stack\": false, \"title\": \"# Measurements\", \"type\": \"quantitative\"}}, \"height\": 100, \"width\": 400}, {\"data\": {\"name\": \"data-9c00aa9dc2b1c1a0b4bf9b34ead12925\"}, \"mark\": {\"type\": \"rule\", \"size\": 2, \"strokeDash\": [3, 3]}, \"encoding\": {\"x\": {\"field\": \"x\", \"type\": \"quantitative\"}}}]}, \"title\": \"default maxbins\"}, {\"facet\": {\"row\": {\"field\": \"Expt\", \"type\": \"nominal\"}}, \"spec\": {\"layer\": [{\"data\": {\"name\": \"data-1e61acf23f6299bc481d4a56ec8b6596\"}, \"mark\": {\"type\": \"bar\", \"opacity\": 0.6}, \"encoding\": {\"color\": {\"field\": \"Expt\", \"title\": \"Experiment ID\", \"type\": \"nominal\"}, \"x\": {\"bin\": {\"maxbins\": 200}, \"field\": \"relative_accuracy\", \"title\": \"Relative Accuracy (%)\", \"type\": \"quantitative\"}, \"y\": {\"aggregate\": \"count\", \"stack\": false, \"title\": \"# Measurements\", \"type\": \"quantitative\"}}, \"height\": 100, \"width\": 400}, {\"data\": {\"name\": \"data-9c00aa9dc2b1c1a0b4bf9b34ead12925\"}, \"mark\": {\"type\": \"rule\", \"size\": 2, \"strokeDash\": [3, 3]}, \"encoding\": {\"x\": {\"field\": \"x\", \"type\": \"quantitative\"}}}]}, \"title\": \"maxBins=200\"}]}, {\"hconcat\": [{\"facet\": {\"row\": {\"field\": \"Expt\", \"type\": \"nominal\"}}, \"spec\": {\"layer\": [{\"data\": {\"name\": \"data-1e61acf23f6299bc481d4a56ec8b6596\"}, \"mark\": {\"type\": \"bar\", \"opacity\": 0.6}, \"encoding\": {\"color\": {\"field\": \"Expt\", \"title\": \"Experiment ID\", \"type\": \"nominal\"}, \"x\": {\"bin\": {\"maxbins\": 70}, \"field\": \"relative_accuracy\", \"title\": \"Relative Accuracy (%)\", \"type\": \"quantitative\"}, \"y\": {\"aggregate\": \"count\", \"stack\": false, \"title\": \"# Measurements\", \"type\": \"quantitative\"}}, \"height\": 100, \"width\": 400}, {\"data\": {\"name\": \"data-9c00aa9dc2b1c1a0b4bf9b34ead12925\"}, \"mark\": {\"type\": \"rule\", \"size\": 2, \"strokeDash\": [3, 3]}, \"encoding\": {\"x\": {\"field\": \"x\", \"type\": \"quantitative\"}}}]}, \"title\": \"maxBins=70\"}, {\"facet\": {\"row\": {\"field\": \"Expt\", \"type\": \"nominal\"}}, \"spec\": {\"layer\": [{\"data\": {\"name\": \"data-1e61acf23f6299bc481d4a56ec8b6596\"}, \"mark\": {\"type\": \"bar\", \"opacity\": 0.6}, \"encoding\": {\"color\": {\"field\": \"Expt\", \"title\": \"Experiment ID\", \"type\": \"nominal\"}, \"x\": {\"bin\": {\"maxbins\": 5}, \"field\": \"relative_accuracy\", \"title\": \"Relative Accuracy (%)\", \"type\": \"quantitative\"}, \"y\": {\"aggregate\": \"count\", \"stack\": false, \"title\": \"# Measurements\", \"type\": \"quantitative\"}}, \"height\": 100, \"width\": 400}, {\"data\": {\"name\": \"data-9c00aa9dc2b1c1a0b4bf9b34ead12925\"}, \"mark\": {\"type\": \"rule\", \"size\": 2, \"strokeDash\": [3, 3]}, \"encoding\": {\"x\": {\"field\": \"x\", \"type\": \"quantitative\"}}}]}, \"title\": \"maxBins=5\"}]}], \"data\": {\"name\": \"data-1e61acf23f6299bc481d4a56ec8b6596\"}, \"$schema\": \"https://vega.github.io/schema/vega-lite/v4.17.0.json\", \"datasets\": {\"data-1e61acf23f6299bc481d4a56ec8b6596\": [{\"Expt\": 1, \"Run\": 1, \"Speed\": 850, \"relative_accuracy\": 0.01919394516589735}, {\"Expt\": 1, \"Run\": 2, \"Speed\": 740, \"relative_accuracy\": -0.01749810530589938}, {\"Expt\": 1, \"Run\": 3, \"Speed\": 900, \"relative_accuracy\": 0.03587214992580495}, {\"Expt\": 1, \"Run\": 4, \"Speed\": 1070, \"relative_accuracy\": 0.0925780461094908}, {\"Expt\": 1, \"Run\": 5, \"Speed\": 930, \"relative_accuracy\": 0.04587907278174951}, {\"Expt\": 1, \"Run\": 6, \"Speed\": 850, \"relative_accuracy\": 0.01919394516589735}, {\"Expt\": 1, \"Run\": 7, \"Speed\": 950, \"relative_accuracy\": 0.05255035468571256}, {\"Expt\": 1, \"Run\": 8, \"Speed\": 980, \"relative_accuracy\": 0.06255727754165712}, {\"Expt\": 1, \"Run\": 9, \"Speed\": 980, \"relative_accuracy\": 0.06255727754165712}, {\"Expt\": 1, \"Run\": 10, \"Speed\": 880, \"relative_accuracy\": 0.029200868021841908}, {\"Expt\": 1, \"Run\": 11, \"Speed\": 1000, \"relative_accuracy\": 0.06922855944562016}, {\"Expt\": 1, \"Run\": 12, \"Speed\": 980, \"relative_accuracy\": 0.06255727754165712}, {\"Expt\": 1, \"Run\": 13, \"Speed\": 930, \"relative_accuracy\": 0.04587907278174951}, {\"Expt\": 1, \"Run\": 14, \"Speed\": 650, \"relative_accuracy\": -0.04751887387373307}, {\"Expt\": 1, \"Run\": 15, \"Speed\": 760, \"relative_accuracy\": -0.01082682340193634}, {\"Expt\": 1, \"Run\": 16, \"Speed\": 810, \"relative_accuracy\": 0.005851381357971265}, {\"Expt\": 1, \"Run\": 17, \"Speed\": 1000, \"relative_accuracy\": 0.06922855944562016}, {\"Expt\": 1, \"Run\": 18, \"Speed\": 1000, \"relative_accuracy\": 0.06922855944562016}, {\"Expt\": 1, \"Run\": 19, \"Speed\": 960, \"relative_accuracy\": 0.05588599563769407}, {\"Expt\": 1, \"Run\": 20, \"Speed\": 960, \"relative_accuracy\": 0.05588599563769407}, {\"Expt\": 2, \"Run\": 1, \"Speed\": 960, \"relative_accuracy\": 0.05588599563769407}, {\"Expt\": 2, \"Run\": 2, \"Speed\": 940, \"relative_accuracy\": 0.049214713733731034}, {\"Expt\": 2, \"Run\": 3, \"Speed\": 960, \"relative_accuracy\": 0.05588599563769407}, {\"Expt\": 2, \"Run\": 4, \"Speed\": 940, \"relative_accuracy\": 0.049214713733731034}, {\"Expt\": 2, \"Run\": 5, \"Speed\": 880, \"relative_accuracy\": 0.029200868021841908}, {\"Expt\": 2, \"Run\": 6, \"Speed\": 800, \"relative_accuracy\": 0.0025157404059897442}, {\"Expt\": 2, \"Run\": 7, \"Speed\": 850, \"relative_accuracy\": 0.01919394516589735}, {\"Expt\": 2, \"Run\": 8, \"Speed\": 880, \"relative_accuracy\": 0.029200868021841908}, {\"Expt\": 2, \"Run\": 9, \"Speed\": 900, \"relative_accuracy\": 0.03587214992580495}, {\"Expt\": 2, \"Run\": 10, \"Speed\": 840, \"relative_accuracy\": 0.015858304213915826}, {\"Expt\": 2, \"Run\": 11, \"Speed\": 830, \"relative_accuracy\": 0.012522663261934306}, {\"Expt\": 2, \"Run\": 12, \"Speed\": 790, \"relative_accuracy\": -0.0008199005459917767}, {\"Expt\": 2, \"Run\": 13, \"Speed\": 810, \"relative_accuracy\": 0.005851381357971265}, {\"Expt\": 2, \"Run\": 14, \"Speed\": 880, \"relative_accuracy\": 0.029200868021841908}, {\"Expt\": 2, \"Run\": 15, \"Speed\": 880, \"relative_accuracy\": 0.029200868021841908}, {\"Expt\": 2, \"Run\": 16, \"Speed\": 830, \"relative_accuracy\": 0.012522663261934306}, {\"Expt\": 2, \"Run\": 17, \"Speed\": 800, \"relative_accuracy\": 0.0025157404059897442}, {\"Expt\": 2, \"Run\": 18, \"Speed\": 790, \"relative_accuracy\": -0.0008199005459917767}, {\"Expt\": 2, \"Run\": 19, \"Speed\": 760, \"relative_accuracy\": -0.01082682340193634}, {\"Expt\": 2, \"Run\": 20, \"Speed\": 800, \"relative_accuracy\": 0.0025157404059897442}, {\"Expt\": 3, \"Run\": 1, \"Speed\": 880, \"relative_accuracy\": 0.029200868021841908}, {\"Expt\": 3, \"Run\": 2, \"Speed\": 880, \"relative_accuracy\": 0.029200868021841908}, {\"Expt\": 3, \"Run\": 3, \"Speed\": 880, \"relative_accuracy\": 0.029200868021841908}, {\"Expt\": 3, \"Run\": 4, \"Speed\": 860, \"relative_accuracy\": 0.022529586117878867}, {\"Expt\": 3, \"Run\": 5, \"Speed\": 720, \"relative_accuracy\": -0.02416938720986242}, {\"Expt\": 3, \"Run\": 6, \"Speed\": 720, \"relative_accuracy\": -0.02416938720986242}, {\"Expt\": 3, \"Run\": 7, \"Speed\": 620, \"relative_accuracy\": -0.05752579672967763}, {\"Expt\": 3, \"Run\": 8, \"Speed\": 860, \"relative_accuracy\": 0.022529586117878867}, {\"Expt\": 3, \"Run\": 9, \"Speed\": 970, \"relative_accuracy\": 0.059221636589675594}, {\"Expt\": 3, \"Run\": 10, \"Speed\": 950, \"relative_accuracy\": 0.05255035468571256}, {\"Expt\": 3, \"Run\": 11, \"Speed\": 880, \"relative_accuracy\": 0.029200868021841908}, {\"Expt\": 3, \"Run\": 12, \"Speed\": 910, \"relative_accuracy\": 0.039207790877786475}, {\"Expt\": 3, \"Run\": 13, \"Speed\": 850, \"relative_accuracy\": 0.01919394516589735}, {\"Expt\": 3, \"Run\": 14, \"Speed\": 870, \"relative_accuracy\": 0.02586522706986039}, {\"Expt\": 3, \"Run\": 15, \"Speed\": 840, \"relative_accuracy\": 0.015858304213915826}, {\"Expt\": 3, \"Run\": 16, \"Speed\": 840, \"relative_accuracy\": 0.015858304213915826}, {\"Expt\": 3, \"Run\": 17, \"Speed\": 850, \"relative_accuracy\": 0.01919394516589735}, {\"Expt\": 3, \"Run\": 18, \"Speed\": 840, \"relative_accuracy\": 0.015858304213915826}, {\"Expt\": 3, \"Run\": 19, \"Speed\": 840, \"relative_accuracy\": 0.015858304213915826}, {\"Expt\": 3, \"Run\": 20, \"Speed\": 840, \"relative_accuracy\": 0.015858304213915826}, {\"Expt\": 4, \"Run\": 1, \"Speed\": 890, \"relative_accuracy\": 0.03253650897382343}, {\"Expt\": 4, \"Run\": 2, \"Speed\": 810, \"relative_accuracy\": 0.005851381357971265}, {\"Expt\": 4, \"Run\": 3, \"Speed\": 810, \"relative_accuracy\": 0.005851381357971265}, {\"Expt\": 4, \"Run\": 4, \"Speed\": 820, \"relative_accuracy\": 0.009187022309952785}, {\"Expt\": 4, \"Run\": 5, \"Speed\": 800, \"relative_accuracy\": 0.0025157404059897442}, {\"Expt\": 4, \"Run\": 6, \"Speed\": 770, \"relative_accuracy\": -0.007491182449954818}, {\"Expt\": 4, \"Run\": 7, \"Speed\": 760, \"relative_accuracy\": -0.01082682340193634}, {\"Expt\": 4, \"Run\": 8, \"Speed\": 740, \"relative_accuracy\": -0.01749810530589938}, {\"Expt\": 4, \"Run\": 9, \"Speed\": 750, \"relative_accuracy\": -0.01416246435391786}, {\"Expt\": 4, \"Run\": 10, \"Speed\": 760, \"relative_accuracy\": -0.01082682340193634}, {\"Expt\": 4, \"Run\": 11, \"Speed\": 910, \"relative_accuracy\": 0.039207790877786475}, {\"Expt\": 4, \"Run\": 12, \"Speed\": 920, \"relative_accuracy\": 0.04254343182976799}, {\"Expt\": 4, \"Run\": 13, \"Speed\": 890, \"relative_accuracy\": 0.03253650897382343}, {\"Expt\": 4, \"Run\": 14, \"Speed\": 860, \"relative_accuracy\": 0.022529586117878867}, {\"Expt\": 4, \"Run\": 15, \"Speed\": 880, \"relative_accuracy\": 0.029200868021841908}, {\"Expt\": 4, \"Run\": 16, \"Speed\": 720, \"relative_accuracy\": -0.02416938720986242}, {\"Expt\": 4, \"Run\": 17, \"Speed\": 840, \"relative_accuracy\": 0.015858304213915826}, {\"Expt\": 4, \"Run\": 18, \"Speed\": 850, \"relative_accuracy\": 0.01919394516589735}, {\"Expt\": 4, \"Run\": 19, \"Speed\": 850, \"relative_accuracy\": 0.01919394516589735}, {\"Expt\": 4, \"Run\": 20, \"Speed\": 780, \"relative_accuracy\": -0.004155541497973298}, {\"Expt\": 5, \"Run\": 1, \"Speed\": 890, \"relative_accuracy\": 0.03253650897382343}, {\"Expt\": 5, \"Run\": 2, \"Speed\": 840, \"relative_accuracy\": 0.015858304213915826}, {\"Expt\": 5, \"Run\": 3, \"Speed\": 780, \"relative_accuracy\": -0.004155541497973298}, {\"Expt\": 5, \"Run\": 4, \"Speed\": 810, \"relative_accuracy\": 0.005851381357971265}, {\"Expt\": 5, \"Run\": 5, \"Speed\": 760, \"relative_accuracy\": -0.01082682340193634}, {\"Expt\": 5, \"Run\": 6, \"Speed\": 810, \"relative_accuracy\": 0.005851381357971265}, {\"Expt\": 5, \"Run\": 7, \"Speed\": 790, \"relative_accuracy\": -0.0008199005459917767}, {\"Expt\": 5, \"Run\": 8, \"Speed\": 810, \"relative_accuracy\": 0.005851381357971265}, {\"Expt\": 5, \"Run\": 9, \"Speed\": 820, \"relative_accuracy\": 0.009187022309952785}, {\"Expt\": 5, \"Run\": 10, \"Speed\": 850, \"relative_accuracy\": 0.01919394516589735}, {\"Expt\": 5, \"Run\": 11, \"Speed\": 870, \"relative_accuracy\": 0.02586522706986039}, {\"Expt\": 5, \"Run\": 12, \"Speed\": 870, \"relative_accuracy\": 0.02586522706986039}, {\"Expt\": 5, \"Run\": 13, \"Speed\": 810, \"relative_accuracy\": 0.005851381357971265}, {\"Expt\": 5, \"Run\": 14, \"Speed\": 740, \"relative_accuracy\": -0.01749810530589938}, {\"Expt\": 5, \"Run\": 15, \"Speed\": 810, \"relative_accuracy\": 0.005851381357971265}, {\"Expt\": 5, \"Run\": 16, \"Speed\": 940, \"relative_accuracy\": 0.049214713733731034}, {\"Expt\": 5, \"Run\": 17, \"Speed\": 950, \"relative_accuracy\": 0.05255035468571256}, {\"Expt\": 5, \"Run\": 18, \"Speed\": 800, \"relative_accuracy\": 0.0025157404059897442}, {\"Expt\": 5, \"Run\": 19, \"Speed\": 810, \"relative_accuracy\": 0.005851381357971265}, {\"Expt\": 5, \"Run\": 20, \"Speed\": 870, \"relative_accuracy\": 0.02586522706986039}], \"data-9c00aa9dc2b1c1a0b4bf9b34ead12925\": [{\"x\": 0}]}}, {\"mode\": \"vega-lite\"});\n",
       "</script>"
      ],
      "text/plain": [
       "alt.VConcatChart(...)"
      ]
     },
     "metadata": {
      "scrapbook": {
       "mime_prefix": "",
       "name": "final_plot_max_bins"
      }
     },
     "output_type": "display_data"
    }
   ],
   "source": [
    "glue('final_plot_max_bins', final_plot_max_bins, display=True)"
   ]
  },
  {
   "cell_type": "markdown",
   "id": "9ca3904d",
   "metadata": {},
   "source": [
    ":::{glue:figure} final_plot_max_bins\n",
    ":figwidth: 700px \n",
    ":name: final_plot_max_bins\n",
    "\n",
    "Effect of varying number of max bins on histograms.\n",
    ":::\n",
    "\n",
    "#### Adding layers to a `altair` plot object {-}\n",
    "\n",
    "One of the powerful features of `altair` is that you \n",
    "can continue to iterate on a single plot object, adding and refining\n",
    "one layer \\index{ggplot!add layer} at a time. If you stored your plot as a named object\n",
    "using the assignment symbol (`=`), you can \n",
    "add to it using the `+` operator.\n",
    "For example, if we wanted to add a vertical line to the last plot we created (`morley_hist`), \n",
    "we can use the `+` operator to add a vertical line chart layer with the `mark_rule` function.\n",
    "The result is shown in {numref}`morley_hist_layer`."
   ]
  },
  {
   "cell_type": "code",
   "execution_count": 63,
   "id": "595a742e",
   "metadata": {},
   "outputs": [],
   "source": [
    "morley_hist_colored = alt.Chart(morley_df).mark_bar(opacity=0.5).encode(\n",
    "    x = alt.X(\"Speed\"), \n",
    "    y=alt.Y('count()'),\n",
    "    color = \"Expt:N\")\n",
    "    \n",
    "v_line = alt.Chart(pd.DataFrame({'x': [792.458]})).mark_rule(\n",
    "    strokeDash=[3,3], size=1).encode(\n",
    "    x='x')\n",
    "morley_hist_layer = morley_hist_colored + v_line   \n",
    "    "
   ]
  },
  {
   "cell_type": "code",
   "execution_count": 64,
   "id": "a814ab3c",
   "metadata": {
    "tags": [
     "remove-cell"
    ]
   },
   "outputs": [
    {
     "data": {
      "text/html": [
       "\n",
       "<div id=\"altair-viz-06198d9b8556403d99da871a251fef1c\"></div>\n",
       "<script type=\"text/javascript\">\n",
       "  var VEGA_DEBUG = (typeof VEGA_DEBUG == \"undefined\") ? {} : VEGA_DEBUG;\n",
       "  (function(spec, embedOpt){\n",
       "    let outputDiv = document.currentScript.previousElementSibling;\n",
       "    if (outputDiv.id !== \"altair-viz-06198d9b8556403d99da871a251fef1c\") {\n",
       "      outputDiv = document.getElementById(\"altair-viz-06198d9b8556403d99da871a251fef1c\");\n",
       "    }\n",
       "    const paths = {\n",
       "      \"vega\": \"https://cdn.jsdelivr.net/npm//vega@5?noext\",\n",
       "      \"vega-lib\": \"https://cdn.jsdelivr.net/npm//vega-lib?noext\",\n",
       "      \"vega-lite\": \"https://cdn.jsdelivr.net/npm//vega-lite@4.17.0?noext\",\n",
       "      \"vega-embed\": \"https://cdn.jsdelivr.net/npm//vega-embed@6?noext\",\n",
       "    };\n",
       "\n",
       "    function maybeLoadScript(lib, version) {\n",
       "      var key = `${lib.replace(\"-\", \"\")}_version`;\n",
       "      return (VEGA_DEBUG[key] == version) ?\n",
       "        Promise.resolve(paths[lib]) :\n",
       "        new Promise(function(resolve, reject) {\n",
       "          var s = document.createElement('script');\n",
       "          document.getElementsByTagName(\"head\")[0].appendChild(s);\n",
       "          s.async = true;\n",
       "          s.onload = () => {\n",
       "            VEGA_DEBUG[key] = version;\n",
       "            return resolve(paths[lib]);\n",
       "          };\n",
       "          s.onerror = () => reject(`Error loading script: ${paths[lib]}`);\n",
       "          s.src = paths[lib];\n",
       "        });\n",
       "    }\n",
       "\n",
       "    function showError(err) {\n",
       "      outputDiv.innerHTML = `<div class=\"error\" style=\"color:red;\">${err}</div>`;\n",
       "      throw err;\n",
       "    }\n",
       "\n",
       "    function displayChart(vegaEmbed) {\n",
       "      vegaEmbed(outputDiv, spec, embedOpt)\n",
       "        .catch(err => showError(`Javascript Error: ${err.message}<br>This usually means there's a typo in your chart specification. See the javascript console for the full traceback.`));\n",
       "    }\n",
       "\n",
       "    if(typeof define === \"function\" && define.amd) {\n",
       "      requirejs.config({paths});\n",
       "      require([\"vega-embed\"], displayChart, err => showError(`Error loading script: ${err.message}`));\n",
       "    } else {\n",
       "      maybeLoadScript(\"vega\", \"5\")\n",
       "        .then(() => maybeLoadScript(\"vega-lite\", \"4.17.0\"))\n",
       "        .then(() => maybeLoadScript(\"vega-embed\", \"6\"))\n",
       "        .catch(showError)\n",
       "        .then(() => displayChart(vegaEmbed));\n",
       "    }\n",
       "  })({\"config\": {\"view\": {\"continuousWidth\": 400, \"continuousHeight\": 300}}, \"layer\": [{\"data\": {\"name\": \"data-9505d6e8ffc0fbd66f1f70f18ab69d65\"}, \"mark\": {\"type\": \"bar\", \"opacity\": 0.5}, \"encoding\": {\"color\": {\"field\": \"Expt\", \"type\": \"nominal\"}, \"x\": {\"field\": \"Speed\", \"type\": \"quantitative\"}, \"y\": {\"aggregate\": \"count\", \"type\": \"quantitative\"}}}, {\"data\": {\"name\": \"data-623ad424afb61a0fae69b38cf4c35612\"}, \"mark\": {\"type\": \"rule\", \"size\": 1, \"strokeDash\": [3, 3]}, \"encoding\": {\"x\": {\"field\": \"x\", \"type\": \"quantitative\"}}}], \"$schema\": \"https://vega.github.io/schema/vega-lite/v4.17.0.json\", \"datasets\": {\"data-9505d6e8ffc0fbd66f1f70f18ab69d65\": [{\"Expt\": 1, \"Run\": 1, \"Speed\": 850}, {\"Expt\": 1, \"Run\": 2, \"Speed\": 740}, {\"Expt\": 1, \"Run\": 3, \"Speed\": 900}, {\"Expt\": 1, \"Run\": 4, \"Speed\": 1070}, {\"Expt\": 1, \"Run\": 5, \"Speed\": 930}, {\"Expt\": 1, \"Run\": 6, \"Speed\": 850}, {\"Expt\": 1, \"Run\": 7, \"Speed\": 950}, {\"Expt\": 1, \"Run\": 8, \"Speed\": 980}, {\"Expt\": 1, \"Run\": 9, \"Speed\": 980}, {\"Expt\": 1, \"Run\": 10, \"Speed\": 880}, {\"Expt\": 1, \"Run\": 11, \"Speed\": 1000}, {\"Expt\": 1, \"Run\": 12, \"Speed\": 980}, {\"Expt\": 1, \"Run\": 13, \"Speed\": 930}, {\"Expt\": 1, \"Run\": 14, \"Speed\": 650}, {\"Expt\": 1, \"Run\": 15, \"Speed\": 760}, {\"Expt\": 1, \"Run\": 16, \"Speed\": 810}, {\"Expt\": 1, \"Run\": 17, \"Speed\": 1000}, {\"Expt\": 1, \"Run\": 18, \"Speed\": 1000}, {\"Expt\": 1, \"Run\": 19, \"Speed\": 960}, {\"Expt\": 1, \"Run\": 20, \"Speed\": 960}, {\"Expt\": 2, \"Run\": 1, \"Speed\": 960}, {\"Expt\": 2, \"Run\": 2, \"Speed\": 940}, {\"Expt\": 2, \"Run\": 3, \"Speed\": 960}, {\"Expt\": 2, \"Run\": 4, \"Speed\": 940}, {\"Expt\": 2, \"Run\": 5, \"Speed\": 880}, {\"Expt\": 2, \"Run\": 6, \"Speed\": 800}, {\"Expt\": 2, \"Run\": 7, \"Speed\": 850}, {\"Expt\": 2, \"Run\": 8, \"Speed\": 880}, {\"Expt\": 2, \"Run\": 9, \"Speed\": 900}, {\"Expt\": 2, \"Run\": 10, \"Speed\": 840}, {\"Expt\": 2, \"Run\": 11, \"Speed\": 830}, {\"Expt\": 2, \"Run\": 12, \"Speed\": 790}, {\"Expt\": 2, \"Run\": 13, \"Speed\": 810}, {\"Expt\": 2, \"Run\": 14, \"Speed\": 880}, {\"Expt\": 2, \"Run\": 15, \"Speed\": 880}, {\"Expt\": 2, \"Run\": 16, \"Speed\": 830}, {\"Expt\": 2, \"Run\": 17, \"Speed\": 800}, {\"Expt\": 2, \"Run\": 18, \"Speed\": 790}, {\"Expt\": 2, \"Run\": 19, \"Speed\": 760}, {\"Expt\": 2, \"Run\": 20, \"Speed\": 800}, {\"Expt\": 3, \"Run\": 1, \"Speed\": 880}, {\"Expt\": 3, \"Run\": 2, \"Speed\": 880}, {\"Expt\": 3, \"Run\": 3, \"Speed\": 880}, {\"Expt\": 3, \"Run\": 4, \"Speed\": 860}, {\"Expt\": 3, \"Run\": 5, \"Speed\": 720}, {\"Expt\": 3, \"Run\": 6, \"Speed\": 720}, {\"Expt\": 3, \"Run\": 7, \"Speed\": 620}, {\"Expt\": 3, \"Run\": 8, \"Speed\": 860}, {\"Expt\": 3, \"Run\": 9, \"Speed\": 970}, {\"Expt\": 3, \"Run\": 10, \"Speed\": 950}, {\"Expt\": 3, \"Run\": 11, \"Speed\": 880}, {\"Expt\": 3, \"Run\": 12, \"Speed\": 910}, {\"Expt\": 3, \"Run\": 13, \"Speed\": 850}, {\"Expt\": 3, \"Run\": 14, \"Speed\": 870}, {\"Expt\": 3, \"Run\": 15, \"Speed\": 840}, {\"Expt\": 3, \"Run\": 16, \"Speed\": 840}, {\"Expt\": 3, \"Run\": 17, \"Speed\": 850}, {\"Expt\": 3, \"Run\": 18, \"Speed\": 840}, {\"Expt\": 3, \"Run\": 19, \"Speed\": 840}, {\"Expt\": 3, \"Run\": 20, \"Speed\": 840}, {\"Expt\": 4, \"Run\": 1, \"Speed\": 890}, {\"Expt\": 4, \"Run\": 2, \"Speed\": 810}, {\"Expt\": 4, \"Run\": 3, \"Speed\": 810}, {\"Expt\": 4, \"Run\": 4, \"Speed\": 820}, {\"Expt\": 4, \"Run\": 5, \"Speed\": 800}, {\"Expt\": 4, \"Run\": 6, \"Speed\": 770}, {\"Expt\": 4, \"Run\": 7, \"Speed\": 760}, {\"Expt\": 4, \"Run\": 8, \"Speed\": 740}, {\"Expt\": 4, \"Run\": 9, \"Speed\": 750}, {\"Expt\": 4, \"Run\": 10, \"Speed\": 760}, {\"Expt\": 4, \"Run\": 11, \"Speed\": 910}, {\"Expt\": 4, \"Run\": 12, \"Speed\": 920}, {\"Expt\": 4, \"Run\": 13, \"Speed\": 890}, {\"Expt\": 4, \"Run\": 14, \"Speed\": 860}, {\"Expt\": 4, \"Run\": 15, \"Speed\": 880}, {\"Expt\": 4, \"Run\": 16, \"Speed\": 720}, {\"Expt\": 4, \"Run\": 17, \"Speed\": 840}, {\"Expt\": 4, \"Run\": 18, \"Speed\": 850}, {\"Expt\": 4, \"Run\": 19, \"Speed\": 850}, {\"Expt\": 4, \"Run\": 20, \"Speed\": 780}, {\"Expt\": 5, \"Run\": 1, \"Speed\": 890}, {\"Expt\": 5, \"Run\": 2, \"Speed\": 840}, {\"Expt\": 5, \"Run\": 3, \"Speed\": 780}, {\"Expt\": 5, \"Run\": 4, \"Speed\": 810}, {\"Expt\": 5, \"Run\": 5, \"Speed\": 760}, {\"Expt\": 5, \"Run\": 6, \"Speed\": 810}, {\"Expt\": 5, \"Run\": 7, \"Speed\": 790}, {\"Expt\": 5, \"Run\": 8, \"Speed\": 810}, {\"Expt\": 5, \"Run\": 9, \"Speed\": 820}, {\"Expt\": 5, \"Run\": 10, \"Speed\": 850}, {\"Expt\": 5, \"Run\": 11, \"Speed\": 870}, {\"Expt\": 5, \"Run\": 12, \"Speed\": 870}, {\"Expt\": 5, \"Run\": 13, \"Speed\": 810}, {\"Expt\": 5, \"Run\": 14, \"Speed\": 740}, {\"Expt\": 5, \"Run\": 15, \"Speed\": 810}, {\"Expt\": 5, \"Run\": 16, \"Speed\": 940}, {\"Expt\": 5, \"Run\": 17, \"Speed\": 950}, {\"Expt\": 5, \"Run\": 18, \"Speed\": 800}, {\"Expt\": 5, \"Run\": 19, \"Speed\": 810}, {\"Expt\": 5, \"Run\": 20, \"Speed\": 870}], \"data-623ad424afb61a0fae69b38cf4c35612\": [{\"x\": 792.458}]}}, {\"mode\": \"vega-lite\"});\n",
       "</script>"
      ],
      "text/plain": [
       "alt.LayerChart(...)"
      ]
     },
     "metadata": {
      "scrapbook": {
       "mime_prefix": "",
       "name": "morley_hist_layer"
      }
     },
     "output_type": "display_data"
    }
   ],
   "source": [
    "glue('morley_hist_layer', morley_hist_layer, display=True)"
   ]
  },
  {
   "cell_type": "markdown",
   "id": "7c47dbd1",
   "metadata": {},
   "source": [
    ":::{glue:figure} morley_hist_layer\n",
    ":figwidth: 700px \n",
    ":name: morley_hist_layer\n",
    "\n",
    "Histogram of Michelson's speed of light data colored by experiment with layered vertical line.\n",
    ":::\n",
    "\n",
    "\n",
    "We can also add a title to the chart by specifying `title` argument in the `alt.Chart` function"
   ]
  },
  {
   "cell_type": "code",
   "execution_count": 65,
   "id": "32e68239",
   "metadata": {},
   "outputs": [],
   "source": [
    "morley_hist_title = alt.Chart(morley_df, title = \"Histogram of Michelson's speed of light data colored by experiment\").mark_bar(opacity=0.5).encode(\n",
    "    x = alt.X(\"Speed\"), \n",
    "    y=alt.Y('count()'),\n",
    "    color = \"Expt:N\")\n",
    "\n"
   ]
  },
  {
   "cell_type": "code",
   "execution_count": 66,
   "id": "a514ad65",
   "metadata": {
    "tags": [
     "remove-cell"
    ]
   },
   "outputs": [
    {
     "data": {
      "text/html": [
       "\n",
       "<div id=\"altair-viz-bde1d8b964fa461eb16f943c421881e0\"></div>\n",
       "<script type=\"text/javascript\">\n",
       "  var VEGA_DEBUG = (typeof VEGA_DEBUG == \"undefined\") ? {} : VEGA_DEBUG;\n",
       "  (function(spec, embedOpt){\n",
       "    let outputDiv = document.currentScript.previousElementSibling;\n",
       "    if (outputDiv.id !== \"altair-viz-bde1d8b964fa461eb16f943c421881e0\") {\n",
       "      outputDiv = document.getElementById(\"altair-viz-bde1d8b964fa461eb16f943c421881e0\");\n",
       "    }\n",
       "    const paths = {\n",
       "      \"vega\": \"https://cdn.jsdelivr.net/npm//vega@5?noext\",\n",
       "      \"vega-lib\": \"https://cdn.jsdelivr.net/npm//vega-lib?noext\",\n",
       "      \"vega-lite\": \"https://cdn.jsdelivr.net/npm//vega-lite@4.17.0?noext\",\n",
       "      \"vega-embed\": \"https://cdn.jsdelivr.net/npm//vega-embed@6?noext\",\n",
       "    };\n",
       "\n",
       "    function maybeLoadScript(lib, version) {\n",
       "      var key = `${lib.replace(\"-\", \"\")}_version`;\n",
       "      return (VEGA_DEBUG[key] == version) ?\n",
       "        Promise.resolve(paths[lib]) :\n",
       "        new Promise(function(resolve, reject) {\n",
       "          var s = document.createElement('script');\n",
       "          document.getElementsByTagName(\"head\")[0].appendChild(s);\n",
       "          s.async = true;\n",
       "          s.onload = () => {\n",
       "            VEGA_DEBUG[key] = version;\n",
       "            return resolve(paths[lib]);\n",
       "          };\n",
       "          s.onerror = () => reject(`Error loading script: ${paths[lib]}`);\n",
       "          s.src = paths[lib];\n",
       "        });\n",
       "    }\n",
       "\n",
       "    function showError(err) {\n",
       "      outputDiv.innerHTML = `<div class=\"error\" style=\"color:red;\">${err}</div>`;\n",
       "      throw err;\n",
       "    }\n",
       "\n",
       "    function displayChart(vegaEmbed) {\n",
       "      vegaEmbed(outputDiv, spec, embedOpt)\n",
       "        .catch(err => showError(`Javascript Error: ${err.message}<br>This usually means there's a typo in your chart specification. See the javascript console for the full traceback.`));\n",
       "    }\n",
       "\n",
       "    if(typeof define === \"function\" && define.amd) {\n",
       "      requirejs.config({paths});\n",
       "      require([\"vega-embed\"], displayChart, err => showError(`Error loading script: ${err.message}`));\n",
       "    } else {\n",
       "      maybeLoadScript(\"vega\", \"5\")\n",
       "        .then(() => maybeLoadScript(\"vega-lite\", \"4.17.0\"))\n",
       "        .then(() => maybeLoadScript(\"vega-embed\", \"6\"))\n",
       "        .catch(showError)\n",
       "        .then(() => displayChart(vegaEmbed));\n",
       "    }\n",
       "  })({\"config\": {\"view\": {\"continuousWidth\": 400, \"continuousHeight\": 300}}, \"data\": {\"name\": \"data-9505d6e8ffc0fbd66f1f70f18ab69d65\"}, \"mark\": {\"type\": \"bar\", \"opacity\": 0.5}, \"encoding\": {\"color\": {\"field\": \"Expt\", \"type\": \"nominal\"}, \"x\": {\"field\": \"Speed\", \"type\": \"quantitative\"}, \"y\": {\"aggregate\": \"count\", \"type\": \"quantitative\"}}, \"title\": \"Histogram of Michelson's speed of light data colored by experiment\", \"$schema\": \"https://vega.github.io/schema/vega-lite/v4.17.0.json\", \"datasets\": {\"data-9505d6e8ffc0fbd66f1f70f18ab69d65\": [{\"Expt\": 1, \"Run\": 1, \"Speed\": 850}, {\"Expt\": 1, \"Run\": 2, \"Speed\": 740}, {\"Expt\": 1, \"Run\": 3, \"Speed\": 900}, {\"Expt\": 1, \"Run\": 4, \"Speed\": 1070}, {\"Expt\": 1, \"Run\": 5, \"Speed\": 930}, {\"Expt\": 1, \"Run\": 6, \"Speed\": 850}, {\"Expt\": 1, \"Run\": 7, \"Speed\": 950}, {\"Expt\": 1, \"Run\": 8, \"Speed\": 980}, {\"Expt\": 1, \"Run\": 9, \"Speed\": 980}, {\"Expt\": 1, \"Run\": 10, \"Speed\": 880}, {\"Expt\": 1, \"Run\": 11, \"Speed\": 1000}, {\"Expt\": 1, \"Run\": 12, \"Speed\": 980}, {\"Expt\": 1, \"Run\": 13, \"Speed\": 930}, {\"Expt\": 1, \"Run\": 14, \"Speed\": 650}, {\"Expt\": 1, \"Run\": 15, \"Speed\": 760}, {\"Expt\": 1, \"Run\": 16, \"Speed\": 810}, {\"Expt\": 1, \"Run\": 17, \"Speed\": 1000}, {\"Expt\": 1, \"Run\": 18, \"Speed\": 1000}, {\"Expt\": 1, \"Run\": 19, \"Speed\": 960}, {\"Expt\": 1, \"Run\": 20, \"Speed\": 960}, {\"Expt\": 2, \"Run\": 1, \"Speed\": 960}, {\"Expt\": 2, \"Run\": 2, \"Speed\": 940}, {\"Expt\": 2, \"Run\": 3, \"Speed\": 960}, {\"Expt\": 2, \"Run\": 4, \"Speed\": 940}, {\"Expt\": 2, \"Run\": 5, \"Speed\": 880}, {\"Expt\": 2, \"Run\": 6, \"Speed\": 800}, {\"Expt\": 2, \"Run\": 7, \"Speed\": 850}, {\"Expt\": 2, \"Run\": 8, \"Speed\": 880}, {\"Expt\": 2, \"Run\": 9, \"Speed\": 900}, {\"Expt\": 2, \"Run\": 10, \"Speed\": 840}, {\"Expt\": 2, \"Run\": 11, \"Speed\": 830}, {\"Expt\": 2, \"Run\": 12, \"Speed\": 790}, {\"Expt\": 2, \"Run\": 13, \"Speed\": 810}, {\"Expt\": 2, \"Run\": 14, \"Speed\": 880}, {\"Expt\": 2, \"Run\": 15, \"Speed\": 880}, {\"Expt\": 2, \"Run\": 16, \"Speed\": 830}, {\"Expt\": 2, \"Run\": 17, \"Speed\": 800}, {\"Expt\": 2, \"Run\": 18, \"Speed\": 790}, {\"Expt\": 2, \"Run\": 19, \"Speed\": 760}, {\"Expt\": 2, \"Run\": 20, \"Speed\": 800}, {\"Expt\": 3, \"Run\": 1, \"Speed\": 880}, {\"Expt\": 3, \"Run\": 2, \"Speed\": 880}, {\"Expt\": 3, \"Run\": 3, \"Speed\": 880}, {\"Expt\": 3, \"Run\": 4, \"Speed\": 860}, {\"Expt\": 3, \"Run\": 5, \"Speed\": 720}, {\"Expt\": 3, \"Run\": 6, \"Speed\": 720}, {\"Expt\": 3, \"Run\": 7, \"Speed\": 620}, {\"Expt\": 3, \"Run\": 8, \"Speed\": 860}, {\"Expt\": 3, \"Run\": 9, \"Speed\": 970}, {\"Expt\": 3, \"Run\": 10, \"Speed\": 950}, {\"Expt\": 3, \"Run\": 11, \"Speed\": 880}, {\"Expt\": 3, \"Run\": 12, \"Speed\": 910}, {\"Expt\": 3, \"Run\": 13, \"Speed\": 850}, {\"Expt\": 3, \"Run\": 14, \"Speed\": 870}, {\"Expt\": 3, \"Run\": 15, \"Speed\": 840}, {\"Expt\": 3, \"Run\": 16, \"Speed\": 840}, {\"Expt\": 3, \"Run\": 17, \"Speed\": 850}, {\"Expt\": 3, \"Run\": 18, \"Speed\": 840}, {\"Expt\": 3, \"Run\": 19, \"Speed\": 840}, {\"Expt\": 3, \"Run\": 20, \"Speed\": 840}, {\"Expt\": 4, \"Run\": 1, \"Speed\": 890}, {\"Expt\": 4, \"Run\": 2, \"Speed\": 810}, {\"Expt\": 4, \"Run\": 3, \"Speed\": 810}, {\"Expt\": 4, \"Run\": 4, \"Speed\": 820}, {\"Expt\": 4, \"Run\": 5, \"Speed\": 800}, {\"Expt\": 4, \"Run\": 6, \"Speed\": 770}, {\"Expt\": 4, \"Run\": 7, \"Speed\": 760}, {\"Expt\": 4, \"Run\": 8, \"Speed\": 740}, {\"Expt\": 4, \"Run\": 9, \"Speed\": 750}, {\"Expt\": 4, \"Run\": 10, \"Speed\": 760}, {\"Expt\": 4, \"Run\": 11, \"Speed\": 910}, {\"Expt\": 4, \"Run\": 12, \"Speed\": 920}, {\"Expt\": 4, \"Run\": 13, \"Speed\": 890}, {\"Expt\": 4, \"Run\": 14, \"Speed\": 860}, {\"Expt\": 4, \"Run\": 15, \"Speed\": 880}, {\"Expt\": 4, \"Run\": 16, \"Speed\": 720}, {\"Expt\": 4, \"Run\": 17, \"Speed\": 840}, {\"Expt\": 4, \"Run\": 18, \"Speed\": 850}, {\"Expt\": 4, \"Run\": 19, \"Speed\": 850}, {\"Expt\": 4, \"Run\": 20, \"Speed\": 780}, {\"Expt\": 5, \"Run\": 1, \"Speed\": 890}, {\"Expt\": 5, \"Run\": 2, \"Speed\": 840}, {\"Expt\": 5, \"Run\": 3, \"Speed\": 780}, {\"Expt\": 5, \"Run\": 4, \"Speed\": 810}, {\"Expt\": 5, \"Run\": 5, \"Speed\": 760}, {\"Expt\": 5, \"Run\": 6, \"Speed\": 810}, {\"Expt\": 5, \"Run\": 7, \"Speed\": 790}, {\"Expt\": 5, \"Run\": 8, \"Speed\": 810}, {\"Expt\": 5, \"Run\": 9, \"Speed\": 820}, {\"Expt\": 5, \"Run\": 10, \"Speed\": 850}, {\"Expt\": 5, \"Run\": 11, \"Speed\": 870}, {\"Expt\": 5, \"Run\": 12, \"Speed\": 870}, {\"Expt\": 5, \"Run\": 13, \"Speed\": 810}, {\"Expt\": 5, \"Run\": 14, \"Speed\": 740}, {\"Expt\": 5, \"Run\": 15, \"Speed\": 810}, {\"Expt\": 5, \"Run\": 16, \"Speed\": 940}, {\"Expt\": 5, \"Run\": 17, \"Speed\": 950}, {\"Expt\": 5, \"Run\": 18, \"Speed\": 800}, {\"Expt\": 5, \"Run\": 19, \"Speed\": 810}, {\"Expt\": 5, \"Run\": 20, \"Speed\": 870}]}}, {\"mode\": \"vega-lite\"});\n",
       "</script>"
      ],
      "text/plain": [
       "alt.Chart(...)"
      ]
     },
     "metadata": {
      "scrapbook": {
       "mime_prefix": "",
       "name": "morley_hist_title"
      }
     },
     "output_type": "display_data"
    }
   ],
   "source": [
    "glue('morley_hist_title', morley_hist_title, display=True)"
   ]
  },
  {
   "cell_type": "markdown",
   "id": "917caddc",
   "metadata": {},
   "source": [
    ":::{glue:figure} morley_hist_title\n",
    ":figwidth: 700px \n",
    ":name: morley_hist_title\n",
    "\n",
    "Histogram of Michelson's speed of light data colored with title\n",
    ":::\n",
    "\n",
    "\n",
    "> **Note:** Good visualization titles clearly communicate \n",
    "> the take home message to the audience. Typically, \n",
    "> that is the answer to the question you posed before making the visualization.\n",
    "\n",
    "## Explaining the visualization\n",
    "#### *Tell a story* {-}\n",
    "\n",
    "Typically, your visualization will not be shown entirely on its own, but rather\n",
    "it will be part of a larger presentation.  Further, visualizations can provide\n",
    "supporting information for any aspect of a presentation, from opening to\n",
    "conclusion.  For example, you could use an exploratory visualization in the\n",
    "opening of the presentation to motivate your choice of a more detailed data\n",
    "analysis / model, a visualization of the results of your analysis to show what\n",
    "your analysis has uncovered, or even one at the end of a presentation to help\n",
    "suggest directions for future work. \n",
    "\n",
    "Regardless of where it appears, a good way to discuss your visualization \\index{visualization!explanation} is as\n",
    "a story: \n",
    "\n",
    "1) Establish the setting and scope, and describe why you did what you did. \n",
    "2) Pose the question that your visualization answers. Justify why the question is important to answer.\n",
    "3) Answer the question using your visualization. Make sure you describe *all* aspects of the visualization (including describing the axes). But you \n",
    "   can emphasize different aspects based on what is important to answer your question:\n",
    "    - **trends (lines):** Does a line describe the trend well? If so, the trend is *linear*, and if not, the trend is *nonlinear*. Is the trend increasing, decreasing, or neither?\n",
    "                        Is there a periodic oscillation (wiggle) in the trend? Is the trend noisy (does the line \"jump around\" a lot) or smooth?\n",
    "    - **distributions (scatters, histograms):** How spread out are the data? Where are they centered, roughly? Are there any obvious \"clusters\" or \"subgroups\", which would be visible as multiple bumps in the histogram?\n",
    "    - **distributions of two variables (scatters):** Is there a clear / strong relationship between the variables (points fall in a distinct pattern), a weak one (points fall in a pattern but there is some noise), or no discernible\n",
    "      relationship (the data are too noisy to make any conclusion)?\n",
    "    - **amounts (bars):** How large are the bars relative to one another? Are there patterns in different groups of bars? \n",
    "4) Summarize your findings, and use them to motivate whatever you will discuss next.\n",
    "\n",
    "Below are two examples of how one might take these four steps in describing the example visualizations that appeared earlier in this chapter.\n",
    "Each of the steps is denoted by its numeral in parentheses, e.g. (3).\n",
    "\n",
    "**Mauna Loa Atmospheric CO$_{\\text{2}}$ Measurements:** (1) \\index{Mauna Loa} Many \n",
    "current forms of energy generation and conversion&mdash;from automotive\n",
    "engines to natural gas power plants&mdash;rely on burning fossil fuels and produce\n",
    "greenhouse gases, typically primarily carbon dioxide (CO$_{\\text{2}}$), as a\n",
    "byproduct. Too much of these gases in the Earth's atmosphere will cause it to\n",
    "trap more heat from the sun, leading to global warming. (2) In order to assess\n",
    "how quickly the atmospheric concentration of CO$_{\\text{2}}$ is increasing over\n",
    "time, we (3) used a data set from the Mauna Loa observatory in Hawaii,\n",
    "consisting of CO$_{\\text{2}}$ measurements from 1980 to 2020. We plotted the\n",
    "measured concentration of CO$_{\\text{2}}$ (on the vertical axis) over time (on\n",
    "the horizontal axis). From this plot, you can see a clear, increasing, and\n",
    "generally linear trend over time. There is also a periodic oscillation that\n",
    "occurs once per year and aligns with Hawaii's seasons, with an amplitude that\n",
    "is small relative to the growth in the overall trend. This shows that\n",
    "atmospheric CO$_{\\text{2}}$ is clearly increasing over time, and (4) it is\n",
    "perhaps worth investigating more into the causes.\n",
    "\n",
    "**Michelson Light Speed Experiments:** (1) \\index{Michelson speed of light} Our\n",
    "modern understanding of the physics of light has advanced significantly from\n",
    "the late 1800s when Michelson and Morley's experiments first demonstrated that\n",
    "it had a finite speed. We now know, based on modern experiments, that it moves at\n",
    "roughly 299,792.458 kilometers per second. (2) But how accurately were we first\n",
    "able to measure this fundamental physical constant, and did certain experiments\n",
    "produce more accurate results than others?  (3) To better understand this, we\n",
    "plotted data from 5 experiments by Michelson in 1879, each with 20 trials, as\n",
    "histograms stacked on top of one another.  The horizontal axis shows the\n",
    "accuracy of the measurements relative to the true speed of light as we know it\n",
    "today, expressed as a percentage.  From this visualization, you can see that\n",
    "most results had relative errors of at most 0.05%. You can also see that\n",
    "experiments 1 and 3 had measurements that were the farthest from the true\n",
    "value, and experiment 5 tended to provide the most consistently accurate\n",
    "result. (4) It would be worth further investigating the differences between\n",
    "these experiments to see why they produced different results.\n",
    "\n",
    "## Saving the visualization\n",
    "#### *Choose the right output format for your needs* {-}\n",
    "\n",
    "Just as there are many ways to store data sets, there are many ways to store\n",
    "visualizations and images.  Which one you choose can depend on several factors,\n",
    "such as file size/type limitations (e.g., if you are submitting your\n",
    "visualization as part of a conference paper or to a poster printing shop) and\n",
    "where it will be displayed (e.g., online, in a paper, on a poster, on a\n",
    "billboard, in talk slides).  Generally speaking, images come in two flavors:\n",
    "*raster* \\index{bitmap|see{raster graphics}}\\index{raster graphics} formats \n",
    "and *vector* \\index{vector graphics} formats.\n",
    "\n",
    "**Raster** images are represented as a 2-D grid of square pixels, each\n",
    "with its own color. Raster images are often *compressed* before storing so they\n",
    "take up less space. A compressed format is *lossy* if the image cannot be\n",
    "perfectly re-created when loading and displaying, with the hope that the change\n",
    "is not noticeable. *Lossless* formats, on the other hand, allow a perfect\n",
    "display of the original image.\n",
    "\\index{raster graphics!file types}\n",
    "\n",
    "- *Common file types:* \n",
    "   \n",
    "    - [PNG](https://en.wikipedia.org/wiki/Portable_Network_Graphics) (`.png`): lossless, usually used for plots / line drawings\n",
    "   \n",
    "- *Open-source software:* [GIMP](https://www.gimp.org/)\n",
    "\n",
    "**Vector** images are represented as a collection of mathematical \n",
    "objects (lines, surfaces, shapes, curves). When the computer displays the image, it \n",
    "redraws all of the elements using their mathematical formulas.\n",
    "\\index{vector graphics!file types}\n",
    "\n",
    "- *Common file types:* \n",
    "    - [SVG](https://en.wikipedia.org/wiki/Scalable_Vector_Graphics) (`.svg`): general-purpose use \n",
    "    \n",
    "- *Open-source software:* [Inkscape](https://inkscape.org/)\n",
    "\n",
    "Raster and vector images have opposing advantages and disadvantages. A raster\n",
    "image of a fixed width / height takes the same amount of space and time to load\n",
    "regardless of what the image shows (the one caveat is that the compression algorithms may\n",
    "shrink the image more or run faster for certain images). A vector image takes\n",
    "space and time to load corresponding to how complex the image is, since the\n",
    "computer has to draw all the elements each time it is displayed. For example,\n",
    "if you have a scatter plot with 1 million points stored as an SVG file, it may\n",
    "take your computer some time to open the image. On the other hand, you can zoom\n",
    "into / scale up vector graphics as much as you like without the image looking\n",
    "bad, while raster images eventually start to look \"pixelated.\" \n",
    "\n",
    "> **Note:** The portable document format [PDF](https://en.wikipedia.org/wiki/PDF) (`.pdf`) is commonly used to\n",
    "> store *both* raster and vector formats. If you try to open a PDF and it's taking a long time\n",
    "> to load, it may be because there is a complicated vector graphics image that your computer is rendering. \n",
    "\\index{PDF}\n",
    "\\index{portable document format|see{PDF}}\n",
    "\n",
    "Let's learn how to save plot images to these different file formats using a \n",
    "scatter plot of \n",
    "the [Old Faithful data set](https://www.stat.cmu.edu/~larry/all-of-statistics/=data/faithful.dat) [@faithfuldata],\n",
    "shown in {numref}`faithful_scatter_labels`\n",
    "\n",
    "\n",
    "\n",
    ":::{glue:figure} faithful_scatter_labels\n",
    ":figwidth: 700px \n",
    ":name: faithful_scatter_labels\n",
    "\n",
    "Scatter plot of waiting time and eruption time.\n",
    ":::\n",
    "\n",
    "Now that we have a named `altair` plot object, we can use the `chart.save` function\n",
    "to save a file containing this image. \n",
    "`chart.save` works by taking the path to the directory where you would like to save the file \n",
    "(e.g., `img/filename.png` to save a file named `filename` to the `img` directory),\n",
    "The kind of image to save is specified by the file extension.\n",
    "For example, \n",
    "to create a PNG image file, we specify that the file extension is `.png`.\n",
    "Below we demonstrate how to save PNG and SVG file types \n",
    "for the `faithful_scater_labels` plot:"
   ]
  },
  {
   "cell_type": "code",
   "execution_count": 67,
   "id": "aca8f8fa",
   "metadata": {
    "tags": [
     "remove-cell"
    ]
   },
   "outputs": [
    {
     "name": "stdout",
     "output_type": "stream",
     "text": [
      "Requirement already satisfied: altair_saver in /Users/navyadahiya/opt/miniconda3/envs/dsci/lib/python3.9/site-packages (0.5.0)\r\n",
      "Requirement already satisfied: selenium in /Users/navyadahiya/opt/miniconda3/envs/dsci/lib/python3.9/site-packages (from altair_saver) (4.3.0)\r\n",
      "Requirement already satisfied: altair-data-server>=0.4.0 in /Users/navyadahiya/opt/miniconda3/envs/dsci/lib/python3.9/site-packages (from altair_saver) (0.4.1)\r\n",
      "Requirement already satisfied: altair in /Users/navyadahiya/opt/miniconda3/envs/dsci/lib/python3.9/site-packages (from altair_saver) (4.2.0)\r\n",
      "Requirement already satisfied: altair-viewer in /Users/navyadahiya/opt/miniconda3/envs/dsci/lib/python3.9/site-packages (from altair_saver) (0.4.0)\r\n",
      "Requirement already satisfied: tornado in /Users/navyadahiya/opt/miniconda3/envs/dsci/lib/python3.9/site-packages (from altair-data-server>=0.4.0->altair_saver) (6.1)\r\n",
      "Requirement already satisfied: portpicker in /Users/navyadahiya/opt/miniconda3/envs/dsci/lib/python3.9/site-packages (from altair-data-server>=0.4.0->altair_saver) (1.5.0)\r\n",
      "Requirement already satisfied: numpy in /Users/navyadahiya/opt/miniconda3/envs/dsci/lib/python3.9/site-packages (from altair->altair_saver) (1.22.3)\r\n",
      "Requirement already satisfied: jinja2 in /Users/navyadahiya/opt/miniconda3/envs/dsci/lib/python3.9/site-packages (from altair->altair_saver) (3.0.3)\r\n",
      "Requirement already satisfied: entrypoints in /Users/navyadahiya/opt/miniconda3/envs/dsci/lib/python3.9/site-packages (from altair->altair_saver) (0.4)\r\n",
      "Requirement already satisfied: jsonschema>=3.0 in /Users/navyadahiya/opt/miniconda3/envs/dsci/lib/python3.9/site-packages (from altair->altair_saver) (3.2.0)\r\n",
      "Requirement already satisfied: toolz in /Users/navyadahiya/opt/miniconda3/envs/dsci/lib/python3.9/site-packages (from altair->altair_saver) (0.11.2)\r\n",
      "Requirement already satisfied: pandas>=0.18 in /Users/navyadahiya/opt/miniconda3/envs/dsci/lib/python3.9/site-packages (from altair->altair_saver) (1.4.2)\r\n",
      "Requirement already satisfied: trio~=0.17 in /Users/navyadahiya/opt/miniconda3/envs/dsci/lib/python3.9/site-packages (from selenium->altair_saver) (0.21.0)\r\n",
      "Requirement already satisfied: urllib3[secure,socks]~=1.26 in /Users/navyadahiya/opt/miniconda3/envs/dsci/lib/python3.9/site-packages (from selenium->altair_saver) (1.26.9)\r\n",
      "Requirement already satisfied: trio-websocket~=0.9 in /Users/navyadahiya/opt/miniconda3/envs/dsci/lib/python3.9/site-packages (from selenium->altair_saver) (0.9.2)\r\n",
      "Requirement already satisfied: six>=1.11.0 in /Users/navyadahiya/opt/miniconda3/envs/dsci/lib/python3.9/site-packages (from jsonschema>=3.0->altair->altair_saver) (1.16.0)\r\n",
      "Requirement already satisfied: setuptools in /Users/navyadahiya/opt/miniconda3/envs/dsci/lib/python3.9/site-packages (from jsonschema>=3.0->altair->altair_saver) (62.3.1)\r\n",
      "Requirement already satisfied: pyrsistent>=0.14.0 in /Users/navyadahiya/opt/miniconda3/envs/dsci/lib/python3.9/site-packages (from jsonschema>=3.0->altair->altair_saver) (0.18.1)\r\n",
      "Requirement already satisfied: attrs>=17.4.0 in /Users/navyadahiya/opt/miniconda3/envs/dsci/lib/python3.9/site-packages (from jsonschema>=3.0->altair->altair_saver) (21.4.0)\r\n",
      "Requirement already satisfied: python-dateutil>=2.8.1 in /Users/navyadahiya/opt/miniconda3/envs/dsci/lib/python3.9/site-packages (from pandas>=0.18->altair->altair_saver) (2.8.2)\r\n",
      "Requirement already satisfied: pytz>=2020.1 in /Users/navyadahiya/opt/miniconda3/envs/dsci/lib/python3.9/site-packages (from pandas>=0.18->altair->altair_saver) (2022.1)\r\n",
      "Requirement already satisfied: async-generator>=1.9 in /Users/navyadahiya/opt/miniconda3/envs/dsci/lib/python3.9/site-packages (from trio~=0.17->selenium->altair_saver) (1.10)\r\n",
      "Requirement already satisfied: idna in /Users/navyadahiya/opt/miniconda3/envs/dsci/lib/python3.9/site-packages (from trio~=0.17->selenium->altair_saver) (3.3)\r\n",
      "Requirement already satisfied: sniffio in /Users/navyadahiya/opt/miniconda3/envs/dsci/lib/python3.9/site-packages (from trio~=0.17->selenium->altair_saver) (1.2.0)\r\n",
      "Requirement already satisfied: outcome in /Users/navyadahiya/opt/miniconda3/envs/dsci/lib/python3.9/site-packages (from trio~=0.17->selenium->altair_saver) (1.2.0)\r\n",
      "Requirement already satisfied: sortedcontainers in /Users/navyadahiya/opt/miniconda3/envs/dsci/lib/python3.9/site-packages (from trio~=0.17->selenium->altair_saver) (2.4.0)\r\n",
      "Requirement already satisfied: wsproto>=0.14 in /Users/navyadahiya/opt/miniconda3/envs/dsci/lib/python3.9/site-packages (from trio-websocket~=0.9->selenium->altair_saver) (1.1.0)\r\n"
     ]
    },
    {
     "name": "stdout",
     "output_type": "stream",
     "text": [
      "Requirement already satisfied: pyOpenSSL>=0.14 in /Users/navyadahiya/opt/miniconda3/envs/dsci/lib/python3.9/site-packages (from urllib3[secure,socks]~=1.26->selenium->altair_saver) (22.0.0)\r\n",
      "Requirement already satisfied: certifi in /Users/navyadahiya/opt/miniconda3/envs/dsci/lib/python3.9/site-packages (from urllib3[secure,socks]~=1.26->selenium->altair_saver) (2022.6.15)\r\n",
      "Requirement already satisfied: cryptography>=1.3.4 in /Users/navyadahiya/opt/miniconda3/envs/dsci/lib/python3.9/site-packages (from urllib3[secure,socks]~=1.26->selenium->altair_saver) (36.0.2)\r\n",
      "Requirement already satisfied: PySocks!=1.5.7,<2.0,>=1.5.6 in /Users/navyadahiya/opt/miniconda3/envs/dsci/lib/python3.9/site-packages (from urllib3[secure,socks]~=1.26->selenium->altair_saver) (1.7.1)\r\n",
      "Requirement already satisfied: MarkupSafe>=2.0 in /Users/navyadahiya/opt/miniconda3/envs/dsci/lib/python3.9/site-packages (from jinja2->altair->altair_saver) (2.1.1)\r\n",
      "Requirement already satisfied: psutil in /Users/navyadahiya/opt/miniconda3/envs/dsci/lib/python3.9/site-packages (from portpicker->altair-data-server>=0.4.0->altair_saver) (5.9.0)\r\n",
      "Requirement already satisfied: cffi>=1.12 in /Users/navyadahiya/opt/miniconda3/envs/dsci/lib/python3.9/site-packages (from cryptography>=1.3.4->urllib3[secure,socks]~=1.26->selenium->altair_saver) (1.15.0)\r\n"
     ]
    },
    {
     "name": "stdout",
     "output_type": "stream",
     "text": [
      "Requirement already satisfied: h11<1,>=0.9.0 in /Users/navyadahiya/opt/miniconda3/envs/dsci/lib/python3.9/site-packages (from wsproto>=0.14->trio-websocket~=0.9->selenium->altair_saver) (0.13.0)\r\n",
      "Requirement already satisfied: pycparser in /Users/navyadahiya/opt/miniconda3/envs/dsci/lib/python3.9/site-packages (from cffi>=1.12->cryptography>=1.3.4->urllib3[secure,socks]~=1.26->selenium->altair_saver) (2.21)\r\n"
     ]
    }
   ],
   "source": [
    "!pip install altair_saver"
   ]
  },
  {
   "cell_type": "code",
   "execution_count": 68,
   "id": "64bf21e6",
   "metadata": {},
   "outputs": [],
   "source": [
    "#!pip install altair_saver  #uncomment and run in jupyter notebook to install altair_saver, if not already installed\n",
    "from altair_saver import save\n",
    "\n",
    "faithful_scatter_labels.save(\"faithful_plot.png\")\n",
    "faithful_scatter_labels.save(\"faithful_plot.svg\")\n"
   ]
  },
  {
   "cell_type": "code",
   "execution_count": 69,
   "id": "47db2f8e",
   "metadata": {
    "tags": [
     "remove-cell"
    ]
   },
   "outputs": [
    {
     "data": {
      "text/plain": [
       "0.031026"
      ]
     },
     "metadata": {
      "scrapbook": {
       "mime_prefix": "",
       "name": "png_size"
      }
     },
     "output_type": "display_data"
    },
    {
     "data": {
      "text/plain": [
       "0.118547"
      ]
     },
     "metadata": {
      "scrapbook": {
       "mime_prefix": "",
       "name": "svg_size"
      }
     },
     "output_type": "display_data"
    }
   ],
   "source": [
    "import os\n",
    "png_size = os.path.getsize(\"data/faithful_plot.png\")/1000000\n",
    "svg_size = os.path.getsize(\"data/faithful_plot.svg\")/1000000\n",
    "\n",
    "glue(\"png_size\", png_size)\n",
    "glue(\"svg_size\", svg_size)"
   ]
  },
  {
   "cell_type": "markdown",
   "id": "5407bbd7",
   "metadata": {},
   "source": [
    "```{list-table} File sizes of the scatter plot of the Old Faithful data set when saved as different file formats.\n",
    ":header-rows: 1\n",
    ":name: png-vs-svg-table\n",
    "\n",
    "* - Image type\n",
    "  - File type\n",
    "  - Image size\n",
    "* - Raster\n",
    "  - PNG\n",
    "  - {glue:}`png_size`\n",
    "* - Vector\n",
    "  - SVG\n",
    "  - {glue:}`svg_size`\n",
    "```\n",
    "\n",
    "\n",
    "\n",
    "Take a look at the file sizes in {numref}`png-vs-svg-table`\n",
    "Wow, that's quite a difference! Notice that for such a simple plot with few\n",
    "graphical elements (points), the vector graphics format (SVG) is over 100 times\n",
    "smaller than the uncompressed raster images. \n",
    "\n",
    "In {numref}`png-vs-svg`, we also show what\n",
    "the images look like when we zoom in to a rectangle with only 3 data points.\n",
    "You can see why vector graphics formats are so useful: because they're just\n",
    "based on mathematical formulas, vector graphics can be scaled up to arbitrary\n",
    "sizes.  This makes them great for presentation media of all sizes, from papers\n",
    "to posters to billboards.\n",
    "\n",
    "\n",
    "```{r 03-raster-image, echo=FALSE, fig.cap = \"(ref:03-raster-image)\", fig.show=\"hold\", fig.align= \"center\", message =F, out.width=\"100%\"}\n",
    "knitr::include_graphics(\"img/png-vs-svg.png\")\n",
    "```\n",
    "\n",
    "\n",
    "```{figure} img/png-vs-svg.png\n",
    "---\n",
    "height: 400px\n",
    "name: png-vs-svg\n",
    "---\n",
    "Zoomed in `faithful`, raster (PNG, left) and vector (SVG, right) formats.\n",
    "```\n",
    "\n",
    "## Exercises\n",
    "\n",
    "Practice exercises for the material covered in this chapter \n",
    "can be found in the accompanying \n",
    "[worksheets repository](https://github.com/UBC-DSCI/data-science-a-first-intro-worksheets#readme)\n",
    "in the \"Effective data visualization\" row.\n",
    "You can launch an interactive version of the worksheet in your browser by clicking the \"launch binder\" button.\n",
    "You can also preview a non-interactive version of the worksheet by clicking \"view worksheet.\"\n",
    "If you instead decide to download the worksheet and run it on your own machine,\n",
    "make sure to follow the instructions for computer setup\n",
    "found in Chapter \\@ref(move-to-your-own-machine). This will ensure that the automated feedback\n",
    "and guidance that the worksheets provide will function as intended.\n",
    "\n",
    "## Additional resources\n",
    "- The [`ggplot2` R package page](https://ggplot2.tidyverse.org) [@ggplot] is\n",
    "  where you should look if you want to learn more about the functions in this\n",
    "  chapter, the full set of arguments you can use, and other related functions.\n",
    "  The site also provides a very nice cheat sheet that summarizes many of the data\n",
    "  wrangling functions from this chapter.\n",
    "- The *Fundamentals of Data Visualization* [@wilkeviz] has\n",
    "  a wealth of information on designing effective visualizations. It is not\n",
    "  specific to any particular programming language or library. If you want to\n",
    "  improve your visualization skills, this is the next place to look.\n",
    "- *R for Data Science* [@wickham2016r] has a [chapter on creating visualizations using\n",
    "  `ggplot2`](https://r4ds.had.co.nz/data-visualisation.html). This reference is\n",
    "  specific to R and `ggplot2`, but provides a much more detailed introduction to\n",
    "  the full set of tools that `ggplot2` provides. This chapter is where you should\n",
    "  look if you want to learn how to make more intricate visualizations in\n",
    "  `ggplot2` than what is included in this chapter.\n",
    "- The [`theme` function documentation](https://ggplot2.tidyverse.org/reference/theme.html)\n",
    "  is an excellent reference to see how you can fine tune the non-data aspects \n",
    "  of your visualization.\n",
    "- *R for Data Science* [@wickham2016r] has a chapter on [dates and\n",
    "  times](https://r4ds.had.co.nz/dates-and-times.html).  This chapter is where\n",
    "  you should look if you want to learn about `date` vectors, including how to\n",
    "  create them, and how to use them to effectively handle durations, periods and\n",
    "  intervals using the `lubridate` package."
   ]
  }
 ],
 "metadata": {
  "jupytext": {
   "formats": "py:percent,md:myst,ipynb",
   "text_representation": {
    "extension": ".md",
    "format_name": "myst",
    "format_version": 0.13,
    "jupytext_version": "1.13.5"
   }
  },
  "kernelspec": {
   "display_name": "Python 3 (ipykernel)",
   "language": "python",
   "name": "python3"
  },
  "language_info": {
   "codemirror_mode": {
    "name": "ipython",
    "version": 3
   },
   "file_extension": ".py",
   "mimetype": "text/x-python",
   "name": "python",
   "nbconvert_exporter": "python",
   "pygments_lexer": "ipython3",
   "version": "3.9.12"
  },
  "source_map": [
   13,
   139,
   181,
   189,
   193,
   196,
   218,
   225,
   231,
   238,
   240,
   318,
   323,
   331,
   334,
   368,
   376,
   379,
   410,
   418,
   421,
   448,
   464,
   467,
   512,
   516,
   531,
   539,
   542,
   561,
   572,
   575,
   585,
   605,
   609,
   612,
   620,
   629,
   632,
   652,
   660,
   663,
   675,
   680,
   697,
   700,
   723,
   731,
   734,
   745,
   752,
   777,
   782,
   791,
   800,
   803,
   863,
   872,
   875,
   898,
   911,
   914,
   959,
   973,
   976,
   1025,
   1028,
   1045,
   1051,
   1054,
   1076,
   1087,
   1090,
   1133,
   1141,
   1144,
   1183,
   1185,
   1210,
   1217,
   1220,
   1259,
   1270,
   1273,
   1300,
   1310,
   1313,
   1338,
   1348,
   1351,
   1369,
   1384,
   1395,
   1398,
   1425,
   1434,
   1447,
   1450,
   1496,
   1528,
   1531,
   1551,
   1564,
   1567,
   1580,
   1588,
   1591,
   1746,
   1752,
   1762,
   1770
  ]
 },
 "nbformat": 4,
 "nbformat_minor": 5
}