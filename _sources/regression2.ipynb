{
 "cells": [
  {
   "cell_type": "markdown",
   "id": "d9df6445",
   "metadata": {},
   "source": [
    "(regression2)=\n",
    "# Regression II: linear regression"
   ]
  },
  {
   "cell_type": "code",
   "execution_count": 1,
   "id": "2af9aa56",
   "metadata": {
    "tags": [
     "remove-cell"
    ]
   },
   "outputs": [
    {
     "ename": "ModuleNotFoundError",
     "evalue": "No module named 'plotly'",
     "output_type": "error",
     "traceback": [
      "\u001b[0;31m---------------------------------------------------------------------------\u001b[0m",
      "\u001b[0;31mModuleNotFoundError\u001b[0m                       Traceback (most recent call last)",
      "Input \u001b[0;32mIn [1]\u001b[0m, in \u001b[0;36m<cell line: 10>\u001b[0;34m()\u001b[0m\n\u001b[1;32m      8\u001b[0m \u001b[38;5;28;01mfrom\u001b[39;00m \u001b[38;5;21;01msklearn\u001b[39;00m\u001b[38;5;21;01m.\u001b[39;00m\u001b[38;5;21;01mpipeline\u001b[39;00m \u001b[38;5;28;01mimport\u001b[39;00m Pipeline, make_pipeline\n\u001b[1;32m      9\u001b[0m \u001b[38;5;28;01mfrom\u001b[39;00m \u001b[38;5;21;01msklearn\u001b[39;00m\u001b[38;5;21;01m.\u001b[39;00m\u001b[38;5;21;01mpreprocessing\u001b[39;00m \u001b[38;5;28;01mimport\u001b[39;00m StandardScaler\n\u001b[0;32m---> 10\u001b[0m \u001b[38;5;28;01mimport\u001b[39;00m \u001b[38;5;21;01mplotly\u001b[39;00m\u001b[38;5;21;01m.\u001b[39;00m\u001b[38;5;21;01mexpress\u001b[39;00m \u001b[38;5;28;01mas\u001b[39;00m \u001b[38;5;21;01mpx\u001b[39;00m\n\u001b[1;32m     11\u001b[0m \u001b[38;5;28;01mimport\u001b[39;00m \u001b[38;5;21;01mplotly\u001b[39;00m\u001b[38;5;21;01m.\u001b[39;00m\u001b[38;5;21;01mgraph_objs\u001b[39;00m \u001b[38;5;28;01mas\u001b[39;00m \u001b[38;5;21;01mgo\u001b[39;00m\n\u001b[1;32m     12\u001b[0m \u001b[38;5;28;01mfrom\u001b[39;00m \u001b[38;5;21;01mplotly\u001b[39;00m\u001b[38;5;21;01m.\u001b[39;00m\u001b[38;5;21;01moffline\u001b[39;00m \u001b[38;5;28;01mimport\u001b[39;00m plot\n",
      "\u001b[0;31mModuleNotFoundError\u001b[0m: No module named 'plotly'"
     ]
    }
   ],
   "source": [
    "import altair as alt\n",
    "import numpy as np\n",
    "import pandas as pd\n",
    "from sklearn.linear_model import LinearRegression\n",
    "from sklearn.model_selection import GridSearchCV, cross_validate, train_test_split\n",
    "from sklearn.compose import make_column_transformer\n",
    "from sklearn.neighbors import KNeighborsRegressor\n",
    "from sklearn.pipeline import Pipeline, make_pipeline\n",
    "from sklearn.preprocessing import StandardScaler\n",
    "import plotly.express as px\n",
    "import plotly.graph_objs as go\n",
    "from plotly.offline import plot\n",
    "from IPython.display import HTML\n",
    "\n",
    "from myst_nb import glue"
   ]
  },
  {
   "cell_type": "markdown",
   "id": "652ec0ef",
   "metadata": {},
   "source": [
    "## Overview \n",
    "Up to this point, we have solved all of our predictive problems&mdash;both classification\n",
    "and regression&mdash;using K-nearest neighbors (KNN)-based approaches. In the context of regression, \n",
    "there is another commonly used method known as *linear regression*. This chapter provides an introduction\n",
    "to the basic concept of linear regression, shows how to use `scikit-learn` to perform linear regression in Python,\n",
    "and characterizes its strengths and weaknesses compared to KNN regression. The focus is, as usual,\n",
    "on the case where there is a single predictor and single response variable of interest; but the chapter\n",
    "concludes with an example using *multivariable linear regression* when there is more than one\n",
    "predictor.\n",
    "\n",
    "## Chapter learning objectives \n",
    "By the end of the chapter, readers will be able to do the following:\n",
    "\n",
    "* Use Python and `scikit-learn` to fit a linear regression model on training data.\n",
    "* Evaluate the linear regression model on test data.\n",
    "* Compare and contrast predictions obtained from K-nearest neighbor regression to those obtained using linear regression from the same data set.\n",
    "* In `altair`, overlay predictions from linear regression on a scatter plot of data using `transform_regression`."
   ]
  },
  {
   "cell_type": "markdown",
   "id": "b3f554ba",
   "metadata": {},
   "source": [
    "## Simple linear regression\n",
    "\n",
    "At the end of the previous chapter, we noted some limitations of KNN regression.\n",
    "While the method is simple and easy to understand, KNN regression does not\n",
    "predict well beyond the range of the predictors in the training data, and\n",
    "the method gets significantly slower as the training data set grows. \\index{regression!linear}\n",
    "Fortunately, there is an alternative to KNN regression&mdash;*linear regression*&mdash;that addresses\n",
    "both of these limitations. Linear regression is also very commonly \n",
    "used in practice because it provides an interpretable mathematical equation that describes\n",
    "the relationship between the predictor and response variables. In this first part of the chapter, we will focus on *simple* linear regression,\n",
    "which involves only one predictor variable and one response variable; later on, we will consider\n",
    " *multivariable* linear regression, which involves multiple predictor variables.\n",
    " Like KNN regression, simple linear regression involves\n",
    "predicting a numerical response variable (like race time, house price, or height);\n",
    "but *how* it makes those predictions for a new observation is quite different from KNN regression.\n",
    " Instead of looking at the K nearest neighbors and averaging\n",
    "over their values for a prediction, in simple linear regression, we create a \n",
    "straight line of best fit through the training data and then\n",
    "\"look up\" the prediction using the line."
   ]
  },
  {
   "cell_type": "markdown",
   "id": "9861da71",
   "metadata": {},
   "source": [
    "> **Note:** Although we did not cover it in earlier chapters, there \n",
    "> is another popular method for classification called *logistic\n",
    "> regression* (it is used for classification even though the name, somewhat confusingly,\n",
    "> has the word \"regression\" in it). In logistic regression&mdash;similar to linear regression&mdash;you\n",
    "> \"fit\" the model to the training data and then \"look up\" the prediction for each new observation.\n",
    "> Logistic regression and KNN classification have an advantage/disadvantage comparison \n",
    "> similar to that of linear regression and KNN\n",
    "> regression. It is useful to have a good understanding of linear regression before learning about\n",
    "> logistic regression. After reading this chapter, see the \"Additional Resources\" section at the end of the\n",
    "> classification chapters to learn more about logistic regression. \\index{regression!logistic}"
   ]
  },
  {
   "cell_type": "markdown",
   "id": "ea57f38a",
   "metadata": {},
   "source": [
    "Let's return to the Sacramento housing data \\index{Sacramento real estate} from Chapter {ref}`regression1` to learn\n",
    "how to apply linear regression and compare it to KNN regression. For now, we\n",
    "will consider \n",
    "a smaller version of the housing data to help make our visualizations clear.\n",
    "Recall our predictive question: can we use the size of a house in the Sacramento, CA area to predict\n",
    "its sale price? \\index{question!regression} In particular, recall that we have come across a new 2,000 square-foot house we are interested\n",
    "in purchasing with an advertised list price of\n",
    "\\$350,000. Should we offer the list price, or is that over/undervalued?\n",
    "To answer this question using simple linear regression, we use the data we have\n",
    "to draw the straight line of best fit through our existing data points.\n",
    "The small subset of data as well as the line of best fit are shown\n",
    "in {numref}`fig:08-lin-reg1`."
   ]
  },
  {
   "cell_type": "code",
   "execution_count": 2,
   "id": "83a55cdd",
   "metadata": {
    "tags": [
     "remove-cell"
    ]
   },
   "outputs": [
    {
     "data": {
      "text/html": [
       "\n",
       "<div id=\"altair-viz-207720f6ef854bbfb99a45919ff9284b\"></div>\n",
       "<script type=\"text/javascript\">\n",
       "  var VEGA_DEBUG = (typeof VEGA_DEBUG == \"undefined\") ? {} : VEGA_DEBUG;\n",
       "  (function(spec, embedOpt){\n",
       "    let outputDiv = document.currentScript.previousElementSibling;\n",
       "    if (outputDiv.id !== \"altair-viz-207720f6ef854bbfb99a45919ff9284b\") {\n",
       "      outputDiv = document.getElementById(\"altair-viz-207720f6ef854bbfb99a45919ff9284b\");\n",
       "    }\n",
       "    const paths = {\n",
       "      \"vega\": \"https://cdn.jsdelivr.net/npm//vega@5?noext\",\n",
       "      \"vega-lib\": \"https://cdn.jsdelivr.net/npm//vega-lib?noext\",\n",
       "      \"vega-lite\": \"https://cdn.jsdelivr.net/npm//vega-lite@4.17.0?noext\",\n",
       "      \"vega-embed\": \"https://cdn.jsdelivr.net/npm//vega-embed@6?noext\",\n",
       "    };\n",
       "\n",
       "    function maybeLoadScript(lib, version) {\n",
       "      var key = `${lib.replace(\"-\", \"\")}_version`;\n",
       "      return (VEGA_DEBUG[key] == version) ?\n",
       "        Promise.resolve(paths[lib]) :\n",
       "        new Promise(function(resolve, reject) {\n",
       "          var s = document.createElement('script');\n",
       "          document.getElementsByTagName(\"head\")[0].appendChild(s);\n",
       "          s.async = true;\n",
       "          s.onload = () => {\n",
       "            VEGA_DEBUG[key] = version;\n",
       "            return resolve(paths[lib]);\n",
       "          };\n",
       "          s.onerror = () => reject(`Error loading script: ${paths[lib]}`);\n",
       "          s.src = paths[lib];\n",
       "        });\n",
       "    }\n",
       "\n",
       "    function showError(err) {\n",
       "      outputDiv.innerHTML = `<div class=\"error\" style=\"color:red;\">${err}</div>`;\n",
       "      throw err;\n",
       "    }\n",
       "\n",
       "    function displayChart(vegaEmbed) {\n",
       "      vegaEmbed(outputDiv, spec, embedOpt)\n",
       "        .catch(err => showError(`Javascript Error: ${err.message}<br>This usually means there's a typo in your chart specification. See the javascript console for the full traceback.`));\n",
       "    }\n",
       "\n",
       "    if(typeof define === \"function\" && define.amd) {\n",
       "      requirejs.config({paths});\n",
       "      require([\"vega-embed\"], displayChart, err => showError(`Error loading script: ${err.message}`));\n",
       "    } else {\n",
       "      maybeLoadScript(\"vega\", \"5\")\n",
       "        .then(() => maybeLoadScript(\"vega-lite\", \"4.17.0\"))\n",
       "        .then(() => maybeLoadScript(\"vega-embed\", \"6\"))\n",
       "        .catch(showError)\n",
       "        .then(() => displayChart(vegaEmbed));\n",
       "    }\n",
       "  })({\"config\": {\"view\": {\"continuousWidth\": 400, \"continuousHeight\": 300}}, \"layer\": [{\"mark\": {\"type\": \"circle\", \"color\": \"black\"}, \"encoding\": {\"x\": {\"field\": \"sqft\", \"scale\": {\"zero\": false}, \"title\": \"House size (square feet)\", \"type\": \"quantitative\"}, \"y\": {\"axis\": {\"format\": \"$,.0f\"}, \"field\": \"price\", \"scale\": {\"zero\": false}, \"title\": \"Price (USD)\", \"type\": \"quantitative\"}}}, {\"mark\": \"line\", \"encoding\": {\"x\": {\"field\": \"sqft\", \"scale\": {\"zero\": false}, \"title\": \"House size (square feet)\", \"type\": \"quantitative\"}, \"y\": {\"axis\": {\"format\": \"$,.0f\"}, \"field\": \"price\", \"scale\": {\"zero\": false}, \"title\": \"Price (USD)\", \"type\": \"quantitative\"}}, \"transform\": [{\"on\": \"sqft\", \"regression\": \"price\"}]}], \"data\": {\"name\": \"data-dd70ea120b69e4d2199dadb4d59509b6\"}, \"$schema\": \"https://vega.github.io/schema/vega-lite/v4.17.0.json\", \"datasets\": {\"data-dd70ea120b69e4d2199dadb4d59509b6\": [{\"city\": \"SACRAMENTO\", \"zip\": \"z95829\", \"beds\": 3, \"baths\": 2.0, \"sqft\": 2170, \"type\": \"Residential\", \"price\": 257729, \"latitude\": 38.45967, \"longitude\": -121.360461}, {\"city\": \"SACRAMENTO\", \"zip\": \"z95835\", \"beds\": 3, \"baths\": 2.0, \"sqft\": 1686, \"type\": \"Residential\", \"price\": 239000, \"latitude\": 38.671556, \"longitude\": -121.520916}, {\"city\": \"ROSEVILLE\", \"zip\": \"z95678\", \"beds\": 3, \"baths\": 2.0, \"sqft\": 1174, \"type\": \"Residential\", \"price\": 180000, \"latitude\": 38.734136, \"longitude\": -121.299639}, {\"city\": \"EL_DORADO_HILLS\", \"zip\": \"z95762\", \"beds\": 5, \"baths\": 4.0, \"sqft\": 4091, \"type\": \"Residential\", \"price\": 508000, \"latitude\": 38.676131, \"longitude\": -121.038931}, {\"city\": \"SACRAMENTO\", \"zip\": \"z95842\", \"beds\": 5, \"baths\": 2.0, \"sqft\": 1712, \"type\": \"Residential\", \"price\": 168000, \"latitude\": 38.677003, \"longitude\": -121.354454}, {\"city\": \"FAIR_OAKS\", \"zip\": \"z95628\", \"beds\": 3, \"baths\": 1.0, \"sqft\": 960, \"type\": \"Residential\", \"price\": 185000, \"latitude\": 38.667254, \"longitude\": -121.240708}, {\"city\": \"ORANGEVALE\", \"zip\": \"z95662\", \"beds\": 3, \"baths\": 2.0, \"sqft\": 1294, \"type\": \"Residential\", \"price\": 191250, \"latitude\": 38.687006, \"longitude\": -121.254319}, {\"city\": \"SACRAMENTO\", \"zip\": \"z95842\", \"beds\": 2, \"baths\": 2.0, \"sqft\": 1134, \"type\": \"Condo\", \"price\": 110700, \"latitude\": 38.700051, \"longitude\": -121.351278}, {\"city\": \"SACRAMENTO\", \"zip\": \"z95838\", \"beds\": 2, \"baths\": 1.0, \"sqft\": 1011, \"type\": \"Residential\", \"price\": 70000, \"latitude\": 38.643978, \"longitude\": -121.449562}, {\"city\": \"SACRAMENTO\", \"zip\": \"z95824\", \"beds\": 2, \"baths\": 2.0, \"sqft\": 1139, \"type\": \"Residential\", \"price\": 93600, \"latitude\": 38.520469, \"longitude\": -121.458606}, {\"city\": \"ROSEVILLE\", \"zip\": \"z95747\", \"beds\": 3, \"baths\": 2.5, \"sqft\": 1829, \"type\": \"Residential\", \"price\": 306500, \"latitude\": 38.772771, \"longitude\": -121.364877}, {\"city\": \"SACRAMENTO\", \"zip\": \"z95823\", \"beds\": 4, \"baths\": 2.0, \"sqft\": 1472, \"type\": \"Residential\", \"price\": 148750, \"latitude\": 38.479553, \"longitude\": -121.463317}, {\"city\": \"SACRAMENTO\", \"zip\": \"z95819\", \"beds\": 3, \"baths\": 1.0, \"sqft\": 1108, \"type\": \"Residential\", \"price\": 339000, \"latitude\": 38.563805, \"longitude\": -121.436395}, {\"city\": \"SACRAMENTO\", \"zip\": \"z95825\", \"beds\": 3, \"baths\": 1.0, \"sqft\": 1520, \"type\": \"Residential\", \"price\": 255000, \"latitude\": 38.599449, \"longitude\": -121.400305}, {\"city\": \"ELVERTA\", \"zip\": \"z95626\", \"beds\": 3, \"baths\": 2.0, \"sqft\": 1080, \"type\": \"Residential\", \"price\": 126000, \"latitude\": 38.717976, \"longitude\": -121.407684}, {\"city\": \"EL_DORADO_HILLS\", \"zip\": \"z95762\", \"beds\": 3, \"baths\": 2.0, \"sqft\": 2129, \"type\": \"Residential\", \"price\": 460000, \"latitude\": 38.668239, \"longitude\": -121.064437}, {\"city\": \"SACRAMENTO\", \"zip\": \"z95838\", \"beds\": 4, \"baths\": 2.0, \"sqft\": 1799, \"type\": \"Residential\", \"price\": 205000, \"latitude\": 38.655887, \"longitude\": -121.446119}, {\"city\": \"SACRAMENTO\", \"zip\": \"z95835\", \"beds\": 5, \"baths\": 3.0, \"sqft\": 3599, \"type\": \"Residential\", \"price\": 381300, \"latitude\": 38.677126, \"longitude\": -121.500519}, {\"city\": \"CAMERON_PARK\", \"zip\": \"z95682\", \"beds\": 2, \"baths\": 1.5, \"sqft\": 1376, \"type\": \"Residential\", \"price\": 210000, \"latitude\": 38.69437, \"longitude\": -120.996602}, {\"city\": \"SACRAMENTO\", \"zip\": \"z95815\", \"beds\": 3, \"baths\": 1.0, \"sqft\": 696, \"type\": \"Residential\", \"price\": 121725, \"latitude\": 38.613103, \"longitude\": -121.444085}, {\"city\": \"CARMICHAEL\", \"zip\": \"z95608\", \"beds\": 3, \"baths\": 2.0, \"sqft\": 1245, \"type\": \"Condo\", \"price\": 139500, \"latitude\": 38.628563, \"longitude\": -121.328297}, {\"city\": \"ELK_GROVE\", \"zip\": \"z95757\", \"beds\": 5, \"baths\": 3.5, \"sqft\": 2724, \"type\": \"Residential\", \"price\": 383000, \"latitude\": 38.381102, \"longitude\": -121.42901}, {\"city\": \"FAIR_OAKS\", \"zip\": \"z95628\", \"beds\": 3, \"baths\": 2.0, \"sqft\": 3173, \"type\": \"Residential\", \"price\": 525000, \"latitude\": 38.650735, \"longitude\": -121.258628}, {\"city\": \"CITRUS_HEIGHTS\", \"zip\": \"z95621\", \"beds\": 3, \"baths\": 2.0, \"sqft\": 1118, \"type\": \"Residential\", \"price\": 122000, \"latitude\": 38.707851, \"longitude\": -121.320707}, {\"city\": \"CITRUS_HEIGHTS\", \"zip\": \"z95610\", \"beds\": 3, \"baths\": 2.0, \"sqft\": 1882, \"type\": \"Residential\", \"price\": 219000, \"latitude\": 38.715423, \"longitude\": -121.246743}, {\"city\": \"SACRAMENTO\", \"zip\": \"z95834\", \"beds\": 3, \"baths\": 2.0, \"sqft\": 1672, \"type\": \"Condo\", \"price\": 265000, \"latitude\": 38.648879, \"longitude\": -121.544023}, {\"city\": \"SACRAMENTO\", \"zip\": \"z95842\", \"beds\": 2, \"baths\": 1.0, \"sqft\": 924, \"type\": \"Condo\", \"price\": 150454, \"latitude\": 38.672567, \"longitude\": -121.356754}, {\"city\": \"ANTELOPE\", \"zip\": \"z95843\", \"beds\": 3, \"baths\": 2.0, \"sqft\": 1830, \"type\": \"Residential\", \"price\": 254172, \"latitude\": 38.710221, \"longitude\": -121.341707}, {\"city\": \"SACRAMENTO\", \"zip\": \"z95820\", \"beds\": 2, \"baths\": 1.0, \"sqft\": 722, \"type\": \"Residential\", \"price\": 145000, \"latitude\": 38.532727, \"longitude\": -121.470783}, {\"city\": \"SACRAMENTO\", \"zip\": \"z95820\", \"beds\": 3, \"baths\": 2.0, \"sqft\": 1212, \"type\": \"Residential\", \"price\": 228327, \"latitude\": 38.534827, \"longitude\": -121.412545}]}}, {\"mode\": \"vega-lite\"});\n",
       "</script>"
      ],
      "text/plain": [
       "alt.LayerChart(...)"
      ]
     },
     "execution_count": 2,
     "metadata": {},
     "output_type": "execute_result"
    }
   ],
   "source": [
    "sacramento = pd.read_csv(\"data/sacramento.csv\")\n",
    "\n",
    "small_sacramento = sacramento.sample(n=30, random_state=2)\n",
    "\n",
    "small_plot = (\n",
    "    alt.Chart(small_sacramento)\n",
    "    .mark_circle(color=\"black\")\n",
    "    .encode(\n",
    "        x=alt.X(\"sqft\", title=\"House size (square feet)\", scale=alt.Scale(zero=False)),\n",
    "        y=alt.Y(\n",
    "            \"price\",\n",
    "            title=\"Price (USD)\",\n",
    "            axis=alt.Axis(format=\"$,.0f\"),\n",
    "            scale=alt.Scale(zero=False),\n",
    "        ),\n",
    "    )\n",
    ")\n",
    "\n",
    "small_plot += small_plot.transform_regression(\"sqft\", \"price\").mark_line()\n",
    "\n",
    "small_plot"
   ]
  },
  {
   "cell_type": "code",
   "execution_count": 3,
   "id": "f9e8ac6f",
   "metadata": {
    "tags": [
     "remove-cell"
    ]
   },
   "outputs": [
    {
     "ename": "NameError",
     "evalue": "name 'glue' is not defined",
     "output_type": "error",
     "traceback": [
      "\u001b[0;31m---------------------------------------------------------------------------\u001b[0m",
      "\u001b[0;31mNameError\u001b[0m                                 Traceback (most recent call last)",
      "Input \u001b[0;32mIn [3]\u001b[0m, in \u001b[0;36m<cell line: 1>\u001b[0;34m()\u001b[0m\n\u001b[0;32m----> 1\u001b[0m \u001b[43mglue\u001b[49m(\u001b[38;5;124m\"\u001b[39m\u001b[38;5;124mfig:08-lin-reg1\u001b[39m\u001b[38;5;124m\"\u001b[39m, small_plot)\n",
      "\u001b[0;31mNameError\u001b[0m: name 'glue' is not defined"
     ]
    }
   ],
   "source": [
    "glue(\"fig:08-lin-reg1\", small_plot)"
   ]
  },
  {
   "cell_type": "markdown",
   "id": "711adf37",
   "metadata": {},
   "source": [
    ":::{glue:figure} fig:08-lin-reg1\n",
    ":name: fig:08-lin-reg1\n",
    "\n",
    "Scatter plot of sale price versus size with line of best fit for subset of the Sacramento housing data.\n",
    ":::"
   ]
  },
  {
   "cell_type": "markdown",
   "id": "aceb6940",
   "metadata": {},
   "source": [
    "The equation for the straight line is: \\index{straight line!equation}\n",
    "\n",
    "$$\\text{house sale price} = \\beta_0 + \\beta_1 \\cdot (\\text{house size}),$$\n",
    "where\n",
    "\n",
    "- $\\beta_0$ is the *vertical intercept* of the line (the price when house size is 0)\n",
    "- $\\beta_1$ is the *slope* of the line (how quickly the price increases as you increase house size)\n",
    "\n",
    "Therefore using the data to find the line of best fit is equivalent to finding coefficients \n",
    "$\\beta_0$ and $\\beta_1$ that *parametrize* (correspond to) the line of best fit.\n",
    "Now of course, in this particular problem, the idea of a 0 square-foot house is a bit silly;\n",
    "but you can think of $\\beta_0$ here as the \"base price,\" and \n",
    "$\\beta_1$ as the increase in price for each square foot of space.\n",
    "Let's push this thought even further: what would happen in the equation for the line if you \n",
    "tried to evaluate the price of a house with size 6 *million* square feet?\n",
    "Or what about *negative* 2,000 square feet? As it turns out, nothing in the formula breaks; linear\n",
    "regression will happily make predictions for crazy predictor values if you ask it to. But even though\n",
    "you *can* make these wild predictions, you shouldn't. You should only make predictions roughly within\n",
    "the range of your original data, and perhaps a bit beyond it only if it makes sense. For example,\n",
    "the data in {numref}`fig:08-lin-reg1` only reaches around 600 square feet on the low end, but \n",
    "it would probably be reasonable to use the linear regression model to make a prediction at 500 square feet, say.\n",
    "\n",
    "Back to the example! Once we have the coefficients $\\beta_0$ and $\\beta_1$, we can use the equation\n",
    "above to evaluate the predicted sale price given the value we have for the\n",
    "predictor variable&mdash;here 2,000 square feet. {numref}`fig:08-lin-reg2` demonstrates this process."
   ]
  },
  {
   "cell_type": "code",
   "execution_count": 4,
   "id": "85df7828",
   "metadata": {
    "tags": [
     "remove-cell"
    ]
   },
   "outputs": [
    {
     "data": {
      "text/html": [
       "\n",
       "<div id=\"altair-viz-4f1eb754c3914bd099cac47740bde4ac\"></div>\n",
       "<script type=\"text/javascript\">\n",
       "  var VEGA_DEBUG = (typeof VEGA_DEBUG == \"undefined\") ? {} : VEGA_DEBUG;\n",
       "  (function(spec, embedOpt){\n",
       "    let outputDiv = document.currentScript.previousElementSibling;\n",
       "    if (outputDiv.id !== \"altair-viz-4f1eb754c3914bd099cac47740bde4ac\") {\n",
       "      outputDiv = document.getElementById(\"altair-viz-4f1eb754c3914bd099cac47740bde4ac\");\n",
       "    }\n",
       "    const paths = {\n",
       "      \"vega\": \"https://cdn.jsdelivr.net/npm//vega@5?noext\",\n",
       "      \"vega-lib\": \"https://cdn.jsdelivr.net/npm//vega-lib?noext\",\n",
       "      \"vega-lite\": \"https://cdn.jsdelivr.net/npm//vega-lite@4.17.0?noext\",\n",
       "      \"vega-embed\": \"https://cdn.jsdelivr.net/npm//vega-embed@6?noext\",\n",
       "    };\n",
       "\n",
       "    function maybeLoadScript(lib, version) {\n",
       "      var key = `${lib.replace(\"-\", \"\")}_version`;\n",
       "      return (VEGA_DEBUG[key] == version) ?\n",
       "        Promise.resolve(paths[lib]) :\n",
       "        new Promise(function(resolve, reject) {\n",
       "          var s = document.createElement('script');\n",
       "          document.getElementsByTagName(\"head\")[0].appendChild(s);\n",
       "          s.async = true;\n",
       "          s.onload = () => {\n",
       "            VEGA_DEBUG[key] = version;\n",
       "            return resolve(paths[lib]);\n",
       "          };\n",
       "          s.onerror = () => reject(`Error loading script: ${paths[lib]}`);\n",
       "          s.src = paths[lib];\n",
       "        });\n",
       "    }\n",
       "\n",
       "    function showError(err) {\n",
       "      outputDiv.innerHTML = `<div class=\"error\" style=\"color:red;\">${err}</div>`;\n",
       "      throw err;\n",
       "    }\n",
       "\n",
       "    function displayChart(vegaEmbed) {\n",
       "      vegaEmbed(outputDiv, spec, embedOpt)\n",
       "        .catch(err => showError(`Javascript Error: ${err.message}<br>This usually means there's a typo in your chart specification. See the javascript console for the full traceback.`));\n",
       "    }\n",
       "\n",
       "    if(typeof define === \"function\" && define.amd) {\n",
       "      requirejs.config({paths});\n",
       "      require([\"vega-embed\"], displayChart, err => showError(`Error loading script: ${err.message}`));\n",
       "    } else {\n",
       "      maybeLoadScript(\"vega\", \"5\")\n",
       "        .then(() => maybeLoadScript(\"vega-lite\", \"4.17.0\"))\n",
       "        .then(() => maybeLoadScript(\"vega-embed\", \"6\"))\n",
       "        .catch(showError)\n",
       "        .then(() => displayChart(vegaEmbed));\n",
       "    }\n",
       "  })({\"config\": {\"view\": {\"continuousWidth\": 400, \"continuousHeight\": 300}}, \"layer\": [{\"mark\": {\"type\": \"circle\", \"color\": \"black\"}, \"encoding\": {\"x\": {\"field\": \"sqft\", \"scale\": {\"zero\": false}, \"title\": \"House size (square feet)\", \"type\": \"quantitative\"}, \"y\": {\"axis\": {\"format\": \"$,.0f\"}, \"field\": \"price\", \"scale\": {\"zero\": false}, \"title\": \"Price (USD)\", \"type\": \"quantitative\"}}}, {\"mark\": \"line\", \"encoding\": {\"x\": {\"field\": \"sqft\", \"scale\": {\"zero\": false}, \"title\": \"House size (square feet)\", \"type\": \"quantitative\"}, \"y\": {\"axis\": {\"format\": \"$,.0f\"}, \"field\": \"price\", \"scale\": {\"zero\": false}, \"title\": \"Price (USD)\", \"type\": \"quantitative\"}}, \"transform\": [{\"on\": \"sqft\", \"regression\": \"price\"}]}, {\"data\": {\"name\": \"data-dede3f53429ab08afa6de2a4430fc887\"}, \"mark\": {\"type\": \"rule\", \"strokeDash\": [2, 4]}, \"encoding\": {\"x\": {\"field\": \"x\", \"type\": \"quantitative\"}}}, {\"data\": {\"name\": \"data-55421730bd70617d44503cfef93a70d9\"}, \"mark\": {\"type\": \"circle\", \"color\": \"red\", \"size\": 100}, \"encoding\": {\"x\": {\"field\": \"x\", \"type\": \"quantitative\"}, \"y\": {\"field\": \"y\", \"type\": \"quantitative\"}}}, {\"data\": {\"name\": \"data-5c02433322b2d36cf7dcb0b164409dca\"}, \"mark\": {\"type\": \"text\", \"dy\": -5, \"size\": 15}, \"encoding\": {\"text\": {\"field\": \"prediction\", \"type\": \"nominal\"}, \"x\": {\"field\": \"x\", \"type\": \"quantitative\"}, \"y\": {\"field\": \"y\", \"type\": \"quantitative\"}}}], \"data\": {\"name\": \"data-dd70ea120b69e4d2199dadb4d59509b6\"}, \"$schema\": \"https://vega.github.io/schema/vega-lite/v4.17.0.json\", \"datasets\": {\"data-dd70ea120b69e4d2199dadb4d59509b6\": [{\"city\": \"SACRAMENTO\", \"zip\": \"z95829\", \"beds\": 3, \"baths\": 2.0, \"sqft\": 2170, \"type\": \"Residential\", \"price\": 257729, \"latitude\": 38.45967, \"longitude\": -121.360461}, {\"city\": \"SACRAMENTO\", \"zip\": \"z95835\", \"beds\": 3, \"baths\": 2.0, \"sqft\": 1686, \"type\": \"Residential\", \"price\": 239000, \"latitude\": 38.671556, \"longitude\": -121.520916}, {\"city\": \"ROSEVILLE\", \"zip\": \"z95678\", \"beds\": 3, \"baths\": 2.0, \"sqft\": 1174, \"type\": \"Residential\", \"price\": 180000, \"latitude\": 38.734136, \"longitude\": -121.299639}, {\"city\": \"EL_DORADO_HILLS\", \"zip\": \"z95762\", \"beds\": 5, \"baths\": 4.0, \"sqft\": 4091, \"type\": \"Residential\", \"price\": 508000, \"latitude\": 38.676131, \"longitude\": -121.038931}, {\"city\": \"SACRAMENTO\", \"zip\": \"z95842\", \"beds\": 5, \"baths\": 2.0, \"sqft\": 1712, \"type\": \"Residential\", \"price\": 168000, \"latitude\": 38.677003, \"longitude\": -121.354454}, {\"city\": \"FAIR_OAKS\", \"zip\": \"z95628\", \"beds\": 3, \"baths\": 1.0, \"sqft\": 960, \"type\": \"Residential\", \"price\": 185000, \"latitude\": 38.667254, \"longitude\": -121.240708}, {\"city\": \"ORANGEVALE\", \"zip\": \"z95662\", \"beds\": 3, \"baths\": 2.0, \"sqft\": 1294, \"type\": \"Residential\", \"price\": 191250, \"latitude\": 38.687006, \"longitude\": -121.254319}, {\"city\": \"SACRAMENTO\", \"zip\": \"z95842\", \"beds\": 2, \"baths\": 2.0, \"sqft\": 1134, \"type\": \"Condo\", \"price\": 110700, \"latitude\": 38.700051, \"longitude\": -121.351278}, {\"city\": \"SACRAMENTO\", \"zip\": \"z95838\", \"beds\": 2, \"baths\": 1.0, \"sqft\": 1011, \"type\": \"Residential\", \"price\": 70000, \"latitude\": 38.643978, \"longitude\": -121.449562}, {\"city\": \"SACRAMENTO\", \"zip\": \"z95824\", \"beds\": 2, \"baths\": 2.0, \"sqft\": 1139, \"type\": \"Residential\", \"price\": 93600, \"latitude\": 38.520469, \"longitude\": -121.458606}, {\"city\": \"ROSEVILLE\", \"zip\": \"z95747\", \"beds\": 3, \"baths\": 2.5, \"sqft\": 1829, \"type\": \"Residential\", \"price\": 306500, \"latitude\": 38.772771, \"longitude\": -121.364877}, {\"city\": \"SACRAMENTO\", \"zip\": \"z95823\", \"beds\": 4, \"baths\": 2.0, \"sqft\": 1472, \"type\": \"Residential\", \"price\": 148750, \"latitude\": 38.479553, \"longitude\": -121.463317}, {\"city\": \"SACRAMENTO\", \"zip\": \"z95819\", \"beds\": 3, \"baths\": 1.0, \"sqft\": 1108, \"type\": \"Residential\", \"price\": 339000, \"latitude\": 38.563805, \"longitude\": -121.436395}, {\"city\": \"SACRAMENTO\", \"zip\": \"z95825\", \"beds\": 3, \"baths\": 1.0, \"sqft\": 1520, \"type\": \"Residential\", \"price\": 255000, \"latitude\": 38.599449, \"longitude\": -121.400305}, {\"city\": \"ELVERTA\", \"zip\": \"z95626\", \"beds\": 3, \"baths\": 2.0, \"sqft\": 1080, \"type\": \"Residential\", \"price\": 126000, \"latitude\": 38.717976, \"longitude\": -121.407684}, {\"city\": \"EL_DORADO_HILLS\", \"zip\": \"z95762\", \"beds\": 3, \"baths\": 2.0, \"sqft\": 2129, \"type\": \"Residential\", \"price\": 460000, \"latitude\": 38.668239, \"longitude\": -121.064437}, {\"city\": \"SACRAMENTO\", \"zip\": \"z95838\", \"beds\": 4, \"baths\": 2.0, \"sqft\": 1799, \"type\": \"Residential\", \"price\": 205000, \"latitude\": 38.655887, \"longitude\": -121.446119}, {\"city\": \"SACRAMENTO\", \"zip\": \"z95835\", \"beds\": 5, \"baths\": 3.0, \"sqft\": 3599, \"type\": \"Residential\", \"price\": 381300, \"latitude\": 38.677126, \"longitude\": -121.500519}, {\"city\": \"CAMERON_PARK\", \"zip\": \"z95682\", \"beds\": 2, \"baths\": 1.5, \"sqft\": 1376, \"type\": \"Residential\", \"price\": 210000, \"latitude\": 38.69437, \"longitude\": -120.996602}, {\"city\": \"SACRAMENTO\", \"zip\": \"z95815\", \"beds\": 3, \"baths\": 1.0, \"sqft\": 696, \"type\": \"Residential\", \"price\": 121725, \"latitude\": 38.613103, \"longitude\": -121.444085}, {\"city\": \"CARMICHAEL\", \"zip\": \"z95608\", \"beds\": 3, \"baths\": 2.0, \"sqft\": 1245, \"type\": \"Condo\", \"price\": 139500, \"latitude\": 38.628563, \"longitude\": -121.328297}, {\"city\": \"ELK_GROVE\", \"zip\": \"z95757\", \"beds\": 5, \"baths\": 3.5, \"sqft\": 2724, \"type\": \"Residential\", \"price\": 383000, \"latitude\": 38.381102, \"longitude\": -121.42901}, {\"city\": \"FAIR_OAKS\", \"zip\": \"z95628\", \"beds\": 3, \"baths\": 2.0, \"sqft\": 3173, \"type\": \"Residential\", \"price\": 525000, \"latitude\": 38.650735, \"longitude\": -121.258628}, {\"city\": \"CITRUS_HEIGHTS\", \"zip\": \"z95621\", \"beds\": 3, \"baths\": 2.0, \"sqft\": 1118, \"type\": \"Residential\", \"price\": 122000, \"latitude\": 38.707851, \"longitude\": -121.320707}, {\"city\": \"CITRUS_HEIGHTS\", \"zip\": \"z95610\", \"beds\": 3, \"baths\": 2.0, \"sqft\": 1882, \"type\": \"Residential\", \"price\": 219000, \"latitude\": 38.715423, \"longitude\": -121.246743}, {\"city\": \"SACRAMENTO\", \"zip\": \"z95834\", \"beds\": 3, \"baths\": 2.0, \"sqft\": 1672, \"type\": \"Condo\", \"price\": 265000, \"latitude\": 38.648879, \"longitude\": -121.544023}, {\"city\": \"SACRAMENTO\", \"zip\": \"z95842\", \"beds\": 2, \"baths\": 1.0, \"sqft\": 924, \"type\": \"Condo\", \"price\": 150454, \"latitude\": 38.672567, \"longitude\": -121.356754}, {\"city\": \"ANTELOPE\", \"zip\": \"z95843\", \"beds\": 3, \"baths\": 2.0, \"sqft\": 1830, \"type\": \"Residential\", \"price\": 254172, \"latitude\": 38.710221, \"longitude\": -121.341707}, {\"city\": \"SACRAMENTO\", \"zip\": \"z95820\", \"beds\": 2, \"baths\": 1.0, \"sqft\": 722, \"type\": \"Residential\", \"price\": 145000, \"latitude\": 38.532727, \"longitude\": -121.470783}, {\"city\": \"SACRAMENTO\", \"zip\": \"z95820\", \"beds\": 3, \"baths\": 2.0, \"sqft\": 1212, \"type\": \"Residential\", \"price\": 228327, \"latitude\": 38.534827, \"longitude\": -121.412545}], \"data-dede3f53429ab08afa6de2a4430fc887\": [{\"x\": 2000}], \"data-55421730bd70617d44503cfef93a70d9\": [{\"x\": 2000, \"y\": 276027.1395231306}], \"data-5c02433322b2d36cf7dcb0b164409dca\": [{\"x\": 2350, \"y\": 235027.1395231306, \"prediction\": \"$276,027\"}]}}, {\"mode\": \"vega-lite\"});\n",
       "</script>"
      ],
      "text/plain": [
       "alt.LayerChart(...)"
      ]
     },
     "execution_count": 4,
     "metadata": {},
     "output_type": "execute_result"
    }
   ],
   "source": [
    "lm = LinearRegression()\n",
    "lm.fit(small_sacramento[[\"sqft\"]], small_sacramento[[\"price\"]])\n",
    "prediction = float(lm.predict(pd.DataFrame({\"sqft\": [2000]})))\n",
    "\n",
    "# the vertical dotted line\n",
    "line_df = pd.DataFrame({\"x\": [2000]})\n",
    "rule = alt.Chart(line_df).mark_rule(strokeDash=[2, 4]).encode(x=\"x\")\n",
    "\n",
    "# the red point\n",
    "point_df = pd.DataFrame({\"x\": [2000], \"y\": [prediction]})\n",
    "point = alt.Chart(point_df).mark_circle(color=\"red\", size=100).encode(x=\"x\", y=\"y\")\n",
    "\n",
    "# overlay all plots\n",
    "small_plot_2000_pred = (\n",
    "    small_plot\n",
    "    + rule\n",
    "    + point\n",
    "    # add the text\n",
    "    + alt.Chart(\n",
    "        pd.DataFrame(\n",
    "            {\n",
    "                \"x\": [2350],\n",
    "                \"y\": [prediction - 41000],\n",
    "                \"prediction\": [\"$\" + \"{0:,.0f}\".format(prediction)],\n",
    "            }\n",
    "        )\n",
    "    )\n",
    "    .mark_text(dy=-5, size=15)\n",
    "    .encode(x=\"x\", y=\"y\", text=\"prediction\")\n",
    ")\n",
    "\n",
    "small_plot_2000_pred"
   ]
  },
  {
   "cell_type": "code",
   "execution_count": 5,
   "id": "16e60ba4",
   "metadata": {
    "tags": [
     "remove-cell"
    ]
   },
   "outputs": [
    {
     "ename": "NameError",
     "evalue": "name 'glue' is not defined",
     "output_type": "error",
     "traceback": [
      "\u001b[0;31m---------------------------------------------------------------------------\u001b[0m",
      "\u001b[0;31mNameError\u001b[0m                                 Traceback (most recent call last)",
      "Input \u001b[0;32mIn [5]\u001b[0m, in \u001b[0;36m<cell line: 1>\u001b[0;34m()\u001b[0m\n\u001b[0;32m----> 1\u001b[0m \u001b[43mglue\u001b[49m(\u001b[38;5;124m\"\u001b[39m\u001b[38;5;124mfig:08-lin-reg2\u001b[39m\u001b[38;5;124m\"\u001b[39m, small_plot_2000_pred)\n\u001b[1;32m      2\u001b[0m glue(\u001b[38;5;124m\"\u001b[39m\u001b[38;5;124mpred_2000\u001b[39m\u001b[38;5;124m\"\u001b[39m, \u001b[38;5;124m\"\u001b[39m\u001b[38;5;132;01m{0:,.0f}\u001b[39;00m\u001b[38;5;124m\"\u001b[39m\u001b[38;5;241m.\u001b[39mformat(prediction))\n",
      "\u001b[0;31mNameError\u001b[0m: name 'glue' is not defined"
     ]
    }
   ],
   "source": [
    "glue(\"fig:08-lin-reg2\", small_plot_2000_pred)\n",
    "glue(\"pred_2000\", \"{0:,.0f}\".format(prediction))"
   ]
  },
  {
   "cell_type": "markdown",
   "id": "aa87ecd4",
   "metadata": {},
   "source": [
    ":::{glue:figure} fig:08-lin-reg2\n",
    ":name: fig:08-lin-reg2\n",
    "\n",
    "Scatter plot of sale price versus size with line of best fit and a red dot at the predicted sale price for a 2,000 square-foot home.\n",
    ":::"
   ]
  },
  {
   "cell_type": "markdown",
   "id": "647edc6d",
   "metadata": {},
   "source": [
    "By using simple linear regression on this small data set to predict the sale price\n",
    "for a 2,000 square-foot house, we get a predicted value of \n",
    "\\${glue:text}`pred_2000`. But wait a minute...how\n",
    "exactly does simple linear regression choose the line of best fit? Many\n",
    "different lines could be drawn through the data points. \n",
    "Some plausible examples are shown in {numref}`fig:08-several-lines`."
   ]
  },
  {
   "cell_type": "code",
   "execution_count": 6,
   "id": "7daa8936",
   "metadata": {
    "tags": [
     "remove-cell"
    ]
   },
   "outputs": [
    {
     "data": {
      "text/html": [
       "\n",
       "<div id=\"altair-viz-a433d12e44174a238182a47cb955a303\"></div>\n",
       "<script type=\"text/javascript\">\n",
       "  var VEGA_DEBUG = (typeof VEGA_DEBUG == \"undefined\") ? {} : VEGA_DEBUG;\n",
       "  (function(spec, embedOpt){\n",
       "    let outputDiv = document.currentScript.previousElementSibling;\n",
       "    if (outputDiv.id !== \"altair-viz-a433d12e44174a238182a47cb955a303\") {\n",
       "      outputDiv = document.getElementById(\"altair-viz-a433d12e44174a238182a47cb955a303\");\n",
       "    }\n",
       "    const paths = {\n",
       "      \"vega\": \"https://cdn.jsdelivr.net/npm//vega@5?noext\",\n",
       "      \"vega-lib\": \"https://cdn.jsdelivr.net/npm//vega-lib?noext\",\n",
       "      \"vega-lite\": \"https://cdn.jsdelivr.net/npm//vega-lite@4.17.0?noext\",\n",
       "      \"vega-embed\": \"https://cdn.jsdelivr.net/npm//vega-embed@6?noext\",\n",
       "    };\n",
       "\n",
       "    function maybeLoadScript(lib, version) {\n",
       "      var key = `${lib.replace(\"-\", \"\")}_version`;\n",
       "      return (VEGA_DEBUG[key] == version) ?\n",
       "        Promise.resolve(paths[lib]) :\n",
       "        new Promise(function(resolve, reject) {\n",
       "          var s = document.createElement('script');\n",
       "          document.getElementsByTagName(\"head\")[0].appendChild(s);\n",
       "          s.async = true;\n",
       "          s.onload = () => {\n",
       "            VEGA_DEBUG[key] = version;\n",
       "            return resolve(paths[lib]);\n",
       "          };\n",
       "          s.onerror = () => reject(`Error loading script: ${paths[lib]}`);\n",
       "          s.src = paths[lib];\n",
       "        });\n",
       "    }\n",
       "\n",
       "    function showError(err) {\n",
       "      outputDiv.innerHTML = `<div class=\"error\" style=\"color:red;\">${err}</div>`;\n",
       "      throw err;\n",
       "    }\n",
       "\n",
       "    function displayChart(vegaEmbed) {\n",
       "      vegaEmbed(outputDiv, spec, embedOpt)\n",
       "        .catch(err => showError(`Javascript Error: ${err.message}<br>This usually means there's a typo in your chart specification. See the javascript console for the full traceback.`));\n",
       "    }\n",
       "\n",
       "    if(typeof define === \"function\" && define.amd) {\n",
       "      requirejs.config({paths});\n",
       "      require([\"vega-embed\"], displayChart, err => showError(`Error loading script: ${err.message}`));\n",
       "    } else {\n",
       "      maybeLoadScript(\"vega\", \"5\")\n",
       "        .then(() => maybeLoadScript(\"vega-lite\", \"4.17.0\"))\n",
       "        .then(() => maybeLoadScript(\"vega-embed\", \"6\"))\n",
       "        .catch(showError)\n",
       "        .then(() => displayChart(vegaEmbed));\n",
       "    }\n",
       "  })({\"config\": {\"view\": {\"continuousWidth\": 400, \"continuousHeight\": 300}}, \"layer\": [{\"mark\": {\"type\": \"circle\", \"color\": \"black\"}, \"encoding\": {\"x\": {\"field\": \"sqft\", \"scale\": {\"zero\": false}, \"title\": \"House size (square feet)\", \"type\": \"quantitative\"}, \"y\": {\"axis\": {\"format\": \"$,.0f\"}, \"field\": \"price\", \"scale\": {\"zero\": false}, \"title\": \"Price (USD)\", \"type\": \"quantitative\"}}}, {\"mark\": \"line\", \"encoding\": {\"x\": {\"field\": \"sqft\", \"scale\": {\"zero\": false}, \"title\": \"House size (square feet)\", \"type\": \"quantitative\"}, \"y\": {\"axis\": {\"format\": \"$,.0f\"}, \"field\": \"price\", \"scale\": {\"zero\": false}, \"title\": \"Price (USD)\", \"type\": \"quantitative\"}}, \"transform\": [{\"on\": \"sqft\", \"regression\": \"price\"}]}, {\"data\": {\"name\": \"data-7625a72922e8eb8d9f4a6215c1cb69db\"}, \"mark\": {\"type\": \"line\", \"color\": \"green\"}, \"encoding\": {\"x\": {\"field\": \"x\", \"type\": \"quantitative\"}, \"y\": {\"field\": \"y\", \"type\": \"quantitative\"}}}, {\"data\": {\"name\": \"data-7e87ec4fcfa14bc107c49e24bb26d2be\"}, \"mark\": {\"type\": \"line\", \"color\": \"purple\"}, \"encoding\": {\"x\": {\"field\": \"x\", \"type\": \"quantitative\"}, \"y\": {\"field\": \"y\", \"type\": \"quantitative\"}}}, {\"data\": {\"name\": \"data-d8da1658b8aab1a17d932e0539f00c8f\"}, \"mark\": {\"type\": \"line\", \"color\": \"red\"}, \"encoding\": {\"x\": {\"field\": \"x\", \"type\": \"quantitative\"}, \"y\": {\"field\": \"y\", \"type\": \"quantitative\"}}}], \"data\": {\"name\": \"data-dd70ea120b69e4d2199dadb4d59509b6\"}, \"$schema\": \"https://vega.github.io/schema/vega-lite/v4.17.0.json\", \"datasets\": {\"data-dd70ea120b69e4d2199dadb4d59509b6\": [{\"city\": \"SACRAMENTO\", \"zip\": \"z95829\", \"beds\": 3, \"baths\": 2.0, \"sqft\": 2170, \"type\": \"Residential\", \"price\": 257729, \"latitude\": 38.45967, \"longitude\": -121.360461}, {\"city\": \"SACRAMENTO\", \"zip\": \"z95835\", \"beds\": 3, \"baths\": 2.0, \"sqft\": 1686, \"type\": \"Residential\", \"price\": 239000, \"latitude\": 38.671556, \"longitude\": -121.520916}, {\"city\": \"ROSEVILLE\", \"zip\": \"z95678\", \"beds\": 3, \"baths\": 2.0, \"sqft\": 1174, \"type\": \"Residential\", \"price\": 180000, \"latitude\": 38.734136, \"longitude\": -121.299639}, {\"city\": \"EL_DORADO_HILLS\", \"zip\": \"z95762\", \"beds\": 5, \"baths\": 4.0, \"sqft\": 4091, \"type\": \"Residential\", \"price\": 508000, \"latitude\": 38.676131, \"longitude\": -121.038931}, {\"city\": \"SACRAMENTO\", \"zip\": \"z95842\", \"beds\": 5, \"baths\": 2.0, \"sqft\": 1712, \"type\": \"Residential\", \"price\": 168000, \"latitude\": 38.677003, \"longitude\": -121.354454}, {\"city\": \"FAIR_OAKS\", \"zip\": \"z95628\", \"beds\": 3, \"baths\": 1.0, \"sqft\": 960, \"type\": \"Residential\", \"price\": 185000, \"latitude\": 38.667254, \"longitude\": -121.240708}, {\"city\": \"ORANGEVALE\", \"zip\": \"z95662\", \"beds\": 3, \"baths\": 2.0, \"sqft\": 1294, \"type\": \"Residential\", \"price\": 191250, \"latitude\": 38.687006, \"longitude\": -121.254319}, {\"city\": \"SACRAMENTO\", \"zip\": \"z95842\", \"beds\": 2, \"baths\": 2.0, \"sqft\": 1134, \"type\": \"Condo\", \"price\": 110700, \"latitude\": 38.700051, \"longitude\": -121.351278}, {\"city\": \"SACRAMENTO\", \"zip\": \"z95838\", \"beds\": 2, \"baths\": 1.0, \"sqft\": 1011, \"type\": \"Residential\", \"price\": 70000, \"latitude\": 38.643978, \"longitude\": -121.449562}, {\"city\": \"SACRAMENTO\", \"zip\": \"z95824\", \"beds\": 2, \"baths\": 2.0, \"sqft\": 1139, \"type\": \"Residential\", \"price\": 93600, \"latitude\": 38.520469, \"longitude\": -121.458606}, {\"city\": \"ROSEVILLE\", \"zip\": \"z95747\", \"beds\": 3, \"baths\": 2.5, \"sqft\": 1829, \"type\": \"Residential\", \"price\": 306500, \"latitude\": 38.772771, \"longitude\": -121.364877}, {\"city\": \"SACRAMENTO\", \"zip\": \"z95823\", \"beds\": 4, \"baths\": 2.0, \"sqft\": 1472, \"type\": \"Residential\", \"price\": 148750, \"latitude\": 38.479553, \"longitude\": -121.463317}, {\"city\": \"SACRAMENTO\", \"zip\": \"z95819\", \"beds\": 3, \"baths\": 1.0, \"sqft\": 1108, \"type\": \"Residential\", \"price\": 339000, \"latitude\": 38.563805, \"longitude\": -121.436395}, {\"city\": \"SACRAMENTO\", \"zip\": \"z95825\", \"beds\": 3, \"baths\": 1.0, \"sqft\": 1520, \"type\": \"Residential\", \"price\": 255000, \"latitude\": 38.599449, \"longitude\": -121.400305}, {\"city\": \"ELVERTA\", \"zip\": \"z95626\", \"beds\": 3, \"baths\": 2.0, \"sqft\": 1080, \"type\": \"Residential\", \"price\": 126000, \"latitude\": 38.717976, \"longitude\": -121.407684}, {\"city\": \"EL_DORADO_HILLS\", \"zip\": \"z95762\", \"beds\": 3, \"baths\": 2.0, \"sqft\": 2129, \"type\": \"Residential\", \"price\": 460000, \"latitude\": 38.668239, \"longitude\": -121.064437}, {\"city\": \"SACRAMENTO\", \"zip\": \"z95838\", \"beds\": 4, \"baths\": 2.0, \"sqft\": 1799, \"type\": \"Residential\", \"price\": 205000, \"latitude\": 38.655887, \"longitude\": -121.446119}, {\"city\": \"SACRAMENTO\", \"zip\": \"z95835\", \"beds\": 5, \"baths\": 3.0, \"sqft\": 3599, \"type\": \"Residential\", \"price\": 381300, \"latitude\": 38.677126, \"longitude\": -121.500519}, {\"city\": \"CAMERON_PARK\", \"zip\": \"z95682\", \"beds\": 2, \"baths\": 1.5, \"sqft\": 1376, \"type\": \"Residential\", \"price\": 210000, \"latitude\": 38.69437, \"longitude\": -120.996602}, {\"city\": \"SACRAMENTO\", \"zip\": \"z95815\", \"beds\": 3, \"baths\": 1.0, \"sqft\": 696, \"type\": \"Residential\", \"price\": 121725, \"latitude\": 38.613103, \"longitude\": -121.444085}, {\"city\": \"CARMICHAEL\", \"zip\": \"z95608\", \"beds\": 3, \"baths\": 2.0, \"sqft\": 1245, \"type\": \"Condo\", \"price\": 139500, \"latitude\": 38.628563, \"longitude\": -121.328297}, {\"city\": \"ELK_GROVE\", \"zip\": \"z95757\", \"beds\": 5, \"baths\": 3.5, \"sqft\": 2724, \"type\": \"Residential\", \"price\": 383000, \"latitude\": 38.381102, \"longitude\": -121.42901}, {\"city\": \"FAIR_OAKS\", \"zip\": \"z95628\", \"beds\": 3, \"baths\": 2.0, \"sqft\": 3173, \"type\": \"Residential\", \"price\": 525000, \"latitude\": 38.650735, \"longitude\": -121.258628}, {\"city\": \"CITRUS_HEIGHTS\", \"zip\": \"z95621\", \"beds\": 3, \"baths\": 2.0, \"sqft\": 1118, \"type\": \"Residential\", \"price\": 122000, \"latitude\": 38.707851, \"longitude\": -121.320707}, {\"city\": \"CITRUS_HEIGHTS\", \"zip\": \"z95610\", \"beds\": 3, \"baths\": 2.0, \"sqft\": 1882, \"type\": \"Residential\", \"price\": 219000, \"latitude\": 38.715423, \"longitude\": -121.246743}, {\"city\": \"SACRAMENTO\", \"zip\": \"z95834\", \"beds\": 3, \"baths\": 2.0, \"sqft\": 1672, \"type\": \"Condo\", \"price\": 265000, \"latitude\": 38.648879, \"longitude\": -121.544023}, {\"city\": \"SACRAMENTO\", \"zip\": \"z95842\", \"beds\": 2, \"baths\": 1.0, \"sqft\": 924, \"type\": \"Condo\", \"price\": 150454, \"latitude\": 38.672567, \"longitude\": -121.356754}, {\"city\": \"ANTELOPE\", \"zip\": \"z95843\", \"beds\": 3, \"baths\": 2.0, \"sqft\": 1830, \"type\": \"Residential\", \"price\": 254172, \"latitude\": 38.710221, \"longitude\": -121.341707}, {\"city\": \"SACRAMENTO\", \"zip\": \"z95820\", \"beds\": 2, \"baths\": 1.0, \"sqft\": 722, \"type\": \"Residential\", \"price\": 145000, \"latitude\": 38.532727, \"longitude\": -121.470783}, {\"city\": \"SACRAMENTO\", \"zip\": \"z95820\", \"beds\": 3, \"baths\": 2.0, \"sqft\": 1212, \"type\": \"Residential\", \"price\": 228327, \"latitude\": 38.534827, \"longitude\": -121.412545}], \"data-7625a72922e8eb8d9f4a6215c1cb69db\": [{\"x\": 696, \"y\": 67697.76999999999}, {\"x\": 4091, \"y\": 712747.77}], \"data-7e87ec4fcfa14bc107c49e24bb26d2be\": [{\"x\": 696, \"y\": 114900}, {\"x\": 4091, \"y\": 709025}], \"data-d8da1658b8aab1a17d932e0539f00c8f\": [{\"x\": 696, \"y\": 46817.77}, {\"x\": 4091, \"y\": 590017.77}]}}, {\"mode\": \"vega-lite\"});\n",
       "</script>"
      ],
      "text/plain": [
       "alt.LayerChart(...)"
      ]
     },
     "execution_count": 6,
     "metadata": {},
     "output_type": "execute_result"
    }
   ],
   "source": [
    "intercept_l = [-64542.23, -6900, -64542.23]\n",
    "slope_l = [190, 175, 160]\n",
    "line_color_l = [\"green\", \"purple\", \"red\"]\n",
    "\n",
    "# set the domains (range of x values) of lines\n",
    "min_x = small_sacramento[\"sqft\"].min()\n",
    "max_x = small_sacramento[\"sqft\"].max()\n",
    "\n",
    "several_lines_plot = small_plot.copy()\n",
    "\n",
    "for i in range(len(slope_l)):\n",
    "    several_lines_plot += (\n",
    "        alt.Chart(\n",
    "            pd.DataFrame(\n",
    "                {\n",
    "                    \"x\": [min_x, max_x],\n",
    "                    \"y\": [\n",
    "                        intercept_l[i] + slope_l[i] * min_x,\n",
    "                        intercept_l[i] + slope_l[i] * max_x,\n",
    "                    ],\n",
    "                }\n",
    "            )\n",
    "        )\n",
    "        .mark_line(color=line_color_l[i])\n",
    "        .encode(x=alt.X(\"x\"), y=alt.Y(\"y\"))\n",
    "    )\n",
    "\n",
    "several_lines_plot"
   ]
  },
  {
   "cell_type": "code",
   "execution_count": 7,
   "id": "59336e80",
   "metadata": {
    "tags": [
     "remove-cell"
    ]
   },
   "outputs": [
    {
     "ename": "NameError",
     "evalue": "name 'glue' is not defined",
     "output_type": "error",
     "traceback": [
      "\u001b[0;31m---------------------------------------------------------------------------\u001b[0m",
      "\u001b[0;31mNameError\u001b[0m                                 Traceback (most recent call last)",
      "Input \u001b[0;32mIn [7]\u001b[0m, in \u001b[0;36m<cell line: 1>\u001b[0;34m()\u001b[0m\n\u001b[0;32m----> 1\u001b[0m \u001b[43mglue\u001b[49m(\u001b[38;5;124m\"\u001b[39m\u001b[38;5;124mfig:08-several-lines\u001b[39m\u001b[38;5;124m\"\u001b[39m, several_lines_plot)\n",
      "\u001b[0;31mNameError\u001b[0m: name 'glue' is not defined"
     ]
    }
   ],
   "source": [
    "glue(\"fig:08-several-lines\", several_lines_plot)"
   ]
  },
  {
   "cell_type": "markdown",
   "id": "48440e68",
   "metadata": {},
   "source": [
    ":::{glue:figure} fig:08-several-lines\n",
    ":name: fig:08-several-lines\n",
    "\n",
    "Scatter plot of sale price versus size with many possible lines that could be drawn through the data points.\n",
    ":::"
   ]
  },
  {
   "cell_type": "markdown",
   "id": "70360df8",
   "metadata": {},
   "source": [
    "Simple linear regression chooses the straight line of best fit by choosing\n",
    "the line that minimizes the **average squared vertical distance** between itself and\n",
    "each of the observed data points in the training data. {numref}`fig:08-verticalDistToMin` illustrates \n",
    "these vertical distances as red lines. Finally, to assess the predictive \n",
    "accuracy of a simple linear regression model,\n",
    "we use RMSPE&mdash;the same measure of predictive performance we used with KNN regression.\n",
    "\\index{RMSPE}"
   ]
  },
  {
   "cell_type": "code",
   "execution_count": 8,
   "id": "0cd815a4",
   "metadata": {
    "tags": [
     "remove-cell"
    ]
   },
   "outputs": [
    {
     "data": {
      "text/html": [
       "\n",
       "<div id=\"altair-viz-dfe4e9f017744826abf401f3615968c6\"></div>\n",
       "<script type=\"text/javascript\">\n",
       "  var VEGA_DEBUG = (typeof VEGA_DEBUG == \"undefined\") ? {} : VEGA_DEBUG;\n",
       "  (function(spec, embedOpt){\n",
       "    let outputDiv = document.currentScript.previousElementSibling;\n",
       "    if (outputDiv.id !== \"altair-viz-dfe4e9f017744826abf401f3615968c6\") {\n",
       "      outputDiv = document.getElementById(\"altair-viz-dfe4e9f017744826abf401f3615968c6\");\n",
       "    }\n",
       "    const paths = {\n",
       "      \"vega\": \"https://cdn.jsdelivr.net/npm//vega@5?noext\",\n",
       "      \"vega-lib\": \"https://cdn.jsdelivr.net/npm//vega-lib?noext\",\n",
       "      \"vega-lite\": \"https://cdn.jsdelivr.net/npm//vega-lite@4.17.0?noext\",\n",
       "      \"vega-embed\": \"https://cdn.jsdelivr.net/npm//vega-embed@6?noext\",\n",
       "    };\n",
       "\n",
       "    function maybeLoadScript(lib, version) {\n",
       "      var key = `${lib.replace(\"-\", \"\")}_version`;\n",
       "      return (VEGA_DEBUG[key] == version) ?\n",
       "        Promise.resolve(paths[lib]) :\n",
       "        new Promise(function(resolve, reject) {\n",
       "          var s = document.createElement('script');\n",
       "          document.getElementsByTagName(\"head\")[0].appendChild(s);\n",
       "          s.async = true;\n",
       "          s.onload = () => {\n",
       "            VEGA_DEBUG[key] = version;\n",
       "            return resolve(paths[lib]);\n",
       "          };\n",
       "          s.onerror = () => reject(`Error loading script: ${paths[lib]}`);\n",
       "          s.src = paths[lib];\n",
       "        });\n",
       "    }\n",
       "\n",
       "    function showError(err) {\n",
       "      outputDiv.innerHTML = `<div class=\"error\" style=\"color:red;\">${err}</div>`;\n",
       "      throw err;\n",
       "    }\n",
       "\n",
       "    function displayChart(vegaEmbed) {\n",
       "      vegaEmbed(outputDiv, spec, embedOpt)\n",
       "        .catch(err => showError(`Javascript Error: ${err.message}<br>This usually means there's a typo in your chart specification. See the javascript console for the full traceback.`));\n",
       "    }\n",
       "\n",
       "    if(typeof define === \"function\" && define.amd) {\n",
       "      requirejs.config({paths});\n",
       "      require([\"vega-embed\"], displayChart, err => showError(`Error loading script: ${err.message}`));\n",
       "    } else {\n",
       "      maybeLoadScript(\"vega\", \"5\")\n",
       "        .then(() => maybeLoadScript(\"vega-lite\", \"4.17.0\"))\n",
       "        .then(() => maybeLoadScript(\"vega-embed\", \"6\"))\n",
       "        .catch(showError)\n",
       "        .then(() => displayChart(vegaEmbed));\n",
       "    }\n",
       "  })({\"config\": {\"view\": {\"continuousWidth\": 400, \"continuousHeight\": 300}}, \"layer\": [{\"mark\": {\"type\": \"circle\", \"color\": \"black\"}, \"encoding\": {\"x\": {\"field\": \"sqft\", \"scale\": {\"zero\": false}, \"title\": \"House size (square feet)\", \"type\": \"quantitative\"}, \"y\": {\"axis\": {\"format\": \"$,.0f\"}, \"field\": \"price\", \"scale\": {\"zero\": false}, \"title\": \"Price (USD)\", \"type\": \"quantitative\"}}}, {\"mark\": \"line\", \"encoding\": {\"x\": {\"field\": \"sqft\", \"scale\": {\"zero\": false}, \"title\": \"House size (square feet)\", \"type\": \"quantitative\"}, \"y\": {\"axis\": {\"format\": \"$,.0f\"}, \"field\": \"price\", \"scale\": {\"zero\": false}, \"title\": \"Price (USD)\", \"type\": \"quantitative\"}}, \"transform\": [{\"on\": \"sqft\", \"regression\": \"price\"}]}, {\"data\": {\"name\": \"data-158e575ab9368412b29f685ce69990a5\"}, \"mark\": {\"type\": \"line\", \"color\": \"red\"}, \"encoding\": {\"x\": {\"field\": \"sqft\", \"type\": \"quantitative\"}, \"y\": {\"field\": \"value\", \"type\": \"quantitative\"}}}, {\"data\": {\"name\": \"data-0f1d0f34d6e2481ed5c4477021b0d756\"}, \"mark\": {\"type\": \"line\", \"color\": \"red\"}, \"encoding\": {\"x\": {\"field\": \"sqft\", \"type\": \"quantitative\"}, \"y\": {\"field\": \"value\", \"type\": \"quantitative\"}}}, {\"data\": {\"name\": \"data-f4b12bdcc0035168dfa592e903a8349e\"}, \"mark\": {\"type\": \"line\", \"color\": \"red\"}, \"encoding\": {\"x\": {\"field\": \"sqft\", \"type\": \"quantitative\"}, \"y\": {\"field\": \"value\", \"type\": \"quantitative\"}}}, {\"data\": {\"name\": \"data-215feb86ea4adfdb8ad8bb3e9ed5ce69\"}, \"mark\": {\"type\": \"line\", \"color\": \"red\"}, \"encoding\": {\"x\": {\"field\": \"sqft\", \"type\": \"quantitative\"}, \"y\": {\"field\": \"value\", \"type\": \"quantitative\"}}}, {\"data\": {\"name\": \"data-661b0b91506b89ce8b9c21ed639c4c25\"}, \"mark\": {\"type\": \"line\", \"color\": \"red\"}, \"encoding\": {\"x\": {\"field\": \"sqft\", \"type\": \"quantitative\"}, \"y\": {\"field\": \"value\", \"type\": \"quantitative\"}}}, {\"data\": {\"name\": \"data-5c11126746a1c4e117c38d11f63c0989\"}, \"mark\": {\"type\": \"line\", \"color\": \"red\"}, \"encoding\": {\"x\": {\"field\": \"sqft\", \"type\": \"quantitative\"}, \"y\": {\"field\": \"value\", \"type\": \"quantitative\"}}}, {\"data\": {\"name\": \"data-1c8799a3f6aa9acf3b14da54fea85f46\"}, \"mark\": {\"type\": \"line\", \"color\": \"red\"}, \"encoding\": {\"x\": {\"field\": \"sqft\", \"type\": \"quantitative\"}, \"y\": {\"field\": \"value\", \"type\": \"quantitative\"}}}, {\"data\": {\"name\": \"data-6a02c676673c88219f4bbe177abb9451\"}, \"mark\": {\"type\": \"line\", \"color\": \"red\"}, \"encoding\": {\"x\": {\"field\": \"sqft\", \"type\": \"quantitative\"}, \"y\": {\"field\": \"value\", \"type\": \"quantitative\"}}}, {\"data\": {\"name\": \"data-d7e5a20bee4750093e928b968e6a4a82\"}, \"mark\": {\"type\": \"line\", \"color\": \"red\"}, \"encoding\": {\"x\": {\"field\": \"sqft\", \"type\": \"quantitative\"}, \"y\": {\"field\": \"value\", \"type\": \"quantitative\"}}}, {\"data\": {\"name\": \"data-0708ad81a280111d6b72186e36517a86\"}, \"mark\": {\"type\": \"line\", \"color\": \"red\"}, \"encoding\": {\"x\": {\"field\": \"sqft\", \"type\": \"quantitative\"}, \"y\": {\"field\": \"value\", \"type\": \"quantitative\"}}}, {\"data\": {\"name\": \"data-5d2245f647c352254fe0c6ce73128014\"}, \"mark\": {\"type\": \"line\", \"color\": \"red\"}, \"encoding\": {\"x\": {\"field\": \"sqft\", \"type\": \"quantitative\"}, \"y\": {\"field\": \"value\", \"type\": \"quantitative\"}}}, {\"data\": {\"name\": \"data-0fa451398545643fa2a2aff2af1a6f07\"}, \"mark\": {\"type\": \"line\", \"color\": \"red\"}, \"encoding\": {\"x\": {\"field\": \"sqft\", \"type\": \"quantitative\"}, \"y\": {\"field\": \"value\", \"type\": \"quantitative\"}}}, {\"data\": {\"name\": \"data-f5a34c045599725dd6591441381fc59e\"}, \"mark\": {\"type\": \"line\", \"color\": \"red\"}, \"encoding\": {\"x\": {\"field\": \"sqft\", \"type\": \"quantitative\"}, \"y\": {\"field\": \"value\", \"type\": \"quantitative\"}}}, {\"data\": {\"name\": \"data-b64027b42c6683bab3c2524995ec81ae\"}, \"mark\": {\"type\": \"line\", \"color\": \"red\"}, \"encoding\": {\"x\": {\"field\": \"sqft\", \"type\": \"quantitative\"}, \"y\": {\"field\": \"value\", \"type\": \"quantitative\"}}}, {\"data\": {\"name\": \"data-55c1ed8d1a7a994fb917618f46eb40dc\"}, \"mark\": {\"type\": \"line\", \"color\": \"red\"}, \"encoding\": {\"x\": {\"field\": \"sqft\", \"type\": \"quantitative\"}, \"y\": {\"field\": \"value\", \"type\": \"quantitative\"}}}, {\"data\": {\"name\": \"data-128ca6c205513e1fbc01690e4eda3ec5\"}, \"mark\": {\"type\": \"line\", \"color\": \"red\"}, \"encoding\": {\"x\": {\"field\": \"sqft\", \"type\": \"quantitative\"}, \"y\": {\"field\": \"value\", \"type\": \"quantitative\"}}}, {\"data\": {\"name\": \"data-ebbcd309de520b09783e4d45d3eef8fa\"}, \"mark\": {\"type\": \"line\", \"color\": \"red\"}, \"encoding\": {\"x\": {\"field\": \"sqft\", \"type\": \"quantitative\"}, \"y\": {\"field\": \"value\", \"type\": \"quantitative\"}}}, {\"data\": {\"name\": \"data-2b7a561a8db56f0e6d37ea9f059f6687\"}, \"mark\": {\"type\": \"line\", \"color\": \"red\"}, \"encoding\": {\"x\": {\"field\": \"sqft\", \"type\": \"quantitative\"}, \"y\": {\"field\": \"value\", \"type\": \"quantitative\"}}}, {\"data\": {\"name\": \"data-4795c107518bb06260cec91603c134f6\"}, \"mark\": {\"type\": \"line\", \"color\": \"red\"}, \"encoding\": {\"x\": {\"field\": \"sqft\", \"type\": \"quantitative\"}, \"y\": {\"field\": \"value\", \"type\": \"quantitative\"}}}, {\"data\": {\"name\": \"data-21e267dc0187354dde83be7d2a8bea4a\"}, \"mark\": {\"type\": \"line\", \"color\": \"red\"}, \"encoding\": {\"x\": {\"field\": \"sqft\", \"type\": \"quantitative\"}, \"y\": {\"field\": \"value\", \"type\": \"quantitative\"}}}, {\"data\": {\"name\": \"data-a474c7517c2223e36a9d3b7262db2560\"}, \"mark\": {\"type\": \"line\", \"color\": \"red\"}, \"encoding\": {\"x\": {\"field\": \"sqft\", \"type\": \"quantitative\"}, \"y\": {\"field\": \"value\", \"type\": \"quantitative\"}}}, {\"data\": {\"name\": \"data-b591e826abef8adbffd3d4f73237cddc\"}, \"mark\": {\"type\": \"line\", \"color\": \"red\"}, \"encoding\": {\"x\": {\"field\": \"sqft\", \"type\": \"quantitative\"}, \"y\": {\"field\": \"value\", \"type\": \"quantitative\"}}}, {\"data\": {\"name\": \"data-eb0a04cb70e10d3c973128c1ac6f22c8\"}, \"mark\": {\"type\": \"line\", \"color\": \"red\"}, \"encoding\": {\"x\": {\"field\": \"sqft\", \"type\": \"quantitative\"}, \"y\": {\"field\": \"value\", \"type\": \"quantitative\"}}}, {\"data\": {\"name\": \"data-50a675587f70786eb8e75105d1cd358a\"}, \"mark\": {\"type\": \"line\", \"color\": \"red\"}, \"encoding\": {\"x\": {\"field\": \"sqft\", \"type\": \"quantitative\"}, \"y\": {\"field\": \"value\", \"type\": \"quantitative\"}}}, {\"data\": {\"name\": \"data-ce4ed5c1bda441ef0f700d7aa99f835c\"}, \"mark\": {\"type\": \"line\", \"color\": \"red\"}, \"encoding\": {\"x\": {\"field\": \"sqft\", \"type\": \"quantitative\"}, \"y\": {\"field\": \"value\", \"type\": \"quantitative\"}}}, {\"data\": {\"name\": \"data-a1d4688279e95f333d81f7a6b35c4380\"}, \"mark\": {\"type\": \"line\", \"color\": \"red\"}, \"encoding\": {\"x\": {\"field\": \"sqft\", \"type\": \"quantitative\"}, \"y\": {\"field\": \"value\", \"type\": \"quantitative\"}}}, {\"data\": {\"name\": \"data-960352d027ae6a129fb7552e2c116f44\"}, \"mark\": {\"type\": \"line\", \"color\": \"red\"}, \"encoding\": {\"x\": {\"field\": \"sqft\", \"type\": \"quantitative\"}, \"y\": {\"field\": \"value\", \"type\": \"quantitative\"}}}, {\"data\": {\"name\": \"data-e155c8b8f7dbea20e17279f188cde235\"}, \"mark\": {\"type\": \"line\", \"color\": \"red\"}, \"encoding\": {\"x\": {\"field\": \"sqft\", \"type\": \"quantitative\"}, \"y\": {\"field\": \"value\", \"type\": \"quantitative\"}}}, {\"data\": {\"name\": \"data-881a2149f58e919643e234e0f5f841ee\"}, \"mark\": {\"type\": \"line\", \"color\": \"red\"}, \"encoding\": {\"x\": {\"field\": \"sqft\", \"type\": \"quantitative\"}, \"y\": {\"field\": \"value\", \"type\": \"quantitative\"}}}, {\"data\": {\"name\": \"data-ed1c9fb01d3bb1ea275d23fe9e7eba7a\"}, \"mark\": {\"type\": \"line\", \"color\": \"red\"}, \"encoding\": {\"x\": {\"field\": \"sqft\", \"type\": \"quantitative\"}, \"y\": {\"field\": \"value\", \"type\": \"quantitative\"}}}], \"data\": {\"name\": \"data-dd70ea120b69e4d2199dadb4d59509b6\"}, \"$schema\": \"https://vega.github.io/schema/vega-lite/v4.17.0.json\", \"datasets\": {\"data-dd70ea120b69e4d2199dadb4d59509b6\": [{\"city\": \"SACRAMENTO\", \"zip\": \"z95829\", \"beds\": 3, \"baths\": 2.0, \"sqft\": 2170, \"type\": \"Residential\", \"price\": 257729, \"latitude\": 38.45967, \"longitude\": -121.360461}, {\"city\": \"SACRAMENTO\", \"zip\": \"z95835\", \"beds\": 3, \"baths\": 2.0, \"sqft\": 1686, \"type\": \"Residential\", \"price\": 239000, \"latitude\": 38.671556, \"longitude\": -121.520916}, {\"city\": \"ROSEVILLE\", \"zip\": \"z95678\", \"beds\": 3, \"baths\": 2.0, \"sqft\": 1174, \"type\": \"Residential\", \"price\": 180000, \"latitude\": 38.734136, \"longitude\": -121.299639}, {\"city\": \"EL_DORADO_HILLS\", \"zip\": \"z95762\", \"beds\": 5, \"baths\": 4.0, \"sqft\": 4091, \"type\": \"Residential\", \"price\": 508000, \"latitude\": 38.676131, \"longitude\": -121.038931}, {\"city\": \"SACRAMENTO\", \"zip\": \"z95842\", \"beds\": 5, \"baths\": 2.0, \"sqft\": 1712, \"type\": \"Residential\", \"price\": 168000, \"latitude\": 38.677003, \"longitude\": -121.354454}, {\"city\": \"FAIR_OAKS\", \"zip\": \"z95628\", \"beds\": 3, \"baths\": 1.0, \"sqft\": 960, \"type\": \"Residential\", \"price\": 185000, \"latitude\": 38.667254, \"longitude\": -121.240708}, {\"city\": \"ORANGEVALE\", \"zip\": \"z95662\", \"beds\": 3, \"baths\": 2.0, \"sqft\": 1294, \"type\": \"Residential\", \"price\": 191250, \"latitude\": 38.687006, \"longitude\": -121.254319}, {\"city\": \"SACRAMENTO\", \"zip\": \"z95842\", \"beds\": 2, \"baths\": 2.0, \"sqft\": 1134, \"type\": \"Condo\", \"price\": 110700, \"latitude\": 38.700051, \"longitude\": -121.351278}, {\"city\": \"SACRAMENTO\", \"zip\": \"z95838\", \"beds\": 2, \"baths\": 1.0, \"sqft\": 1011, \"type\": \"Residential\", \"price\": 70000, \"latitude\": 38.643978, \"longitude\": -121.449562}, {\"city\": \"SACRAMENTO\", \"zip\": \"z95824\", \"beds\": 2, \"baths\": 2.0, \"sqft\": 1139, \"type\": \"Residential\", \"price\": 93600, \"latitude\": 38.520469, \"longitude\": -121.458606}, {\"city\": \"ROSEVILLE\", \"zip\": \"z95747\", \"beds\": 3, \"baths\": 2.5, \"sqft\": 1829, \"type\": \"Residential\", \"price\": 306500, \"latitude\": 38.772771, \"longitude\": -121.364877}, {\"city\": \"SACRAMENTO\", \"zip\": \"z95823\", \"beds\": 4, \"baths\": 2.0, \"sqft\": 1472, \"type\": \"Residential\", \"price\": 148750, \"latitude\": 38.479553, \"longitude\": -121.463317}, {\"city\": \"SACRAMENTO\", \"zip\": \"z95819\", \"beds\": 3, \"baths\": 1.0, \"sqft\": 1108, \"type\": \"Residential\", \"price\": 339000, \"latitude\": 38.563805, \"longitude\": -121.436395}, {\"city\": \"SACRAMENTO\", \"zip\": \"z95825\", \"beds\": 3, \"baths\": 1.0, \"sqft\": 1520, \"type\": \"Residential\", \"price\": 255000, \"latitude\": 38.599449, \"longitude\": -121.400305}, {\"city\": \"ELVERTA\", \"zip\": \"z95626\", \"beds\": 3, \"baths\": 2.0, \"sqft\": 1080, \"type\": \"Residential\", \"price\": 126000, \"latitude\": 38.717976, \"longitude\": -121.407684}, {\"city\": \"EL_DORADO_HILLS\", \"zip\": \"z95762\", \"beds\": 3, \"baths\": 2.0, \"sqft\": 2129, \"type\": \"Residential\", \"price\": 460000, \"latitude\": 38.668239, \"longitude\": -121.064437}, {\"city\": \"SACRAMENTO\", \"zip\": \"z95838\", \"beds\": 4, \"baths\": 2.0, \"sqft\": 1799, \"type\": \"Residential\", \"price\": 205000, \"latitude\": 38.655887, \"longitude\": -121.446119}, {\"city\": \"SACRAMENTO\", \"zip\": \"z95835\", \"beds\": 5, \"baths\": 3.0, \"sqft\": 3599, \"type\": \"Residential\", \"price\": 381300, \"latitude\": 38.677126, \"longitude\": -121.500519}, {\"city\": \"CAMERON_PARK\", \"zip\": \"z95682\", \"beds\": 2, \"baths\": 1.5, \"sqft\": 1376, \"type\": \"Residential\", \"price\": 210000, \"latitude\": 38.69437, \"longitude\": -120.996602}, {\"city\": \"SACRAMENTO\", \"zip\": \"z95815\", \"beds\": 3, \"baths\": 1.0, \"sqft\": 696, \"type\": \"Residential\", \"price\": 121725, \"latitude\": 38.613103, \"longitude\": -121.444085}, {\"city\": \"CARMICHAEL\", \"zip\": \"z95608\", \"beds\": 3, \"baths\": 2.0, \"sqft\": 1245, \"type\": \"Condo\", \"price\": 139500, \"latitude\": 38.628563, \"longitude\": -121.328297}, {\"city\": \"ELK_GROVE\", \"zip\": \"z95757\", \"beds\": 5, \"baths\": 3.5, \"sqft\": 2724, \"type\": \"Residential\", \"price\": 383000, \"latitude\": 38.381102, \"longitude\": -121.42901}, {\"city\": \"FAIR_OAKS\", \"zip\": \"z95628\", \"beds\": 3, \"baths\": 2.0, \"sqft\": 3173, \"type\": \"Residential\", \"price\": 525000, \"latitude\": 38.650735, \"longitude\": -121.258628}, {\"city\": \"CITRUS_HEIGHTS\", \"zip\": \"z95621\", \"beds\": 3, \"baths\": 2.0, \"sqft\": 1118, \"type\": \"Residential\", \"price\": 122000, \"latitude\": 38.707851, \"longitude\": -121.320707}, {\"city\": \"CITRUS_HEIGHTS\", \"zip\": \"z95610\", \"beds\": 3, \"baths\": 2.0, \"sqft\": 1882, \"type\": \"Residential\", \"price\": 219000, \"latitude\": 38.715423, \"longitude\": -121.246743}, {\"city\": \"SACRAMENTO\", \"zip\": \"z95834\", \"beds\": 3, \"baths\": 2.0, \"sqft\": 1672, \"type\": \"Condo\", \"price\": 265000, \"latitude\": 38.648879, \"longitude\": -121.544023}, {\"city\": \"SACRAMENTO\", \"zip\": \"z95842\", \"beds\": 2, \"baths\": 1.0, \"sqft\": 924, \"type\": \"Condo\", \"price\": 150454, \"latitude\": 38.672567, \"longitude\": -121.356754}, {\"city\": \"ANTELOPE\", \"zip\": \"z95843\", \"beds\": 3, \"baths\": 2.0, \"sqft\": 1830, \"type\": \"Residential\", \"price\": 254172, \"latitude\": 38.710221, \"longitude\": -121.341707}, {\"city\": \"SACRAMENTO\", \"zip\": \"z95820\", \"beds\": 2, \"baths\": 1.0, \"sqft\": 722, \"type\": \"Residential\", \"price\": 145000, \"latitude\": 38.532727, \"longitude\": -121.470783}, {\"city\": \"SACRAMENTO\", \"zip\": \"z95820\", \"beds\": 3, \"baths\": 2.0, \"sqft\": 1212, \"type\": \"Residential\", \"price\": 228327, \"latitude\": 38.534827, \"longitude\": -121.412545}], \"data-158e575ab9368412b29f685ce69990a5\": [{\"sqft\": 2170, \"variable\": \"price\", \"value\": 257729.0}, {\"sqft\": 2170, \"variable\": \"predicted\", \"value\": 296920.49645515514}], \"data-0f1d0f34d6e2481ed5c4477021b0d756\": [{\"sqft\": 1686, \"variable\": \"price\", \"value\": 239000.0}, {\"sqft\": 1686, \"variable\": \"predicted\", \"value\": 237435.88024868534}], \"data-f4b12bdcc0035168dfa592e903a8349e\": [{\"sqft\": 1174, \"variable\": \"price\", \"value\": 180000.0}, {\"sqft\": 1174, \"variable\": \"predicted\", \"value\": 174510.00525341145}], \"data-215feb86ea4adfdb8ad8bb3e9ed5ce69\": [{\"sqft\": 4091, \"variable\": \"price\", \"value\": 508000.0}, {\"sqft\": 4091, \"variable\": \"predicted\", \"value\": 533015.4297870323}], \"data-661b0b91506b89ce8b9c21ed639c4c25\": [{\"sqft\": 1712, \"variable\": \"price\", \"value\": 168000.0}, {\"sqft\": 1712, \"variable\": \"predicted\", \"value\": 240631.33483828907}], \"data-5c11126746a1c4e117c38d11f63c0989\": [{\"sqft\": 960, \"variable\": \"price\", \"value\": 185000.0}, {\"sqft\": 960, \"variable\": \"predicted\", \"value\": 148208.95593898057}], \"data-1c8799a3f6aa9acf3b14da54fea85f46\": [{\"sqft\": 1294, \"variable\": \"price\", \"value\": 191250.0}, {\"sqft\": 1294, \"variable\": \"predicted\", \"value\": 189258.25720542876}], \"data-6a02c676673c88219f4bbe177abb9451\": [{\"sqft\": 1134, \"variable\": \"price\", \"value\": 110700.0}, {\"sqft\": 1134, \"variable\": \"predicted\", \"value\": 169593.92126940566}], \"data-d7e5a20bee4750093e928b968e6a4a82\": [{\"sqft\": 1011, \"variable\": \"price\", \"value\": 70000.0}, {\"sqft\": 1011, \"variable\": \"predicted\", \"value\": 154476.9630185879}], \"data-0708ad81a280111d6b72186e36517a86\": [{\"sqft\": 1139, \"variable\": \"price\", \"value\": 93600.0}, {\"sqft\": 1139, \"variable\": \"predicted\", \"value\": 170208.4317674064}], \"data-5d2245f647c352254fe0c6ce73128014\": [{\"sqft\": 1829, \"variable\": \"price\", \"value\": 306500.0}, {\"sqft\": 1829, \"variable\": \"predicted\", \"value\": 255010.88049150596}], \"data-0fa451398545643fa2a2aff2af1a6f07\": [{\"sqft\": 1472, \"variable\": \"price\", \"value\": 148750.0}, {\"sqft\": 1472, \"variable\": \"predicted\", \"value\": 211134.83093425445}], \"data-f5a34c045599725dd6591441381fc59e\": [{\"sqft\": 1108, \"variable\": \"price\", \"value\": 339000.0}, {\"sqft\": 1108, \"variable\": \"predicted\", \"value\": 166398.46667980193}], \"data-b64027b42c6683bab3c2524995ec81ae\": [{\"sqft\": 1520, \"variable\": \"price\", \"value\": 255000.0}, {\"sqft\": 1520, \"variable\": \"predicted\", \"value\": 217034.13171506138}], \"data-55c1ed8d1a7a994fb917618f46eb40dc\": [{\"sqft\": 1080, \"variable\": \"price\", \"value\": 126000.0}, {\"sqft\": 1080, \"variable\": \"predicted\", \"value\": 162957.20789099787}], \"data-128ca6c205513e1fbc01690e4eda3ec5\": [{\"sqft\": 2129, \"variable\": \"price\", \"value\": 460000.0}, {\"sqft\": 2129, \"variable\": \"predicted\", \"value\": 291881.5103715493}], \"data-ebbcd309de520b09783e4d45d3eef8fa\": [{\"sqft\": 1799, \"variable\": \"price\", \"value\": 205000.0}, {\"sqft\": 1799, \"variable\": \"predicted\", \"value\": 251323.81750350163}], \"data-2b7a561a8db56f0e6d37ea9f059f6687\": [{\"sqft\": 3599, \"variable\": \"price\", \"value\": 381300.0}, {\"sqft\": 3599, \"variable\": \"predicted\", \"value\": 472547.59678376134}], \"data-4795c107518bb06260cec91603c134f6\": [{\"sqft\": 1376, \"variable\": \"price\", \"value\": 210000.0}, {\"sqft\": 1376, \"variable\": \"predicted\", \"value\": 199336.2293726406}], \"data-21e267dc0187354dde83be7d2a8bea4a\": [{\"sqft\": 696, \"variable\": \"price\", \"value\": 121725.0}, {\"sqft\": 696, \"variable\": \"predicted\", \"value\": 115762.80164454247}], \"data-a474c7517c2223e36a9d3b7262db2560\": [{\"sqft\": 1245, \"variable\": \"price\", \"value\": 139500.0}, {\"sqft\": 1245, \"variable\": \"predicted\", \"value\": 183236.0543250217}], \"data-b591e826abef8adbffd3d4f73237cddc\": [{\"sqft\": 2724, \"variable\": \"price\", \"value\": 383000.0}, {\"sqft\": 2724, \"variable\": \"predicted\", \"value\": 365008.2596336351}], \"data-eb0a04cb70e10d3c973128c1ac6f22c8\": [{\"sqft\": 3173, \"variable\": \"price\", \"value\": 525000.0}, {\"sqft\": 3173, \"variable\": \"predicted\", \"value\": 420191.30235409987}], \"data-50a675587f70786eb8e75105d1cd358a\": [{\"sqft\": 1118, \"variable\": \"price\", \"value\": 122000.0}, {\"sqft\": 1118, \"variable\": \"predicted\", \"value\": 167627.48767580336}], \"data-ce4ed5c1bda441ef0f700d7aa99f835c\": [{\"sqft\": 1882, \"variable\": \"price\", \"value\": 219000.0}, {\"sqft\": 1882, \"variable\": \"predicted\", \"value\": 261524.6917703136}], \"data-a1d4688279e95f333d81f7a6b35c4380\": [{\"sqft\": 1672, \"variable\": \"price\", \"value\": 265000.0}, {\"sqft\": 1672, \"variable\": \"predicted\", \"value\": 235715.2508542833}], \"data-960352d027ae6a129fb7552e2c116f44\": [{\"sqft\": 924, \"variable\": \"price\", \"value\": 150454.0}, {\"sqft\": 924, \"variable\": \"predicted\", \"value\": 143784.48035337537}], \"data-e155c8b8f7dbea20e17279f188cde235\": [{\"sqft\": 1830, \"variable\": \"price\", \"value\": 254172.0}, {\"sqft\": 1830, \"variable\": \"predicted\", \"value\": 255133.7825911061}], \"data-881a2149f58e919643e234e0f5f841ee\": [{\"sqft\": 722, \"variable\": \"price\", \"value\": 145000.0}, {\"sqft\": 722, \"variable\": \"predicted\", \"value\": 118958.25623414622}], \"data-ed1c9fb01d3bb1ea275d23fe9e7eba7a\": [{\"sqft\": 1212, \"variable\": \"price\", \"value\": 228327.0}, {\"sqft\": 1212, \"variable\": \"predicted\", \"value\": 179180.28503821694}]}}, {\"mode\": \"vega-lite\"});\n",
       "</script>"
      ],
      "text/plain": [
       "alt.LayerChart(...)"
      ]
     },
     "execution_count": 8,
     "metadata": {},
     "output_type": "execute_result"
    }
   ],
   "source": [
    "small_sacramento_pred = small_sacramento\n",
    "# get prediction\n",
    "small_sacramento_pred = small_sacramento_pred.assign(\n",
    "    predicted=lm.predict(small_sacramento[[\"sqft\"]])\n",
    ")\n",
    "# melt the dataframe to create separate df to create lines\n",
    "small_sacramento_pred = small_sacramento_pred[[\"sqft\", \"price\", \"predicted\"]].melt(\n",
    "    id_vars=[\"sqft\"]\n",
    ")\n",
    "\n",
    "error_plot = small_plot.copy()\n",
    "\n",
    "for i in range(len(small_sacramento)):\n",
    "    sqft_val = small_sacramento.iloc[i][\"sqft\"]\n",
    "    line_df = small_sacramento_pred.query(\"sqft == @sqft_val\")\n",
    "    error_plot += alt.Chart(line_df).mark_line(color=\"red\").encode(x=\"sqft\", y=\"value\")\n",
    "\n",
    "error_plot"
   ]
  },
  {
   "cell_type": "code",
   "execution_count": 9,
   "id": "17f88261",
   "metadata": {
    "tags": [
     "remove-cell"
    ]
   },
   "outputs": [
    {
     "ename": "NameError",
     "evalue": "name 'glue' is not defined",
     "output_type": "error",
     "traceback": [
      "\u001b[0;31m---------------------------------------------------------------------------\u001b[0m",
      "\u001b[0;31mNameError\u001b[0m                                 Traceback (most recent call last)",
      "Input \u001b[0;32mIn [9]\u001b[0m, in \u001b[0;36m<cell line: 1>\u001b[0;34m()\u001b[0m\n\u001b[0;32m----> 1\u001b[0m \u001b[43mglue\u001b[49m(\u001b[38;5;124m\"\u001b[39m\u001b[38;5;124mfig:08-verticalDistToMin\u001b[39m\u001b[38;5;124m\"\u001b[39m, error_plot)\n",
      "\u001b[0;31mNameError\u001b[0m: name 'glue' is not defined"
     ]
    }
   ],
   "source": [
    "glue(\"fig:08-verticalDistToMin\", error_plot)"
   ]
  },
  {
   "cell_type": "markdown",
   "id": "841091f3",
   "metadata": {},
   "source": [
    ":::{glue:figure} fig:08-verticalDistToMin\n",
    ":name: fig:08-verticalDistToMin\n",
    "\n",
    "Scatter plot of sale price versus size with red lines denoting the vertical distances between the predicted values and the observed data points.\n",
    ":::"
   ]
  },
  {
   "cell_type": "markdown",
   "id": "16f3fb21",
   "metadata": {},
   "source": [
    "## Linear regression in Python"
   ]
  },
  {
   "cell_type": "markdown",
   "id": "1c575fb3",
   "metadata": {},
   "source": [
    "We can perform simple linear regression in Python using `scikit-learn` in a\n",
    "very similar manner to how we performed KNN regression. \n",
    "To do this, instead of creating a `KNeighborsRegressor` model specification, \n",
    "we use a `LinearRegression` model specification.\n",
    "Another difference is that we do not need to choose $K$ in the\n",
    "context of linear regression, and so we do not need to perform cross-validation.\n",
    "Below we illustrate how we can use the usual `scikit-learn` workflow to predict house sale\n",
    "price given house size using a simple linear regression approach using the full\n",
    "Sacramento real estate data set.\n",
    "\n",
    "As usual, we start by loading packages, setting the seed, loading data, and putting some test data away in a lock box (setting the `random_state`) that we\n",
    "can come back to after we choose our final model. Let's take care of that now."
   ]
  },
  {
   "cell_type": "code",
   "execution_count": 10,
   "id": "12de2c01",
   "metadata": {
    "tags": [
     "remove-cell"
    ]
   },
   "outputs": [],
   "source": [
    "# We can perform simple linear regression in R using `tidymodels` \\index{tidymodels} in a\n",
    "# very similar manner to how we performed KNN regression. \n",
    "# To do this, instead of creating a `nearest_neighbor` model specification with\n",
    "# the `kknn` engine, we use a `linear_reg` model specification\n",
    "# with the `lm` engine. Another difference is that we do not need to choose $K$ in the\n",
    "# context of linear regression, and so we do not need to perform cross-validation.\n",
    "# Below we illustrate how we can use the usual `tidymodels` workflow to predict house sale\n",
    "# price given house size using a simple linear regression approach using the full\n",
    "# Sacramento real estate data set."
   ]
  },
  {
   "cell_type": "code",
   "execution_count": 11,
   "id": "62c89cb8",
   "metadata": {
    "tags": [
     "remove-cell"
    ]
   },
   "outputs": [],
   "source": [
    "# As usual, we start by loading packages, setting the seed, loading data, and putting some test data away in a lock box that we\n",
    "# can come back to after we choose our final model. Let's take care of that now.\n",
    "# \\index{seed!set.seed}"
   ]
  },
  {
   "cell_type": "code",
   "execution_count": 12,
   "id": "3ea01ae5",
   "metadata": {},
   "outputs": [],
   "source": [
    "import pandas as pd\n",
    "from sklearn.model_selection import train_test_split\n",
    "\n",
    "sacramento = pd.read_csv(\"data/sacramento.csv\")\n",
    "\n",
    "sacramento_train, sacramento_test = train_test_split(\n",
    "    sacramento, train_size=0.6, random_state=1234\n",
    ")"
   ]
  },
  {
   "cell_type": "markdown",
   "id": "fdcefc22",
   "metadata": {},
   "source": [
    "Now that we have our training data, we will create the model specification\n",
    "and recipe, and fit our simple linear regression model:"
   ]
  },
  {
   "cell_type": "code",
   "execution_count": 13,
   "id": "f8ed3012",
   "metadata": {},
   "outputs": [
    {
     "data": {
      "text/html": [
       "<div>\n",
       "<style scoped>\n",
       "    .dataframe tbody tr th:only-of-type {\n",
       "        vertical-align: middle;\n",
       "    }\n",
       "\n",
       "    .dataframe tbody tr th {\n",
       "        vertical-align: top;\n",
       "    }\n",
       "\n",
       "    .dataframe thead th {\n",
       "        text-align: right;\n",
       "    }\n",
       "</style>\n",
       "<table border=\"1\" class=\"dataframe\">\n",
       "  <thead>\n",
       "    <tr style=\"text-align: right;\">\n",
       "      <th></th>\n",
       "      <th>slope</th>\n",
       "      <th>intercept</th>\n",
       "    </tr>\n",
       "  </thead>\n",
       "  <tbody>\n",
       "    <tr>\n",
       "      <th>0</th>\n",
       "      <td>133.468486</td>\n",
       "      <td>22096.546</td>\n",
       "    </tr>\n",
       "  </tbody>\n",
       "</table>\n",
       "</div>"
      ],
      "text/plain": [
       "        slope  intercept\n",
       "0  133.468486  22096.546"
      ]
     },
     "execution_count": 13,
     "metadata": {},
     "output_type": "execute_result"
    }
   ],
   "source": [
    "lm = LinearRegression()\n",
    "X_train = sacramento_train[[\"sqft\"]]\n",
    "y_train = sacramento_train[[\"price\"]]\n",
    "\n",
    "# fit the linear regression model\n",
    "lm.fit(X_train, y_train)\n",
    "\n",
    "# make a dataframe containing slope and intercept coefficients\n",
    "pd.DataFrame({\"slope\": lm.coef_[0], \"intercept\": lm.intercept_})"
   ]
  },
  {
   "cell_type": "code",
   "execution_count": 14,
   "id": "9400999c",
   "metadata": {
    "tags": [
     "remove-cell"
    ]
   },
   "outputs": [
    {
     "ename": "NameError",
     "evalue": "name 'glue' is not defined",
     "output_type": "error",
     "traceback": [
      "\u001b[0;31m---------------------------------------------------------------------------\u001b[0m",
      "\u001b[0;31mNameError\u001b[0m                                 Traceback (most recent call last)",
      "Input \u001b[0;32mIn [14]\u001b[0m, in \u001b[0;36m<cell line: 1>\u001b[0;34m()\u001b[0m\n\u001b[0;32m----> 1\u001b[0m \u001b[43mglue\u001b[49m(\u001b[38;5;124m\"\u001b[39m\u001b[38;5;124mtrain_lm_slope\u001b[39m\u001b[38;5;124m\"\u001b[39m, \u001b[38;5;28mround\u001b[39m(lm\u001b[38;5;241m.\u001b[39mcoef_[\u001b[38;5;241m0\u001b[39m][\u001b[38;5;241m0\u001b[39m]))\n\u001b[1;32m      2\u001b[0m glue(\u001b[38;5;124m\"\u001b[39m\u001b[38;5;124mtrain_lm_intercept\u001b[39m\u001b[38;5;124m\"\u001b[39m, \u001b[38;5;28mround\u001b[39m(lm\u001b[38;5;241m.\u001b[39mintercept_[\u001b[38;5;241m0\u001b[39m]))\n\u001b[1;32m      3\u001b[0m glue(\u001b[38;5;124m\"\u001b[39m\u001b[38;5;124mtrain_lm_slope_f\u001b[39m\u001b[38;5;124m\"\u001b[39m, \u001b[38;5;124m\"\u001b[39m\u001b[38;5;132;01m{0:,.0f}\u001b[39;00m\u001b[38;5;124m\"\u001b[39m\u001b[38;5;241m.\u001b[39mformat(lm\u001b[38;5;241m.\u001b[39mcoef_[\u001b[38;5;241m0\u001b[39m][\u001b[38;5;241m0\u001b[39m]))\n",
      "\u001b[0;31mNameError\u001b[0m: name 'glue' is not defined"
     ]
    }
   ],
   "source": [
    "glue(\"train_lm_slope\", round(lm.coef_[0][0]))\n",
    "glue(\"train_lm_intercept\", round(lm.intercept_[0]))\n",
    "glue(\"train_lm_slope_f\", \"{0:,.0f}\".format(lm.coef_[0][0]))\n",
    "glue(\"train_lm_intercept_f\", \"{0:,.0f}\".format(lm.intercept_[0]))"
   ]
  },
  {
   "cell_type": "markdown",
   "id": "4c365015",
   "metadata": {},
   "source": [
    "> **Note:** An additional difference that you will notice here is that we do\n",
    "> not standardize \\index{standardization} (i.e., scale and center) our\n",
    "> predictors. In K-nearest neighbors models, recall that the model fit changes\n",
    "> depending on whether we standardize first or not. In linear regression,\n",
    "> standardization does not affect the fit (it *does* affect the coefficients in\n",
    "> the equation, though!).  So you can standardize if you want&mdash;it won't\n",
    "> hurt anything&mdash;but if you leave the predictors in their original form,\n",
    "> the best fit coefficients are usually easier to interpret afterward."
   ]
  },
  {
   "cell_type": "markdown",
   "id": "169f72bf",
   "metadata": {},
   "source": [
    "Our coefficients are \n",
    "(intercept) $\\beta_0=$ {glue:}`train_lm_intercept`\n",
    "and (slope) $\\beta_1=$ {glue:}`train_lm_slope`.\n",
    "This means that the equation of the line of best fit is\n",
    "\n",
    "$\\text{house sale price} =$ {glue:}`train_lm_intercept` $+$ {glue:}`train_lm_slope` $\\cdot (\\text{house size}).$\n",
    "\n",
    "In other words, the model predicts that houses \n",
    "start at \\${glue:text}`train_lm_intercept_f` for 0 square feet, and that\n",
    "every extra square foot increases the cost of \n",
    "the house by \\${glue:text}`train_lm_slope_f`. Finally, \n",
    "we predict on the test data set to assess how well our model does:"
   ]
  },
  {
   "cell_type": "code",
   "execution_count": 15,
   "id": "539c7aa6",
   "metadata": {},
   "outputs": [
    {
     "data": {
      "text/plain": [
       "78093.47502804297"
      ]
     },
     "execution_count": 15,
     "metadata": {},
     "output_type": "execute_result"
    }
   ],
   "source": [
    "X_test = sacramento_test[[\"sqft\"]]\n",
    "y_test = sacramento_test[[\"price\"]]\n",
    "\n",
    "# predict on test data\n",
    "sacr_preds = sacramento_test\n",
    "sacr_preds = sacr_preds.assign(predicted=lm.predict(X_test))\n",
    "\n",
    "# calculate RMSPE\n",
    "from sklearn.metrics import mean_squared_error\n",
    "\n",
    "RMSPE = np.sqrt(\n",
    "    mean_squared_error(y_true=sacr_preds[\"price\"], y_pred=sacr_preds[\"predicted\"])\n",
    ")\n",
    "\n",
    "RMSPE"
   ]
  },
  {
   "cell_type": "code",
   "execution_count": 16,
   "id": "8ef7d2be",
   "metadata": {
    "tags": [
     "remove-cell"
    ]
   },
   "outputs": [
    {
     "ename": "NameError",
     "evalue": "name 'glue' is not defined",
     "output_type": "error",
     "traceback": [
      "\u001b[0;31m---------------------------------------------------------------------------\u001b[0m",
      "\u001b[0;31mNameError\u001b[0m                                 Traceback (most recent call last)",
      "Input \u001b[0;32mIn [16]\u001b[0m, in \u001b[0;36m<cell line: 1>\u001b[0;34m()\u001b[0m\n\u001b[0;32m----> 1\u001b[0m \u001b[43mglue\u001b[49m(\u001b[38;5;124m\"\u001b[39m\u001b[38;5;124msacr_RMSPE\u001b[39m\u001b[38;5;124m\"\u001b[39m, \u001b[38;5;124m\"\u001b[39m\u001b[38;5;132;01m{0:,.0f}\u001b[39;00m\u001b[38;5;124m\"\u001b[39m\u001b[38;5;241m.\u001b[39mformat(RMSPE))\n",
      "\u001b[0;31mNameError\u001b[0m: name 'glue' is not defined"
     ]
    }
   ],
   "source": [
    "glue(\"sacr_RMSPE\", \"{0:,.0f}\".format(RMSPE))"
   ]
  },
  {
   "cell_type": "markdown",
   "id": "0003a4e8",
   "metadata": {},
   "source": [
    "Our final model's test error as assessed by RMSPE \\index{RMSPE}\n",
    "is {glue:text}`sacr_RMSPE`. \n",
    "Remember that this is in units of the target/response variable, and here that\n",
    "is US Dollars (USD). Does this mean our model is \"good\" at predicting house\n",
    "sale price based off of the predictor of home size? Again, answering this is\n",
    "tricky and requires knowledge of how you intend to use the prediction.\n",
    "\n",
    "To visualize the simple linear regression model, we can plot the predicted house\n",
    "sale price across all possible house sizes we might encounter superimposed on a scatter\n",
    "plot of the original housing price data. There is a function in \n",
    "the `altair`, `transform_regression`, that\n",
    "allows us to add a layer on our plot with the simple\n",
    "linear regression predicted line of best fit. \n",
    "{numref}`fig:08-lm-predict-all` displays the result."
   ]
  },
  {
   "cell_type": "code",
   "execution_count": 17,
   "id": "f7343cec",
   "metadata": {
    "tags": [
     "remove-cell"
    ]
   },
   "outputs": [],
   "source": [
    "# To visualize the simple linear regression model, we can plot the predicted house\n",
    "# sale price across all possible house sizes we might encounter superimposed on a scatter\n",
    "# plot of the original housing price data. There is a plotting function in \n",
    "# the `tidyverse`, `geom_smooth`, that\n",
    "# allows us to add a layer on our plot with the simple\n",
    "# linear regression predicted line of best fit. By default `geom_smooth` adds some other information\n",
    "# to the plot that we are not interested in at this point; we provide the argument `se = FALSE` to\n",
    "# tell `geom_smooth` not to show that information. Figure \\@ref(fig:08-lm-predict-all) displays the result."
   ]
  },
  {
   "cell_type": "code",
   "execution_count": 18,
   "id": "747f2258",
   "metadata": {
    "tags": [
     "remove-output"
    ]
   },
   "outputs": [
    {
     "data": {
      "text/html": [
       "\n",
       "<div id=\"altair-viz-6352574c48ee46c4bdd5b19f3722a095\"></div>\n",
       "<script type=\"text/javascript\">\n",
       "  var VEGA_DEBUG = (typeof VEGA_DEBUG == \"undefined\") ? {} : VEGA_DEBUG;\n",
       "  (function(spec, embedOpt){\n",
       "    let outputDiv = document.currentScript.previousElementSibling;\n",
       "    if (outputDiv.id !== \"altair-viz-6352574c48ee46c4bdd5b19f3722a095\") {\n",
       "      outputDiv = document.getElementById(\"altair-viz-6352574c48ee46c4bdd5b19f3722a095\");\n",
       "    }\n",
       "    const paths = {\n",
       "      \"vega\": \"https://cdn.jsdelivr.net/npm//vega@5?noext\",\n",
       "      \"vega-lib\": \"https://cdn.jsdelivr.net/npm//vega-lib?noext\",\n",
       "      \"vega-lite\": \"https://cdn.jsdelivr.net/npm//vega-lite@4.17.0?noext\",\n",
       "      \"vega-embed\": \"https://cdn.jsdelivr.net/npm//vega-embed@6?noext\",\n",
       "    };\n",
       "\n",
       "    function maybeLoadScript(lib, version) {\n",
       "      var key = `${lib.replace(\"-\", \"\")}_version`;\n",
       "      return (VEGA_DEBUG[key] == version) ?\n",
       "        Promise.resolve(paths[lib]) :\n",
       "        new Promise(function(resolve, reject) {\n",
       "          var s = document.createElement('script');\n",
       "          document.getElementsByTagName(\"head\")[0].appendChild(s);\n",
       "          s.async = true;\n",
       "          s.onload = () => {\n",
       "            VEGA_DEBUG[key] = version;\n",
       "            return resolve(paths[lib]);\n",
       "          };\n",
       "          s.onerror = () => reject(`Error loading script: ${paths[lib]}`);\n",
       "          s.src = paths[lib];\n",
       "        });\n",
       "    }\n",
       "\n",
       "    function showError(err) {\n",
       "      outputDiv.innerHTML = `<div class=\"error\" style=\"color:red;\">${err}</div>`;\n",
       "      throw err;\n",
       "    }\n",
       "\n",
       "    function displayChart(vegaEmbed) {\n",
       "      vegaEmbed(outputDiv, spec, embedOpt)\n",
       "        .catch(err => showError(`Javascript Error: ${err.message}<br>This usually means there's a typo in your chart specification. See the javascript console for the full traceback.`));\n",
       "    }\n",
       "\n",
       "    if(typeof define === \"function\" && define.amd) {\n",
       "      requirejs.config({paths});\n",
       "      require([\"vega-embed\"], displayChart, err => showError(`Error loading script: ${err.message}`));\n",
       "    } else {\n",
       "      maybeLoadScript(\"vega\", \"5\")\n",
       "        .then(() => maybeLoadScript(\"vega-lite\", \"4.17.0\"))\n",
       "        .then(() => maybeLoadScript(\"vega-embed\", \"6\"))\n",
       "        .catch(showError)\n",
       "        .then(() => displayChart(vegaEmbed));\n",
       "    }\n",
       "  })({\"config\": {\"view\": {\"continuousWidth\": 400, \"continuousHeight\": 300}}, \"layer\": [{\"mark\": {\"type\": \"circle\", \"color\": \"black\", \"opacity\": 0.3}, \"encoding\": {\"x\": {\"field\": \"sqft\", \"scale\": {\"zero\": false}, \"title\": \"House size (square feet)\", \"type\": \"quantitative\"}, \"y\": {\"axis\": {\"format\": \"$,.0f\"}, \"field\": \"price\", \"scale\": {\"zero\": false}, \"title\": \"Price (USD)\", \"type\": \"quantitative\"}}}, {\"mark\": {\"type\": \"line\", \"color\": \"blue\"}, \"encoding\": {\"x\": {\"field\": \"sqft\", \"scale\": {\"zero\": false}, \"title\": \"House size (square feet)\", \"type\": \"quantitative\"}, \"y\": {\"axis\": {\"format\": \"$,.0f\"}, \"field\": \"price\", \"scale\": {\"zero\": false}, \"title\": \"Price (USD)\", \"type\": \"quantitative\"}}, \"transform\": [{\"on\": \"sqft\", \"regression\": \"price\"}]}], \"data\": {\"name\": \"data-5b442a06b966ce31ccf6bf9bea0cb0ac\"}, \"$schema\": \"https://vega.github.io/schema/vega-lite/v4.17.0.json\", \"datasets\": {\"data-5b442a06b966ce31ccf6bf9bea0cb0ac\": [{\"city\": \"COOL\", \"zip\": \"z95614\", \"beds\": 3, \"baths\": 2.0, \"sqft\": 1457, \"type\": \"Residential\", \"price\": 300000, \"latitude\": 38.905927, \"longitude\": -120.975169}, {\"city\": \"LINCOLN\", \"zip\": \"z95648\", \"beds\": 5, \"baths\": 4.5, \"sqft\": 3179, \"type\": \"Residential\", \"price\": 389000, \"latitude\": 38.867125, \"longitude\": -121.319085}, {\"city\": \"ELK_GROVE\", \"zip\": \"z95758\", \"beds\": 1, \"baths\": 1.0, \"sqft\": 722, \"type\": \"Condo\", \"price\": 100000, \"latitude\": 38.423251, \"longitude\": -121.444489}, {\"city\": \"ROSEVILLE\", \"zip\": \"z95747\", \"beds\": 5, \"baths\": 3.0, \"sqft\": 2616, \"type\": \"Residential\", \"price\": 375000, \"latitude\": 38.778561, \"longitude\": -121.362008}, {\"city\": \"SACRAMENTO\", \"zip\": \"z95822\", \"beds\": 2, \"baths\": 1.0, \"sqft\": 810, \"type\": \"Residential\", \"price\": 108000, \"latitude\": 38.520319, \"longitude\": -121.504727}, {\"city\": \"CITRUS_HEIGHTS\", \"zip\": \"z95621\", \"beds\": 2, \"baths\": 1.0, \"sqft\": 795, \"type\": \"Condo\", \"price\": 116250, \"latitude\": 38.679776, \"longitude\": -121.314089}, {\"city\": \"RANCHO_CORDOVA\", \"zip\": \"z95670\", \"beds\": 3, \"baths\": 1.0, \"sqft\": 1000, \"type\": \"Residential\", \"price\": 134000, \"latitude\": 38.593049, \"longitude\": -121.30304}, {\"city\": \"SACRAMENTO\", \"zip\": \"z95820\", \"beds\": 2, \"baths\": 1.0, \"sqft\": 610, \"type\": \"Residential\", \"price\": 93675, \"latitude\": 38.53942, \"longitude\": -121.446894}, {\"city\": \"SACRAMENTO\", \"zip\": \"z95823\", \"beds\": 3, \"baths\": 2.0, \"sqft\": 1185, \"type\": \"Residential\", \"price\": 178480, \"latitude\": 38.465184, \"longitude\": -121.434925}, {\"city\": \"CARMICHAEL\", \"zip\": \"z95608\", \"beds\": 4, \"baths\": 2.0, \"sqft\": 1559, \"type\": \"Residential\", \"price\": 285000, \"latitude\": 38.64913, \"longitude\": -121.310667}, {\"city\": \"SACRAMENTO\", \"zip\": \"z95828\", \"beds\": 4, \"baths\": 2.0, \"sqft\": 1549, \"type\": \"Residential\", \"price\": 165000, \"latitude\": 38.487864, \"longitude\": -121.402476}, {\"city\": \"ROSEVILLE\", \"zip\": \"z95747\", \"beds\": 5, \"baths\": 4.0, \"sqft\": 3157, \"type\": \"Residential\", \"price\": 520000, \"latitude\": 38.796683, \"longitude\": -121.342555}, {\"city\": \"EL_DORADO_HILLS\", \"zip\": \"z95762\", \"beds\": 3, \"baths\": 3.5, \"sqft\": 3885, \"type\": \"Residential\", \"price\": 680000, \"latitude\": 38.682961, \"longitude\": -121.033253}, {\"city\": \"SACRAMENTO\", \"zip\": \"z95834\", \"beds\": 5, \"baths\": 3.0, \"sqft\": 3076, \"type\": \"Residential\", \"price\": 240000, \"latitude\": 38.63437, \"longitude\": -121.510779}, {\"city\": \"ORANGEVALE\", \"zip\": \"z95662\", \"beds\": 2, \"baths\": 1.0, \"sqft\": 1690, \"type\": \"Residential\", \"price\": 334150, \"latitude\": 38.71147, \"longitude\": -121.216214}, {\"city\": \"CITRUS_HEIGHTS\", \"zip\": \"z95621\", \"beds\": 3, \"baths\": 2.0, \"sqft\": 1118, \"type\": \"Residential\", \"price\": 122000, \"latitude\": 38.707851, \"longitude\": -121.320707}, {\"city\": \"LINCOLN\", \"zip\": \"z95648\", \"beds\": 5, \"baths\": 4.0, \"sqft\": 3566, \"type\": \"Residential\", \"price\": 400000, \"latitude\": 38.904869, \"longitude\": -121.32075}, {\"city\": \"SACRAMENTO\", \"zip\": \"z95818\", \"beds\": 2, \"baths\": 1.0, \"sqft\": 1032, \"type\": \"Residential\", \"price\": 220000, \"latitude\": 38.556818, \"longitude\": -121.490669}, {\"city\": \"CITRUS_HEIGHTS\", \"zip\": \"z95621\", \"beds\": 3, \"baths\": 2.0, \"sqft\": 1305, \"type\": \"Residential\", \"price\": 250000, \"latitude\": 38.665395, \"longitude\": -121.293288}, {\"city\": \"CITRUS_HEIGHTS\", \"zip\": \"z95621\", \"beds\": 2, \"baths\": 2.0, \"sqft\": 1162, \"type\": \"Residential\", \"price\": 164000, \"latitude\": 38.720868, \"longitude\": -121.309855}, {\"city\": \"ROSEVILLE\", \"zip\": \"z95661\", \"beds\": 4, \"baths\": 2.0, \"sqft\": 2295, \"type\": \"Residential\", \"price\": 360000, \"latitude\": 38.733985, \"longitude\": -121.236766}, {\"city\": \"ELK_GROVE\", \"zip\": \"z95624\", \"beds\": 6, \"baths\": 3.0, \"sqft\": 2555, \"type\": \"Residential\", \"price\": 300000, \"latitude\": 38.404505, \"longitude\": -121.346938}, {\"city\": \"SACRAMENTO\", \"zip\": \"z95821\", \"beds\": 3, \"baths\": 1.0, \"sqft\": 1040, \"type\": \"Residential\", \"price\": 224000, \"latitude\": 38.629468, \"longitude\": -121.376445}, {\"city\": \"ROSEVILLE\", \"zip\": \"z95678\", \"beds\": 4, \"baths\": 2.5, \"sqft\": 2272, \"type\": \"Residential\", \"price\": 500500, \"latitude\": 38.770153, \"longitude\": -121.300039}, {\"city\": \"SACRAMENTO\", \"zip\": \"z95831\", \"beds\": 2, \"baths\": 2.0, \"sqft\": 1177, \"type\": \"Residential\", \"price\": 171750, \"latitude\": 38.480859, \"longitude\": -121.539745}, {\"city\": \"SACRAMENTO\", \"zip\": \"z95833\", \"beds\": 2, \"baths\": 1.0, \"sqft\": 956, \"type\": \"Condo\", \"price\": 92000, \"latitude\": 38.627147, \"longitude\": -121.500799}, {\"city\": \"SACRAMENTO\", \"zip\": \"z95823\", \"beds\": 4, \"baths\": 2.0, \"sqft\": 1497, \"type\": \"Residential\", \"price\": 179500, \"latitude\": 38.45073, \"longitude\": -121.427528}, {\"city\": \"ROSEVILLE\", \"zip\": \"z95678\", \"beds\": 3, \"baths\": 2.0, \"sqft\": 1174, \"type\": \"Residential\", \"price\": 180000, \"latitude\": 38.734136, \"longitude\": -121.299639}, {\"city\": \"PLACERVILLE\", \"zip\": \"z95667\", \"beds\": 4, \"baths\": 3.0, \"sqft\": 2295, \"type\": \"Residential\", \"price\": 350000, \"latitude\": 38.738141, \"longitude\": -120.784145}, {\"city\": \"ELK_GROVE\", \"zip\": \"z95757\", \"beds\": 4, \"baths\": 3.0, \"sqft\": 2724, \"type\": \"Residential\", \"price\": 461000, \"latitude\": 38.38253, \"longitude\": -121.428007}, {\"city\": \"SACRAMENTO\", \"zip\": \"z95842\", \"beds\": 2, \"baths\": 1.0, \"sqft\": 964, \"type\": \"Residential\", \"price\": 97500, \"latitude\": 38.663282, \"longitude\": -121.359631}, {\"city\": \"CAMERON_PARK\", \"zip\": \"z95682\", \"beds\": 3, \"baths\": 4.0, \"sqft\": 1197, \"type\": \"Residential\", \"price\": 224500, \"latitude\": 38.69757, \"longitude\": -120.995739}, {\"city\": \"SACRAMENTO\", \"zip\": \"z95823\", \"beds\": 4, \"baths\": 3.0, \"sqft\": 1851, \"type\": \"Residential\", \"price\": 182587, \"latitude\": 38.4473, \"longitude\": -121.435218}, {\"city\": \"SACRAMENTO\", \"zip\": \"z95823\", \"beds\": 2, \"baths\": 1.0, \"sqft\": 876, \"type\": \"Residential\", \"price\": 61000, \"latitude\": 38.471139, \"longitude\": -121.432255}, {\"city\": \"ELK_GROVE\", \"zip\": \"z95757\", \"beds\": 5, \"baths\": 4.0, \"sqft\": 3508, \"type\": \"Residential\", \"price\": 510000, \"latitude\": 38.38253, \"longitude\": -121.428038}, {\"city\": \"SACRAMENTO\", \"zip\": \"z95842\", \"beds\": 3, \"baths\": 1.0, \"sqft\": 1009, \"type\": \"Residential\", \"price\": 198000, \"latitude\": 38.681541, \"longitude\": -121.355616}, {\"city\": \"FAIR_OAKS\", \"zip\": \"z95628\", \"beds\": 3, \"baths\": 2.0, \"sqft\": 1527, \"type\": \"Residential\", \"price\": 293993, \"latitude\": 38.664552, \"longitude\": -121.255937}, {\"city\": \"ROCKLIN\", \"zip\": \"z95765\", \"beds\": 5, \"baths\": 3.0, \"sqft\": 2606, \"type\": \"Residential\", \"price\": 346375, \"latitude\": 38.807816, \"longitude\": -121.270008}, {\"city\": \"SACRAMENTO\", \"zip\": \"z95829\", \"beds\": 5, \"baths\": 3.0, \"sqft\": 3984, \"type\": \"Residential\", \"price\": 572500, \"latitude\": 38.47643, \"longitude\": -121.309243}, {\"city\": \"SACRAMENTO\", \"zip\": \"z95838\", \"beds\": 2, \"baths\": 1.0, \"sqft\": 952, \"type\": \"Residential\", \"price\": 134000, \"latitude\": 38.637678, \"longitude\": -121.452476}, {\"city\": \"SACRAMENTO\", \"zip\": \"z95838\", \"beds\": 4, \"baths\": 2.0, \"sqft\": 1382, \"type\": \"Residential\", \"price\": 293996, \"latitude\": 38.644927, \"longitude\": -121.43054}, {\"city\": \"SACRAMENTO\", \"zip\": \"z95823\", \"beds\": 4, \"baths\": 2.0, \"sqft\": 1580, \"type\": \"Residential\", \"price\": 168000, \"latitude\": 38.449153, \"longitude\": -121.428272}, {\"city\": \"RANCHO_MURIETA\", \"zip\": \"z95683\", \"beds\": 4, \"baths\": 2.0, \"sqft\": 3192, \"type\": \"Residential\", \"price\": 425000, \"latitude\": 38.512602, \"longitude\": -121.087233}, {\"city\": \"SACRAMENTO\", \"zip\": \"z95814\", \"beds\": 2, \"baths\": 3.0, \"sqft\": 1788, \"type\": \"Residential\", \"price\": 427500, \"latitude\": 38.571943, \"longitude\": -121.492106}, {\"city\": \"ELK_GROVE\", \"zip\": \"z95758\", \"beds\": 2, \"baths\": 2.0, \"sqft\": 1039, \"type\": \"Condo\", \"price\": 141000, \"latitude\": 38.423251, \"longitude\": -121.444489}, {\"city\": \"ORANGEVALE\", \"zip\": \"z95662\", \"beds\": 4, \"baths\": 2.0, \"sqft\": 1456, \"type\": \"Residential\", \"price\": 250000, \"latitude\": 38.692199, \"longitude\": -121.250975}, {\"city\": \"ELK_GROVE\", \"zip\": \"z95624\", \"beds\": 5, \"baths\": 3.0, \"sqft\": 2508, \"type\": \"Residential\", \"price\": 245918, \"latitude\": 38.443832, \"longitude\": -121.382087}, {\"city\": \"ROCKLIN\", \"zip\": \"z95765\", \"beds\": 2, \"baths\": 2.0, \"sqft\": 1596, \"type\": \"Residential\", \"price\": 370000, \"latitude\": 38.837006, \"longitude\": -121.232024}, {\"city\": \"CARMICHAEL\", \"zip\": \"z95608\", \"beds\": 3, \"baths\": 2.0, \"sqft\": 1676, \"type\": \"Residential\", \"price\": 247000, \"latitude\": 38.657267, \"longitude\": -121.310352}, {\"city\": \"ELK_GROVE\", \"zip\": \"z95757\", \"beds\": 3, \"baths\": 2.0, \"sqft\": 1857, \"type\": \"Residential\", \"price\": 291000, \"latitude\": 38.391538, \"longitude\": -121.442596}, {\"city\": \"SACRAMENTO\", \"zip\": \"z95818\", \"beds\": 2, \"baths\": 1.0, \"sqft\": 1144, \"type\": \"Residential\", \"price\": 299000, \"latitude\": 38.556844, \"longitude\": -121.490769}, {\"city\": \"SACRAMENTO\", \"zip\": \"z95819\", \"beds\": 3, \"baths\": 1.0, \"sqft\": 1493, \"type\": \"Residential\", \"price\": 425000, \"latitude\": 38.579326, \"longitude\": -121.44252}, {\"city\": \"SACRAMENTO\", \"zip\": \"z95834\", \"beds\": 2, \"baths\": 2.0, \"sqft\": 1250, \"type\": \"Condo\", \"price\": 232500, \"latitude\": 38.644406, \"longitude\": -121.549049}, {\"city\": \"SACRAMENTO\", \"zip\": \"z95823\", \"beds\": 3, \"baths\": 2.0, \"sqft\": 1593, \"type\": \"Residential\", \"price\": 181000, \"latitude\": 38.44617, \"longitude\": -121.427824}, {\"city\": \"SACRAMENTO\", \"zip\": \"z95838\", \"beds\": 3, \"baths\": 2.0, \"sqft\": 1110, \"type\": \"Residential\", \"price\": 123750, \"latitude\": 38.636565, \"longitude\": -121.460383}, {\"city\": \"SACRAMENTO\", \"zip\": \"z95822\", \"beds\": 2, \"baths\": 1.0, \"sqft\": 800, \"type\": \"Condo\", \"price\": 104250, \"latitude\": 38.517029, \"longitude\": -121.513809}, {\"city\": \"SACRAMENTO\", \"zip\": \"z95815\", \"beds\": 3, \"baths\": 1.0, \"sqft\": 696, \"type\": \"Residential\", \"price\": 121725, \"latitude\": 38.613103, \"longitude\": -121.444085}, {\"city\": \"SACRAMENTO\", \"zip\": \"z95823\", \"beds\": 3, \"baths\": 2.0, \"sqft\": 1488, \"type\": \"Residential\", \"price\": 160000, \"latitude\": 38.502034, \"longitude\": -121.456027}, {\"city\": \"ELK_GROVE\", \"zip\": \"z95624\", \"beds\": 3, \"baths\": 2.0, \"sqft\": 1188, \"type\": \"Residential\", \"price\": 170000, \"latitude\": 38.415518, \"longitude\": -121.370527}, {\"city\": \"SACRAMENTO\", \"zip\": \"z95825\", \"beds\": 1, \"baths\": 1.0, \"sqft\": 484, \"type\": \"Condo\", \"price\": 48000, \"latitude\": 38.582279, \"longitude\": -121.401482}, {\"city\": \"SACRAMENTO\", \"zip\": \"z95815\", \"beds\": 2, \"baths\": 1.0, \"sqft\": 1032, \"type\": \"Residential\", \"price\": 65000, \"latitude\": 38.608085, \"longitude\": -121.449651}, {\"city\": \"ELK_GROVE\", \"zip\": \"z95624\", \"beds\": 4, \"baths\": 2.0, \"sqft\": 2367, \"type\": \"Residential\", \"price\": 240000, \"latitude\": 38.420637, \"longitude\": -121.375798}, {\"city\": \"RANCHO_CORDOVA\", \"zip\": \"z95670\", \"beds\": 4, \"baths\": 2.0, \"sqft\": 1524, \"type\": \"Residential\", \"price\": 296056, \"latitude\": 38.579, \"longitude\": -121.292627}, {\"city\": \"SACRAMENTO\", \"zip\": \"z95820\", \"beds\": 2, \"baths\": 1.0, \"sqft\": 932, \"type\": \"Residential\", \"price\": 65000, \"latitude\": 38.532718, \"longitude\": -121.46747}, {\"city\": \"FOLSOM\", \"zip\": \"z95630\", \"beds\": 3, \"baths\": 2.0, \"sqft\": 1820, \"type\": \"Residential\", \"price\": 200000, \"latitude\": 38.687742, \"longitude\": -121.17104}, {\"city\": \"FOLSOM\", \"zip\": \"z95630\", \"beds\": 3, \"baths\": 2.0, \"sqft\": 1905, \"type\": \"Residential\", \"price\": 500000, \"latitude\": 38.69435, \"longitude\": -121.177259}, {\"city\": \"SACRAMENTO\", \"zip\": \"z95822\", \"beds\": 4, \"baths\": 2.0, \"sqft\": 1436, \"type\": \"Residential\", \"price\": 185074, \"latitude\": 38.48291, \"longitude\": -121.491509}, {\"city\": \"ROCKLIN\", \"zip\": \"z95765\", \"beds\": 3, \"baths\": 2.0, \"sqft\": 2548, \"type\": \"Residential\", \"price\": 413000, \"latitude\": 38.837455, \"longitude\": -121.289337}, {\"city\": \"SACRAMENTO\", \"zip\": \"z95828\", \"beds\": 3, \"baths\": 2.0, \"sqft\": 1289, \"type\": \"Residential\", \"price\": 205000, \"latitude\": 38.461296, \"longitude\": -121.390858}, {\"city\": \"RANCHO_CORDOVA\", \"zip\": \"z95670\", \"beds\": 2, \"baths\": 1.0, \"sqft\": 911, \"type\": \"Residential\", \"price\": 115000, \"latitude\": 38.610852, \"longitude\": -121.273278}, {\"city\": \"SACRAMENTO\", \"zip\": \"z95823\", \"beds\": 3, \"baths\": 2.0, \"sqft\": 1400, \"type\": \"Residential\", \"price\": 138000, \"latitude\": 38.487297, \"longitude\": -121.44295}, {\"city\": \"SACRAMENTO\", \"zip\": \"z95832\", \"beds\": 5, \"baths\": 3.0, \"sqft\": 2992, \"type\": \"Residential\", \"price\": 295000, \"latitude\": 38.473162, \"longitude\": -121.491085}, {\"city\": \"ROSEVILLE\", \"zip\": \"z95747\", \"beds\": 3, \"baths\": 2.0, \"sqft\": 1371, \"type\": \"Residential\", \"price\": 208250, \"latitude\": 38.737882, \"longitude\": -121.308142}, {\"city\": \"SACRAMENTO\", \"zip\": \"z95864\", \"beds\": 3, \"baths\": 2.0, \"sqft\": 1360, \"type\": \"Residential\", \"price\": 315000, \"latitude\": 38.606569, \"longitude\": -121.368424}, {\"city\": \"SACRAMENTO\", \"zip\": \"z95826\", \"beds\": 1, \"baths\": 1.0, \"sqft\": 625, \"type\": \"Condo\", \"price\": 100000, \"latitude\": 38.544627, \"longitude\": -121.35796}, {\"city\": \"SACRAMENTO\", \"zip\": \"z95832\", \"beds\": 3, \"baths\": 2.0, \"sqft\": 1119, \"type\": \"Residential\", \"price\": 129000, \"latitude\": 38.476472, \"longitude\": -121.501711}, {\"city\": \"ELK_GROVE\", \"zip\": \"z95624\", \"beds\": 4, \"baths\": 2.0, \"sqft\": 1724, \"type\": \"Residential\", \"price\": 258000, \"latitude\": 38.451353, \"longitude\": -121.358776}, {\"city\": \"ANTELOPE\", \"zip\": \"z95843\", \"beds\": 5, \"baths\": 3.0, \"sqft\": 2346, \"type\": \"Residential\", \"price\": 320000, \"latitude\": 38.707705, \"longitude\": -121.354153}, {\"city\": \"SACRAMENTO\", \"zip\": \"z95823\", \"beds\": 3, \"baths\": 2.0, \"sqft\": 1477, \"type\": \"Residential\", \"price\": 168000, \"latitude\": 38.499954, \"longitude\": -121.454469}, {\"city\": \"SACRAMENTO\", \"zip\": \"z95820\", \"beds\": 3, \"baths\": 1.0, \"sqft\": 1150, \"type\": \"Residential\", \"price\": 198000, \"latitude\": 38.532725, \"longitude\": -121.469078}, {\"city\": \"NORTH_HIGHLANDS\", \"zip\": \"z95660\", \"beds\": 3, \"baths\": 1.0, \"sqft\": 1051, \"type\": \"Residential\", \"price\": 105000, \"latitude\": 38.679279, \"longitude\": -121.376615}, {\"city\": \"SACRAMENTO\", \"zip\": \"z95835\", \"beds\": 1, \"baths\": 1.0, \"sqft\": 984, \"type\": \"Condo\", \"price\": 210944, \"latitude\": 38.668433, \"longitude\": -121.503471}, {\"city\": \"GRANITE_BAY\", \"zip\": \"z95746\", \"beds\": 4, \"baths\": 3.0, \"sqft\": 2356, \"type\": \"Residential\", \"price\": 600000, \"latitude\": 38.732096, \"longitude\": -121.219142}, {\"city\": \"SACRAMENTO\", \"zip\": \"z95826\", \"beds\": 4, \"baths\": 2.0, \"sqft\": 1605, \"type\": \"Residential\", \"price\": 228000, \"latitude\": 38.55821, \"longitude\": -121.355022}, {\"city\": \"ANTELOPE\", \"zip\": \"z95843\", \"beds\": 4, \"baths\": 2.0, \"sqft\": 1953, \"type\": \"Residential\", \"price\": 207744, \"latitude\": 38.71174, \"longitude\": -121.342675}, {\"city\": \"SACRAMENTO\", \"zip\": \"z95823\", \"beds\": 3, \"baths\": 2.0, \"sqft\": 1354, \"type\": \"Residential\", \"price\": 104000, \"latitude\": 38.484374, \"longitude\": -121.463157}, {\"city\": \"SACRAMENTO\", \"zip\": \"z95823\", \"beds\": 3, \"baths\": 2.0, \"sqft\": 1676, \"type\": \"Residential\", \"price\": 155000, \"latitude\": 38.457157, \"longitude\": -121.433065}, {\"city\": \"GALT\", \"zip\": \"z95632\", \"beds\": 3, \"baths\": 2.0, \"sqft\": 1266, \"type\": \"Residential\", \"price\": 140000, \"latitude\": 38.270617, \"longitude\": -121.299205}, {\"city\": \"ROSEVILLE\", \"zip\": \"z95747\", \"beds\": 3, \"baths\": 2.0, \"sqft\": 1440, \"type\": \"Residential\", \"price\": 292000, \"latitude\": 38.752399, \"longitude\": -121.330328}, {\"city\": \"CARMICHAEL\", \"zip\": \"z95608\", \"beds\": 3, \"baths\": 1.0, \"sqft\": 1713, \"type\": \"Residential\", \"price\": 266000, \"latitude\": 38.671995, \"longitude\": -121.324339}, {\"city\": \"SACRAMENTO\", \"zip\": \"z95835\", \"beds\": 5, \"baths\": 3.0, \"sqft\": 2280, \"type\": \"Residential\", \"price\": 279000, \"latitude\": 38.667332, \"longitude\": -121.528276}, {\"city\": \"SACRAMENTO\", \"zip\": \"z95835\", \"beds\": 3, \"baths\": 2.0, \"sqft\": 1686, \"type\": \"Residential\", \"price\": 239000, \"latitude\": 38.671556, \"longitude\": -121.520916}, {\"city\": \"SACRAMENTO\", \"zip\": \"z95823\", \"beds\": 4, \"baths\": 1.0, \"sqft\": 1955, \"type\": \"Residential\", \"price\": 166357, \"latitude\": 38.489405, \"longitude\": -121.452811}, {\"city\": \"RANCHO_CORDOVA\", \"zip\": \"z95670\", \"beds\": 4, \"baths\": 3.0, \"sqft\": 2109, \"type\": \"Residential\", \"price\": 330000, \"latitude\": 38.580545, \"longitude\": -121.279016}, {\"city\": \"ANTELOPE\", \"zip\": \"z95843\", \"beds\": 4, \"baths\": 3.0, \"sqft\": 1768, \"type\": \"Residential\", \"price\": 265000, \"latitude\": 38.717042, \"longitude\": -121.35468}, {\"city\": \"SACRAMENTO\", \"zip\": \"z95832\", \"beds\": 3, \"baths\": 2.0, \"sqft\": 1249, \"type\": \"Residential\", \"price\": 112500, \"latitude\": 38.480126, \"longitude\": -121.487869}, {\"city\": \"SACRAMENTO\", \"zip\": \"z95838\", \"beds\": 3, \"baths\": 1.0, \"sqft\": 1250, \"type\": \"Residential\", \"price\": 84000, \"latitude\": 38.637337, \"longitude\": -121.432835}, {\"city\": \"CITRUS_HEIGHTS\", \"zip\": \"z95621\", \"beds\": 3, \"baths\": 2.0, \"sqft\": 1104, \"type\": \"Residential\", \"price\": 156000, \"latitude\": 38.693724, \"longitude\": -121.307169}, {\"city\": \"ANTELOPE\", \"zip\": \"z95843\", \"beds\": 3, \"baths\": 2.0, \"sqft\": 2960, \"type\": \"Residential\", \"price\": 350000, \"latitude\": 38.709513, \"longitude\": -121.359357}, {\"city\": \"EL_DORADO_HILLS\", \"zip\": \"z95762\", \"beds\": 5, \"baths\": 4.0, \"sqft\": 4091, \"type\": \"Residential\", \"price\": 508000, \"latitude\": 38.676131, \"longitude\": -121.038931}, {\"city\": \"SACRAMENTO\", \"zip\": \"z95832\", \"beds\": 3, \"baths\": 2.0, \"sqft\": 1302, \"type\": \"Residential\", \"price\": 157500, \"latitude\": 38.473775, \"longitude\": -121.493777}, {\"city\": \"SACRAMENTO\", \"zip\": \"z95811\", \"beds\": 4, \"baths\": 2.0, \"sqft\": 1718, \"type\": \"Residential\", \"price\": 361948, \"latitude\": 38.591822, \"longitude\": -121.478644}, {\"city\": \"FOLSOM\", \"zip\": \"z95630\", \"beds\": 4, \"baths\": 3.0, \"sqft\": 3229, \"type\": \"Residential\", \"price\": 575000, \"latitude\": 38.703962, \"longitude\": -121.1871}, {\"city\": \"SACRAMENTO\", \"zip\": \"z95833\", \"beds\": 3, \"baths\": 2.0, \"sqft\": 1204, \"type\": \"Residential\", \"price\": 174250, \"latitude\": 38.62457, \"longitude\": -121.486913}, {\"city\": \"FOLSOM\", \"zip\": \"z95630\", \"beds\": 3, \"baths\": 2.0, \"sqft\": 1258, \"type\": \"Residential\", \"price\": 330000, \"latitude\": 38.667834, \"longitude\": -121.168578}, {\"city\": \"SACRAMENTO\", \"zip\": \"z95828\", \"beds\": 3, \"baths\": 1.0, \"sqft\": 888, \"type\": \"Residential\", \"price\": 216021, \"latitude\": 38.508217, \"longitude\": -121.411207}, {\"city\": \"PLACERVILLE\", \"zip\": \"z95667\", \"beds\": 2, \"baths\": 2.0, \"sqft\": 2750, \"type\": \"Residential\", \"price\": 270000, \"latitude\": 38.813546, \"longitude\": -120.809254}, {\"city\": \"CITRUS_HEIGHTS\", \"zip\": \"z95621\", \"beds\": 3, \"baths\": 1.0, \"sqft\": 1073, \"type\": \"Residential\", \"price\": 198000, \"latitude\": 38.700717, \"longitude\": -121.3133}, {\"city\": \"LINCOLN\", \"zip\": \"z95648\", \"beds\": 1, \"baths\": 1.5, \"sqft\": 1194, \"type\": \"Condo\", \"price\": 188000, \"latitude\": 38.88417, \"longitude\": -121.270222}, {\"city\": \"SACRAMENTO\", \"zip\": \"z95842\", \"beds\": 3, \"baths\": 2.0, \"sqft\": 1503, \"type\": \"Residential\", \"price\": 245000, \"latitude\": 38.699489, \"longitude\": -121.361828}, {\"city\": \"PLACERVILLE\", \"zip\": \"z95667\", \"beds\": 3, \"baths\": 2.0, \"sqft\": 1704, \"type\": \"Residential\", \"price\": 475000, \"latitude\": 38.690867, \"longitude\": -120.693641}, {\"city\": \"NORTH_HIGHLANDS\", \"zip\": \"z95660\", \"beds\": 3, \"baths\": 1.0, \"sqft\": 957, \"type\": \"Residential\", \"price\": 129000, \"latitude\": 38.66654, \"longitude\": -121.378298}, {\"city\": \"ELK_GROVE\", \"zip\": \"z95758\", \"beds\": 3, \"baths\": 2.0, \"sqft\": 1716, \"type\": \"Residential\", \"price\": 180400, \"latitude\": 38.417649, \"longitude\": -121.420294}, {\"city\": \"RANCHO_CORDOVA\", \"zip\": \"z95670\", \"beds\": 4, \"baths\": 2.0, \"sqft\": 1829, \"type\": \"Residential\", \"price\": 184500, \"latitude\": 38.592383, \"longitude\": -121.318669}, {\"city\": \"ELK_GROVE\", \"zip\": \"z95757\", \"beds\": 2, \"baths\": 2.0, \"sqft\": 1257, \"type\": \"Residential\", \"price\": 222500, \"latitude\": 38.3052, \"longitude\": -121.4033}, {\"city\": \"SACRAMENTO\", \"zip\": \"z95823\", \"beds\": 2, \"baths\": 1.0, \"sqft\": 779, \"type\": \"Residential\", \"price\": 114750, \"latitude\": 38.463929, \"longitude\": -121.438667}, {\"city\": \"SACRAMENTO\", \"zip\": \"z95838\", \"beds\": 2, \"baths\": 2.0, \"sqft\": 918, \"type\": \"Residential\", \"price\": 91000, \"latitude\": 38.630151, \"longitude\": -121.442789}, {\"city\": \"SACRAMENTO\", \"zip\": \"z95828\", \"beds\": 3, \"baths\": 2.0, \"sqft\": 1410, \"type\": \"Residential\", \"price\": 316630, \"latitude\": 38.468185, \"longitude\": -121.375694}, {\"city\": \"ELK_GROVE\", \"zip\": \"z95624\", \"beds\": 4, \"baths\": 2.0, \"sqft\": 1721, \"type\": \"Residential\", \"price\": 294173, \"latitude\": 38.450548, \"longitude\": -121.363002}, {\"city\": \"SACRAMENTO\", \"zip\": \"z95823\", \"beds\": 2, \"baths\": 2.0, \"sqft\": 904, \"type\": \"Residential\", \"price\": 173056, \"latitude\": 38.502254, \"longitude\": -121.451444}, {\"city\": \"ELK_GROVE\", \"zip\": \"z95624\", \"beds\": 4, \"baths\": 3.0, \"sqft\": 1653, \"type\": \"Residential\", \"price\": 275000, \"latitude\": 38.435288, \"longitude\": -121.375703}, {\"city\": \"SACRAMENTO\", \"zip\": \"z95815\", \"beds\": 4, \"baths\": 2.0, \"sqft\": 1158, \"type\": \"Residential\", \"price\": 80000, \"latitude\": 38.618716, \"longitude\": -121.466327}, {\"city\": \"SACRAMENTO\", \"zip\": \"z95825\", \"beds\": 3, \"baths\": 2.0, \"sqft\": 1720, \"type\": \"Residential\", \"price\": 290000, \"latitude\": 38.567865, \"longitude\": -121.410699}, {\"city\": \"SACRAMENTO\", \"zip\": \"z95823\", \"beds\": 3, \"baths\": 2.0, \"sqft\": 1477, \"type\": \"Residential\", \"price\": 234000, \"latitude\": 38.499893, \"longitude\": -121.45889}, {\"city\": \"ELK_GROVE\", \"zip\": \"z95758\", \"beds\": 4, \"baths\": 2.0, \"sqft\": 2056, \"type\": \"Residential\", \"price\": 275000, \"latitude\": 38.411522, \"longitude\": -121.481406}, {\"city\": \"SACRAMENTO\", \"zip\": \"z95816\", \"beds\": 2, \"baths\": 1.0, \"sqft\": 1269, \"type\": \"Residential\", \"price\": 245000, \"latitude\": 38.562296, \"longitude\": -121.467489}, {\"city\": \"EL_DORADO_HILLS\", \"zip\": \"z95762\", \"beds\": 4, \"baths\": 3.0, \"sqft\": 3380, \"type\": \"Residential\", \"price\": 533000, \"latitude\": 38.664066, \"longitude\": -121.056735}, {\"city\": \"NORTH_HIGHLANDS\", \"zip\": \"z95660\", \"beds\": 4, \"baths\": 2.0, \"sqft\": 1240, \"type\": \"Residential\", \"price\": 123000, \"latitude\": 38.702792, \"longitude\": -121.38221}, {\"city\": \"SACRAMENTO\", \"zip\": \"z95826\", \"beds\": 8, \"baths\": 4.0, \"sqft\": 3612, \"type\": \"Multi_Family\", \"price\": 282400, \"latitude\": 38.559505, \"longitude\": -121.364839}, {\"city\": \"ROSEVILLE\", \"zip\": \"z95747\", \"beds\": 2, \"baths\": 2.0, \"sqft\": 1057, \"type\": \"Condo\", \"price\": 170000, \"latitude\": 38.795529, \"longitude\": -121.328819}, {\"city\": \"EL_DORADO\", \"zip\": \"z95623\", \"beds\": 3, \"baths\": 2.0, \"sqft\": 1624, \"type\": \"Residential\", \"price\": 289000, \"latitude\": 38.673285, \"longitude\": -120.879176}, {\"city\": \"SACRAMENTO\", \"zip\": \"z95828\", \"beds\": 4, \"baths\": 3.0, \"sqft\": 1936, \"type\": \"Residential\", \"price\": 235000, \"latitude\": 38.462981, \"longitude\": -121.408288}, {\"city\": \"SACRAMENTO\", \"zip\": \"z95820\", \"beds\": 2, \"baths\": 1.0, \"sqft\": 723, \"type\": \"Residential\", \"price\": 207000, \"latitude\": 38.536741, \"longitude\": -121.42115}, {\"city\": \"ELK_GROVE\", \"zip\": \"z95758\", \"beds\": 4, \"baths\": 2.0, \"sqft\": 2056, \"type\": \"Residential\", \"price\": 285000, \"latitude\": 38.410992, \"longitude\": -121.479043}, {\"city\": \"WEST_SACRAMENTO\", \"zip\": \"z95691\", \"beds\": 2, \"baths\": 1.0, \"sqft\": 884, \"type\": \"Residential\", \"price\": 147000, \"latitude\": 38.563084, \"longitude\": -121.535579}, {\"city\": \"PLACERVILLE\", \"zip\": \"z95667\", \"beds\": 2, \"baths\": 1.0, \"sqft\": 948, \"type\": \"Residential\", \"price\": 211500, \"latitude\": 38.739774, \"longitude\": -120.860243}, {\"city\": \"FOLSOM\", \"zip\": \"z95630\", \"beds\": 3, \"baths\": 2.0, \"sqft\": 1427, \"type\": \"Residential\", \"price\": 236073, \"latitude\": 38.679626, \"longitude\": -121.142609}, {\"city\": \"ORANGEVALE\", \"zip\": \"z95662\", \"beds\": 3, \"baths\": 2.0, \"sqft\": 1176, \"type\": \"Residential\", \"price\": 250000, \"latitude\": 38.669882, \"longitude\": -121.213533}, {\"city\": \"SACRAMENTO\", \"zip\": \"z95823\", \"beds\": 3, \"baths\": 3.0, \"sqft\": 1961, \"type\": \"Residential\", \"price\": 347029, \"latitude\": 38.448507, \"longitude\": -121.421346}, {\"city\": \"FOLSOM\", \"zip\": \"z95630\", \"beds\": 4, \"baths\": 2.0, \"sqft\": 2462, \"type\": \"Residential\", \"price\": 539000, \"latitude\": 38.655167, \"longitude\": -121.090178}, {\"city\": \"ROCKLIN\", \"zip\": \"z95677\", \"beds\": 3, \"baths\": 2.0, \"sqft\": 1462, \"type\": \"Residential\", \"price\": 230095, \"latitude\": 38.798028, \"longitude\": -121.235364}, {\"city\": \"SACRAMENTO\", \"zip\": \"z95838\", \"beds\": 3, \"baths\": 1.0, \"sqft\": 1004, \"type\": \"Residential\", \"price\": 110000, \"latitude\": 38.647398, \"longitude\": -121.432914}, {\"city\": \"ORANGEVALE\", \"zip\": \"z95662\", \"beds\": 4, \"baths\": 2.0, \"sqft\": 1574, \"type\": \"Residential\", \"price\": 252155, \"latitude\": 38.691829, \"longitude\": -121.249033}, {\"city\": \"LINCOLN\", \"zip\": \"z95648\", \"beds\": 4, \"baths\": 3.0, \"sqft\": 2943, \"type\": \"Residential\", \"price\": 261800, \"latitude\": 38.879084, \"longitude\": -121.298586}, {\"city\": \"PLACERVILLE\", \"zip\": \"z95667\", \"beds\": 4, \"baths\": 3.0, \"sqft\": 1929, \"type\": \"Residential\", \"price\": 485000, \"latitude\": 38.787877, \"longitude\": -120.816676}, {\"city\": \"ELK_GROVE\", \"zip\": \"z95757\", \"beds\": 5, \"baths\": 4.0, \"sqft\": 3260, \"type\": \"Residential\", \"price\": 385000, \"latitude\": 38.405527, \"longitude\": -121.431746}, {\"city\": \"CITRUS_HEIGHTS\", \"zip\": \"z95610\", \"beds\": 3, \"baths\": 2.0, \"sqft\": 1401, \"type\": \"Residential\", \"price\": 305000, \"latitude\": 38.715493, \"longitude\": -121.26293}, {\"city\": \"SACRAMENTO\", \"zip\": \"z95824\", \"beds\": 3, \"baths\": 1.0, \"sqft\": 1161, \"type\": \"Residential\", \"price\": 109000, \"latitude\": 38.511893, \"longitude\": -121.457676}, {\"city\": \"SACRAMENTO\", \"zip\": \"z95838\", \"beds\": 4, \"baths\": 2.0, \"sqft\": 1064, \"type\": \"Residential\", \"price\": 109000, \"latitude\": 38.635232, \"longitude\": -121.460098}, {\"city\": \"SACRAMENTO\", \"zip\": \"z95834\", \"beds\": 3, \"baths\": 3.0, \"sqft\": 2829, \"type\": \"Residential\", \"price\": 433500, \"latitude\": 38.650221, \"longitude\": -121.551704}, {\"city\": \"SACRAMENTO\", \"zip\": \"z95842\", \"beds\": 3, \"baths\": 2.0, \"sqft\": 1104, \"type\": \"Residential\", \"price\": 90895, \"latitude\": 38.681659, \"longitude\": -121.351705}, {\"city\": \"ELK_GROVE\", \"zip\": \"z95624\", \"beds\": 4, \"baths\": 2.0, \"sqft\": 1616, \"type\": \"Residential\", \"price\": 227887, \"latitude\": 38.400676, \"longitude\": -121.38101}, {\"city\": \"ROSEVILLE\", \"zip\": \"z95678\", \"beds\": 3, \"baths\": 2.0, \"sqft\": 2172, \"type\": \"Residential\", \"price\": 350000, \"latitude\": 38.792461, \"longitude\": -121.275711}, {\"city\": \"SACRAMENTO\", \"zip\": \"z95817\", \"beds\": 3, \"baths\": 1.0, \"sqft\": 1019, \"type\": \"Residential\", \"price\": 148750, \"latitude\": 38.54117, \"longitude\": -121.458129}, {\"city\": \"SACRAMENTO\", \"zip\": \"z95831\", \"beds\": 4, \"baths\": 2.0, \"sqft\": 2054, \"type\": \"Residential\", \"price\": 381942, \"latitude\": 38.509819, \"longitude\": -121.519661}, {\"city\": \"SACRAMENTO\", \"zip\": \"z95822\", \"beds\": 3, \"baths\": 2.0, \"sqft\": 1446, \"type\": \"Residential\", \"price\": 275086, \"latitude\": 38.502194, \"longitude\": -121.490795}, {\"city\": \"SACRAMENTO\", \"zip\": \"z95827\", \"beds\": 3, \"baths\": 2.0, \"sqft\": 1520, \"type\": \"Residential\", \"price\": 170000, \"latitude\": 38.564, \"longitude\": -121.320023}, {\"city\": \"WALNUT_GROVE\", \"zip\": \"z95690\", \"beds\": 3, \"baths\": 1.0, \"sqft\": 1727, \"type\": \"Residential\", \"price\": 380000, \"latitude\": 38.247659, \"longitude\": -121.515129}, {\"city\": \"SACRAMENTO\", \"zip\": \"z95834\", \"beds\": 3, \"baths\": 2.0, \"sqft\": 1511, \"type\": \"Residential\", \"price\": 208000, \"latitude\": 38.653439, \"longitude\": -121.535169}, {\"city\": \"SACRAMENTO\", \"zip\": \"z95828\", \"beds\": 3, \"baths\": 2.0, \"sqft\": 1269, \"type\": \"Residential\", \"price\": 244000, \"latitude\": 38.478198, \"longitude\": -121.412911}, {\"city\": \"ELK_GROVE\", \"zip\": \"z95757\", \"beds\": 5, \"baths\": 3.0, \"sqft\": 3389, \"type\": \"Residential\", \"price\": 370000, \"latitude\": 38.405224, \"longitude\": -121.479275}, {\"city\": \"SACRAMENTO\", \"zip\": \"z95828\", \"beds\": 3, \"baths\": 2.0, \"sqft\": 2161, \"type\": \"Residential\", \"price\": 170250, \"latitude\": 38.479343, \"longitude\": -121.372553}, {\"city\": \"SACRAMENTO\", \"zip\": \"z95822\", \"beds\": 3, \"baths\": 2.0, \"sqft\": 1120, \"type\": \"Residential\", \"price\": 125000, \"latitude\": 38.514665, \"longitude\": -121.480411}, {\"city\": \"SACRAMENTO\", \"zip\": \"z95864\", \"beds\": 3, \"baths\": 1.0, \"sqft\": 1643, \"type\": \"Residential\", \"price\": 99000, \"latitude\": 38.588672, \"longitude\": -121.373916}, {\"city\": \"ANTELOPE\", \"zip\": \"z95843\", \"beds\": 3, \"baths\": 2.0, \"sqft\": 1088, \"type\": \"Residential\", \"price\": 126640, \"latitude\": 38.70974, \"longitude\": -121.37377}, {\"city\": \"ELK_GROVE\", \"zip\": \"z95624\", \"beds\": 3, \"baths\": 2.0, \"sqft\": 1465, \"type\": \"Residential\", \"price\": 225000, \"latitude\": 38.419214, \"longitude\": -121.348533}, {\"city\": \"SACRAMENTO\", \"zip\": \"z95823\", \"beds\": 3, \"baths\": 2.0, \"sqft\": 1265, \"type\": \"Residential\", \"price\": 179000, \"latitude\": 38.461283, \"longitude\": -121.434322}, {\"city\": \"CITRUS_HEIGHTS\", \"zip\": \"z95621\", \"beds\": 3, \"baths\": 2.0, \"sqft\": 1343, \"type\": \"Residential\", \"price\": 284893, \"latitude\": 38.715853, \"longitude\": -121.317095}, {\"city\": \"ROSEVILLE\", \"zip\": \"z95747\", \"beds\": 4, \"baths\": 3.0, \"sqft\": 2806, \"type\": \"Residential\", \"price\": 511000, \"latitude\": 38.780051, \"longitude\": -121.378718}, {\"city\": \"SACRAMENTO\", \"zip\": \"z95842\", \"beds\": 4, \"baths\": 3.0, \"sqft\": 1968, \"type\": \"Residential\", \"price\": 205000, \"latitude\": 38.68607, \"longitude\": -121.342369}, {\"city\": \"SACRAMENTO\", \"zip\": \"z95815\", \"beds\": 2, \"baths\": 1.0, \"sqft\": 795, \"type\": \"Residential\", \"price\": 207973, \"latitude\": 38.612694, \"longitude\": -121.456669}, {\"city\": \"SACRAMENTO\", \"zip\": \"z95826\", \"beds\": 3, \"baths\": 2.0, \"sqft\": 1200, \"type\": \"Residential\", \"price\": 176095, \"latitude\": 38.553275, \"longitude\": -121.346218}, {\"city\": \"SACRAMENTO\", \"zip\": \"z95828\", \"beds\": 2, \"baths\": 2.0, \"sqft\": 1132, \"type\": \"Residential\", \"price\": 145000, \"latitude\": 38.47955, \"longitude\": -121.410867}, {\"city\": \"SACRAMENTO\", \"zip\": \"z95834\", \"beds\": 3, \"baths\": 2.0, \"sqft\": 1441, \"type\": \"Residential\", \"price\": 225000, \"latitude\": 38.638882, \"longitude\": -121.531883}, {\"city\": \"SACRAMENTO\", \"zip\": \"z95815\", \"beds\": 2, \"baths\": 1.0, \"sqft\": 832, \"type\": \"Residential\", \"price\": 96140, \"latitude\": 38.62391, \"longitude\": -121.439208}, {\"city\": \"RIO_LINDA\", \"zip\": \"z95673\", \"beds\": 3, \"baths\": 2.0, \"sqft\": 1182, \"type\": \"Residential\", \"price\": 164000, \"latitude\": 38.687659, \"longitude\": -121.4633}, {\"city\": \"CITRUS_HEIGHTS\", \"zip\": \"z95610\", \"beds\": 3, \"baths\": 2.0, \"sqft\": 1410, \"type\": \"Residential\", \"price\": 160000, \"latitude\": 38.689239, \"longitude\": -121.267737}, {\"city\": \"RIO_LINDA\", \"zip\": \"z95673\", \"beds\": 3, \"baths\": 2.0, \"sqft\": 1356, \"type\": \"Residential\", \"price\": 121630, \"latitude\": 38.689999, \"longitude\": -121.46322}, {\"city\": \"CAMERON_PARK\", \"zip\": \"z95682\", \"beds\": 3, \"baths\": 1.5, \"sqft\": 1415, \"type\": \"Residential\", \"price\": 201000, \"latitude\": 38.694052, \"longitude\": -120.995589}, {\"city\": \"SACRAMENTO\", \"zip\": \"z95838\", \"beds\": 2, \"baths\": 1.0, \"sqft\": 836, \"type\": \"Residential\", \"price\": 59222, \"latitude\": 38.631913, \"longitude\": -121.434879}, {\"city\": \"SACRAMENTO\", \"zip\": \"z95838\", \"beds\": 3, \"baths\": 1.0, \"sqft\": 1082, \"type\": \"Residential\", \"price\": 190000, \"latitude\": 38.659434, \"longitude\": -121.455236}, {\"city\": \"ANTELOPE\", \"zip\": \"z95843\", \"beds\": 3, \"baths\": 2.0, \"sqft\": 1479, \"type\": \"Residential\", \"price\": 205000, \"latitude\": 38.724083, \"longitude\": -121.3584}, {\"city\": \"CAMERON_PARK\", \"zip\": \"z95682\", \"beds\": 2, \"baths\": 2.5, \"sqft\": 1498, \"type\": \"Residential\", \"price\": 195000, \"latitude\": 38.690504, \"longitude\": -120.996245}, {\"city\": \"ELK_GROVE\", \"zip\": \"z95758\", \"beds\": 3, \"baths\": 2.0, \"sqft\": 1485, \"type\": \"Residential\", \"price\": 380578, \"latitude\": 38.429139, \"longitude\": -121.423444}, {\"city\": \"SACRAMENTO\", \"zip\": \"z95835\", \"beds\": 3, \"baths\": 2.0, \"sqft\": 1120, \"type\": \"Residential\", \"price\": 209000, \"latitude\": 38.681952, \"longitude\": -121.505009}, {\"city\": \"ELK_GROVE\", \"zip\": \"z95758\", \"beds\": 5, \"baths\": 3.0, \"sqft\": 2790, \"type\": \"Residential\", \"price\": 258000, \"latitude\": 38.42568, \"longitude\": -121.438062}, {\"city\": \"ELK_GROVE\", \"zip\": \"z95757\", \"beds\": 5, \"baths\": 3.0, \"sqft\": 2877, \"type\": \"Residential\", \"price\": 349000, \"latitude\": 38.386239, \"longitude\": -121.448159}, {\"city\": \"RANCHO_CORDOVA\", \"zip\": \"z95742\", \"beds\": 4, \"baths\": 3.0, \"sqft\": 3042, \"type\": \"Residential\", \"price\": 396000, \"latitude\": 38.527384, \"longitude\": -121.233531}, {\"city\": \"GALT\", \"zip\": \"z95632\", \"beds\": 3, \"baths\": 2.0, \"sqft\": 1406, \"type\": \"Residential\", \"price\": 178760, \"latitude\": 38.287789, \"longitude\": -121.294715}, {\"city\": \"ANTELOPE\", \"zip\": \"z95843\", \"beds\": 2, \"baths\": 2.0, \"sqft\": 1043, \"type\": \"Residential\", \"price\": 161250, \"latitude\": 38.72027, \"longitude\": -121.331555}, {\"city\": \"CARMICHAEL\", \"zip\": \"z95608\", \"beds\": 4, \"baths\": 3.0, \"sqft\": 3357, \"type\": \"Residential\", \"price\": 668365, \"latitude\": 38.63558, \"longitude\": -121.353639}, {\"city\": \"LINCOLN\", \"zip\": \"z95648\", \"beds\": 4, \"baths\": 2.0, \"sqft\": 2048, \"type\": \"Residential\", \"price\": 306000, \"latitude\": 38.865017, \"longitude\": -121.32302}, {\"city\": \"SACRAMENTO\", \"zip\": \"z95823\", \"beds\": 4, \"baths\": 2.0, \"sqft\": 1392, \"type\": \"Residential\", \"price\": 150000, \"latitude\": 38.46654, \"longitude\": -121.419029}, {\"city\": \"RANCHO_MURIETA\", \"zip\": \"z95683\", \"beds\": 4, \"baths\": 3.0, \"sqft\": 2734, \"type\": \"Residential\", \"price\": 370500, \"latitude\": 38.4874, \"longitude\": -121.075129}, {\"city\": \"SACRAMENTO\", \"zip\": \"z95824\", \"beds\": 3, \"baths\": 1.0, \"sqft\": 1050, \"type\": \"Residential\", \"price\": 123225, \"latitude\": 38.518942, \"longitude\": -121.430158}, {\"city\": \"ROCKLIN\", \"zip\": \"z95765\", \"beds\": 4, \"baths\": 2.0, \"sqft\": 1888, \"type\": \"Residential\", \"price\": 325000, \"latitude\": 38.82273, \"longitude\": -121.26424}, {\"city\": \"ANTELOPE\", \"zip\": \"z95843\", \"beds\": 4, \"baths\": 3.0, \"sqft\": 2085, \"type\": \"Residential\", \"price\": 408431, \"latitude\": 38.727649, \"longitude\": -121.385656}, {\"city\": \"ELK_GROVE\", \"zip\": \"z95758\", \"beds\": 4, \"baths\": 2.0, \"sqft\": 1844, \"type\": \"Residential\", \"price\": 241000, \"latitude\": 38.43461, \"longitude\": -121.429316}, {\"city\": \"GALT\", \"zip\": \"z95632\", \"beds\": 4, \"baths\": 3.0, \"sqft\": 2307, \"type\": \"Residential\", \"price\": 300000, \"latitude\": 38.272942, \"longitude\": -121.289148}, {\"city\": \"SACRAMENTO\", \"zip\": \"z95838\", \"beds\": 4, \"baths\": 2.0, \"sqft\": 1570, \"type\": \"Residential\", \"price\": 126854, \"latitude\": 38.631925, \"longitude\": -121.427775}, {\"city\": \"SACRAMENTO\", \"zip\": \"z95828\", \"beds\": 3, \"baths\": 2.0, \"sqft\": 1117, \"type\": \"Residential\", \"price\": 149000, \"latitude\": 38.473288, \"longitude\": -121.3963}, {\"city\": \"SACRAMENTO\", \"zip\": \"z95823\", \"beds\": 3, \"baths\": 2.0, \"sqft\": 1089, \"type\": \"Residential\", \"price\": 129500, \"latitude\": 38.466388, \"longitude\": -121.458861}, {\"city\": \"SACRAMENTO\", \"zip\": \"z95824\", \"beds\": 2, \"baths\": 1.0, \"sqft\": 746, \"type\": \"Residential\", \"price\": 78400, \"latitude\": 38.518044, \"longitude\": -121.443555}, {\"city\": \"ANTELOPE\", \"zip\": \"z95843\", \"beds\": 4, \"baths\": 3.0, \"sqft\": 2652, \"type\": \"Residential\", \"price\": 239700, \"latitude\": 38.725079, \"longitude\": -121.387698}, {\"city\": \"SACRAMENTO\", \"zip\": \"z95816\", \"beds\": 4, \"baths\": 3.0, \"sqft\": 1939, \"type\": \"Residential\", \"price\": 215000, \"latitude\": 38.573844, \"longitude\": -121.462839}, {\"city\": \"SACRAMENTO\", \"zip\": \"z95828\", \"beds\": 4, \"baths\": 2.0, \"sqft\": 1146, \"type\": \"Residential\", \"price\": 149593, \"latitude\": 38.49857, \"longitude\": -121.420925}, {\"city\": \"SACRAMENTO\", \"zip\": \"z95834\", \"beds\": 3, \"baths\": 2.0, \"sqft\": 1232, \"type\": \"Residential\", \"price\": 210000, \"latitude\": 38.640807, \"longitude\": -121.533522}, {\"city\": \"SACRAMENTO\", \"zip\": \"z95815\", \"beds\": 2, \"baths\": 1.0, \"sqft\": 800, \"type\": \"Residential\", \"price\": 78000, \"latitude\": 38.624678, \"longitude\": -121.439203}, {\"city\": \"SACRAMENTO\", \"zip\": \"z95826\", \"beds\": 3, \"baths\": 1.0, \"sqft\": 1029, \"type\": \"Residential\", \"price\": 168750, \"latitude\": 38.544374, \"longitude\": -121.370874}, {\"city\": \"SACRAMENTO\", \"zip\": \"z95823\", \"beds\": 3, \"baths\": 2.0, \"sqft\": 1418, \"type\": \"Residential\", \"price\": 146250, \"latitude\": 38.48742, \"longitude\": -121.462459}, {\"city\": \"SACRAMENTO\", \"zip\": \"z95815\", \"beds\": 2, \"baths\": 1.0, \"sqft\": 796, \"type\": \"Residential\", \"price\": 68880, \"latitude\": 38.618305, \"longitude\": -121.443839}, {\"city\": \"ROSEVILLE\", \"zip\": \"z95678\", \"beds\": 3, \"baths\": 2.0, \"sqft\": 1758, \"type\": \"Residential\", \"price\": 217500, \"latitude\": 38.756149, \"longitude\": -121.306479}, {\"city\": \"SACRAMENTO\", \"zip\": \"z95828\", \"beds\": 3, \"baths\": 1.0, \"sqft\": 958, \"type\": \"Residential\", \"price\": 244960, \"latitude\": 38.502519, \"longitude\": -121.420769}, {\"city\": \"SACRAMENTO\", \"zip\": \"z95824\", \"beds\": 3, \"baths\": 1.0, \"sqft\": 1060, \"type\": \"Residential\", \"price\": 145000, \"latitude\": 38.522015, \"longitude\": -121.438713}, {\"city\": \"ROCKLIN\", \"zip\": \"z95765\", \"beds\": 4, \"baths\": 2.0, \"sqft\": 2607, \"type\": \"Residential\", \"price\": 402000, \"latitude\": 38.805749, \"longitude\": -121.280931}, {\"city\": \"SACRAMENTO\", \"zip\": \"z95835\", \"beds\": 3, \"baths\": 2.5, \"sqft\": 1718, \"type\": \"Residential\", \"price\": 250000, \"latitude\": 38.676658, \"longitude\": -121.528128}, {\"city\": \"NORTH_HIGHLANDS\", \"zip\": \"z95660\", \"beds\": 3, \"baths\": 2.0, \"sqft\": 1207, \"type\": \"Residential\", \"price\": 119250, \"latitude\": 38.656131, \"longitude\": -121.377265}, {\"city\": \"POLLOCK_PINES\", \"zip\": \"z95726\", \"beds\": 3, \"baths\": 2.0, \"sqft\": 1380, \"type\": \"Residential\", \"price\": 265000, \"latitude\": 38.708315, \"longitude\": -120.603872}, {\"city\": \"SACRAMENTO\", \"zip\": \"z95833\", \"beds\": 3, \"baths\": 2.0, \"sqft\": 1582, \"type\": \"Residential\", \"price\": 172000, \"latitude\": 38.622794, \"longitude\": -121.499173}, {\"city\": \"SACRAMENTO\", \"zip\": \"z95834\", \"beds\": 3, \"baths\": 2.0, \"sqft\": 1672, \"type\": \"Condo\", \"price\": 265000, \"latitude\": 38.648879, \"longitude\": -121.544023}, {\"city\": \"SACRAMENTO\", \"zip\": \"z95820\", \"beds\": 5, \"baths\": 2.0, \"sqft\": 1516, \"type\": \"Residential\", \"price\": 150000, \"latitude\": 38.534508, \"longitude\": -121.467907}, {\"city\": \"MATHER\", \"zip\": \"z95655\", \"beds\": 3, \"baths\": 2.0, \"sqft\": 2093, \"type\": \"Residential\", \"price\": 237800, \"latitude\": 38.547991, \"longitude\": -121.280483}, {\"city\": \"GOLD_RIVER\", \"zip\": \"z95670\", \"beds\": 4, \"baths\": 2.0, \"sqft\": 3037, \"type\": \"Residential\", \"price\": 528000, \"latitude\": 38.629299, \"longitude\": -121.249021}, {\"city\": \"SACRAMENTO\", \"zip\": \"z95814\", \"beds\": 3, \"baths\": 3.0, \"sqft\": 1627, \"type\": \"Residential\", \"price\": 391000, \"latitude\": 38.58355, \"longitude\": -121.487289}, {\"city\": \"LINCOLN\", \"zip\": \"z95648\", \"beds\": 5, \"baths\": 4.0, \"sqft\": 3913, \"type\": \"Residential\", \"price\": 433500, \"latitude\": 38.860007, \"longitude\": -121.310946}, {\"city\": \"ORANGEVALE\", \"zip\": \"z95662\", \"beds\": 3, \"baths\": 2.0, \"sqft\": 1196, \"type\": \"Residential\", \"price\": 260000, \"latitude\": 38.679409, \"longitude\": -121.219107}, {\"city\": \"PLACERVILLE\", \"zip\": \"z95667\", \"beds\": 4, \"baths\": 2.5, \"sqft\": 2716, \"type\": \"Residential\", \"price\": 371086, \"latitude\": 38.733155, \"longitude\": -120.748039}, {\"city\": \"SACRAMENTO\", \"zip\": \"z95827\", \"beds\": 3, \"baths\": 2.0, \"sqft\": 1092, \"type\": \"Residential\", \"price\": 150000, \"latitude\": 38.559641, \"longitude\": -121.32316}, {\"city\": \"ROSEVILLE\", \"zip\": \"z95747\", \"beds\": 4, \"baths\": 3.0, \"sqft\": 2242, \"type\": \"Residential\", \"price\": 412500, \"latitude\": 38.808581, \"longitude\": -121.32785}, {\"city\": \"ELK_GROVE\", \"zip\": \"z95624\", \"beds\": 4, \"baths\": 2.0, \"sqft\": 1609, \"type\": \"Residential\", \"price\": 204750, \"latitude\": 38.438818, \"longitude\": -121.37443}, {\"city\": \"GRANITE_BAY\", \"zip\": \"z95746\", \"beds\": 5, \"baths\": 3.0, \"sqft\": 2896, \"type\": \"Residential\", \"price\": 676200, \"latitude\": 38.723545, \"longitude\": -121.216025}, {\"city\": \"ELK_GROVE\", \"zip\": \"z95758\", \"beds\": 4, \"baths\": 3.0, \"sqft\": 1739, \"type\": \"Residential\", \"price\": 221000, \"latitude\": 38.417026, \"longitude\": -121.416821}, {\"city\": \"LINCOLN\", \"zip\": \"z95648\", \"beds\": 3, \"baths\": 2.0, \"sqft\": 1104, \"type\": \"Residential\", \"price\": 170000, \"latitude\": 38.893168, \"longitude\": -121.305398}, {\"city\": \"PENRYN\", \"zip\": \"z95663\", \"beds\": 3, \"baths\": 2.0, \"sqft\": 1320, \"type\": \"Residential\", \"price\": 506688, \"latitude\": 38.862708, \"longitude\": -121.162092}, {\"city\": \"SACRAMENTO\", \"zip\": \"z95820\", \"beds\": 4, \"baths\": 2.0, \"sqft\": 1462, \"type\": \"Residential\", \"price\": 121500, \"latitude\": 38.528479, \"longitude\": -121.411806}, {\"city\": \"CAMERON_PARK\", \"zip\": \"z95682\", \"beds\": 4, \"baths\": 2.0, \"sqft\": 2376, \"type\": \"Residential\", \"price\": 423000, \"latitude\": 38.687072, \"longitude\": -121.004729}, {\"city\": \"AUBURN\", \"zip\": \"z95603\", \"beds\": 4, \"baths\": 3.0, \"sqft\": 2278, \"type\": \"Residential\", \"price\": 420454, \"latitude\": 38.935579, \"longitude\": -121.079018}, {\"city\": \"ELK_GROVE\", \"zip\": \"z95624\", \"beds\": 4, \"baths\": 2.0, \"sqft\": 1993, \"type\": \"Residential\", \"price\": 287417, \"latitude\": 38.4439, \"longitude\": -121.37255}, {\"city\": \"GALT\", \"zip\": \"z95632\", \"beds\": 5, \"baths\": 4.0, \"sqft\": 3746, \"type\": \"Residential\", \"price\": 420000, \"latitude\": 38.271646, \"longitude\": -121.286848}, {\"city\": \"ELK_GROVE\", \"zip\": \"z95624\", \"beds\": 3, \"baths\": 2.0, \"sqft\": 1416, \"type\": \"Residential\", \"price\": 216000, \"latitude\": 38.451398, \"longitude\": -121.366614}, {\"city\": \"SACRAMENTO\", \"zip\": \"z95841\", \"beds\": 3, \"baths\": 2.0, \"sqft\": 1120, \"type\": \"Residential\", \"price\": 178000, \"latitude\": 38.658734, \"longitude\": -121.357196}, {\"city\": \"ELK_GROVE\", \"zip\": \"z95758\", \"beds\": 3, \"baths\": 3.0, \"sqft\": 1718, \"type\": \"Residential\", \"price\": 261000, \"latitude\": 38.416916, \"longitude\": -121.407554}, {\"city\": \"EL_DORADO_HILLS\", \"zip\": \"z95762\", \"beds\": 3, \"baths\": 2.0, \"sqft\": 1362, \"type\": \"Residential\", \"price\": 235738, \"latitude\": 38.655245, \"longitude\": -121.075915}, {\"city\": \"SACRAMENTO\", \"zip\": \"z95835\", \"beds\": 4, \"baths\": 2.0, \"sqft\": 2372, \"type\": \"Residential\", \"price\": 341000, \"latitude\": 38.66841, \"longitude\": -121.494639}, {\"city\": \"SACRAMENTO\", \"zip\": \"z95834\", \"beds\": 3, \"baths\": 2.0, \"sqft\": 1202, \"type\": \"Residential\", \"price\": 143500, \"latitude\": 38.631056, \"longitude\": -121.48508}, {\"city\": \"SACRAMENTO\", \"zip\": \"z95831\", \"beds\": 4, \"baths\": 2.0, \"sqft\": 2169, \"type\": \"Residential\", \"price\": 311518, \"latitude\": 38.490408, \"longitude\": -121.547664}, {\"city\": \"SACRAMENTO\", \"zip\": \"z95823\", \"beds\": 3, \"baths\": 2.0, \"sqft\": 1478, \"type\": \"Residential\", \"price\": 231477, \"latitude\": 38.491399, \"longitude\": -121.443547}, {\"city\": \"RIO_LINDA\", \"zip\": \"z95673\", \"beds\": 2, \"baths\": 1.0, \"sqft\": 844, \"type\": \"Residential\", \"price\": 113263, \"latitude\": 38.689591, \"longitude\": -121.452239}, {\"city\": \"SACRAMENTO\", \"zip\": \"z95842\", \"beds\": 2, \"baths\": 2.0, \"sqft\": 967, \"type\": \"Residential\", \"price\": 114800, \"latitude\": 38.682279, \"longitude\": -121.352817}, {\"city\": \"RIO_LINDA\", \"zip\": \"z95673\", \"beds\": 1, \"baths\": 2.0, \"sqft\": 1000, \"type\": \"Residential\", \"price\": 30000, \"latitude\": 38.687172, \"longitude\": -121.463933}, {\"city\": \"SACRAMENTO\", \"zip\": \"z95832\", \"beds\": 3, \"baths\": 2.0, \"sqft\": 1300, \"type\": \"Residential\", \"price\": 140800, \"latitude\": 38.47807, \"longitude\": -121.48114}, {\"city\": \"GALT\", \"zip\": \"z95632\", \"beds\": 4, \"baths\": 2.0, \"sqft\": 1606, \"type\": \"Residential\", \"price\": 353767, \"latitude\": 38.2535, \"longitude\": -121.31812}, {\"city\": \"SACRAMENTO\", \"zip\": \"z95823\", \"beds\": 3, \"baths\": 2.0, \"sqft\": 1306, \"type\": \"Residential\", \"price\": 245000, \"latitude\": 38.46179, \"longitude\": -121.445371}, {\"city\": \"RANCHO_CORDOVA\", \"zip\": \"z95742\", \"beds\": 5, \"baths\": 3.0, \"sqft\": 3479, \"type\": \"Residential\", \"price\": 390000, \"latitude\": 38.5357, \"longitude\": -121.2249}, {\"city\": \"SACRAMENTO\", \"zip\": \"z95835\", \"beds\": 3, \"baths\": 2.0, \"sqft\": 1170, \"type\": \"Residential\", \"price\": 176250, \"latitude\": 38.68271, \"longitude\": -121.501697}, {\"city\": \"CITRUS_HEIGHTS\", \"zip\": \"z95610\", \"beds\": 3, \"baths\": 2.0, \"sqft\": 1882, \"type\": \"Residential\", \"price\": 219000, \"latitude\": 38.715423, \"longitude\": -121.246743}, {\"city\": \"SACRAMENTO\", \"zip\": \"z95828\", \"beds\": 4, \"baths\": 3.0, \"sqft\": 1940, \"type\": \"Residential\", \"price\": 208000, \"latitude\": 38.468639, \"longitude\": -121.403265}, {\"city\": \"SACRAMENTO\", \"zip\": \"z95815\", \"beds\": 2, \"baths\": 1.0, \"sqft\": 1011, \"type\": \"Residential\", \"price\": 85000, \"latitude\": 38.6238, \"longitude\": -121.439872}, {\"city\": \"GALT\", \"zip\": \"z95632\", \"beds\": 3, \"baths\": 1.0, \"sqft\": 1080, \"type\": \"Residential\", \"price\": 106716, \"latitude\": 38.241514, \"longitude\": -121.312199}, {\"city\": \"SACRAMENTO\", \"zip\": \"z95834\", \"beds\": 5, \"baths\": 3.0, \"sqft\": 2258, \"type\": \"Residential\", \"price\": 232500, \"latitude\": 38.639891, \"longitude\": -121.537603}, {\"city\": \"SACRAMENTO\", \"zip\": \"z95831\", \"beds\": 3, \"baths\": 3.0, \"sqft\": 2052, \"type\": \"Residential\", \"price\": 415000, \"latitude\": 38.487885, \"longitude\": -121.545947}, {\"city\": \"CITRUS_HEIGHTS\", \"zip\": \"z95621\", \"beds\": 4, \"baths\": 2.0, \"sqft\": 1280, \"type\": \"Residential\", \"price\": 167293, \"latitude\": 38.715781, \"longitude\": -121.298519}, {\"city\": \"SACRAMENTO\", \"zip\": \"z95822\", \"beds\": 3, \"baths\": 2.0, \"sqft\": 1646, \"type\": \"Residential\", \"price\": 150000, \"latitude\": 38.489759, \"longitude\": -121.474754}, {\"city\": \"CITRUS_HEIGHTS\", \"zip\": \"z95621\", \"beds\": 4, \"baths\": 3.0, \"sqft\": 1892, \"type\": \"Residential\", \"price\": 189836, \"latitude\": 38.699714, \"longitude\": -121.311635}, {\"city\": \"EL_DORADO_HILLS\", \"zip\": \"z95762\", \"beds\": 3, \"baths\": 3.0, \"sqft\": 1873, \"type\": \"Residential\", \"price\": 352000, \"latitude\": 38.691299, \"longitude\": -121.081752}, {\"city\": \"RIO_LINDA\", \"zip\": \"z95673\", \"beds\": 3, \"baths\": 1.0, \"sqft\": 1160, \"type\": \"Residential\", \"price\": 249862, \"latitude\": 38.683674, \"longitude\": -121.435204}, {\"city\": \"EL_DORADO_HILLS\", \"zip\": \"z95762\", \"beds\": 4, \"baths\": 3.5, \"sqft\": 3782, \"type\": \"Residential\", \"price\": 879000, \"latitude\": 38.706692, \"longitude\": -121.058869}, {\"city\": \"LINCOLN\", \"zip\": \"z95648\", \"beds\": 4, \"baths\": 2.0, \"sqft\": 2126, \"type\": \"Residential\", \"price\": 202500, \"latitude\": 38.879192, \"longitude\": -121.309477}, {\"city\": \"SACRAMENTO\", \"zip\": \"z95838\", \"beds\": 3, \"baths\": 2.0, \"sqft\": 1211, \"type\": \"Residential\", \"price\": 135000, \"latitude\": 38.658478, \"longitude\": -121.450409}, {\"city\": \"ANTELOPE\", \"zip\": \"z95843\", \"beds\": 3, \"baths\": 2.0, \"sqft\": 1517, \"type\": \"Residential\", \"price\": 212000, \"latitude\": 38.722959, \"longitude\": -121.347115}, {\"city\": \"SACRAMENTO\", \"zip\": \"z95834\", \"beds\": 3, \"baths\": 2.0, \"sqft\": 1601, \"type\": \"Residential\", \"price\": 124100, \"latitude\": 38.628631, \"longitude\": -121.488097}, {\"city\": \"SACRAMENTO\", \"zip\": \"z95838\", \"beds\": 3, \"baths\": 2.0, \"sqft\": 1430, \"type\": \"Residential\", \"price\": 205878, \"latitude\": 38.641727, \"longitude\": -121.412703}, {\"city\": \"SACRAMENTO\", \"zip\": \"z95818\", \"beds\": 2, \"baths\": 1.0, \"sqft\": 1304, \"type\": \"Residential\", \"price\": 413500, \"latitude\": 38.551611, \"longitude\": -121.504437}, {\"city\": \"SACRAMENTO\", \"zip\": \"z95835\", \"beds\": 4, \"baths\": 3.0, \"sqft\": 2550, \"type\": \"Residential\", \"price\": 277980, \"latitude\": 38.666074, \"longitude\": -121.509743}, {\"city\": \"RANCHO_CORDOVA\", \"zip\": \"z95742\", \"beds\": 4, \"baths\": 2.0, \"sqft\": 2711, \"type\": \"Residential\", \"price\": 266000, \"latitude\": 38.551046, \"longitude\": -121.239411}, {\"city\": \"SACRAMENTO\", \"zip\": \"z95823\", \"beds\": 3, \"baths\": 2.0, \"sqft\": 1089, \"type\": \"Residential\", \"price\": 95625, \"latitude\": 38.466938, \"longitude\": -121.455631}, {\"city\": \"SACRAMENTO\", \"zip\": \"z95826\", \"beds\": 3, \"baths\": 1.0, \"sqft\": 1356, \"type\": \"Residential\", \"price\": 195000, \"latitude\": 38.544368, \"longitude\": -121.369979}, {\"city\": \"SACRAMENTO\", \"zip\": \"z95835\", \"beds\": 4, \"baths\": 2.0, \"sqft\": 2218, \"type\": \"Residential\", \"price\": 311328, \"latitude\": 38.68237, \"longitude\": -121.539147}, {\"city\": \"RIO_LINDA\", \"zip\": \"z95673\", \"beds\": 2, \"baths\": 2.0, \"sqft\": 1690, \"type\": \"Residential\", \"price\": 136500, \"latitude\": 38.691104, \"longitude\": -121.451832}, {\"city\": \"GALT\", \"zip\": \"z95632\", \"beds\": 5, \"baths\": 3.5, \"sqft\": 3499, \"type\": \"Residential\", \"price\": 355000, \"latitude\": 38.287785, \"longitude\": -121.289903}, {\"city\": \"NORTH_HIGHLANDS\", \"zip\": \"z95660\", \"beds\": 3, \"baths\": 2.0, \"sqft\": 1152, \"type\": \"Residential\", \"price\": 134555, \"latitude\": 38.691161, \"longitude\": -121.37192}, {\"city\": \"SACRAMENTO\", \"zip\": \"z95823\", \"beds\": 3, \"baths\": 2.0, \"sqft\": 1677, \"type\": \"Residential\", \"price\": 195500, \"latitude\": 38.46734, \"longitude\": -121.419843}, {\"city\": \"SACRAMENTO\", \"zip\": \"z95832\", \"beds\": 3, \"baths\": 2.0, \"sqft\": 1232, \"type\": \"Residential\", \"price\": 170000, \"latitude\": 38.475853, \"longitude\": -121.477039}, {\"city\": \"RANCHO_CORDOVA\", \"zip\": \"z95742\", \"beds\": 5, \"baths\": 3.0, \"sqft\": 3281, \"type\": \"Residential\", \"price\": 395100, \"latitude\": 38.551083, \"longitude\": -121.237476}, {\"city\": \"SACRAMENTO\", \"zip\": \"z95820\", \"beds\": 2, \"baths\": 1.0, \"sqft\": 722, \"type\": \"Residential\", \"price\": 145000, \"latitude\": 38.532727, \"longitude\": -121.470783}, {\"city\": \"SACRAMENTO\", \"zip\": \"z95825\", \"beds\": 2, \"baths\": 1.0, \"sqft\": 810, \"type\": \"Residential\", \"price\": 156000, \"latitude\": 38.609982, \"longitude\": -121.419263}, {\"city\": \"SACRAMENTO\", \"zip\": \"z95825\", \"beds\": 4, \"baths\": 2.0, \"sqft\": 1751, \"type\": \"Residential\", \"price\": 225000, \"latitude\": 38.606603, \"longitude\": -121.394147}, {\"city\": \"ROSEVILLE\", \"zip\": \"z95678\", \"beds\": 3, \"baths\": 2.5, \"sqft\": 1462, \"type\": \"Condo\", \"price\": 212500, \"latitude\": 38.793533, \"longitude\": -121.289685}, {\"city\": \"ELK_GROVE\", \"zip\": \"z95758\", \"beds\": 5, \"baths\": 3.0, \"sqft\": 2494, \"type\": \"Residential\", \"price\": 297000, \"latitude\": 38.442031, \"longitude\": -121.410873}, {\"city\": \"LOOMIS\", \"zip\": \"z95650\", \"beds\": 4, \"baths\": 4.0, \"sqft\": 1624, \"type\": \"Residential\", \"price\": 839000, \"latitude\": 38.813337, \"longitude\": -121.133348}, {\"city\": \"ROSEVILLE\", \"zip\": \"z95747\", \"beds\": 5, \"baths\": 3.0, \"sqft\": 3151, \"type\": \"Residential\", \"price\": 438000, \"latitude\": 38.804773, \"longitude\": -121.341195}, {\"city\": \"SACRAMENTO\", \"zip\": \"z95829\", \"beds\": 5, \"baths\": 4.0, \"sqft\": 3863, \"type\": \"Residential\", \"price\": 598695, \"latitude\": 38.45326, \"longitude\": -121.32573}, {\"city\": \"SACRAMENTO\", \"zip\": \"z95817\", \"beds\": 3, \"baths\": 1.0, \"sqft\": 1683, \"type\": \"Residential\", \"price\": 365000, \"latitude\": 38.553596, \"longitude\": -121.459483}, {\"city\": \"SACRAMENTO\", \"zip\": \"z95833\", \"beds\": 3, \"baths\": 2.0, \"sqft\": 1328, \"type\": \"Residential\", \"price\": 188335, \"latitude\": 38.609864, \"longitude\": -121.492304}, {\"city\": \"ANTELOPE\", \"zip\": \"z95843\", \"beds\": 4, \"baths\": 3.0, \"sqft\": 1915, \"type\": \"Residential\", \"price\": 240000, \"latitude\": 38.706209, \"longitude\": -121.369509}, {\"city\": \"ELK_GROVE\", \"zip\": \"z95757\", \"beds\": 5, \"baths\": 3.0, \"sqft\": 2592, \"type\": \"Residential\", \"price\": 303000, \"latitude\": 38.38912, \"longitude\": -121.434389}, {\"city\": \"SACRAMENTO\", \"zip\": \"z95835\", \"beds\": 4, \"baths\": 2.5, \"sqft\": 1980, \"type\": \"Residential\", \"price\": 270000, \"latitude\": 38.676937, \"longitude\": -121.529244}, {\"city\": \"SACRAMENTO\", \"zip\": \"z95820\", \"beds\": 4, \"baths\": 2.0, \"sqft\": 1448, \"type\": \"Residential\", \"price\": 114000, \"latitude\": 38.53361, \"longitude\": -121.469308}, {\"city\": \"SACRAMENTO\", \"zip\": \"z95825\", \"beds\": 3, \"baths\": 1.0, \"sqft\": 1520, \"type\": \"Residential\", \"price\": 255000, \"latitude\": 38.599449, \"longitude\": -121.400305}, {\"city\": \"SACRAMENTO\", \"zip\": \"z95817\", \"beds\": 2, \"baths\": 1.0, \"sqft\": 623, \"type\": \"Residential\", \"price\": 62050, \"latitude\": 38.546798, \"longitude\": -121.460038}, {\"city\": \"SACRAMENTO\", \"zip\": \"z95815\", \"beds\": 4, \"baths\": 2.0, \"sqft\": 1744, \"type\": \"Multi_Family\", \"price\": 416767, \"latitude\": 38.622359, \"longitude\": -121.457582}, {\"city\": \"LINCOLN\", \"zip\": \"z95648\", \"beds\": 4, \"baths\": 2.5, \"sqft\": 2647, \"type\": \"Residential\", \"price\": 267750, \"latitude\": 38.88156, \"longitude\": -121.301343}, {\"city\": \"NORTH_HIGHLANDS\", \"zip\": \"z95660\", \"beds\": 2, \"baths\": 2.0, \"sqft\": 1118, \"type\": \"Residential\", \"price\": 131750, \"latitude\": 38.659016, \"longitude\": -121.370457}, {\"city\": \"SACRAMENTO\", \"zip\": \"z95824\", \"beds\": 2, \"baths\": 1.0, \"sqft\": 1139, \"type\": \"Residential\", \"price\": 133105, \"latitude\": 38.520941, \"longitude\": -121.459355}, {\"city\": \"SACRAMENTO\", \"zip\": \"z95841\", \"beds\": 3, \"baths\": 1.0, \"sqft\": 1122, \"type\": \"Condo\", \"price\": 89921, \"latitude\": 38.662595, \"longitude\": -121.327813}, {\"city\": \"SACRAMENTO\", \"zip\": \"z95829\", \"beds\": 4, \"baths\": 2.0, \"sqft\": 1608, \"type\": \"Residential\", \"price\": 165750, \"latitude\": 38.467012, \"longitude\": -121.359969}, {\"city\": \"RANCHO_CORDOVA\", \"zip\": \"z95670\", \"beds\": 3, \"baths\": 2.0, \"sqft\": 1115, \"type\": \"Residential\", \"price\": 116000, \"latitude\": 38.59368, \"longitude\": -121.316054}, {\"city\": \"ROCKLIN\", \"zip\": \"z95765\", \"beds\": 3, \"baths\": 2.0, \"sqft\": 1577, \"type\": \"Residential\", \"price\": 300567, \"latitude\": 38.800539, \"longitude\": -121.260979}, {\"city\": \"SACRAMENTO\", \"zip\": \"z95822\", \"beds\": 3, \"baths\": 2.0, \"sqft\": 1276, \"type\": \"Residential\", \"price\": 320000, \"latitude\": 38.525115, \"longitude\": -121.518689}, {\"city\": \"SACRAMENTO\", \"zip\": \"z95842\", \"beds\": 5, \"baths\": 2.0, \"sqft\": 1712, \"type\": \"Residential\", \"price\": 168000, \"latitude\": 38.677003, \"longitude\": -121.354454}, {\"city\": \"SACRAMENTO\", \"zip\": \"z95838\", \"beds\": 2, \"baths\": 1.0, \"sqft\": 904, \"type\": \"Residential\", \"price\": 65000, \"latitude\": 38.636833, \"longitude\": -121.44164}, {\"city\": \"EL_DORADO_HILLS\", \"zip\": \"z95762\", \"beds\": 4, \"baths\": 2.0, \"sqft\": 2199, \"type\": \"Residential\", \"price\": 400000, \"latitude\": 38.656299, \"longitude\": -121.079783}, {\"city\": \"FOLSOM\", \"zip\": \"z95630\", \"beds\": 3, \"baths\": 2.0, \"sqft\": 2185, \"type\": \"Residential\", \"price\": 344250, \"latitude\": 38.68479, \"longitude\": -121.149199}, {\"city\": \"SACRAMENTO\", \"zip\": \"z95832\", \"beds\": 3, \"baths\": 2.0, \"sqft\": 1638, \"type\": \"Residential\", \"price\": 191675, \"latitude\": 38.477568, \"longitude\": -121.492574}, {\"city\": \"ANTELOPE\", \"zip\": \"z95843\", \"beds\": 3, \"baths\": 2.0, \"sqft\": 1567, \"type\": \"Residential\", \"price\": 261000, \"latitude\": 38.705849, \"longitude\": -121.334701}, {\"city\": \"POLLOCK_PINES\", \"zip\": \"z95726\", \"beds\": 2, \"baths\": 2.0, \"sqft\": 1284, \"type\": \"Residential\", \"price\": 280908, \"latitude\": 38.75485, \"longitude\": -120.60476}, {\"city\": \"SACRAMENTO\", \"zip\": \"z95838\", \"beds\": 3, \"baths\": 2.0, \"sqft\": 2142, \"type\": \"Residential\", \"price\": 218000, \"latitude\": 38.658466, \"longitude\": -121.460661}, {\"city\": \"RANCHO_CORDOVA\", \"zip\": \"z95670\", \"beds\": 3, \"baths\": 1.0, \"sqft\": 1098, \"type\": \"Residential\", \"price\": 120108, \"latitude\": 38.587156, \"longitude\": -121.295778}, {\"city\": \"SACRAMENTO\", \"zip\": \"z95835\", \"beds\": 1, \"baths\": 1.0, \"sqft\": 846, \"type\": \"Condo\", \"price\": 115000, \"latitude\": 38.658812, \"longitude\": -121.542345}, {\"city\": \"SACRAMENTO\", \"zip\": \"z95832\", \"beds\": 4, \"baths\": 2.0, \"sqft\": 1800, \"type\": \"Residential\", \"price\": 207000, \"latitude\": 38.47723, \"longitude\": -121.492568}, {\"city\": \"SACRAMENTO\", \"zip\": \"z95823\", \"beds\": 3, \"baths\": 2.0, \"sqft\": 1366, \"type\": \"Residential\", \"price\": 120108, \"latitude\": 38.470187, \"longitude\": -121.448149}, {\"city\": \"SACRAMENTO\", \"zip\": \"z95828\", \"beds\": 3, \"baths\": 2.0, \"sqft\": 1810, \"type\": \"Residential\", \"price\": 345746, \"latitude\": 38.475433, \"longitude\": -121.372584}, {\"city\": \"CITRUS_HEIGHTS\", \"zip\": \"z95621\", \"beds\": 3, \"baths\": 2.0, \"sqft\": 1075, \"type\": \"Residential\", \"price\": 155800, \"latitude\": 38.695863, \"longitude\": -121.300814}, {\"city\": \"SACRAMENTO\", \"zip\": \"z95823\", \"beds\": 3, \"baths\": 2.0, \"sqft\": 1144, \"type\": \"Residential\", \"price\": 134000, \"latitude\": 38.462376, \"longitude\": -121.426556}, {\"city\": \"SACRAMENTO\", \"zip\": \"z95838\", \"beds\": 3, \"baths\": 1.0, \"sqft\": 1082, \"type\": \"Residential\", \"price\": 95000, \"latitude\": 38.637704, \"longitude\": -121.453946}, {\"city\": \"SACRAMENTO\", \"zip\": \"z95841\", \"beds\": 3, \"baths\": 1.0, \"sqft\": 2068, \"type\": \"Residential\", \"price\": 460000, \"latitude\": 38.646374, \"longitude\": -121.353658}, {\"city\": \"SACRAMENTO\", \"zip\": \"z95822\", \"beds\": 3, \"baths\": 1.0, \"sqft\": 1058, \"type\": \"Residential\", \"price\": 95000, \"latitude\": 38.488238, \"longitude\": -121.472561}, {\"city\": \"SACRAMENTO\", \"zip\": \"z95838\", \"beds\": 4, \"baths\": 2.0, \"sqft\": 1656, \"type\": \"Residential\", \"price\": 166357, \"latitude\": 38.636748, \"longitude\": -121.422159}, {\"city\": \"SACRAMENTO\", \"zip\": \"z95811\", \"beds\": 2, \"baths\": 1.0, \"sqft\": 1247, \"type\": \"Residential\", \"price\": 445000, \"latitude\": 38.582604, \"longitude\": -121.47576}, {\"city\": \"SACRAMENTO\", \"zip\": \"z95827\", \"beds\": 3, \"baths\": 2.0, \"sqft\": 1380, \"type\": \"Residential\", \"price\": 136500, \"latitude\": 38.566663, \"longitude\": -121.332644}, {\"city\": \"ANTELOPE\", \"zip\": \"z95843\", \"beds\": 3, \"baths\": 2.0, \"sqft\": 1187, \"type\": \"Residential\", \"price\": 234000, \"latitude\": 38.727657, \"longitude\": -121.391028}, {\"city\": \"SACRAMENTO\", \"zip\": \"z95828\", \"beds\": 3, \"baths\": 1.0, \"sqft\": 962, \"type\": \"Residential\", \"price\": 128687, \"latitude\": 38.507339, \"longitude\": -121.416267}, {\"city\": \"SACRAMENTO\", \"zip\": \"z95823\", \"beds\": 3, \"baths\": 2.0, \"sqft\": 1439, \"type\": \"Residential\", \"price\": 168000, \"latitude\": 38.448288, \"longitude\": -121.420719}, {\"city\": \"ELK_GROVE\", \"zip\": \"z95758\", \"beds\": 4, \"baths\": 2.0, \"sqft\": 1595, \"type\": \"Residential\", \"price\": 260000, \"latitude\": 38.409634, \"longitude\": -121.410787}, {\"city\": \"ELK_GROVE\", \"zip\": \"z95624\", \"beds\": 4, \"baths\": 3.0, \"sqft\": 3992, \"type\": \"Residential\", \"price\": 460000, \"latitude\": 38.403609, \"longitude\": -121.335541}, {\"city\": \"SACRAMENTO\", \"zip\": \"z95842\", \"beds\": 4, \"baths\": 2.0, \"sqft\": 1127, \"type\": \"Residential\", \"price\": 124000, \"latitude\": 38.69043, \"longitude\": -121.361035}, {\"city\": \"GOLD_RIVER\", \"zip\": \"z95670\", \"beds\": 3, \"baths\": 2.0, \"sqft\": 1981, \"type\": \"Residential\", \"price\": 305000, \"latitude\": 38.628732, \"longitude\": -121.261149}, {\"city\": \"SACRAMENTO\", \"zip\": \"z95822\", \"beds\": 3, \"baths\": 2.0, \"sqft\": 1164, \"type\": \"Residential\", \"price\": 122500, \"latitude\": 38.491991, \"longitude\": -121.477636}, {\"city\": \"SACRAMENTO\", \"zip\": \"z95833\", \"beds\": 3, \"baths\": 2.0, \"sqft\": 1127, \"type\": \"Residential\", \"price\": 199900, \"latitude\": 38.618019, \"longitude\": -121.510215}, {\"city\": \"SACRAMENTO\", \"zip\": \"z95832\", \"beds\": 4, \"baths\": 3.0, \"sqft\": 3009, \"type\": \"Residential\", \"price\": 280987, \"latitude\": 38.474099, \"longitude\": -121.490711}, {\"city\": \"SACRAMENTO\", \"zip\": \"z95823\", \"beds\": 3, \"baths\": 1.0, \"sqft\": 1010, \"type\": \"Residential\", \"price\": 116000, \"latitude\": 38.465551, \"longitude\": -121.42661}, {\"city\": \"SACRAMENTO\", \"zip\": \"z95820\", \"beds\": 3, \"baths\": 1.0, \"sqft\": 1039, \"type\": \"Residential\", \"price\": 168000, \"latitude\": 38.52774, \"longitude\": -121.433669}, {\"city\": \"FOLSOM\", \"zip\": \"z95630\", \"beds\": 4, \"baths\": 3.0, \"sqft\": 2660, \"type\": \"Residential\", \"price\": 636000, \"latitude\": 38.684459, \"longitude\": -121.145935}, {\"city\": \"DIAMOND_SPRINGS\", \"zip\": \"z95619\", \"beds\": 3, \"baths\": 2.0, \"sqft\": 1300, \"type\": \"Residential\", \"price\": 216033, \"latitude\": 38.688255, \"longitude\": -120.810235}, {\"city\": \"FOLSOM\", \"zip\": \"z95630\", \"beds\": 3, \"baths\": 2.0, \"sqft\": 1327, \"type\": \"Residential\", \"price\": 310000, \"latitude\": 38.651617, \"longitude\": -121.131674}, {\"city\": \"CITRUS_HEIGHTS\", \"zip\": \"z95621\", \"beds\": 3, \"baths\": 2.0, \"sqft\": 1166, \"type\": \"Residential\", \"price\": 30000, \"latitude\": 38.715322, \"longitude\": -121.314787}, {\"city\": \"WEST_SACRAMENTO\", \"zip\": \"z95691\", \"beds\": 1, \"baths\": 1.0, \"sqft\": 936, \"type\": \"Residential\", \"price\": 200100, \"latitude\": 38.569943, \"longitude\": -121.527539}, {\"city\": \"SACRAMENTO\", \"zip\": \"z95826\", \"beds\": 4, \"baths\": 2.0, \"sqft\": 1438, \"type\": \"Residential\", \"price\": 252000, \"latitude\": 38.555633, \"longitude\": -121.350691}, {\"city\": \"PLACERVILLE\", \"zip\": \"z95667\", \"beds\": 3, \"baths\": 2.0, \"sqft\": 2025, \"type\": \"Residential\", \"price\": 677048, \"latitude\": 38.737452, \"longitude\": -120.910963}, {\"city\": \"ELK_GROVE\", \"zip\": \"z95757\", \"beds\": 3, \"baths\": 2.0, \"sqft\": 2163, \"type\": \"Residential\", \"price\": 242638, \"latitude\": 38.400974, \"longitude\": -121.448424}, {\"city\": \"ANTELOPE\", \"zip\": \"z95843\", \"beds\": 5, \"baths\": 3.0, \"sqft\": 3134, \"type\": \"Residential\", \"price\": 315000, \"latitude\": 38.711927, \"longitude\": -121.343608}, {\"city\": \"SACRAMENTO\", \"zip\": \"z95815\", \"beds\": 3, \"baths\": 1.0, \"sqft\": 1337, \"type\": \"Residential\", \"price\": 90000, \"latitude\": 38.622953, \"longitude\": -121.450142}, {\"city\": \"NORTH_HIGHLANDS\", \"zip\": \"z95660\", \"beds\": 3, \"baths\": 2.0, \"sqft\": 1209, \"type\": \"Residential\", \"price\": 130000, \"latitude\": 38.699269, \"longitude\": -121.376334}, {\"city\": \"SACRAMENTO\", \"zip\": \"z95842\", \"beds\": 3, \"baths\": 2.0, \"sqft\": 1159, \"type\": \"Residential\", \"price\": 169000, \"latitude\": 38.69951, \"longitude\": -121.359989}, {\"city\": \"GALT\", \"zip\": \"z95632\", \"beds\": 4, \"baths\": 2.0, \"sqft\": 2159, \"type\": \"Residential\", \"price\": 345000, \"latitude\": 38.279581, \"longitude\": -121.300828}, {\"city\": \"WILTON\", \"zip\": \"z95693\", \"beds\": 5, \"baths\": 3.0, \"sqft\": 3788, \"type\": \"Residential\", \"price\": 691659, \"latitude\": 38.413535, \"longitude\": -121.188211}, {\"city\": \"NORTH_HIGHLANDS\", \"zip\": \"z95660\", \"beds\": 3, \"baths\": 1.0, \"sqft\": 1310, \"type\": \"Residential\", \"price\": 208318, \"latitude\": 38.694279, \"longitude\": -121.373395}, {\"city\": \"SACRAMENTO\", \"zip\": \"z95823\", \"beds\": 3, \"baths\": 2.0, \"sqft\": 1265, \"type\": \"Residential\", \"price\": 164000, \"latitude\": 38.462821, \"longitude\": -121.433135}, {\"city\": \"ROCKLIN\", \"zip\": \"z95765\", \"beds\": 3, \"baths\": 2.0, \"sqft\": 1691, \"type\": \"Residential\", \"price\": 430922, \"latitude\": 38.82553, \"longitude\": -121.254698}, {\"city\": \"SACRAMENTO\", \"zip\": \"z95833\", \"beds\": 4, \"baths\": 2.0, \"sqft\": 1856, \"type\": \"Residential\", \"price\": 215000, \"latitude\": 38.619675, \"longitude\": -121.496903}, {\"city\": \"EL_DORADO_HILLS\", \"zip\": \"z95762\", \"beds\": 4, \"baths\": 2.5, \"sqft\": 3282, \"type\": \"Residential\", \"price\": 493000, \"latitude\": 38.681778, \"longitude\": -121.035838}, {\"city\": \"SACRAMENTO\", \"zip\": \"z95823\", \"beds\": 3, \"baths\": 2.0, \"sqft\": 1217, \"type\": \"Residential\", \"price\": 151087, \"latitude\": 38.46616, \"longitude\": -121.448283}, {\"city\": \"EL_DORADO_HILLS\", \"zip\": \"z95762\", \"beds\": 3, \"baths\": 2.5, \"sqft\": 1924, \"type\": \"Residential\", \"price\": 356200, \"latitude\": 38.686067, \"longitude\": -121.073413}, {\"city\": \"SACRAMENTO\", \"zip\": \"z95828\", \"beds\": 4, \"baths\": 2.0, \"sqft\": 1176, \"type\": \"Residential\", \"price\": 247234, \"latitude\": 38.489215, \"longitude\": -121.419546}, {\"city\": \"SACRAMENTO\", \"zip\": \"z95815\", \"beds\": 1, \"baths\": 1.0, \"sqft\": 871, \"type\": \"Residential\", \"price\": 106852, \"latitude\": 38.618698, \"longitude\": -121.435833}, {\"city\": \"GALT\", \"zip\": \"z95632\", \"beds\": 3, \"baths\": 2.0, \"sqft\": 1204, \"type\": \"Residential\", \"price\": 174000, \"latitude\": 38.260467, \"longitude\": -121.302636}, {\"city\": \"ELK_GROVE\", \"zip\": \"z95758\", \"beds\": 4, \"baths\": 2.0, \"sqft\": 2109, \"type\": \"Residential\", \"price\": 296000, \"latitude\": 38.432848, \"longitude\": -121.449237}, {\"city\": \"SACRAMENTO\", \"zip\": \"z95842\", \"beds\": 4, \"baths\": 2.0, \"sqft\": 1292, \"type\": \"Residential\", \"price\": 105000, \"latitude\": 38.679598, \"longitude\": -121.356035}, {\"city\": \"SACRAMENTO\", \"zip\": \"z95835\", \"beds\": 3, \"baths\": 2.0, \"sqft\": 1541, \"type\": \"Residential\", \"price\": 260000, \"latitude\": 38.656251, \"longitude\": -121.547572}, {\"city\": \"LINCOLN\", \"zip\": \"z95648\", \"beds\": 5, \"baths\": 3.0, \"sqft\": 3072, \"type\": \"Residential\", \"price\": 315000, \"latitude\": 38.866409, \"longitude\": -121.308485}, {\"city\": \"CAMERON_PARK\", \"zip\": \"z95682\", \"beds\": 3, \"baths\": 2.0, \"sqft\": 1284, \"type\": \"Residential\", \"price\": 215000, \"latitude\": 38.691215, \"longitude\": -120.994949}, {\"city\": \"SACRAMENTO\", \"zip\": \"z95835\", \"beds\": 4, \"baths\": 2.0, \"sqft\": 2166, \"type\": \"Residential\", \"price\": 356035, \"latitude\": 38.68318, \"longitude\": -121.53484}, {\"city\": \"ELK_GROVE\", \"zip\": \"z95757\", \"beds\": 3, \"baths\": 2.0, \"sqft\": 1540, \"type\": \"Residential\", \"price\": 266510, \"latitude\": 38.387708, \"longitude\": -121.436522}, {\"city\": \"CITRUS_HEIGHTS\", \"zip\": \"z95610\", \"beds\": 5, \"baths\": 4.0, \"sqft\": 2085, \"type\": \"Multi_Family\", \"price\": 256054, \"latitude\": 38.682358, \"longitude\": -121.272876}, {\"city\": \"ROCKLIN\", \"zip\": \"z95677\", \"beds\": 4, \"baths\": 3.5, \"sqft\": 3332, \"type\": \"Residential\", \"price\": 488750, \"latitude\": 38.777585, \"longitude\": -121.2036}, {\"city\": \"SACRAMENTO\", \"zip\": \"z95835\", \"beds\": 4, \"baths\": 4.0, \"sqft\": 3397, \"type\": \"Residential\", \"price\": 465000, \"latitude\": 38.665696, \"longitude\": -121.549437}, {\"city\": \"SACRAMENTO\", \"zip\": \"z95826\", \"beds\": 3, \"baths\": 2.0, \"sqft\": 1428, \"type\": \"Residential\", \"price\": 156142, \"latitude\": 38.554927, \"longitude\": -121.35521}, {\"city\": \"SACRAMENTO\", \"zip\": \"z95815\", \"beds\": 4, \"baths\": 2.0, \"sqft\": 1316, \"type\": \"Residential\", \"price\": 89000, \"latitude\": 38.623571, \"longitude\": -121.454884}, {\"city\": \"ORANGEVALE\", \"zip\": \"z95662\", \"beds\": 3, \"baths\": 1.0, \"sqft\": 1456, \"type\": \"Residential\", \"price\": 225000, \"latitude\": 38.703056, \"longitude\": -121.235221}, {\"city\": \"SACRAMENTO\", \"zip\": \"z95842\", \"beds\": 2, \"baths\": 1.0, \"sqft\": 795, \"type\": \"Condo\", \"price\": 82732, \"latitude\": 38.669104, \"longitude\": -121.359008}, {\"city\": \"ELK_GROVE\", \"zip\": \"z95758\", \"beds\": 3, \"baths\": 2.0, \"sqft\": 1338, \"type\": \"Residential\", \"price\": 222000, \"latitude\": 38.423913, \"longitude\": -121.439115}, {\"city\": \"ROSEVILLE\", \"zip\": \"z95678\", \"beds\": 5, \"baths\": 3.0, \"sqft\": 3163, \"type\": \"Residential\", \"price\": 347225, \"latitude\": 38.79218, \"longitude\": -121.28595}, {\"city\": \"SACRAMENTO\", \"zip\": \"z95835\", \"beds\": 5, \"baths\": 3.0, \"sqft\": 3881, \"type\": \"Residential\", \"price\": 471750, \"latitude\": 38.677225, \"longitude\": -121.519687}, {\"city\": \"SACRAMENTO\", \"zip\": \"z95838\", \"beds\": 2, \"baths\": 1.0, \"sqft\": 900, \"type\": \"Residential\", \"price\": 71000, \"latitude\": 38.636877, \"longitude\": -121.444948}, {\"city\": \"FOLSOM\", \"zip\": \"z95630\", \"beds\": 4, \"baths\": 2.0, \"sqft\": 2581, \"type\": \"Residential\", \"price\": 450000, \"latitude\": 38.676306, \"longitude\": -121.09954}, {\"city\": \"RANCHO_CORDOVA\", \"zip\": \"z95670\", \"beds\": 3, \"baths\": 2.0, \"sqft\": 1671, \"type\": \"Residential\", \"price\": 175000, \"latitude\": 38.591477, \"longitude\": -121.31534}, {\"city\": \"CITRUS_HEIGHTS\", \"zip\": \"z95610\", \"beds\": 4, \"baths\": 3.0, \"sqft\": 1736, \"type\": \"Residential\", \"price\": 195000, \"latitude\": 38.676437, \"longitude\": -121.279165}, {\"city\": \"SACRAMENTO\", \"zip\": \"z95827\", \"beds\": 3, \"baths\": 2.0, \"sqft\": 1320, \"type\": \"Residential\", \"price\": 115500, \"latitude\": 38.563402, \"longitude\": -121.327747}, {\"city\": \"ROSEVILLE\", \"zip\": \"z95747\", \"beds\": 5, \"baths\": 3.0, \"sqft\": 3579, \"type\": \"Residential\", \"price\": 610000, \"latitude\": 38.78861, \"longitude\": -121.339495}, {\"city\": \"SACRAMENTO\", \"zip\": \"z95842\", \"beds\": 2, \"baths\": 2.0, \"sqft\": 1134, \"type\": \"Condo\", \"price\": 110700, \"latitude\": 38.700051, \"longitude\": -121.351278}, {\"city\": \"SACRAMENTO\", \"zip\": \"z95823\", \"beds\": 4, \"baths\": 2.0, \"sqft\": 1590, \"type\": \"Residential\", \"price\": 212864, \"latitude\": 38.454349, \"longitude\": -121.439239}, {\"city\": \"ROSEVILLE\", \"zip\": \"z95747\", \"beds\": 3, \"baths\": 2.5, \"sqft\": 1829, \"type\": \"Residential\", \"price\": 307000, \"latitude\": 38.773094, \"longitude\": -121.365905}, {\"city\": \"SACRAMENTO\", \"zip\": \"z95818\", \"beds\": 3, \"baths\": 1.0, \"sqft\": 1639, \"type\": \"Residential\", \"price\": 388000, \"latitude\": 38.541735, \"longitude\": -121.480098}, {\"city\": \"ANTELOPE\", \"zip\": \"z95843\", \"beds\": 3, \"baths\": 2.0, \"sqft\": 1392, \"type\": \"Residential\", \"price\": 165000, \"latitude\": 38.715346, \"longitude\": -121.388163}, {\"city\": \"SACRAMENTO\", \"zip\": \"z95828\", \"beds\": 4, \"baths\": 2.0, \"sqft\": 1628, \"type\": \"Residential\", \"price\": 151000, \"latitude\": 38.493484, \"longitude\": -121.42035}, {\"city\": \"SACRAMENTO\", \"zip\": \"z95835\", \"beds\": 5, \"baths\": 3.0, \"sqft\": 2800, \"type\": \"Residential\", \"price\": 304037, \"latitude\": 38.658182, \"longitude\": -121.549521}, {\"city\": \"SACRAMENTO\", \"zip\": \"z95819\", \"beds\": 5, \"baths\": 2.0, \"sqft\": 2484, \"type\": \"Residential\", \"price\": 699000, \"latitude\": 38.563244, \"longitude\": -121.446876}, {\"city\": \"SACRAMENTO\", \"zip\": \"z95820\", \"beds\": 2, \"baths\": 1.0, \"sqft\": 539, \"type\": \"Residential\", \"price\": 334000, \"latitude\": 38.542727, \"longitude\": -121.442449}, {\"city\": \"SACRAMENTO\", \"zip\": \"z95823\", \"beds\": 3, \"baths\": 2.0, \"sqft\": 1740, \"type\": \"Residential\", \"price\": 176250, \"latitude\": 38.457654, \"longitude\": -121.431381}, {\"city\": \"ANTELOPE\", \"zip\": \"z95843\", \"beds\": 3, \"baths\": 2.0, \"sqft\": 1206, \"type\": \"Residential\", \"price\": 142000, \"latitude\": 38.706175, \"longitude\": -121.379776}, {\"city\": \"EL_DORADO_HILLS\", \"zip\": \"z95762\", \"beds\": 4, \"baths\": 2.0, \"sqft\": 1808, \"type\": \"Residential\", \"price\": 262500, \"latitude\": 38.664347, \"longitude\": -121.076529}, {\"city\": \"ROSEVILLE\", \"zip\": \"z95678\", \"beds\": 3, \"baths\": 2.0, \"sqft\": 1625, \"type\": \"Residential\", \"price\": 367554, \"latitude\": 38.791617, \"longitude\": -121.286147}, {\"city\": \"RANCHO_CORDOVA\", \"zip\": \"z95670\", \"beds\": 2, \"baths\": 2.0, \"sqft\": 1406, \"type\": \"Residential\", \"price\": 242000, \"latitude\": 38.625932, \"longitude\": -121.271517}, {\"city\": \"SACRAMENTO\", \"zip\": \"z95842\", \"beds\": 2, \"baths\": 1.0, \"sqft\": 933, \"type\": \"Condo\", \"price\": 62000, \"latitude\": 38.670467, \"longitude\": -121.359799}, {\"city\": \"ELK_GROVE\", \"zip\": \"z95624\", \"beds\": 3, \"baths\": 2.0, \"sqft\": 1094, \"type\": \"Residential\", \"price\": 229000, \"latitude\": 38.443184, \"longitude\": -121.364388}, {\"city\": \"ANTELOPE\", \"zip\": \"z95843\", \"beds\": 3, \"baths\": 2.0, \"sqft\": 1711, \"type\": \"Residential\", \"price\": 161500, \"latitude\": 38.70968, \"longitude\": -121.382328}, {\"city\": \"RANCHO_CORDOVA\", \"zip\": \"z95670\", \"beds\": 4, \"baths\": 3.0, \"sqft\": 2208, \"type\": \"Residential\", \"price\": 336000, \"latitude\": 38.573488, \"longitude\": -121.282809}, {\"city\": \"SACRAMENTO\", \"zip\": \"z95820\", \"beds\": 3, \"baths\": 2.0, \"sqft\": 1212, \"type\": \"Residential\", \"price\": 228327, \"latitude\": 38.534827, \"longitude\": -121.412545}, {\"city\": \"SACRAMENTO\", \"zip\": \"z95828\", \"beds\": 3, \"baths\": 2.0, \"sqft\": 1543, \"type\": \"Residential\", \"price\": 145846, \"latitude\": 38.477563, \"longitude\": -121.384382}, {\"city\": \"SACRAMENTO\", \"zip\": \"z95823\", \"beds\": 4, \"baths\": 2.0, \"sqft\": 1580, \"type\": \"Residential\", \"price\": 165000, \"latitude\": 38.450543, \"longitude\": -121.432538}, {\"city\": \"SACRAMENTO\", \"zip\": \"z95835\", \"beds\": 3, \"baths\": 2.0, \"sqft\": 1358, \"type\": \"Residential\", \"price\": 201528, \"latitude\": 38.68197, \"longitude\": -121.500025}, {\"city\": \"SACRAMENTO\", \"zip\": \"z95823\", \"beds\": 3, \"baths\": 2.0, \"sqft\": 1466, \"type\": \"Residential\", \"price\": 150000, \"latitude\": 38.472117, \"longitude\": -121.459589}, {\"city\": \"SACRAMENTO\", \"zip\": \"z95835\", \"beds\": 3, \"baths\": 3.0, \"sqft\": 2212, \"type\": \"Residential\", \"price\": 334000, \"latitude\": 38.674864, \"longitude\": -121.4958}, {\"city\": \"ELK_GROVE\", \"zip\": \"z95757\", \"beds\": 4, \"baths\": 2.0, \"sqft\": 3134, \"type\": \"Residential\", \"price\": 347650, \"latitude\": 38.380635, \"longitude\": -121.425538}, {\"city\": \"ELK_GROVE\", \"zip\": \"z95758\", \"beds\": 3, \"baths\": 2.0, \"sqft\": 1340, \"type\": \"Residential\", \"price\": 174000, \"latitude\": 38.433919, \"longitude\": -121.422347}, {\"city\": \"ELK_GROVE\", \"zip\": \"z95758\", \"beds\": 2, \"baths\": 2.0, \"sqft\": 1112, \"type\": \"Residential\", \"price\": 165000, \"latitude\": 38.42465, \"longitude\": -121.430137}, {\"city\": \"EL_DORADO_HILLS\", \"zip\": \"z95762\", \"beds\": 4, \"baths\": 3.0, \"sqft\": 2730, \"type\": \"Residential\", \"price\": 420000, \"latitude\": 38.675519, \"longitude\": -121.015862}, {\"city\": \"SACRAMENTO\", \"zip\": \"z95838\", \"beds\": 3, \"baths\": 2.0, \"sqft\": 1231, \"type\": \"Residential\", \"price\": 200000, \"latitude\": 38.651386, \"longitude\": -121.45042}, {\"city\": \"SACRAMENTO\", \"zip\": \"z95834\", \"beds\": 4, \"baths\": 3.0, \"sqft\": 2258, \"type\": \"Residential\", \"price\": 332000, \"latitude\": 38.6354, \"longitude\": -121.53499}, {\"city\": \"SACRAMENTO\", \"zip\": \"z95835\", \"beds\": 4, \"baths\": 2.0, \"sqft\": 1876, \"type\": \"Residential\", \"price\": 243500, \"latitude\": 38.674226, \"longitude\": -121.525497}, {\"city\": \"ELK_GROVE\", \"zip\": \"z95757\", \"beds\": 5, \"baths\": 3.0, \"sqft\": 3164, \"type\": \"Residential\", \"price\": 375000, \"latitude\": 38.4019, \"longitude\": -121.420388}, {\"city\": \"NORTH_HIGHLANDS\", \"zip\": \"z95660\", \"beds\": 3, \"baths\": 2.0, \"sqft\": 1373, \"type\": \"Residential\", \"price\": 160000, \"latitude\": 38.685361, \"longitude\": -121.376938}, {\"city\": \"ELK_GROVE\", \"zip\": \"z95757\", \"beds\": 4, \"baths\": 3.0, \"sqft\": 3440, \"type\": \"Residential\", \"price\": 489332, \"latitude\": 38.406421, \"longitude\": -121.422081}, {\"city\": \"SACRAMENTO\", \"zip\": \"z95828\", \"beds\": 4, \"baths\": 4.0, \"sqft\": 2162, \"type\": \"Multi_Family\", \"price\": 195000, \"latitude\": 38.48009, \"longitude\": -121.415102}, {\"city\": \"SACRAMENTO\", \"zip\": \"z95820\", \"beds\": 3, \"baths\": 1.0, \"sqft\": 963, \"type\": \"Residential\", \"price\": 127281, \"latitude\": 38.537526, \"longitude\": -121.478315}, {\"city\": \"FOLSOM\", \"zip\": \"z95630\", \"beds\": 5, \"baths\": 3.0, \"sqft\": 2787, \"type\": \"Residential\", \"price\": 441000, \"latitude\": 38.66051, \"longitude\": -121.163689}, {\"city\": \"CITRUS_HEIGHTS\", \"zip\": \"z95621\", \"beds\": 4, \"baths\": 2.0, \"sqft\": 1582, \"type\": \"Residential\", \"price\": 280000, \"latitude\": 38.691393, \"longitude\": -121.305215}, {\"city\": \"SACRAMENTO\", \"zip\": \"z95823\", \"beds\": 3, \"baths\": 2.0, \"sqft\": 1452, \"type\": \"Residential\", \"price\": 160000, \"latitude\": 38.45356, \"longitude\": -121.435959}, {\"city\": \"FAIR_OAKS\", \"zip\": \"z95628\", \"beds\": 3, \"baths\": 2.0, \"sqft\": 3173, \"type\": \"Residential\", \"price\": 525000, \"latitude\": 38.650735, \"longitude\": -121.258628}, {\"city\": \"CARMICHAEL\", \"zip\": \"z95608\", \"beds\": 3, \"baths\": 2.0, \"sqft\": 1655, \"type\": \"Residential\", \"price\": 386222, \"latitude\": 38.629929, \"longitude\": -121.323086}, {\"city\": \"GREENWOOD\", \"zip\": \"z95635\", \"beds\": 3, \"baths\": 2.0, \"sqft\": 2846, \"type\": \"Residential\", \"price\": 395000, \"latitude\": 38.945357, \"longitude\": -120.908822}, {\"city\": \"SACRAMENTO\", \"zip\": \"z95823\", \"beds\": 3, \"baths\": 1.0, \"sqft\": 1167, \"type\": \"Residential\", \"price\": 68212, \"latitude\": 38.478902, \"longitude\": -121.431028}, {\"city\": \"ELK_GROVE\", \"zip\": \"z95758\", \"beds\": 4, \"baths\": 2.0, \"sqft\": 1776, \"type\": \"Residential\", \"price\": 210000, \"latitude\": 38.413947, \"longitude\": -121.408276}, {\"city\": \"SACRAMENTO\", \"zip\": \"z95826\", \"beds\": 4, \"baths\": 2.0, \"sqft\": 1139, \"type\": \"Residential\", \"price\": 186785, \"latitude\": 38.565322, \"longitude\": -121.374251}, {\"city\": \"ELK_GROVE\", \"zip\": \"z95758\", \"beds\": 3, \"baths\": 2.0, \"sqft\": 1262, \"type\": \"Residential\", \"price\": 230000, \"latitude\": 38.417382, \"longitude\": -121.484325}, {\"city\": \"SACRAMENTO\", \"zip\": \"z95835\", \"beds\": 4, \"baths\": 3.0, \"sqft\": 2175, \"type\": \"Residential\", \"price\": 261000, \"latitude\": 38.676172, \"longitude\": -121.509761}, {\"city\": \"SACRAMENTO\", \"zip\": \"z95831\", \"beds\": 2, \"baths\": 2.0, \"sqft\": 1324, \"type\": \"Residential\", \"price\": 234500, \"latitude\": 38.48797, \"longitude\": -121.530229}, {\"city\": \"ELK_GROVE\", \"zip\": \"z95624\", \"beds\": 3, \"baths\": 2.0, \"sqft\": 1516, \"type\": \"Residential\", \"price\": 222900, \"latitude\": 38.398245, \"longitude\": -121.380615}, {\"city\": \"SACRAMENTO\", \"zip\": \"z95828\", \"beds\": 4, \"baths\": 3.0, \"sqft\": 2491, \"type\": \"Residential\", \"price\": 245000, \"latitude\": 38.459711, \"longitude\": -121.384283}, {\"city\": \"SACRAMENTO\", \"zip\": \"z95834\", \"beds\": 3, \"baths\": 2.0, \"sqft\": 1428, \"type\": \"Residential\", \"price\": 188700, \"latitude\": 38.634335, \"longitude\": -121.486098}, {\"city\": \"SACRAMENTO\", \"zip\": \"z95827\", \"beds\": 5, \"baths\": 3.0, \"sqft\": 2367, \"type\": \"Residential\", \"price\": 315537, \"latitude\": 38.555993, \"longitude\": -121.340352}, {\"city\": \"NORTH_HIGHLANDS\", \"zip\": \"z95660\", \"beds\": 4, \"baths\": 2.0, \"sqft\": 1183, \"type\": \"Residential\", \"price\": 146000, \"latitude\": 38.692915, \"longitude\": -121.367497}, {\"city\": \"FOLSOM\", \"zip\": \"z95630\", \"beds\": 4, \"baths\": 3.0, \"sqft\": 3261, \"type\": \"Residential\", \"price\": 446000, \"latitude\": 38.673882, \"longitude\": -121.105077}, {\"city\": \"ELK_GROVE\", \"zip\": \"z95758\", \"beds\": 5, \"baths\": 3.0, \"sqft\": 3468, \"type\": \"Residential\", \"price\": 320000, \"latitude\": 38.439565, \"longitude\": -121.436606}, {\"city\": \"ROSEVILLE\", \"zip\": \"z95678\", \"beds\": 2, \"baths\": 1.0, \"sqft\": 780, \"type\": \"Condo\", \"price\": 127000, \"latitude\": 38.749723, \"longitude\": -121.27008}, {\"city\": \"CITRUS_HEIGHTS\", \"zip\": \"z95621\", \"beds\": 3, \"baths\": 2.0, \"sqft\": 1329, \"type\": \"Residential\", \"price\": 192700, \"latitude\": 38.706152, \"longitude\": -121.325399}, {\"city\": \"SACRAMENTO\", \"zip\": \"z95828\", \"beds\": 3, \"baths\": 1.0, \"sqft\": 1013, \"type\": \"Residential\", \"price\": 85000, \"latitude\": 38.497237, \"longitude\": -121.424187}, {\"city\": \"ELK_GROVE\", \"zip\": \"z95624\", \"beds\": 4, \"baths\": 2.0, \"sqft\": 1477, \"type\": \"Residential\", \"price\": 176850, \"latitude\": 38.44574, \"longitude\": -121.3725}, {\"city\": \"CITRUS_HEIGHTS\", \"zip\": \"z95621\", \"beds\": 2, \"baths\": 1.0, \"sqft\": 888, \"type\": \"Residential\", \"price\": 101000, \"latitude\": 38.675893, \"longitude\": -121.2963}, {\"city\": \"SACRAMENTO\", \"zip\": \"z95823\", \"beds\": 3, \"baths\": 2.0, \"sqft\": 1386, \"type\": \"Residential\", \"price\": 191250, \"latitude\": 38.478239, \"longitude\": -121.446326}, {\"city\": \"ANTELOPE\", \"zip\": \"z95843\", \"beds\": 3, \"baths\": 2.0, \"sqft\": 1574, \"type\": \"Residential\", \"price\": 255000, \"latitude\": 38.710221, \"longitude\": -121.341651}, {\"city\": \"SACRAMENTO\", \"zip\": \"z95823\", \"beds\": 4, \"baths\": 2.0, \"sqft\": 1695, \"type\": \"Residential\", \"price\": 179000, \"latitude\": 38.448452, \"longitude\": -121.428536}, {\"city\": \"SACRAMENTO\", \"zip\": \"z95820\", \"beds\": 2, \"baths\": 1.0, \"sqft\": 834, \"type\": \"Residential\", \"price\": 68000, \"latitude\": 38.539447, \"longitude\": -121.450858}, {\"city\": \"ELVERTA\", \"zip\": \"z95626\", \"beds\": 3, \"baths\": 2.0, \"sqft\": 1080, \"type\": \"Residential\", \"price\": 126000, \"latitude\": 38.717976, \"longitude\": -121.407684}, {\"city\": \"SACRAMENTO\", \"zip\": \"z95838\", \"beds\": 3, \"baths\": 2.0, \"sqft\": 1410, \"type\": \"Residential\", \"price\": 115620, \"latitude\": 38.660173, \"longitude\": -121.440216}, {\"city\": \"SACRAMENTO\", \"zip\": \"z95834\", \"beds\": 3, \"baths\": 2.0, \"sqft\": 1202, \"type\": \"Residential\", \"price\": 169000, \"latitude\": 38.634292, \"longitude\": -121.485106}, {\"city\": \"SACRAMENTO\", \"zip\": \"z95831\", \"beds\": 2, \"baths\": 1.0, \"sqft\": 950, \"type\": \"Residential\", \"price\": 220000, \"latitude\": 38.48403, \"longitude\": -121.507641}, {\"city\": \"CITRUS_HEIGHTS\", \"zip\": \"z95621\", \"beds\": 4, \"baths\": 2.0, \"sqft\": 1419, \"type\": \"Residential\", \"price\": 220000, \"latitude\": 38.698058, \"longitude\": -121.294893}, {\"city\": \"SACRAMENTO\", \"zip\": \"z95842\", \"beds\": 2, \"baths\": 1.0, \"sqft\": 840, \"type\": \"Condo\", \"price\": 40000, \"latitude\": 38.673678, \"longitude\": -121.357471}, {\"city\": \"SACRAMENTO\", \"zip\": \"z95824\", \"beds\": 3, \"baths\": 1.0, \"sqft\": 1360, \"type\": \"Residential\", \"price\": 222381, \"latitude\": 38.513066, \"longitude\": -121.451909}, {\"city\": \"EL_DORADO_HILLS\", \"zip\": \"z95762\", \"beds\": 5, \"baths\": 3.0, \"sqft\": 3577, \"type\": \"Residential\", \"price\": 438700, \"latitude\": 38.679136, \"longitude\": -121.034329}, {\"city\": \"SACRAMENTO\", \"zip\": \"z95820\", \"beds\": 2, \"baths\": 1.0, \"sqft\": 984, \"type\": \"Residential\", \"price\": 84675, \"latitude\": 38.53728, \"longitude\": -121.463531}, {\"city\": \"SACRAMENTO\", \"zip\": \"z95822\", \"beds\": 3, \"baths\": 1.0, \"sqft\": 975, \"type\": \"Residential\", \"price\": 271742, \"latitude\": 38.523947, \"longitude\": -121.484946}, {\"city\": \"CITRUS_HEIGHTS\", \"zip\": \"z95621\", \"beds\": 4, \"baths\": 2.0, \"sqft\": 1277, \"type\": \"Residential\", \"price\": 235000, \"latitude\": 38.702855, \"longitude\": -121.31308}, {\"city\": \"SACRAMENTO\", \"zip\": \"z95824\", \"beds\": 2, \"baths\": 1.0, \"sqft\": 797, \"type\": \"Residential\", \"price\": 81900, \"latitude\": 38.51947, \"longitude\": -121.435768}, {\"city\": \"ROSEVILLE\", \"zip\": \"z95747\", \"beds\": 3, \"baths\": 2.5, \"sqft\": 1829, \"type\": \"Residential\", \"price\": 306500, \"latitude\": 38.772771, \"longitude\": -121.364877}, {\"city\": \"SACRAMENTO\", \"zip\": \"z95838\", \"beds\": 3, \"baths\": 2.0, \"sqft\": 909, \"type\": \"Residential\", \"price\": 100309, \"latitude\": 38.637663, \"longitude\": -121.45152}, {\"city\": \"WILTON\", \"zip\": \"z95693\", \"beds\": 5, \"baths\": 2.0, \"sqft\": 3741, \"type\": \"Residential\", \"price\": 579093, \"latitude\": 38.416809, \"longitude\": -121.240628}, {\"city\": \"SACRAMENTO\", \"zip\": \"z95834\", \"beds\": 3, \"baths\": 2.5, \"sqft\": 2029, \"type\": \"Residential\", \"price\": 247000, \"latitude\": 38.631139, \"longitude\": -121.501879}, {\"city\": \"ROSEVILLE\", \"zip\": \"z95678\", \"beds\": 3, \"baths\": 2.5, \"sqft\": 1462, \"type\": \"Condo\", \"price\": 220000, \"latitude\": 38.793152, \"longitude\": -121.290025}, {\"city\": \"SACRAMENTO\", \"zip\": \"z95835\", \"beds\": 3, \"baths\": 2.0, \"sqft\": 1776, \"type\": \"Residential\", \"price\": 234000, \"latitude\": 38.672495, \"longitude\": -121.515251}, {\"city\": \"SACRAMENTO\", \"zip\": \"z95817\", \"beds\": 2, \"baths\": 1.0, \"sqft\": 1080, \"type\": \"Residential\", \"price\": 65000, \"latitude\": 38.544162, \"longitude\": -121.460652}, {\"city\": \"LINCOLN\", \"zip\": \"z95648\", \"beds\": 2, \"baths\": 2.0, \"sqft\": 1322, \"type\": \"Residential\", \"price\": 330000, \"latitude\": 38.861864, \"longitude\": -121.267478}, {\"city\": \"ELK_GROVE\", \"zip\": \"z95757\", \"beds\": 3, \"baths\": 2.0, \"sqft\": 1543, \"type\": \"Residential\", \"price\": 275000, \"latitude\": 38.397455, \"longitude\": -121.468391}, {\"city\": \"WILTON\", \"zip\": \"z95693\", \"beds\": 3, \"baths\": 2.0, \"sqft\": 2110, \"type\": \"Residential\", \"price\": 372000, \"latitude\": 38.35062, \"longitude\": -121.228349}, {\"city\": \"ROCKLIN\", \"zip\": \"z95677\", \"beds\": 4, \"baths\": 3.0, \"sqft\": 2346, \"type\": \"Residential\", \"price\": 600000, \"latitude\": 38.772672, \"longitude\": -121.220232}, {\"city\": \"SACRAMENTO\", \"zip\": \"z95828\", \"beds\": 4, \"baths\": 4.0, \"sqft\": 1995, \"type\": \"Multi_Family\", \"price\": 120000, \"latitude\": 38.490704, \"longitude\": -121.410176}, {\"city\": \"ROSEVILLE\", \"zip\": \"z95747\", \"beds\": 5, \"baths\": 5.0, \"sqft\": 3901, \"type\": \"Residential\", \"price\": 600000, \"latitude\": 38.798448, \"longitude\": -121.344054}, {\"city\": \"ROCKLIN\", \"zip\": \"z95677\", \"beds\": 3, \"baths\": 2.0, \"sqft\": 1510, \"type\": \"Residential\", \"price\": 285000, \"latitude\": 38.786746, \"longitude\": -121.209957}, {\"city\": \"ANTELOPE\", \"zip\": \"z95843\", \"beds\": 4, \"baths\": 2.0, \"sqft\": 2504, \"type\": \"Residential\", \"price\": 246750, \"latitude\": 38.70884, \"longitude\": -121.359559}, {\"city\": \"SACRAMENTO\", \"zip\": \"z95828\", \"beds\": 4, \"baths\": 2.0, \"sqft\": 1358, \"type\": \"Residential\", \"price\": 158000, \"latitude\": 38.474854, \"longitude\": -121.404726}, {\"city\": \"SACRAMENTO\", \"zip\": \"z95833\", \"beds\": 2, \"baths\": 1.0, \"sqft\": 588, \"type\": \"Residential\", \"price\": 120000, \"latitude\": 38.612099, \"longitude\": -121.469095}, {\"city\": \"LINCOLN\", \"zip\": \"z95648\", \"beds\": 3, \"baths\": 2.0, \"sqft\": 1358, \"type\": \"Residential\", \"price\": 229027, \"latitude\": 38.897814, \"longitude\": -121.324691}, {\"city\": \"CAMERON_PARK\", \"zip\": \"z95682\", \"beds\": 3, \"baths\": 2.0, \"sqft\": 2016, \"type\": \"Residential\", \"price\": 399000, \"latitude\": 38.664225, \"longitude\": -121.007173}, {\"city\": \"RIO_LINDA\", \"zip\": \"z95673\", \"beds\": 3, \"baths\": 2.0, \"sqft\": 1193, \"type\": \"Residential\", \"price\": 240122, \"latitude\": 38.693818, \"longitude\": -121.441153}, {\"city\": \"SACRAMENTO\", \"zip\": \"z95820\", \"beds\": 2, \"baths\": 2.0, \"sqft\": 1188, \"type\": \"Residential\", \"price\": 123675, \"latitude\": 38.532359, \"longitude\": -121.41167}, {\"city\": \"SACRAMENTO\", \"zip\": \"z95833\", \"beds\": 3, \"baths\": 2.0, \"sqft\": 1522, \"type\": \"Residential\", \"price\": 225000, \"latitude\": 38.624762, \"longitude\": -121.522775}, {\"city\": \"SACRAMENTO\", \"zip\": \"z95833\", \"beds\": 4, \"baths\": 2.0, \"sqft\": 1871, \"type\": \"Residential\", \"price\": 230000, \"latitude\": 38.62478, \"longitude\": -121.523474}, {\"city\": \"SACRAMENTO\", \"zip\": \"z95817\", \"beds\": 3, \"baths\": 2.0, \"sqft\": 1093, \"type\": \"Residential\", \"price\": 127059, \"latitude\": 38.546091, \"longitude\": -121.457745}, {\"city\": \"SACRAMENTO\", \"zip\": \"z95822\", \"beds\": 3, \"baths\": 2.0, \"sqft\": 1207, \"type\": \"Residential\", \"price\": 154000, \"latitude\": 38.493955, \"longitude\": -121.48966}, {\"city\": \"FOLSOM\", \"zip\": \"z95630\", \"beds\": 4, \"baths\": 3.0, \"sqft\": 1939, \"type\": \"Residential\", \"price\": 423000, \"latitude\": 38.66695, \"longitude\": -121.120729}, {\"city\": \"SACRAMENTO\", \"zip\": \"z95833\", \"beds\": 4, \"baths\": 1.0, \"sqft\": 1120, \"type\": \"Residential\", \"price\": 164000, \"latitude\": 38.613765, \"longitude\": -121.488694}, {\"city\": \"SACRAMENTO\", \"zip\": \"z95829\", \"beds\": 4, \"baths\": 3.0, \"sqft\": 2235, \"type\": \"Residential\", \"price\": 236685, \"latitude\": 38.463355, \"longitude\": -121.358936}, {\"city\": \"SACRAMENTO\", \"zip\": \"z95826\", \"beds\": 4, \"baths\": 2.0, \"sqft\": 1483, \"type\": \"Residential\", \"price\": 161600, \"latitude\": 38.536751, \"longitude\": -121.359154}, {\"city\": \"LINCOLN\", \"zip\": \"z95648\", \"beds\": 2, \"baths\": 2.0, \"sqft\": 1704, \"type\": \"Residential\", \"price\": 350000, \"latitude\": 38.853869, \"longitude\": -121.271742}, {\"city\": \"SACRAMENTO\", \"zip\": \"z95838\", \"beds\": 4, \"baths\": 2.0, \"sqft\": 1991, \"type\": \"Residential\", \"price\": 225000, \"latitude\": 38.650729, \"longitude\": -121.466483}, {\"city\": \"SACRAMENTO\", \"zip\": \"z95829\", \"beds\": 3, \"baths\": 2.0, \"sqft\": 1124, \"type\": \"Residential\", \"price\": 185833, \"latitude\": 38.453839, \"longitude\": -121.357919}, {\"city\": \"SACRAMENTO\", \"zip\": \"z95822\", \"beds\": 3, \"baths\": 1.0, \"sqft\": 1320, \"type\": \"Residential\", \"price\": 148500, \"latitude\": 38.487444, \"longitude\": -121.491366}, {\"city\": \"ANTELOPE\", \"zip\": \"z95843\", \"beds\": 3, \"baths\": 2.0, \"sqft\": 1669, \"type\": \"Residential\", \"price\": 168750, \"latitude\": 38.71846, \"longitude\": -121.370862}, {\"city\": \"GOLD_RIVER\", \"zip\": \"z95670\", \"beds\": 2, \"baths\": 2.0, \"sqft\": 1520, \"type\": \"Residential\", \"price\": 299000, \"latitude\": 38.62869, \"longitude\": -121.261669}, {\"city\": \"CARMICHAEL\", \"zip\": \"z95608\", \"beds\": 3, \"baths\": 2.0, \"sqft\": 2334, \"type\": \"Residential\", \"price\": 415000, \"latitude\": 38.634111, \"longitude\": -121.353376}, {\"city\": \"SACRAMENTO\", \"zip\": \"z95842\", \"beds\": 2, \"baths\": 1.0, \"sqft\": 924, \"type\": \"Condo\", \"price\": 150454, \"latitude\": 38.672567, \"longitude\": -121.356754}, {\"city\": \"RANCHO_CORDOVA\", \"zip\": \"z95670\", \"beds\": 3, \"baths\": 2.0, \"sqft\": 1287, \"type\": \"Residential\", \"price\": 234697, \"latitude\": 38.593699, \"longitude\": -121.31089}, {\"city\": \"SACRAMENTO\", \"zip\": \"z95820\", \"beds\": 3, \"baths\": 1.0, \"sqft\": 1039, \"type\": \"Residential\", \"price\": 189000, \"latitude\": 38.530144, \"longitude\": -121.43749}, {\"city\": \"SACRAMENTO\", \"zip\": \"z95823\", \"beds\": 4, \"baths\": 2.0, \"sqft\": 1876, \"type\": \"Residential\", \"price\": 299940, \"latitude\": 38.49254, \"longitude\": -121.463316}, {\"city\": \"SACRAMENTO\", \"zip\": \"z95825\", \"beds\": 1, \"baths\": 1.0, \"sqft\": 682, \"type\": \"Condo\", \"price\": 107666, \"latitude\": 38.578675, \"longitude\": -121.409951}, {\"city\": \"SACRAMENTO\", \"zip\": \"z95829\", \"beds\": 4, \"baths\": 2.0, \"sqft\": 1816, \"type\": \"Residential\", \"price\": 240000, \"latitude\": 38.456939, \"longitude\": -121.362965}, {\"city\": \"ELK_GROVE\", \"zip\": \"z95757\", \"beds\": 3, \"baths\": 2.0, \"sqft\": 1567, \"type\": \"Residential\", \"price\": 230000, \"latitude\": 38.390557, \"longitude\": -121.449805}, {\"city\": \"SACRAMENTO\", \"zip\": \"z95842\", \"beds\": 2, \"baths\": 2.0, \"sqft\": 1022, \"type\": \"Residential\", \"price\": 108750, \"latitude\": 38.672914, \"longitude\": -121.35934}, {\"city\": \"ANTELOPE\", \"zip\": \"z95843\", \"beds\": 3, \"baths\": 2.0, \"sqft\": 1830, \"type\": \"Residential\", \"price\": 254172, \"latitude\": 38.710221, \"longitude\": -121.341707}, {\"city\": \"SACRAMENTO\", \"zip\": \"z95838\", \"beds\": 3, \"baths\": 2.0, \"sqft\": 1410, \"type\": \"Residential\", \"price\": 180000, \"latitude\": 38.646206, \"longitude\": -121.442767}, {\"city\": \"GALT\", \"zip\": \"z95632\", \"beds\": 3, \"baths\": 2.0, \"sqft\": 1080, \"type\": \"Residential\", \"price\": 122000, \"latitude\": 38.24227, \"longitude\": -121.31032}, {\"city\": \"SACRAMENTO\", \"zip\": \"z95833\", \"beds\": 4, \"baths\": 3.0, \"sqft\": 2447, \"type\": \"Residential\", \"price\": 246000, \"latitude\": 38.604969, \"longitude\": -121.54255}, {\"city\": \"ROSEVILLE\", \"zip\": \"z95678\", \"beds\": 3, \"baths\": 2.0, \"sqft\": 1401, \"type\": \"Residential\", \"price\": 294000, \"latitude\": 38.776327, \"longitude\": -121.284514}, {\"city\": \"SACRAMENTO\", \"zip\": \"z95829\", \"beds\": 3, \"baths\": 2.0, \"sqft\": 2170, \"type\": \"Residential\", \"price\": 257729, \"latitude\": 38.45967, \"longitude\": -121.360461}, {\"city\": \"SACRAMENTO\", \"zip\": \"z95815\", \"beds\": 2, \"baths\": 1.0, \"sqft\": 852, \"type\": \"Residential\", \"price\": 69307, \"latitude\": 38.616835, \"longitude\": -121.439146}, {\"city\": \"SACRAMENTO\", \"zip\": \"z95828\", \"beds\": 3, \"baths\": 2.0, \"sqft\": 1450, \"type\": \"Residential\", \"price\": 213000, \"latitude\": 38.467836, \"longitude\": -121.410366}, {\"city\": \"SACRAMENTO\", \"zip\": \"z95824\", \"beds\": 3, \"baths\": 2.0, \"sqft\": 1127, \"type\": \"Residential\", \"price\": 130000, \"latitude\": 38.52049, \"longitude\": -121.411383}, {\"city\": \"SACRAMENTO\", \"zip\": \"z95834\", \"beds\": 4, \"baths\": 3.0, \"sqft\": 2962, \"type\": \"Residential\", \"price\": 322000, \"latitude\": 38.64977, \"longitude\": -121.53448}, {\"city\": \"SACRAMENTO\", \"zip\": \"z95821\", \"beds\": 3, \"baths\": 1.0, \"sqft\": 1473, \"type\": \"Residential\", \"price\": 195000, \"latitude\": 38.611055, \"longitude\": -121.369964}, {\"city\": \"ANTELOPE\", \"zip\": \"z95843\", \"beds\": 4, \"baths\": 2.0, \"sqft\": 1830, \"type\": \"Residential\", \"price\": 387731, \"latitude\": 38.709873, \"longitude\": -121.339472}, {\"city\": \"ROCKLIN\", \"zip\": \"z95765\", \"beds\": 4, \"baths\": 2.5, \"sqft\": 1951, \"type\": \"Residential\", \"price\": 315000, \"latitude\": 38.815493, \"longitude\": -121.262908}, {\"city\": \"SACRAMENTO\", \"zip\": \"z95828\", \"beds\": 3, \"baths\": 2.0, \"sqft\": 1188, \"type\": \"Residential\", \"price\": 145000, \"latitude\": 38.488611, \"longitude\": -121.412808}, {\"city\": \"ELK_GROVE\", \"zip\": \"z95757\", \"beds\": 4, \"baths\": 2.0, \"sqft\": 2789, \"type\": \"Residential\", \"price\": 351000, \"latitude\": 38.388129, \"longitude\": -121.43117}, {\"city\": \"SACRAMENTO\", \"zip\": \"z95816\", \"beds\": 2, \"baths\": 1.0, \"sqft\": 1252, \"type\": \"Residential\", \"price\": 575000, \"latitude\": 38.568438, \"longitude\": -121.457854}, {\"city\": \"SACRAMENTO\", \"zip\": \"z95819\", \"beds\": 3, \"baths\": 1.0, \"sqft\": 1108, \"type\": \"Residential\", \"price\": 339000, \"latitude\": 38.563805, \"longitude\": -121.436395}, {\"city\": \"ELK_GROVE\", \"zip\": \"z95758\", \"beds\": 4, \"baths\": 2.0, \"sqft\": 1596, \"type\": \"Residential\", \"price\": 221000, \"latitude\": 38.427818, \"longitude\": -121.424026}, {\"city\": \"ROSEVILLE\", \"zip\": \"z95678\", \"beds\": 3, \"baths\": 2.0, \"sqft\": 2100, \"type\": \"Condo\", \"price\": 350000, \"latitude\": 38.762153, \"longitude\": -121.283451}, {\"city\": \"SACRAMENTO\", \"zip\": \"z95827\", \"beds\": 4, \"baths\": 2.0, \"sqft\": 2484, \"type\": \"Residential\", \"price\": 331200, \"latitude\": 38.56803, \"longitude\": -121.309966}, {\"city\": \"SACRAMENTO\", \"zip\": \"z95824\", \"beds\": 2, \"baths\": 1.0, \"sqft\": 861, \"type\": \"Residential\", \"price\": 75000, \"latitude\": 38.521202, \"longitude\": -121.428146}, {\"city\": \"ROSEVILLE\", \"zip\": \"z95678\", \"beds\": 3, \"baths\": 1.0, \"sqft\": 998, \"type\": \"Residential\", \"price\": 215100, \"latitude\": 38.746794, \"longitude\": -121.29971}, {\"city\": \"SACRAMENTO\", \"zip\": \"z95816\", \"beds\": 2, \"baths\": 2.0, \"sqft\": 1119, \"type\": \"Condo\", \"price\": 360000, \"latitude\": 38.53805, \"longitude\": -121.5047}, {\"city\": \"SACRAMENTO\", \"zip\": \"z95822\", \"beds\": 3, \"baths\": 1.0, \"sqft\": 1291, \"type\": \"Residential\", \"price\": 236250, \"latitude\": 38.534596, \"longitude\": -121.493121}, {\"city\": \"ELVERTA\", \"zip\": \"z95626\", \"beds\": 3, \"baths\": 2.0, \"sqft\": 1416, \"type\": \"Residential\", \"price\": 140000, \"latitude\": 38.71865, \"longitude\": -121.407763}, {\"city\": \"SACRAMENTO\", \"zip\": \"z95815\", \"beds\": 3, \"baths\": 1.0, \"sqft\": 970, \"type\": \"Residential\", \"price\": 61500, \"latitude\": 38.620685, \"longitude\": -121.460539}, {\"city\": \"EL_DORADO_HILLS\", \"zip\": \"z95762\", \"beds\": 5, \"baths\": 3.0, \"sqft\": 3117, \"type\": \"Residential\", \"price\": 541000, \"latitude\": 38.628459, \"longitude\": -121.055078}, {\"city\": \"ROCKLIN\", \"zip\": \"z95765\", \"beds\": 3, \"baths\": 2.0, \"sqft\": 1847, \"type\": \"Residential\", \"price\": 274500, \"latitude\": 38.805036, \"longitude\": -121.293608}, {\"city\": \"FAIR_OAKS\", \"zip\": \"z95628\", \"beds\": 3, \"baths\": 1.0, \"sqft\": 960, \"type\": \"Residential\", \"price\": 185000, \"latitude\": 38.667254, \"longitude\": -121.240708}, {\"city\": \"RANCHO_CORDOVA\", \"zip\": \"z95742\", \"beds\": 5, \"baths\": 4.0, \"sqft\": 3516, \"type\": \"Residential\", \"price\": 320000, \"latitude\": 38.545128, \"longitude\": -121.224922}, {\"city\": \"SACRAMENTO\", \"zip\": \"z95841\", \"beds\": 2, \"baths\": 1.0, \"sqft\": 756, \"type\": \"Condo\", \"price\": 230522, \"latitude\": 38.657789, \"longitude\": -121.354994}, {\"city\": \"SACRAMENTO\", \"zip\": \"z95833\", \"beds\": 4, \"baths\": 2.0, \"sqft\": 1390, \"type\": \"Residential\", \"price\": 125573, \"latitude\": 38.617173, \"longitude\": -121.482541}, {\"city\": \"GARDEN_VALLEY\", \"zip\": \"z95633\", \"beds\": 3, \"baths\": 2.0, \"sqft\": 2418, \"type\": \"Residential\", \"price\": 490000, \"latitude\": 38.84255, \"longitude\": -120.8754}, {\"city\": \"ELK_GROVE\", \"zip\": \"z95758\", \"beds\": 3, \"baths\": 2.0, \"sqft\": 1175, \"type\": \"Residential\", \"price\": 200000, \"latitude\": 38.42442, \"longitude\": -121.440357}, {\"city\": \"ROSEVILLE\", \"zip\": \"z95678\", \"beds\": 3, \"baths\": 2.0, \"sqft\": 1744, \"type\": \"Residential\", \"price\": 326951, \"latitude\": 38.771917, \"longitude\": -121.304439}, {\"city\": \"CITRUS_HEIGHTS\", \"zip\": \"z95621\", \"beds\": 2, \"baths\": 1.0, \"sqft\": 795, \"type\": \"Condo\", \"price\": 69000, \"latitude\": 38.680923, \"longitude\": -121.313945}, {\"city\": \"SACRAMENTO\", \"zip\": \"z95829\", \"beds\": 3, \"baths\": 2.0, \"sqft\": 1789, \"type\": \"Residential\", \"price\": 243450, \"latitude\": 38.455753, \"longitude\": -121.349273}, {\"city\": \"ELK_GROVE\", \"zip\": \"z95758\", \"beds\": 2, \"baths\": 2.0, \"sqft\": 1039, \"type\": \"Condo\", \"price\": 133000, \"latitude\": 38.423251, \"longitude\": -121.444489}, {\"city\": \"EL_DORADO_HILLS\", \"zip\": \"z95762\", \"beds\": 4, \"baths\": 4.0, \"sqft\": 3705, \"type\": \"Residential\", \"price\": 600000, \"latitude\": 38.672761, \"longitude\": -121.050378}, {\"city\": \"CITRUS_HEIGHTS\", \"zip\": \"z95610\", \"beds\": 3, \"baths\": 2.0, \"sqft\": 1317, \"type\": \"Residential\", \"price\": 215000, \"latitude\": 38.710388, \"longitude\": -121.261096}, {\"city\": \"RIO_LINDA\", \"zip\": \"z95673\", \"beds\": 3, \"baths\": 1.0, \"sqft\": 1284, \"type\": \"Residential\", \"price\": 300000, \"latitude\": 38.700553, \"longitude\": -121.452223}, {\"city\": \"CITRUS_HEIGHTS\", \"zip\": \"z95621\", \"beds\": 3, \"baths\": 2.0, \"sqft\": 1367, \"type\": \"Residential\", \"price\": 249000, \"latitude\": 38.708966, \"longitude\": -121.32467}, {\"city\": \"ELK_GROVE\", \"zip\": \"z95758\", \"beds\": 4, \"baths\": 2.0, \"sqft\": 2329, \"type\": \"Residential\", \"price\": 213750, \"latitude\": 38.449651, \"longitude\": -121.414704}, {\"city\": \"ELK_GROVE\", \"zip\": \"z95757\", \"beds\": 3, \"baths\": 2.0, \"sqft\": 1261, \"type\": \"Residential\", \"price\": 220000, \"latitude\": 38.404888, \"longitude\": -121.443998}, {\"city\": \"SACRAMENTO\", \"zip\": \"z95822\", \"beds\": 3, \"baths\": 2.0, \"sqft\": 1104, \"type\": \"Residential\", \"price\": 123000, \"latitude\": 38.50372, \"longitude\": -121.490657}, {\"city\": \"ELK_GROVE\", \"zip\": \"z95624\", \"beds\": 2, \"baths\": 2.0, \"sqft\": 1123, \"type\": \"Residential\", \"price\": 156000, \"latitude\": 38.41875, \"longitude\": -121.370019}, {\"city\": \"SACRAMENTO\", \"zip\": \"z95828\", \"beds\": 4, \"baths\": 2.0, \"sqft\": 1714, \"type\": \"Residential\", \"price\": 174313, \"latitude\": 38.474853, \"longitude\": -121.406326}, {\"city\": \"FOLSOM\", \"zip\": \"z95630\", \"beds\": 4, \"baths\": 2.0, \"sqft\": 1595, \"type\": \"Residential\", \"price\": 339000, \"latitude\": 38.652002, \"longitude\": -121.129504}, {\"city\": \"ELK_GROVE\", \"zip\": \"z95624\", \"beds\": 3, \"baths\": 2.0, \"sqft\": 1919, \"type\": \"Residential\", \"price\": 298000, \"latitude\": 38.446286, \"longitude\": -121.400817}, {\"city\": \"SACRAMENTO\", \"zip\": \"z95826\", \"beds\": 1, \"baths\": 1.0, \"sqft\": 611, \"type\": \"Condo\", \"price\": 60000, \"latitude\": 38.542419, \"longitude\": -121.359904}]}}, {\"mode\": \"vega-lite\"});\n",
       "</script>"
      ],
      "text/plain": [
       "alt.LayerChart(...)"
      ]
     },
     "execution_count": 18,
     "metadata": {},
     "output_type": "execute_result"
    }
   ],
   "source": [
    "lm_plot_final = (\n",
    "    alt.Chart(sacramento_train)\n",
    "    .mark_circle(color=\"black\", opacity=0.3)\n",
    "    .encode(\n",
    "        x=alt.X(\"sqft\", title=\"House size (square feet)\", scale=alt.Scale(zero=False)),\n",
    "        y=alt.Y(\n",
    "            \"price\",\n",
    "            title=\"Price (USD)\",\n",
    "            axis=alt.Axis(format=\"$,.0f\"),\n",
    "            scale=alt.Scale(zero=False),\n",
    "        ),\n",
    "    )\n",
    ")\n",
    "\n",
    "lm_plot_final += lm_plot_final.transform_regression(\"sqft\", \"price\").mark_line(\n",
    "    color=\"blue\"\n",
    ")\n",
    "\n",
    "lm_plot_final"
   ]
  },
  {
   "cell_type": "code",
   "execution_count": 19,
   "id": "2f04e37c",
   "metadata": {
    "tags": [
     "remove-cell"
    ]
   },
   "outputs": [
    {
     "ename": "NameError",
     "evalue": "name 'glue' is not defined",
     "output_type": "error",
     "traceback": [
      "\u001b[0;31m---------------------------------------------------------------------------\u001b[0m",
      "\u001b[0;31mNameError\u001b[0m                                 Traceback (most recent call last)",
      "Input \u001b[0;32mIn [19]\u001b[0m, in \u001b[0;36m<cell line: 1>\u001b[0;34m()\u001b[0m\n\u001b[0;32m----> 1\u001b[0m \u001b[43mglue\u001b[49m(\u001b[38;5;124m\"\u001b[39m\u001b[38;5;124mfig:08-lm-predict-all\u001b[39m\u001b[38;5;124m\"\u001b[39m, lm_plot_final)\n",
      "\u001b[0;31mNameError\u001b[0m: name 'glue' is not defined"
     ]
    }
   ],
   "source": [
    "glue(\"fig:08-lm-predict-all\", lm_plot_final)"
   ]
  },
  {
   "cell_type": "markdown",
   "id": "b6ab3682",
   "metadata": {},
   "source": [
    ":::{glue:figure} fig:08-lm-predict-all\n",
    ":name: fig:08-lm-predict-all\n",
    "\n",
    "Scatter plot of sale price versus size with line of best fit for the full Sacramento housing data.\n",
    ":::"
   ]
  },
  {
   "cell_type": "code",
   "execution_count": 20,
   "id": "b9478580",
   "metadata": {
    "tags": [
     "remove-cell"
    ]
   },
   "outputs": [],
   "source": [
    "# We can extract the coefficients from our model by accessing the\n",
    "# fit object that is output by the `fit` \\index{tidymodels!fit} function; we first have to extract\n",
    "# it from the workflow using the `pull_workflow_fit` function, and then apply\n",
    "# the `tidy` function to convert the result into a data frame:\n",
    "\n",
    "# ```{r 08-lm-get-coeffs}\n",
    "# coeffs <- lm_fit |>\n",
    "#              pull_workflow_fit() |>\n",
    "#              tidy()\n",
    "# coeffs\n",
    "# ```"
   ]
  },
  {
   "cell_type": "markdown",
   "id": "b1edf2ec",
   "metadata": {},
   "source": [
    "## Comparing simple linear and KNN regression\n",
    "\n",
    "Now that we have a general understanding of both simple linear and KNN\n",
    "regression, we \\index{regression!comparison of methods} can start to compare and contrast these methods as well as the\n",
    "predictions made by them. To start, let's look at the visualization of the\n",
    "simple linear regression model predictions for the Sacramento real estate data\n",
    "(predicting price from house size) and the \"best\" KNN regression model\n",
    "obtained from the same problem, shown in {numref}`fig:08-compareRegression`."
   ]
  },
  {
   "cell_type": "code",
   "execution_count": 21,
   "id": "a7e600ba",
   "metadata": {
    "tags": [
     "remove-cell"
    ]
   },
   "outputs": [],
   "source": [
    "# preprocess the data, make the pipeline\n",
    "sacr_preprocessor = make_column_transformer((StandardScaler(), [\"sqft\"]))\n",
    "sacr_pipeline_knn = make_pipeline(\n",
    "    sacr_preprocessor, KNeighborsRegressor(n_neighbors=31)\n",
    ")  # 31 is the best parameter obtained through cross validation in regression1 chapter\n",
    "\n",
    "sacr_pipeline_knn.fit(X_train, y_train)\n",
    "\n",
    "# knn in-sample predictions (on training split)\n",
    "sacr_preds_knn = sacramento_train\n",
    "sacr_preds_knn = sacr_preds_knn.assign(\n",
    "    knn_predicted=sacr_pipeline_knn.predict(sacramento_train)\n",
    ")\n",
    "\n",
    "# sacr_rmse_knn = np.sqrt(\n",
    "#     mean_squared_error(\n",
    "#         y_true=sacr_preds_knn[\"price\"], y_pred=sacr_preds_knn[\"knn_predicted\"]\n",
    "#     )\n",
    "# )\n",
    "\n",
    "# knn out-of-sample predictions (on test split)\n",
    "sacr_preds_knn_test = sacramento_test\n",
    "sacr_preds_knn_test = sacr_preds_knn_test.assign(\n",
    "    knn_predicted=sacr_pipeline_knn.predict(sacramento_test)\n",
    ")\n",
    "\n",
    "sacr_rmspe_knn = np.sqrt(\n",
    "    mean_squared_error(\n",
    "        y_true=sacr_preds_knn_test[\"price\"], y_pred=sacr_preds_knn_test[\"knn_predicted\"]\n",
    "    )\n",
    ")\n",
    "\n",
    "# plot knn in-sample predictions overlaid on scatter plot\n",
    "knn_plot_final = (\n",
    "    alt.Chart(sacr_preds_knn, title=\"KNN regression\")\n",
    "    .mark_circle(color=\"black\", opacity=0.3)\n",
    "    .encode(\n",
    "        x=alt.X(\"sqft\", title=\"House size (square feet)\", scale=alt.Scale(zero=False)),\n",
    "        y=alt.Y(\n",
    "            \"price\",\n",
    "            title=\"Price (USD)\",\n",
    "            axis=alt.Axis(format=\"$,.0f\"),\n",
    "            scale=alt.Scale(zero=False),\n",
    "        ),\n",
    "    )\n",
    ")\n",
    "\n",
    "knn_plot_final = (\n",
    "    knn_plot_final\n",
    "    + knn_plot_final.mark_line(color=\"blue\").encode(x=\"sqft\", y=\"knn_predicted\")\n",
    "    + alt.Chart(  # add the text\n",
    "        pd.DataFrame(\n",
    "            {\n",
    "                \"x\": [3500],\n",
    "                \"y\": [100000],\n",
    "                \"rmspe\": [f\"RMSPE = {round(sacr_rmspe_knn)}\"],\n",
    "            }\n",
    "        )\n",
    "    )\n",
    "    .mark_text(dy=-5, size=15)\n",
    "    .encode(x=\"x\", y=\"y\", text=\"rmspe\")\n",
    ")\n",
    "\n",
    "\n",
    "# add more components to lm_plot_final\n",
    "lm_plot_final = (\n",
    "    alt.Chart(sacramento_train, title=\"linear regression\")\n",
    "    .mark_circle(color=\"black\", opacity=0.3)\n",
    "    .encode(\n",
    "        x=alt.X(\"sqft\", title=\"House size (square feet)\", scale=alt.Scale(zero=False)),\n",
    "        y=alt.Y(\n",
    "            \"price\",\n",
    "            title=\"Price (USD)\",\n",
    "            axis=alt.Axis(format=\"$,.0f\"),\n",
    "            scale=alt.Scale(zero=False),\n",
    "        ),\n",
    "    )\n",
    ")\n",
    "\n",
    "lm_plot_final = (\n",
    "    lm_plot_final\n",
    "    + lm_plot_final.transform_regression(\"sqft\", \"price\").mark_line(color=\"blue\")\n",
    "    + alt.Chart(  # add the text\n",
    "        pd.DataFrame(\n",
    "            {\n",
    "                \"x\": [3500],\n",
    "                \"y\": [100000],\n",
    "                \"rmspe\": [f\"RMSPE = {round(RMSPE)}\"],\n",
    "            }\n",
    "        )\n",
    "    )\n",
    "    .mark_text(dy=-5, size=15)\n",
    "    .encode(x=\"x\", y=\"y\", text=\"rmspe\")\n",
    ")"
   ]
  },
  {
   "cell_type": "code",
   "execution_count": 22,
   "id": "cef69f8d",
   "metadata": {
    "tags": [
     "remove-cell"
    ]
   },
   "outputs": [
    {
     "ename": "NameError",
     "evalue": "name 'glue' is not defined",
     "output_type": "error",
     "traceback": [
      "\u001b[0;31m---------------------------------------------------------------------------\u001b[0m",
      "\u001b[0;31mNameError\u001b[0m                                 Traceback (most recent call last)",
      "Input \u001b[0;32mIn [22]\u001b[0m, in \u001b[0;36m<cell line: 1>\u001b[0;34m()\u001b[0m\n\u001b[0;32m----> 1\u001b[0m \u001b[43mglue\u001b[49m(\u001b[38;5;124m\"\u001b[39m\u001b[38;5;124mfig:08-compareRegression\u001b[39m\u001b[38;5;124m\"\u001b[39m, (lm_plot_final \u001b[38;5;241m|\u001b[39m knn_plot_final))\n",
      "\u001b[0;31mNameError\u001b[0m: name 'glue' is not defined"
     ]
    }
   ],
   "source": [
    "glue(\"fig:08-compareRegression\", (lm_plot_final | knn_plot_final))"
   ]
  },
  {
   "cell_type": "markdown",
   "id": "5f340b58",
   "metadata": {},
   "source": [
    ":::{glue:figure} fig:08-compareRegression\n",
    ":name: fig:08-compareRegression\n",
    "\n",
    "Comparison of simple linear regression and KNN regression.\n",
    ":::"
   ]
  },
  {
   "cell_type": "markdown",
   "id": "d039fa56",
   "metadata": {},
   "source": [
    "What differences do we observe in {numref}`fig:08-compareRegression`? One obvious\n",
    "difference is the shape of the blue lines. In simple linear regression we are\n",
    "restricted to a straight line, whereas in KNN regression our line is much more\n",
    "flexible and can be quite wiggly. But there is a major interpretability advantage in limiting the\n",
    "model to a straight line. A \n",
    "straight line can be defined by two numbers, the\n",
    "vertical intercept and the slope. The intercept tells us what the prediction is when\n",
    "all of the predictors are equal to 0; and the slope tells us what unit increase in the target/response\n",
    "variable we predict given a unit increase in the predictor\n",
    "variable. KNN regression, as simple as it is to implement and understand, has no such\n",
    "interpretability from its wiggly line. \n",
    "\n",
    "There can, however, also be a disadvantage to using a simple linear regression\n",
    "model in some cases, particularly when the relationship between the target and\n",
    "the predictor is not linear, but instead some other shape (e.g., curved or oscillating). In \n",
    "these cases the prediction model from a simple linear regression\n",
    "will underfit \\index{underfitting!regression} (have high bias), meaning that model/predicted values do not\n",
    "match the actual observed values very well. Such a model would probably have a\n",
    "quite high RMSE when assessing model goodness of fit on the training data and\n",
    "a quite high RMSPE when assessing model prediction quality on a test data\n",
    "set. On such a data set, KNN regression may fare better. Additionally, there\n",
    "are other types of regression you can learn about in future books that may do\n",
    "even better at predicting with such data.\n",
    "\n",
    "How do these two models compare on the Sacramento house prices data set? In\n",
    "{numref}`fig:08-compareRegression`, we also printed the RMSPE as calculated from \n",
    "predicting on the test data set that was not used to train/fit the models. The RMSPE for the simple linear\n",
    "regression model is slightly lower than the RMSPE for the KNN regression model.\n",
    "Considering that the simple linear regression model is also more interpretable,\n",
    "if we were comparing these in practice we would likely choose to use the simple\n",
    "linear regression model.\n",
    "\n",
    "Finally, note that the KNN regression model becomes \"flat\"\n",
    "at the left and right boundaries of the data, while the linear model\n",
    "predicts a constant slope. Predicting outside the range of the observed\n",
    "data is known as *extrapolation*; \\index{extrapolation} KNN and linear models behave quite differently\n",
    "when extrapolating. Depending on the application, the flat\n",
    "or constant slope trend may make more sense. For example, if our housing\n",
    "data were slightly different, the linear model may have actually predicted \n",
    "a *negative* price for a small house (if the intercept $\\beta_0$ was negative),\n",
    "which obviously does not match reality. On the other hand, the trend of increasing\n",
    "house size corresponding to increasing house price probably continues for large houses, \n",
    "so the \"flat\" extrapolation of KNN likely does not match reality."
   ]
  },
  {
   "cell_type": "markdown",
   "id": "ae361b16",
   "metadata": {},
   "source": [
    "## Multivariable linear regression"
   ]
  },
  {
   "cell_type": "markdown",
   "id": "0a8501da",
   "metadata": {},
   "source": [
    "As in KNN classification and KNN regression, we can move beyond the simple\n",
    "case of only one predictor to the case with multiple predictors, \n",
    "known as *multivariable linear regression*. \\index{regression!multivariable linear}\\index{regression!multivariable linear equation|see{plane equation}}\n",
    "To do this, we follow a very similar approach to what we did for\n",
    "KNN regression: we just specify the training data by adding more predictors. \n",
    "But recall that we do not need to use cross-validation to choose any parameters,\n",
    "nor do we need to standardize (i.e., center and scale) the data for linear regression. \n",
    "Note once again that we have the same concerns regarding multiple predictors\n",
    " as in the settings of multivariable KNN regression and classification: having more predictors is **not** always\n",
    "better. But because the same predictor selection \n",
    "algorithm from the classification chapter extends to the setting of linear regression,\n",
    "it will not be covered again in this chapter.\n",
    "\n",
    "We will demonstrate multivariable linear regression using the Sacramento real estate  \\index{Sacramento real estate}\n",
    "data with both house size\n",
    "(measured in square feet) as well as number of bedrooms as our predictors, and\n",
    "continue to use house sale price as our response variable. We will start by \n",
    "specifying the training data to \n",
    "include both the `sqft` and `beds` variables as predictors:"
   ]
  },
  {
   "cell_type": "code",
   "execution_count": 23,
   "id": "4daefb49",
   "metadata": {
    "tags": [
     "remove-cell"
    ]
   },
   "outputs": [],
   "source": [
    "# As in KNN classification and KNN regression, we can move beyond the simple\n",
    "# case of only one predictor to the case with multiple predictors, \n",
    "# known as *multivariable linear regression*. \\index{regression!multivariable linear}\\index{regression!multivariable linear equation|see{plane equation}}\n",
    "# To do this, we follow a very similar approach to what we did for\n",
    "# KNN regression: we just add more predictors to the model formula in the \n",
    "# recipe. But recall that we do not need to use cross-validation to choose any parameters,\n",
    "# nor do we need to standardize (i.e., center and scale) the data for linear regression. \n",
    "# Note once again that we have the same concerns regarding multiple predictors\n",
    "#  as in the settings of multivariable KNN regression and classification: having more predictors is **not** always\n",
    "# better. But because the same predictor selection \n",
    "# algorithm from the classification chapter extends to the setting of linear regression,\n",
    "# it will not be covered again in this chapter.\n",
    "\n",
    "# We will demonstrate multivariable linear regression using the Sacramento real estate  \\index{Sacramento real estate}\n",
    "# data with both house size\n",
    "# (measured in square feet) as well as number of bedrooms as our predictors, and\n",
    "# continue to use house sale price as our response variable. We will start by \n",
    "# changing the formula in the recipe to \n",
    "# include both the `sqft` and `beds` variables as predictors:"
   ]
  },
  {
   "cell_type": "code",
   "execution_count": 24,
   "id": "fd6f0572",
   "metadata": {},
   "outputs": [],
   "source": [
    "mlm = LinearRegression()\n",
    "X_train = sacramento_train[[\"sqft\", \"beds\"]]\n",
    "y_train = sacramento_train[[\"price\"]]"
   ]
  },
  {
   "cell_type": "markdown",
   "id": "5a800857",
   "metadata": {},
   "source": [
    "Now we can fit the model:"
   ]
  },
  {
   "cell_type": "code",
   "execution_count": 25,
   "id": "d919a37d",
   "metadata": {},
   "outputs": [
    {
     "data": {
      "text/html": [
       "<div>\n",
       "<style scoped>\n",
       "    .dataframe tbody tr th:only-of-type {\n",
       "        vertical-align: middle;\n",
       "    }\n",
       "\n",
       "    .dataframe tbody tr th {\n",
       "        vertical-align: top;\n",
       "    }\n",
       "\n",
       "    .dataframe thead th {\n",
       "        text-align: right;\n",
       "    }\n",
       "</style>\n",
       "<table border=\"1\" class=\"dataframe\">\n",
       "  <thead>\n",
       "    <tr style=\"text-align: right;\">\n",
       "      <th></th>\n",
       "      <th>slope_sqft</th>\n",
       "      <th>slope_beds</th>\n",
       "      <th>intercept</th>\n",
       "    </tr>\n",
       "  </thead>\n",
       "  <tbody>\n",
       "    <tr>\n",
       "      <th>0</th>\n",
       "      <td>153.845946</td>\n",
       "      <td>-22467.332589</td>\n",
       "      <td>61181.737556</td>\n",
       "    </tr>\n",
       "  </tbody>\n",
       "</table>\n",
       "</div>"
      ],
      "text/plain": [
       "   slope_sqft    slope_beds     intercept\n",
       "0  153.845946 -22467.332589  61181.737556"
      ]
     },
     "execution_count": 25,
     "metadata": {},
     "output_type": "execute_result"
    }
   ],
   "source": [
    "mlm.fit(X_train, y_train)\n",
    "\n",
    "# make a dataframe containing slope and intercept coefficients\n",
    "pd.DataFrame(\n",
    "    {\n",
    "        \"slope_sqft\": mlm.coef_[0][0],\n",
    "        \"slope_beds\": mlm.coef_[0][1],\n",
    "        \"intercept\": mlm.intercept_,\n",
    "    }\n",
    ")"
   ]
  },
  {
   "cell_type": "markdown",
   "id": "f5afa609",
   "metadata": {},
   "source": [
    "And finally, we make predictions on the test data set to assess the quality of our model:"
   ]
  },
  {
   "cell_type": "code",
   "execution_count": 26,
   "id": "f7bb0b37",
   "metadata": {},
   "outputs": [
    {
     "data": {
      "text/plain": [
       "75766.82243310397"
      ]
     },
     "execution_count": 26,
     "metadata": {},
     "output_type": "execute_result"
    }
   ],
   "source": [
    "X_test = sacramento_test[[\"sqft\", \"beds\"]]\n",
    "y_test = sacramento_test[[\"price\"]]\n",
    "\n",
    "# predict on test data\n",
    "sacr_preds = sacramento_test\n",
    "sacr_preds = sacr_preds.assign(predicted=mlm.predict(X_test))\n",
    "\n",
    "# calculate RMSPE\n",
    "from sklearn.metrics import mean_squared_error\n",
    "\n",
    "lm_mult_test_RMSPE = np.sqrt(\n",
    "    mean_squared_error(y_true=sacr_preds[\"price\"], y_pred=sacr_preds[\"predicted\"])\n",
    ")\n",
    "\n",
    "lm_mult_test_RMSPE"
   ]
  },
  {
   "cell_type": "code",
   "execution_count": 27,
   "id": "bdd37a0f",
   "metadata": {
    "tags": [
     "remove-cell"
    ]
   },
   "outputs": [
    {
     "ename": "NameError",
     "evalue": "name 'glue' is not defined",
     "output_type": "error",
     "traceback": [
      "\u001b[0;31m---------------------------------------------------------------------------\u001b[0m",
      "\u001b[0;31mNameError\u001b[0m                                 Traceback (most recent call last)",
      "Input \u001b[0;32mIn [27]\u001b[0m, in \u001b[0;36m<cell line: 1>\u001b[0;34m()\u001b[0m\n\u001b[0;32m----> 1\u001b[0m \u001b[43mglue\u001b[49m(\u001b[38;5;124m\"\u001b[39m\u001b[38;5;124msacr_mult_RMSPE\u001b[39m\u001b[38;5;124m\"\u001b[39m, \u001b[38;5;124m\"\u001b[39m\u001b[38;5;132;01m{0:,.0f}\u001b[39;00m\u001b[38;5;124m\"\u001b[39m\u001b[38;5;241m.\u001b[39mformat(lm_mult_test_RMSPE))\n",
      "\u001b[0;31mNameError\u001b[0m: name 'glue' is not defined"
     ]
    }
   ],
   "source": [
    "glue(\"sacr_mult_RMSPE\", \"{0:,.0f}\".format(lm_mult_test_RMSPE))"
   ]
  },
  {
   "cell_type": "markdown",
   "id": "f989aa25",
   "metadata": {},
   "source": [
    "Our model's test error as assessed by RMSPE\n",
    "is {glue:text}`sacr_mult_RMSPE`.\n",
    "In the case of two predictors, we can plot the predictions made by our linear regression creates a *plane* of best fit, as\n",
    "shown in {numref}`fig:08-3DlinReg`."
   ]
  },
  {
   "cell_type": "code",
   "execution_count": 28,
   "id": "f7ea1ad4",
   "metadata": {
    "tags": [
     "remove-cell"
    ]
   },
   "outputs": [
    {
     "ename": "NameError",
     "evalue": "name 'px' is not defined",
     "output_type": "error",
     "traceback": [
      "\u001b[0;31m---------------------------------------------------------------------------\u001b[0m",
      "\u001b[0;31mNameError\u001b[0m                                 Traceback (most recent call last)",
      "Input \u001b[0;32mIn [28]\u001b[0m, in \u001b[0;36m<cell line: 14>\u001b[0;34m()\u001b[0m\n\u001b[1;32m     11\u001b[0m \u001b[38;5;66;03m# add prediction\u001b[39;00m\n\u001b[1;32m     12\u001b[0m mlmPredGrid \u001b[38;5;241m=\u001b[39m mlm\u001b[38;5;241m.\u001b[39mpredict(xygrid)\n\u001b[0;32m---> 14\u001b[0m fig \u001b[38;5;241m=\u001b[39m \u001b[43mpx\u001b[49m\u001b[38;5;241m.\u001b[39mscatter_3d(\n\u001b[1;32m     15\u001b[0m     sacramento_train,\n\u001b[1;32m     16\u001b[0m     x\u001b[38;5;241m=\u001b[39m\u001b[38;5;124m\"\u001b[39m\u001b[38;5;124msqft\u001b[39m\u001b[38;5;124m\"\u001b[39m,\n\u001b[1;32m     17\u001b[0m     y\u001b[38;5;241m=\u001b[39m\u001b[38;5;124m\"\u001b[39m\u001b[38;5;124mbeds\u001b[39m\u001b[38;5;124m\"\u001b[39m,\n\u001b[1;32m     18\u001b[0m     z\u001b[38;5;241m=\u001b[39m\u001b[38;5;124m\"\u001b[39m\u001b[38;5;124mprice\u001b[39m\u001b[38;5;124m\"\u001b[39m,\n\u001b[1;32m     19\u001b[0m     opacity\u001b[38;5;241m=\u001b[39m\u001b[38;5;241m0.4\u001b[39m,\n\u001b[1;32m     20\u001b[0m     labels\u001b[38;5;241m=\u001b[39m{\u001b[38;5;124m\"\u001b[39m\u001b[38;5;124msqft\u001b[39m\u001b[38;5;124m\"\u001b[39m: \u001b[38;5;124m\"\u001b[39m\u001b[38;5;124mSize (sq ft)\u001b[39m\u001b[38;5;124m\"\u001b[39m, \u001b[38;5;124m\"\u001b[39m\u001b[38;5;124mbeds\u001b[39m\u001b[38;5;124m\"\u001b[39m: \u001b[38;5;124m\"\u001b[39m\u001b[38;5;124mBedrooms\u001b[39m\u001b[38;5;124m\"\u001b[39m, \u001b[38;5;124m\"\u001b[39m\u001b[38;5;124mprice\u001b[39m\u001b[38;5;124m\"\u001b[39m: \u001b[38;5;124m\"\u001b[39m\u001b[38;5;124mPrice (USD)\u001b[39m\u001b[38;5;124m\"\u001b[39m},\n\u001b[1;32m     21\u001b[0m )\n\u001b[1;32m     23\u001b[0m fig\u001b[38;5;241m.\u001b[39mupdate_traces(marker\u001b[38;5;241m=\u001b[39m{\u001b[38;5;124m\"\u001b[39m\u001b[38;5;124msize\u001b[39m\u001b[38;5;124m\"\u001b[39m: \u001b[38;5;241m2\u001b[39m, \u001b[38;5;124m\"\u001b[39m\u001b[38;5;124mcolor\u001b[39m\u001b[38;5;124m\"\u001b[39m: \u001b[38;5;124m\"\u001b[39m\u001b[38;5;124mred\u001b[39m\u001b[38;5;124m\"\u001b[39m})\n\u001b[1;32m     25\u001b[0m fig\u001b[38;5;241m.\u001b[39madd_trace(\n\u001b[1;32m     26\u001b[0m     go\u001b[38;5;241m.\u001b[39mSurface(\n\u001b[1;32m     27\u001b[0m         x\u001b[38;5;241m=\u001b[39mxvals,\n\u001b[0;32m   (...)\u001b[0m\n\u001b[1;32m     33\u001b[0m     )\n\u001b[1;32m     34\u001b[0m )\n",
      "\u001b[0;31mNameError\u001b[0m: name 'px' is not defined"
     ]
    }
   ],
   "source": [
    "# create a prediction pt grid\n",
    "xvals = np.linspace(\n",
    "    sacramento_train[\"sqft\"].min(), sacramento_train[\"sqft\"].max(), 50\n",
    ")\n",
    "yvals = np.linspace(\n",
    "    sacramento_train[\"beds\"].min(), sacramento_train[\"beds\"].max(), 50\n",
    ")\n",
    "xygrid = np.array(np.meshgrid(xvals, yvals)).reshape(2, -1).T\n",
    "xygrid = pd.DataFrame(xygrid, columns=[\"sqft\", \"beds\"])\n",
    "\n",
    "# add prediction\n",
    "mlmPredGrid = mlm.predict(xygrid)\n",
    "\n",
    "fig = px.scatter_3d(\n",
    "    sacramento_train,\n",
    "    x=\"sqft\",\n",
    "    y=\"beds\",\n",
    "    z=\"price\",\n",
    "    opacity=0.4,\n",
    "    labels={\"sqft\": \"Size (sq ft)\", \"beds\": \"Bedrooms\", \"price\": \"Price (USD)\"},\n",
    ")\n",
    "\n",
    "fig.update_traces(marker={\"size\": 2, \"color\": \"red\"})\n",
    "\n",
    "fig.add_trace(\n",
    "    go.Surface(\n",
    "        x=xvals,\n",
    "        y=yvals,\n",
    "        z=mlmPredGrid.reshape(50, -1),\n",
    "        name=\"Predictions\",\n",
    "        colorscale=\"viridis\",\n",
    "        colorbar={\"title\": \"Price (USD)\"}\n",
    "    )\n",
    ")\n",
    "\n",
    "fig.update_layout(\n",
    "    margin=dict(l=0, r=0, b=0, t=1),\n",
    "    template=\"plotly_white\",\n",
    ")\n",
    "\n",
    "plot(fig, filename=\"img/regression2/fig08-3DlinReg.html\", auto_open=False)"
   ]
  },
  {
   "cell_type": "code",
   "execution_count": 29,
   "id": "4c34623b",
   "metadata": {
    "tags": [
     "remove-input"
    ]
   },
   "outputs": [
    {
     "ename": "NameError",
     "evalue": "name 'HTML' is not defined",
     "output_type": "error",
     "traceback": [
      "\u001b[0;31m---------------------------------------------------------------------------\u001b[0m",
      "\u001b[0;31mNameError\u001b[0m                                 Traceback (most recent call last)",
      "Input \u001b[0;32mIn [29]\u001b[0m, in \u001b[0;36m<cell line: 1>\u001b[0;34m()\u001b[0m\n\u001b[0;32m----> 1\u001b[0m display(\u001b[43mHTML\u001b[49m(\u001b[38;5;124m\"\u001b[39m\u001b[38;5;124mimg/regression2/fig08-3DlinReg.html\u001b[39m\u001b[38;5;124m\"\u001b[39m))\n",
      "\u001b[0;31mNameError\u001b[0m: name 'HTML' is not defined"
     ]
    }
   ],
   "source": [
    "display(HTML(\"img/regression2/fig08-3DlinReg.html\"))"
   ]
  },
  {
   "cell_type": "markdown",
   "id": "68d65dac",
   "metadata": {},
   "source": [
    "```{figure} data:image/gif;base64,R0lGODlhAQABAIAAAAAAAP///yH5BAEAAAAALAAAAAABAAEAAAIBRAA7\n",
    ":name: fig:08-3DlinReg\n",
    ":figclass: caption-hack\n",
    "\n",
    "Linear regression plane of best fit overlaid on top of the data (using price, house size, and number of bedrooms as predictors). Note that in general we recommend against using 3D visualizations; here we use a 3D visualization only to illustrate what the regression plane looks like for learning purposes.\n",
    "```"
   ]
  },
  {
   "cell_type": "markdown",
   "id": "cc21f922",
   "metadata": {},
   "source": [
    "We see that the predictions from linear regression with two predictors form a\n",
    "flat plane. This is the hallmark of linear regression, and differs from the \n",
    "wiggly, flexible surface we get from other methods such as KNN regression. \n",
    " As discussed, this can be advantageous in one aspect, which is that for each\n",
    "predictor, we can get slopes/intercept from linear regression, and thus describe the\n",
    "plane mathematically. We can extract those slope values from our model object\n",
    "as shown below:"
   ]
  },
  {
   "cell_type": "code",
   "execution_count": 30,
   "id": "a68c5bdd",
   "metadata": {},
   "outputs": [
    {
     "data": {
      "text/plain": [
       "array([[   153.84594561, -22467.33258926]])"
      ]
     },
     "execution_count": 30,
     "metadata": {},
     "output_type": "execute_result"
    }
   ],
   "source": [
    "mlm.coef_"
   ]
  },
  {
   "cell_type": "code",
   "execution_count": 31,
   "id": "253e4bd0",
   "metadata": {},
   "outputs": [
    {
     "data": {
      "text/plain": [
       "array([61181.73755637])"
      ]
     },
     "execution_count": 31,
     "metadata": {},
     "output_type": "execute_result"
    }
   ],
   "source": [
    "mlm.intercept_"
   ]
  },
  {
   "cell_type": "markdown",
   "id": "2673b328",
   "metadata": {},
   "source": [
    "And then use those slopes to write a mathematical equation to describe the prediction plane: \\index{plane equation}\n",
    "\n",
    "$$\\text{house sale price} = \\beta_0 + \\beta_1\\cdot(\\text{house size}) + \\beta_2\\cdot(\\text{number of bedrooms}),$$\n",
    "where:\n",
    "\n",
    "- $\\beta_0$ is the *vertical intercept* of the hyperplane (the price when both house size and number of bedrooms are 0)\n",
    "- $\\beta_1$ is the *slope* for the first predictor (how quickly the price increases as you increase house size)\n",
    "- $\\beta_2$ is the *slope* for the second predictor (how quickly the price increases as you increase the number of bedrooms)\n",
    "\n",
    "Finally, we can fill in the values for $\\beta_0$, $\\beta_1$ and $\\beta_2$ from the model output above\n",
    "to create the equation of the plane of best fit to the data:"
   ]
  },
  {
   "cell_type": "code",
   "execution_count": 32,
   "id": "3b1c14de",
   "metadata": {
    "tags": [
     "remove-cell"
    ]
   },
   "outputs": [
    {
     "ename": "NameError",
     "evalue": "name 'glue' is not defined",
     "output_type": "error",
     "traceback": [
      "\u001b[0;31m---------------------------------------------------------------------------\u001b[0m",
      "\u001b[0;31mNameError\u001b[0m                                 Traceback (most recent call last)",
      "Input \u001b[0;32mIn [32]\u001b[0m, in \u001b[0;36m<cell line: 4>\u001b[0;34m()\u001b[0m\n\u001b[1;32m      2\u001b[0m sqftc \u001b[38;5;241m=\u001b[39m \u001b[38;5;124m\"\u001b[39m\u001b[38;5;132;01m{0:,.0f}\u001b[39;00m\u001b[38;5;124m\"\u001b[39m\u001b[38;5;241m.\u001b[39mformat(mlm\u001b[38;5;241m.\u001b[39mcoef_[\u001b[38;5;241m0\u001b[39m][\u001b[38;5;241m0\u001b[39m])\n\u001b[1;32m      3\u001b[0m bedsc \u001b[38;5;241m=\u001b[39m \u001b[38;5;124m\"\u001b[39m\u001b[38;5;132;01m{0:,.0f}\u001b[39;00m\u001b[38;5;124m\"\u001b[39m\u001b[38;5;241m.\u001b[39mformat(mlm\u001b[38;5;241m.\u001b[39mcoef_[\u001b[38;5;241m0\u001b[39m][\u001b[38;5;241m1\u001b[39m])\n\u001b[0;32m----> 4\u001b[0m \u001b[43mglue\u001b[49m(\u001b[38;5;124m\"\u001b[39m\u001b[38;5;124micept\u001b[39m\u001b[38;5;124m\"\u001b[39m, icept)\n\u001b[1;32m      5\u001b[0m glue(\u001b[38;5;124m\"\u001b[39m\u001b[38;5;124msqftc\u001b[39m\u001b[38;5;124m\"\u001b[39m, sqftc)\n\u001b[1;32m      6\u001b[0m glue(\u001b[38;5;124m\"\u001b[39m\u001b[38;5;124mbedsc\u001b[39m\u001b[38;5;124m\"\u001b[39m, bedsc)\n",
      "\u001b[0;31mNameError\u001b[0m: name 'glue' is not defined"
     ]
    }
   ],
   "source": [
    "icept = \"{0:,.0f}\".format(mlm.intercept_[0])\n",
    "sqftc = \"{0:,.0f}\".format(mlm.coef_[0][0])\n",
    "bedsc = \"{0:,.0f}\".format(mlm.coef_[0][1])\n",
    "glue(\"icept\", icept)\n",
    "glue(\"sqftc\", sqftc)\n",
    "glue(\"bedsc\", bedsc)"
   ]
  },
  {
   "cell_type": "markdown",
   "id": "c4f1d165",
   "metadata": {},
   "source": [
    "$\\text{house sale price} =$ {glue:text}`icept` $+$ {glue:text}`sqftc` $\\cdot (\\text{house size})$ {glue:text}`bedsc` $\\cdot (\\text{number of bedrooms})$\n",
    "\n",
    "This model is more interpretable than the multivariable KNN\n",
    "regression model; we can write a mathematical equation that explains how\n",
    "each predictor is affecting the predictions. But as always, we should \n",
    "question how well multivariable linear regression is doing compared to\n",
    "the other tools we have, such as simple linear regression \n",
    "and multivariable KNN regression. If this comparison is part of\n",
    "the model tuning process&mdash;for example, if we are trying\n",
    " out many different sets of predictors for multivariable linear\n",
    "and KNN regression&mdash;we must perform this comparison using\n",
    "cross-validation on only our training data. But if we have already\n",
    "decided on a small number (e.g., 2 or 3) of tuned candidate models and\n",
    "we want to make a final comparison, we can do so by comparing the prediction\n",
    "error of the methods on the test data."
   ]
  },
  {
   "cell_type": "code",
   "execution_count": 33,
   "id": "faf7a5a5",
   "metadata": {},
   "outputs": [
    {
     "data": {
      "text/plain": [
       "75766.82243310397"
      ]
     },
     "execution_count": 33,
     "metadata": {},
     "output_type": "execute_result"
    }
   ],
   "source": [
    "lm_mult_test_RMSPE"
   ]
  },
  {
   "cell_type": "markdown",
   "id": "cf18db3d",
   "metadata": {},
   "source": [
    "We obtain an RMSPE \\index{RMSPE} for the multivariable linear regression model \n",
    "of {glue:text}`sacr_mult_RMSPE`. This prediction error\n",
    " is less than the prediction error for the multivariable KNN regression model,\n",
    "indicating that we should likely choose linear regression for predictions of\n",
    "house sale price on this data set. Revisiting the simple linear regression model\n",
    "with only a single predictor from earlier in this chapter, we see that the RMSPE for that model was \n",
    "{glue:text}`sacr_RMSPE`, \n",
    "which is slightly higher than that of our more complex model. Our model with two predictors\n",
    "provided a slightly better fit on test data than our model with just one. \n",
    "As mentioned earlier, this is not always the case: sometimes including more\n",
    "predictors can negatively impact the prediction performance on unseen \n",
    "test data."
   ]
  },
  {
   "cell_type": "markdown",
   "id": "d9c6b505",
   "metadata": {},
   "source": [
    "## Multicollinearity and outliers\n",
    "\n",
    "What can go wrong when performing (possibly multivariable) linear regression? \n",
    "This section will introduce two common issues&mdash;*outliers* and *collinear predictors*&mdash;and \n",
    "illustrate their impact on predictions."
   ]
  },
  {
   "cell_type": "markdown",
   "id": "59b81f16",
   "metadata": {},
   "source": [
    "### Outliers\n",
    "\n",
    "Outliers \\index{outliers} are data points that do not follow the usual pattern of the rest of the data.\n",
    "In the setting of linear regression, these are points that\n",
    " have a vertical distance to the line of best fit that is either much higher or much lower \n",
    "than you might expect based on the rest of the data. The problem with outliers is that\n",
    "they can have *too much influence* on the line of best fit. In general, it is very difficult\n",
    "to judge accurately which data are outliers without advanced techniques that are beyond\n",
    "the scope of this book.\n",
    "\n",
    "But to illustrate what can happen when you have outliers, {numref}`fig:08-lm-outlier`\n",
    "shows a small subset of the Sacramento housing data again, except we have added a *single* data point (highlighted\n",
    "in red). This house is 5,000 square feet in size, and sold for only \\$50,000. Unbeknownst to the\n",
    "data analyst, this house was sold by a parent to their child for an absurdly low price. Of course,\n",
    "this is not representative of the real housing market values that the other data points follow; \n",
    "the data point is an *outlier*. In blue we plot the original line of best fit, and in red\n",
    "we plot the new line of best fit including the outlier. You can see how different the red line\n",
    "is from the blue line, which is entirely caused by that one extra outlier data point."
   ]
  },
  {
   "cell_type": "code",
   "execution_count": 34,
   "id": "24aa0707",
   "metadata": {
    "tags": [
     "remove-cell"
    ]
   },
   "outputs": [
    {
     "ename": "NameError",
     "evalue": "name 'glue' is not defined",
     "output_type": "error",
     "traceback": [
      "\u001b[0;31m---------------------------------------------------------------------------\u001b[0m",
      "\u001b[0;31mNameError\u001b[0m                                 Traceback (most recent call last)",
      "Input \u001b[0;32mIn [34]\u001b[0m, in \u001b[0;36m<cell line: 50>\u001b[0;34m()\u001b[0m\n\u001b[1;32m     28\u001b[0m outlier_line \u001b[38;5;241m=\u001b[39m (\n\u001b[1;32m     29\u001b[0m     (\n\u001b[1;32m     30\u001b[0m         alt\u001b[38;5;241m.\u001b[39mChart(sacramento_concat_df)\n\u001b[0;32m   (...)\u001b[0m\n\u001b[1;32m     45\u001b[0m     \u001b[38;5;241m.\u001b[39mmark_line(color\u001b[38;5;241m=\u001b[39m\u001b[38;5;124m\"\u001b[39m\u001b[38;5;124mred\u001b[39m\u001b[38;5;124m\"\u001b[39m)\n\u001b[1;32m     46\u001b[0m )\n\u001b[1;32m     48\u001b[0m lm_plot_outlier \u001b[38;5;241m+\u001b[39m\u001b[38;5;241m=\u001b[39m outlier_pt \u001b[38;5;241m+\u001b[39m outlier_line\n\u001b[0;32m---> 50\u001b[0m \u001b[43mglue\u001b[49m(\u001b[38;5;124m\"\u001b[39m\u001b[38;5;124mfig:08-lm-outlier\u001b[39m\u001b[38;5;124m\"\u001b[39m, lm_plot_outlier)\n",
      "\u001b[0;31mNameError\u001b[0m: name 'glue' is not defined"
     ]
    }
   ],
   "source": [
    "sacramento_train_small = sacramento_train.sample(100, random_state=2)\n",
    "sacramento_outlier = pd.DataFrame({\"sqft\": [5000], \"price\": [50000]})\n",
    "sacramento_concat_df = pd.concat((sacramento_train_small, sacramento_outlier))\n",
    "\n",
    "lm_plot_outlier = (\n",
    "    alt.Chart(sacramento_train_small)\n",
    "    .mark_circle(color=\"black\", opacity=0.4)\n",
    "    .encode(\n",
    "        x=alt.X(\"sqft\", title=\"House size (square feet)\", scale=alt.Scale(zero=False)),\n",
    "        y=alt.Y(\n",
    "            \"price\",\n",
    "            title=\"Price (USD)\",\n",
    "            axis=alt.Axis(format=\"$,.0f\"),\n",
    "            scale=alt.Scale(zero=False),\n",
    "        ),\n",
    "    )\n",
    ")\n",
    "lm_plot_outlier += lm_plot_outlier.transform_regression(\"sqft\", \"price\").mark_line(\n",
    "    color=\"blue\"\n",
    ")\n",
    "\n",
    "outlier_pt = (\n",
    "    alt.Chart(sacramento_outlier)\n",
    "    .mark_circle(color=\"red\", size=100)\n",
    "    .encode(x=\"sqft\", y=\"price\")\n",
    ")\n",
    "\n",
    "outlier_line = (\n",
    "    (\n",
    "        alt.Chart(sacramento_concat_df)\n",
    "        .mark_circle(color=\"black\", opacity=0.4)\n",
    "        .encode(\n",
    "            x=alt.X(\n",
    "                \"sqft\", title=\"House size (square feet)\", scale=alt.Scale(zero=False)\n",
    "            ),\n",
    "            y=alt.Y(\n",
    "                \"price\",\n",
    "                title=\"Price (USD)\",\n",
    "                axis=alt.Axis(format=\"$,.0f\"),\n",
    "                scale=alt.Scale(zero=False),\n",
    "            ),\n",
    "        )\n",
    "    )\n",
    "    .transform_regression(\"sqft\", \"price\")\n",
    "    .mark_line(color=\"red\")\n",
    ")\n",
    "\n",
    "lm_plot_outlier += outlier_pt + outlier_line\n",
    "\n",
    "glue(\"fig:08-lm-outlier\", lm_plot_outlier)"
   ]
  },
  {
   "cell_type": "markdown",
   "id": "04d01df9",
   "metadata": {},
   "source": [
    ":::{glue:figure} fig:08-lm-outlier\n",
    ":name: fig:08-lm-outlier\n",
    "\n",
    "Scatter plot of a subset of the data, with outlier highlighted in red.\n",
    ":::"
   ]
  },
  {
   "cell_type": "markdown",
   "id": "6e2d4937",
   "metadata": {},
   "source": [
    "Fortunately, if you have enough data, the inclusion of one or two\n",
    "outliers&mdash;as long as their values are not *too* wild&mdash;will\n",
    "typically not have a large effect on the line of best fit. {numref}`fig:08-lm-outlier-2` shows how that same outlier data point from earlier\n",
    "influences the line of best fit when we are working with the entire original\n",
    "Sacramento training data. You can see that with this larger data set, the line\n",
    "changes much less when adding the outlier.\n",
    "Nevertheless, it is still important when working with linear regression to critically\n",
    "think about how much any individual data point is influencing the model."
   ]
  },
  {
   "cell_type": "code",
   "execution_count": 35,
   "id": "737c0d7e",
   "metadata": {
    "tags": [
     "remove-cell"
    ]
   },
   "outputs": [
    {
     "ename": "NameError",
     "evalue": "name 'glue' is not defined",
     "output_type": "error",
     "traceback": [
      "\u001b[0;31m---------------------------------------------------------------------------\u001b[0m",
      "\u001b[0;31mNameError\u001b[0m                                 Traceback (most recent call last)",
      "Input \u001b[0;32mIn [35]\u001b[0m, in \u001b[0;36m<cell line: 42>\u001b[0;34m()\u001b[0m\n\u001b[1;32m     20\u001b[0m outlier_line \u001b[38;5;241m=\u001b[39m (\n\u001b[1;32m     21\u001b[0m     (\n\u001b[1;32m     22\u001b[0m         alt\u001b[38;5;241m.\u001b[39mChart(sacramento_concat_df)\n\u001b[0;32m   (...)\u001b[0m\n\u001b[1;32m     37\u001b[0m     \u001b[38;5;241m.\u001b[39mmark_line(color\u001b[38;5;241m=\u001b[39m\u001b[38;5;124m\"\u001b[39m\u001b[38;5;124mred\u001b[39m\u001b[38;5;124m\"\u001b[39m)\n\u001b[1;32m     38\u001b[0m )\n\u001b[1;32m     40\u001b[0m lm_plot_outlier_large \u001b[38;5;241m+\u001b[39m\u001b[38;5;241m=\u001b[39m outlier_pt \u001b[38;5;241m+\u001b[39m outlier_line\n\u001b[0;32m---> 42\u001b[0m \u001b[43mglue\u001b[49m(\u001b[38;5;124m\"\u001b[39m\u001b[38;5;124mfig:08-lm-outlier-2\u001b[39m\u001b[38;5;124m\"\u001b[39m, lm_plot_outlier_large)\n",
      "\u001b[0;31mNameError\u001b[0m: name 'glue' is not defined"
     ]
    }
   ],
   "source": [
    "sacramento_concat_df = pd.concat((sacramento_train, sacramento_outlier))\n",
    "\n",
    "lm_plot_outlier_large = (\n",
    "    alt.Chart(sacramento_train)\n",
    "    .mark_circle(color=\"black\", opacity=0.4)\n",
    "    .encode(\n",
    "        x=alt.X(\"sqft\", title=\"House size (square feet)\", scale=alt.Scale(zero=False)),\n",
    "        y=alt.Y(\n",
    "            \"price\",\n",
    "            title=\"Price (USD)\",\n",
    "            axis=alt.Axis(format=\"$,.0f\"),\n",
    "            scale=alt.Scale(zero=False),\n",
    "        ),\n",
    "    )\n",
    ")\n",
    "lm_plot_outlier_large += lm_plot_outlier_large.transform_regression(\n",
    "    \"sqft\", \"price\"\n",
    ").mark_line(color=\"blue\")\n",
    "\n",
    "outlier_line = (\n",
    "    (\n",
    "        alt.Chart(sacramento_concat_df)\n",
    "        .mark_circle(color=\"black\", opacity=0.4)\n",
    "        .encode(\n",
    "            x=alt.X(\n",
    "                \"sqft\", title=\"House size (square feet)\", scale=alt.Scale(zero=False)\n",
    "            ),\n",
    "            y=alt.Y(\n",
    "                \"price\",\n",
    "                title=\"Price (USD)\",\n",
    "                axis=alt.Axis(format=\"$,.0f\"),\n",
    "                scale=alt.Scale(zero=False),\n",
    "            ),\n",
    "        )\n",
    "    )\n",
    "    .transform_regression(\"sqft\", \"price\")\n",
    "    .mark_line(color=\"red\")\n",
    ")\n",
    "\n",
    "lm_plot_outlier_large += outlier_pt + outlier_line\n",
    "\n",
    "glue(\"fig:08-lm-outlier-2\", lm_plot_outlier_large)"
   ]
  },
  {
   "cell_type": "markdown",
   "id": "82ae0eaa",
   "metadata": {},
   "source": [
    ":::{glue:figure} fig:08-lm-outlier-2\n",
    ":name: fig:08-lm-outlier-2\n",
    "\n",
    "Scatter plot of the full data, with outlier highlighted in red.\n",
    ":::"
   ]
  },
  {
   "cell_type": "markdown",
   "id": "80511d76",
   "metadata": {},
   "source": [
    "### Multicollinearity\n",
    "\n",
    "The second, and much more subtle, issue can occur when performing multivariable\n",
    "linear regression.  In particular, if you include multiple predictors that are \\index{colinear}\\index{multicolinear|see{colinear}}\n",
    "strongly linearly related to one another, the coefficients that describe the\n",
    "plane of best fit can be very unreliable&mdash;small changes to the data can\n",
    "result in large changes in the coefficients. Consider an extreme example using\n",
    "the Sacramento housing data where the house was measured twice by two people.\n",
    "Since the two people are each slightly inaccurate, the two measurements might\n",
    "not agree exactly, but they are very strongly linearly related to each other,\n",
    "as shown in {numref}`fig:08-lm-multicol`."
   ]
  },
  {
   "cell_type": "code",
   "execution_count": 36,
   "id": "beb06f3d",
   "metadata": {
    "tags": [
     "remove-cell"
    ]
   },
   "outputs": [
    {
     "ename": "NameError",
     "evalue": "name 'glue' is not defined",
     "output_type": "error",
     "traceback": [
      "\u001b[0;31m---------------------------------------------------------------------------\u001b[0m",
      "\u001b[0;31mNameError\u001b[0m                                 Traceback (most recent call last)",
      "Input \u001b[0;32mIn [36]\u001b[0m, in \u001b[0;36m<cell line: 31>\u001b[0;34m()\u001b[0m\n\u001b[1;32m     20\u001b[0m sacramento_train\n\u001b[1;32m     22\u001b[0m lm_plot_multicol_1 \u001b[38;5;241m=\u001b[39m (\n\u001b[1;32m     23\u001b[0m     alt\u001b[38;5;241m.\u001b[39mChart(sacramento_train)\n\u001b[1;32m     24\u001b[0m     \u001b[38;5;241m.\u001b[39mmark_circle(color\u001b[38;5;241m=\u001b[39m\u001b[38;5;124m\"\u001b[39m\u001b[38;5;124mblack\u001b[39m\u001b[38;5;124m\"\u001b[39m, opacity\u001b[38;5;241m=\u001b[39m\u001b[38;5;241m0.4\u001b[39m)\n\u001b[0;32m   (...)\u001b[0m\n\u001b[1;32m     28\u001b[0m     )\n\u001b[1;32m     29\u001b[0m )\n\u001b[0;32m---> 31\u001b[0m \u001b[43mglue\u001b[49m(\u001b[38;5;124m\"\u001b[39m\u001b[38;5;124mfig:08-lm-multicol\u001b[39m\u001b[38;5;124m\"\u001b[39m, lm_plot_multicol_1)\n",
      "\u001b[0;31mNameError\u001b[0m: name 'glue' is not defined"
     ]
    }
   ],
   "source": [
    "np.random.seed(1)\n",
    "sacramento_train = sacramento_train.assign(\n",
    "    sqft1=sacramento_train[\"sqft\"]\n",
    "    + 100\n",
    "    * np.random.choice(range(1000000), size=len(sacramento_train), replace=True)\n",
    "    / 1000000\n",
    ")\n",
    "sacramento_train = sacramento_train.assign(\n",
    "    sqft2=sacramento_train[\"sqft\"]\n",
    "    + 100\n",
    "    * np.random.choice(range(1000000), size=len(sacramento_train), replace=True)\n",
    "    / 1000000\n",
    ")\n",
    "sacramento_train = sacramento_train.assign(\n",
    "    sqft3=sacramento_train[\"sqft\"]\n",
    "    + 100\n",
    "    * np.random.choice(range(1000000), size=len(sacramento_train), replace=True)\n",
    "    / 1000000\n",
    ")\n",
    "sacramento_train\n",
    "\n",
    "lm_plot_multicol_1 = (\n",
    "    alt.Chart(sacramento_train)\n",
    "    .mark_circle(color=\"black\", opacity=0.4)\n",
    "    .encode(\n",
    "        x=alt.X(\"sqft\", title=\"House size measurement 1 (square feet)\"),\n",
    "        y=alt.Y(\"sqft1\", title=\"House size measurement 2 (square feet)\"),\n",
    "    )\n",
    ")\n",
    "\n",
    "glue(\"fig:08-lm-multicol\", lm_plot_multicol_1)"
   ]
  },
  {
   "cell_type": "markdown",
   "id": "0a057d46",
   "metadata": {},
   "source": [
    ":::{glue:figure} fig:08-lm-multicol\n",
    ":name: fig:08-lm-multicol\n",
    "\n",
    "Scatter plot of house size (in square feet) measured by person 1 versus house size (in square feet) measured by person 2.\n",
    ":::"
   ]
  },
  {
   "cell_type": "code",
   "execution_count": 37,
   "id": "909632b9",
   "metadata": {
    "tags": [
     "remove-cell"
    ]
   },
   "outputs": [
    {
     "ename": "NameError",
     "evalue": "name 'glue' is not defined",
     "output_type": "error",
     "traceback": [
      "\u001b[0;31m---------------------------------------------------------------------------\u001b[0m",
      "\u001b[0;31mNameError\u001b[0m                                 Traceback (most recent call last)",
      "Input \u001b[0;32mIn [37]\u001b[0m, in \u001b[0;36m<cell line: 11>\u001b[0;34m()\u001b[0m\n\u001b[1;32m      9\u001b[0m sqft1 \u001b[38;5;241m=\u001b[39m \u001b[38;5;124m\"\u001b[39m\u001b[38;5;132;01m{0:,.0f}\u001b[39;00m\u001b[38;5;124m\"\u001b[39m\u001b[38;5;241m.\u001b[39mformat(lm_fit1\u001b[38;5;241m.\u001b[39mcoef_[\u001b[38;5;241m0\u001b[39m][\u001b[38;5;241m0\u001b[39m])\n\u001b[1;32m     10\u001b[0m sqft11 \u001b[38;5;241m=\u001b[39m \u001b[38;5;124m\"\u001b[39m\u001b[38;5;132;01m{0:,.0f}\u001b[39;00m\u001b[38;5;124m\"\u001b[39m\u001b[38;5;241m.\u001b[39mformat(lm_fit1\u001b[38;5;241m.\u001b[39mcoef_[\u001b[38;5;241m0\u001b[39m][\u001b[38;5;241m1\u001b[39m])\n\u001b[0;32m---> 11\u001b[0m \u001b[43mglue\u001b[49m(\u001b[38;5;124m\"\u001b[39m\u001b[38;5;124micept1\u001b[39m\u001b[38;5;124m\"\u001b[39m, icept1)\n\u001b[1;32m     12\u001b[0m glue(\u001b[38;5;124m\"\u001b[39m\u001b[38;5;124msqft1\u001b[39m\u001b[38;5;124m\"\u001b[39m, sqft1)\n\u001b[1;32m     13\u001b[0m glue(\u001b[38;5;124m\"\u001b[39m\u001b[38;5;124msqft11\u001b[39m\u001b[38;5;124m\"\u001b[39m, sqft11)\n",
      "\u001b[0;31mNameError\u001b[0m: name 'glue' is not defined"
     ]
    }
   ],
   "source": [
    "# first LM\n",
    "lm_fit1 = LinearRegression()\n",
    "X_train = sacramento_train[[\"sqft\", \"sqft1\"]]\n",
    "y_train = sacramento_train[[\"price\"]]\n",
    "\n",
    "lm_fit1.fit(X_train, y_train)\n",
    "\n",
    "icept1 = \"{0:,.0f}\".format(lm_fit1.intercept_[0])\n",
    "sqft1 = \"{0:,.0f}\".format(lm_fit1.coef_[0][0])\n",
    "sqft11 = \"{0:,.0f}\".format(lm_fit1.coef_[0][1])\n",
    "glue(\"icept1\", icept1)\n",
    "glue(\"sqft1\", sqft1)\n",
    "glue(\"sqft11\", sqft11)\n",
    "\n",
    "# second LM\n",
    "lm_fit2 = LinearRegression()\n",
    "X_train = sacramento_train[[\"sqft\", \"sqft2\"]]\n",
    "y_train = sacramento_train[[\"price\"]]\n",
    "\n",
    "lm_fit2.fit(X_train, y_train)\n",
    "\n",
    "icept2 = \"{0:,.0f}\".format(lm_fit2.intercept_[0])\n",
    "sqft2 = \"{0:,.0f}\".format(lm_fit2.coef_[0][0])\n",
    "sqft22 = \"{0:,.0f}\".format(lm_fit2.coef_[0][1])\n",
    "glue(\"icept2\", icept2)\n",
    "glue(\"sqft2\", sqft2)\n",
    "glue(\"sqft22\", sqft22)\n",
    "\n",
    "# third LM\n",
    "lm_fit3 = LinearRegression()\n",
    "X_train = sacramento_train[[\"sqft\", \"sqft3\"]]\n",
    "y_train = sacramento_train[[\"price\"]]\n",
    "\n",
    "lm_fit3.fit(X_train, y_train)\n",
    "\n",
    "icept3 = \"{0:,.0f}\".format(lm_fit3.intercept_[0])\n",
    "sqft3 = \"{0:,.0f}\".format(lm_fit3.coef_[0][0])\n",
    "sqft33 = \"{0:,.0f}\".format(lm_fit3.coef_[0][1])\n",
    "glue(\"icept3\", icept3)\n",
    "glue(\"sqft3\", sqft3)\n",
    "glue(\"sqft33\", sqft33)"
   ]
  },
  {
   "cell_type": "markdown",
   "id": "7b55d2d6",
   "metadata": {},
   "source": [
    " If we again fit the multivariable linear regression model on this data, then the plane of best fit\n",
    "has regression coefficients that are very sensitive to the exact values in the data. For example,\n",
    "if we change the data ever so slightly&mdash;e.g., by running cross-validation, which splits\n",
    "up the data randomly into different chunks&mdash;the coefficients vary by large amounts:\n",
    "\n",
    "Best Fit 1: $\\text{house sale price} =$ {glue:text}`icept1` $+$ {glue:text}`sqft1` $\\cdot (\\text{house size 1}$ $({ft}^2)) +$ {glue:text}`sqft11` $\\cdot (\\text{house size 2}$ $({ft}^2)).$\n",
    "\n",
    "Best Fit 2: $\\text{house sale price} =$ {glue:text}`icept2` $+$ {glue:text}`sqft2` $\\cdot (\\text{house size 1}$ $({ft}^2)) +$ {glue:text}`sqft22` $\\cdot (\\text{house size 2}$ $({ft}^2)).$\n",
    "\n",
    "Best Fit 3: $\\text{house sale price} =$ {glue:text}`icept3` $+$ {glue:text}`sqft3` $\\cdot (\\text{house size 1}$ $({ft}^2)) +$ {glue:text}`sqft33` $\\cdot (\\text{house size 2}$ $({ft}^2)).$\n",
    "\n",
    " Therefore, when performing multivariable linear regression, it is important to avoid including very\n",
    "linearly related predictors. However, techniques for doing so are beyond the scope of this\n",
    "book; see the list of additional resources at the end of this chapter to find out where you can learn more."
   ]
  },
  {
   "cell_type": "markdown",
   "id": "dd1e2f60",
   "metadata": {},
   "source": [
    "## Designing new predictors\n",
    "\n",
    "We were quite fortunate in our initial exploration to find a predictor variable (house size)\n",
    "that seems to have a meaningful and nearly linear relationship with our response variable (sale price).\n",
    "But what should we do if we cannot immediately find such a nice variable?\n",
    "Well, sometimes it is just a fact that the variables in the data do not have enough of \n",
    "a relationship with the response variable to provide useful predictions. For example,\n",
    "if the only available predictor was \"the current house owner's favorite ice cream flavor\",\n",
    "we likely would have little hope of using that variable to predict the house's sale price\n",
    "(barring any future remarkable scientific discoveries about the relationship between \n",
    "the housing market and homeowner ice cream preferences). In cases like these, \n",
    "the only option is to obtain measurements of more useful variables.\n",
    "\n",
    "There are, however, a wide variety of cases where the predictor variables do have a \n",
    "meaningful relationship with the response variable, but that relationship does not fit\n",
    "the assumptions of the regression method you have chosen. For example, a data frame `df`\n",
    "with two variables&mdash;`x` and `y`&mdash;with a nonlinear relationship between the two variables\n",
    "will not be fully captured by simple linear regression, as shown in {numref}`fig:08-predictor-design`."
   ]
  },
  {
   "cell_type": "code",
   "execution_count": 38,
   "id": "151923d1",
   "metadata": {
    "tags": [
     "remove-cell"
    ]
   },
   "outputs": [],
   "source": [
    "np.random.seed(3)\n",
    "df = pd.DataFrame({\"x\": np.random.choice(range(10000), size=100, replace=True) / 10000})\n",
    "df = df.assign(\n",
    "    y=df[\"x\"] ** 3\n",
    "    + 0.2 * np.random.choice(range(10000), size=100, replace=True) / 10000\n",
    "    - 0.1\n",
    ")"
   ]
  },
  {
   "cell_type": "code",
   "execution_count": 39,
   "id": "9fb3c59f",
   "metadata": {},
   "outputs": [
    {
     "data": {
      "text/html": [
       "<div>\n",
       "<style scoped>\n",
       "    .dataframe tbody tr th:only-of-type {\n",
       "        vertical-align: middle;\n",
       "    }\n",
       "\n",
       "    .dataframe tbody tr th {\n",
       "        vertical-align: top;\n",
       "    }\n",
       "\n",
       "    .dataframe thead th {\n",
       "        text-align: right;\n",
       "    }\n",
       "</style>\n",
       "<table border=\"1\" class=\"dataframe\">\n",
       "  <thead>\n",
       "    <tr style=\"text-align: right;\">\n",
       "      <th></th>\n",
       "      <th>x</th>\n",
       "      <th>y</th>\n",
       "    </tr>\n",
       "  </thead>\n",
       "  <tbody>\n",
       "    <tr>\n",
       "      <th>0</th>\n",
       "      <td>0.5994</td>\n",
       "      <td>0.288853</td>\n",
       "    </tr>\n",
       "    <tr>\n",
       "      <th>1</th>\n",
       "      <td>0.1688</td>\n",
       "      <td>0.092090</td>\n",
       "    </tr>\n",
       "    <tr>\n",
       "      <th>2</th>\n",
       "      <td>0.9859</td>\n",
       "      <td>1.021194</td>\n",
       "    </tr>\n",
       "    <tr>\n",
       "      <th>3</th>\n",
       "      <td>0.9160</td>\n",
       "      <td>0.812375</td>\n",
       "    </tr>\n",
       "    <tr>\n",
       "      <th>4</th>\n",
       "      <td>0.6400</td>\n",
       "      <td>0.212624</td>\n",
       "    </tr>\n",
       "    <tr>\n",
       "      <th>...</th>\n",
       "      <td>...</td>\n",
       "      <td>...</td>\n",
       "    </tr>\n",
       "    <tr>\n",
       "      <th>95</th>\n",
       "      <td>0.7341</td>\n",
       "      <td>0.333609</td>\n",
       "    </tr>\n",
       "    <tr>\n",
       "      <th>96</th>\n",
       "      <td>0.8434</td>\n",
       "      <td>0.656970</td>\n",
       "    </tr>\n",
       "    <tr>\n",
       "      <th>97</th>\n",
       "      <td>0.3329</td>\n",
       "      <td>0.106273</td>\n",
       "    </tr>\n",
       "    <tr>\n",
       "      <th>98</th>\n",
       "      <td>0.7170</td>\n",
       "      <td>0.311442</td>\n",
       "    </tr>\n",
       "    <tr>\n",
       "      <th>99</th>\n",
       "      <td>0.7895</td>\n",
       "      <td>0.567003</td>\n",
       "    </tr>\n",
       "  </tbody>\n",
       "</table>\n",
       "<p>100 rows × 2 columns</p>\n",
       "</div>"
      ],
      "text/plain": [
       "         x         y\n",
       "0   0.5994  0.288853\n",
       "1   0.1688  0.092090\n",
       "2   0.9859  1.021194\n",
       "3   0.9160  0.812375\n",
       "4   0.6400  0.212624\n",
       "..     ...       ...\n",
       "95  0.7341  0.333609\n",
       "96  0.8434  0.656970\n",
       "97  0.3329  0.106273\n",
       "98  0.7170  0.311442\n",
       "99  0.7895  0.567003\n",
       "\n",
       "[100 rows x 2 columns]"
      ]
     },
     "execution_count": 39,
     "metadata": {},
     "output_type": "execute_result"
    }
   ],
   "source": [
    "df"
   ]
  },
  {
   "cell_type": "code",
   "execution_count": 40,
   "id": "93d1f4a2",
   "metadata": {
    "tags": [
     "remove-cell"
    ]
   },
   "outputs": [
    {
     "ename": "NameError",
     "evalue": "name 'glue' is not defined",
     "output_type": "error",
     "traceback": [
      "\u001b[0;31m---------------------------------------------------------------------------\u001b[0m",
      "\u001b[0;31mNameError\u001b[0m                                 Traceback (most recent call last)",
      "Input \u001b[0;32mIn [40]\u001b[0m, in \u001b[0;36m<cell line: 16>\u001b[0;34m()\u001b[0m\n\u001b[1;32m      1\u001b[0m curve_plt \u001b[38;5;241m=\u001b[39m (\n\u001b[1;32m      2\u001b[0m     alt\u001b[38;5;241m.\u001b[39mChart(df)\n\u001b[1;32m      3\u001b[0m     \u001b[38;5;241m.\u001b[39mmark_circle(color\u001b[38;5;241m=\u001b[39m\u001b[38;5;124m\"\u001b[39m\u001b[38;5;124mblack\u001b[39m\u001b[38;5;124m\"\u001b[39m)\n\u001b[0;32m   (...)\u001b[0m\n\u001b[1;32m     10\u001b[0m     )\n\u001b[1;32m     11\u001b[0m )\n\u001b[1;32m     14\u001b[0m curve_plt \u001b[38;5;241m+\u001b[39m\u001b[38;5;241m=\u001b[39m curve_plt\u001b[38;5;241m.\u001b[39mtransform_regression(\u001b[38;5;124m\"\u001b[39m\u001b[38;5;124mx\u001b[39m\u001b[38;5;124m\"\u001b[39m, \u001b[38;5;124m\"\u001b[39m\u001b[38;5;124my\u001b[39m\u001b[38;5;124m\"\u001b[39m)\u001b[38;5;241m.\u001b[39mmark_line(color\u001b[38;5;241m=\u001b[39m\u001b[38;5;124m\"\u001b[39m\u001b[38;5;124mblue\u001b[39m\u001b[38;5;124m\"\u001b[39m)\n\u001b[0;32m---> 16\u001b[0m \u001b[43mglue\u001b[49m(\u001b[38;5;124m\"\u001b[39m\u001b[38;5;124mfig:08-predictor-design\u001b[39m\u001b[38;5;124m\"\u001b[39m, curve_plt)\n",
      "\u001b[0;31mNameError\u001b[0m: name 'glue' is not defined"
     ]
    }
   ],
   "source": [
    "curve_plt = (\n",
    "    alt.Chart(df)\n",
    "    .mark_circle(color=\"black\")\n",
    "    .encode(\n",
    "        x=alt.X(\"x\", scale=alt.Scale(zero=False)),\n",
    "        y=alt.Y(\n",
    "            \"y\",\n",
    "            scale=alt.Scale(zero=False),\n",
    "        ),\n",
    "    )\n",
    ")\n",
    "\n",
    "\n",
    "curve_plt += curve_plt.transform_regression(\"x\", \"y\").mark_line(color=\"blue\")\n",
    "\n",
    "glue(\"fig:08-predictor-design\", curve_plt)"
   ]
  },
  {
   "cell_type": "markdown",
   "id": "afb971dc",
   "metadata": {},
   "source": [
    ":::{glue:figure} fig:08-predictor-design\n",
    ":name: fig:08-predictor-design\n",
    "\n",
    "Example of a data set with a nonlinear relationship between the predictor and the response.\n",
    ":::"
   ]
  },
  {
   "cell_type": "markdown",
   "id": "c5918feb",
   "metadata": {},
   "source": [
    "Instead of trying to predict the response `y` using a linear regression on `x`,\n",
    "we might have some scientific background about our problem to suggest that `y`\n",
    "should be a cubic function of `x`. So before performing regression,\n",
    "we might *create a new predictor variable* `z`: \\index{predictor design}"
   ]
  },
  {
   "cell_type": "code",
   "execution_count": 41,
   "id": "bb23cf13",
   "metadata": {},
   "outputs": [],
   "source": [
    "df[\"z\"] = df[\"x\"] ** 3"
   ]
  },
  {
   "cell_type": "markdown",
   "id": "85e95ef3",
   "metadata": {},
   "source": [
    "Then we can perform linear regression for `y` using the predictor variable `z`,\n",
    "as shown in {numref}`fig:08-predictor-design-2`.\n",
    "Here you can see that the transformed predictor `z` helps the \n",
    "linear regression model make more accurate predictions. \n",
    "Note that none of the `y` response values have changed between {numref}`fig:08-predictor-design`\n",
    "and {numref}`fig:08-predictor-design-2`; the only change is that the `x` values\n",
    "have been replaced by `z` values."
   ]
  },
  {
   "cell_type": "code",
   "execution_count": 42,
   "id": "8426637a",
   "metadata": {
    "tags": [
     "remove-cell"
    ]
   },
   "outputs": [
    {
     "ename": "NameError",
     "evalue": "name 'glue' is not defined",
     "output_type": "error",
     "traceback": [
      "\u001b[0;31m---------------------------------------------------------------------------\u001b[0m",
      "\u001b[0;31mNameError\u001b[0m                                 Traceback (most recent call last)",
      "Input \u001b[0;32mIn [42]\u001b[0m, in \u001b[0;36m<cell line: 16>\u001b[0;34m()\u001b[0m\n\u001b[1;32m      1\u001b[0m curve_plt2 \u001b[38;5;241m=\u001b[39m (\n\u001b[1;32m      2\u001b[0m     alt\u001b[38;5;241m.\u001b[39mChart(df)\n\u001b[1;32m      3\u001b[0m     \u001b[38;5;241m.\u001b[39mmark_circle(color\u001b[38;5;241m=\u001b[39m\u001b[38;5;124m\"\u001b[39m\u001b[38;5;124mblack\u001b[39m\u001b[38;5;124m\"\u001b[39m)\n\u001b[0;32m   (...)\u001b[0m\n\u001b[1;32m     10\u001b[0m     )\n\u001b[1;32m     11\u001b[0m )\n\u001b[1;32m     14\u001b[0m curve_plt2 \u001b[38;5;241m+\u001b[39m\u001b[38;5;241m=\u001b[39m curve_plt2\u001b[38;5;241m.\u001b[39mtransform_regression(\u001b[38;5;124m\"\u001b[39m\u001b[38;5;124mz\u001b[39m\u001b[38;5;124m\"\u001b[39m, \u001b[38;5;124m\"\u001b[39m\u001b[38;5;124my\u001b[39m\u001b[38;5;124m\"\u001b[39m)\u001b[38;5;241m.\u001b[39mmark_line(color\u001b[38;5;241m=\u001b[39m\u001b[38;5;124m\"\u001b[39m\u001b[38;5;124mblue\u001b[39m\u001b[38;5;124m\"\u001b[39m)\n\u001b[0;32m---> 16\u001b[0m \u001b[43mglue\u001b[49m(\u001b[38;5;124m\"\u001b[39m\u001b[38;5;124mfig:08-predictor-design-2\u001b[39m\u001b[38;5;124m\"\u001b[39m, curve_plt2)\n",
      "\u001b[0;31mNameError\u001b[0m: name 'glue' is not defined"
     ]
    }
   ],
   "source": [
    "curve_plt2 = (\n",
    "    alt.Chart(df)\n",
    "    .mark_circle(color=\"black\")\n",
    "    .encode(\n",
    "        x=alt.X(\"z\", title=\"z = x³\" ,scale=alt.Scale(zero=False)),\n",
    "        y=alt.Y(\n",
    "            \"y\",\n",
    "            scale=alt.Scale(zero=False),\n",
    "        ),\n",
    "    )\n",
    ")\n",
    "\n",
    "\n",
    "curve_plt2 += curve_plt2.transform_regression(\"z\", \"y\").mark_line(color=\"blue\")\n",
    "\n",
    "glue(\"fig:08-predictor-design-2\", curve_plt2)"
   ]
  },
  {
   "cell_type": "markdown",
   "id": "32788a88",
   "metadata": {},
   "source": [
    ":::{glue:figure} fig:08-predictor-design-2\n",
    ":name: fig:08-predictor-design-2\n",
    "\n",
    "Relationship between the transformed predictor and the response.\n",
    ":::"
   ]
  },
  {
   "cell_type": "markdown",
   "id": "56b60351",
   "metadata": {},
   "source": [
    "The process of\n",
    "transforming predictors (and potentially combining multiple predictors in the process)\n",
    "is known as *feature engineering*. \\index{feature engineering|see{predictor design}} In real data analysis\n",
    "problems, you will need to rely on\n",
    "a deep understanding of the problem&mdash;as well as the wrangling tools \n",
    "from previous chapters&mdash;to engineer useful new features that improve\n",
    "predictive performance.\n",
    "\n",
    "> **Note:** Feature engineering\n",
    "> is *part of tuning your model*, and as such you must not use your test data\n",
    "> to evaluate the quality of the features you produce. You are free to use\n",
    "> cross-validation, though!"
   ]
  },
  {
   "cell_type": "markdown",
   "id": "683f888a",
   "metadata": {},
   "source": [
    "## The other sides of regression\n",
    "\n",
    "So far in this textbook we have used regression only in the context of\n",
    "prediction. However, regression can also be seen as a method to understand and\n",
    "quantify the effects of individual variables on a response / outcome of interest.\n",
    "In the housing example from this chapter, beyond just using past data\n",
    "to predict future sale prices, \n",
    "we might also be interested in describing the\n",
    "individual relationships of house size and the number of bedrooms with house price,\n",
    "quantifying how strong each of these relationships are, and assessing how accurately we\n",
    "can estimate their magnitudes. And even beyond that, we may be interested in \n",
    "understanding whether the predictors *cause* changes in the price.\n",
    "These sides of regression are well beyond the scope of this book; but\n",
    "the material you have learned here should give you a foundation of knowledge\n",
    "that will serve you well when moving to more advanced books on the topic."
   ]
  },
  {
   "cell_type": "markdown",
   "id": "6b0d8c0b",
   "metadata": {},
   "source": [
    "## Exercises\n",
    "\n",
    "Practice exercises for the material covered in this chapter \n",
    "can be found in the accompanying \n",
    "[worksheets repository](https://github.com/UBC-DSCI/data-science-a-first-intro-worksheets#readme)\n",
    "in the \"Regression II: linear regression\" row.\n",
    "You can launch an interactive version of the worksheet in your browser by clicking the \"launch binder\" button.\n",
    "You can also preview a non-interactive version of the worksheet by clicking \"view worksheet.\"\n",
    "If you instead decide to download the worksheet and run it on your own machine,\n",
    "make sure to follow the instructions for computer setup\n",
    "found in Chapter {ref}`move-to-your-own-machine`. This will ensure that the automated feedback\n",
    "and guidance that the worksheets provide will function as intended."
   ]
  },
  {
   "cell_type": "markdown",
   "id": "90251ac0",
   "metadata": {},
   "source": [
    "## Additional resources\n",
    "\n",
    "- The [`scikit-learn` website](https://scikit-learn.org/stable/) is an excellent\n",
    "  reference for more details on, and advanced usage of, the functions and\n",
    "  packages in the past two chapters. Aside from that, it also offers many \n",
    "  useful [tutorials](https://scikit-learn.org/stable/tutorial/index.html) and [an extensive list\n",
    "  of more advanced examples](https://scikit-learn.org/stable/auto_examples/index.html#general-examples)\n",
    "  that you can use to continue learning beyond the scope of this book.\n",
    "- *Modern Dive* [@moderndive] is another textbook that uses the\n",
    "  `tidyverse` / `tidymodels` framework. Chapter 6 complements the material in\n",
    "  the current chapter well; it covers some slightly more advanced concepts than\n",
    "  we do without getting mathematical. Give this chapter a read before moving on\n",
    "  to the next reference. It is also worth noting that this book takes a more\n",
    "  \"explanatory\" / \"inferential\" approach to regression in general (in Chapters 5,\n",
    "  6, and 10), which provides a nice complement to the predictive tack we take in\n",
    "  the present book.\n",
    "- *An Introduction to Statistical Learning* {cite:p}`james2013introduction` provides \n",
    "  a great next stop in the process of\n",
    "  learning about regression. Chapter 3 covers linear regression at a slightly\n",
    "  more mathematical level than we do here, but it is not too large a leap and so\n",
    "  should provide a good stepping stone. Chapter 6 discusses how to pick a subset\n",
    "  of \"informative\" predictors when you have a data set with many predictors, and\n",
    "  you expect only a few of them to be relevant. Chapter 7 covers regression\n",
    "  models that are more flexible than linear regression models but still enjoy the\n",
    "  computational efficiency of linear regression. In contrast, the KNN methods we\n",
    "  covered earlier are indeed more flexible but become very slow when given lots\n",
    "  of data."
   ]
  },
  {
   "cell_type": "code",
   "execution_count": 43,
   "id": "071ff69e",
   "metadata": {
    "tags": [
     "remove-cell"
    ]
   },
   "outputs": [],
   "source": [
    "# ## Additional resources\n",
    "# - The [`tidymodels` website](https://tidymodels.org/packages) is an excellent\n",
    "#   reference for more details on, and advanced usage of, the functions and\n",
    "#   packages in the past two chapters. Aside from that, it also has a [nice\n",
    "#   beginner's tutorial](https://www.tidymodels.org/start/) and [an extensive list\n",
    "#   of more advanced examples](https://www.tidymodels.org/learn/) that you can use\n",
    "#   to continue learning beyond the scope of this book. \n",
    "# - *Modern Dive* [@moderndive] is another textbook that uses the\n",
    "#   `tidyverse` / `tidymodels` framework. Chapter 6 complements the material in\n",
    "#   the current chapter well; it covers some slightly more advanced concepts than\n",
    "#   we do without getting mathematical. Give this chapter a read before moving on\n",
    "#   to the next reference. It is also worth noting that this book takes a more\n",
    "#   \"explanatory\" / \"inferential\" approach to regression in general (in Chapters 5,\n",
    "#   6, and 10), which provides a nice complement to the predictive tack we take in\n",
    "#   the present book.\n",
    "# - *An Introduction to Statistical Learning* [@james2013introduction] provides \n",
    "#   a great next stop in the process of\n",
    "#   learning about regression. Chapter 3 covers linear regression at a slightly\n",
    "#   more mathematical level than we do here, but it is not too large a leap and so\n",
    "#   should provide a good stepping stone. Chapter 6 discusses how to pick a subset\n",
    "#   of \"informative\" predictors when you have a data set with many predictors, and\n",
    "#   you expect only a few of them to be relevant. Chapter 7 covers regression\n",
    "#   models that are more flexible than linear regression models but still enjoy the\n",
    "#   computational efficiency of linear regression. In contrast, the KNN methods we\n",
    "#   covered earlier are indeed more flexible but become very slow when given lots\n",
    "#   of data."
   ]
  },
  {
   "cell_type": "markdown",
   "id": "53cddb16",
   "metadata": {},
   "source": [
    "## References"
   ]
  },
  {
   "cell_type": "markdown",
   "id": "51a25e88",
   "metadata": {},
   "source": [
    "```{bibliography}\n",
    "```"
   ]
  }
 ],
 "metadata": {
  "jupytext": {
   "formats": "py:percent,md:myst,ipynb",
   "text_representation": {
    "extension": ".md",
    "format_name": "myst",
    "format_version": 0.13,
    "jupytext_version": "1.13.5"
   }
  },
  "kernelspec": {
   "display_name": "Python 3 (ipykernel)",
   "language": "python",
   "name": "python3"
  },
  "language_info": {
   "codemirror_mode": {
    "name": "ipython",
    "version": 3
   },
   "file_extension": ".py",
   "mimetype": "text/x-python",
   "name": "python",
   "nbconvert_exporter": "python",
   "pygments_lexer": "ipython3",
   "version": "3.9.12"
  },
  "source_map": [
   13,
   18,
   36,
   56,
   78,
   91,
   106,
   132,
   136,
   144,
   172,
   209,
   214,
   222,
   231,
   264,
   268,
   276,
   286,
   309,
   313,
   321,
   325,
   340,
   354,
   362,
   371,
   376,
   388,
   395,
   406,
   421,
   439,
   443,
   460,
   473,
   497,
   501,
   509,
   523,
   534,
   633,
   637,
   645,
   691,
   695,
   717,
   741,
   745,
   749,
   760,
   764,
   782,
   786,
   793,
   839,
   843,
   852,
   862,
   866,
   868,
   882,
   891,
   909,
   911,
   926,
   934,
   955,
   1008,
   1016,
   1027,
   1072,
   1080,
   1094,
   1128,
   1136,
   1180,
   1197,
   1218,
   1230,
   1234,
   1253,
   1261,
   1268,
   1270,
   1280,
   1299,
   1307,
   1322,
   1340,
   1355,
   1385,
   1414,
   1418
  ]
 },
 "nbformat": 4,
 "nbformat_minor": 5
}