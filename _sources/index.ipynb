{
 "cells": [
  {
   "cell_type": "markdown",
   "id": "b979e710",
   "metadata": {},
   "source": [
    "# Welcome -- TBD\n",
    "\n",
    "This is the [website](https://datasciencebook.ca/) for *Data Science: A First Introduction*. \n",
    "You can read the web version of the book on this site. Click a section in the table of contents\n",
    "on the left side of the page to navigate to it. If you are on a mobile device,\n",
    "you may need to open the table of contents first by clicking the menu button on \n",
    "the top left of the page.\n",
    "You can purchase a PDF or print copy of the book \n",
    "on the [CRC Press website](https://www.routledge.com/Data-Science-A-First-Introduction/Timbers-Campbell-Lee/p/book/9780367524685) or on [Amazon](https://www.amazon.com/Data-Science-First-Introduction-Chapman/dp/0367532174/ref=sr_[…]qid=1644637450&sprefix=data+science+timber%2Caps%2C166&sr=8-1).\n",
    "\n",
    "<img src=\"https://i.creativecommons.org/l/by-nc-sa/4.0/88x31.png\">\n",
    "\n",
    "This work by [Tiffany Timbers](https://www.tiffanytimbers.com/), [Trevor Campbell](https://trevorcampbell.me/), \n",
    "and [Melissa Lee](https://www.stat.ubc.ca/users/melissa-lee) is licensed under \n",
    "a [Creative Commons Attribution-NonCommercial-ShareAlike 4.0 International License](http://creativecommons.org/licenses/by-nc-sa/4.0/)."
   ]
  }
 ],
 "metadata": {
  "jupytext": {
   "cell_metadata_filter": "-all",
   "formats": "py:percent,md:myst,ipynb",
   "text_representation": {
    "extension": ".md",
    "format_name": "myst",
    "format_version": 0.13,
    "jupytext_version": "1.13.8"
   }
  },
  "kernelspec": {
   "display_name": "Python 3 (ipykernel)",
   "language": "python",
   "name": "python3"
  },
  "language_info": {
   "codemirror_mode": {
    "name": "ipython",
    "version": 3
   },
   "file_extension": ".py",
   "mimetype": "text/x-python",
   "name": "python",
   "nbconvert_exporter": "python",
   "pygments_lexer": "ipython3",
   "version": "3.9.12"
  },
  "source_map": [
   14
  ]
 },
 "nbformat": 4,
 "nbformat_minor": 5
}